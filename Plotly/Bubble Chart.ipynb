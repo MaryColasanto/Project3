{
 "cells": [
  {
   "cell_type": "code",
   "execution_count": 1,
   "metadata": {},
   "outputs": [],
   "source": [
    "import pandas as pd\n",
    "import plotly.express as px"
   ]
  },
  {
   "cell_type": "code",
   "execution_count": 3,
   "metadata": {},
   "outputs": [],
   "source": [
    "data_df = pd.read_csv(\"../Resources/cleaned_data.csv\")"
   ]
  },
  {
   "cell_type": "code",
   "execution_count": 4,
   "metadata": {},
   "outputs": [
    {
     "data": {
      "text/html": [
       "<div>\n",
       "<style scoped>\n",
       "    .dataframe tbody tr th:only-of-type {\n",
       "        vertical-align: middle;\n",
       "    }\n",
       "\n",
       "    .dataframe tbody tr th {\n",
       "        vertical-align: top;\n",
       "    }\n",
       "\n",
       "    .dataframe thead th {\n",
       "        text-align: right;\n",
       "    }\n",
       "</style>\n",
       "<table border=\"1\" class=\"dataframe\">\n",
       "  <thead>\n",
       "    <tr style=\"text-align: right;\">\n",
       "      <th></th>\n",
       "      <th>Title</th>\n",
       "      <th>Year</th>\n",
       "      <th>Age</th>\n",
       "      <th>IMDb</th>\n",
       "      <th>Rotten Tomatoes</th>\n",
       "      <th>Netflix</th>\n",
       "      <th>Hulu</th>\n",
       "      <th>Prime Video</th>\n",
       "      <th>Disney+</th>\n",
       "      <th>Directors</th>\n",
       "      <th>Genres</th>\n",
       "      <th>Country</th>\n",
       "      <th>Runtime</th>\n",
       "      <th>production_company</th>\n",
       "      <th>Top_Genres</th>\n",
       "      <th>Top_Director</th>\n",
       "    </tr>\n",
       "  </thead>\n",
       "  <tbody>\n",
       "    <tr>\n",
       "      <th>0</th>\n",
       "      <td>Inception</td>\n",
       "      <td>2010</td>\n",
       "      <td>13+</td>\n",
       "      <td>8.8</td>\n",
       "      <td>8.7</td>\n",
       "      <td>1</td>\n",
       "      <td>0</td>\n",
       "      <td>0</td>\n",
       "      <td>0</td>\n",
       "      <td>Christopher Nolan</td>\n",
       "      <td>Action,Adventure,Sci-Fi,Thriller</td>\n",
       "      <td>United States</td>\n",
       "      <td>148.0</td>\n",
       "      <td>Warner Bros.</td>\n",
       "      <td>Action</td>\n",
       "      <td>Christopher Nolan</td>\n",
       "    </tr>\n",
       "    <tr>\n",
       "      <th>1</th>\n",
       "      <td>The Matrix</td>\n",
       "      <td>1999</td>\n",
       "      <td>18+</td>\n",
       "      <td>8.7</td>\n",
       "      <td>8.7</td>\n",
       "      <td>1</td>\n",
       "      <td>0</td>\n",
       "      <td>0</td>\n",
       "      <td>0</td>\n",
       "      <td>Lana Wachowski,Lilly Wachowski</td>\n",
       "      <td>Action,Sci-Fi</td>\n",
       "      <td>United States</td>\n",
       "      <td>136.0</td>\n",
       "      <td>NaN</td>\n",
       "      <td>Action</td>\n",
       "      <td>Lana Wachowski</td>\n",
       "    </tr>\n",
       "    <tr>\n",
       "      <th>2</th>\n",
       "      <td>Avengers: Infinity War</td>\n",
       "      <td>2018</td>\n",
       "      <td>13+</td>\n",
       "      <td>8.5</td>\n",
       "      <td>8.4</td>\n",
       "      <td>1</td>\n",
       "      <td>0</td>\n",
       "      <td>0</td>\n",
       "      <td>0</td>\n",
       "      <td>Anthony Russo,Joe Russo</td>\n",
       "      <td>Action,Adventure,Sci-Fi</td>\n",
       "      <td>United States</td>\n",
       "      <td>149.0</td>\n",
       "      <td>NaN</td>\n",
       "      <td>Action</td>\n",
       "      <td>Anthony Russo</td>\n",
       "    </tr>\n",
       "    <tr>\n",
       "      <th>3</th>\n",
       "      <td>Back to the Future</td>\n",
       "      <td>1985</td>\n",
       "      <td>7+</td>\n",
       "      <td>8.5</td>\n",
       "      <td>9.6</td>\n",
       "      <td>1</td>\n",
       "      <td>0</td>\n",
       "      <td>0</td>\n",
       "      <td>0</td>\n",
       "      <td>Robert Zemeckis</td>\n",
       "      <td>Adventure,Comedy,Sci-Fi</td>\n",
       "      <td>United States</td>\n",
       "      <td>116.0</td>\n",
       "      <td>NaN</td>\n",
       "      <td>Adventure</td>\n",
       "      <td>Robert Zemeckis</td>\n",
       "    </tr>\n",
       "    <tr>\n",
       "      <th>4</th>\n",
       "      <td>The Good, the Bad and the Ugly</td>\n",
       "      <td>1966</td>\n",
       "      <td>18+</td>\n",
       "      <td>8.8</td>\n",
       "      <td>9.7</td>\n",
       "      <td>1</td>\n",
       "      <td>0</td>\n",
       "      <td>1</td>\n",
       "      <td>0</td>\n",
       "      <td>Sergio Leone</td>\n",
       "      <td>Western</td>\n",
       "      <td>Italy</td>\n",
       "      <td>161.0</td>\n",
       "      <td>NaN</td>\n",
       "      <td>Western</td>\n",
       "      <td>Sergio Leone</td>\n",
       "    </tr>\n",
       "    <tr>\n",
       "      <th>...</th>\n",
       "      <td>...</td>\n",
       "      <td>...</td>\n",
       "      <td>...</td>\n",
       "      <td>...</td>\n",
       "      <td>...</td>\n",
       "      <td>...</td>\n",
       "      <td>...</td>\n",
       "      <td>...</td>\n",
       "      <td>...</td>\n",
       "      <td>...</td>\n",
       "      <td>...</td>\n",
       "      <td>...</td>\n",
       "      <td>...</td>\n",
       "      <td>...</td>\n",
       "      <td>...</td>\n",
       "      <td>...</td>\n",
       "    </tr>\n",
       "    <tr>\n",
       "      <th>16742</th>\n",
       "      <td>The Ghosts of Buxley Hall</td>\n",
       "      <td>1980</td>\n",
       "      <td>NaN</td>\n",
       "      <td>6.2</td>\n",
       "      <td>NaN</td>\n",
       "      <td>0</td>\n",
       "      <td>0</td>\n",
       "      <td>0</td>\n",
       "      <td>1</td>\n",
       "      <td>Bruce Bilson</td>\n",
       "      <td>Comedy,Family,Fantasy,Horror</td>\n",
       "      <td>United States</td>\n",
       "      <td>120.0</td>\n",
       "      <td>NaN</td>\n",
       "      <td>Comedy</td>\n",
       "      <td>Bruce Bilson</td>\n",
       "    </tr>\n",
       "    <tr>\n",
       "      <th>16743</th>\n",
       "      <td>The Poof Point</td>\n",
       "      <td>2001</td>\n",
       "      <td>7+</td>\n",
       "      <td>4.7</td>\n",
       "      <td>NaN</td>\n",
       "      <td>0</td>\n",
       "      <td>0</td>\n",
       "      <td>0</td>\n",
       "      <td>1</td>\n",
       "      <td>Neal Israel</td>\n",
       "      <td>Comedy,Family,Sci-Fi</td>\n",
       "      <td>United States</td>\n",
       "      <td>90.0</td>\n",
       "      <td>NaN</td>\n",
       "      <td>Comedy</td>\n",
       "      <td>Neal Israel</td>\n",
       "    </tr>\n",
       "    <tr>\n",
       "      <th>16744</th>\n",
       "      <td>Sharks of Lost Island</td>\n",
       "      <td>2013</td>\n",
       "      <td>NaN</td>\n",
       "      <td>5.7</td>\n",
       "      <td>NaN</td>\n",
       "      <td>0</td>\n",
       "      <td>0</td>\n",
       "      <td>0</td>\n",
       "      <td>1</td>\n",
       "      <td>Neil Gelinas</td>\n",
       "      <td>Documentary</td>\n",
       "      <td>United States</td>\n",
       "      <td>NaN</td>\n",
       "      <td>NaN</td>\n",
       "      <td>Documentary</td>\n",
       "      <td>Neil Gelinas</td>\n",
       "    </tr>\n",
       "    <tr>\n",
       "      <th>16745</th>\n",
       "      <td>Man Among Cheetahs</td>\n",
       "      <td>2017</td>\n",
       "      <td>NaN</td>\n",
       "      <td>6.6</td>\n",
       "      <td>NaN</td>\n",
       "      <td>0</td>\n",
       "      <td>0</td>\n",
       "      <td>0</td>\n",
       "      <td>1</td>\n",
       "      <td>Richard Slater-Jones</td>\n",
       "      <td>Documentary</td>\n",
       "      <td>United States</td>\n",
       "      <td>NaN</td>\n",
       "      <td>NaN</td>\n",
       "      <td>Documentary</td>\n",
       "      <td>Richard Slater-Jones</td>\n",
       "    </tr>\n",
       "    <tr>\n",
       "      <th>16746</th>\n",
       "      <td>In Beaver Valley</td>\n",
       "      <td>1950</td>\n",
       "      <td>NaN</td>\n",
       "      <td>NaN</td>\n",
       "      <td>NaN</td>\n",
       "      <td>0</td>\n",
       "      <td>0</td>\n",
       "      <td>0</td>\n",
       "      <td>1</td>\n",
       "      <td>James Algar</td>\n",
       "      <td>Documentary,Short,Family</td>\n",
       "      <td>United States</td>\n",
       "      <td>32.0</td>\n",
       "      <td>NaN</td>\n",
       "      <td>Documentary</td>\n",
       "      <td>James Algar</td>\n",
       "    </tr>\n",
       "  </tbody>\n",
       "</table>\n",
       "<p>16747 rows × 16 columns</p>\n",
       "</div>"
      ],
      "text/plain": [
       "                                Title  Year  Age  IMDb  Rotten Tomatoes  \\\n",
       "0                           Inception  2010  13+   8.8              8.7   \n",
       "1                          The Matrix  1999  18+   8.7              8.7   \n",
       "2              Avengers: Infinity War  2018  13+   8.5              8.4   \n",
       "3                  Back to the Future  1985   7+   8.5              9.6   \n",
       "4      The Good, the Bad and the Ugly  1966  18+   8.8              9.7   \n",
       "...                               ...   ...  ...   ...              ...   \n",
       "16742       The Ghosts of Buxley Hall  1980  NaN   6.2              NaN   \n",
       "16743                  The Poof Point  2001   7+   4.7              NaN   \n",
       "16744           Sharks of Lost Island  2013  NaN   5.7              NaN   \n",
       "16745              Man Among Cheetahs  2017  NaN   6.6              NaN   \n",
       "16746                In Beaver Valley  1950  NaN   NaN              NaN   \n",
       "\n",
       "       Netflix  Hulu  Prime Video  Disney+                       Directors  \\\n",
       "0            1     0            0        0               Christopher Nolan   \n",
       "1            1     0            0        0  Lana Wachowski,Lilly Wachowski   \n",
       "2            1     0            0        0         Anthony Russo,Joe Russo   \n",
       "3            1     0            0        0                 Robert Zemeckis   \n",
       "4            1     0            1        0                    Sergio Leone   \n",
       "...        ...   ...          ...      ...                             ...   \n",
       "16742        0     0            0        1                    Bruce Bilson   \n",
       "16743        0     0            0        1                     Neal Israel   \n",
       "16744        0     0            0        1                    Neil Gelinas   \n",
       "16745        0     0            0        1            Richard Slater-Jones   \n",
       "16746        0     0            0        1                     James Algar   \n",
       "\n",
       "                                 Genres        Country  Runtime  \\\n",
       "0      Action,Adventure,Sci-Fi,Thriller  United States    148.0   \n",
       "1                         Action,Sci-Fi  United States    136.0   \n",
       "2               Action,Adventure,Sci-Fi  United States    149.0   \n",
       "3               Adventure,Comedy,Sci-Fi  United States    116.0   \n",
       "4                               Western          Italy    161.0   \n",
       "...                                 ...            ...      ...   \n",
       "16742      Comedy,Family,Fantasy,Horror  United States    120.0   \n",
       "16743              Comedy,Family,Sci-Fi  United States     90.0   \n",
       "16744                       Documentary  United States      NaN   \n",
       "16745                       Documentary  United States      NaN   \n",
       "16746          Documentary,Short,Family  United States     32.0   \n",
       "\n",
       "      production_company   Top_Genres          Top_Director  \n",
       "0           Warner Bros.       Action     Christopher Nolan  \n",
       "1                    NaN       Action        Lana Wachowski  \n",
       "2                    NaN       Action         Anthony Russo  \n",
       "3                    NaN    Adventure       Robert Zemeckis  \n",
       "4                    NaN      Western          Sergio Leone  \n",
       "...                  ...          ...                   ...  \n",
       "16742                NaN       Comedy          Bruce Bilson  \n",
       "16743                NaN       Comedy           Neal Israel  \n",
       "16744                NaN  Documentary          Neil Gelinas  \n",
       "16745                NaN  Documentary  Richard Slater-Jones  \n",
       "16746                NaN  Documentary           James Algar  \n",
       "\n",
       "[16747 rows x 16 columns]"
      ]
     },
     "execution_count": 4,
     "metadata": {},
     "output_type": "execute_result"
    }
   ],
   "source": [
    "data_df"
   ]
  },
  {
   "cell_type": "code",
   "execution_count": null,
   "metadata": {},
   "outputs": [],
   "source": [
    "fig = px.scatter(data_df.query(\"Netflix==1\"), x=\"Runtime\", y=\"IMDb\",\n",
    "             size=\"IMDb\", color=\"Title\",\n",
    "                 hover_name=\"Title\", log_x=True, size_max=60)\n",
    "fig.show()"
   ]
  },
  {
   "cell_type": "code",
   "execution_count": 10,
   "metadata": {
    "scrolled": false
   },
   "outputs": [
    {
     "data": {
      "text/html": [
       "<div>\n",
       "<style scoped>\n",
       "    .dataframe tbody tr th:only-of-type {\n",
       "        vertical-align: middle;\n",
       "    }\n",
       "\n",
       "    .dataframe tbody tr th {\n",
       "        vertical-align: top;\n",
       "    }\n",
       "\n",
       "    .dataframe thead th {\n",
       "        text-align: right;\n",
       "    }\n",
       "</style>\n",
       "<table border=\"1\" class=\"dataframe\">\n",
       "  <thead>\n",
       "    <tr style=\"text-align: right;\">\n",
       "      <th></th>\n",
       "      <th>Title</th>\n",
       "      <th>Year</th>\n",
       "      <th>Age</th>\n",
       "      <th>IMDb</th>\n",
       "      <th>Rotten Tomatoes</th>\n",
       "      <th>Netflix</th>\n",
       "      <th>Hulu</th>\n",
       "      <th>Prime Video</th>\n",
       "      <th>Disney+</th>\n",
       "      <th>Directors</th>\n",
       "      <th>Genres</th>\n",
       "      <th>Country</th>\n",
       "      <th>Runtime</th>\n",
       "      <th>production_company</th>\n",
       "      <th>Top_Genres</th>\n",
       "      <th>Top_Director</th>\n",
       "    </tr>\n",
       "  </thead>\n",
       "  <tbody>\n",
       "    <tr>\n",
       "      <th>95</th>\n",
       "      <td>Saving Mr. Banks</td>\n",
       "      <td>2013</td>\n",
       "      <td>13+</td>\n",
       "      <td>7.5</td>\n",
       "      <td>7.9</td>\n",
       "      <td>1</td>\n",
       "      <td>0</td>\n",
       "      <td>0</td>\n",
       "      <td>1</td>\n",
       "      <td>John Lee Hancock</td>\n",
       "      <td>Biography,Comedy,Drama</td>\n",
       "      <td>United States</td>\n",
       "      <td>125.0</td>\n",
       "      <td>Walt Disney Pictures</td>\n",
       "      <td>Biography</td>\n",
       "      <td>John Lee Hancock</td>\n",
       "    </tr>\n",
       "    <tr>\n",
       "      <th>103</th>\n",
       "      <td>Amy</td>\n",
       "      <td>2015</td>\n",
       "      <td>18+</td>\n",
       "      <td>7.8</td>\n",
       "      <td>9.5</td>\n",
       "      <td>1</td>\n",
       "      <td>0</td>\n",
       "      <td>1</td>\n",
       "      <td>1</td>\n",
       "      <td>NaN</td>\n",
       "      <td>Drama</td>\n",
       "      <td>United States</td>\n",
       "      <td>60.0</td>\n",
       "      <td>NaN</td>\n",
       "      <td>Drama</td>\n",
       "      <td>NaN</td>\n",
       "    </tr>\n",
       "    <tr>\n",
       "      <th>122</th>\n",
       "      <td>Bolt</td>\n",
       "      <td>2008</td>\n",
       "      <td>7+</td>\n",
       "      <td>6.8</td>\n",
       "      <td>8.9</td>\n",
       "      <td>1</td>\n",
       "      <td>0</td>\n",
       "      <td>0</td>\n",
       "      <td>1</td>\n",
       "      <td>Byron Howard,Chris Williams</td>\n",
       "      <td>Animation,Adventure,Comedy,Drama,Family</td>\n",
       "      <td>United States</td>\n",
       "      <td>96.0</td>\n",
       "      <td>NaN</td>\n",
       "      <td>Animation</td>\n",
       "      <td>Byron Howard</td>\n",
       "    </tr>\n",
       "    <tr>\n",
       "      <th>125</th>\n",
       "      <td>The Princess and the Frog</td>\n",
       "      <td>2009</td>\n",
       "      <td>all</td>\n",
       "      <td>7.1</td>\n",
       "      <td>8.5</td>\n",
       "      <td>1</td>\n",
       "      <td>0</td>\n",
       "      <td>0</td>\n",
       "      <td>1</td>\n",
       "      <td>Ron Clements,John Musker</td>\n",
       "      <td>Animation,Adventure,Comedy,Family,Fantasy,Musi...</td>\n",
       "      <td>United States</td>\n",
       "      <td>97.0</td>\n",
       "      <td>NaN</td>\n",
       "      <td>Animation</td>\n",
       "      <td>Ron Clements</td>\n",
       "    </tr>\n",
       "    <tr>\n",
       "      <th>150</th>\n",
       "      <td>Miracle</td>\n",
       "      <td>2004</td>\n",
       "      <td>7+</td>\n",
       "      <td>7.5</td>\n",
       "      <td>8.1</td>\n",
       "      <td>1</td>\n",
       "      <td>0</td>\n",
       "      <td>0</td>\n",
       "      <td>1</td>\n",
       "      <td>Gavin O'Connor</td>\n",
       "      <td>Biography,Drama,History,Sport</td>\n",
       "      <td>Canada</td>\n",
       "      <td>135.0</td>\n",
       "      <td>Pop Pop Productions</td>\n",
       "      <td>Biography</td>\n",
       "      <td>Gavin O'Connor</td>\n",
       "    </tr>\n",
       "    <tr>\n",
       "      <th>...</th>\n",
       "      <td>...</td>\n",
       "      <td>...</td>\n",
       "      <td>...</td>\n",
       "      <td>...</td>\n",
       "      <td>...</td>\n",
       "      <td>...</td>\n",
       "      <td>...</td>\n",
       "      <td>...</td>\n",
       "      <td>...</td>\n",
       "      <td>...</td>\n",
       "      <td>...</td>\n",
       "      <td>...</td>\n",
       "      <td>...</td>\n",
       "      <td>...</td>\n",
       "      <td>...</td>\n",
       "      <td>...</td>\n",
       "    </tr>\n",
       "    <tr>\n",
       "      <th>16742</th>\n",
       "      <td>The Ghosts of Buxley Hall</td>\n",
       "      <td>1980</td>\n",
       "      <td>NaN</td>\n",
       "      <td>6.2</td>\n",
       "      <td>NaN</td>\n",
       "      <td>0</td>\n",
       "      <td>0</td>\n",
       "      <td>0</td>\n",
       "      <td>1</td>\n",
       "      <td>Bruce Bilson</td>\n",
       "      <td>Comedy,Family,Fantasy,Horror</td>\n",
       "      <td>United States</td>\n",
       "      <td>120.0</td>\n",
       "      <td>NaN</td>\n",
       "      <td>Comedy</td>\n",
       "      <td>Bruce Bilson</td>\n",
       "    </tr>\n",
       "    <tr>\n",
       "      <th>16743</th>\n",
       "      <td>The Poof Point</td>\n",
       "      <td>2001</td>\n",
       "      <td>7+</td>\n",
       "      <td>4.7</td>\n",
       "      <td>NaN</td>\n",
       "      <td>0</td>\n",
       "      <td>0</td>\n",
       "      <td>0</td>\n",
       "      <td>1</td>\n",
       "      <td>Neal Israel</td>\n",
       "      <td>Comedy,Family,Sci-Fi</td>\n",
       "      <td>United States</td>\n",
       "      <td>90.0</td>\n",
       "      <td>NaN</td>\n",
       "      <td>Comedy</td>\n",
       "      <td>Neal Israel</td>\n",
       "    </tr>\n",
       "    <tr>\n",
       "      <th>16744</th>\n",
       "      <td>Sharks of Lost Island</td>\n",
       "      <td>2013</td>\n",
       "      <td>NaN</td>\n",
       "      <td>5.7</td>\n",
       "      <td>NaN</td>\n",
       "      <td>0</td>\n",
       "      <td>0</td>\n",
       "      <td>0</td>\n",
       "      <td>1</td>\n",
       "      <td>Neil Gelinas</td>\n",
       "      <td>Documentary</td>\n",
       "      <td>United States</td>\n",
       "      <td>NaN</td>\n",
       "      <td>NaN</td>\n",
       "      <td>Documentary</td>\n",
       "      <td>Neil Gelinas</td>\n",
       "    </tr>\n",
       "    <tr>\n",
       "      <th>16745</th>\n",
       "      <td>Man Among Cheetahs</td>\n",
       "      <td>2017</td>\n",
       "      <td>NaN</td>\n",
       "      <td>6.6</td>\n",
       "      <td>NaN</td>\n",
       "      <td>0</td>\n",
       "      <td>0</td>\n",
       "      <td>0</td>\n",
       "      <td>1</td>\n",
       "      <td>Richard Slater-Jones</td>\n",
       "      <td>Documentary</td>\n",
       "      <td>United States</td>\n",
       "      <td>NaN</td>\n",
       "      <td>NaN</td>\n",
       "      <td>Documentary</td>\n",
       "      <td>Richard Slater-Jones</td>\n",
       "    </tr>\n",
       "    <tr>\n",
       "      <th>16746</th>\n",
       "      <td>In Beaver Valley</td>\n",
       "      <td>1950</td>\n",
       "      <td>NaN</td>\n",
       "      <td>NaN</td>\n",
       "      <td>NaN</td>\n",
       "      <td>0</td>\n",
       "      <td>0</td>\n",
       "      <td>0</td>\n",
       "      <td>1</td>\n",
       "      <td>James Algar</td>\n",
       "      <td>Documentary,Short,Family</td>\n",
       "      <td>United States</td>\n",
       "      <td>32.0</td>\n",
       "      <td>NaN</td>\n",
       "      <td>Documentary</td>\n",
       "      <td>James Algar</td>\n",
       "    </tr>\n",
       "  </tbody>\n",
       "</table>\n",
       "<p>564 rows × 16 columns</p>\n",
       "</div>"
      ],
      "text/plain": [
       "                           Title  Year  Age  IMDb  Rotten Tomatoes  Netflix  \\\n",
       "95              Saving Mr. Banks  2013  13+   7.5              7.9        1   \n",
       "103                          Amy  2015  18+   7.8              9.5        1   \n",
       "122                         Bolt  2008   7+   6.8              8.9        1   \n",
       "125    The Princess and the Frog  2009  all   7.1              8.5        1   \n",
       "150                      Miracle  2004   7+   7.5              8.1        1   \n",
       "...                          ...   ...  ...   ...              ...      ...   \n",
       "16742  The Ghosts of Buxley Hall  1980  NaN   6.2              NaN        0   \n",
       "16743             The Poof Point  2001   7+   4.7              NaN        0   \n",
       "16744      Sharks of Lost Island  2013  NaN   5.7              NaN        0   \n",
       "16745         Man Among Cheetahs  2017  NaN   6.6              NaN        0   \n",
       "16746           In Beaver Valley  1950  NaN   NaN              NaN        0   \n",
       "\n",
       "       Hulu  Prime Video  Disney+                    Directors  \\\n",
       "95        0            0        1             John Lee Hancock   \n",
       "103       0            1        1                          NaN   \n",
       "122       0            0        1  Byron Howard,Chris Williams   \n",
       "125       0            0        1     Ron Clements,John Musker   \n",
       "150       0            0        1               Gavin O'Connor   \n",
       "...     ...          ...      ...                          ...   \n",
       "16742     0            0        1                 Bruce Bilson   \n",
       "16743     0            0        1                  Neal Israel   \n",
       "16744     0            0        1                 Neil Gelinas   \n",
       "16745     0            0        1         Richard Slater-Jones   \n",
       "16746     0            0        1                  James Algar   \n",
       "\n",
       "                                                  Genres        Country  \\\n",
       "95                                Biography,Comedy,Drama  United States   \n",
       "103                                                Drama  United States   \n",
       "122              Animation,Adventure,Comedy,Drama,Family  United States   \n",
       "125    Animation,Adventure,Comedy,Family,Fantasy,Musi...  United States   \n",
       "150                        Biography,Drama,History,Sport         Canada   \n",
       "...                                                  ...            ...   \n",
       "16742                       Comedy,Family,Fantasy,Horror  United States   \n",
       "16743                               Comedy,Family,Sci-Fi  United States   \n",
       "16744                                        Documentary  United States   \n",
       "16745                                        Documentary  United States   \n",
       "16746                           Documentary,Short,Family  United States   \n",
       "\n",
       "       Runtime    production_company   Top_Genres          Top_Director  \n",
       "95       125.0  Walt Disney Pictures    Biography      John Lee Hancock  \n",
       "103       60.0                   NaN        Drama                   NaN  \n",
       "122       96.0                   NaN    Animation          Byron Howard  \n",
       "125       97.0                   NaN    Animation          Ron Clements  \n",
       "150      135.0   Pop Pop Productions    Biography        Gavin O'Connor  \n",
       "...        ...                   ...          ...                   ...  \n",
       "16742    120.0                   NaN       Comedy          Bruce Bilson  \n",
       "16743     90.0                   NaN       Comedy           Neal Israel  \n",
       "16744      NaN                   NaN  Documentary          Neil Gelinas  \n",
       "16745      NaN                   NaN  Documentary  Richard Slater-Jones  \n",
       "16746     32.0                   NaN  Documentary           James Algar  \n",
       "\n",
       "[564 rows x 16 columns]"
      ]
     },
     "execution_count": 10,
     "metadata": {},
     "output_type": "execute_result"
    }
   ],
   "source": [
    "data_df.loc[data_df[\"Disney+\"] == 1]"
   ]
  },
  {
   "cell_type": "code",
   "execution_count": null,
   "metadata": {},
   "outputs": [],
   "source": [
    "hey_arnold_renamed_df = hey_arnold_df.rename(columns={\"Character_in_show\": \"Character\",\n",
    "                                                \"color_of_hair\": \"Hair Color\",\n",
    "                                                \"Height\": \"Height\",\n",
    "                                                \"Football_Shaped_Head\": \"Football Head\"\n",
    "                                                })\n"
   ]
  },
  {
   "cell_type": "code",
   "execution_count": 14,
   "metadata": {},
   "outputs": [
    {
     "data": {
      "text/html": [
       "<div>\n",
       "<style scoped>\n",
       "    .dataframe tbody tr th:only-of-type {\n",
       "        vertical-align: middle;\n",
       "    }\n",
       "\n",
       "    .dataframe tbody tr th {\n",
       "        vertical-align: top;\n",
       "    }\n",
       "\n",
       "    .dataframe thead th {\n",
       "        text-align: right;\n",
       "    }\n",
       "</style>\n",
       "<table border=\"1\" class=\"dataframe\">\n",
       "  <thead>\n",
       "    <tr style=\"text-align: right;\">\n",
       "      <th></th>\n",
       "      <th>Title</th>\n",
       "      <th>Year</th>\n",
       "      <th>Age</th>\n",
       "      <th>IMDb</th>\n",
       "      <th>Rotten Tomatoes</th>\n",
       "      <th>Netflix</th>\n",
       "      <th>Hulu</th>\n",
       "      <th>Prime Video</th>\n",
       "      <th>Disney</th>\n",
       "      <th>Directors</th>\n",
       "      <th>Genres</th>\n",
       "      <th>Country</th>\n",
       "      <th>Runtime</th>\n",
       "      <th>production_company</th>\n",
       "      <th>Top_Genres</th>\n",
       "      <th>Top_Director</th>\n",
       "    </tr>\n",
       "  </thead>\n",
       "  <tbody>\n",
       "    <tr>\n",
       "      <th>0</th>\n",
       "      <td>Inception</td>\n",
       "      <td>2010</td>\n",
       "      <td>13+</td>\n",
       "      <td>8.8</td>\n",
       "      <td>8.7</td>\n",
       "      <td>1</td>\n",
       "      <td>0</td>\n",
       "      <td>0</td>\n",
       "      <td>0</td>\n",
       "      <td>Christopher Nolan</td>\n",
       "      <td>Action,Adventure,Sci-Fi,Thriller</td>\n",
       "      <td>United States</td>\n",
       "      <td>148.0</td>\n",
       "      <td>Warner Bros.</td>\n",
       "      <td>Action</td>\n",
       "      <td>Christopher Nolan</td>\n",
       "    </tr>\n",
       "    <tr>\n",
       "      <th>1</th>\n",
       "      <td>The Matrix</td>\n",
       "      <td>1999</td>\n",
       "      <td>18+</td>\n",
       "      <td>8.7</td>\n",
       "      <td>8.7</td>\n",
       "      <td>1</td>\n",
       "      <td>0</td>\n",
       "      <td>0</td>\n",
       "      <td>0</td>\n",
       "      <td>Lana Wachowski,Lilly Wachowski</td>\n",
       "      <td>Action,Sci-Fi</td>\n",
       "      <td>United States</td>\n",
       "      <td>136.0</td>\n",
       "      <td>NaN</td>\n",
       "      <td>Action</td>\n",
       "      <td>Lana Wachowski</td>\n",
       "    </tr>\n",
       "    <tr>\n",
       "      <th>2</th>\n",
       "      <td>Avengers: Infinity War</td>\n",
       "      <td>2018</td>\n",
       "      <td>13+</td>\n",
       "      <td>8.5</td>\n",
       "      <td>8.4</td>\n",
       "      <td>1</td>\n",
       "      <td>0</td>\n",
       "      <td>0</td>\n",
       "      <td>0</td>\n",
       "      <td>Anthony Russo,Joe Russo</td>\n",
       "      <td>Action,Adventure,Sci-Fi</td>\n",
       "      <td>United States</td>\n",
       "      <td>149.0</td>\n",
       "      <td>NaN</td>\n",
       "      <td>Action</td>\n",
       "      <td>Anthony Russo</td>\n",
       "    </tr>\n",
       "    <tr>\n",
       "      <th>3</th>\n",
       "      <td>Back to the Future</td>\n",
       "      <td>1985</td>\n",
       "      <td>7+</td>\n",
       "      <td>8.5</td>\n",
       "      <td>9.6</td>\n",
       "      <td>1</td>\n",
       "      <td>0</td>\n",
       "      <td>0</td>\n",
       "      <td>0</td>\n",
       "      <td>Robert Zemeckis</td>\n",
       "      <td>Adventure,Comedy,Sci-Fi</td>\n",
       "      <td>United States</td>\n",
       "      <td>116.0</td>\n",
       "      <td>NaN</td>\n",
       "      <td>Adventure</td>\n",
       "      <td>Robert Zemeckis</td>\n",
       "    </tr>\n",
       "    <tr>\n",
       "      <th>4</th>\n",
       "      <td>The Good, the Bad and the Ugly</td>\n",
       "      <td>1966</td>\n",
       "      <td>18+</td>\n",
       "      <td>8.8</td>\n",
       "      <td>9.7</td>\n",
       "      <td>1</td>\n",
       "      <td>0</td>\n",
       "      <td>1</td>\n",
       "      <td>0</td>\n",
       "      <td>Sergio Leone</td>\n",
       "      <td>Western</td>\n",
       "      <td>Italy</td>\n",
       "      <td>161.0</td>\n",
       "      <td>NaN</td>\n",
       "      <td>Western</td>\n",
       "      <td>Sergio Leone</td>\n",
       "    </tr>\n",
       "    <tr>\n",
       "      <th>...</th>\n",
       "      <td>...</td>\n",
       "      <td>...</td>\n",
       "      <td>...</td>\n",
       "      <td>...</td>\n",
       "      <td>...</td>\n",
       "      <td>...</td>\n",
       "      <td>...</td>\n",
       "      <td>...</td>\n",
       "      <td>...</td>\n",
       "      <td>...</td>\n",
       "      <td>...</td>\n",
       "      <td>...</td>\n",
       "      <td>...</td>\n",
       "      <td>...</td>\n",
       "      <td>...</td>\n",
       "      <td>...</td>\n",
       "    </tr>\n",
       "    <tr>\n",
       "      <th>16742</th>\n",
       "      <td>The Ghosts of Buxley Hall</td>\n",
       "      <td>1980</td>\n",
       "      <td>NaN</td>\n",
       "      <td>6.2</td>\n",
       "      <td>NaN</td>\n",
       "      <td>0</td>\n",
       "      <td>0</td>\n",
       "      <td>0</td>\n",
       "      <td>1</td>\n",
       "      <td>Bruce Bilson</td>\n",
       "      <td>Comedy,Family,Fantasy,Horror</td>\n",
       "      <td>United States</td>\n",
       "      <td>120.0</td>\n",
       "      <td>NaN</td>\n",
       "      <td>Comedy</td>\n",
       "      <td>Bruce Bilson</td>\n",
       "    </tr>\n",
       "    <tr>\n",
       "      <th>16743</th>\n",
       "      <td>The Poof Point</td>\n",
       "      <td>2001</td>\n",
       "      <td>7+</td>\n",
       "      <td>4.7</td>\n",
       "      <td>NaN</td>\n",
       "      <td>0</td>\n",
       "      <td>0</td>\n",
       "      <td>0</td>\n",
       "      <td>1</td>\n",
       "      <td>Neal Israel</td>\n",
       "      <td>Comedy,Family,Sci-Fi</td>\n",
       "      <td>United States</td>\n",
       "      <td>90.0</td>\n",
       "      <td>NaN</td>\n",
       "      <td>Comedy</td>\n",
       "      <td>Neal Israel</td>\n",
       "    </tr>\n",
       "    <tr>\n",
       "      <th>16744</th>\n",
       "      <td>Sharks of Lost Island</td>\n",
       "      <td>2013</td>\n",
       "      <td>NaN</td>\n",
       "      <td>5.7</td>\n",
       "      <td>NaN</td>\n",
       "      <td>0</td>\n",
       "      <td>0</td>\n",
       "      <td>0</td>\n",
       "      <td>1</td>\n",
       "      <td>Neil Gelinas</td>\n",
       "      <td>Documentary</td>\n",
       "      <td>United States</td>\n",
       "      <td>NaN</td>\n",
       "      <td>NaN</td>\n",
       "      <td>Documentary</td>\n",
       "      <td>Neil Gelinas</td>\n",
       "    </tr>\n",
       "    <tr>\n",
       "      <th>16745</th>\n",
       "      <td>Man Among Cheetahs</td>\n",
       "      <td>2017</td>\n",
       "      <td>NaN</td>\n",
       "      <td>6.6</td>\n",
       "      <td>NaN</td>\n",
       "      <td>0</td>\n",
       "      <td>0</td>\n",
       "      <td>0</td>\n",
       "      <td>1</td>\n",
       "      <td>Richard Slater-Jones</td>\n",
       "      <td>Documentary</td>\n",
       "      <td>United States</td>\n",
       "      <td>NaN</td>\n",
       "      <td>NaN</td>\n",
       "      <td>Documentary</td>\n",
       "      <td>Richard Slater-Jones</td>\n",
       "    </tr>\n",
       "    <tr>\n",
       "      <th>16746</th>\n",
       "      <td>In Beaver Valley</td>\n",
       "      <td>1950</td>\n",
       "      <td>NaN</td>\n",
       "      <td>NaN</td>\n",
       "      <td>NaN</td>\n",
       "      <td>0</td>\n",
       "      <td>0</td>\n",
       "      <td>0</td>\n",
       "      <td>1</td>\n",
       "      <td>James Algar</td>\n",
       "      <td>Documentary,Short,Family</td>\n",
       "      <td>United States</td>\n",
       "      <td>32.0</td>\n",
       "      <td>NaN</td>\n",
       "      <td>Documentary</td>\n",
       "      <td>James Algar</td>\n",
       "    </tr>\n",
       "  </tbody>\n",
       "</table>\n",
       "<p>16747 rows × 16 columns</p>\n",
       "</div>"
      ],
      "text/plain": [
       "                                Title  Year  Age  IMDb  Rotten Tomatoes  \\\n",
       "0                           Inception  2010  13+   8.8              8.7   \n",
       "1                          The Matrix  1999  18+   8.7              8.7   \n",
       "2              Avengers: Infinity War  2018  13+   8.5              8.4   \n",
       "3                  Back to the Future  1985   7+   8.5              9.6   \n",
       "4      The Good, the Bad and the Ugly  1966  18+   8.8              9.7   \n",
       "...                               ...   ...  ...   ...              ...   \n",
       "16742       The Ghosts of Buxley Hall  1980  NaN   6.2              NaN   \n",
       "16743                  The Poof Point  2001   7+   4.7              NaN   \n",
       "16744           Sharks of Lost Island  2013  NaN   5.7              NaN   \n",
       "16745              Man Among Cheetahs  2017  NaN   6.6              NaN   \n",
       "16746                In Beaver Valley  1950  NaN   NaN              NaN   \n",
       "\n",
       "       Netflix  Hulu  Prime Video  Disney                       Directors  \\\n",
       "0            1     0            0       0               Christopher Nolan   \n",
       "1            1     0            0       0  Lana Wachowski,Lilly Wachowski   \n",
       "2            1     0            0       0         Anthony Russo,Joe Russo   \n",
       "3            1     0            0       0                 Robert Zemeckis   \n",
       "4            1     0            1       0                    Sergio Leone   \n",
       "...        ...   ...          ...     ...                             ...   \n",
       "16742        0     0            0       1                    Bruce Bilson   \n",
       "16743        0     0            0       1                     Neal Israel   \n",
       "16744        0     0            0       1                    Neil Gelinas   \n",
       "16745        0     0            0       1            Richard Slater-Jones   \n",
       "16746        0     0            0       1                     James Algar   \n",
       "\n",
       "                                 Genres        Country  Runtime  \\\n",
       "0      Action,Adventure,Sci-Fi,Thriller  United States    148.0   \n",
       "1                         Action,Sci-Fi  United States    136.0   \n",
       "2               Action,Adventure,Sci-Fi  United States    149.0   \n",
       "3               Adventure,Comedy,Sci-Fi  United States    116.0   \n",
       "4                               Western          Italy    161.0   \n",
       "...                                 ...            ...      ...   \n",
       "16742      Comedy,Family,Fantasy,Horror  United States    120.0   \n",
       "16743              Comedy,Family,Sci-Fi  United States     90.0   \n",
       "16744                       Documentary  United States      NaN   \n",
       "16745                       Documentary  United States      NaN   \n",
       "16746          Documentary,Short,Family  United States     32.0   \n",
       "\n",
       "      production_company   Top_Genres          Top_Director  \n",
       "0           Warner Bros.       Action     Christopher Nolan  \n",
       "1                    NaN       Action        Lana Wachowski  \n",
       "2                    NaN       Action         Anthony Russo  \n",
       "3                    NaN    Adventure       Robert Zemeckis  \n",
       "4                    NaN      Western          Sergio Leone  \n",
       "...                  ...          ...                   ...  \n",
       "16742                NaN       Comedy          Bruce Bilson  \n",
       "16743                NaN       Comedy           Neal Israel  \n",
       "16744                NaN  Documentary          Neil Gelinas  \n",
       "16745                NaN  Documentary  Richard Slater-Jones  \n",
       "16746                NaN  Documentary           James Algar  \n",
       "\n",
       "[16747 rows x 16 columns]"
      ]
     },
     "execution_count": 14,
     "metadata": {},
     "output_type": "execute_result"
    }
   ],
   "source": [
    "data_df = data_df.rename(columns={\"Disney+\": \"Disney\"})\n",
    "data_df"
   ]
  },
  {
   "cell_type": "code",
   "execution_count": 17,
   "metadata": {
    "scrolled": true
   },
   "outputs": [
    {
     "ename": "ValueError",
     "evalue": "\n    Invalid element(s) received for the 'size' property of scatter.marker\n        Invalid elements include: [nan]\n\n    The 'size' property is a number and may be specified as:\n      - An int or float in the interval [0, inf]\n      - A tuple, list, or one-dimensional numpy array of the above",
     "output_type": "error",
     "traceback": [
      "\u001b[0;31m---------------------------------------------------------------------------\u001b[0m",
      "\u001b[0;31mValueError\u001b[0m                                Traceback (most recent call last)",
      "\u001b[0;32m<ipython-input-17-75e601e8026d>\u001b[0m in \u001b[0;36m<module>\u001b[0;34m\u001b[0m\n\u001b[0;32m----> 1\u001b[0;31m fig = px.scatter(data_df.query(\"Disney==1\"), x=\"Runtime\", y=\"IMDb\",\n\u001b[0m\u001b[1;32m      2\u001b[0m              \u001b[0msize\u001b[0m\u001b[0;34m=\u001b[0m\u001b[0;34m\"IMDb\"\u001b[0m\u001b[0;34m,\u001b[0m \u001b[0mcolor\u001b[0m\u001b[0;34m=\u001b[0m\u001b[0;34m\"Title\"\u001b[0m\u001b[0;34m,\u001b[0m\u001b[0;34m\u001b[0m\u001b[0;34m\u001b[0m\u001b[0m\n\u001b[1;32m      3\u001b[0m                  hover_name=\"Title\", log_x=True, size_max=60)\n\u001b[1;32m      4\u001b[0m \u001b[0mfig\u001b[0m\u001b[0;34m.\u001b[0m\u001b[0mshow\u001b[0m\u001b[0;34m(\u001b[0m\u001b[0;34m)\u001b[0m\u001b[0;34m\u001b[0m\u001b[0;34m\u001b[0m\u001b[0m\n",
      "\u001b[0;32m~/anaconda3/lib/python3.8/site-packages/plotly/express/_chart_types.py\u001b[0m in \u001b[0;36mscatter\u001b[0;34m(data_frame, x, y, color, symbol, size, hover_name, hover_data, custom_data, text, facet_row, facet_col, facet_col_wrap, facet_row_spacing, facet_col_spacing, error_x, error_x_minus, error_y, error_y_minus, animation_frame, animation_group, category_orders, labels, orientation, color_discrete_sequence, color_discrete_map, color_continuous_scale, range_color, color_continuous_midpoint, symbol_sequence, symbol_map, opacity, size_max, marginal_x, marginal_y, trendline, trendline_color_override, log_x, log_y, range_x, range_y, render_mode, title, template, width, height)\u001b[0m\n\u001b[1;32m     62\u001b[0m     \u001b[0mmark\u001b[0m \u001b[0;32min\u001b[0m \u001b[0;36m2\u001b[0m\u001b[0mD\u001b[0m \u001b[0mspace\u001b[0m\u001b[0;34m.\u001b[0m\u001b[0;34m\u001b[0m\u001b[0;34m\u001b[0m\u001b[0m\n\u001b[1;32m     63\u001b[0m     \"\"\"\n\u001b[0;32m---> 64\u001b[0;31m     \u001b[0;32mreturn\u001b[0m \u001b[0mmake_figure\u001b[0m\u001b[0;34m(\u001b[0m\u001b[0margs\u001b[0m\u001b[0;34m=\u001b[0m\u001b[0mlocals\u001b[0m\u001b[0;34m(\u001b[0m\u001b[0;34m)\u001b[0m\u001b[0;34m,\u001b[0m \u001b[0mconstructor\u001b[0m\u001b[0;34m=\u001b[0m\u001b[0mgo\u001b[0m\u001b[0;34m.\u001b[0m\u001b[0mScatter\u001b[0m\u001b[0;34m)\u001b[0m\u001b[0;34m\u001b[0m\u001b[0;34m\u001b[0m\u001b[0m\n\u001b[0m\u001b[1;32m     65\u001b[0m \u001b[0;34m\u001b[0m\u001b[0m\n\u001b[1;32m     66\u001b[0m \u001b[0;34m\u001b[0m\u001b[0m\n",
      "\u001b[0;32m~/anaconda3/lib/python3.8/site-packages/plotly/express/_core.py\u001b[0m in \u001b[0;36mmake_figure\u001b[0;34m(args, constructor, trace_patch, layout_patch)\u001b[0m\n\u001b[1;32m   2017\u001b[0m                 \u001b[0margs\u001b[0m\u001b[0;34m,\u001b[0m \u001b[0mtrace_spec\u001b[0m\u001b[0;34m,\u001b[0m \u001b[0mgroup\u001b[0m\u001b[0;34m,\u001b[0m \u001b[0mmapping_labels\u001b[0m\u001b[0;34m.\u001b[0m\u001b[0mcopy\u001b[0m\u001b[0;34m(\u001b[0m\u001b[0;34m)\u001b[0m\u001b[0;34m,\u001b[0m \u001b[0msizeref\u001b[0m\u001b[0;34m\u001b[0m\u001b[0;34m\u001b[0m\u001b[0m\n\u001b[1;32m   2018\u001b[0m             )\n\u001b[0;32m-> 2019\u001b[0;31m             \u001b[0mtrace\u001b[0m\u001b[0;34m.\u001b[0m\u001b[0mupdate\u001b[0m\u001b[0;34m(\u001b[0m\u001b[0mpatch\u001b[0m\u001b[0;34m)\u001b[0m\u001b[0;34m\u001b[0m\u001b[0;34m\u001b[0m\u001b[0m\n\u001b[0m\u001b[1;32m   2020\u001b[0m             \u001b[0;32mif\u001b[0m \u001b[0mfit_results\u001b[0m \u001b[0;32mis\u001b[0m \u001b[0;32mnot\u001b[0m \u001b[0;32mNone\u001b[0m\u001b[0;34m:\u001b[0m\u001b[0;34m\u001b[0m\u001b[0;34m\u001b[0m\u001b[0m\n\u001b[1;32m   2021\u001b[0m                 \u001b[0mtrendline_rows\u001b[0m\u001b[0;34m.\u001b[0m\u001b[0mappend\u001b[0m\u001b[0;34m(\u001b[0m\u001b[0mmapping_labels\u001b[0m\u001b[0;34m.\u001b[0m\u001b[0mcopy\u001b[0m\u001b[0;34m(\u001b[0m\u001b[0;34m)\u001b[0m\u001b[0;34m)\u001b[0m\u001b[0;34m\u001b[0m\u001b[0;34m\u001b[0m\u001b[0m\n",
      "\u001b[0;32m~/anaconda3/lib/python3.8/site-packages/plotly/basedatatypes.py\u001b[0m in \u001b[0;36mupdate\u001b[0;34m(self, dict1, overwrite, **kwargs)\u001b[0m\n\u001b[1;32m   5067\u001b[0m                 \u001b[0mBaseFigure\u001b[0m\u001b[0;34m.\u001b[0m\u001b[0m_perform_update\u001b[0m\u001b[0;34m(\u001b[0m\u001b[0mself\u001b[0m\u001b[0;34m,\u001b[0m \u001b[0mkwargs\u001b[0m\u001b[0;34m,\u001b[0m \u001b[0moverwrite\u001b[0m\u001b[0;34m=\u001b[0m\u001b[0moverwrite\u001b[0m\u001b[0;34m)\u001b[0m\u001b[0;34m\u001b[0m\u001b[0;34m\u001b[0m\u001b[0m\n\u001b[1;32m   5068\u001b[0m         \u001b[0;32melse\u001b[0m\u001b[0;34m:\u001b[0m\u001b[0;34m\u001b[0m\u001b[0;34m\u001b[0m\u001b[0m\n\u001b[0;32m-> 5069\u001b[0;31m             \u001b[0mBaseFigure\u001b[0m\u001b[0;34m.\u001b[0m\u001b[0m_perform_update\u001b[0m\u001b[0;34m(\u001b[0m\u001b[0mself\u001b[0m\u001b[0;34m,\u001b[0m \u001b[0mdict1\u001b[0m\u001b[0;34m,\u001b[0m \u001b[0moverwrite\u001b[0m\u001b[0;34m=\u001b[0m\u001b[0moverwrite\u001b[0m\u001b[0;34m)\u001b[0m\u001b[0;34m\u001b[0m\u001b[0;34m\u001b[0m\u001b[0m\n\u001b[0m\u001b[1;32m   5070\u001b[0m             \u001b[0mBaseFigure\u001b[0m\u001b[0;34m.\u001b[0m\u001b[0m_perform_update\u001b[0m\u001b[0;34m(\u001b[0m\u001b[0mself\u001b[0m\u001b[0;34m,\u001b[0m \u001b[0mkwargs\u001b[0m\u001b[0;34m,\u001b[0m \u001b[0moverwrite\u001b[0m\u001b[0;34m=\u001b[0m\u001b[0moverwrite\u001b[0m\u001b[0;34m)\u001b[0m\u001b[0;34m\u001b[0m\u001b[0;34m\u001b[0m\u001b[0m\n\u001b[1;32m   5071\u001b[0m \u001b[0;34m\u001b[0m\u001b[0m\n",
      "\u001b[0;32m~/anaconda3/lib/python3.8/site-packages/plotly/basedatatypes.py\u001b[0m in \u001b[0;36m_perform_update\u001b[0;34m(plotly_obj, update_obj, overwrite)\u001b[0m\n\u001b[1;32m   3883\u001b[0m                     \u001b[0;31m# Update compound objects recursively\u001b[0m\u001b[0;34m\u001b[0m\u001b[0;34m\u001b[0m\u001b[0;34m\u001b[0m\u001b[0m\n\u001b[1;32m   3884\u001b[0m                     \u001b[0;31m# plotly_obj[key].update(val)\u001b[0m\u001b[0;34m\u001b[0m\u001b[0;34m\u001b[0m\u001b[0;34m\u001b[0m\u001b[0m\n\u001b[0;32m-> 3885\u001b[0;31m                     \u001b[0mBaseFigure\u001b[0m\u001b[0;34m.\u001b[0m\u001b[0m_perform_update\u001b[0m\u001b[0;34m(\u001b[0m\u001b[0mplotly_obj\u001b[0m\u001b[0;34m[\u001b[0m\u001b[0mkey\u001b[0m\u001b[0;34m]\u001b[0m\u001b[0;34m,\u001b[0m \u001b[0mval\u001b[0m\u001b[0;34m)\u001b[0m\u001b[0;34m\u001b[0m\u001b[0;34m\u001b[0m\u001b[0m\n\u001b[0m\u001b[1;32m   3886\u001b[0m                 \u001b[0;32melif\u001b[0m \u001b[0misinstance\u001b[0m\u001b[0;34m(\u001b[0m\u001b[0mvalidator\u001b[0m\u001b[0;34m,\u001b[0m \u001b[0mCompoundArrayValidator\u001b[0m\u001b[0;34m)\u001b[0m\u001b[0;34m:\u001b[0m\u001b[0;34m\u001b[0m\u001b[0;34m\u001b[0m\u001b[0m\n\u001b[1;32m   3887\u001b[0m                     \u001b[0;32mif\u001b[0m \u001b[0mplotly_obj\u001b[0m\u001b[0;34m[\u001b[0m\u001b[0mkey\u001b[0m\u001b[0;34m]\u001b[0m\u001b[0;34m:\u001b[0m\u001b[0;34m\u001b[0m\u001b[0;34m\u001b[0m\u001b[0m\n",
      "\u001b[0;32m~/anaconda3/lib/python3.8/site-packages/plotly/basedatatypes.py\u001b[0m in \u001b[0;36m_perform_update\u001b[0;34m(plotly_obj, update_obj, overwrite)\u001b[0m\n\u001b[1;32m   3904\u001b[0m                 \u001b[0;32melse\u001b[0m\u001b[0;34m:\u001b[0m\u001b[0;34m\u001b[0m\u001b[0;34m\u001b[0m\u001b[0m\n\u001b[1;32m   3905\u001b[0m                     \u001b[0;31m# Assign non-compound value\u001b[0m\u001b[0;34m\u001b[0m\u001b[0;34m\u001b[0m\u001b[0;34m\u001b[0m\u001b[0m\n\u001b[0;32m-> 3906\u001b[0;31m                     \u001b[0mplotly_obj\u001b[0m\u001b[0;34m[\u001b[0m\u001b[0mkey\u001b[0m\u001b[0;34m]\u001b[0m \u001b[0;34m=\u001b[0m \u001b[0mval\u001b[0m\u001b[0;34m\u001b[0m\u001b[0;34m\u001b[0m\u001b[0m\n\u001b[0m\u001b[1;32m   3907\u001b[0m \u001b[0;34m\u001b[0m\u001b[0m\n\u001b[1;32m   3908\u001b[0m         \u001b[0;32melif\u001b[0m \u001b[0misinstance\u001b[0m\u001b[0;34m(\u001b[0m\u001b[0mplotly_obj\u001b[0m\u001b[0;34m,\u001b[0m \u001b[0mtuple\u001b[0m\u001b[0;34m)\u001b[0m\u001b[0;34m:\u001b[0m\u001b[0;34m\u001b[0m\u001b[0;34m\u001b[0m\u001b[0m\n",
      "\u001b[0;32m~/anaconda3/lib/python3.8/site-packages/plotly/basedatatypes.py\u001b[0m in \u001b[0;36m__setitem__\u001b[0;34m(self, prop, value)\u001b[0m\n\u001b[1;32m   4802\u001b[0m                 \u001b[0;31m# ### Handle simple property ###\u001b[0m\u001b[0;34m\u001b[0m\u001b[0;34m\u001b[0m\u001b[0;34m\u001b[0m\u001b[0m\n\u001b[1;32m   4803\u001b[0m                 \u001b[0;32melse\u001b[0m\u001b[0;34m:\u001b[0m\u001b[0;34m\u001b[0m\u001b[0;34m\u001b[0m\u001b[0m\n\u001b[0;32m-> 4804\u001b[0;31m                     \u001b[0mself\u001b[0m\u001b[0;34m.\u001b[0m\u001b[0m_set_prop\u001b[0m\u001b[0;34m(\u001b[0m\u001b[0mprop\u001b[0m\u001b[0;34m,\u001b[0m \u001b[0mvalue\u001b[0m\u001b[0;34m)\u001b[0m\u001b[0;34m\u001b[0m\u001b[0;34m\u001b[0m\u001b[0m\n\u001b[0m\u001b[1;32m   4805\u001b[0m             \u001b[0;32melse\u001b[0m\u001b[0;34m:\u001b[0m\u001b[0;34m\u001b[0m\u001b[0;34m\u001b[0m\u001b[0m\n\u001b[1;32m   4806\u001b[0m                 \u001b[0;31m# Make sure properties dict is initialized\u001b[0m\u001b[0;34m\u001b[0m\u001b[0;34m\u001b[0m\u001b[0;34m\u001b[0m\u001b[0m\n",
      "\u001b[0;32m~/anaconda3/lib/python3.8/site-packages/plotly/basedatatypes.py\u001b[0m in \u001b[0;36m_set_prop\u001b[0;34m(self, prop, val)\u001b[0m\n\u001b[1;32m   5146\u001b[0m                 \u001b[0;32mreturn\u001b[0m\u001b[0;34m\u001b[0m\u001b[0;34m\u001b[0m\u001b[0m\n\u001b[1;32m   5147\u001b[0m             \u001b[0;32melse\u001b[0m\u001b[0;34m:\u001b[0m\u001b[0;34m\u001b[0m\u001b[0;34m\u001b[0m\u001b[0m\n\u001b[0;32m-> 5148\u001b[0;31m                 \u001b[0;32mraise\u001b[0m \u001b[0merr\u001b[0m\u001b[0;34m\u001b[0m\u001b[0;34m\u001b[0m\u001b[0m\n\u001b[0m\u001b[1;32m   5149\u001b[0m \u001b[0;34m\u001b[0m\u001b[0m\n\u001b[1;32m   5150\u001b[0m         \u001b[0;31m# val is None\u001b[0m\u001b[0;34m\u001b[0m\u001b[0;34m\u001b[0m\u001b[0;34m\u001b[0m\u001b[0m\n",
      "\u001b[0;32m~/anaconda3/lib/python3.8/site-packages/plotly/basedatatypes.py\u001b[0m in \u001b[0;36m_set_prop\u001b[0;34m(self, prop, val)\u001b[0m\n\u001b[1;32m   5141\u001b[0m \u001b[0;34m\u001b[0m\u001b[0m\n\u001b[1;32m   5142\u001b[0m         \u001b[0;32mtry\u001b[0m\u001b[0;34m:\u001b[0m\u001b[0;34m\u001b[0m\u001b[0;34m\u001b[0m\u001b[0m\n\u001b[0;32m-> 5143\u001b[0;31m             \u001b[0mval\u001b[0m \u001b[0;34m=\u001b[0m \u001b[0mvalidator\u001b[0m\u001b[0;34m.\u001b[0m\u001b[0mvalidate_coerce\u001b[0m\u001b[0;34m(\u001b[0m\u001b[0mval\u001b[0m\u001b[0;34m)\u001b[0m\u001b[0;34m\u001b[0m\u001b[0;34m\u001b[0m\u001b[0m\n\u001b[0m\u001b[1;32m   5144\u001b[0m         \u001b[0;32mexcept\u001b[0m \u001b[0mValueError\u001b[0m \u001b[0;32mas\u001b[0m \u001b[0merr\u001b[0m\u001b[0;34m:\u001b[0m\u001b[0;34m\u001b[0m\u001b[0;34m\u001b[0m\u001b[0m\n\u001b[1;32m   5145\u001b[0m             \u001b[0;32mif\u001b[0m \u001b[0mself\u001b[0m\u001b[0;34m.\u001b[0m\u001b[0m_skip_invalid\u001b[0m\u001b[0;34m:\u001b[0m\u001b[0;34m\u001b[0m\u001b[0;34m\u001b[0m\u001b[0m\n",
      "\u001b[0;32m~/anaconda3/lib/python3.8/site-packages/_plotly_utils/basevalidators.py\u001b[0m in \u001b[0;36mvalidate_coerce\u001b[0;34m(self, v)\u001b[0m\n\u001b[1;32m    765\u001b[0m                     ].tolist()\n\u001b[1;32m    766\u001b[0m \u001b[0;34m\u001b[0m\u001b[0m\n\u001b[0;32m--> 767\u001b[0;31m                     \u001b[0mself\u001b[0m\u001b[0;34m.\u001b[0m\u001b[0mraise_invalid_elements\u001b[0m\u001b[0;34m(\u001b[0m\u001b[0msome_invalid_els\u001b[0m\u001b[0;34m)\u001b[0m\u001b[0;34m\u001b[0m\u001b[0;34m\u001b[0m\u001b[0m\n\u001b[0m\u001b[1;32m    768\u001b[0m \u001b[0;34m\u001b[0m\u001b[0m\n\u001b[1;32m    769\u001b[0m             \u001b[0mv\u001b[0m \u001b[0;34m=\u001b[0m \u001b[0mv_array\u001b[0m  \u001b[0;31m# Always numeric numpy array\u001b[0m\u001b[0;34m\u001b[0m\u001b[0;34m\u001b[0m\u001b[0m\n",
      "\u001b[0;32m~/anaconda3/lib/python3.8/site-packages/_plotly_utils/basevalidators.py\u001b[0m in \u001b[0;36mraise_invalid_elements\u001b[0;34m(self, invalid_els)\u001b[0m\n\u001b[1;32m    291\u001b[0m     \u001b[0;32mdef\u001b[0m \u001b[0mraise_invalid_elements\u001b[0m\u001b[0;34m(\u001b[0m\u001b[0mself\u001b[0m\u001b[0;34m,\u001b[0m \u001b[0minvalid_els\u001b[0m\u001b[0;34m)\u001b[0m\u001b[0;34m:\u001b[0m\u001b[0;34m\u001b[0m\u001b[0;34m\u001b[0m\u001b[0m\n\u001b[1;32m    292\u001b[0m         \u001b[0;32mif\u001b[0m \u001b[0minvalid_els\u001b[0m\u001b[0;34m:\u001b[0m\u001b[0;34m\u001b[0m\u001b[0;34m\u001b[0m\u001b[0m\n\u001b[0;32m--> 293\u001b[0;31m             raise ValueError(\n\u001b[0m\u001b[1;32m    294\u001b[0m                 \"\"\"\n\u001b[1;32m    295\u001b[0m     \u001b[0mInvalid\u001b[0m \u001b[0melement\u001b[0m\u001b[0;34m(\u001b[0m\u001b[0ms\u001b[0m\u001b[0;34m)\u001b[0m \u001b[0mreceived\u001b[0m \u001b[0;32mfor\u001b[0m \u001b[0mthe\u001b[0m \u001b[0;34m'{name}'\u001b[0m \u001b[0mproperty\u001b[0m \u001b[0mof\u001b[0m \u001b[0;34m{\u001b[0m\u001b[0mpname\u001b[0m\u001b[0;34m}\u001b[0m\u001b[0;34m\u001b[0m\u001b[0;34m\u001b[0m\u001b[0m\n",
      "\u001b[0;31mValueError\u001b[0m: \n    Invalid element(s) received for the 'size' property of scatter.marker\n        Invalid elements include: [nan]\n\n    The 'size' property is a number and may be specified as:\n      - An int or float in the interval [0, inf]\n      - A tuple, list, or one-dimensional numpy array of the above"
     ]
    }
   ],
   "source": [
    "fig = px.scatter(data_df.query(\"Disney==1\"), x=\"Runtime\", y=\"IMDb\",\n",
    "             size=\"IMDb\", color=\"Title\",\n",
    "                 hover_name=\"Title\", log_x=True, size_max=60)\n",
    "fig.show()"
   ]
  },
  {
   "cell_type": "code",
   "execution_count": 19,
   "metadata": {},
   "outputs": [
    {
     "data": {
      "application/vnd.plotly.v1+json": {
       "config": {
        "plotlyServerURL": "https://plot.ly"
       },
       "data": [
        {
         "hovertemplate": "<b>%{hovertext}</b><br><br>Title=Saving Mr. Banks<br>Runtime=%{x}<br>IMDb=%{y}<extra></extra>",
         "hovertext": [
          "Saving Mr. Banks"
         ],
         "legendgroup": "Saving Mr. Banks",
         "marker": {
          "color": "#636efa",
          "symbol": "circle"
         },
         "mode": "markers",
         "name": "Saving Mr. Banks",
         "orientation": "v",
         "showlegend": true,
         "type": "scatter",
         "x": [
          125
         ],
         "xaxis": "x",
         "y": [
          7.5
         ],
         "yaxis": "y"
        },
        {
         "hovertemplate": "<b>%{hovertext}</b><br><br>Title=Amy<br>Runtime=%{x}<br>IMDb=%{y}<extra></extra>",
         "hovertext": [
          "Amy"
         ],
         "legendgroup": "Amy",
         "marker": {
          "color": "#EF553B",
          "symbol": "circle"
         },
         "mode": "markers",
         "name": "Amy",
         "orientation": "v",
         "showlegend": true,
         "type": "scatter",
         "x": [
          60
         ],
         "xaxis": "x",
         "y": [
          7.8
         ],
         "yaxis": "y"
        },
        {
         "hovertemplate": "<b>%{hovertext}</b><br><br>Title=Bolt<br>Runtime=%{x}<br>IMDb=%{y}<extra></extra>",
         "hovertext": [
          "Bolt"
         ],
         "legendgroup": "Bolt",
         "marker": {
          "color": "#00cc96",
          "symbol": "circle"
         },
         "mode": "markers",
         "name": "Bolt",
         "orientation": "v",
         "showlegend": true,
         "type": "scatter",
         "x": [
          96
         ],
         "xaxis": "x",
         "y": [
          6.8
         ],
         "yaxis": "y"
        },
        {
         "hovertemplate": "<b>%{hovertext}</b><br><br>Title=The Princess and the Frog<br>Runtime=%{x}<br>IMDb=%{y}<extra></extra>",
         "hovertext": [
          "The Princess and the Frog"
         ],
         "legendgroup": "The Princess and the Frog",
         "marker": {
          "color": "#ab63fa",
          "symbol": "circle"
         },
         "mode": "markers",
         "name": "The Princess and the Frog",
         "orientation": "v",
         "showlegend": true,
         "type": "scatter",
         "x": [
          97
         ],
         "xaxis": "x",
         "y": [
          7.1
         ],
         "yaxis": "y"
        },
        {
         "hovertemplate": "<b>%{hovertext}</b><br><br>Title=Miracle<br>Runtime=%{x}<br>IMDb=%{y}<extra></extra>",
         "hovertext": [
          "Miracle"
         ],
         "legendgroup": "Miracle",
         "marker": {
          "color": "#FFA15A",
          "symbol": "circle"
         },
         "mode": "markers",
         "name": "Miracle",
         "orientation": "v",
         "showlegend": true,
         "type": "scatter",
         "x": [
          135
         ],
         "xaxis": "x",
         "y": [
          7.5
         ],
         "yaxis": "y"
        },
        {
         "hovertemplate": "<b>%{hovertext}</b><br><br>Title=White Fang<br>Runtime=%{x}<br>IMDb=%{y}<extra></extra>",
         "hovertext": [
          "White Fang"
         ],
         "legendgroup": "White Fang",
         "marker": {
          "color": "#19d3f3",
          "symbol": "circle"
         },
         "mode": "markers",
         "name": "White Fang",
         "orientation": "v",
         "showlegend": true,
         "type": "scatter",
         "x": [
          107
         ],
         "xaxis": "x",
         "y": [
          6.9
         ],
         "yaxis": "y"
        },
        {
         "hovertemplate": "<b>%{hovertext}</b><br><br>Title=Chicken Little<br>Runtime=%{x}<br>IMDb=%{y}<extra></extra>",
         "hovertext": [
          "Chicken Little"
         ],
         "legendgroup": "Chicken Little",
         "marker": {
          "color": "#FF6692",
          "symbol": "circle"
         },
         "mode": "markers",
         "name": "Chicken Little",
         "orientation": "v",
         "showlegend": true,
         "type": "scatter",
         "x": [
          81
         ],
         "xaxis": "x",
         "y": [
          5.7
         ],
         "yaxis": "y"
        },
        {
         "hovertemplate": "<b>%{hovertext}</b><br><br>Title=Diana: In Her Own Words<br>Runtime=%{x}<br>IMDb=%{y}<extra></extra>",
         "hovertext": [
          "Diana: In Her Own Words"
         ],
         "legendgroup": "Diana: In Her Own Words",
         "marker": {
          "color": "#B6E880",
          "symbol": "circle"
         },
         "mode": "markers",
         "name": "Diana: In Her Own Words",
         "orientation": "v",
         "showlegend": true,
         "type": "scatter",
         "x": [
          112
         ],
         "xaxis": "x",
         "y": [
          7.9
         ],
         "yaxis": "y"
        },
        {
         "hovertemplate": "<b>%{hovertext}</b><br><br>Title=The Little Mermaid<br>Runtime=%{x}<br>IMDb=%{y}<extra></extra>",
         "hovertext": [
          "The Little Mermaid"
         ],
         "legendgroup": "The Little Mermaid",
         "marker": {
          "color": "#FF97FF",
          "symbol": "circle"
         },
         "mode": "markers",
         "name": "The Little Mermaid",
         "orientation": "v",
         "showlegend": true,
         "type": "scatter",
         "x": [
          83
         ],
         "xaxis": "x",
         "y": [
          4.2
         ],
         "yaxis": "y"
        },
        {
         "hovertemplate": "<b>%{hovertext}</b><br><br>Title=Zapped<br>Runtime=%{x}<br>IMDb=%{y}<extra></extra>",
         "hovertext": [
          "Zapped"
         ],
         "legendgroup": "Zapped",
         "marker": {
          "color": "#FECB52",
          "symbol": "circle"
         },
         "mode": "markers",
         "name": "Zapped",
         "orientation": "v",
         "showlegend": true,
         "type": "scatter",
         "x": [
          102
         ],
         "xaxis": "x",
         "y": [
          5.1
         ],
         "yaxis": "y"
        },
        {
         "hovertemplate": "<b>%{hovertext}</b><br><br>Title=Free Solo<br>Runtime=%{x}<br>IMDb=%{y}<extra></extra>",
         "hovertext": [
          "Free Solo"
         ],
         "legendgroup": "Free Solo",
         "marker": {
          "color": "#636efa",
          "symbol": "circle"
         },
         "mode": "markers",
         "name": "Free Solo",
         "orientation": "v",
         "showlegend": true,
         "type": "scatter",
         "x": [
          100
         ],
         "xaxis": "x",
         "y": [
          8.2
         ],
         "yaxis": "y"
        },
        {
         "hovertemplate": "<b>%{hovertext}</b><br><br>Title=Jane<br>Runtime=%{x}<br>IMDb=%{y}<extra></extra>",
         "hovertext": [
          "Jane"
         ],
         "legendgroup": "Jane",
         "marker": {
          "color": "#EF553B",
          "symbol": "circle"
         },
         "mode": "markers",
         "name": "Jane",
         "orientation": "v",
         "showlegend": true,
         "type": "scatter",
         "x": [
          120
         ],
         "xaxis": "x",
         "y": [
          7.8
         ],
         "yaxis": "y"
        },
        {
         "hovertemplate": "<b>%{hovertext}</b><br><br>Title=The Hunchback of Notre Dame<br>Runtime=%{x}<br>IMDb=%{y}<extra></extra>",
         "hovertext": [
          "The Hunchback of Notre Dame"
         ],
         "legendgroup": "The Hunchback of Notre Dame",
         "marker": {
          "color": "#00cc96",
          "symbol": "circle"
         },
         "mode": "markers",
         "name": "The Hunchback of Notre Dame",
         "orientation": "v",
         "showlegend": true,
         "type": "scatter",
         "x": [
          91
         ],
         "xaxis": "x",
         "y": [
          7.3
         ],
         "yaxis": "y"
        },
        {
         "hovertemplate": "<b>%{hovertext}</b><br><br>Title=Teen Spirit<br>Runtime=%{x}<br>IMDb=%{y}<extra></extra>",
         "hovertext": [
          "Teen Spirit"
         ],
         "legendgroup": "Teen Spirit",
         "marker": {
          "color": "#ab63fa",
          "symbol": "circle"
         },
         "mode": "markers",
         "name": "Teen Spirit",
         "orientation": "v",
         "showlegend": true,
         "type": "scatter",
         "x": [
          93
         ],
         "xaxis": "x",
         "y": [
          6.1
         ],
         "yaxis": "y"
        },
        {
         "hovertemplate": "<b>%{hovertext}</b><br><br>Title=The Kid<br>Runtime=%{x}<br>IMDb=%{y}<extra></extra>",
         "hovertext": [
          "The Kid"
         ],
         "legendgroup": "The Kid",
         "marker": {
          "color": "#FFA15A",
          "symbol": "circle"
         },
         "mode": "markers",
         "name": "The Kid",
         "orientation": "v",
         "showlegend": true,
         "type": "scatter",
         "x": [
          100
         ],
         "xaxis": "x",
         "y": [
          5.9
         ],
         "yaxis": "y"
        },
        {
         "hovertemplate": "<b>%{hovertext}</b><br><br>Title=Inside Out<br>Runtime=%{x}<br>IMDb=%{y}<extra></extra>",
         "hovertext": [
          "Inside Out"
         ],
         "legendgroup": "Inside Out",
         "marker": {
          "color": "#19d3f3",
          "symbol": "circle"
         },
         "mode": "markers",
         "name": "Inside Out",
         "orientation": "v",
         "showlegend": true,
         "type": "scatter",
         "x": [
          95
         ],
         "xaxis": "x",
         "y": [
          4.5
         ],
         "yaxis": "y"
        },
        {
         "hovertemplate": "<b>%{hovertext}</b><br><br>Title=The Avengers<br>Runtime=%{x}<br>IMDb=%{y}<extra></extra>",
         "hovertext": [
          "The Avengers"
         ],
         "legendgroup": "The Avengers",
         "marker": {
          "color": "#FF6692",
          "symbol": "circle"
         },
         "mode": "markers",
         "name": "The Avengers",
         "orientation": "v",
         "showlegend": true,
         "type": "scatter",
         "x": [
          143
         ],
         "xaxis": "x",
         "y": [
          8
         ],
         "yaxis": "y"
        },
        {
         "hovertemplate": "<b>%{hovertext}</b><br><br>Title=Thor<br>Runtime=%{x}<br>IMDb=%{y}<extra></extra>",
         "hovertext": [
          "Thor"
         ],
         "legendgroup": "Thor",
         "marker": {
          "color": "#B6E880",
          "symbol": "circle"
         },
         "mode": "markers",
         "name": "Thor",
         "orientation": "v",
         "showlegend": true,
         "type": "scatter",
         "x": [
          115
         ],
         "xaxis": "x",
         "y": [
          7
         ],
         "yaxis": "y"
        },
        {
         "hovertemplate": "<b>%{hovertext}</b><br><br>Title=Captain America: The First Avenger<br>Runtime=%{x}<br>IMDb=%{y}<extra></extra>",
         "hovertext": [
          "Captain America: The First Avenger"
         ],
         "legendgroup": "Captain America: The First Avenger",
         "marker": {
          "color": "#FF97FF",
          "symbol": "circle"
         },
         "mode": "markers",
         "name": "Captain America: The First Avenger",
         "orientation": "v",
         "showlegend": true,
         "type": "scatter",
         "x": [
          124
         ],
         "xaxis": "x",
         "y": [
          6.9
         ],
         "yaxis": "y"
        },
        {
         "hovertemplate": "<b>%{hovertext}</b><br><br>Title=Iron Man 2<br>Runtime=%{x}<br>IMDb=%{y}<extra></extra>",
         "hovertext": [
          "Iron Man 2"
         ],
         "legendgroup": "Iron Man 2",
         "marker": {
          "color": "#FECB52",
          "symbol": "circle"
         },
         "mode": "markers",
         "name": "Iron Man 2",
         "orientation": "v",
         "showlegend": true,
         "type": "scatter",
         "x": [
          124
         ],
         "xaxis": "x",
         "y": [
          7
         ],
         "yaxis": "y"
        },
        {
         "hovertemplate": "<b>%{hovertext}</b><br><br>Title=Robin Hood<br>Runtime=%{x}<br>IMDb=%{y}<extra></extra>",
         "hovertext": [
          "Robin Hood"
         ],
         "legendgroup": "Robin Hood",
         "marker": {
          "color": "#636efa",
          "symbol": "circle"
         },
         "mode": "markers",
         "name": "Robin Hood",
         "orientation": "v",
         "showlegend": true,
         "type": "scatter",
         "x": [
          140
         ],
         "xaxis": "x",
         "y": [
          7.2
         ],
         "yaxis": "y"
        },
        {
         "hovertemplate": "<b>%{hovertext}</b><br><br>Title=The Three Musketeers<br>Runtime=%{x}<br>IMDb=%{y}<extra></extra>",
         "hovertext": [
          "The Three Musketeers"
         ],
         "legendgroup": "The Three Musketeers",
         "marker": {
          "color": "#EF553B",
          "symbol": "circle"
         },
         "mode": "markers",
         "name": "The Three Musketeers",
         "orientation": "v",
         "showlegend": true,
         "type": "scatter",
         "x": [
          110
         ],
         "xaxis": "x",
         "y": [
          7
         ],
         "yaxis": "y"
        },
        {
         "hovertemplate": "<b>%{hovertext}</b><br><br>Title=Empire of Dreams: The Story of the Star Wars Trilogy<br>Runtime=%{x}<br>IMDb=%{y}<extra></extra>",
         "hovertext": [
          "Empire of Dreams: The Story of the Star Wars Trilogy"
         ],
         "legendgroup": "Empire of Dreams: The Story of the Star Wars Trilogy",
         "marker": {
          "color": "#00cc96",
          "symbol": "circle"
         },
         "mode": "markers",
         "name": "Empire of Dreams: The Story of the Star Wars Trilogy",
         "orientation": "v",
         "showlegend": true,
         "type": "scatter",
         "x": [
          151
         ],
         "xaxis": "x",
         "y": [
          8.3
         ],
         "yaxis": "y"
        },
        {
         "hovertemplate": "<b>%{hovertext}</b><br><br>Title=Cinderella<br>Runtime=%{x}<br>IMDb=%{y}<extra></extra>",
         "hovertext": [
          "Cinderella"
         ],
         "legendgroup": "Cinderella",
         "marker": {
          "color": "#ab63fa",
          "symbol": "circle"
         },
         "mode": "markers",
         "name": "Cinderella",
         "orientation": "v",
         "showlegend": true,
         "type": "scatter",
         "x": [
          105
         ],
         "xaxis": "x",
         "y": [
          7.8
         ],
         "yaxis": "y"
        },
        {
         "hovertemplate": "<b>%{hovertext}</b><br><br>Title=Starstruck<br>Runtime=%{x}<br>IMDb=%{y}<extra></extra>",
         "hovertext": [
          "Starstruck"
         ],
         "legendgroup": "Starstruck",
         "marker": {
          "color": "#FFA15A",
          "symbol": "circle"
         },
         "mode": "markers",
         "name": "Starstruck",
         "orientation": "v",
         "showlegend": true,
         "type": "scatter",
         "x": [
          90
         ],
         "xaxis": "x",
         "y": [
          7
         ],
         "yaxis": "y"
        },
        {
         "hovertemplate": "<b>%{hovertext}</b><br><br>Title=Elephant<br>Runtime=%{x}<br>IMDb=%{y}<extra></extra>",
         "hovertext": [
          "Elephant"
         ],
         "legendgroup": "Elephant",
         "marker": {
          "color": "#19d3f3",
          "symbol": "circle"
         },
         "mode": "markers",
         "name": "Elephant",
         "orientation": "v",
         "showlegend": true,
         "type": "scatter",
         "x": [
          81
         ],
         "xaxis": "x",
         "y": [
          7.1
         ],
         "yaxis": "y"
        },
        {
         "hovertemplate": "<b>%{hovertext}</b><br><br>Title=Noelle<br>Runtime=%{x}<br>IMDb=%{y}<extra></extra>",
         "hovertext": [
          "Noelle"
         ],
         "legendgroup": "Noelle",
         "marker": {
          "color": "#FF6692",
          "symbol": "circle"
         },
         "mode": "markers",
         "name": "Noelle",
         "orientation": "v",
         "showlegend": true,
         "type": "scatter",
         "x": [
          100
         ],
         "xaxis": "x",
         "y": [
          5.9
         ],
         "yaxis": "y"
        },
        {
         "hovertemplate": "<b>%{hovertext}</b><br><br>Title=The Prince and the Pauper<br>Runtime=%{x}<br>IMDb=%{y}<extra></extra>",
         "hovertext": [
          "The Prince and the Pauper"
         ],
         "legendgroup": "The Prince and the Pauper",
         "marker": {
          "color": "#B6E880",
          "symbol": "circle"
         },
         "mode": "markers",
         "name": "The Prince and the Pauper",
         "orientation": "v",
         "showlegend": true,
         "type": "scatter",
         "x": [
          93
         ],
         "xaxis": "x",
         "y": [
          6.5
         ],
         "yaxis": "y"
        },
        {
         "hovertemplate": "<b>%{hovertext}</b><br><br>Title=20,000 Leagues Under the Sea<br>Runtime=%{x}<br>IMDb=%{y}<extra></extra>",
         "hovertext": [
          "20,000 Leagues Under the Sea"
         ],
         "legendgroup": "20,000 Leagues Under the Sea",
         "marker": {
          "color": "#FF97FF",
          "symbol": "circle"
         },
         "mode": "markers",
         "name": "20,000 Leagues Under the Sea",
         "orientation": "v",
         "showlegend": true,
         "type": "scatter",
         "x": [
          127
         ],
         "xaxis": "x",
         "y": [
          5
         ],
         "yaxis": "y"
        },
        {
         "hovertemplate": "<b>%{hovertext}</b><br><br>Title=Bears<br>Runtime=%{x}<br>IMDb=%{y}<extra></extra>",
         "hovertext": [
          "Bears"
         ],
         "legendgroup": "Bears",
         "marker": {
          "color": "#FECB52",
          "symbol": "circle"
         },
         "mode": "markers",
         "name": "Bears",
         "orientation": "v",
         "showlegend": true,
         "type": "scatter",
         "x": [
          85
         ],
         "xaxis": "x",
         "y": [
          7.3
         ],
         "yaxis": "y"
        },
        {
         "hovertemplate": "<b>%{hovertext}</b><br><br>Title=The Swap<br>Runtime=%{x}<br>IMDb=%{y}<extra></extra>",
         "hovertext": [
          "The Swap"
         ],
         "legendgroup": "The Swap",
         "marker": {
          "color": "#636efa",
          "symbol": "circle"
         },
         "mode": "markers",
         "name": "The Swap",
         "orientation": "v",
         "showlegend": true,
         "type": "scatter",
         "x": [
          100
         ],
         "xaxis": "x",
         "y": [
          3.4
         ],
         "yaxis": "y"
        },
        {
         "hovertemplate": "<b>%{hovertext}</b><br><br>Title=Sleeping Beauty<br>Runtime=%{x}<br>IMDb=%{y}<extra></extra>",
         "hovertext": [
          "Sleeping Beauty"
         ],
         "legendgroup": "Sleeping Beauty",
         "marker": {
          "color": "#EF553B",
          "symbol": "circle"
         },
         "mode": "markers",
         "name": "Sleeping Beauty",
         "orientation": "v",
         "showlegend": true,
         "type": "scatter",
         "x": [
          101
         ],
         "xaxis": "x",
         "y": [
          2.7
         ],
         "yaxis": "y"
        },
        {
         "hovertemplate": "<b>%{hovertext}</b><br><br>Title=Star Wars: A New Hope<br>Runtime=%{x}<br>IMDb=%{y}<extra></extra>",
         "hovertext": [
          "Star Wars: A New Hope"
         ],
         "legendgroup": "Star Wars: A New Hope",
         "marker": {
          "color": "#00cc96",
          "symbol": "circle"
         },
         "mode": "markers",
         "name": "Star Wars: A New Hope",
         "orientation": "v",
         "showlegend": true,
         "type": "scatter",
         "x": [
          121
         ],
         "xaxis": "x",
         "y": [
          8.6
         ],
         "yaxis": "y"
        },
        {
         "hovertemplate": "<b>%{hovertext}</b><br><br>Title=Star Wars: The Empire Strikes Back<br>Runtime=%{x}<br>IMDb=%{y}<extra></extra>",
         "hovertext": [
          "Star Wars: The Empire Strikes Back"
         ],
         "legendgroup": "Star Wars: The Empire Strikes Back",
         "marker": {
          "color": "#ab63fa",
          "symbol": "circle"
         },
         "mode": "markers",
         "name": "Star Wars: The Empire Strikes Back",
         "orientation": "v",
         "showlegend": true,
         "type": "scatter",
         "x": [
          124
         ],
         "xaxis": "x",
         "y": [
          8.7
         ],
         "yaxis": "y"
        },
        {
         "hovertemplate": "<b>%{hovertext}</b><br><br>Title=The Lion King<br>Runtime=%{x}<br>IMDb=%{y}<extra></extra>",
         "hovertext": [
          "The Lion King"
         ],
         "legendgroup": "The Lion King",
         "marker": {
          "color": "#FFA15A",
          "symbol": "circle"
         },
         "mode": "markers",
         "name": "The Lion King",
         "orientation": "v",
         "showlegend": true,
         "type": "scatter",
         "x": [
          118
         ],
         "xaxis": "x",
         "y": [
          8.5
         ],
         "yaxis": "y"
        },
        {
         "hovertemplate": "<b>%{hovertext}</b><br><br>Title=Toy Story<br>Runtime=%{x}<br>IMDb=%{y}<extra></extra>",
         "hovertext": [
          "Toy Story"
         ],
         "legendgroup": "Toy Story",
         "marker": {
          "color": "#19d3f3",
          "symbol": "circle"
         },
         "mode": "markers",
         "name": "Toy Story",
         "orientation": "v",
         "showlegend": true,
         "type": "scatter",
         "x": [
          81
         ],
         "xaxis": "x",
         "y": [
          8.3
         ],
         "yaxis": "y"
        },
        {
         "hovertemplate": "<b>%{hovertext}</b><br><br>Title=Avengers: Endgame<br>Runtime=%{x}<br>IMDb=%{y}<extra></extra>",
         "hovertext": [
          "Avengers: Endgame"
         ],
         "legendgroup": "Avengers: Endgame",
         "marker": {
          "color": "#FF6692",
          "symbol": "circle"
         },
         "mode": "markers",
         "name": "Avengers: Endgame",
         "orientation": "v",
         "showlegend": true,
         "type": "scatter",
         "x": [
          181
         ],
         "xaxis": "x",
         "y": [
          8.4
         ],
         "yaxis": "y"
        },
        {
         "hovertemplate": "<b>%{hovertext}</b><br><br>Title=WALL·E<br>Runtime=%{x}<br>IMDb=%{y}<extra></extra>",
         "hovertext": [
          "WALL·E"
         ],
         "legendgroup": "WALL·E",
         "marker": {
          "color": "#B6E880",
          "symbol": "circle"
         },
         "mode": "markers",
         "name": "WALL·E",
         "orientation": "v",
         "showlegend": true,
         "type": "scatter",
         "x": [
          98
         ],
         "xaxis": "x",
         "y": [
          8.4
         ],
         "yaxis": "y"
        },
        {
         "hovertemplate": "<b>%{hovertext}</b><br><br>Title=Up<br>Runtime=%{x}<br>IMDb=%{y}<extra></extra>",
         "hovertext": [
          "Up"
         ],
         "legendgroup": "Up",
         "marker": {
          "color": "#FF97FF",
          "symbol": "circle"
         },
         "mode": "markers",
         "name": "Up",
         "orientation": "v",
         "showlegend": true,
         "type": "scatter",
         "x": [
          96
         ],
         "xaxis": "x",
         "y": [
          8.2
         ],
         "yaxis": "y"
        },
        {
         "hovertemplate": "<b>%{hovertext}</b><br><br>Title=Guardians of the Galaxy<br>Runtime=%{x}<br>IMDb=%{y}<extra></extra>",
         "hovertext": [
          "Guardians of the Galaxy"
         ],
         "legendgroup": "Guardians of the Galaxy",
         "marker": {
          "color": "#FECB52",
          "symbol": "circle"
         },
         "mode": "markers",
         "name": "Guardians of the Galaxy",
         "orientation": "v",
         "showlegend": true,
         "type": "scatter",
         "x": [
          121
         ],
         "xaxis": "x",
         "y": [
          8
         ],
         "yaxis": "y"
        },
        {
         "hovertemplate": "<b>%{hovertext}</b><br><br>Title=Finding Nemo<br>Runtime=%{x}<br>IMDb=%{y}<extra></extra>",
         "hovertext": [
          "Finding Nemo"
         ],
         "legendgroup": "Finding Nemo",
         "marker": {
          "color": "#636efa",
          "symbol": "circle"
         },
         "mode": "markers",
         "name": "Finding Nemo",
         "orientation": "v",
         "showlegend": true,
         "type": "scatter",
         "x": [
          100
         ],
         "xaxis": "x",
         "y": [
          8.1
         ],
         "yaxis": "y"
        },
        {
         "hovertemplate": "<b>%{hovertext}</b><br><br>Title=Coco<br>Runtime=%{x}<br>IMDb=%{y}<extra></extra>",
         "hovertext": [
          "Coco"
         ],
         "legendgroup": "Coco",
         "marker": {
          "color": "#EF553B",
          "symbol": "circle"
         },
         "mode": "markers",
         "name": "Coco",
         "orientation": "v",
         "showlegend": true,
         "type": "scatter",
         "x": [
          105
         ],
         "xaxis": "x",
         "y": [
          8.4
         ],
         "yaxis": "y"
        },
        {
         "hovertemplate": "<b>%{hovertext}</b><br><br>Title=Toy Story 3<br>Runtime=%{x}<br>IMDb=%{y}<extra></extra>",
         "hovertext": [
          "Toy Story 3"
         ],
         "legendgroup": "Toy Story 3",
         "marker": {
          "color": "#00cc96",
          "symbol": "circle"
         },
         "mode": "markers",
         "name": "Toy Story 3",
         "orientation": "v",
         "showlegend": true,
         "type": "scatter",
         "x": [
          103
         ],
         "xaxis": "x",
         "y": [
          8.3
         ],
         "yaxis": "y"
        },
        {
         "hovertemplate": "<b>%{hovertext}</b><br><br>Title=Monsters, Inc.<br>Runtime=%{x}<br>IMDb=%{y}<extra></extra>",
         "hovertext": [
          "Monsters, Inc."
         ],
         "legendgroup": "Monsters, Inc.",
         "marker": {
          "color": "#ab63fa",
          "symbol": "circle"
         },
         "mode": "markers",
         "name": "Monsters, Inc.",
         "orientation": "v",
         "showlegend": true,
         "type": "scatter",
         "x": [
          92
         ],
         "xaxis": "x",
         "y": [
          8
         ],
         "yaxis": "y"
        },
        {
         "hovertemplate": "<b>%{hovertext}</b><br><br>Title=Star Wars: Return of the Jedi<br>Runtime=%{x}<br>IMDb=%{y}<extra></extra>",
         "hovertext": [
          "Star Wars: Return of the Jedi"
         ],
         "legendgroup": "Star Wars: Return of the Jedi",
         "marker": {
          "color": "#FFA15A",
          "symbol": "circle"
         },
         "mode": "markers",
         "name": "Star Wars: Return of the Jedi",
         "orientation": "v",
         "showlegend": true,
         "type": "scatter",
         "x": [
          131
         ],
         "xaxis": "x",
         "y": [
          8.3
         ],
         "yaxis": "y"
        },
        {
         "hovertemplate": "<b>%{hovertext}</b><br><br>Title=Zootopia<br>Runtime=%{x}<br>IMDb=%{y}<extra></extra>",
         "hovertext": [
          "Zootopia"
         ],
         "legendgroup": "Zootopia",
         "marker": {
          "color": "#19d3f3",
          "symbol": "circle"
         },
         "mode": "markers",
         "name": "Zootopia",
         "orientation": "v",
         "showlegend": true,
         "type": "scatter",
         "x": [
          108
         ],
         "xaxis": "x",
         "y": [
          8
         ],
         "yaxis": "y"
        },
        {
         "hovertemplate": "<b>%{hovertext}</b><br><br>Title=Star Wars: The Force Awakens<br>Runtime=%{x}<br>IMDb=%{y}<extra></extra>",
         "hovertext": [
          "Star Wars: The Force Awakens"
         ],
         "legendgroup": "Star Wars: The Force Awakens",
         "marker": {
          "color": "#FF6692",
          "symbol": "circle"
         },
         "mode": "markers",
         "name": "Star Wars: The Force Awakens",
         "orientation": "v",
         "showlegend": true,
         "type": "scatter",
         "x": [
          138
         ],
         "xaxis": "x",
         "y": [
          7.9
         ],
         "yaxis": "y"
        },
        {
         "hovertemplate": "<b>%{hovertext}</b><br><br>Title=Captain America: Civil War<br>Runtime=%{x}<br>IMDb=%{y}<extra></extra>",
         "hovertext": [
          "Captain America: Civil War"
         ],
         "legendgroup": "Captain America: Civil War",
         "marker": {
          "color": "#B6E880",
          "symbol": "circle"
         },
         "mode": "markers",
         "name": "Captain America: Civil War",
         "orientation": "v",
         "showlegend": true,
         "type": "scatter",
         "x": [
          147
         ],
         "xaxis": "x",
         "y": [
          7.8
         ],
         "yaxis": "y"
        },
        {
         "hovertemplate": "<b>%{hovertext}</b><br><br>Title=Thor: Ragnarok<br>Runtime=%{x}<br>IMDb=%{y}<extra></extra>",
         "hovertext": [
          "Thor: Ragnarok"
         ],
         "legendgroup": "Thor: Ragnarok",
         "marker": {
          "color": "#FF97FF",
          "symbol": "circle"
         },
         "mode": "markers",
         "name": "Thor: Ragnarok",
         "orientation": "v",
         "showlegend": true,
         "type": "scatter",
         "x": [
          130
         ],
         "xaxis": "x",
         "y": [
          7.9
         ],
         "yaxis": "y"
        },
        {
         "hovertemplate": "<b>%{hovertext}</b><br><br>Title=The Princess Bride<br>Runtime=%{x}<br>IMDb=%{y}<extra></extra>",
         "hovertext": [
          "The Princess Bride"
         ],
         "legendgroup": "The Princess Bride",
         "marker": {
          "color": "#FECB52",
          "symbol": "circle"
         },
         "mode": "markers",
         "name": "The Princess Bride",
         "orientation": "v",
         "showlegend": true,
         "type": "scatter",
         "x": [
          98
         ],
         "xaxis": "x",
         "y": [
          8.1
         ],
         "yaxis": "y"
        },
        {
         "hovertemplate": "<b>%{hovertext}</b><br><br>Title=Ratatouille<br>Runtime=%{x}<br>IMDb=%{y}<extra></extra>",
         "hovertext": [
          "Ratatouille"
         ],
         "legendgroup": "Ratatouille",
         "marker": {
          "color": "#636efa",
          "symbol": "circle"
         },
         "mode": "markers",
         "name": "Ratatouille",
         "orientation": "v",
         "showlegend": true,
         "type": "scatter",
         "x": [
          111
         ],
         "xaxis": "x",
         "y": [
          8
         ],
         "yaxis": "y"
        },
        {
         "hovertemplate": "<b>%{hovertext}</b><br><br>Title=Captain America: The Winter Soldier<br>Runtime=%{x}<br>IMDb=%{y}<extra></extra>",
         "hovertext": [
          "Captain America: The Winter Soldier"
         ],
         "legendgroup": "Captain America: The Winter Soldier",
         "marker": {
          "color": "#EF553B",
          "symbol": "circle"
         },
         "mode": "markers",
         "name": "Captain America: The Winter Soldier",
         "orientation": "v",
         "showlegend": true,
         "type": "scatter",
         "x": [
          136
         ],
         "xaxis": "x",
         "y": [
          7.7
         ],
         "yaxis": "y"
        },
        {
         "hovertemplate": "<b>%{hovertext}</b><br><br>Title=Aladdin<br>Runtime=%{x}<br>IMDb=%{y}<extra></extra>",
         "hovertext": [
          "Aladdin"
         ],
         "legendgroup": "Aladdin",
         "marker": {
          "color": "#00cc96",
          "symbol": "circle"
         },
         "mode": "markers",
         "name": "Aladdin",
         "orientation": "v",
         "showlegend": true,
         "type": "scatter",
         "x": [
          128
         ],
         "xaxis": "x",
         "y": [
          8
         ],
         "yaxis": "y"
        },
        {
         "hovertemplate": "<b>%{hovertext}</b><br><br>Title=Toy Story 2<br>Runtime=%{x}<br>IMDb=%{y}<extra></extra>",
         "hovertext": [
          "Toy Story 2"
         ],
         "legendgroup": "Toy Story 2",
         "marker": {
          "color": "#ab63fa",
          "symbol": "circle"
         },
         "mode": "markers",
         "name": "Toy Story 2",
         "orientation": "v",
         "showlegend": true,
         "type": "scatter",
         "x": [
          92
         ],
         "xaxis": "x",
         "y": [
          7.9
         ],
         "yaxis": "y"
        },
        {
         "hovertemplate": "<b>%{hovertext}</b><br><br>Title=The Incredibles<br>Runtime=%{x}<br>IMDb=%{y}<extra></extra>",
         "hovertext": [
          "The Incredibles"
         ],
         "legendgroup": "The Incredibles",
         "marker": {
          "color": "#FFA15A",
          "symbol": "circle"
         },
         "mode": "markers",
         "name": "The Incredibles",
         "orientation": "v",
         "showlegend": true,
         "type": "scatter",
         "x": [
          115
         ],
         "xaxis": "x",
         "y": [
          8
         ],
         "yaxis": "y"
        },
        {
         "hovertemplate": "<b>%{hovertext}</b><br><br>Title=Pirates of the Caribbean: The Curse of the Black Pearl<br>Runtime=%{x}<br>IMDb=%{y}<extra></extra>",
         "hovertext": [
          "Pirates of the Caribbean: The Curse of the Black Pearl"
         ],
         "legendgroup": "Pirates of the Caribbean: The Curse of the Black Pearl",
         "marker": {
          "color": "#19d3f3",
          "symbol": "circle"
         },
         "mode": "markers",
         "name": "Pirates of the Caribbean: The Curse of the Black Pearl",
         "orientation": "v",
         "showlegend": true,
         "type": "scatter",
         "x": [
          143
         ],
         "xaxis": "x",
         "y": [
          8
         ],
         "yaxis": "y"
        },
        {
         "hovertemplate": "<b>%{hovertext}</b><br><br>Title=Avatar<br>Runtime=%{x}<br>IMDb=%{y}<extra></extra>",
         "hovertext": [
          "Avatar"
         ],
         "legendgroup": "Avatar",
         "marker": {
          "color": "#FF6692",
          "symbol": "circle"
         },
         "mode": "markers",
         "name": "Avatar",
         "orientation": "v",
         "showlegend": true,
         "type": "scatter",
         "x": [
          23
         ],
         "xaxis": "x",
         "y": [
          7.8
         ],
         "yaxis": "y"
        },
        {
         "hovertemplate": "<b>%{hovertext}</b><br><br>Title=Big Hero 6<br>Runtime=%{x}<br>IMDb=%{y}<extra></extra>",
         "hovertext": [
          "Big Hero 6"
         ],
         "legendgroup": "Big Hero 6",
         "marker": {
          "color": "#B6E880",
          "symbol": "circle"
         },
         "mode": "markers",
         "name": "Big Hero 6",
         "orientation": "v",
         "showlegend": true,
         "type": "scatter",
         "x": [
          102
         ],
         "xaxis": "x",
         "y": [
          7.8
         ],
         "yaxis": "y"
        },
        {
         "hovertemplate": "<b>%{hovertext}</b><br><br>Title=Doctor Strange<br>Runtime=%{x}<br>IMDb=%{y}<extra></extra>",
         "hovertext": [
          "Doctor Strange"
         ],
         "legendgroup": "Doctor Strange",
         "marker": {
          "color": "#FF97FF",
          "symbol": "circle"
         },
         "mode": "markers",
         "name": "Doctor Strange",
         "orientation": "v",
         "showlegend": true,
         "type": "scatter",
         "x": [
          115
         ],
         "xaxis": "x",
         "y": [
          7.5
         ],
         "yaxis": "y"
        },
        {
         "hovertemplate": "<b>%{hovertext}</b><br><br>Title=Guardians of the Galaxy Vol. 2<br>Runtime=%{x}<br>IMDb=%{y}<extra></extra>",
         "hovertext": [
          "Guardians of the Galaxy Vol. 2"
         ],
         "legendgroup": "Guardians of the Galaxy Vol. 2",
         "marker": {
          "color": "#FECB52",
          "symbol": "circle"
         },
         "mode": "markers",
         "name": "Guardians of the Galaxy Vol. 2",
         "orientation": "v",
         "showlegend": true,
         "type": "scatter",
         "x": [
          136
         ],
         "xaxis": "x",
         "y": [
          7.6
         ],
         "yaxis": "y"
        },
        {
         "hovertemplate": "<b>%{hovertext}</b><br><br>Title=Rogue One: A Star Wars Story<br>Runtime=%{x}<br>IMDb=%{y}<extra></extra>",
         "hovertext": [
          "Rogue One: A Star Wars Story"
         ],
         "legendgroup": "Rogue One: A Star Wars Story",
         "marker": {
          "color": "#636efa",
          "symbol": "circle"
         },
         "mode": "markers",
         "name": "Rogue One: A Star Wars Story",
         "orientation": "v",
         "showlegend": true,
         "type": "scatter",
         "x": [
          133
         ],
         "xaxis": "x",
         "y": [
          7.8
         ],
         "yaxis": "y"
        },
        {
         "hovertemplate": "<b>%{hovertext}</b><br><br>Title=Toy Story 4<br>Runtime=%{x}<br>IMDb=%{y}<extra></extra>",
         "hovertext": [
          "Toy Story 4"
         ],
         "legendgroup": "Toy Story 4",
         "marker": {
          "color": "#EF553B",
          "symbol": "circle"
         },
         "mode": "markers",
         "name": "Toy Story 4",
         "orientation": "v",
         "showlegend": true,
         "type": "scatter",
         "x": [
          100
         ],
         "xaxis": "x",
         "y": [
          7.8
         ],
         "yaxis": "y"
        },
        {
         "hovertemplate": "<b>%{hovertext}</b><br><br>Title=Moana<br>Runtime=%{x}<br>IMDb=%{y}<extra></extra>",
         "hovertext": [
          "Moana"
         ],
         "legendgroup": "Moana",
         "marker": {
          "color": "#00cc96",
          "symbol": "circle"
         },
         "mode": "markers",
         "name": "Moana",
         "orientation": "v",
         "showlegend": true,
         "type": "scatter",
         "x": [
          107
         ],
         "xaxis": "x",
         "y": [
          7.6
         ],
         "yaxis": "y"
        },
        {
         "hovertemplate": "<b>%{hovertext}</b><br><br>Title=Frozen<br>Runtime=%{x}<br>IMDb=%{y}<extra></extra>",
         "hovertext": [
          "Frozen"
         ],
         "legendgroup": "Frozen",
         "marker": {
          "color": "#ab63fa",
          "symbol": "circle"
         },
         "mode": "markers",
         "name": "Frozen",
         "orientation": "v",
         "showlegend": true,
         "type": "scatter",
         "x": [
          102
         ],
         "xaxis": "x",
         "y": [
          7.4
         ],
         "yaxis": "y"
        },
        {
         "hovertemplate": "<b>%{hovertext}</b><br><br>Title=The Nightmare Before Christmas<br>Runtime=%{x}<br>IMDb=%{y}<extra></extra>",
         "hovertext": [
          "The Nightmare Before Christmas"
         ],
         "legendgroup": "The Nightmare Before Christmas",
         "marker": {
          "color": "#FFA15A",
          "symbol": "circle"
         },
         "mode": "markers",
         "name": "The Nightmare Before Christmas",
         "orientation": "v",
         "showlegend": true,
         "type": "scatter",
         "x": [
          76
         ],
         "xaxis": "x",
         "y": [
          8
         ],
         "yaxis": "y"
        },
        {
         "hovertemplate": "<b>%{hovertext}</b><br><br>Title=Black Panther<br>Runtime=%{x}<br>IMDb=%{y}<extra></extra>",
         "hovertext": [
          "Black Panther"
         ],
         "legendgroup": "Black Panther",
         "marker": {
          "color": "#19d3f3",
          "symbol": "circle"
         },
         "mode": "markers",
         "name": "Black Panther",
         "orientation": "v",
         "showlegend": true,
         "type": "scatter",
         "x": [
          134
         ],
         "xaxis": "x",
         "y": [
          7.3
         ],
         "yaxis": "y"
        },
        {
         "hovertemplate": "<b>%{hovertext}</b><br><br>Title=Tangled<br>Runtime=%{x}<br>IMDb=%{y}<extra></extra>",
         "hovertext": [
          "Tangled"
         ],
         "legendgroup": "Tangled",
         "marker": {
          "color": "#FF6692",
          "symbol": "circle"
         },
         "mode": "markers",
         "name": "Tangled",
         "orientation": "v",
         "showlegend": true,
         "type": "scatter",
         "x": [
          100
         ],
         "xaxis": "x",
         "y": [
          7.7
         ],
         "yaxis": "y"
        },
        {
         "hovertemplate": "<b>%{hovertext}</b><br><br>Title=Wreck-It Ralph<br>Runtime=%{x}<br>IMDb=%{y}<extra></extra>",
         "hovertext": [
          "Wreck-It Ralph"
         ],
         "legendgroup": "Wreck-It Ralph",
         "marker": {
          "color": "#B6E880",
          "symbol": "circle"
         },
         "mode": "markers",
         "name": "Wreck-It Ralph",
         "orientation": "v",
         "showlegend": true,
         "type": "scatter",
         "x": [
          101
         ],
         "xaxis": "x",
         "y": [
          7.7
         ],
         "yaxis": "y"
        },
        {
         "hovertemplate": "<b>%{hovertext}</b><br><br>Title=Ant-Man<br>Runtime=%{x}<br>IMDb=%{y}<extra></extra>",
         "hovertext": [
          "Ant-Man"
         ],
         "legendgroup": "Ant-Man",
         "marker": {
          "color": "#FF97FF",
          "symbol": "circle"
         },
         "mode": "markers",
         "name": "Ant-Man",
         "orientation": "v",
         "showlegend": true,
         "type": "scatter",
         "x": [
          117
         ],
         "xaxis": "x",
         "y": [
          7.3
         ],
         "yaxis": "y"
        },
        {
         "hovertemplate": "<b>%{hovertext}</b><br><br>Title=Onward<br>Runtime=%{x}<br>IMDb=%{y}<extra></extra>",
         "hovertext": [
          "Onward"
         ],
         "legendgroup": "Onward",
         "marker": {
          "color": "#FECB52",
          "symbol": "circle"
         },
         "mode": "markers",
         "name": "Onward",
         "orientation": "v",
         "showlegend": true,
         "type": "scatter",
         "x": [
          102
         ],
         "xaxis": "x",
         "y": [
          7.5
         ],
         "yaxis": "y"
        },
        {
         "hovertemplate": "<b>%{hovertext}</b><br><br>Title=Avengers: Age of Ultron<br>Runtime=%{x}<br>IMDb=%{y}<extra></extra>",
         "hovertext": [
          "Avengers: Age of Ultron"
         ],
         "legendgroup": "Avengers: Age of Ultron",
         "marker": {
          "color": "#636efa",
          "symbol": "circle"
         },
         "mode": "markers",
         "name": "Avengers: Age of Ultron",
         "orientation": "v",
         "showlegend": true,
         "type": "scatter",
         "x": [
          141
         ],
         "xaxis": "x",
         "y": [
          7.3
         ],
         "yaxis": "y"
        },
        {
         "hovertemplate": "<b>%{hovertext}</b><br><br>Title=Mary Poppins<br>Runtime=%{x}<br>IMDb=%{y}<extra></extra>",
         "hovertext": [
          "Mary Poppins"
         ],
         "legendgroup": "Mary Poppins",
         "marker": {
          "color": "#EF553B",
          "symbol": "circle"
         },
         "mode": "markers",
         "name": "Mary Poppins",
         "orientation": "v",
         "showlegend": true,
         "type": "scatter",
         "x": [
          139
         ],
         "xaxis": "x",
         "y": [
          7.8
         ],
         "yaxis": "y"
        },
        {
         "hovertemplate": "<b>%{hovertext}</b><br><br>Title=Finding Dory<br>Runtime=%{x}<br>IMDb=%{y}<extra></extra>",
         "hovertext": [
          "Finding Dory"
         ],
         "legendgroup": "Finding Dory",
         "marker": {
          "color": "#00cc96",
          "symbol": "circle"
         },
         "mode": "markers",
         "name": "Finding Dory",
         "orientation": "v",
         "showlegend": true,
         "type": "scatter",
         "x": [
          97
         ],
         "xaxis": "x",
         "y": [
          7.3
         ],
         "yaxis": "y"
        },
        {
         "hovertemplate": "<b>%{hovertext}</b><br><br>Title=Who Framed Roger Rabbit<br>Runtime=%{x}<br>IMDb=%{y}<extra></extra>",
         "hovertext": [
          "Who Framed Roger Rabbit"
         ],
         "legendgroup": "Who Framed Roger Rabbit",
         "marker": {
          "color": "#ab63fa",
          "symbol": "circle"
         },
         "mode": "markers",
         "name": "Who Framed Roger Rabbit",
         "orientation": "v",
         "showlegend": true,
         "type": "scatter",
         "x": [
          104
         ],
         "xaxis": "x",
         "y": [
          7.7
         ],
         "yaxis": "y"
        },
        {
         "hovertemplate": "<b>%{hovertext}</b><br><br>Title=Mulan<br>Runtime=%{x}<br>IMDb=%{y}<extra></extra>",
         "hovertext": [
          "Mulan"
         ],
         "legendgroup": "Mulan",
         "marker": {
          "color": "#FFA15A",
          "symbol": "circle"
         },
         "mode": "markers",
         "name": "Mulan",
         "orientation": "v",
         "showlegend": true,
         "type": "scatter",
         "x": [
          115
         ],
         "xaxis": "x",
         "y": [
          7.6
         ],
         "yaxis": "y"
        },
        {
         "hovertemplate": "<b>%{hovertext}</b><br><br>Title=Iron Man 3<br>Runtime=%{x}<br>IMDb=%{y}<extra></extra>",
         "hovertext": [
          "Iron Man 3"
         ],
         "legendgroup": "Iron Man 3",
         "marker": {
          "color": "#19d3f3",
          "symbol": "circle"
         },
         "mode": "markers",
         "name": "Iron Man 3",
         "orientation": "v",
         "showlegend": true,
         "type": "scatter",
         "x": [
          130
         ],
         "xaxis": "x",
         "y": [
          7.2
         ],
         "yaxis": "y"
        },
        {
         "hovertemplate": "<b>%{hovertext}</b><br><br>Title=The Sound of Music<br>Runtime=%{x}<br>IMDb=%{y}<extra></extra>",
         "hovertext": [
          "The Sound of Music"
         ],
         "legendgroup": "The Sound of Music",
         "marker": {
          "color": "#FF6692",
          "symbol": "circle"
         },
         "mode": "markers",
         "name": "The Sound of Music",
         "orientation": "v",
         "showlegend": true,
         "type": "scatter",
         "x": [
          172
         ],
         "xaxis": "x",
         "y": [
          8
         ],
         "yaxis": "y"
        },
        {
         "hovertemplate": "<b>%{hovertext}</b><br><br>Title=Ice Age<br>Runtime=%{x}<br>IMDb=%{y}<extra></extra>",
         "hovertext": [
          "Ice Age"
         ],
         "legendgroup": "Ice Age",
         "marker": {
          "color": "#B6E880",
          "symbol": "circle"
         },
         "mode": "markers",
         "name": "Ice Age",
         "orientation": "v",
         "showlegend": true,
         "type": "scatter",
         "x": [
          81
         ],
         "xaxis": "x",
         "y": [
          7.5
         ],
         "yaxis": "y"
        },
        {
         "hovertemplate": "<b>%{hovertext}</b><br><br>Title=Cars<br>Runtime=%{x}<br>IMDb=%{y}<extra></extra>",
         "hovertext": [
          "Cars"
         ],
         "legendgroup": "Cars",
         "marker": {
          "color": "#FF97FF",
          "symbol": "circle"
         },
         "mode": "markers",
         "name": "Cars",
         "orientation": "v",
         "showlegend": true,
         "type": "scatter",
         "x": [
          117
         ],
         "xaxis": "x",
         "y": [
          7.1
         ],
         "yaxis": "y"
        },
        {
         "hovertemplate": "<b>%{hovertext}</b><br><br>Title=Snow White and the Seven Dwarfs<br>Runtime=%{x}<br>IMDb=%{y}<extra></extra>",
         "hovertext": [
          "Snow White and the Seven Dwarfs"
         ],
         "legendgroup": "Snow White and the Seven Dwarfs",
         "marker": {
          "color": "#FECB52",
          "symbol": "circle"
         },
         "mode": "markers",
         "name": "Snow White and the Seven Dwarfs",
         "orientation": "v",
         "showlegend": true,
         "type": "scatter",
         "x": [
          83
         ],
         "xaxis": "x",
         "y": [
          7.6
         ],
         "yaxis": "y"
        },
        {
         "hovertemplate": "<b>%{hovertext}</b><br><br>Title=Monsters University<br>Runtime=%{x}<br>IMDb=%{y}<extra></extra>",
         "hovertext": [
          "Monsters University"
         ],
         "legendgroup": "Monsters University",
         "marker": {
          "color": "#636efa",
          "symbol": "circle"
         },
         "mode": "markers",
         "name": "Monsters University",
         "orientation": "v",
         "showlegend": true,
         "type": "scatter",
         "x": [
          104
         ],
         "xaxis": "x",
         "y": [
          7.3
         ],
         "yaxis": "y"
        },
        {
         "hovertemplate": "<b>%{hovertext}</b><br><br>Title=Frozen II<br>Runtime=%{x}<br>IMDb=%{y}<extra></extra>",
         "hovertext": [
          "Frozen II"
         ],
         "legendgroup": "Frozen II",
         "marker": {
          "color": "#EF553B",
          "symbol": "circle"
         },
         "mode": "markers",
         "name": "Frozen II",
         "orientation": "v",
         "showlegend": true,
         "type": "scatter",
         "x": [
          103
         ],
         "xaxis": "x",
         "y": [
          6.9
         ],
         "yaxis": "y"
        },
        {
         "hovertemplate": "<b>%{hovertext}</b><br><br>Title=Togo<br>Runtime=%{x}<br>IMDb=%{y}<extra></extra>",
         "hovertext": [
          "Togo"
         ],
         "legendgroup": "Togo",
         "marker": {
          "color": "#00cc96",
          "symbol": "circle"
         },
         "mode": "markers",
         "name": "Togo",
         "orientation": "v",
         "showlegend": true,
         "type": "scatter",
         "x": [
          113
         ],
         "xaxis": "x",
         "y": [
          8.1
         ],
         "yaxis": "y"
        },
        {
         "hovertemplate": "<b>%{hovertext}</b><br><br>Title=A Bug's Life<br>Runtime=%{x}<br>IMDb=%{y}<extra></extra>",
         "hovertext": [
          "A Bug's Life"
         ],
         "legendgroup": "A Bug's Life",
         "marker": {
          "color": "#ab63fa",
          "symbol": "circle"
         },
         "mode": "markers",
         "name": "A Bug's Life",
         "orientation": "v",
         "showlegend": true,
         "type": "scatter",
         "x": [
          95
         ],
         "xaxis": "x",
         "y": [
          7.2
         ],
         "yaxis": "y"
        },
        {
         "hovertemplate": "<b>%{hovertext}</b><br><br>Title=The Jungle Book<br>Runtime=%{x}<br>IMDb=%{y}<extra></extra>",
         "hovertext": [
          "The Jungle Book"
         ],
         "legendgroup": "The Jungle Book",
         "marker": {
          "color": "#FFA15A",
          "symbol": "circle"
         },
         "mode": "markers",
         "name": "The Jungle Book",
         "orientation": "v",
         "showlegend": true,
         "type": "scatter",
         "x": [
          106
         ],
         "xaxis": "x",
         "y": [
          7.6
         ],
         "yaxis": "y"
        },
        {
         "hovertemplate": "<b>%{hovertext}</b><br><br>Title=Remember the Titans<br>Runtime=%{x}<br>IMDb=%{y}<extra></extra>",
         "hovertext": [
          "Remember the Titans"
         ],
         "legendgroup": "Remember the Titans",
         "marker": {
          "color": "#19d3f3",
          "symbol": "circle"
         },
         "mode": "markers",
         "name": "Remember the Titans",
         "orientation": "v",
         "showlegend": true,
         "type": "scatter",
         "x": [
          113
         ],
         "xaxis": "x",
         "y": [
          7.8
         ],
         "yaxis": "y"
        },
        {
         "hovertemplate": "<b>%{hovertext}</b><br><br>Title=Brave<br>Runtime=%{x}<br>IMDb=%{y}<extra></extra>",
         "hovertext": [
          "Brave"
         ],
         "legendgroup": "Brave",
         "marker": {
          "color": "#FF6692",
          "symbol": "circle"
         },
         "mode": "markers",
         "name": "Brave",
         "orientation": "v",
         "showlegend": true,
         "type": "scatter",
         "x": [
          93
         ],
         "xaxis": "x",
         "y": [
          7.1
         ],
         "yaxis": "y"
        },
        {
         "hovertemplate": "<b>%{hovertext}</b><br><br>Title=The Simpsons Movie<br>Runtime=%{x}<br>IMDb=%{y}<extra></extra>",
         "hovertext": [
          "The Simpsons Movie"
         ],
         "legendgroup": "The Simpsons Movie",
         "marker": {
          "color": "#B6E880",
          "symbol": "circle"
         },
         "mode": "markers",
         "name": "The Simpsons Movie",
         "orientation": "v",
         "showlegend": true,
         "type": "scatter",
         "x": [
          87
         ],
         "xaxis": "x",
         "y": [
          7.3
         ],
         "yaxis": "y"
        },
        {
         "hovertemplate": "<b>%{hovertext}</b><br><br>Title=Fantasia<br>Runtime=%{x}<br>IMDb=%{y}<extra></extra>",
         "hovertext": [
          "Fantasia"
         ],
         "legendgroup": "Fantasia",
         "marker": {
          "color": "#FF97FF",
          "symbol": "circle"
         },
         "mode": "markers",
         "name": "Fantasia",
         "orientation": "v",
         "showlegend": true,
         "type": "scatter",
         "x": [
          125
         ],
         "xaxis": "x",
         "y": [
          7.8
         ],
         "yaxis": "y"
        },
        {
         "hovertemplate": "<b>%{hovertext}</b><br><br>Title=The Emperor's New Groove<br>Runtime=%{x}<br>IMDb=%{y}<extra></extra>",
         "hovertext": [
          "The Emperor's New Groove"
         ],
         "legendgroup": "The Emperor's New Groove",
         "marker": {
          "color": "#FECB52",
          "symbol": "circle"
         },
         "mode": "markers",
         "name": "The Emperor's New Groove",
         "orientation": "v",
         "showlegend": true,
         "type": "scatter",
         "x": [
          78
         ],
         "xaxis": "x",
         "y": [
          7.3
         ],
         "yaxis": "y"
        },
        {
         "hovertemplate": "<b>%{hovertext}</b><br><br>Title=The Straight Story<br>Runtime=%{x}<br>IMDb=%{y}<extra></extra>",
         "hovertext": [
          "The Straight Story"
         ],
         "legendgroup": "The Straight Story",
         "marker": {
          "color": "#636efa",
          "symbol": "circle"
         },
         "mode": "markers",
         "name": "The Straight Story",
         "orientation": "v",
         "showlegend": true,
         "type": "scatter",
         "x": [
          112
         ],
         "xaxis": "x",
         "y": [
          8
         ],
         "yaxis": "y"
        },
        {
         "hovertemplate": "<b>%{hovertext}</b><br><br>Title=One Hundred and One Dalmatians<br>Runtime=%{x}<br>IMDb=%{y}<extra></extra>",
         "hovertext": [
          "One Hundred and One Dalmatians"
         ],
         "legendgroup": "One Hundred and One Dalmatians",
         "marker": {
          "color": "#EF553B",
          "symbol": "circle"
         },
         "mode": "markers",
         "name": "One Hundred and One Dalmatians",
         "orientation": "v",
         "showlegend": true,
         "type": "scatter",
         "x": [
          79
         ],
         "xaxis": "x",
         "y": [
          7.2
         ],
         "yaxis": "y"
        },
        {
         "hovertemplate": "<b>%{hovertext}</b><br><br>Title=Lady and the Tramp<br>Runtime=%{x}<br>IMDb=%{y}<extra></extra>",
         "hovertext": [
          "Lady and the Tramp"
         ],
         "legendgroup": "Lady and the Tramp",
         "marker": {
          "color": "#00cc96",
          "symbol": "circle"
         },
         "mode": "markers",
         "name": "Lady and the Tramp",
         "orientation": "v",
         "showlegend": true,
         "type": "scatter",
         "x": [
          103
         ],
         "xaxis": "x",
         "y": [
          7.3
         ],
         "yaxis": "y"
        },
        {
         "hovertemplate": "<b>%{hovertext}</b><br><br>Title=Pinocchio<br>Runtime=%{x}<br>IMDb=%{y}<extra></extra>",
         "hovertext": [
          "Pinocchio"
         ],
         "legendgroup": "Pinocchio",
         "marker": {
          "color": "#ab63fa",
          "symbol": "circle"
         },
         "mode": "markers",
         "name": "Pinocchio",
         "orientation": "v",
         "showlegend": true,
         "type": "scatter",
         "x": [
          120
         ],
         "xaxis": "x",
         "y": [
          7.4
         ],
         "yaxis": "y"
        },
        {
         "hovertemplate": "<b>%{hovertext}</b><br><br>Title=Thor: The Dark World<br>Runtime=%{x}<br>IMDb=%{y}<extra></extra>",
         "hovertext": [
          "Thor: The Dark World"
         ],
         "legendgroup": "Thor: The Dark World",
         "marker": {
          "color": "#FFA15A",
          "symbol": "circle"
         },
         "mode": "markers",
         "name": "Thor: The Dark World",
         "orientation": "v",
         "showlegend": true,
         "type": "scatter",
         "x": [
          112
         ],
         "xaxis": "x",
         "y": [
          6.9
         ],
         "yaxis": "y"
        },
        {
         "hovertemplate": "<b>%{hovertext}</b><br><br>Title=Star Wars: The Last Jedi<br>Runtime=%{x}<br>IMDb=%{y}<extra></extra>",
         "hovertext": [
          "Star Wars: The Last Jedi"
         ],
         "legendgroup": "Star Wars: The Last Jedi",
         "marker": {
          "color": "#19d3f3",
          "symbol": "circle"
         },
         "mode": "markers",
         "name": "Star Wars: The Last Jedi",
         "orientation": "v",
         "showlegend": true,
         "type": "scatter",
         "x": [
          152
         ],
         "xaxis": "x",
         "y": [
          7
         ],
         "yaxis": "y"
        },
        {
         "hovertemplate": "<b>%{hovertext}</b><br><br>Title=Lilo & Stitch<br>Runtime=%{x}<br>IMDb=%{y}<extra></extra>",
         "hovertext": [
          "Lilo & Stitch"
         ],
         "legendgroup": "Lilo & Stitch",
         "marker": {
          "color": "#FF6692",
          "symbol": "circle"
         },
         "mode": "markers",
         "name": "Lilo & Stitch",
         "orientation": "v",
         "showlegend": true,
         "type": "scatter",
         "x": [
          85
         ],
         "xaxis": "x",
         "y": [
          7.2
         ],
         "yaxis": "y"
        },
        {
         "hovertemplate": "<b>%{hovertext}</b><br><br>Title=Star Wars: The Rise of Skywalker<br>Runtime=%{x}<br>IMDb=%{y}<extra></extra>",
         "hovertext": [
          "Star Wars: The Rise of Skywalker"
         ],
         "legendgroup": "Star Wars: The Rise of Skywalker",
         "marker": {
          "color": "#B6E880",
          "symbol": "circle"
         },
         "mode": "markers",
         "name": "Star Wars: The Rise of Skywalker",
         "orientation": "v",
         "showlegend": true,
         "type": "scatter",
         "x": [
          142
         ],
         "xaxis": "x",
         "y": [
          6.7
         ],
         "yaxis": "y"
        },
        {
         "hovertemplate": "<b>%{hovertext}</b><br><br>Title=Pirates of the Caribbean: Dead Man's Chest<br>Runtime=%{x}<br>IMDb=%{y}<extra></extra>",
         "hovertext": [
          "Pirates of the Caribbean: Dead Man's Chest"
         ],
         "legendgroup": "Pirates of the Caribbean: Dead Man's Chest",
         "marker": {
          "color": "#FF97FF",
          "symbol": "circle"
         },
         "mode": "markers",
         "name": "Pirates of the Caribbean: Dead Man's Chest",
         "orientation": "v",
         "showlegend": true,
         "type": "scatter",
         "x": [
          151
         ],
         "xaxis": "x",
         "y": [
          7.3
         ],
         "yaxis": "y"
        },
        {
         "hovertemplate": "<b>%{hovertext}</b><br><br>Title=Bambi<br>Runtime=%{x}<br>IMDb=%{y}<extra></extra>",
         "hovertext": [
          "Bambi"
         ],
         "legendgroup": "Bambi",
         "marker": {
          "color": "#FECB52",
          "symbol": "circle"
         },
         "mode": "markers",
         "name": "Bambi",
         "orientation": "v",
         "showlegend": true,
         "type": "scatter",
         "x": [
          70
         ],
         "xaxis": "x",
         "y": [
          7.3
         ],
         "yaxis": "y"
        },
        {
         "hovertemplate": "<b>%{hovertext}</b><br><br>Title=Captain Marvel<br>Runtime=%{x}<br>IMDb=%{y}<extra></extra>",
         "hovertext": [
          "Captain Marvel"
         ],
         "legendgroup": "Captain Marvel",
         "marker": {
          "color": "#636efa",
          "symbol": "circle"
         },
         "mode": "markers",
         "name": "Captain Marvel",
         "orientation": "v",
         "showlegend": true,
         "type": "scatter",
         "x": [
          123
         ],
         "xaxis": "x",
         "y": [
          6.9
         ],
         "yaxis": "y"
        },
        {
         "hovertemplate": "<b>%{hovertext}</b><br><br>Title=Alice in Wonderland<br>Runtime=%{x}<br>IMDb=%{y}<extra></extra>",
         "hovertext": [
          "Alice in Wonderland"
         ],
         "legendgroup": "Alice in Wonderland",
         "marker": {
          "color": "#EF553B",
          "symbol": "circle"
         },
         "mode": "markers",
         "name": "Alice in Wonderland",
         "orientation": "v",
         "showlegend": true,
         "type": "scatter",
         "x": [
          108
         ],
         "xaxis": "x",
         "y": [
          7.4
         ],
         "yaxis": "y"
        },
        {
         "hovertemplate": "<b>%{hovertext}</b><br><br>Title=Peter Pan<br>Runtime=%{x}<br>IMDb=%{y}<extra></extra>",
         "hovertext": [
          "Peter Pan"
         ],
         "legendgroup": "Peter Pan",
         "marker": {
          "color": "#00cc96",
          "symbol": "circle"
         },
         "mode": "markers",
         "name": "Peter Pan",
         "orientation": "v",
         "showlegend": true,
         "type": "scatter",
         "x": [
          113
         ],
         "xaxis": "x",
         "y": [
          7.3
         ],
         "yaxis": "y"
        },
        {
         "hovertemplate": "<b>%{hovertext}</b><br><br>Title=The Chronicles of Narnia: The Lion, the Witch and the Wardrobe<br>Runtime=%{x}<br>IMDb=%{y}<extra></extra>",
         "hovertext": [
          "The Chronicles of Narnia: The Lion, the Witch and the Wardrobe"
         ],
         "legendgroup": "The Chronicles of Narnia: The Lion, the Witch and the Wardrobe",
         "marker": {
          "color": "#ab63fa",
          "symbol": "circle"
         },
         "mode": "markers",
         "name": "The Chronicles of Narnia: The Lion, the Witch and the Wardrobe",
         "orientation": "v",
         "showlegend": true,
         "type": "scatter",
         "x": [
          143
         ],
         "xaxis": "x",
         "y": [
          6.9
         ],
         "yaxis": "y"
        },
        {
         "hovertemplate": "<b>%{hovertext}</b><br><br>Title=Miracle on 34th Street<br>Runtime=%{x}<br>IMDb=%{y}<extra></extra>",
         "hovertext": [
          "Miracle on 34th Street"
         ],
         "legendgroup": "Miracle on 34th Street",
         "marker": {
          "color": "#FFA15A",
          "symbol": "circle"
         },
         "mode": "markers",
         "name": "Miracle on 34th Street",
         "orientation": "v",
         "showlegend": true,
         "type": "scatter",
         "x": [
          96
         ],
         "xaxis": "x",
         "y": [
          7.9
         ],
         "yaxis": "y"
        },
        {
         "hovertemplate": "<b>%{hovertext}</b><br><br>Title=Pirates of the Caribbean: At World's End<br>Runtime=%{x}<br>IMDb=%{y}<extra></extra>",
         "hovertext": [
          "Pirates of the Caribbean: At World's End"
         ],
         "legendgroup": "Pirates of the Caribbean: At World's End",
         "marker": {
          "color": "#19d3f3",
          "symbol": "circle"
         },
         "mode": "markers",
         "name": "Pirates of the Caribbean: At World's End",
         "orientation": "v",
         "showlegend": true,
         "type": "scatter",
         "x": [
          169
         ],
         "xaxis": "x",
         "y": [
          7.1
         ],
         "yaxis": "y"
        },
        {
         "hovertemplate": "<b>%{hovertext}</b><br><br>Title=The Many Adventures of Winnie the Pooh<br>Runtime=%{x}<br>IMDb=%{y}<extra></extra>",
         "hovertext": [
          "The Many Adventures of Winnie the Pooh"
         ],
         "legendgroup": "The Many Adventures of Winnie the Pooh",
         "marker": {
          "color": "#FF6692",
          "symbol": "circle"
         },
         "mode": "markers",
         "name": "The Many Adventures of Winnie the Pooh",
         "orientation": "v",
         "showlegend": true,
         "type": "scatter",
         "x": [
          74
         ],
         "xaxis": "x",
         "y": [
          7.6
         ],
         "yaxis": "y"
        },
        {
         "hovertemplate": "<b>%{hovertext}</b><br><br>Title=Star Wars: Episode II - Attack of the Clones<br>Runtime=%{x}<br>IMDb=%{y}<extra></extra>",
         "hovertext": [
          "Star Wars: Episode II - Attack of the Clones"
         ],
         "legendgroup": "Star Wars: Episode II - Attack of the Clones",
         "marker": {
          "color": "#B6E880",
          "symbol": "circle"
         },
         "mode": "markers",
         "name": "Star Wars: Episode II - Attack of the Clones",
         "orientation": "v",
         "showlegend": true,
         "type": "scatter",
         "x": [
          142
         ],
         "xaxis": "x",
         "y": [
          6.5
         ],
         "yaxis": "y"
        },
        {
         "hovertemplate": "<b>%{hovertext}</b><br><br>Title=The Muppet Movie<br>Runtime=%{x}<br>IMDb=%{y}<extra></extra>",
         "hovertext": [
          "The Muppet Movie"
         ],
         "legendgroup": "The Muppet Movie",
         "marker": {
          "color": "#FF97FF",
          "symbol": "circle"
         },
         "mode": "markers",
         "name": "The Muppet Movie",
         "orientation": "v",
         "showlegend": true,
         "type": "scatter",
         "x": [
          95
         ],
         "xaxis": "x",
         "y": [
          7.6
         ],
         "yaxis": "y"
        },
        {
         "hovertemplate": "<b>%{hovertext}</b><br><br>Title=Mickey's Christmas Carol<br>Runtime=%{x}<br>IMDb=%{y}<extra></extra>",
         "hovertext": [
          "Mickey's Christmas Carol"
         ],
         "legendgroup": "Mickey's Christmas Carol",
         "marker": {
          "color": "#FECB52",
          "symbol": "circle"
         },
         "mode": "markers",
         "name": "Mickey's Christmas Carol",
         "orientation": "v",
         "showlegend": true,
         "type": "scatter",
         "x": [
          26
         ],
         "xaxis": "x",
         "y": [
          8
         ],
         "yaxis": "y"
        },
        {
         "hovertemplate": "<b>%{hovertext}</b><br><br>Title=Star Wars: Episode I - The Phantom Menace<br>Runtime=%{x}<br>IMDb=%{y}<extra></extra>",
         "hovertext": [
          "Star Wars: Episode I - The Phantom Menace"
         ],
         "legendgroup": "Star Wars: Episode I - The Phantom Menace",
         "marker": {
          "color": "#636efa",
          "symbol": "circle"
         },
         "mode": "markers",
         "name": "Star Wars: Episode I - The Phantom Menace",
         "orientation": "v",
         "showlegend": true,
         "type": "scatter",
         "x": [
          136
         ],
         "xaxis": "x",
         "y": [
          6.5
         ],
         "yaxis": "y"
        },
        {
         "hovertemplate": "<b>%{hovertext}</b><br><br>Title=Cool Runnings<br>Runtime=%{x}<br>IMDb=%{y}<extra></extra>",
         "hovertext": [
          "Cool Runnings"
         ],
         "legendgroup": "Cool Runnings",
         "marker": {
          "color": "#EF553B",
          "symbol": "circle"
         },
         "mode": "markers",
         "name": "Cool Runnings",
         "orientation": "v",
         "showlegend": true,
         "type": "scatter",
         "x": [
          98
         ],
         "xaxis": "x",
         "y": [
          7
         ],
         "yaxis": "y"
        },
        {
         "hovertemplate": "<b>%{hovertext}</b><br><br>Title=The Parent Trap<br>Runtime=%{x}<br>IMDb=%{y}<extra></extra>",
         "hovertext": [
          "The Parent Trap"
         ],
         "legendgroup": "The Parent Trap",
         "marker": {
          "color": "#00cc96",
          "symbol": "circle"
         },
         "mode": "markers",
         "name": "The Parent Trap",
         "orientation": "v",
         "showlegend": true,
         "type": "scatter",
         "x": [
          128
         ],
         "xaxis": "x",
         "y": [
          6.5
         ],
         "yaxis": "y"
        },
        {
         "hovertemplate": "<b>%{hovertext}</b><br><br>Title=The Muppet Christmas Carol<br>Runtime=%{x}<br>IMDb=%{y}<extra></extra>",
         "hovertext": [
          "The Muppet Christmas Carol"
         ],
         "legendgroup": "The Muppet Christmas Carol",
         "marker": {
          "color": "#ab63fa",
          "symbol": "circle"
         },
         "mode": "markers",
         "name": "The Muppet Christmas Carol",
         "orientation": "v",
         "showlegend": true,
         "type": "scatter",
         "x": [
          85
         ],
         "xaxis": "x",
         "y": [
          7.7
         ],
         "yaxis": "y"
        },
        {
         "hovertemplate": "<b>%{hovertext}</b><br><br>Title=Treasure Planet<br>Runtime=%{x}<br>IMDb=%{y}<extra></extra>",
         "hovertext": [
          "Treasure Planet"
         ],
         "legendgroup": "Treasure Planet",
         "marker": {
          "color": "#FFA15A",
          "symbol": "circle"
         },
         "mode": "markers",
         "name": "Treasure Planet",
         "orientation": "v",
         "showlegend": true,
         "type": "scatter",
         "x": [
          95
         ],
         "xaxis": "x",
         "y": [
          7.2
         ],
         "yaxis": "y"
        },
        {
         "hovertemplate": "<b>%{hovertext}</b><br><br>Title=The Fox and the Hound<br>Runtime=%{x}<br>IMDb=%{y}<extra></extra>",
         "hovertext": [
          "The Fox and the Hound"
         ],
         "legendgroup": "The Fox and the Hound",
         "marker": {
          "color": "#19d3f3",
          "symbol": "circle"
         },
         "mode": "markers",
         "name": "The Fox and the Hound",
         "orientation": "v",
         "showlegend": true,
         "type": "scatter",
         "x": [
          83
         ],
         "xaxis": "x",
         "y": [
          7.3
         ],
         "yaxis": "y"
        },
        {
         "hovertemplate": "<b>%{hovertext}</b><br><br>Title=Holes<br>Runtime=%{x}<br>IMDb=%{y}<extra></extra>",
         "hovertext": [
          "Holes"
         ],
         "legendgroup": "Holes",
         "marker": {
          "color": "#FF6692",
          "symbol": "circle"
         },
         "mode": "markers",
         "name": "Holes",
         "orientation": "v",
         "showlegend": true,
         "type": "scatter",
         "x": [
          117
         ],
         "xaxis": "x",
         "y": [
          7
         ],
         "yaxis": "y"
        },
        {
         "hovertemplate": "<b>%{hovertext}</b><br><br>Title=Pete's Dragon<br>Runtime=%{x}<br>IMDb=%{y}<extra></extra>",
         "hovertext": [
          "Pete's Dragon"
         ],
         "legendgroup": "Pete's Dragon",
         "marker": {
          "color": "#B6E880",
          "symbol": "circle"
         },
         "mode": "markers",
         "name": "Pete's Dragon",
         "orientation": "v",
         "showlegend": true,
         "type": "scatter",
         "x": [
          102
         ],
         "xaxis": "x",
         "y": [
          6.7
         ],
         "yaxis": "y"
        },
        {
         "hovertemplate": "<b>%{hovertext}</b><br><br>Title=The Good Dinosaur<br>Runtime=%{x}<br>IMDb=%{y}<extra></extra>",
         "hovertext": [
          "The Good Dinosaur"
         ],
         "legendgroup": "The Good Dinosaur",
         "marker": {
          "color": "#FF97FF",
          "symbol": "circle"
         },
         "mode": "markers",
         "name": "The Good Dinosaur",
         "orientation": "v",
         "showlegend": true,
         "type": "scatter",
         "x": [
          93
         ],
         "xaxis": "x",
         "y": [
          6.7
         ],
         "yaxis": "y"
        },
        {
         "hovertemplate": "<b>%{hovertext}</b><br><br>Title=Frankenweenie<br>Runtime=%{x}<br>IMDb=%{y}<extra></extra>",
         "hovertext": [
          "Frankenweenie"
         ],
         "legendgroup": "Frankenweenie",
         "marker": {
          "color": "#FECB52",
          "symbol": "circle"
         },
         "mode": "markers",
         "name": "Frankenweenie",
         "orientation": "v",
         "showlegend": true,
         "type": "scatter",
         "x": [
          87
         ],
         "xaxis": "x",
         "y": [
          6.9
         ],
         "yaxis": "y"
        },
        {
         "hovertemplate": "<b>%{hovertext}</b><br><br>Title=Tron<br>Runtime=%{x}<br>IMDb=%{y}<extra></extra>",
         "hovertext": [
          "Tron"
         ],
         "legendgroup": "Tron",
         "marker": {
          "color": "#636efa",
          "symbol": "circle"
         },
         "mode": "markers",
         "name": "Tron",
         "orientation": "v",
         "showlegend": true,
         "type": "scatter",
         "x": [
          125
         ],
         "xaxis": "x",
         "y": [
          6.8
         ],
         "yaxis": "y"
        },
        {
         "hovertemplate": "<b>%{hovertext}</b><br><br>Title=Winnie the Pooh<br>Runtime=%{x}<br>IMDb=%{y}<extra></extra>",
         "hovertext": [
          "Winnie the Pooh"
         ],
         "legendgroup": "Winnie the Pooh",
         "marker": {
          "color": "#EF553B",
          "symbol": "circle"
         },
         "mode": "markers",
         "name": "Winnie the Pooh",
         "orientation": "v",
         "showlegend": true,
         "type": "scatter",
         "x": [
          104
         ],
         "xaxis": "x",
         "y": [
          7.2
         ],
         "yaxis": "y"
        },
        {
         "hovertemplate": "<b>%{hovertext}</b><br><br>Title=TRON: Legacy<br>Runtime=%{x}<br>IMDb=%{y}<extra></extra>",
         "hovertext": [
          "TRON: Legacy"
         ],
         "legendgroup": "TRON: Legacy",
         "marker": {
          "color": "#00cc96",
          "symbol": "circle"
         },
         "mode": "markers",
         "name": "TRON: Legacy",
         "orientation": "v",
         "showlegend": true,
         "type": "scatter",
         "x": [
          125
         ],
         "xaxis": "x",
         "y": [
          6.8
         ],
         "yaxis": "y"
        },
        {
         "hovertemplate": "<b>%{hovertext}</b><br><br>Title=The Sword in the Stone<br>Runtime=%{x}<br>IMDb=%{y}<extra></extra>",
         "hovertext": [
          "The Sword in the Stone"
         ],
         "legendgroup": "The Sword in the Stone",
         "marker": {
          "color": "#ab63fa",
          "symbol": "circle"
         },
         "mode": "markers",
         "name": "The Sword in the Stone",
         "orientation": "v",
         "showlegend": true,
         "type": "scatter",
         "x": [
          79
         ],
         "xaxis": "x",
         "y": [
          7.2
         ],
         "yaxis": "y"
        },
        {
         "hovertemplate": "<b>%{hovertext}</b><br><br>Title=The Aristocats<br>Runtime=%{x}<br>IMDb=%{y}<extra></extra>",
         "hovertext": [
          "The Aristocats"
         ],
         "legendgroup": "The Aristocats",
         "marker": {
          "color": "#FFA15A",
          "symbol": "circle"
         },
         "mode": "markers",
         "name": "The Aristocats",
         "orientation": "v",
         "showlegend": true,
         "type": "scatter",
         "x": [
          78
         ],
         "xaxis": "x",
         "y": [
          7.1
         ],
         "yaxis": "y"
        },
        {
         "hovertemplate": "<b>%{hovertext}</b><br><br>Title=Cars 3<br>Runtime=%{x}<br>IMDb=%{y}<extra></extra>",
         "hovertext": [
          "Cars 3"
         ],
         "legendgroup": "Cars 3",
         "marker": {
          "color": "#19d3f3",
          "symbol": "circle"
         },
         "mode": "markers",
         "name": "Cars 3",
         "orientation": "v",
         "showlegend": true,
         "type": "scatter",
         "x": [
          102
         ],
         "xaxis": "x",
         "y": [
          6.7
         ],
         "yaxis": "y"
        },
        {
         "hovertemplate": "<b>%{hovertext}</b><br><br>Title=Queen of Katwe<br>Runtime=%{x}<br>IMDb=%{y}<extra></extra>",
         "hovertext": [
          "Queen of Katwe"
         ],
         "legendgroup": "Queen of Katwe",
         "marker": {
          "color": "#FF6692",
          "symbol": "circle"
         },
         "mode": "markers",
         "name": "Queen of Katwe",
         "orientation": "v",
         "showlegend": true,
         "type": "scatter",
         "x": [
          124
         ],
         "xaxis": "x",
         "y": [
          7.4
         ],
         "yaxis": "y"
        },
        {
         "hovertemplate": "<b>%{hovertext}</b><br><br>Title=Homeward Bound: The Incredible Journey<br>Runtime=%{x}<br>IMDb=%{y}<extra></extra>",
         "hovertext": [
          "Homeward Bound: The Incredible Journey"
         ],
         "legendgroup": "Homeward Bound: The Incredible Journey",
         "marker": {
          "color": "#B6E880",
          "symbol": "circle"
         },
         "mode": "markers",
         "name": "Homeward Bound: The Incredible Journey",
         "orientation": "v",
         "showlegend": true,
         "type": "scatter",
         "x": [
          84
         ],
         "xaxis": "x",
         "y": [
          6.9
         ],
         "yaxis": "y"
        },
        {
         "hovertemplate": "<b>%{hovertext}</b><br><br>Title=Maleficent: Mistress of Evil<br>Runtime=%{x}<br>IMDb=%{y}<extra></extra>",
         "hovertext": [
          "Maleficent: Mistress of Evil"
         ],
         "legendgroup": "Maleficent: Mistress of Evil",
         "marker": {
          "color": "#FF97FF",
          "symbol": "circle"
         },
         "mode": "markers",
         "name": "Maleficent: Mistress of Evil",
         "orientation": "v",
         "showlegend": true,
         "type": "scatter",
         "x": [
          119
         ],
         "xaxis": "x",
         "y": [
          6.6
         ],
         "yaxis": "y"
        },
        {
         "hovertemplate": "<b>%{hovertext}</b><br><br>Title=Before the Flood<br>Runtime=%{x}<br>IMDb=%{y}<extra></extra>",
         "hovertext": [
          "Before the Flood"
         ],
         "legendgroup": "Before the Flood",
         "marker": {
          "color": "#FECB52",
          "symbol": "circle"
         },
         "mode": "markers",
         "name": "Before the Flood",
         "orientation": "v",
         "showlegend": true,
         "type": "scatter",
         "x": [
          96
         ],
         "xaxis": "x",
         "y": [
          8.3
         ],
         "yaxis": "y"
        },
        {
         "hovertemplate": "<b>%{hovertext}</b><br><br>Title=The Chronicles of Narnia: Prince Caspian<br>Runtime=%{x}<br>IMDb=%{y}<extra></extra>",
         "hovertext": [
          "The Chronicles of Narnia: Prince Caspian"
         ],
         "legendgroup": "The Chronicles of Narnia: Prince Caspian",
         "marker": {
          "color": "#636efa",
          "symbol": "circle"
         },
         "mode": "markers",
         "name": "The Chronicles of Narnia: Prince Caspian",
         "orientation": "v",
         "showlegend": true,
         "type": "scatter",
         "x": [
          150
         ],
         "xaxis": "x",
         "y": [
          6.5
         ],
         "yaxis": "y"
        },
        {
         "hovertemplate": "<b>%{hovertext}</b><br><br>Title=The Great Mouse Detective<br>Runtime=%{x}<br>IMDb=%{y}<extra></extra>",
         "hovertext": [
          "The Great Mouse Detective"
         ],
         "legendgroup": "The Great Mouse Detective",
         "marker": {
          "color": "#EF553B",
          "symbol": "circle"
         },
         "mode": "markers",
         "name": "The Great Mouse Detective",
         "orientation": "v",
         "showlegend": true,
         "type": "scatter",
         "x": [
          74
         ],
         "xaxis": "x",
         "y": [
          7.2
         ],
         "yaxis": "y"
        },
        {
         "hovertemplate": "<b>%{hovertext}</b><br><br>Title=Flight of the Navigator<br>Runtime=%{x}<br>IMDb=%{y}<extra></extra>",
         "hovertext": [
          "Flight of the Navigator"
         ],
         "legendgroup": "Flight of the Navigator",
         "marker": {
          "color": "#00cc96",
          "symbol": "circle"
         },
         "mode": "markers",
         "name": "Flight of the Navigator",
         "orientation": "v",
         "showlegend": true,
         "type": "scatter",
         "x": [
          90
         ],
         "xaxis": "x",
         "y": [
          6.9
         ],
         "yaxis": "y"
        },
        {
         "hovertemplate": "<b>%{hovertext}</b><br><br>Title=James and the Giant Peach<br>Runtime=%{x}<br>IMDb=%{y}<extra></extra>",
         "hovertext": [
          "James and the Giant Peach"
         ],
         "legendgroup": "James and the Giant Peach",
         "marker": {
          "color": "#ab63fa",
          "symbol": "circle"
         },
         "mode": "markers",
         "name": "James and the Giant Peach",
         "orientation": "v",
         "showlegend": true,
         "type": "scatter",
         "x": [
          79
         ],
         "xaxis": "x",
         "y": [
          6.7
         ],
         "yaxis": "y"
        },
        {
         "hovertemplate": "<b>%{hovertext}</b><br><br>Title=Willow<br>Runtime=%{x}<br>IMDb=%{y}<extra></extra>",
         "hovertext": [
          "Willow"
         ],
         "legendgroup": "Willow",
         "marker": {
          "color": "#FFA15A",
          "symbol": "circle"
         },
         "mode": "markers",
         "name": "Willow",
         "orientation": "v",
         "showlegend": true,
         "type": "scatter",
         "x": [
          126
         ],
         "xaxis": "x",
         "y": [
          7.3
         ],
         "yaxis": "y"
        },
        {
         "hovertemplate": "<b>%{hovertext}</b><br><br>Title=Meet the Robinsons<br>Runtime=%{x}<br>IMDb=%{y}<extra></extra>",
         "hovertext": [
          "Meet the Robinsons"
         ],
         "legendgroup": "Meet the Robinsons",
         "marker": {
          "color": "#19d3f3",
          "symbol": "circle"
         },
         "mode": "markers",
         "name": "Meet the Robinsons",
         "orientation": "v",
         "showlegend": true,
         "type": "scatter",
         "x": [
          95
         ],
         "xaxis": "x",
         "y": [
          6.8
         ],
         "yaxis": "y"
        },
        {
         "hovertemplate": "<b>%{hovertext}</b><br><br>Title=Star Wars: Episode III - Revenge of the Sith<br>Runtime=%{x}<br>IMDb=%{y}<extra></extra>",
         "hovertext": [
          "Star Wars: Episode III - Revenge of the Sith"
         ],
         "legendgroup": "Star Wars: Episode III - Revenge of the Sith",
         "marker": {
          "color": "#FF6692",
          "symbol": "circle"
         },
         "mode": "markers",
         "name": "Star Wars: Episode III - Revenge of the Sith",
         "orientation": "v",
         "showlegend": true,
         "type": "scatter",
         "x": [
          140
         ],
         "xaxis": "x",
         "y": [
          7.5
         ],
         "yaxis": "y"
        },
        {
         "hovertemplate": "<b>%{hovertext}</b><br><br>Title=Fantasia 2000<br>Runtime=%{x}<br>IMDb=%{y}<extra></extra>",
         "hovertext": [
          "Fantasia 2000"
         ],
         "legendgroup": "Fantasia 2000",
         "marker": {
          "color": "#B6E880",
          "symbol": "circle"
         },
         "mode": "markers",
         "name": "Fantasia 2000",
         "orientation": "v",
         "showlegend": true,
         "type": "scatter",
         "x": [
          75
         ],
         "xaxis": "x",
         "y": [
          7.2
         ],
         "yaxis": "y"
        },
        {
         "hovertemplate": "<b>%{hovertext}</b><br><br>Title=Tinker Bell<br>Runtime=%{x}<br>IMDb=%{y}<extra></extra>",
         "hovertext": [
          "Tinker Bell"
         ],
         "legendgroup": "Tinker Bell",
         "marker": {
          "color": "#FF97FF",
          "symbol": "circle"
         },
         "mode": "markers",
         "name": "Tinker Bell",
         "orientation": "v",
         "showlegend": true,
         "type": "scatter",
         "x": [
          78
         ],
         "xaxis": "x",
         "y": [
          6.8
         ],
         "yaxis": "y"
        },
        {
         "hovertemplate": "<b>%{hovertext}</b><br><br>Title=The Rescuers<br>Runtime=%{x}<br>IMDb=%{y}<extra></extra>",
         "hovertext": [
          "The Rescuers"
         ],
         "legendgroup": "The Rescuers",
         "marker": {
          "color": "#FECB52",
          "symbol": "circle"
         },
         "mode": "markers",
         "name": "The Rescuers",
         "orientation": "v",
         "showlegend": true,
         "type": "scatter",
         "x": [
          78
         ],
         "xaxis": "x",
         "y": [
          6.9
         ],
         "yaxis": "y"
        },
        {
         "hovertemplate": "<b>%{hovertext}</b><br><br>Title=Eight Below<br>Runtime=%{x}<br>IMDb=%{y}<extra></extra>",
         "hovertext": [
          "Eight Below"
         ],
         "legendgroup": "Eight Below",
         "marker": {
          "color": "#636efa",
          "symbol": "circle"
         },
         "mode": "markers",
         "name": "Eight Below",
         "orientation": "v",
         "showlegend": true,
         "type": "scatter",
         "x": [
          120
         ],
         "xaxis": "x",
         "y": [
          7.3
         ],
         "yaxis": "y"
        },
        {
         "hovertemplate": "<b>%{hovertext}</b><br><br>Title=Invincible<br>Runtime=%{x}<br>IMDb=%{y}<extra></extra>",
         "hovertext": [
          "Invincible"
         ],
         "legendgroup": "Invincible",
         "marker": {
          "color": "#EF553B",
          "symbol": "circle"
         },
         "mode": "markers",
         "name": "Invincible",
         "orientation": "v",
         "showlegend": true,
         "type": "scatter",
         "x": [
          137
         ],
         "xaxis": "x",
         "y": [
          7.1
         ],
         "yaxis": "y"
        },
        {
         "hovertemplate": "<b>%{hovertext}</b><br><br>Title=Sister Act<br>Runtime=%{x}<br>IMDb=%{y}<extra></extra>",
         "hovertext": [
          "Sister Act"
         ],
         "legendgroup": "Sister Act",
         "marker": {
          "color": "#00cc96",
          "symbol": "circle"
         },
         "mode": "markers",
         "name": "Sister Act",
         "orientation": "v",
         "showlegend": true,
         "type": "scatter",
         "x": [
          100
         ],
         "xaxis": "x",
         "y": [
          6.4
         ],
         "yaxis": "y"
        },
        {
         "hovertemplate": "<b>%{hovertext}</b><br><br>Title=John Carter<br>Runtime=%{x}<br>IMDb=%{y}<extra></extra>",
         "hovertext": [
          "John Carter"
         ],
         "legendgroup": "John Carter",
         "marker": {
          "color": "#ab63fa",
          "symbol": "circle"
         },
         "mode": "markers",
         "name": "John Carter",
         "orientation": "v",
         "showlegend": true,
         "type": "scatter",
         "x": [
          132
         ],
         "xaxis": "x",
         "y": [
          6.6
         ],
         "yaxis": "y"
        },
        {
         "hovertemplate": "<b>%{hovertext}</b><br><br>Title=Freaky Friday<br>Runtime=%{x}<br>IMDb=%{y}<extra></extra>",
         "hovertext": [
          "Freaky Friday"
         ],
         "legendgroup": "Freaky Friday",
         "marker": {
          "color": "#FFA15A",
          "symbol": "circle"
         },
         "mode": "markers",
         "name": "Freaky Friday",
         "orientation": "v",
         "showlegend": true,
         "type": "scatter",
         "x": [
          97
         ],
         "xaxis": "x",
         "y": [
          6.1
         ],
         "yaxis": "y"
        },
        {
         "hovertemplate": "<b>%{hovertext}</b><br><br>Title=The Santa Clause<br>Runtime=%{x}<br>IMDb=%{y}<extra></extra>",
         "hovertext": [
          "The Santa Clause"
         ],
         "legendgroup": "The Santa Clause",
         "marker": {
          "color": "#19d3f3",
          "symbol": "circle"
         },
         "mode": "markers",
         "name": "The Santa Clause",
         "orientation": "v",
         "showlegend": true,
         "type": "scatter",
         "x": [
          97
         ],
         "xaxis": "x",
         "y": [
          6.5
         ],
         "yaxis": "y"
        },
        {
         "hovertemplate": "<b>%{hovertext}</b><br><br>Title=Descendants<br>Runtime=%{x}<br>IMDb=%{y}<extra></extra>",
         "hovertext": [
          "Descendants"
         ],
         "legendgroup": "Descendants",
         "marker": {
          "color": "#FF6692",
          "symbol": "circle"
         },
         "mode": "markers",
         "name": "Descendants",
         "orientation": "v",
         "showlegend": true,
         "type": "scatter",
         "x": [
          112
         ],
         "xaxis": "x",
         "y": [
          6.4
         ],
         "yaxis": "y"
        },
        {
         "hovertemplate": "<b>%{hovertext}</b><br><br>Title=Old Yeller<br>Runtime=%{x}<br>IMDb=%{y}<extra></extra>",
         "hovertext": [
          "Old Yeller"
         ],
         "legendgroup": "Old Yeller",
         "marker": {
          "color": "#B6E880",
          "symbol": "circle"
         },
         "mode": "markers",
         "name": "Old Yeller",
         "orientation": "v",
         "showlegend": true,
         "type": "scatter",
         "x": [
          83
         ],
         "xaxis": "x",
         "y": [
          7.3
         ],
         "yaxis": "y"
        },
        {
         "hovertemplate": "<b>%{hovertext}</b><br><br>Title=Honey, I Shrunk the Kids<br>Runtime=%{x}<br>IMDb=%{y}<extra></extra>",
         "hovertext": [
          "Honey, I Shrunk the Kids"
         ],
         "legendgroup": "Honey, I Shrunk the Kids",
         "marker": {
          "color": "#FF97FF",
          "symbol": "circle"
         },
         "mode": "markers",
         "name": "Honey, I Shrunk the Kids",
         "orientation": "v",
         "showlegend": true,
         "type": "scatter",
         "x": [
          93
         ],
         "xaxis": "x",
         "y": [
          6.3
         ],
         "yaxis": "y"
        },
        {
         "hovertemplate": "<b>%{hovertext}</b><br><br>Title=Phineas and Ferb the Movie: Across the 2nd Dimension<br>Runtime=%{x}<br>IMDb=%{y}<extra></extra>",
         "hovertext": [
          "Phineas and Ferb the Movie: Across the 2nd Dimension"
         ],
         "legendgroup": "Phineas and Ferb the Movie: Across the 2nd Dimension",
         "marker": {
          "color": "#FECB52",
          "symbol": "circle"
         },
         "mode": "markers",
         "name": "Phineas and Ferb the Movie: Across the 2nd Dimension",
         "orientation": "v",
         "showlegend": true,
         "type": "scatter",
         "x": [
          78
         ],
         "xaxis": "x",
         "y": [
          7.4
         ],
         "yaxis": "y"
        },
        {
         "hovertemplate": "<b>%{hovertext}</b><br><br>Title=Pirates of the Caribbean: On Stranger Tides<br>Runtime=%{x}<br>IMDb=%{y}<extra></extra>",
         "hovertext": [
          "Pirates of the Caribbean: On Stranger Tides"
         ],
         "legendgroup": "Pirates of the Caribbean: On Stranger Tides",
         "marker": {
          "color": "#636efa",
          "symbol": "circle"
         },
         "mode": "markers",
         "name": "Pirates of the Caribbean: On Stranger Tides",
         "orientation": "v",
         "showlegend": true,
         "type": "scatter",
         "x": [
          137
         ],
         "xaxis": "x",
         "y": [
          6.6
         ],
         "yaxis": "y"
        },
        {
         "hovertemplate": "<b>%{hovertext}</b><br><br>Title=The BFG<br>Runtime=%{x}<br>IMDb=%{y}<extra></extra>",
         "hovertext": [
          "The BFG"
         ],
         "legendgroup": "The BFG",
         "marker": {
          "color": "#EF553B",
          "symbol": "circle"
         },
         "mode": "markers",
         "name": "The BFG",
         "orientation": "v",
         "showlegend": true,
         "type": "scatter",
         "x": [
          117
         ],
         "xaxis": "x",
         "y": [
          6.4
         ],
         "yaxis": "y"
        },
        {
         "hovertemplate": "<b>%{hovertext}</b><br><br>Title=The Princess Diaries<br>Runtime=%{x}<br>IMDb=%{y}<extra></extra>",
         "hovertext": [
          "The Princess Diaries"
         ],
         "legendgroup": "The Princess Diaries",
         "marker": {
          "color": "#00cc96",
          "symbol": "circle"
         },
         "mode": "markers",
         "name": "The Princess Diaries",
         "orientation": "v",
         "showlegend": true,
         "type": "scatter",
         "x": [
          111
         ],
         "xaxis": "x",
         "y": [
          6.3
         ],
         "yaxis": "y"
        },
        {
         "hovertemplate": "<b>%{hovertext}</b><br><br>Title=National Treasure: Book of Secrets<br>Runtime=%{x}<br>IMDb=%{y}<extra></extra>",
         "hovertext": [
          "National Treasure: Book of Secrets"
         ],
         "legendgroup": "National Treasure: Book of Secrets",
         "marker": {
          "color": "#ab63fa",
          "symbol": "circle"
         },
         "mode": "markers",
         "name": "National Treasure: Book of Secrets",
         "orientation": "v",
         "showlegend": true,
         "type": "scatter",
         "x": [
          124
         ],
         "xaxis": "x",
         "y": [
          6.5
         ],
         "yaxis": "y"
        },
        {
         "hovertemplate": "<b>%{hovertext}</b><br><br>Title=The Finest Hours<br>Runtime=%{x}<br>IMDb=%{y}<extra></extra>",
         "hovertext": [
          "The Finest Hours"
         ],
         "legendgroup": "The Finest Hours",
         "marker": {
          "color": "#FFA15A",
          "symbol": "circle"
         },
         "mode": "markers",
         "name": "The Finest Hours",
         "orientation": "v",
         "showlegend": true,
         "type": "scatter",
         "x": [
          117
         ],
         "xaxis": "x",
         "y": [
          6.8
         ],
         "yaxis": "y"
        },
        {
         "hovertemplate": "<b>%{hovertext}</b><br><br>Title=DuckTales: The Movie - Treasure of the Lost Lamp<br>Runtime=%{x}<br>IMDb=%{y}<extra></extra>",
         "hovertext": [
          "DuckTales: The Movie - Treasure of the Lost Lamp"
         ],
         "legendgroup": "DuckTales: The Movie - Treasure of the Lost Lamp",
         "marker": {
          "color": "#19d3f3",
          "symbol": "circle"
         },
         "mode": "markers",
         "name": "DuckTales: The Movie - Treasure of the Lost Lamp",
         "orientation": "v",
         "showlegend": true,
         "type": "scatter",
         "x": [
          74
         ],
         "xaxis": "x",
         "y": [
          6.9
         ],
         "yaxis": "y"
        },
        {
         "hovertemplate": "<b>%{hovertext}</b><br><br>Title=A Goofy Movie<br>Runtime=%{x}<br>IMDb=%{y}<extra></extra>",
         "hovertext": [
          "A Goofy Movie"
         ],
         "legendgroup": "A Goofy Movie",
         "marker": {
          "color": "#FF6692",
          "symbol": "circle"
         },
         "mode": "markers",
         "name": "A Goofy Movie",
         "orientation": "v",
         "showlegend": true,
         "type": "scatter",
         "x": [
          78
         ],
         "xaxis": "x",
         "y": [
          6.8
         ],
         "yaxis": "y"
        },
        {
         "hovertemplate": "<b>%{hovertext}</b><br><br>Title=The Greatest Game Ever Played<br>Runtime=%{x}<br>IMDb=%{y}<extra></extra>",
         "hovertext": [
          "The Greatest Game Ever Played"
         ],
         "legendgroup": "The Greatest Game Ever Played",
         "marker": {
          "color": "#B6E880",
          "symbol": "circle"
         },
         "mode": "markers",
         "name": "The Greatest Game Ever Played",
         "orientation": "v",
         "showlegend": true,
         "type": "scatter",
         "x": [
          120
         ],
         "xaxis": "x",
         "y": [
          7.4
         ],
         "yaxis": "y"
        },
        {
         "hovertemplate": "<b>%{hovertext}</b><br><br>Title=The Lion King 1½<br>Runtime=%{x}<br>IMDb=%{y}<extra></extra>",
         "hovertext": [
          "The Lion King 1½"
         ],
         "legendgroup": "The Lion King 1½",
         "marker": {
          "color": "#FF97FF",
          "symbol": "circle"
         },
         "mode": "markers",
         "name": "The Lion King 1½",
         "orientation": "v",
         "showlegend": true,
         "type": "scatter",
         "x": [
          77
         ],
         "xaxis": "x",
         "y": [
          6.5
         ],
         "yaxis": "y"
        },
        {
         "hovertemplate": "<b>%{hovertext}</b><br><br>Title=The Lion King II: Simba's Pride<br>Runtime=%{x}<br>IMDb=%{y}<extra></extra>",
         "hovertext": [
          "The Lion King II: Simba's Pride"
         ],
         "legendgroup": "The Lion King II: Simba's Pride",
         "marker": {
          "color": "#FECB52",
          "symbol": "circle"
         },
         "mode": "markers",
         "name": "The Lion King II: Simba's Pride",
         "orientation": "v",
         "showlegend": true,
         "type": "scatter",
         "x": [
          81
         ],
         "xaxis": "x",
         "y": [
          6.5
         ],
         "yaxis": "y"
        },
        {
         "hovertemplate": "<b>%{hovertext}</b><br><br>Title=The Adventures of Ichabod and Mr. Toad<br>Runtime=%{x}<br>IMDb=%{y}<extra></extra>",
         "hovertext": [
          "The Adventures of Ichabod and Mr. Toad"
         ],
         "legendgroup": "The Adventures of Ichabod and Mr. Toad",
         "marker": {
          "color": "#636efa",
          "symbol": "circle"
         },
         "mode": "markers",
         "name": "The Adventures of Ichabod and Mr. Toad",
         "orientation": "v",
         "showlegend": true,
         "type": "scatter",
         "x": [
          68
         ],
         "xaxis": "x",
         "y": [
          7
         ],
         "yaxis": "y"
        },
        {
         "hovertemplate": "<b>%{hovertext}</b><br><br>Title=Tinker Bell and the Lost Treasure<br>Runtime=%{x}<br>IMDb=%{y}<extra></extra>",
         "hovertext": [
          "Tinker Bell and the Lost Treasure"
         ],
         "legendgroup": "Tinker Bell and the Lost Treasure",
         "marker": {
          "color": "#EF553B",
          "symbol": "circle"
         },
         "mode": "markers",
         "name": "Tinker Bell and the Lost Treasure",
         "orientation": "v",
         "showlegend": true,
         "type": "scatter",
         "x": [
          81
         ],
         "xaxis": "x",
         "y": [
          6.7
         ],
         "yaxis": "y"
        },
        {
         "hovertemplate": "<b>%{hovertext}</b><br><br>Title=Bedknobs and Broomsticks<br>Runtime=%{x}<br>IMDb=%{y}<extra></extra>",
         "hovertext": [
          "Bedknobs and Broomsticks"
         ],
         "legendgroup": "Bedknobs and Broomsticks",
         "marker": {
          "color": "#00cc96",
          "symbol": "circle"
         },
         "mode": "markers",
         "name": "Bedknobs and Broomsticks",
         "orientation": "v",
         "showlegend": true,
         "type": "scatter",
         "x": [
          117
         ],
         "xaxis": "x",
         "y": [
          7.1
         ],
         "yaxis": "y"
        },
        {
         "hovertemplate": "<b>%{hovertext}</b><br><br>Title=Hocus Pocus<br>Runtime=%{x}<br>IMDb=%{y}<extra></extra>",
         "hovertext": [
          "Hocus Pocus"
         ],
         "legendgroup": "Hocus Pocus",
         "marker": {
          "color": "#ab63fa",
          "symbol": "circle"
         },
         "mode": "markers",
         "name": "Hocus Pocus",
         "orientation": "v",
         "showlegend": true,
         "type": "scatter",
         "x": [
          96
         ],
         "xaxis": "x",
         "y": [
          6.9
         ],
         "yaxis": "y"
        },
        {
         "hovertemplate": "<b>%{hovertext}</b><br><br>Title=Secretariat<br>Runtime=%{x}<br>IMDb=%{y}<extra></extra>",
         "hovertext": [
          "Secretariat"
         ],
         "legendgroup": "Secretariat",
         "marker": {
          "color": "#FFA15A",
          "symbol": "circle"
         },
         "mode": "markers",
         "name": "Secretariat",
         "orientation": "v",
         "showlegend": true,
         "type": "scatter",
         "x": [
          123
         ],
         "xaxis": "x",
         "y": [
          7.2
         ],
         "yaxis": "y"
        },
        {
         "hovertemplate": "<b>%{hovertext}</b><br><br>Title=Darby O'Gill and the Little People<br>Runtime=%{x}<br>IMDb=%{y}<extra></extra>",
         "hovertext": [
          "Darby O'Gill and the Little People"
         ],
         "legendgroup": "Darby O'Gill and the Little People",
         "marker": {
          "color": "#19d3f3",
          "symbol": "circle"
         },
         "mode": "markers",
         "name": "Darby O'Gill and the Little People",
         "orientation": "v",
         "showlegend": true,
         "type": "scatter",
         "x": [
          93
         ],
         "xaxis": "x",
         "y": [
          7.2
         ],
         "yaxis": "y"
        },
        {
         "hovertemplate": "<b>%{hovertext}</b><br><br>Title=Muppet Treasure Island<br>Runtime=%{x}<br>IMDb=%{y}<extra></extra>",
         "hovertext": [
          "Muppet Treasure Island"
         ],
         "legendgroup": "Muppet Treasure Island",
         "marker": {
          "color": "#FF6692",
          "symbol": "circle"
         },
         "mode": "markers",
         "name": "Muppet Treasure Island",
         "orientation": "v",
         "showlegend": true,
         "type": "scatter",
         "x": [
          99
         ],
         "xaxis": "x",
         "y": [
          7
         ],
         "yaxis": "y"
        },
        {
         "hovertemplate": "<b>%{hovertext}</b><br><br>Title=The Rescuers Down Under<br>Runtime=%{x}<br>IMDb=%{y}<extra></extra>",
         "hovertext": [
          "The Rescuers Down Under"
         ],
         "legendgroup": "The Rescuers Down Under",
         "marker": {
          "color": "#B6E880",
          "symbol": "circle"
         },
         "mode": "markers",
         "name": "The Rescuers Down Under",
         "orientation": "v",
         "showlegend": true,
         "type": "scatter",
         "x": [
          77
         ],
         "xaxis": "x",
         "y": [
          6.9
         ],
         "yaxis": "y"
        },
        {
         "hovertemplate": "<b>%{hovertext}</b><br><br>Title=The Rocketeer<br>Runtime=%{x}<br>IMDb=%{y}<extra></extra>",
         "hovertext": [
          "The Rocketeer"
         ],
         "legendgroup": "The Rocketeer",
         "marker": {
          "color": "#FF97FF",
          "symbol": "circle"
         },
         "mode": "markers",
         "name": "The Rocketeer",
         "orientation": "v",
         "showlegend": true,
         "type": "scatter",
         "x": [
          108
         ],
         "xaxis": "x",
         "y": [
          6.5
         ],
         "yaxis": "y"
        },
        {
         "hovertemplate": "<b>%{hovertext}</b><br><br>Title=High School Musical<br>Runtime=%{x}<br>IMDb=%{y}<extra></extra>",
         "hovertext": [
          "High School Musical"
         ],
         "legendgroup": "High School Musical",
         "marker": {
          "color": "#FECB52",
          "symbol": "circle"
         },
         "mode": "markers",
         "name": "High School Musical",
         "orientation": "v",
         "showlegend": true,
         "type": "scatter",
         "x": [
          98
         ],
         "xaxis": "x",
         "y": [
          5.4
         ],
         "yaxis": "y"
        },
        {
         "hovertemplate": "<b>%{hovertext}</b><br><br>Title=Atlantis: The Lost Empire<br>Runtime=%{x}<br>IMDb=%{y}<extra></extra>",
         "hovertext": [
          "Atlantis: The Lost Empire"
         ],
         "legendgroup": "Atlantis: The Lost Empire",
         "marker": {
          "color": "#636efa",
          "symbol": "circle"
         },
         "mode": "markers",
         "name": "Atlantis: The Lost Empire",
         "orientation": "v",
         "showlegend": true,
         "type": "scatter",
         "x": [
          95
         ],
         "xaxis": "x",
         "y": [
          6.9
         ],
         "yaxis": "y"
        },
        {
         "hovertemplate": "<b>%{hovertext}</b><br><br>Title=The Great Muppet Caper<br>Runtime=%{x}<br>IMDb=%{y}<extra></extra>",
         "hovertext": [
          "The Great Muppet Caper"
         ],
         "legendgroup": "The Great Muppet Caper",
         "marker": {
          "color": "#EF553B",
          "symbol": "circle"
         },
         "mode": "markers",
         "name": "The Great Muppet Caper",
         "orientation": "v",
         "showlegend": true,
         "type": "scatter",
         "x": [
          97
         ],
         "xaxis": "x",
         "y": [
          7.2
         ],
         "yaxis": "y"
        },
        {
         "hovertemplate": "<b>%{hovertext}</b><br><br>Title=Teen Beach Movie<br>Runtime=%{x}<br>IMDb=%{y}<extra></extra>",
         "hovertext": [
          "Teen Beach Movie"
         ],
         "legendgroup": "Teen Beach Movie",
         "marker": {
          "color": "#00cc96",
          "symbol": "circle"
         },
         "mode": "markers",
         "name": "Teen Beach Movie",
         "orientation": "v",
         "showlegend": true,
         "type": "scatter",
         "x": [
          110
         ],
         "xaxis": "x",
         "y": [
          5.9
         ],
         "yaxis": "y"
        },
        {
         "hovertemplate": "<b>%{hovertext}</b><br><br>Title=Journey to the Center of the Earth<br>Runtime=%{x}<br>IMDb=%{y}<extra></extra>",
         "hovertext": [
          "Journey to the Center of the Earth"
         ],
         "legendgroup": "Journey to the Center of the Earth",
         "marker": {
          "color": "#ab63fa",
          "symbol": "circle"
         },
         "mode": "markers",
         "name": "Journey to the Center of the Earth",
         "orientation": "v",
         "showlegend": true,
         "type": "scatter",
         "x": [
          93
         ],
         "xaxis": "x",
         "y": [
          7
         ],
         "yaxis": "y"
        },
        {
         "hovertemplate": "<b>%{hovertext}</b><br><br>Title=Pollyanna<br>Runtime=%{x}<br>IMDb=%{y}<extra></extra>",
         "hovertext": [
          "Pollyanna"
         ],
         "legendgroup": "Pollyanna",
         "marker": {
          "color": "#FFA15A",
          "symbol": "circle"
         },
         "mode": "markers",
         "name": "Pollyanna",
         "orientation": "v",
         "showlegend": true,
         "type": "scatter",
         "x": [
          134
         ],
         "xaxis": "x",
         "y": [
          7.4
         ],
         "yaxis": "y"
        },
        {
         "hovertemplate": "<b>%{hovertext}</b><br><br>Title=High School Musical 2<br>Runtime=%{x}<br>IMDb=%{y}<extra></extra>",
         "hovertext": [
          "High School Musical 2"
         ],
         "legendgroup": "High School Musical 2",
         "marker": {
          "color": "#19d3f3",
          "symbol": "circle"
         },
         "mode": "markers",
         "name": "High School Musical 2",
         "orientation": "v",
         "showlegend": true,
         "type": "scatter",
         "x": [
          104
         ],
         "xaxis": "x",
         "y": [
          5
         ],
         "yaxis": "y"
        },
        {
         "hovertemplate": "<b>%{hovertext}</b><br><br>Title=Halloweentown<br>Runtime=%{x}<br>IMDb=%{y}<extra></extra>",
         "hovertext": [
          "Halloweentown"
         ],
         "legendgroup": "Halloweentown",
         "marker": {
          "color": "#FF6692",
          "symbol": "circle"
         },
         "mode": "markers",
         "name": "Halloweentown",
         "orientation": "v",
         "showlegend": true,
         "type": "scatter",
         "x": [
          84
         ],
         "xaxis": "x",
         "y": [
          6.8
         ],
         "yaxis": "y"
        },
        {
         "hovertemplate": "<b>%{hovertext}</b><br><br>Title=Brother Bear<br>Runtime=%{x}<br>IMDb=%{y}<extra></extra>",
         "hovertext": [
          "Brother Bear"
         ],
         "legendgroup": "Brother Bear",
         "marker": {
          "color": "#B6E880",
          "symbol": "circle"
         },
         "mode": "markers",
         "name": "Brother Bear",
         "orientation": "v",
         "showlegend": true,
         "type": "scatter",
         "x": [
          85
         ],
         "xaxis": "x",
         "y": [
          6.8
         ],
         "yaxis": "y"
        },
        {
         "hovertemplate": "<b>%{hovertext}</b><br><br>Title=Millions<br>Runtime=%{x}<br>IMDb=%{y}<extra></extra>",
         "hovertext": [
          "Millions"
         ],
         "legendgroup": "Millions",
         "marker": {
          "color": "#FF97FF",
          "symbol": "circle"
         },
         "mode": "markers",
         "name": "Millions",
         "orientation": "v",
         "showlegend": true,
         "type": "scatter",
         "x": [
          98
         ],
         "xaxis": "x",
         "y": [
          6.9
         ],
         "yaxis": "y"
        },
        {
         "hovertemplate": "<b>%{hovertext}</b><br><br>Title=Muppets Most Wanted<br>Runtime=%{x}<br>IMDb=%{y}<extra></extra>",
         "hovertext": [
          "Muppets Most Wanted"
         ],
         "legendgroup": "Muppets Most Wanted",
         "marker": {
          "color": "#FECB52",
          "symbol": "circle"
         },
         "mode": "markers",
         "name": "Muppets Most Wanted",
         "orientation": "v",
         "showlegend": true,
         "type": "scatter",
         "x": [
          107
         ],
         "xaxis": "x",
         "y": [
          6.4
         ],
         "yaxis": "y"
        },
        {
         "hovertemplate": "<b>%{hovertext}</b><br><br>Title=The Journey of Natty Gann<br>Runtime=%{x}<br>IMDb=%{y}<extra></extra>",
         "hovertext": [
          "The Journey of Natty Gann"
         ],
         "legendgroup": "The Journey of Natty Gann",
         "marker": {
          "color": "#636efa",
          "symbol": "circle"
         },
         "mode": "markers",
         "name": "The Journey of Natty Gann",
         "orientation": "v",
         "showlegend": true,
         "type": "scatter",
         "x": [
          101
         ],
         "xaxis": "x",
         "y": [
          7.1
         ],
         "yaxis": "y"
        },
        {
         "hovertemplate": "<b>%{hovertext}</b><br><br>Title=Secret of the Wings<br>Runtime=%{x}<br>IMDb=%{y}<extra></extra>",
         "hovertext": [
          "Secret of the Wings"
         ],
         "legendgroup": "Secret of the Wings",
         "marker": {
          "color": "#EF553B",
          "symbol": "circle"
         },
         "mode": "markers",
         "name": "Secret of the Wings",
         "orientation": "v",
         "showlegend": true,
         "type": "scatter",
         "x": [
          75
         ],
         "xaxis": "x",
         "y": [
          7.1
         ],
         "yaxis": "y"
        },
        {
         "hovertemplate": "<b>%{hovertext}</b><br><br>Title=Cars 2<br>Runtime=%{x}<br>IMDb=%{y}<extra></extra>",
         "hovertext": [
          "Cars 2"
         ],
         "legendgroup": "Cars 2",
         "marker": {
          "color": "#00cc96",
          "symbol": "circle"
         },
         "mode": "markers",
         "name": "Cars 2",
         "orientation": "v",
         "showlegend": true,
         "type": "scatter",
         "x": [
          106
         ],
         "xaxis": "x",
         "y": [
          6.1
         ],
         "yaxis": "y"
        },
        {
         "hovertemplate": "<b>%{hovertext}</b><br><br>Title=Tinker Bell and the Great Fairy Rescue<br>Runtime=%{x}<br>IMDb=%{y}<extra></extra>",
         "hovertext": [
          "Tinker Bell and the Great Fairy Rescue"
         ],
         "legendgroup": "Tinker Bell and the Great Fairy Rescue",
         "marker": {
          "color": "#ab63fa",
          "symbol": "circle"
         },
         "mode": "markers",
         "name": "Tinker Bell and the Great Fairy Rescue",
         "orientation": "v",
         "showlegend": true,
         "type": "scatter",
         "x": [
          76
         ],
         "xaxis": "x",
         "y": [
          6.9
         ],
         "yaxis": "y"
        },
        {
         "hovertemplate": "<b>%{hovertext}</b><br><br>Title=Descendants 2<br>Runtime=%{x}<br>IMDb=%{y}<extra></extra>",
         "hovertext": [
          "Descendants 2"
         ],
         "legendgroup": "Descendants 2",
         "marker": {
          "color": "#FFA15A",
          "symbol": "circle"
         },
         "mode": "markers",
         "name": "Descendants 2",
         "orientation": "v",
         "showlegend": true,
         "type": "scatter",
         "x": [
          111
         ],
         "xaxis": "x",
         "y": [
          6.5
         ],
         "yaxis": "y"
        },
        {
         "hovertemplate": "<b>%{hovertext}</b><br><br>Title=Adventures in Babysitting<br>Runtime=%{x}<br>IMDb=%{y}<extra></extra>",
         "hovertext": [
          "Adventures in Babysitting"
         ],
         "legendgroup": "Adventures in Babysitting",
         "marker": {
          "color": "#19d3f3",
          "symbol": "circle"
         },
         "mode": "markers",
         "name": "Adventures in Babysitting",
         "orientation": "v",
         "showlegend": true,
         "type": "scatter",
         "x": [
          102
         ],
         "xaxis": "x",
         "y": [
          6
         ],
         "yaxis": "y"
        },
        {
         "hovertemplate": "<b>%{hovertext}</b><br><br>Title=Dinosaur<br>Runtime=%{x}<br>IMDb=%{y}<extra></extra>",
         "hovertext": [
          "Dinosaur"
         ],
         "legendgroup": "Dinosaur",
         "marker": {
          "color": "#FF6692",
          "symbol": "circle"
         },
         "mode": "markers",
         "name": "Dinosaur",
         "orientation": "v",
         "showlegend": true,
         "type": "scatter",
         "x": [
          82
         ],
         "xaxis": "x",
         "y": [
          6.5
         ],
         "yaxis": "y"
        },
        {
         "hovertemplate": "<b>%{hovertext}</b><br><br>Title=Dumbo<br>Runtime=%{x}<br>IMDb=%{y}<extra></extra>",
         "hovertext": [
          "Dumbo"
         ],
         "legendgroup": "Dumbo",
         "marker": {
          "color": "#B6E880",
          "symbol": "circle"
         },
         "mode": "markers",
         "name": "Dumbo",
         "orientation": "v",
         "showlegend": true,
         "type": "scatter",
         "x": [
          112
         ],
         "xaxis": "x",
         "y": [
          6.3
         ],
         "yaxis": "y"
        },
        {
         "hovertemplate": "<b>%{hovertext}</b><br><br>Title=The Color of Friendship<br>Runtime=%{x}<br>IMDb=%{y}<extra></extra>",
         "hovertext": [
          "The Color of Friendship"
         ],
         "legendgroup": "The Color of Friendship",
         "marker": {
          "color": "#FF97FF",
          "symbol": "circle"
         },
         "mode": "markers",
         "name": "The Color of Friendship",
         "orientation": "v",
         "showlegend": true,
         "type": "scatter",
         "x": [
          87
         ],
         "xaxis": "x",
         "y": [
          7.2
         ],
         "yaxis": "y"
        },
        {
         "hovertemplate": "<b>%{hovertext}</b><br><br>Title=Oliver & Company<br>Runtime=%{x}<br>IMDb=%{y}<extra></extra>",
         "hovertext": [
          "Oliver & Company"
         ],
         "legendgroup": "Oliver & Company",
         "marker": {
          "color": "#FECB52",
          "symbol": "circle"
         },
         "mode": "markers",
         "name": "Oliver & Company",
         "orientation": "v",
         "showlegend": true,
         "type": "scatter",
         "x": [
          74
         ],
         "xaxis": "x",
         "y": [
          6.7
         ],
         "yaxis": "y"
        },
        {
         "hovertemplate": "<b>%{hovertext}</b><br><br>Title=Monkey Kingdom<br>Runtime=%{x}<br>IMDb=%{y}<extra></extra>",
         "hovertext": [
          "Monkey Kingdom"
         ],
         "legendgroup": "Monkey Kingdom",
         "marker": {
          "color": "#636efa",
          "symbol": "circle"
         },
         "mode": "markers",
         "name": "Monkey Kingdom",
         "orientation": "v",
         "showlegend": true,
         "type": "scatter",
         "x": [
          81
         ],
         "xaxis": "x",
         "y": [
          7.3
         ],
         "yaxis": "y"
        },
        {
         "hovertemplate": "<b>%{hovertext}</b><br><br>Title=Davy Crockett, King of the Wild Frontier<br>Runtime=%{x}<br>IMDb=%{y}<extra></extra>",
         "hovertext": [
          "Davy Crockett, King of the Wild Frontier"
         ],
         "legendgroup": "Davy Crockett, King of the Wild Frontier",
         "marker": {
          "color": "#EF553B",
          "symbol": "circle"
         },
         "mode": "markers",
         "name": "Davy Crockett, King of the Wild Frontier",
         "orientation": "v",
         "showlegend": true,
         "type": "scatter",
         "x": [
          93
         ],
         "xaxis": "x",
         "y": [
          7
         ],
         "yaxis": "y"
        },
        {
         "hovertemplate": "<b>%{hovertext}</b><br><br>Title=The Three Caballeros<br>Runtime=%{x}<br>IMDb=%{y}<extra></extra>",
         "hovertext": [
          "The Three Caballeros"
         ],
         "legendgroup": "The Three Caballeros",
         "marker": {
          "color": "#00cc96",
          "symbol": "circle"
         },
         "mode": "markers",
         "name": "The Three Caballeros",
         "orientation": "v",
         "showlegend": true,
         "type": "scatter",
         "x": [
          104
         ],
         "xaxis": "x",
         "y": [
          6.5
         ],
         "yaxis": "y"
        },
        {
         "hovertemplate": "<b>%{hovertext}</b><br><br>Title=That Darn Cat!<br>Runtime=%{x}<br>IMDb=%{y}<extra></extra>",
         "hovertext": [
          "That Darn Cat!"
         ],
         "legendgroup": "That Darn Cat!",
         "marker": {
          "color": "#ab63fa",
          "symbol": "circle"
         },
         "mode": "markers",
         "name": "That Darn Cat!",
         "orientation": "v",
         "showlegend": true,
         "type": "scatter",
         "x": [
          116
         ],
         "xaxis": "x",
         "y": [
          6.8
         ],
         "yaxis": "y"
        },
        {
         "hovertemplate": "<b>%{hovertext}</b><br><br>Title=African Cats<br>Runtime=%{x}<br>IMDb=%{y}<extra></extra>",
         "hovertext": [
          "African Cats"
         ],
         "legendgroup": "African Cats",
         "marker": {
          "color": "#FFA15A",
          "symbol": "circle"
         },
         "mode": "markers",
         "name": "African Cats",
         "orientation": "v",
         "showlegend": true,
         "type": "scatter",
         "x": [
          89
         ],
         "xaxis": "x",
         "y": [
          7.6
         ],
         "yaxis": "y"
        },
        {
         "hovertemplate": "<b>%{hovertext}</b><br><br>Title=Newsies<br>Runtime=%{x}<br>IMDb=%{y}<extra></extra>",
         "hovertext": [
          "Newsies"
         ],
         "legendgroup": "Newsies",
         "marker": {
          "color": "#19d3f3",
          "symbol": "circle"
         },
         "mode": "markers",
         "name": "Newsies",
         "orientation": "v",
         "showlegend": true,
         "type": "scatter",
         "x": [
          121
         ],
         "xaxis": "x",
         "y": [
          7
         ],
         "yaxis": "y"
        },
        {
         "hovertemplate": "<b>%{hovertext}</b><br><br>Title=3 Men and a Baby<br>Runtime=%{x}<br>IMDb=%{y}<extra></extra>",
         "hovertext": [
          "3 Men and a Baby"
         ],
         "legendgroup": "3 Men and a Baby",
         "marker": {
          "color": "#FF6692",
          "symbol": "circle"
         },
         "mode": "markers",
         "name": "3 Men and a Baby",
         "orientation": "v",
         "showlegend": true,
         "type": "scatter",
         "x": [
          102
         ],
         "xaxis": "x",
         "y": [
          6
         ],
         "yaxis": "y"
        },
        {
         "hovertemplate": "<b>%{hovertext}</b><br><br>Title=Tuck Everlasting<br>Runtime=%{x}<br>IMDb=%{y}<extra></extra>",
         "hovertext": [
          "Tuck Everlasting"
         ],
         "legendgroup": "Tuck Everlasting",
         "marker": {
          "color": "#B6E880",
          "symbol": "circle"
         },
         "mode": "markers",
         "name": "Tuck Everlasting",
         "orientation": "v",
         "showlegend": true,
         "type": "scatter",
         "x": [
          90
         ],
         "xaxis": "x",
         "y": [
          6.6
         ],
         "yaxis": "y"
        },
        {
         "hovertemplate": "<b>%{hovertext}</b><br><br>Title=The Incredible Journey<br>Runtime=%{x}<br>IMDb=%{y}<extra></extra>",
         "hovertext": [
          "The Incredible Journey"
         ],
         "legendgroup": "The Incredible Journey",
         "marker": {
          "color": "#FF97FF",
          "symbol": "circle"
         },
         "mode": "markers",
         "name": "The Incredible Journey",
         "orientation": "v",
         "showlegend": true,
         "type": "scatter",
         "x": [
          80
         ],
         "xaxis": "x",
         "y": [
          7.1
         ],
         "yaxis": "y"
        },
        {
         "hovertemplate": "<b>%{hovertext}</b><br><br>Title=The Love Bug<br>Runtime=%{x}<br>IMDb=%{y}<extra></extra>",
         "hovertext": [
          "The Love Bug"
         ],
         "legendgroup": "The Love Bug",
         "marker": {
          "color": "#FECB52",
          "symbol": "circle"
         },
         "mode": "markers",
         "name": "The Love Bug",
         "orientation": "v",
         "showlegend": true,
         "type": "scatter",
         "x": [
          108
         ],
         "xaxis": "x",
         "y": [
          6.5
         ],
         "yaxis": "y"
        },
        {
         "hovertemplate": "<b>%{hovertext}</b><br><br>Title=High School Musical 3: Senior Year<br>Runtime=%{x}<br>IMDb=%{y}<extra></extra>",
         "hovertext": [
          "High School Musical 3: Senior Year"
         ],
         "legendgroup": "High School Musical 3: Senior Year",
         "marker": {
          "color": "#636efa",
          "symbol": "circle"
         },
         "mode": "markers",
         "name": "High School Musical 3: Senior Year",
         "orientation": "v",
         "showlegend": true,
         "type": "scatter",
         "x": [
          112
         ],
         "xaxis": "x",
         "y": [
          4.8
         ],
         "yaxis": "y"
        },
        {
         "hovertemplate": "<b>%{hovertext}</b><br><br>Title=Return to Oz<br>Runtime=%{x}<br>IMDb=%{y}<extra></extra>",
         "hovertext": [
          "Return to Oz"
         ],
         "legendgroup": "Return to Oz",
         "marker": {
          "color": "#EF553B",
          "symbol": "circle"
         },
         "mode": "markers",
         "name": "Return to Oz",
         "orientation": "v",
         "showlegend": true,
         "type": "scatter",
         "x": [
          113
         ],
         "xaxis": "x",
         "y": [
          6.7
         ],
         "yaxis": "y"
        },
        {
         "hovertemplate": "<b>%{hovertext}</b><br><br>Title=Blackbeard's Ghost<br>Runtime=%{x}<br>IMDb=%{y}<extra></extra>",
         "hovertext": [
          "Blackbeard's Ghost"
         ],
         "legendgroup": "Blackbeard's Ghost",
         "marker": {
          "color": "#00cc96",
          "symbol": "circle"
         },
         "mode": "markers",
         "name": "Blackbeard's Ghost",
         "orientation": "v",
         "showlegend": true,
         "type": "scatter",
         "x": [
          106
         ],
         "xaxis": "x",
         "y": [
          6.9
         ],
         "yaxis": "y"
        },
        {
         "hovertemplate": "<b>%{hovertext}</b><br><br>Title=Chimpanzee<br>Runtime=%{x}<br>IMDb=%{y}<extra></extra>",
         "hovertext": [
          "Chimpanzee"
         ],
         "legendgroup": "Chimpanzee",
         "marker": {
          "color": "#ab63fa",
          "symbol": "circle"
         },
         "mode": "markers",
         "name": "Chimpanzee",
         "orientation": "v",
         "showlegend": true,
         "type": "scatter",
         "x": [
          78
         ],
         "xaxis": "x",
         "y": [
          7.2
         ],
         "yaxis": "y"
        },
        {
         "hovertemplate": "<b>%{hovertext}</b><br><br>Title=The Absent-Minded Professor<br>Runtime=%{x}<br>IMDb=%{y}<extra></extra>",
         "hovertext": [
          "The Absent-Minded Professor"
         ],
         "legendgroup": "The Absent-Minded Professor",
         "marker": {
          "color": "#FFA15A",
          "symbol": "circle"
         },
         "mode": "markers",
         "name": "The Absent-Minded Professor",
         "orientation": "v",
         "showlegend": true,
         "type": "scatter",
         "x": [
          92
         ],
         "xaxis": "x",
         "y": [
          6.8
         ],
         "yaxis": "y"
        },
        {
         "hovertemplate": "<b>%{hovertext}</b><br><br>Title=Camp Rock<br>Runtime=%{x}<br>IMDb=%{y}<extra></extra>",
         "hovertext": [
          "Camp Rock"
         ],
         "legendgroup": "Camp Rock",
         "marker": {
          "color": "#19d3f3",
          "symbol": "circle"
         },
         "mode": "markers",
         "name": "Camp Rock",
         "orientation": "v",
         "showlegend": true,
         "type": "scatter",
         "x": [
          94
         ],
         "xaxis": "x",
         "y": [
          5.2
         ],
         "yaxis": "y"
        },
        {
         "hovertemplate": "<b>%{hovertext}</b><br><br>Title=Penguins<br>Runtime=%{x}<br>IMDb=%{y}<extra></extra>",
         "hovertext": [
          "Penguins"
         ],
         "legendgroup": "Penguins",
         "marker": {
          "color": "#FF6692",
          "symbol": "circle"
         },
         "mode": "markers",
         "name": "Penguins",
         "orientation": "v",
         "showlegend": true,
         "type": "scatter",
         "x": [
          76
         ],
         "xaxis": "x",
         "y": [
          7
         ],
         "yaxis": "y"
        },
        {
         "hovertemplate": "<b>%{hovertext}</b><br><br>Title=Pooh's Heffalump Movie<br>Runtime=%{x}<br>IMDb=%{y}<extra></extra>",
         "hovertext": [
          "Pooh's Heffalump Movie"
         ],
         "legendgroup": "Pooh's Heffalump Movie",
         "marker": {
          "color": "#B6E880",
          "symbol": "circle"
         },
         "mode": "markers",
         "name": "Pooh's Heffalump Movie",
         "orientation": "v",
         "showlegend": true,
         "type": "scatter",
         "x": [
          68
         ],
         "xaxis": "x",
         "y": [
          6.4
         ],
         "yaxis": "y"
        },
        {
         "hovertemplate": "<b>%{hovertext}</b><br><br>Title=Turner & Hooch<br>Runtime=%{x}<br>IMDb=%{y}<extra></extra>",
         "hovertext": [
          "Turner & Hooch"
         ],
         "legendgroup": "Turner & Hooch",
         "marker": {
          "color": "#FF97FF",
          "symbol": "circle"
         },
         "mode": "markers",
         "name": "Turner & Hooch",
         "orientation": "v",
         "showlegend": true,
         "type": "scatter",
         "x": [
          97
         ],
         "xaxis": "x",
         "y": [
          6.2
         ],
         "yaxis": "y"
        },
        {
         "hovertemplate": "<b>%{hovertext}</b><br><br>Title=Glory Road<br>Runtime=%{x}<br>IMDb=%{y}<extra></extra>",
         "hovertext": [
          "Glory Road"
         ],
         "legendgroup": "Glory Road",
         "marker": {
          "color": "#FECB52",
          "symbol": "circle"
         },
         "mode": "markers",
         "name": "Glory Road",
         "orientation": "v",
         "showlegend": true,
         "type": "scatter",
         "x": [
          118
         ],
         "xaxis": "x",
         "y": [
          7.2
         ],
         "yaxis": "y"
        },
        {
         "hovertemplate": "<b>%{hovertext}</b><br><br>Title=Princess Protection Program<br>Runtime=%{x}<br>IMDb=%{y}<extra></extra>",
         "hovertext": [
          "Princess Protection Program"
         ],
         "legendgroup": "Princess Protection Program",
         "marker": {
          "color": "#636efa",
          "symbol": "circle"
         },
         "mode": "markers",
         "name": "Princess Protection Program",
         "orientation": "v",
         "showlegend": true,
         "type": "scatter",
         "x": [
          90
         ],
         "xaxis": "x",
         "y": [
          5.6
         ],
         "yaxis": "y"
        },
        {
         "hovertemplate": "<b>%{hovertext}</b><br><br>Title=Science Fair<br>Runtime=%{x}<br>IMDb=%{y}<extra></extra>",
         "hovertext": [
          "Science Fair"
         ],
         "legendgroup": "Science Fair",
         "marker": {
          "color": "#EF553B",
          "symbol": "circle"
         },
         "mode": "markers",
         "name": "Science Fair",
         "orientation": "v",
         "showlegend": true,
         "type": "scatter",
         "x": [
          90
         ],
         "xaxis": "x",
         "y": [
          7.4
         ],
         "yaxis": "y"
        },
        {
         "hovertemplate": "<b>%{hovertext}</b><br><br>Title=Greyfriars Bobby: The True Story of a Dog<br>Runtime=%{x}<br>IMDb=%{y}<extra></extra>",
         "hovertext": [
          "Greyfriars Bobby: The True Story of a Dog"
         ],
         "legendgroup": "Greyfriars Bobby: The True Story of a Dog",
         "marker": {
          "color": "#00cc96",
          "symbol": "circle"
         },
         "mode": "markers",
         "name": "Greyfriars Bobby: The True Story of a Dog",
         "orientation": "v",
         "showlegend": true,
         "type": "scatter",
         "x": [
          87
         ],
         "xaxis": "x",
         "y": [
          7.3
         ],
         "yaxis": "y"
        },
        {
         "hovertemplate": "<b>%{hovertext}</b><br><br>Title=Diary of a Wimpy Kid<br>Runtime=%{x}<br>IMDb=%{y}<extra></extra>",
         "hovertext": [
          "Diary of a Wimpy Kid"
         ],
         "legendgroup": "Diary of a Wimpy Kid",
         "marker": {
          "color": "#ab63fa",
          "symbol": "circle"
         },
         "mode": "markers",
         "name": "Diary of a Wimpy Kid",
         "orientation": "v",
         "showlegend": true,
         "type": "scatter",
         "x": [
          120
         ],
         "xaxis": "x",
         "y": [
          6.2
         ],
         "yaxis": "y"
        },
        {
         "hovertemplate": "<b>%{hovertext}</b><br><br>Title=The Odd Life of Timothy Green<br>Runtime=%{x}<br>IMDb=%{y}<extra></extra>",
         "hovertext": [
          "The Odd Life of Timothy Green"
         ],
         "legendgroup": "The Odd Life of Timothy Green",
         "marker": {
          "color": "#FFA15A",
          "symbol": "circle"
         },
         "mode": "markers",
         "name": "The Odd Life of Timothy Green",
         "orientation": "v",
         "showlegend": true,
         "type": "scatter",
         "x": [
          105
         ],
         "xaxis": "x",
         "y": [
          6.6
         ],
         "yaxis": "y"
        },
        {
         "hovertemplate": "<b>%{hovertext}</b><br><br>Title=Splash<br>Runtime=%{x}<br>IMDb=%{y}<extra></extra>",
         "hovertext": [
          "Splash"
         ],
         "legendgroup": "Splash",
         "marker": {
          "color": "#19d3f3",
          "symbol": "circle"
         },
         "mode": "markers",
         "name": "Splash",
         "orientation": "v",
         "showlegend": true,
         "type": "scatter",
         "x": [
          111
         ],
         "xaxis": "x",
         "y": [
          6.2
         ],
         "yaxis": "y"
        },
        {
         "hovertemplate": "<b>%{hovertext}</b><br><br>Title=The Princess Diaries 2: Royal Engagement<br>Runtime=%{x}<br>IMDb=%{y}<extra></extra>",
         "hovertext": [
          "The Princess Diaries 2: Royal Engagement"
         ],
         "legendgroup": "The Princess Diaries 2: Royal Engagement",
         "marker": {
          "color": "#FF6692",
          "symbol": "circle"
         },
         "mode": "markers",
         "name": "The Princess Diaries 2: Royal Engagement",
         "orientation": "v",
         "showlegend": true,
         "type": "scatter",
         "x": [
          113
         ],
         "xaxis": "x",
         "y": [
          5.8
         ],
         "yaxis": "y"
        },
        {
         "hovertemplate": "<b>%{hovertext}</b><br><br>Title=The Black Cauldron<br>Runtime=%{x}<br>IMDb=%{y}<extra></extra>",
         "hovertext": [
          "The Black Cauldron"
         ],
         "legendgroup": "The Black Cauldron",
         "marker": {
          "color": "#B6E880",
          "symbol": "circle"
         },
         "mode": "markers",
         "name": "The Black Cauldron",
         "orientation": "v",
         "showlegend": true,
         "type": "scatter",
         "x": [
          80
         ],
         "xaxis": "x",
         "y": [
          6.4
         ],
         "yaxis": "y"
        },
        {
         "hovertemplate": "<b>%{hovertext}</b><br><br>Title=The Game Plan<br>Runtime=%{x}<br>IMDb=%{y}<extra></extra>",
         "hovertext": [
          "The Game Plan"
         ],
         "legendgroup": "The Game Plan",
         "marker": {
          "color": "#FF97FF",
          "symbol": "circle"
         },
         "mode": "markers",
         "name": "The Game Plan",
         "orientation": "v",
         "showlegend": true,
         "type": "scatter",
         "x": [
          110
         ],
         "xaxis": "x",
         "y": [
          6.1
         ],
         "yaxis": "y"
        },
        {
         "hovertemplate": "<b>%{hovertext}</b><br><br>Title=Cinderella III: A Twist in Time<br>Runtime=%{x}<br>IMDb=%{y}<extra></extra>",
         "hovertext": [
          "Cinderella III: A Twist in Time"
         ],
         "legendgroup": "Cinderella III: A Twist in Time",
         "marker": {
          "color": "#FECB52",
          "symbol": "circle"
         },
         "mode": "markers",
         "name": "Cinderella III: A Twist in Time",
         "orientation": "v",
         "showlegend": true,
         "type": "scatter",
         "x": [
          74
         ],
         "xaxis": "x",
         "y": [
          5.9
         ],
         "yaxis": "y"
        },
        {
         "hovertemplate": "<b>%{hovertext}</b><br><br>Title=Waking Sleeping Beauty<br>Runtime=%{x}<br>IMDb=%{y}<extra></extra>",
         "hovertext": [
          "Waking Sleeping Beauty"
         ],
         "legendgroup": "Waking Sleeping Beauty",
         "marker": {
          "color": "#636efa",
          "symbol": "circle"
         },
         "mode": "markers",
         "name": "Waking Sleeping Beauty",
         "orientation": "v",
         "showlegend": true,
         "type": "scatter",
         "x": [
          86
         ],
         "xaxis": "x",
         "y": [
          7.6
         ],
         "yaxis": "y"
        },
        {
         "hovertemplate": "<b>%{hovertext}</b><br><br>Title=The Tigger Movie<br>Runtime=%{x}<br>IMDb=%{y}<extra></extra>",
         "hovertext": [
          "The Tigger Movie"
         ],
         "legendgroup": "The Tigger Movie",
         "marker": {
          "color": "#EF553B",
          "symbol": "circle"
         },
         "mode": "markers",
         "name": "The Tigger Movie",
         "orientation": "v",
         "showlegend": true,
         "type": "scatter",
         "x": [
          77
         ],
         "xaxis": "x",
         "y": [
          6.3
         ],
         "yaxis": "y"
        },
        {
         "hovertemplate": "<b>%{hovertext}</b><br><br>Title=Escape to Witch Mountain<br>Runtime=%{x}<br>IMDb=%{y}<extra></extra>",
         "hovertext": [
          "Escape to Witch Mountain"
         ],
         "legendgroup": "Escape to Witch Mountain",
         "marker": {
          "color": "#00cc96",
          "symbol": "circle"
         },
         "mode": "markers",
         "name": "Escape to Witch Mountain",
         "orientation": "v",
         "showlegend": true,
         "type": "scatter",
         "x": [
          97
         ],
         "xaxis": "x",
         "y": [
          6.4
         ],
         "yaxis": "y"
        },
        {
         "hovertemplate": "<b>%{hovertext}</b><br><br>Title=Timmy Failure: Mistakes Were Made<br>Runtime=%{x}<br>IMDb=%{y}<extra></extra>",
         "hovertext": [
          "Timmy Failure: Mistakes Were Made"
         ],
         "legendgroup": "Timmy Failure: Mistakes Were Made",
         "marker": {
          "color": "#ab63fa",
          "symbol": "circle"
         },
         "mode": "markers",
         "name": "Timmy Failure: Mistakes Were Made",
         "orientation": "v",
         "showlegend": true,
         "type": "scatter",
         "x": [
          99
         ],
         "xaxis": "x",
         "y": [
          6.1
         ],
         "yaxis": "y"
        },
        {
         "hovertemplate": "<b>%{hovertext}</b><br><br>Title=101 Dalmatians<br>Runtime=%{x}<br>IMDb=%{y}<extra></extra>",
         "hovertext": [
          "101 Dalmatians"
         ],
         "legendgroup": "101 Dalmatians",
         "marker": {
          "color": "#FFA15A",
          "symbol": "circle"
         },
         "mode": "markers",
         "name": "101 Dalmatians",
         "orientation": "v",
         "showlegend": true,
         "type": "scatter",
         "x": [
          103
         ],
         "xaxis": "x",
         "y": [
          5.7
         ],
         "yaxis": "y"
        },
        {
         "hovertemplate": "<b>%{hovertext}</b><br><br>Title=The Last Song<br>Runtime=%{x}<br>IMDb=%{y}<extra></extra>",
         "hovertext": [
          "The Last Song"
         ],
         "legendgroup": "The Last Song",
         "marker": {
          "color": "#19d3f3",
          "symbol": "circle"
         },
         "mode": "markers",
         "name": "The Last Song",
         "orientation": "v",
         "showlegend": true,
         "type": "scatter",
         "x": [
          107
         ],
         "xaxis": "x",
         "y": [
          6
         ],
         "yaxis": "y"
        },
        {
         "hovertemplate": "<b>%{hovertext}</b><br><br>Title=George of the Jungle<br>Runtime=%{x}<br>IMDb=%{y}<extra></extra>",
         "hovertext": [
          "George of the Jungle"
         ],
         "legendgroup": "George of the Jungle",
         "marker": {
          "color": "#FF6692",
          "symbol": "circle"
         },
         "mode": "markers",
         "name": "George of the Jungle",
         "orientation": "v",
         "showlegend": true,
         "type": "scatter",
         "x": [
          92
         ],
         "xaxis": "x",
         "y": [
          5.5
         ],
         "yaxis": "y"
        },
        {
         "hovertemplate": "<b>%{hovertext}</b><br><br>Title=Frank and Ollie<br>Runtime=%{x}<br>IMDb=%{y}<extra></extra>",
         "hovertext": [
          "Frank and Ollie"
         ],
         "legendgroup": "Frank and Ollie",
         "marker": {
          "color": "#B6E880",
          "symbol": "circle"
         },
         "mode": "markers",
         "name": "Frank and Ollie",
         "orientation": "v",
         "showlegend": true,
         "type": "scatter",
         "x": [
          89
         ],
         "xaxis": "x",
         "y": [
          7.8
         ],
         "yaxis": "y"
        },
        {
         "hovertemplate": "<b>%{hovertext}</b><br><br>Title=The Santa Clause 2<br>Runtime=%{x}<br>IMDb=%{y}<extra></extra>",
         "hovertext": [
          "The Santa Clause 2"
         ],
         "legendgroup": "The Santa Clause 2",
         "marker": {
          "color": "#FF97FF",
          "symbol": "circle"
         },
         "mode": "markers",
         "name": "The Santa Clause 2",
         "orientation": "v",
         "showlegend": true,
         "type": "scatter",
         "x": [
          104
         ],
         "xaxis": "x",
         "y": [
          5.6
         ],
         "yaxis": "y"
        },
        {
         "hovertemplate": "<b>%{hovertext}</b><br><br>Title=Heavyweights<br>Runtime=%{x}<br>IMDb=%{y}<extra></extra>",
         "hovertext": [
          "Heavyweights"
         ],
         "legendgroup": "Heavyweights",
         "marker": {
          "color": "#FECB52",
          "symbol": "circle"
         },
         "mode": "markers",
         "name": "Heavyweights",
         "orientation": "v",
         "showlegend": true,
         "type": "scatter",
         "x": [
          100
         ],
         "xaxis": "x",
         "y": [
          6.6
         ],
         "yaxis": "y"
        },
        {
         "hovertemplate": "<b>%{hovertext}</b><br><br>Title=Ice Princess<br>Runtime=%{x}<br>IMDb=%{y}<extra></extra>",
         "hovertext": [
          "Ice Princess"
         ],
         "legendgroup": "Ice Princess",
         "marker": {
          "color": "#636efa",
          "symbol": "circle"
         },
         "mode": "markers",
         "name": "Ice Princess",
         "orientation": "v",
         "showlegend": true,
         "type": "scatter",
         "x": [
          98
         ],
         "xaxis": "x",
         "y": [
          6
         ],
         "yaxis": "y"
        },
        {
         "hovertemplate": "<b>%{hovertext}</b><br><br>Title=Bedtime Stories<br>Runtime=%{x}<br>IMDb=%{y}<extra></extra>",
         "hovertext": [
          "Bedtime Stories"
         ],
         "legendgroup": "Bedtime Stories",
         "marker": {
          "color": "#EF553B",
          "symbol": "circle"
         },
         "mode": "markers",
         "name": "Bedtime Stories",
         "orientation": "v",
         "showlegend": true,
         "type": "scatter",
         "x": [
          99
         ],
         "xaxis": "x",
         "y": [
          6
         ],
         "yaxis": "y"
        },
        {
         "hovertemplate": "<b>%{hovertext}</b><br><br>Title=Cheaper by the Dozen<br>Runtime=%{x}<br>IMDb=%{y}<extra></extra>",
         "hovertext": [
          "Cheaper by the Dozen"
         ],
         "legendgroup": "Cheaper by the Dozen",
         "marker": {
          "color": "#00cc96",
          "symbol": "circle"
         },
         "mode": "markers",
         "name": "Cheaper by the Dozen",
         "orientation": "v",
         "showlegend": true,
         "type": "scatter",
         "x": [
          98
         ],
         "xaxis": "x",
         "y": [
          5.9
         ],
         "yaxis": "y"
        },
        {
         "hovertemplate": "<b>%{hovertext}</b><br><br>Title=An Extremely Goofy Movie<br>Runtime=%{x}<br>IMDb=%{y}<extra></extra>",
         "hovertext": [
          "An Extremely Goofy Movie"
         ],
         "legendgroup": "An Extremely Goofy Movie",
         "marker": {
          "color": "#ab63fa",
          "symbol": "circle"
         },
         "mode": "markers",
         "name": "An Extremely Goofy Movie",
         "orientation": "v",
         "showlegend": true,
         "type": "scatter",
         "x": [
          79
         ],
         "xaxis": "x",
         "y": [
          6.4
         ],
         "yaxis": "y"
        },
        {
         "hovertemplate": "<b>%{hovertext}</b><br><br>Title=Twitches<br>Runtime=%{x}<br>IMDb=%{y}<extra></extra>",
         "hovertext": [
          "Twitches"
         ],
         "legendgroup": "Twitches",
         "marker": {
          "color": "#FFA15A",
          "symbol": "circle"
         },
         "mode": "markers",
         "name": "Twitches",
         "orientation": "v",
         "showlegend": true,
         "type": "scatter",
         "x": [
          86
         ],
         "xaxis": "x",
         "y": [
          5.7
         ],
         "yaxis": "y"
        },
        {
         "hovertemplate": "<b>%{hovertext}</b><br><br>Title=Iron Will<br>Runtime=%{x}<br>IMDb=%{y}<extra></extra>",
         "hovertext": [
          "Iron Will"
         ],
         "legendgroup": "Iron Will",
         "marker": {
          "color": "#19d3f3",
          "symbol": "circle"
         },
         "mode": "markers",
         "name": "Iron Will",
         "orientation": "v",
         "showlegend": true,
         "type": "scatter",
         "x": [
          108
         ],
         "xaxis": "x",
         "y": [
          6.6
         ],
         "yaxis": "y"
        },
        {
         "hovertemplate": "<b>%{hovertext}</b><br><br>Title=Aladdin and the King of Thieves<br>Runtime=%{x}<br>IMDb=%{y}<extra></extra>",
         "hovertext": [
          "Aladdin and the King of Thieves"
         ],
         "legendgroup": "Aladdin and the King of Thieves",
         "marker": {
          "color": "#FF6692",
          "symbol": "circle"
         },
         "mode": "markers",
         "name": "Aladdin and the King of Thieves",
         "orientation": "v",
         "showlegend": true,
         "type": "scatter",
         "x": [
          81
         ],
         "xaxis": "x",
         "y": [
          6.4
         ],
         "yaxis": "y"
        },
        {
         "hovertemplate": "<b>%{hovertext}</b><br><br>Title=Piglet's Big Movie<br>Runtime=%{x}<br>IMDb=%{y}<extra></extra>",
         "hovertext": [
          "Piglet's Big Movie"
         ],
         "legendgroup": "Piglet's Big Movie",
         "marker": {
          "color": "#B6E880",
          "symbol": "circle"
         },
         "mode": "markers",
         "name": "Piglet's Big Movie",
         "orientation": "v",
         "showlegend": true,
         "type": "scatter",
         "x": [
          75
         ],
         "xaxis": "x",
         "y": [
          6.1
         ],
         "yaxis": "y"
        },
        {
         "hovertemplate": "<b>%{hovertext}</b><br><br>Title=Because of Winn-Dixie<br>Runtime=%{x}<br>IMDb=%{y}<extra></extra>",
         "hovertext": [
          "Because of Winn-Dixie"
         ],
         "legendgroup": "Because of Winn-Dixie",
         "marker": {
          "color": "#FF97FF",
          "symbol": "circle"
         },
         "mode": "markers",
         "name": "Because of Winn-Dixie",
         "orientation": "v",
         "showlegend": true,
         "type": "scatter",
         "x": [
          106
         ],
         "xaxis": "x",
         "y": [
          6.3
         ],
         "yaxis": "y"
        },
        {
         "hovertemplate": "<b>%{hovertext}</b><br><br>Title=Fun and Fancy Free<br>Runtime=%{x}<br>IMDb=%{y}<extra></extra>",
         "hovertext": [
          "Fun and Fancy Free"
         ],
         "legendgroup": "Fun and Fancy Free",
         "marker": {
          "color": "#FECB52",
          "symbol": "circle"
         },
         "mode": "markers",
         "name": "Fun and Fancy Free",
         "orientation": "v",
         "showlegend": true,
         "type": "scatter",
         "x": [
          73
         ],
         "xaxis": "x",
         "y": [
          6.6
         ],
         "yaxis": "y"
        },
        {
         "hovertemplate": "<b>%{hovertext}</b><br><br>Title=Mickey's Once Upon a Christmas<br>Runtime=%{x}<br>IMDb=%{y}<extra></extra>",
         "hovertext": [
          "Mickey's Once Upon a Christmas"
         ],
         "legendgroup": "Mickey's Once Upon a Christmas",
         "marker": {
          "color": "#636efa",
          "symbol": "circle"
         },
         "mode": "markers",
         "name": "Mickey's Once Upon a Christmas",
         "orientation": "v",
         "showlegend": true,
         "type": "scatter",
         "x": [
          66
         ],
         "xaxis": "x",
         "y": [
          7.2
         ],
         "yaxis": "y"
        },
        {
         "hovertemplate": "<b>%{hovertext}</b><br><br>Title=Deep Blue<br>Runtime=%{x}<br>IMDb=%{y}<extra></extra>",
         "hovertext": [
          "Deep Blue"
         ],
         "legendgroup": "Deep Blue",
         "marker": {
          "color": "#EF553B",
          "symbol": "circle"
         },
         "mode": "markers",
         "name": "Deep Blue",
         "orientation": "v",
         "showlegend": true,
         "type": "scatter",
         "x": [
          105
         ],
         "xaxis": "x",
         "y": [
          7.4
         ],
         "yaxis": "y"
        },
        {
         "hovertemplate": "<b>%{hovertext}</b><br><br>Title=Red Tails<br>Runtime=%{x}<br>IMDb=%{y}<extra></extra>",
         "hovertext": [
          "Red Tails"
         ],
         "legendgroup": "Red Tails",
         "marker": {
          "color": "#00cc96",
          "symbol": "circle"
         },
         "mode": "markers",
         "name": "Red Tails",
         "orientation": "v",
         "showlegend": true,
         "type": "scatter",
         "x": [
          125
         ],
         "xaxis": "x",
         "y": [
          5.9
         ],
         "yaxis": "y"
        },
        {
         "hovertemplate": "<b>%{hovertext}</b><br><br>Title=Lilo & Stitch 2: Stitch Has a Glitch<br>Runtime=%{x}<br>IMDb=%{y}<extra></extra>",
         "hovertext": [
          "Lilo & Stitch 2: Stitch Has a Glitch"
         ],
         "legendgroup": "Lilo & Stitch 2: Stitch Has a Glitch",
         "marker": {
          "color": "#ab63fa",
          "symbol": "circle"
         },
         "mode": "markers",
         "name": "Lilo & Stitch 2: Stitch Has a Glitch",
         "orientation": "v",
         "showlegend": true,
         "type": "scatter",
         "x": [
          68
         ],
         "xaxis": "x",
         "y": [
          6.3
         ],
         "yaxis": "y"
        },
        {
         "hovertemplate": "<b>%{hovertext}</b><br><br>Title=Ruby Bridges<br>Runtime=%{x}<br>IMDb=%{y}<extra></extra>",
         "hovertext": [
          "Ruby Bridges"
         ],
         "legendgroup": "Ruby Bridges",
         "marker": {
          "color": "#FFA15A",
          "symbol": "circle"
         },
         "mode": "markers",
         "name": "Ruby Bridges",
         "orientation": "v",
         "showlegend": true,
         "type": "scatter",
         "x": [
          96
         ],
         "xaxis": "x",
         "y": [
          7.2
         ],
         "yaxis": "y"
        },
        {
         "hovertemplate": "<b>%{hovertext}</b><br><br>Title=Doctor Dolittle<br>Runtime=%{x}<br>IMDb=%{y}<extra></extra>",
         "hovertext": [
          "Doctor Dolittle"
         ],
         "legendgroup": "Doctor Dolittle",
         "marker": {
          "color": "#19d3f3",
          "symbol": "circle"
         },
         "mode": "markers",
         "name": "Doctor Dolittle",
         "orientation": "v",
         "showlegend": true,
         "type": "scatter",
         "x": [
          85
         ],
         "xaxis": "x",
         "y": [
          5.4
         ],
         "yaxis": "y"
        },
        {
         "hovertemplate": "<b>%{hovertext}</b><br><br>Title=Brother Bear 2<br>Runtime=%{x}<br>IMDb=%{y}<extra></extra>",
         "hovertext": [
          "Brother Bear 2"
         ],
         "legendgroup": "Brother Bear 2",
         "marker": {
          "color": "#FF6692",
          "symbol": "circle"
         },
         "mode": "markers",
         "name": "Brother Bear 2",
         "orientation": "v",
         "showlegend": true,
         "type": "scatter",
         "x": [
          74
         ],
         "xaxis": "x",
         "y": [
          6.2
         ],
         "yaxis": "y"
        },
        {
         "hovertemplate": "<b>%{hovertext}</b><br><br>Title=Camp Rock 2: The Final Jam<br>Runtime=%{x}<br>IMDb=%{y}<extra></extra>",
         "hovertext": [
          "Camp Rock 2: The Final Jam"
         ],
         "legendgroup": "Camp Rock 2: The Final Jam",
         "marker": {
          "color": "#B6E880",
          "symbol": "circle"
         },
         "mode": "markers",
         "name": "Camp Rock 2: The Final Jam",
         "orientation": "v",
         "showlegend": true,
         "type": "scatter",
         "x": [
          97
         ],
         "xaxis": "x",
         "y": [
          5.2
         ],
         "yaxis": "y"
        },
        {
         "hovertemplate": "<b>%{hovertext}</b><br><br>Title=Recess: School's Out<br>Runtime=%{x}<br>IMDb=%{y}<extra></extra>",
         "hovertext": [
          "Recess: School's Out"
         ],
         "legendgroup": "Recess: School's Out",
         "marker": {
          "color": "#FF97FF",
          "symbol": "circle"
         },
         "mode": "markers",
         "name": "Recess: School's Out",
         "orientation": "v",
         "showlegend": true,
         "type": "scatter",
         "x": [
          82
         ],
         "xaxis": "x",
         "y": [
          6.6
         ],
         "yaxis": "y"
        },
        {
         "hovertemplate": "<b>%{hovertext}</b><br><br>Title=The Adventures of Huck Finn<br>Runtime=%{x}<br>IMDb=%{y}<extra></extra>",
         "hovertext": [
          "The Adventures of Huck Finn"
         ],
         "legendgroup": "The Adventures of Huck Finn",
         "marker": {
          "color": "#FECB52",
          "symbol": "circle"
         },
         "mode": "markers",
         "name": "The Adventures of Huck Finn",
         "orientation": "v",
         "showlegend": true,
         "type": "scatter",
         "x": [
          108
         ],
         "xaxis": "x",
         "y": [
          6.2
         ],
         "yaxis": "y"
        },
        {
         "hovertemplate": "<b>%{hovertext}</b><br><br>Title=Lemonade Mouth<br>Runtime=%{x}<br>IMDb=%{y}<extra></extra>",
         "hovertext": [
          "Lemonade Mouth"
         ],
         "legendgroup": "Lemonade Mouth",
         "marker": {
          "color": "#636efa",
          "symbol": "circle"
         },
         "mode": "markers",
         "name": "Lemonade Mouth",
         "orientation": "v",
         "showlegend": true,
         "type": "scatter",
         "x": [
          103
         ],
         "xaxis": "x",
         "y": [
          6.9
         ],
         "yaxis": "y"
        },
        {
         "hovertemplate": "<b>%{hovertext}</b><br><br>Title=The Crimson Wing: Mystery of the Flamingos<br>Runtime=%{x}<br>IMDb=%{y}<extra></extra>",
         "hovertext": [
          "The Crimson Wing: Mystery of the Flamingos"
         ],
         "legendgroup": "The Crimson Wing: Mystery of the Flamingos",
         "marker": {
          "color": "#EF553B",
          "symbol": "circle"
         },
         "mode": "markers",
         "name": "The Crimson Wing: Mystery of the Flamingos",
         "orientation": "v",
         "showlegend": true,
         "type": "scatter",
         "x": [
          78
         ],
         "xaxis": "x",
         "y": [
          7.3
         ],
         "yaxis": "y"
        },
        {
         "hovertemplate": "<b>%{hovertext}</b><br><br>Title=Big Business<br>Runtime=%{x}<br>IMDb=%{y}<extra></extra>",
         "hovertext": [
          "Big Business"
         ],
         "legendgroup": "Big Business",
         "marker": {
          "color": "#00cc96",
          "symbol": "circle"
         },
         "mode": "markers",
         "name": "Big Business",
         "orientation": "v",
         "showlegend": true,
         "type": "scatter",
         "x": [
          97
         ],
         "xaxis": "x",
         "y": [
          6.4
         ],
         "yaxis": "y"
        },
        {
         "hovertemplate": "<b>%{hovertext}</b><br><br>Title=Melody Time<br>Runtime=%{x}<br>IMDb=%{y}<extra></extra>",
         "hovertext": [
          "Melody Time"
         ],
         "legendgroup": "Melody Time",
         "marker": {
          "color": "#ab63fa",
          "symbol": "circle"
         },
         "mode": "markers",
         "name": "Melody Time",
         "orientation": "v",
         "showlegend": true,
         "type": "scatter",
         "x": [
          75
         ],
         "xaxis": "x",
         "y": [
          6.4
         ],
         "yaxis": "y"
        },
        {
         "hovertemplate": "<b>%{hovertext}</b><br><br>Title=Bambi II<br>Runtime=%{x}<br>IMDb=%{y}<extra></extra>",
         "hovertext": [
          "Bambi II"
         ],
         "legendgroup": "Bambi II",
         "marker": {
          "color": "#FFA15A",
          "symbol": "circle"
         },
         "mode": "markers",
         "name": "Bambi II",
         "orientation": "v",
         "showlegend": true,
         "type": "scatter",
         "x": [
          75
         ],
         "xaxis": "x",
         "y": [
          6.1
         ],
         "yaxis": "y"
        },
        {
         "hovertemplate": "<b>%{hovertext}</b><br><br>Title=The Cheetah Girls<br>Runtime=%{x}<br>IMDb=%{y}<extra></extra>",
         "hovertext": [
          "The Cheetah Girls"
         ],
         "legendgroup": "The Cheetah Girls",
         "marker": {
          "color": "#19d3f3",
          "symbol": "circle"
         },
         "mode": "markers",
         "name": "The Cheetah Girls",
         "orientation": "v",
         "showlegend": true,
         "type": "scatter",
         "x": [
          100
         ],
         "xaxis": "x",
         "y": [
          4.8
         ],
         "yaxis": "y"
        },
        {
         "hovertemplate": "<b>%{hovertext}</b><br><br>Title=Hannah Montana: The Movie<br>Runtime=%{x}<br>IMDb=%{y}<extra></extra>",
         "hovertext": [
          "Hannah Montana: The Movie"
         ],
         "legendgroup": "Hannah Montana: The Movie",
         "marker": {
          "color": "#FF6692",
          "symbol": "circle"
         },
         "mode": "markers",
         "name": "Hannah Montana: The Movie",
         "orientation": "v",
         "showlegend": true,
         "type": "scatter",
         "x": [
          102
         ],
         "xaxis": "x",
         "y": [
          4.5
         ],
         "yaxis": "y"
        },
        {
         "hovertemplate": "<b>%{hovertext}</b><br><br>Title=Herbie Rides Again<br>Runtime=%{x}<br>IMDb=%{y}<extra></extra>",
         "hovertext": [
          "Herbie Rides Again"
         ],
         "legendgroup": "Herbie Rides Again",
         "marker": {
          "color": "#B6E880",
          "symbol": "circle"
         },
         "mode": "markers",
         "name": "Herbie Rides Again",
         "orientation": "v",
         "showlegend": true,
         "type": "scatter",
         "x": [
          88
         ],
         "xaxis": "x",
         "y": [
          5.7
         ],
         "yaxis": "y"
        },
        {
         "hovertemplate": "<b>%{hovertext}</b><br><br>Title=Descendants 3<br>Runtime=%{x}<br>IMDb=%{y}<extra></extra>",
         "hovertext": [
          "Descendants 3"
         ],
         "legendgroup": "Descendants 3",
         "marker": {
          "color": "#FF97FF",
          "symbol": "circle"
         },
         "mode": "markers",
         "name": "Descendants 3",
         "orientation": "v",
         "showlegend": true,
         "type": "scatter",
         "x": [
          106
         ],
         "xaxis": "x",
         "y": [
          6.7
         ],
         "yaxis": "y"
        },
        {
         "hovertemplate": "<b>%{hovertext}</b><br><br>Title=Olaf's Frozen Adventure<br>Runtime=%{x}<br>IMDb=%{y}<extra></extra>",
         "hovertext": [
          "Olaf's Frozen Adventure"
         ],
         "legendgroup": "Olaf's Frozen Adventure",
         "marker": {
          "color": "#FECB52",
          "symbol": "circle"
         },
         "mode": "markers",
         "name": "Olaf's Frozen Adventure",
         "orientation": "v",
         "showlegend": true,
         "type": "scatter",
         "x": [
          22
         ],
         "xaxis": "x",
         "y": [
          5.5
         ],
         "yaxis": "y"
        },
        {
         "hovertemplate": "<b>%{hovertext}</b><br><br>Title=The Apple Dumpling Gang<br>Runtime=%{x}<br>IMDb=%{y}<extra></extra>",
         "hovertext": [
          "The Apple Dumpling Gang"
         ],
         "legendgroup": "The Apple Dumpling Gang",
         "marker": {
          "color": "#636efa",
          "symbol": "circle"
         },
         "mode": "markers",
         "name": "The Apple Dumpling Gang",
         "orientation": "v",
         "showlegend": true,
         "type": "scatter",
         "x": [
          100
         ],
         "xaxis": "x",
         "y": [
          6.5
         ],
         "yaxis": "y"
        },
        {
         "hovertemplate": "<b>%{hovertext}</b><br><br>Title=Newsies: The Broadway Musical<br>Runtime=%{x}<br>IMDb=%{y}<extra></extra>",
         "hovertext": [
          "Newsies: The Broadway Musical"
         ],
         "legendgroup": "Newsies: The Broadway Musical",
         "marker": {
          "color": "#EF553B",
          "symbol": "circle"
         },
         "mode": "markers",
         "name": "Newsies: The Broadway Musical",
         "orientation": "v",
         "showlegend": true,
         "type": "scatter",
         "x": [
          149
         ],
         "xaxis": "x",
         "y": [
          8.5
         ],
         "yaxis": "y"
        },
        {
         "hovertemplate": "<b>%{hovertext}</b><br><br>Title=101 Dalmatians II: Patch's London Adventure<br>Runtime=%{x}<br>IMDb=%{y}<extra></extra>",
         "hovertext": [
          "101 Dalmatians II: Patch's London Adventure"
         ],
         "legendgroup": "101 Dalmatians II: Patch's London Adventure",
         "marker": {
          "color": "#00cc96",
          "symbol": "circle"
         },
         "mode": "markers",
         "name": "101 Dalmatians II: Patch's London Adventure",
         "orientation": "v",
         "showlegend": true,
         "type": "scatter",
         "x": [
          74
         ],
         "xaxis": "x",
         "y": [
          5.8
         ],
         "yaxis": "y"
        },
        {
         "hovertemplate": "<b>%{hovertext}</b><br><br>Title=Saludos Amigos<br>Runtime=%{x}<br>IMDb=%{y}<extra></extra>",
         "hovertext": [
          "Saludos Amigos"
         ],
         "legendgroup": "Saludos Amigos",
         "marker": {
          "color": "#ab63fa",
          "symbol": "circle"
         },
         "mode": "markers",
         "name": "Saludos Amigos",
         "orientation": "v",
         "showlegend": true,
         "type": "scatter",
         "x": [
          42
         ],
         "xaxis": "x",
         "y": [
          6.2
         ],
         "yaxis": "y"
        },
        {
         "hovertemplate": "<b>%{hovertext}</b><br><br>Title=Mighty Joe Young<br>Runtime=%{x}<br>IMDb=%{y}<extra></extra>",
         "hovertext": [
          "Mighty Joe Young"
         ],
         "legendgroup": "Mighty Joe Young",
         "marker": {
          "color": "#FFA15A",
          "symbol": "circle"
         },
         "mode": "markers",
         "name": "Mighty Joe Young",
         "orientation": "v",
         "showlegend": true,
         "type": "scatter",
         "x": [
          114
         ],
         "xaxis": "x",
         "y": [
          5.6
         ],
         "yaxis": "y"
        },
        {
         "hovertemplate": "<b>%{hovertext}</b><br><br>Title=Thumbelina<br>Runtime=%{x}<br>IMDb=%{y}<extra></extra>",
         "hovertext": [
          "Thumbelina"
         ],
         "legendgroup": "Thumbelina",
         "marker": {
          "color": "#19d3f3",
          "symbol": "circle"
         },
         "mode": "markers",
         "name": "Thumbelina",
         "orientation": "v",
         "showlegend": true,
         "type": "scatter",
         "x": [
          86
         ],
         "xaxis": "x",
         "y": [
          6.3
         ],
         "yaxis": "y"
        },
        {
         "hovertemplate": "<b>%{hovertext}</b><br><br>Title=The Lizzie McGuire Movie<br>Runtime=%{x}<br>IMDb=%{y}<extra></extra>",
         "hovertext": [
          "The Lizzie McGuire Movie"
         ],
         "legendgroup": "The Lizzie McGuire Movie",
         "marker": {
          "color": "#FF6692",
          "symbol": "circle"
         },
         "mode": "markers",
         "name": "The Lizzie McGuire Movie",
         "orientation": "v",
         "showlegend": true,
         "type": "scatter",
         "x": [
          94
         ],
         "xaxis": "x",
         "y": [
          5.5
         ],
         "yaxis": "y"
        },
        {
         "hovertemplate": "<b>%{hovertext}</b><br><br>Title=The Cat from Outer Space<br>Runtime=%{x}<br>IMDb=%{y}<extra></extra>",
         "hovertext": [
          "The Cat from Outer Space"
         ],
         "legendgroup": "The Cat from Outer Space",
         "marker": {
          "color": "#B6E880",
          "symbol": "circle"
         },
         "mode": "markers",
         "name": "The Cat from Outer Space",
         "orientation": "v",
         "showlegend": true,
         "type": "scatter",
         "x": [
          104
         ],
         "xaxis": "x",
         "y": [
          6.1
         ],
         "yaxis": "y"
        },
        {
         "hovertemplate": "<b>%{hovertext}</b><br><br>Title=Rookie of the Year<br>Runtime=%{x}<br>IMDb=%{y}<extra></extra>",
         "hovertext": [
          "Rookie of the Year"
         ],
         "legendgroup": "Rookie of the Year",
         "marker": {
          "color": "#FF97FF",
          "symbol": "circle"
         },
         "mode": "markers",
         "name": "Rookie of the Year",
         "orientation": "v",
         "showlegend": true,
         "type": "scatter",
         "x": [
          103
         ],
         "xaxis": "x",
         "y": [
          6
         ],
         "yaxis": "y"
        },
        {
         "hovertemplate": "<b>%{hovertext}</b><br><br>Title=Sister Act 2: Back in the Habit<br>Runtime=%{x}<br>IMDb=%{y}<extra></extra>",
         "hovertext": [
          "Sister Act 2: Back in the Habit"
         ],
         "legendgroup": "Sister Act 2: Back in the Habit",
         "marker": {
          "color": "#FECB52",
          "symbol": "circle"
         },
         "mode": "markers",
         "name": "Sister Act 2: Back in the Habit",
         "orientation": "v",
         "showlegend": true,
         "type": "scatter",
         "x": [
          107
         ],
         "xaxis": "x",
         "y": [
          5.6
         ],
         "yaxis": "y"
        },
        {
         "hovertemplate": "<b>%{hovertext}</b><br><br>Title=Homeward Bound II: Lost in San Francisco<br>Runtime=%{x}<br>IMDb=%{y}<extra></extra>",
         "hovertext": [
          "Homeward Bound II: Lost in San Francisco"
         ],
         "legendgroup": "Homeward Bound II: Lost in San Francisco",
         "marker": {
          "color": "#636efa",
          "symbol": "circle"
         },
         "mode": "markers",
         "name": "Homeward Bound II: Lost in San Francisco",
         "orientation": "v",
         "showlegend": true,
         "type": "scatter",
         "x": [
          88
         ],
         "xaxis": "x",
         "y": [
          5.9
         ],
         "yaxis": "y"
        },
        {
         "hovertemplate": "<b>%{hovertext}</b><br><br>Title=Jump In!<br>Runtime=%{x}<br>IMDb=%{y}<extra></extra>",
         "hovertext": [
          "Jump In!"
         ],
         "legendgroup": "Jump In!",
         "marker": {
          "color": "#EF553B",
          "symbol": "circle"
         },
         "mode": "markers",
         "name": "Jump In!",
         "orientation": "v",
         "showlegend": true,
         "type": "scatter",
         "x": [
          85
         ],
         "xaxis": "x",
         "y": [
          5.3
         ],
         "yaxis": "y"
        },
        {
         "hovertemplate": "<b>%{hovertext}</b><br><br>Title=Roving Mars<br>Runtime=%{x}<br>IMDb=%{y}<extra></extra>",
         "hovertext": [
          "Roving Mars"
         ],
         "legendgroup": "Roving Mars",
         "marker": {
          "color": "#00cc96",
          "symbol": "circle"
         },
         "mode": "markers",
         "name": "Roving Mars",
         "orientation": "v",
         "showlegend": true,
         "type": "scatter",
         "x": [
          40
         ],
         "xaxis": "x",
         "y": [
          7.2
         ],
         "yaxis": "y"
        },
        {
         "hovertemplate": "<b>%{hovertext}</b><br><br>Title=The Black Hole<br>Runtime=%{x}<br>IMDb=%{y}<extra></extra>",
         "hovertext": [
          "The Black Hole"
         ],
         "legendgroup": "The Black Hole",
         "marker": {
          "color": "#ab63fa",
          "symbol": "circle"
         },
         "mode": "markers",
         "name": "The Black Hole",
         "orientation": "v",
         "showlegend": true,
         "type": "scatter",
         "x": [
          98
         ],
         "xaxis": "x",
         "y": [
          6
         ],
         "yaxis": "y"
        },
        {
         "hovertemplate": "<b>%{hovertext}</b><br><br>Title=Lady and the Tramp II: Scamp's Adventure<br>Runtime=%{x}<br>IMDb=%{y}<extra></extra>",
         "hovertext": [
          "Lady and the Tramp II: Scamp's Adventure"
         ],
         "legendgroup": "Lady and the Tramp II: Scamp's Adventure",
         "marker": {
          "color": "#FFA15A",
          "symbol": "circle"
         },
         "mode": "markers",
         "name": "Lady and the Tramp II: Scamp's Adventure",
         "orientation": "v",
         "showlegend": true,
         "type": "scatter",
         "x": [
          69
         ],
         "xaxis": "x",
         "y": [
          5.9
         ],
         "yaxis": "y"
        },
        {
         "hovertemplate": "<b>%{hovertext}</b><br><br>Title=Around the World in 80 Days<br>Runtime=%{x}<br>IMDb=%{y}<extra></extra>",
         "hovertext": [
          "Around the World in 80 Days"
         ],
         "legendgroup": "Around the World in 80 Days",
         "marker": {
          "color": "#19d3f3",
          "symbol": "circle"
         },
         "mode": "markers",
         "name": "Around the World in 80 Days",
         "orientation": "v",
         "showlegend": true,
         "type": "scatter",
         "x": [
          120
         ],
         "xaxis": "x",
         "y": [
          5.9
         ],
         "yaxis": "y"
        },
        {
         "hovertemplate": "<b>%{hovertext}</b><br><br>Title=Luxo Jr.<br>Runtime=%{x}<br>IMDb=%{y}<extra></extra>",
         "hovertext": [
          "Luxo Jr."
         ],
         "legendgroup": "Luxo Jr.",
         "marker": {
          "color": "#FF6692",
          "symbol": "circle"
         },
         "mode": "markers",
         "name": "Luxo Jr.",
         "orientation": "v",
         "showlegend": true,
         "type": "scatter",
         "x": [
          2
         ],
         "xaxis": "x",
         "y": [
          7.3
         ],
         "yaxis": "y"
        },
        {
         "hovertemplate": "<b>%{hovertext}</b><br><br>Title=Flubber<br>Runtime=%{x}<br>IMDb=%{y}<extra></extra>",
         "hovertext": [
          "Flubber"
         ],
         "legendgroup": "Flubber",
         "marker": {
          "color": "#B6E880",
          "symbol": "circle"
         },
         "mode": "markers",
         "name": "Flubber",
         "orientation": "v",
         "showlegend": true,
         "type": "scatter",
         "x": [
          93
         ],
         "xaxis": "x",
         "y": [
          5.3
         ],
         "yaxis": "y"
        },
        {
         "hovertemplate": "<b>%{hovertext}</b><br><br>Title=The Return of Jafar<br>Runtime=%{x}<br>IMDb=%{y}<extra></extra>",
         "hovertext": [
          "The Return of Jafar"
         ],
         "legendgroup": "The Return of Jafar",
         "marker": {
          "color": "#FF97FF",
          "symbol": "circle"
         },
         "mode": "markers",
         "name": "The Return of Jafar",
         "orientation": "v",
         "showlegend": true,
         "type": "scatter",
         "x": [
          69
         ],
         "xaxis": "x",
         "y": [
          5.9
         ],
         "yaxis": "y"
        },
        {
         "hovertemplate": "<b>%{hovertext}</b><br><br>Title=Aliens of the Deep<br>Runtime=%{x}<br>IMDb=%{y}<extra></extra>",
         "hovertext": [
          "Aliens of the Deep"
         ],
         "legendgroup": "Aliens of the Deep",
         "marker": {
          "color": "#FECB52",
          "symbol": "circle"
         },
         "mode": "markers",
         "name": "Aliens of the Deep",
         "orientation": "v",
         "showlegend": true,
         "type": "scatter",
         "x": [
          100
         ],
         "xaxis": "x",
         "y": [
          6.4
         ],
         "yaxis": "y"
        },
        {
         "hovertemplate": "<b>%{hovertext}</b><br><br>Title=Mickey, Donald, Goofy: The Three Musketeers<br>Runtime=%{x}<br>IMDb=%{y}<extra></extra>",
         "hovertext": [
          "Mickey, Donald, Goofy: The Three Musketeers"
         ],
         "legendgroup": "Mickey, Donald, Goofy: The Three Musketeers",
         "marker": {
          "color": "#636efa",
          "symbol": "circle"
         },
         "mode": "markers",
         "name": "Mickey, Donald, Goofy: The Three Musketeers",
         "orientation": "v",
         "showlegend": true,
         "type": "scatter",
         "x": [
          68
         ],
         "xaxis": "x",
         "y": [
          6.4
         ],
         "yaxis": "y"
        },
        {
         "hovertemplate": "<b>%{hovertext}</b><br><br>Title=The Little Mermaid: Ariel's Beginning<br>Runtime=%{x}<br>IMDb=%{y}<extra></extra>",
         "hovertext": [
          "The Little Mermaid: Ariel's Beginning"
         ],
         "legendgroup": "The Little Mermaid: Ariel's Beginning",
         "marker": {
          "color": "#EF553B",
          "symbol": "circle"
         },
         "mode": "markers",
         "name": "The Little Mermaid: Ariel's Beginning",
         "orientation": "v",
         "showlegend": true,
         "type": "scatter",
         "x": [
          77
         ],
         "xaxis": "x",
         "y": [
          6.3
         ],
         "yaxis": "y"
        },
        {
         "hovertemplate": "<b>%{hovertext}</b><br><br>Title=The Cheetah Girls 2: When in Spain<br>Runtime=%{x}<br>IMDb=%{y}<extra></extra>",
         "hovertext": [
          "The Cheetah Girls 2: When in Spain"
         ],
         "legendgroup": "The Cheetah Girls 2: When in Spain",
         "marker": {
          "color": "#00cc96",
          "symbol": "circle"
         },
         "mode": "markers",
         "name": "The Cheetah Girls 2: When in Spain",
         "orientation": "v",
         "showlegend": true,
         "type": "scatter",
         "x": [
          96
         ],
         "xaxis": "x",
         "y": [
          5
         ],
         "yaxis": "y"
        },
        {
         "hovertemplate": "<b>%{hovertext}</b><br><br>Title=Pooh's Grand Adventure: The Search for Christopher Robin<br>Runtime=%{x}<br>IMDb=%{y}<extra></extra>",
         "hovertext": [
          "Pooh's Grand Adventure: The Search for Christopher Robin"
         ],
         "legendgroup": "Pooh's Grand Adventure: The Search for Christopher Robin",
         "marker": {
          "color": "#ab63fa",
          "symbol": "circle"
         },
         "mode": "markers",
         "name": "Pooh's Grand Adventure: The Search for Christopher Robin",
         "orientation": "v",
         "showlegend": true,
         "type": "scatter",
         "x": [
          76
         ],
         "xaxis": "x",
         "y": [
          7.1
         ],
         "yaxis": "y"
        },
        {
         "hovertemplate": "<b>%{hovertext}</b><br><br>Title=Jack<br>Runtime=%{x}<br>IMDb=%{y}<extra></extra>",
         "hovertext": [
          "Jack"
         ],
         "legendgroup": "Jack",
         "marker": {
          "color": "#FFA15A",
          "symbol": "circle"
         },
         "mode": "markers",
         "name": "Jack",
         "orientation": "v",
         "showlegend": true,
         "type": "scatter",
         "x": [
          122
         ],
         "xaxis": "x",
         "y": [
          5.8
         ],
         "yaxis": "y"
        },
        {
         "hovertemplate": "<b>%{hovertext}</b><br><br>Title=Stargirl<br>Runtime=%{x}<br>IMDb=%{y}<extra></extra>",
         "hovertext": [
          "Stargirl"
         ],
         "legendgroup": "Stargirl",
         "marker": {
          "color": "#19d3f3",
          "symbol": "circle"
         },
         "mode": "markers",
         "name": "Stargirl",
         "orientation": "v",
         "showlegend": true,
         "type": "scatter",
         "x": [
          45
         ],
         "xaxis": "x",
         "y": [
          6.2
         ],
         "yaxis": "y"
        },
        {
         "hovertemplate": "<b>%{hovertext}</b><br><br>Title=Return to Never Land<br>Runtime=%{x}<br>IMDb=%{y}<extra></extra>",
         "hovertext": [
          "Return to Never Land"
         ],
         "legendgroup": "Return to Never Land",
         "marker": {
          "color": "#FF6692",
          "symbol": "circle"
         },
         "mode": "markers",
         "name": "Return to Never Land",
         "orientation": "v",
         "showlegend": true,
         "type": "scatter",
         "x": [
          72
         ],
         "xaxis": "x",
         "y": [
          5.8
         ],
         "yaxis": "y"
        },
        {
         "hovertemplate": "<b>%{hovertext}</b><br><br>Title=The Shaggy Dog<br>Runtime=%{x}<br>IMDb=%{y}<extra></extra>",
         "hovertext": [
          "The Shaggy Dog"
         ],
         "legendgroup": "The Shaggy Dog",
         "marker": {
          "color": "#B6E880",
          "symbol": "circle"
         },
         "mode": "markers",
         "name": "The Shaggy Dog",
         "orientation": "v",
         "showlegend": true,
         "type": "scatter",
         "x": [
          104
         ],
         "xaxis": "x",
         "y": [
          6.5
         ],
         "yaxis": "y"
        },
        {
         "hovertemplate": "<b>%{hovertext}</b><br><br>Title=Herbie Goes to Monte Carlo<br>Runtime=%{x}<br>IMDb=%{y}<extra></extra>",
         "hovertext": [
          "Herbie Goes to Monte Carlo"
         ],
         "legendgroup": "Herbie Goes to Monte Carlo",
         "marker": {
          "color": "#FF97FF",
          "symbol": "circle"
         },
         "mode": "markers",
         "name": "Herbie Goes to Monte Carlo",
         "orientation": "v",
         "showlegend": true,
         "type": "scatter",
         "x": [
          105
         ],
         "xaxis": "x",
         "y": [
          5.7
         ],
         "yaxis": "y"
        },
        {
         "hovertemplate": "<b>%{hovertext}</b><br><br>Title=Home on the Range<br>Runtime=%{x}<br>IMDb=%{y}<extra></extra>",
         "hovertext": [
          "Home on the Range"
         ],
         "legendgroup": "Home on the Range",
         "marker": {
          "color": "#FECB52",
          "symbol": "circle"
         },
         "mode": "markers",
         "name": "Home on the Range",
         "orientation": "v",
         "showlegend": true,
         "type": "scatter",
         "x": [
          76
         ],
         "xaxis": "x",
         "y": [
          5.3
         ],
         "yaxis": "y"
        },
        {
         "hovertemplate": "<b>%{hovertext}</b><br><br>Title=The Little Mermaid II: Return to the Sea<br>Runtime=%{x}<br>IMDb=%{y}<extra></extra>",
         "hovertext": [
          "The Little Mermaid II: Return to the Sea"
         ],
         "legendgroup": "The Little Mermaid II: Return to the Sea",
         "marker": {
          "color": "#636efa",
          "symbol": "circle"
         },
         "mode": "markers",
         "name": "The Little Mermaid II: Return to the Sea",
         "orientation": "v",
         "showlegend": true,
         "type": "scatter",
         "x": [
          75
         ],
         "xaxis": "x",
         "y": [
          5.6
         ],
         "yaxis": "y"
        },
        {
         "hovertemplate": "<b>%{hovertext}</b><br><br>Title=The Cheetah Girls: One World<br>Runtime=%{x}<br>IMDb=%{y}<extra></extra>",
         "hovertext": [
          "The Cheetah Girls: One World"
         ],
         "legendgroup": "The Cheetah Girls: One World",
         "marker": {
          "color": "#EF553B",
          "symbol": "circle"
         },
         "mode": "markers",
         "name": "The Cheetah Girls: One World",
         "orientation": "v",
         "showlegend": true,
         "type": "scatter",
         "x": [
          90
         ],
         "xaxis": "x",
         "y": [
          4.7
         ],
         "yaxis": "y"
        },
        {
         "hovertemplate": "<b>%{hovertext}</b><br><br>Title=Leroy & Stitch<br>Runtime=%{x}<br>IMDb=%{y}<extra></extra>",
         "hovertext": [
          "Leroy & Stitch"
         ],
         "legendgroup": "Leroy & Stitch",
         "marker": {
          "color": "#00cc96",
          "symbol": "circle"
         },
         "mode": "markers",
         "name": "Leroy & Stitch",
         "orientation": "v",
         "showlegend": true,
         "type": "scatter",
         "x": [
          73
         ],
         "xaxis": "x",
         "y": [
          6.2
         ],
         "yaxis": "y"
        },
        {
         "hovertemplate": "<b>%{hovertext}</b><br><br>Title=Herbie Fully Loaded<br>Runtime=%{x}<br>IMDb=%{y}<extra></extra>",
         "hovertext": [
          "Herbie Fully Loaded"
         ],
         "legendgroup": "Herbie Fully Loaded",
         "marker": {
          "color": "#ab63fa",
          "symbol": "circle"
         },
         "mode": "markers",
         "name": "Herbie Fully Loaded",
         "orientation": "v",
         "showlegend": true,
         "type": "scatter",
         "x": [
          101
         ],
         "xaxis": "x",
         "y": [
          4.8
         ],
         "yaxis": "y"
        },
        {
         "hovertemplate": "<b>%{hovertext}</b><br><br>Title=Let It Shine<br>Runtime=%{x}<br>IMDb=%{y}<extra></extra>",
         "hovertext": [
          "Let It Shine"
         ],
         "legendgroup": "Let It Shine",
         "marker": {
          "color": "#FFA15A",
          "symbol": "circle"
         },
         "mode": "markers",
         "name": "Let It Shine",
         "orientation": "v",
         "showlegend": true,
         "type": "scatter",
         "x": [
          104
         ],
         "xaxis": "x",
         "y": [
          6.4
         ],
         "yaxis": "y"
        },
        {
         "hovertemplate": "<b>%{hovertext}</b><br><br>Title=Wizards of Waverly Place: The Movie<br>Runtime=%{x}<br>IMDb=%{y}<extra></extra>",
         "hovertext": [
          "Wizards of Waverly Place: The Movie"
         ],
         "legendgroup": "Wizards of Waverly Place: The Movie",
         "marker": {
          "color": "#19d3f3",
          "symbol": "circle"
         },
         "mode": "markers",
         "name": "Wizards of Waverly Place: The Movie",
         "orientation": "v",
         "showlegend": true,
         "type": "scatter",
         "x": [
          94
         ],
         "xaxis": "x",
         "y": [
          6.2
         ],
         "yaxis": "y"
        },
        {
         "hovertemplate": "<b>%{hovertext}</b><br><br>Title=A Wrinkle in Time<br>Runtime=%{x}<br>IMDb=%{y}<extra></extra>",
         "hovertext": [
          "A Wrinkle in Time"
         ],
         "legendgroup": "A Wrinkle in Time",
         "marker": {
          "color": "#FF6692",
          "symbol": "circle"
         },
         "mode": "markers",
         "name": "A Wrinkle in Time",
         "orientation": "v",
         "showlegend": true,
         "type": "scatter",
         "x": [
          109
         ],
         "xaxis": "x",
         "y": [
          4.2
         ],
         "yaxis": "y"
        },
        {
         "hovertemplate": "<b>%{hovertext}</b><br><br>Title=Benji the Hunted<br>Runtime=%{x}<br>IMDb=%{y}<extra></extra>",
         "hovertext": [
          "Benji the Hunted"
         ],
         "legendgroup": "Benji the Hunted",
         "marker": {
          "color": "#B6E880",
          "symbol": "circle"
         },
         "mode": "markers",
         "name": "Benji the Hunted",
         "orientation": "v",
         "showlegend": true,
         "type": "scatter",
         "x": [
          88
         ],
         "xaxis": "x",
         "y": [
          6.3
         ],
         "yaxis": "y"
        },
        {
         "hovertemplate": "<b>%{hovertext}</b><br><br>Title=Recess: Taking the Fifth Grade<br>Runtime=%{x}<br>IMDb=%{y}<extra></extra>",
         "hovertext": [
          "Recess: Taking the Fifth Grade"
         ],
         "legendgroup": "Recess: Taking the Fifth Grade",
         "marker": {
          "color": "#FF97FF",
          "symbol": "circle"
         },
         "mode": "markers",
         "name": "Recess: Taking the Fifth Grade",
         "orientation": "v",
         "showlegend": true,
         "type": "scatter",
         "x": [
          62
         ],
         "xaxis": "x",
         "y": [
          6.8
         ],
         "yaxis": "y"
        },
        {
         "hovertemplate": "<b>%{hovertext}</b><br><br>Title=The Even Stevens Movie<br>Runtime=%{x}<br>IMDb=%{y}<extra></extra>",
         "hovertext": [
          "The Even Stevens Movie"
         ],
         "legendgroup": "The Even Stevens Movie",
         "marker": {
          "color": "#FECB52",
          "symbol": "circle"
         },
         "mode": "markers",
         "name": "The Even Stevens Movie",
         "orientation": "v",
         "showlegend": true,
         "type": "scatter",
         "x": [
          93
         ],
         "xaxis": "x",
         "y": [
          6.2
         ],
         "yaxis": "y"
        },
        {
         "hovertemplate": "<b>%{hovertext}</b><br><br>Title=Marvel Rising: Secret Warriors<br>Runtime=%{x}<br>IMDb=%{y}<extra></extra>",
         "hovertext": [
          "Marvel Rising: Secret Warriors"
         ],
         "legendgroup": "Marvel Rising: Secret Warriors",
         "marker": {
          "color": "#636efa",
          "symbol": "circle"
         },
         "mode": "markers",
         "name": "Marvel Rising: Secret Warriors",
         "orientation": "v",
         "showlegend": true,
         "type": "scatter",
         "x": [
          80
         ],
         "xaxis": "x",
         "y": [
          5.2
         ],
         "yaxis": "y"
        },
        {
         "hovertemplate": "<b>%{hovertext}</b><br><br>Title=Mars Needs Moms<br>Runtime=%{x}<br>IMDb=%{y}<extra></extra>",
         "hovertext": [
          "Mars Needs Moms"
         ],
         "legendgroup": "Mars Needs Moms",
         "marker": {
          "color": "#EF553B",
          "symbol": "circle"
         },
         "mode": "markers",
         "name": "Mars Needs Moms",
         "orientation": "v",
         "showlegend": true,
         "type": "scatter",
         "x": [
          88
         ],
         "xaxis": "x",
         "y": [
          5.4
         ],
         "yaxis": "y"
        },
        {
         "hovertemplate": "<b>%{hovertext}</b><br><br>Title=Sharpay's Fabulous Adventure<br>Runtime=%{x}<br>IMDb=%{y}<extra></extra>",
         "hovertext": [
          "Sharpay's Fabulous Adventure"
         ],
         "legendgroup": "Sharpay's Fabulous Adventure",
         "marker": {
          "color": "#00cc96",
          "symbol": "circle"
         },
         "mode": "markers",
         "name": "Sharpay's Fabulous Adventure",
         "orientation": "v",
         "showlegend": true,
         "type": "scatter",
         "x": [
          90
         ],
         "xaxis": "x",
         "y": [
          4.7
         ],
         "yaxis": "y"
        },
        {
         "hovertemplate": "<b>%{hovertext}</b><br><br>Title=The Wizards Return: Alex vs. Alex<br>Runtime=%{x}<br>IMDb=%{y}<extra></extra>",
         "hovertext": [
          "The Wizards Return: Alex vs. Alex"
         ],
         "legendgroup": "The Wizards Return: Alex vs. Alex",
         "marker": {
          "color": "#ab63fa",
          "symbol": "circle"
         },
         "mode": "markers",
         "name": "The Wizards Return: Alex vs. Alex",
         "orientation": "v",
         "showlegend": true,
         "type": "scatter",
         "x": [
          60
         ],
         "xaxis": "x",
         "y": [
          6.4
         ],
         "yaxis": "y"
        },
        {
         "hovertemplate": "<b>%{hovertext}</b><br><br>Title=Home Alone 3<br>Runtime=%{x}<br>IMDb=%{y}<extra></extra>",
         "hovertext": [
          "Home Alone 3"
         ],
         "legendgroup": "Home Alone 3",
         "marker": {
          "color": "#FFA15A",
          "symbol": "circle"
         },
         "mode": "markers",
         "name": "Home Alone 3",
         "orientation": "v",
         "showlegend": true,
         "type": "scatter",
         "x": [
          102
         ],
         "xaxis": "x",
         "y": [
          4.5
         ],
         "yaxis": "y"
        },
        {
         "hovertemplate": "<b>%{hovertext}</b><br><br>Title=3 Men and a Little Lady<br>Runtime=%{x}<br>IMDb=%{y}<extra></extra>",
         "hovertext": [
          "3 Men and a Little Lady"
         ],
         "legendgroup": "3 Men and a Little Lady",
         "marker": {
          "color": "#19d3f3",
          "symbol": "circle"
         },
         "mode": "markers",
         "name": "3 Men and a Little Lady",
         "orientation": "v",
         "showlegend": true,
         "type": "scatter",
         "x": [
          104
         ],
         "xaxis": "x",
         "y": [
          5.4
         ],
         "yaxis": "y"
        },
        {
         "hovertemplate": "<b>%{hovertext}</b><br><br>Title=Beauty and the Beast: The Enchanted Christmas<br>Runtime=%{x}<br>IMDb=%{y}<extra></extra>",
         "hovertext": [
          "Beauty and the Beast: The Enchanted Christmas"
         ],
         "legendgroup": "Beauty and the Beast: The Enchanted Christmas",
         "marker": {
          "color": "#FF6692",
          "symbol": "circle"
         },
         "mode": "markers",
         "name": "Beauty and the Beast: The Enchanted Christmas",
         "orientation": "v",
         "showlegend": true,
         "type": "scatter",
         "x": [
          72
         ],
         "xaxis": "x",
         "y": [
          6.1
         ],
         "yaxis": "y"
        },
        {
         "hovertemplate": "<b>%{hovertext}</b><br><br>Title=Annie<br>Runtime=%{x}<br>IMDb=%{y}<extra></extra>",
         "hovertext": [
          "Annie"
         ],
         "legendgroup": "Annie",
         "marker": {
          "color": "#B6E880",
          "symbol": "circle"
         },
         "mode": "markers",
         "name": "Annie",
         "orientation": "v",
         "showlegend": true,
         "type": "scatter",
         "x": [
          126
         ],
         "xaxis": "x",
         "y": [
          6.7
         ],
         "yaxis": "y"
        },
        {
         "hovertemplate": "<b>%{hovertext}</b><br><br>Title=Tiger Cruise<br>Runtime=%{x}<br>IMDb=%{y}<extra></extra>",
         "hovertext": [
          "Tiger Cruise"
         ],
         "legendgroup": "Tiger Cruise",
         "marker": {
          "color": "#FF97FF",
          "symbol": "circle"
         },
         "mode": "markers",
         "name": "Tiger Cruise",
         "orientation": "v",
         "showlegend": true,
         "type": "scatter",
         "x": [
          88
         ],
         "xaxis": "x",
         "y": [
          6.2
         ],
         "yaxis": "y"
        },
        {
         "hovertemplate": "<b>%{hovertext}</b><br><br>Title=Stitch! The Movie<br>Runtime=%{x}<br>IMDb=%{y}<extra></extra>",
         "hovertext": [
          "Stitch! The Movie"
         ],
         "legendgroup": "Stitch! The Movie",
         "marker": {
          "color": "#FECB52",
          "symbol": "circle"
         },
         "mode": "markers",
         "name": "Stitch! The Movie",
         "orientation": "v",
         "showlegend": true,
         "type": "scatter",
         "x": [
          60
         ],
         "xaxis": "x",
         "y": [
          6.2
         ],
         "yaxis": "y"
        },
        {
         "hovertemplate": "<b>%{hovertext}</b><br><br>Title=Babes in Toyland<br>Runtime=%{x}<br>IMDb=%{y}<extra></extra>",
         "hovertext": [
          "Babes in Toyland"
         ],
         "legendgroup": "Babes in Toyland",
         "marker": {
          "color": "#636efa",
          "symbol": "circle"
         },
         "mode": "markers",
         "name": "Babes in Toyland",
         "orientation": "v",
         "showlegend": true,
         "type": "scatter",
         "x": [
          106
         ],
         "xaxis": "x",
         "y": [
          6.3
         ],
         "yaxis": "y"
        },
        {
         "hovertemplate": "<b>%{hovertext}</b><br><br>Title=Brink!<br>Runtime=%{x}<br>IMDb=%{y}<extra></extra>",
         "hovertext": [
          "Brink!"
         ],
         "legendgroup": "Brink!",
         "marker": {
          "color": "#EF553B",
          "symbol": "circle"
         },
         "mode": "markers",
         "name": "Brink!",
         "orientation": "v",
         "showlegend": true,
         "type": "scatter",
         "x": [
          99
         ],
         "xaxis": "x",
         "y": [
          7.1
         ],
         "yaxis": "y"
        },
        {
         "hovertemplate": "<b>%{hovertext}</b><br><br>Title=Tall Tale<br>Runtime=%{x}<br>IMDb=%{y}<extra></extra>",
         "hovertext": [
          "Tall Tale"
         ],
         "legendgroup": "Tall Tale",
         "marker": {
          "color": "#00cc96",
          "symbol": "circle"
         },
         "mode": "markers",
         "name": "Tall Tale",
         "orientation": "v",
         "showlegend": true,
         "type": "scatter",
         "x": [
          96
         ],
         "xaxis": "x",
         "y": [
          5.9
         ],
         "yaxis": "y"
        },
        {
         "hovertemplate": "<b>%{hovertext}</b><br><br>Title=Good Luck Charlie, It's Christmas!<br>Runtime=%{x}<br>IMDb=%{y}<extra></extra>",
         "hovertext": [
          "Good Luck Charlie, It's Christmas!"
         ],
         "legendgroup": "Good Luck Charlie, It's Christmas!",
         "marker": {
          "color": "#ab63fa",
          "symbol": "circle"
         },
         "mode": "markers",
         "name": "Good Luck Charlie, It's Christmas!",
         "orientation": "v",
         "showlegend": true,
         "type": "scatter",
         "x": [
          90
         ],
         "xaxis": "x",
         "y": [
          6.4
         ],
         "yaxis": "y"
        },
        {
         "hovertemplate": "<b>%{hovertext}</b><br><br>Title=G-Force<br>Runtime=%{x}<br>IMDb=%{y}<extra></extra>",
         "hovertext": [
          "G-Force"
         ],
         "legendgroup": "G-Force",
         "marker": {
          "color": "#FFA15A",
          "symbol": "circle"
         },
         "mode": "markers",
         "name": "G-Force",
         "orientation": "v",
         "showlegend": true,
         "type": "scatter",
         "x": [
          88
         ],
         "xaxis": "x",
         "y": [
          5.1
         ],
         "yaxis": "y"
        },
        {
         "hovertemplate": "<b>%{hovertext}</b><br><br>Title=Cloud 9<br>Runtime=%{x}<br>IMDb=%{y}<extra></extra>",
         "hovertext": [
          "Cloud 9"
         ],
         "legendgroup": "Cloud 9",
         "marker": {
          "color": "#19d3f3",
          "symbol": "circle"
         },
         "mode": "markers",
         "name": "Cloud 9",
         "orientation": "v",
         "showlegend": true,
         "type": "scatter",
         "x": [
          85
         ],
         "xaxis": "x",
         "y": [
          6.6
         ],
         "yaxis": "y"
        },
        {
         "hovertemplate": "<b>%{hovertext}</b><br><br>Title=Geek Charming<br>Runtime=%{x}<br>IMDb=%{y}<extra></extra>",
         "hovertext": [
          "Geek Charming"
         ],
         "legendgroup": "Geek Charming",
         "marker": {
          "color": "#FF6692",
          "symbol": "circle"
         },
         "mode": "markers",
         "name": "Geek Charming",
         "orientation": "v",
         "showlegend": true,
         "type": "scatter",
         "x": [
          94
         ],
         "xaxis": "x",
         "y": [
          6.4
         ],
         "yaxis": "y"
        },
        {
         "hovertemplate": "<b>%{hovertext}</b><br><br>Title=Snow Dogs<br>Runtime=%{x}<br>IMDb=%{y}<extra></extra>",
         "hovertext": [
          "Snow Dogs"
         ],
         "legendgroup": "Snow Dogs",
         "marker": {
          "color": "#B6E880",
          "symbol": "circle"
         },
         "mode": "markers",
         "name": "Snow Dogs",
         "orientation": "v",
         "showlegend": true,
         "type": "scatter",
         "x": [
          99
         ],
         "xaxis": "x",
         "y": [
          5.2
         ],
         "yaxis": "y"
        },
        {
         "hovertemplate": "<b>%{hovertext}</b><br><br>Title=Mulan II<br>Runtime=%{x}<br>IMDb=%{y}<extra></extra>",
         "hovertext": [
          "Mulan II"
         ],
         "legendgroup": "Mulan II",
         "marker": {
          "color": "#FF97FF",
          "symbol": "circle"
         },
         "mode": "markers",
         "name": "Mulan II",
         "orientation": "v",
         "showlegend": true,
         "type": "scatter",
         "x": [
          79
         ],
         "xaxis": "x",
         "y": [
          5.7
         ],
         "yaxis": "y"
        },
        {
         "hovertemplate": "<b>%{hovertext}</b><br><br>Title=Dr. Dolittle 2<br>Runtime=%{x}<br>IMDb=%{y}<extra></extra>",
         "hovertext": [
          "Dr. Dolittle 2"
         ],
         "legendgroup": "Dr. Dolittle 2",
         "marker": {
          "color": "#FECB52",
          "symbol": "circle"
         },
         "mode": "markers",
         "name": "Dr. Dolittle 2",
         "orientation": "v",
         "showlegend": true,
         "type": "scatter",
         "x": [
          87
         ],
         "xaxis": "x",
         "y": [
          4.7
         ],
         "yaxis": "y"
        },
        {
         "hovertemplate": "<b>%{hovertext}</b><br><br>Title=Kim Possible Movie: So the Drama<br>Runtime=%{x}<br>IMDb=%{y}<extra></extra>",
         "hovertext": [
          "Kim Possible Movie: So the Drama"
         ],
         "legendgroup": "Kim Possible Movie: So the Drama",
         "marker": {
          "color": "#636efa",
          "symbol": "circle"
         },
         "mode": "markers",
         "name": "Kim Possible Movie: So the Drama",
         "orientation": "v",
         "showlegend": true,
         "type": "scatter",
         "x": [
          71
         ],
         "xaxis": "x",
         "y": [
          7.1
         ],
         "yaxis": "y"
        },
        {
         "hovertemplate": "<b>%{hovertext}</b><br><br>Title=Camp Nowhere<br>Runtime=%{x}<br>IMDb=%{y}<extra></extra>",
         "hovertext": [
          "Camp Nowhere"
         ],
         "legendgroup": "Camp Nowhere",
         "marker": {
          "color": "#EF553B",
          "symbol": "circle"
         },
         "mode": "markers",
         "name": "Camp Nowhere",
         "orientation": "v",
         "showlegend": true,
         "type": "scatter",
         "x": [
          96
         ],
         "xaxis": "x",
         "y": [
          6.1
         ],
         "yaxis": "y"
        },
        {
         "hovertemplate": "<b>%{hovertext}</b><br><br>Title=Honey I Blew Up the Kid<br>Runtime=%{x}<br>IMDb=%{y}<extra></extra>",
         "hovertext": [
          "Honey I Blew Up the Kid"
         ],
         "legendgroup": "Honey I Blew Up the Kid",
         "marker": {
          "color": "#00cc96",
          "symbol": "circle"
         },
         "mode": "markers",
         "name": "Honey I Blew Up the Kid",
         "orientation": "v",
         "showlegend": true,
         "type": "scatter",
         "x": [
          89
         ],
         "xaxis": "x",
         "y": [
          4.8
         ],
         "yaxis": "y"
        },
        {
         "hovertemplate": "<b>%{hovertext}</b><br><br>Title=Steamboat Willie<br>Runtime=%{x}<br>IMDb=%{y}<extra></extra>",
         "hovertext": [
          "Steamboat Willie"
         ],
         "legendgroup": "Steamboat Willie",
         "marker": {
          "color": "#ab63fa",
          "symbol": "circle"
         },
         "mode": "markers",
         "name": "Steamboat Willie",
         "orientation": "v",
         "showlegend": true,
         "type": "scatter",
         "x": [
          8
         ],
         "xaxis": "x",
         "y": [
          7.6
         ],
         "yaxis": "y"
        },
        {
         "hovertemplate": "<b>%{hovertext}</b><br><br>Title=Motocrossed<br>Runtime=%{x}<br>IMDb=%{y}<extra></extra>",
         "hovertext": [
          "Motocrossed"
         ],
         "legendgroup": "Motocrossed",
         "marker": {
          "color": "#FFA15A",
          "symbol": "circle"
         },
         "mode": "markers",
         "name": "Motocrossed",
         "orientation": "v",
         "showlegend": true,
         "type": "scatter",
         "x": [
          110
         ],
         "xaxis": "x",
         "y": [
          6.6
         ],
         "yaxis": "y"
        },
        {
         "hovertemplate": "<b>%{hovertext}</b><br><br>Title=One Magic Christmas<br>Runtime=%{x}<br>IMDb=%{y}<extra></extra>",
         "hovertext": [
          "One Magic Christmas"
         ],
         "legendgroup": "One Magic Christmas",
         "marker": {
          "color": "#19d3f3",
          "symbol": "circle"
         },
         "mode": "markers",
         "name": "One Magic Christmas",
         "orientation": "v",
         "showlegend": true,
         "type": "scatter",
         "x": [
          89
         ],
         "xaxis": "x",
         "y": [
          6.5
         ],
         "yaxis": "y"
        },
        {
         "hovertemplate": "<b>%{hovertext}</b><br><br>Title=The Computer Wore Tennis Shoes<br>Runtime=%{x}<br>IMDb=%{y}<extra></extra>",
         "hovertext": [
          "The Computer Wore Tennis Shoes"
         ],
         "legendgroup": "The Computer Wore Tennis Shoes",
         "marker": {
          "color": "#FF6692",
          "symbol": "circle"
         },
         "mode": "markers",
         "name": "The Computer Wore Tennis Shoes",
         "orientation": "v",
         "showlegend": true,
         "type": "scatter",
         "x": [
          91
         ],
         "xaxis": "x",
         "y": [
          6.1
         ],
         "yaxis": "y"
        },
        {
         "hovertemplate": "<b>%{hovertext}</b><br><br>Title=Halloweentown II: Kalabar's Revenge<br>Runtime=%{x}<br>IMDb=%{y}<extra></extra>",
         "hovertext": [
          "Halloweentown II: Kalabar's Revenge"
         ],
         "legendgroup": "Halloweentown II: Kalabar's Revenge",
         "marker": {
          "color": "#B6E880",
          "symbol": "circle"
         },
         "mode": "markers",
         "name": "Halloweentown II: Kalabar's Revenge",
         "orientation": "v",
         "showlegend": true,
         "type": "scatter",
         "x": [
          81
         ],
         "xaxis": "x",
         "y": [
          6.5
         ],
         "yaxis": "y"
        },
        {
         "hovertemplate": "<b>%{hovertext}</b><br><br>Title=102 Dalmatians<br>Runtime=%{x}<br>IMDb=%{y}<extra></extra>",
         "hovertext": [
          "102 Dalmatians"
         ],
         "legendgroup": "102 Dalmatians",
         "marker": {
          "color": "#FF97FF",
          "symbol": "circle"
         },
         "mode": "markers",
         "name": "102 Dalmatians",
         "orientation": "v",
         "showlegend": true,
         "type": "scatter",
         "x": [
          100
         ],
         "xaxis": "x",
         "y": [
          4.9
         ],
         "yaxis": "y"
        },
        {
         "hovertemplate": "<b>%{hovertext}</b><br><br>Title=The Santa Clause 3: The Escape Clause<br>Runtime=%{x}<br>IMDb=%{y}<extra></extra>",
         "hovertext": [
          "The Santa Clause 3: The Escape Clause"
         ],
         "legendgroup": "The Santa Clause 3: The Escape Clause",
         "marker": {
          "color": "#FECB52",
          "symbol": "circle"
         },
         "mode": "markers",
         "name": "The Santa Clause 3: The Escape Clause",
         "orientation": "v",
         "showlegend": true,
         "type": "scatter",
         "x": [
          97
         ],
         "xaxis": "x",
         "y": [
          4.7
         ],
         "yaxis": "y"
        },
        {
         "hovertemplate": "<b>%{hovertext}</b><br><br>Title=Teen Beach 2<br>Runtime=%{x}<br>IMDb=%{y}<extra></extra>",
         "hovertext": [
          "Teen Beach 2"
         ],
         "legendgroup": "Teen Beach 2",
         "marker": {
          "color": "#636efa",
          "symbol": "circle"
         },
         "mode": "markers",
         "name": "Teen Beach 2",
         "orientation": "v",
         "showlegend": true,
         "type": "scatter",
         "x": [
          104
         ],
         "xaxis": "x",
         "y": [
          6.1
         ],
         "yaxis": "y"
        },
        {
         "hovertemplate": "<b>%{hovertext}</b><br><br>Title=Return from Witch Mountain<br>Runtime=%{x}<br>IMDb=%{y}<extra></extra>",
         "hovertext": [
          "Return from Witch Mountain"
         ],
         "legendgroup": "Return from Witch Mountain",
         "marker": {
          "color": "#EF553B",
          "symbol": "circle"
         },
         "mode": "markers",
         "name": "Return from Witch Mountain",
         "orientation": "v",
         "showlegend": true,
         "type": "scatter",
         "x": [
          95
         ],
         "xaxis": "x",
         "y": [
          5.9
         ],
         "yaxis": "y"
        },
        {
         "hovertemplate": "<b>%{hovertext}</b><br><br>Title=Kitbull<br>Runtime=%{x}<br>IMDb=%{y}<extra></extra>",
         "hovertext": [
          "Kitbull"
         ],
         "legendgroup": "Kitbull",
         "marker": {
          "color": "#00cc96",
          "symbol": "circle"
         },
         "mode": "markers",
         "name": "Kitbull",
         "orientation": "v",
         "showlegend": true,
         "type": "scatter",
         "x": [
          9
         ],
         "xaxis": "x",
         "y": [
          8
         ],
         "yaxis": "y"
        },
        {
         "hovertemplate": "<b>%{hovertext}</b><br><br>Title=Tru Confessions<br>Runtime=%{x}<br>IMDb=%{y}<extra></extra>",
         "hovertext": [
          "Tru Confessions"
         ],
         "legendgroup": "Tru Confessions",
         "marker": {
          "color": "#ab63fa",
          "symbol": "circle"
         },
         "mode": "markers",
         "name": "Tru Confessions",
         "orientation": "v",
         "showlegend": true,
         "type": "scatter",
         "x": [
          112
         ],
         "xaxis": "x",
         "y": [
          7.5
         ],
         "yaxis": "y"
        },
        {
         "hovertemplate": "<b>%{hovertext}</b><br><br>Title=Treasure Island<br>Runtime=%{x}<br>IMDb=%{y}<extra></extra>",
         "hovertext": [
          "Treasure Island"
         ],
         "legendgroup": "Treasure Island",
         "marker": {
          "color": "#FFA15A",
          "symbol": "circle"
         },
         "mode": "markers",
         "name": "Treasure Island",
         "orientation": "v",
         "showlegend": true,
         "type": "scatter",
         "x": [
          96
         ],
         "xaxis": "x",
         "y": [
          6.9
         ],
         "yaxis": "y"
        },
        {
         "hovertemplate": "<b>%{hovertext}</b><br><br>Title=Prom<br>Runtime=%{x}<br>IMDb=%{y}<extra></extra>",
         "hovertext": [
          "Prom"
         ],
         "legendgroup": "Prom",
         "marker": {
          "color": "#19d3f3",
          "symbol": "circle"
         },
         "mode": "markers",
         "name": "Prom",
         "orientation": "v",
         "showlegend": true,
         "type": "scatter",
         "x": [
          104
         ],
         "xaxis": "x",
         "y": [
          5.4
         ],
         "yaxis": "y"
        },
        {
         "hovertemplate": "<b>%{hovertext}</b><br><br>Title=Mickey's Twice Upon a Christmas<br>Runtime=%{x}<br>IMDb=%{y}<extra></extra>",
         "hovertext": [
          "Mickey's Twice Upon a Christmas"
         ],
         "legendgroup": "Mickey's Twice Upon a Christmas",
         "marker": {
          "color": "#FF6692",
          "symbol": "circle"
         },
         "mode": "markers",
         "name": "Mickey's Twice Upon a Christmas",
         "orientation": "v",
         "showlegend": true,
         "type": "scatter",
         "x": [
          68
         ],
         "xaxis": "x",
         "y": [
          6.5
         ],
         "yaxis": "y"
        },
        {
         "hovertemplate": "<b>%{hovertext}</b><br><br>Title=Zenon: Girl of the 21st Century<br>Runtime=%{x}<br>IMDb=%{y}<extra></extra>",
         "hovertext": [
          "Zenon: Girl of the 21st Century"
         ],
         "legendgroup": "Zenon: Girl of the 21st Century",
         "marker": {
          "color": "#B6E880",
          "symbol": "circle"
         },
         "mode": "markers",
         "name": "Zenon: Girl of the 21st Century",
         "orientation": "v",
         "showlegend": true,
         "type": "scatter",
         "x": [
          97
         ],
         "xaxis": "x",
         "y": [
          6.4
         ],
         "yaxis": "y"
        },
        {
         "hovertemplate": "<b>%{hovertext}</b><br><br>Title=The Wild<br>Runtime=%{x}<br>IMDb=%{y}<extra></extra>",
         "hovertext": [
          "The Wild"
         ],
         "legendgroup": "The Wild",
         "marker": {
          "color": "#FF97FF",
          "symbol": "circle"
         },
         "mode": "markers",
         "name": "The Wild",
         "orientation": "v",
         "showlegend": true,
         "type": "scatter",
         "x": [
          117
         ],
         "xaxis": "x",
         "y": [
          5.3
         ],
         "yaxis": "y"
        },
        {
         "hovertemplate": "<b>%{hovertext}</b><br><br>Title=Halloweentown High<br>Runtime=%{x}<br>IMDb=%{y}<extra></extra>",
         "hovertext": [
          "Halloweentown High"
         ],
         "legendgroup": "Halloweentown High",
         "marker": {
          "color": "#FECB52",
          "symbol": "circle"
         },
         "mode": "markers",
         "name": "Halloweentown High",
         "orientation": "v",
         "showlegend": true,
         "type": "scatter",
         "x": [
          82
         ],
         "xaxis": "x",
         "y": [
          6.2
         ],
         "yaxis": "y"
        },
        {
         "hovertemplate": "<b>%{hovertext}</b><br><br>Title=Valiant<br>Runtime=%{x}<br>IMDb=%{y}<extra></extra>",
         "hovertext": [
          "Valiant"
         ],
         "legendgroup": "Valiant",
         "marker": {
          "color": "#636efa",
          "symbol": "circle"
         },
         "mode": "markers",
         "name": "Valiant",
         "orientation": "v",
         "showlegend": true,
         "type": "scatter",
         "x": [
          76
         ],
         "xaxis": "x",
         "y": [
          5.5
         ],
         "yaxis": "y"
        },
        {
         "hovertemplate": "<b>%{hovertext}</b><br><br>Title=Candleshoe<br>Runtime=%{x}<br>IMDb=%{y}<extra></extra>",
         "hovertext": [
          "Candleshoe"
         ],
         "legendgroup": "Candleshoe",
         "marker": {
          "color": "#EF553B",
          "symbol": "circle"
         },
         "mode": "markers",
         "name": "Candleshoe",
         "orientation": "v",
         "showlegend": true,
         "type": "scatter",
         "x": [
          101
         ],
         "xaxis": "x",
         "y": [
          6.8
         ],
         "yaxis": "y"
        },
        {
         "hovertemplate": "<b>%{hovertext}</b><br><br>Title=The Haunted Mansion<br>Runtime=%{x}<br>IMDb=%{y}<extra></extra>",
         "hovertext": [
          "The Haunted Mansion"
         ],
         "legendgroup": "The Haunted Mansion",
         "marker": {
          "color": "#00cc96",
          "symbol": "circle"
         },
         "mode": "markers",
         "name": "The Haunted Mansion",
         "orientation": "v",
         "showlegend": true,
         "type": "scatter",
         "x": [
          99
         ],
         "xaxis": "x",
         "y": [
          5
         ],
         "yaxis": "y"
        },
        {
         "hovertemplate": "<b>%{hovertext}</b><br><br>Title=Twitches Too<br>Runtime=%{x}<br>IMDb=%{y}<extra></extra>",
         "hovertext": [
          "Twitches Too"
         ],
         "legendgroup": "Twitches Too",
         "marker": {
          "color": "#ab63fa",
          "symbol": "circle"
         },
         "mode": "markers",
         "name": "Twitches Too",
         "orientation": "v",
         "showlegend": true,
         "type": "scatter",
         "x": [
          83
         ],
         "xaxis": "x",
         "y": [
          5.8
         ],
         "yaxis": "y"
        },
        {
         "hovertemplate": "<b>%{hovertext}</b><br><br>Title=Jungle 2 Jungle<br>Runtime=%{x}<br>IMDb=%{y}<extra></extra>",
         "hovertext": [
          "Jungle 2 Jungle"
         ],
         "legendgroup": "Jungle 2 Jungle",
         "marker": {
          "color": "#FFA15A",
          "symbol": "circle"
         },
         "mode": "markers",
         "name": "Jungle 2 Jungle",
         "orientation": "v",
         "showlegend": true,
         "type": "scatter",
         "x": [
          105
         ],
         "xaxis": "x",
         "y": [
          5.2
         ],
         "yaxis": "y"
        },
        {
         "hovertemplate": "<b>%{hovertext}</b><br><br>Title=Hannah Montana & Miley Cyrus: Best of Both Worlds Concert<br>Runtime=%{x}<br>IMDb=%{y}<extra></extra>",
         "hovertext": [
          "Hannah Montana & Miley Cyrus: Best of Both Worlds Concert"
         ],
         "legendgroup": "Hannah Montana & Miley Cyrus: Best of Both Worlds Concert",
         "marker": {
          "color": "#19d3f3",
          "symbol": "circle"
         },
         "mode": "markers",
         "name": "Hannah Montana & Miley Cyrus: Best of Both Worlds Concert",
         "orientation": "v",
         "showlegend": true,
         "type": "scatter",
         "x": [
          74
         ],
         "xaxis": "x",
         "y": [
          2.4
         ],
         "yaxis": "y"
        },
        {
         "hovertemplate": "<b>%{hovertext}</b><br><br>Title=The Ugly Dachshund<br>Runtime=%{x}<br>IMDb=%{y}<extra></extra>",
         "hovertext": [
          "The Ugly Dachshund"
         ],
         "legendgroup": "The Ugly Dachshund",
         "marker": {
          "color": "#FF6692",
          "symbol": "circle"
         },
         "mode": "markers",
         "name": "The Ugly Dachshund",
         "orientation": "v",
         "showlegend": true,
         "type": "scatter",
         "x": [
          93
         ],
         "xaxis": "x",
         "y": [
          6.7
         ],
         "yaxis": "y"
        },
        {
         "hovertemplate": "<b>%{hovertext}</b><br><br>Title=Kronk's New Groove<br>Runtime=%{x}<br>IMDb=%{y}<extra></extra>",
         "hovertext": [
          "Kronk's New Groove"
         ],
         "legendgroup": "Kronk's New Groove",
         "marker": {
          "color": "#B6E880",
          "symbol": "circle"
         },
         "mode": "markers",
         "name": "Kronk's New Groove",
         "orientation": "v",
         "showlegend": true,
         "type": "scatter",
         "x": [
          75
         ],
         "xaxis": "x",
         "y": [
          5.8
         ],
         "yaxis": "y"
        },
        {
         "hovertemplate": "<b>%{hovertext}</b><br><br>Title=Marvel Studios: Assembling a Universe<br>Runtime=%{x}<br>IMDb=%{y}<extra></extra>",
         "hovertext": [
          "Marvel Studios: Assembling a Universe"
         ],
         "legendgroup": "Marvel Studios: Assembling a Universe",
         "marker": {
          "color": "#FF97FF",
          "symbol": "circle"
         },
         "mode": "markers",
         "name": "Marvel Studios: Assembling a Universe",
         "orientation": "v",
         "showlegend": true,
         "type": "scatter",
         "x": [
          43
         ],
         "xaxis": "x",
         "y": [
          7.6
         ],
         "yaxis": "y"
        },
        {
         "hovertemplate": "<b>%{hovertext}</b><br><br>Title=Smart House<br>Runtime=%{x}<br>IMDb=%{y}<extra></extra>",
         "hovertext": [
          "Smart House"
         ],
         "legendgroup": "Smart House",
         "marker": {
          "color": "#FECB52",
          "symbol": "circle"
         },
         "mode": "markers",
         "name": "Smart House",
         "orientation": "v",
         "showlegend": true,
         "type": "scatter",
         "x": [
          82
         ],
         "xaxis": "x",
         "y": [
          6.3
         ],
         "yaxis": "y"
        },
        {
         "hovertemplate": "<b>%{hovertext}</b><br><br>Title=Cadet Kelly<br>Runtime=%{x}<br>IMDb=%{y}<extra></extra>",
         "hovertext": [
          "Cadet Kelly"
         ],
         "legendgroup": "Cadet Kelly",
         "marker": {
          "color": "#636efa",
          "symbol": "circle"
         },
         "mode": "markers",
         "name": "Cadet Kelly",
         "orientation": "v",
         "showlegend": true,
         "type": "scatter",
         "x": [
          101
         ],
         "xaxis": "x",
         "y": [
          5.5
         ],
         "yaxis": "y"
        },
        {
         "hovertemplate": "<b>%{hovertext}</b><br><br>Title=Z-O-M-B-I-E-S<br>Runtime=%{x}<br>IMDb=%{y}<extra></extra>",
         "hovertext": [
          "Z-O-M-B-I-E-S"
         ],
         "legendgroup": "Z-O-M-B-I-E-S",
         "marker": {
          "color": "#EF553B",
          "symbol": "circle"
         },
         "mode": "markers",
         "name": "Z-O-M-B-I-E-S",
         "orientation": "v",
         "showlegend": true,
         "type": "scatter",
         "x": [
          94
         ],
         "xaxis": "x",
         "y": [
          6.3
         ],
         "yaxis": "y"
        },
        {
         "hovertemplate": "<b>%{hovertext}</b><br><br>Title=Tom and Huck<br>Runtime=%{x}<br>IMDb=%{y}<extra></extra>",
         "hovertext": [
          "Tom and Huck"
         ],
         "legendgroup": "Tom and Huck",
         "marker": {
          "color": "#00cc96",
          "symbol": "circle"
         },
         "mode": "markers",
         "name": "Tom and Huck",
         "orientation": "v",
         "showlegend": true,
         "type": "scatter",
         "x": [
          97
         ],
         "xaxis": "x",
         "y": [
          5.5
         ],
         "yaxis": "y"
        },
        {
         "hovertemplate": "<b>%{hovertext}</b><br><br>Title=Young Black Stallion<br>Runtime=%{x}<br>IMDb=%{y}<extra></extra>",
         "hovertext": [
          "Young Black Stallion"
         ],
         "legendgroup": "Young Black Stallion",
         "marker": {
          "color": "#ab63fa",
          "symbol": "circle"
         },
         "mode": "markers",
         "name": "Young Black Stallion",
         "orientation": "v",
         "showlegend": true,
         "type": "scatter",
         "x": [
          50
         ],
         "xaxis": "x",
         "y": [
          5.6
         ],
         "yaxis": "y"
        },
        {
         "hovertemplate": "<b>%{hovertext}</b><br><br>Title=Tangled: Before Ever After<br>Runtime=%{x}<br>IMDb=%{y}<extra></extra>",
         "hovertext": [
          "Tangled: Before Ever After"
         ],
         "legendgroup": "Tangled: Before Ever After",
         "marker": {
          "color": "#FFA15A",
          "symbol": "circle"
         },
         "mode": "markers",
         "name": "Tangled: Before Ever After",
         "orientation": "v",
         "showlegend": true,
         "type": "scatter",
         "x": [
          21
         ],
         "xaxis": "x",
         "y": [
          6.6
         ],
         "yaxis": "y"
        },
        {
         "hovertemplate": "<b>%{hovertext}</b><br><br>Title=The Reluctant Dragon<br>Runtime=%{x}<br>IMDb=%{y}<extra></extra>",
         "hovertext": [
          "The Reluctant Dragon"
         ],
         "legendgroup": "The Reluctant Dragon",
         "marker": {
          "color": "#19d3f3",
          "symbol": "circle"
         },
         "mode": "markers",
         "name": "The Reluctant Dragon",
         "orientation": "v",
         "showlegend": true,
         "type": "scatter",
         "x": [
          74
         ],
         "xaxis": "x",
         "y": [
          6.9
         ],
         "yaxis": "y"
        },
        {
         "hovertemplate": "<b>%{hovertext}</b><br><br>Title=Pocahontas II: Journey to a New World<br>Runtime=%{x}<br>IMDb=%{y}<extra></extra>",
         "hovertext": [
          "Pocahontas II: Journey to a New World"
         ],
         "legendgroup": "Pocahontas II: Journey to a New World",
         "marker": {
          "color": "#FF6692",
          "symbol": "circle"
         },
         "mode": "markers",
         "name": "Pocahontas II: Journey to a New World",
         "orientation": "v",
         "showlegend": true,
         "type": "scatter",
         "x": [
          72
         ],
         "xaxis": "x",
         "y": [
          4.9
         ],
         "yaxis": "y"
        },
        {
         "hovertemplate": "<b>%{hovertext}</b><br><br>Title=Cheetah<br>Runtime=%{x}<br>IMDb=%{y}<extra></extra>",
         "hovertext": [
          "Cheetah"
         ],
         "legendgroup": "Cheetah",
         "marker": {
          "color": "#B6E880",
          "symbol": "circle"
         },
         "mode": "markers",
         "name": "Cheetah",
         "orientation": "v",
         "showlegend": true,
         "type": "scatter",
         "x": [
          83
         ],
         "xaxis": "x",
         "y": [
          6
         ],
         "yaxis": "y"
        },
        {
         "hovertemplate": "<b>%{hovertext}</b><br><br>Title=Avalon High<br>Runtime=%{x}<br>IMDb=%{y}<extra></extra>",
         "hovertext": [
          "Avalon High"
         ],
         "legendgroup": "Avalon High",
         "marker": {
          "color": "#FF97FF",
          "symbol": "circle"
         },
         "mode": "markers",
         "name": "Avalon High",
         "orientation": "v",
         "showlegend": true,
         "type": "scatter",
         "x": [
          90
         ],
         "xaxis": "x",
         "y": [
          5.7
         ],
         "yaxis": "y"
        },
        {
         "hovertemplate": "<b>%{hovertext}</b><br><br>Title=The Fox and the Hound 2<br>Runtime=%{x}<br>IMDb=%{y}<extra></extra>",
         "hovertext": [
          "The Fox and the Hound 2"
         ],
         "legendgroup": "The Fox and the Hound 2",
         "marker": {
          "color": "#FECB52",
          "symbol": "circle"
         },
         "mode": "markers",
         "name": "The Fox and the Hound 2",
         "orientation": "v",
         "showlegend": true,
         "type": "scatter",
         "x": [
          69
         ],
         "xaxis": "x",
         "y": [
          5.3
         ],
         "yaxis": "y"
        },
        {
         "hovertemplate": "<b>%{hovertext}</b><br><br>Title=Honey, We Shrunk Ourselves<br>Runtime=%{x}<br>IMDb=%{y}<extra></extra>",
         "hovertext": [
          "Honey, We Shrunk Ourselves"
         ],
         "legendgroup": "Honey, We Shrunk Ourselves",
         "marker": {
          "color": "#636efa",
          "symbol": "circle"
         },
         "mode": "markers",
         "name": "Honey, We Shrunk Ourselves",
         "orientation": "v",
         "showlegend": true,
         "type": "scatter",
         "x": [
          74
         ],
         "xaxis": "x",
         "y": [
          5
         ],
         "yaxis": "y"
        },
        {
         "hovertemplate": "<b>%{hovertext}</b><br><br>Title=How to Build a Better Boy<br>Runtime=%{x}<br>IMDb=%{y}<extra></extra>",
         "hovertext": [
          "How to Build a Better Boy"
         ],
         "legendgroup": "How to Build a Better Boy",
         "marker": {
          "color": "#EF553B",
          "symbol": "circle"
         },
         "mode": "markers",
         "name": "How to Build a Better Boy",
         "orientation": "v",
         "showlegend": true,
         "type": "scatter",
         "x": [
          90
         ],
         "xaxis": "x",
         "y": [
          5.5
         ],
         "yaxis": "y"
        },
        {
         "hovertemplate": "<b>%{hovertext}</b><br><br>Title=The Jungle Book 2<br>Runtime=%{x}<br>IMDb=%{y}<extra></extra>",
         "hovertext": [
          "The Jungle Book 2"
         ],
         "legendgroup": "The Jungle Book 2",
         "marker": {
          "color": "#00cc96",
          "symbol": "circle"
         },
         "mode": "markers",
         "name": "The Jungle Book 2",
         "orientation": "v",
         "showlegend": true,
         "type": "scatter",
         "x": [
          72
         ],
         "xaxis": "x",
         "y": [
          5.4
         ],
         "yaxis": "y"
        },
        {
         "hovertemplate": "<b>%{hovertext}</b><br><br>Title=The Luck of the Irish<br>Runtime=%{x}<br>IMDb=%{y}<extra></extra>",
         "hovertext": [
          "The Luck of the Irish"
         ],
         "legendgroup": "The Luck of the Irish",
         "marker": {
          "color": "#ab63fa",
          "symbol": "circle"
         },
         "mode": "markers",
         "name": "The Luck of the Irish",
         "orientation": "v",
         "showlegend": true,
         "type": "scatter",
         "x": [
          86
         ],
         "xaxis": "x",
         "y": [
          6.2
         ],
         "yaxis": "y"
        },
        {
         "hovertemplate": "<b>%{hovertext}</b><br><br>Title=Tin Toy<br>Runtime=%{x}<br>IMDb=%{y}<extra></extra>",
         "hovertext": [
          "Tin Toy"
         ],
         "legendgroup": "Tin Toy",
         "marker": {
          "color": "#FFA15A",
          "symbol": "circle"
         },
         "mode": "markers",
         "name": "Tin Toy",
         "orientation": "v",
         "showlegend": true,
         "type": "scatter",
         "x": [
          5
         ],
         "xaxis": "x",
         "y": [
          6.5
         ],
         "yaxis": "y"
        },
        {
         "hovertemplate": "<b>%{hovertext}</b><br><br>Title=Return to Halloweentown<br>Runtime=%{x}<br>IMDb=%{y}<extra></extra>",
         "hovertext": [
          "Return to Halloweentown"
         ],
         "legendgroup": "Return to Halloweentown",
         "marker": {
          "color": "#19d3f3",
          "symbol": "circle"
         },
         "mode": "markers",
         "name": "Return to Halloweentown",
         "orientation": "v",
         "showlegend": true,
         "type": "scatter",
         "x": [
          88
         ],
         "xaxis": "x",
         "y": [
          5.6
         ],
         "yaxis": "y"
        },
        {
         "hovertemplate": "<b>%{hovertext}</b><br><br>Title=Winnie the Pooh: A Very Merry Pooh Year<br>Runtime=%{x}<br>IMDb=%{y}<extra></extra>",
         "hovertext": [
          "Winnie the Pooh: A Very Merry Pooh Year"
         ],
         "legendgroup": "Winnie the Pooh: A Very Merry Pooh Year",
         "marker": {
          "color": "#FF6692",
          "symbol": "circle"
         },
         "mode": "markers",
         "name": "Winnie the Pooh: A Very Merry Pooh Year",
         "orientation": "v",
         "showlegend": true,
         "type": "scatter",
         "x": [
          65
         ],
         "xaxis": "x",
         "y": [
          6.8
         ],
         "yaxis": "y"
        },
        {
         "hovertemplate": "<b>%{hovertext}</b><br><br>Title=Johnny Tsunami<br>Runtime=%{x}<br>IMDb=%{y}<extra></extra>",
         "hovertext": [
          "Johnny Tsunami"
         ],
         "legendgroup": "Johnny Tsunami",
         "marker": {
          "color": "#B6E880",
          "symbol": "circle"
         },
         "mode": "markers",
         "name": "Johnny Tsunami",
         "orientation": "v",
         "showlegend": true,
         "type": "scatter",
         "x": [
          88
         ],
         "xaxis": "x",
         "y": [
          6.3
         ],
         "yaxis": "y"
        },
        {
         "hovertemplate": "<b>%{hovertext}</b><br><br>Title=The Disney Family Singalong<br>Runtime=%{x}<br>IMDb=%{y}<extra></extra>",
         "hovertext": [
          "The Disney Family Singalong"
         ],
         "legendgroup": "The Disney Family Singalong",
         "marker": {
          "color": "#FF97FF",
          "symbol": "circle"
         },
         "mode": "markers",
         "name": "The Disney Family Singalong",
         "orientation": "v",
         "showlegend": true,
         "type": "scatter",
         "x": [
          null
         ],
         "xaxis": "x",
         "y": [
          8.1
         ],
         "yaxis": "y"
        },
        {
         "hovertemplate": "<b>%{hovertext}</b><br><br>Title=Don't Look Under the Bed<br>Runtime=%{x}<br>IMDb=%{y}<extra></extra>",
         "hovertext": [
          "Don't Look Under the Bed"
         ],
         "legendgroup": "Don't Look Under the Bed",
         "marker": {
          "color": "#FECB52",
          "symbol": "circle"
         },
         "mode": "markers",
         "name": "Don't Look Under the Bed",
         "orientation": "v",
         "showlegend": true,
         "type": "scatter",
         "x": [
          100
         ],
         "xaxis": "x",
         "y": [
          6.9
         ],
         "yaxis": "y"
        },
        {
         "hovertemplate": "<b>%{hovertext}</b><br><br>Title=I'll Be Home for Christmas<br>Runtime=%{x}<br>IMDb=%{y}<extra></extra>",
         "hovertext": [
          "I'll Be Home for Christmas"
         ],
         "legendgroup": "I'll Be Home for Christmas",
         "marker": {
          "color": "#636efa",
          "symbol": "circle"
         },
         "mode": "markers",
         "name": "I'll Be Home for Christmas",
         "orientation": "v",
         "showlegend": true,
         "type": "scatter",
         "x": [
          86
         ],
         "xaxis": "x",
         "y": [
          5.5
         ],
         "yaxis": "y"
        },
        {
         "hovertemplate": "<b>%{hovertext}</b><br><br>Title=Invisible Sister<br>Runtime=%{x}<br>IMDb=%{y}<extra></extra>",
         "hovertext": [
          "Invisible Sister"
         ],
         "legendgroup": "Invisible Sister",
         "marker": {
          "color": "#EF553B",
          "symbol": "circle"
         },
         "mode": "markers",
         "name": "Invisible Sister",
         "orientation": "v",
         "showlegend": true,
         "type": "scatter",
         "x": [
          80
         ],
         "xaxis": "x",
         "y": [
          6.1
         ],
         "yaxis": "y"
        },
        {
         "hovertemplate": "<b>%{hovertext}</b><br><br>Title=Confessions of a Teenage Drama Queen<br>Runtime=%{x}<br>IMDb=%{y}<extra></extra>",
         "hovertext": [
          "Confessions of a Teenage Drama Queen"
         ],
         "legendgroup": "Confessions of a Teenage Drama Queen",
         "marker": {
          "color": "#00cc96",
          "symbol": "circle"
         },
         "mode": "markers",
         "name": "Confessions of a Teenage Drama Queen",
         "orientation": "v",
         "showlegend": true,
         "type": "scatter",
         "x": [
          89
         ],
         "xaxis": "x",
         "y": [
          4.6
         ],
         "yaxis": "y"
        },
        {
         "hovertemplate": "<b>%{hovertext}</b><br><br>Title=The Shaggy D.A.<br>Runtime=%{x}<br>IMDb=%{y}<extra></extra>",
         "hovertext": [
          "The Shaggy D.A."
         ],
         "legendgroup": "The Shaggy D.A.",
         "marker": {
          "color": "#ab63fa",
          "symbol": "circle"
         },
         "mode": "markers",
         "name": "The Shaggy D.A.",
         "orientation": "v",
         "showlegend": true,
         "type": "scatter",
         "x": [
          91
         ],
         "xaxis": "x",
         "y": [
          5.9
         ],
         "yaxis": "y"
        },
        {
         "hovertemplate": "<b>%{hovertext}</b><br><br>Title=Minutemen<br>Runtime=%{x}<br>IMDb=%{y}<extra></extra>",
         "hovertext": [
          "Minutemen"
         ],
         "legendgroup": "Minutemen",
         "marker": {
          "color": "#FFA15A",
          "symbol": "circle"
         },
         "mode": "markers",
         "name": "Minutemen",
         "orientation": "v",
         "showlegend": true,
         "type": "scatter",
         "x": [
          98
         ],
         "xaxis": "x",
         "y": [
          5.8
         ],
         "yaxis": "y"
        },
        {
         "hovertemplate": "<b>%{hovertext}</b><br><br>Title=Shipwrecked<br>Runtime=%{x}<br>IMDb=%{y}<extra></extra>",
         "hovertext": [
          "Shipwrecked"
         ],
         "legendgroup": "Shipwrecked",
         "marker": {
          "color": "#19d3f3",
          "symbol": "circle"
         },
         "mode": "markers",
         "name": "Shipwrecked",
         "orientation": "v",
         "showlegend": true,
         "type": "scatter",
         "x": [
          92
         ],
         "xaxis": "x",
         "y": [
          6.7
         ],
         "yaxis": "y"
        },
        {
         "hovertemplate": "<b>%{hovertext}</b><br><br>Title=Into the Okavango<br>Runtime=%{x}<br>IMDb=%{y}<extra></extra>",
         "hovertext": [
          "Into the Okavango"
         ],
         "legendgroup": "Into the Okavango",
         "marker": {
          "color": "#FF6692",
          "symbol": "circle"
         },
         "mode": "markers",
         "name": "Into the Okavango",
         "orientation": "v",
         "showlegend": true,
         "type": "scatter",
         "x": [
          88
         ],
         "xaxis": "x",
         "y": [
          7.7
         ],
         "yaxis": "y"
        },
        {
         "hovertemplate": "<b>%{hovertext}</b><br><br>Title=Winnie the Pooh: Springtime with Roo<br>Runtime=%{x}<br>IMDb=%{y}<extra></extra>",
         "hovertext": [
          "Winnie the Pooh: Springtime with Roo"
         ],
         "legendgroup": "Winnie the Pooh: Springtime with Roo",
         "marker": {
          "color": "#B6E880",
          "symbol": "circle"
         },
         "mode": "markers",
         "name": "Winnie the Pooh: Springtime with Roo",
         "orientation": "v",
         "showlegend": true,
         "type": "scatter",
         "x": [
          65
         ],
         "xaxis": "x",
         "y": [
          6.5
         ],
         "yaxis": "y"
        },
        {
         "hovertemplate": "<b>%{hovertext}</b><br><br>Title=12 Dates of Christmas<br>Runtime=%{x}<br>IMDb=%{y}<extra></extra>",
         "hovertext": [
          "12 Dates of Christmas"
         ],
         "legendgroup": "12 Dates of Christmas",
         "marker": {
          "color": "#FF97FF",
          "symbol": "circle"
         },
         "mode": "markers",
         "name": "12 Dates of Christmas",
         "orientation": "v",
         "showlegend": true,
         "type": "scatter",
         "x": [
          90
         ],
         "xaxis": "x",
         "y": [
          6.3
         ],
         "yaxis": "y"
        },
        {
         "hovertemplate": "<b>%{hovertext}</b><br><br>Title=Cow Belles<br>Runtime=%{x}<br>IMDb=%{y}<extra></extra>",
         "hovertext": [
          "Cow Belles"
         ],
         "legendgroup": "Cow Belles",
         "marker": {
          "color": "#FECB52",
          "symbol": "circle"
         },
         "mode": "markers",
         "name": "Cow Belles",
         "orientation": "v",
         "showlegend": true,
         "type": "scatter",
         "x": [
          90
         ],
         "xaxis": "x",
         "y": [
          5.2
         ],
         "yaxis": "y"
        },
        {
         "hovertemplate": "<b>%{hovertext}</b><br><br>Title=The Brave Little Toaster to the Rescue<br>Runtime=%{x}<br>IMDb=%{y}<extra></extra>",
         "hovertext": [
          "The Brave Little Toaster to the Rescue"
         ],
         "legendgroup": "The Brave Little Toaster to the Rescue",
         "marker": {
          "color": "#636efa",
          "symbol": "circle"
         },
         "mode": "markers",
         "name": "The Brave Little Toaster to the Rescue",
         "orientation": "v",
         "showlegend": true,
         "type": "scatter",
         "x": [
          74
         ],
         "xaxis": "x",
         "y": [
          6.3
         ],
         "yaxis": "y"
        },
        {
         "hovertemplate": "<b>%{hovertext}</b><br><br>Title=Blank Check<br>Runtime=%{x}<br>IMDb=%{y}<extra></extra>",
         "hovertext": [
          "Blank Check"
         ],
         "legendgroup": "Blank Check",
         "marker": {
          "color": "#EF553B",
          "symbol": "circle"
         },
         "mode": "markers",
         "name": "Blank Check",
         "orientation": "v",
         "showlegend": true,
         "type": "scatter",
         "x": [
          93
         ],
         "xaxis": "x",
         "y": [
          5.3
         ],
         "yaxis": "y"
        },
        {
         "hovertemplate": "<b>%{hovertext}</b><br><br>Title=Cinderella II: Dreams Come True<br>Runtime=%{x}<br>IMDb=%{y}<extra></extra>",
         "hovertext": [
          "Cinderella II: Dreams Come True"
         ],
         "legendgroup": "Cinderella II: Dreams Come True",
         "marker": {
          "color": "#00cc96",
          "symbol": "circle"
         },
         "mode": "markers",
         "name": "Cinderella II: Dreams Come True",
         "orientation": "v",
         "showlegend": true,
         "type": "scatter",
         "x": [
          73
         ],
         "xaxis": "x",
         "y": [
          5
         ],
         "yaxis": "y"
        },
        {
         "hovertemplate": "<b>%{hovertext}</b><br><br>Title=The Thirteenth Year<br>Runtime=%{x}<br>IMDb=%{y}<extra></extra>",
         "hovertext": [
          "The Thirteenth Year"
         ],
         "legendgroup": "The Thirteenth Year",
         "marker": {
          "color": "#ab63fa",
          "symbol": "circle"
         },
         "mode": "markers",
         "name": "The Thirteenth Year",
         "orientation": "v",
         "showlegend": true,
         "type": "scatter",
         "x": [
          95
         ],
         "xaxis": "x",
         "y": [
          6
         ],
         "yaxis": "y"
        },
        {
         "hovertemplate": "<b>%{hovertext}</b><br><br>Title=Phineas and Ferb: Star Wars<br>Runtime=%{x}<br>IMDb=%{y}<extra></extra>",
         "hovertext": [
          "Phineas and Ferb: Star Wars"
         ],
         "legendgroup": "Phineas and Ferb: Star Wars",
         "marker": {
          "color": "#FFA15A",
          "symbol": "circle"
         },
         "mode": "markers",
         "name": "Phineas and Ferb: Star Wars",
         "orientation": "v",
         "showlegend": true,
         "type": "scatter",
         "x": [
          51
         ],
         "xaxis": "x",
         "y": [
          8.2
         ],
         "yaxis": "y"
        },
        {
         "hovertemplate": "<b>%{hovertext}</b><br><br>Title=Belle's Magical World<br>Runtime=%{x}<br>IMDb=%{y}<extra></extra>",
         "hovertext": [
          "Belle's Magical World"
         ],
         "legendgroup": "Belle's Magical World",
         "marker": {
          "color": "#19d3f3",
          "symbol": "circle"
         },
         "mode": "markers",
         "name": "Belle's Magical World",
         "orientation": "v",
         "showlegend": true,
         "type": "scatter",
         "x": [
          92
         ],
         "xaxis": "x",
         "y": [
          5.4
         ],
         "yaxis": "y"
        },
        {
         "hovertemplate": "<b>%{hovertext}</b><br><br>Title=Davy Crockett and the River Pirates<br>Runtime=%{x}<br>IMDb=%{y}<extra></extra>",
         "hovertext": [
          "Davy Crockett and the River Pirates"
         ],
         "legendgroup": "Davy Crockett and the River Pirates",
         "marker": {
          "color": "#FF6692",
          "symbol": "circle"
         },
         "mode": "markers",
         "name": "Davy Crockett and the River Pirates",
         "orientation": "v",
         "showlegend": true,
         "type": "scatter",
         "x": [
          81
         ],
         "xaxis": "x",
         "y": [
          6.8
         ],
         "yaxis": "y"
        },
        {
         "hovertemplate": "<b>%{hovertext}</b><br><br>Title=The Suite Life Movie<br>Runtime=%{x}<br>IMDb=%{y}<extra></extra>",
         "hovertext": [
          "The Suite Life Movie"
         ],
         "legendgroup": "The Suite Life Movie",
         "marker": {
          "color": "#B6E880",
          "symbol": "circle"
         },
         "mode": "markers",
         "name": "The Suite Life Movie",
         "orientation": "v",
         "showlegend": true,
         "type": "scatter",
         "x": [
          79
         ],
         "xaxis": "x",
         "y": [
          5.3
         ],
         "yaxis": "y"
        },
        {
         "hovertemplate": "<b>%{hovertext}</b><br><br>Title=Lamp Life<br>Runtime=%{x}<br>IMDb=%{y}<extra></extra>",
         "hovertext": [
          "Lamp Life"
         ],
         "legendgroup": "Lamp Life",
         "marker": {
          "color": "#FF97FF",
          "symbol": "circle"
         },
         "mode": "markers",
         "name": "Lamp Life",
         "orientation": "v",
         "showlegend": true,
         "type": "scatter",
         "x": [
          7
         ],
         "xaxis": "x",
         "y": [
          6.7
         ],
         "yaxis": "y"
        },
        {
         "hovertemplate": "<b>%{hovertext}</b><br><br>Title=Tarzan & Jane<br>Runtime=%{x}<br>IMDb=%{y}<extra></extra>",
         "hovertext": [
          "Tarzan & Jane"
         ],
         "legendgroup": "Tarzan & Jane",
         "marker": {
          "color": "#FECB52",
          "symbol": "circle"
         },
         "mode": "markers",
         "name": "Tarzan & Jane",
         "orientation": "v",
         "showlegend": true,
         "type": "scatter",
         "x": [
          75
         ],
         "xaxis": "x",
         "y": [
          5.4
         ],
         "yaxis": "y"
        },
        {
         "hovertemplate": "<b>%{hovertext}</b><br><br>Title=Bad Hair Day<br>Runtime=%{x}<br>IMDb=%{y}<extra></extra>",
         "hovertext": [
          "Bad Hair Day"
         ],
         "legendgroup": "Bad Hair Day",
         "marker": {
          "color": "#636efa",
          "symbol": "circle"
         },
         "mode": "markers",
         "name": "Bad Hair Day",
         "orientation": "v",
         "showlegend": true,
         "type": "scatter",
         "x": [
          87
         ],
         "xaxis": "x",
         "y": [
          6
         ],
         "yaxis": "y"
        },
        {
         "hovertemplate": "<b>%{hovertext}</b><br><br>Title=Operation Dumbo Drop<br>Runtime=%{x}<br>IMDb=%{y}<extra></extra>",
         "hovertext": [
          "Operation Dumbo Drop"
         ],
         "legendgroup": "Operation Dumbo Drop",
         "marker": {
          "color": "#EF553B",
          "symbol": "circle"
         },
         "mode": "markers",
         "name": "Operation Dumbo Drop",
         "orientation": "v",
         "showlegend": true,
         "type": "scatter",
         "x": [
          107
         ],
         "xaxis": "x",
         "y": [
          5.1
         ],
         "yaxis": "y"
        },
        {
         "hovertemplate": "<b>%{hovertext}</b><br><br>Title=The Story of Robin Hood and His Merrie Men<br>Runtime=%{x}<br>IMDb=%{y}<extra></extra>",
         "hovertext": [
          "The Story of Robin Hood and His Merrie Men"
         ],
         "legendgroup": "The Story of Robin Hood and His Merrie Men",
         "marker": {
          "color": "#00cc96",
          "symbol": "circle"
         },
         "mode": "markers",
         "name": "The Story of Robin Hood and His Merrie Men",
         "orientation": "v",
         "showlegend": true,
         "type": "scatter",
         "x": [
          84
         ],
         "xaxis": "x",
         "y": [
          6.7
         ],
         "yaxis": "y"
        },
        {
         "hovertemplate": "<b>%{hovertext}</b><br><br>Title=Read It and Weep<br>Runtime=%{x}<br>IMDb=%{y}<extra></extra>",
         "hovertext": [
          "Read It and Weep"
         ],
         "legendgroup": "Read It and Weep",
         "marker": {
          "color": "#ab63fa",
          "symbol": "circle"
         },
         "mode": "markers",
         "name": "Read It and Weep",
         "orientation": "v",
         "showlegend": true,
         "type": "scatter",
         "x": [
          84
         ],
         "xaxis": "x",
         "y": [
          5.5
         ],
         "yaxis": "y"
        },
        {
         "hovertemplate": "<b>%{hovertext}</b><br><br>Title=The Living Desert<br>Runtime=%{x}<br>IMDb=%{y}<extra></extra>",
         "hovertext": [
          "The Living Desert"
         ],
         "legendgroup": "The Living Desert",
         "marker": {
          "color": "#FFA15A",
          "symbol": "circle"
         },
         "mode": "markers",
         "name": "The Living Desert",
         "orientation": "v",
         "showlegend": true,
         "type": "scatter",
         "x": [
          69
         ],
         "xaxis": "x",
         "y": [
          7.5
         ],
         "yaxis": "y"
        },
        {
         "hovertemplate": "<b>%{hovertext}</b><br><br>Title=Herbie Goes Bananas<br>Runtime=%{x}<br>IMDb=%{y}<extra></extra>",
         "hovertext": [
          "Herbie Goes Bananas"
         ],
         "legendgroup": "Herbie Goes Bananas",
         "marker": {
          "color": "#19d3f3",
          "symbol": "circle"
         },
         "mode": "markers",
         "name": "Herbie Goes Bananas",
         "orientation": "v",
         "showlegend": true,
         "type": "scatter",
         "x": [
          100
         ],
         "xaxis": "x",
         "y": [
          5
         ],
         "yaxis": "y"
        },
        {
         "hovertemplate": "<b>%{hovertext}</b><br><br>Title=Mr. Boogedy<br>Runtime=%{x}<br>IMDb=%{y}<extra></extra>",
         "hovertext": [
          "Mr. Boogedy"
         ],
         "legendgroup": "Mr. Boogedy",
         "marker": {
          "color": "#FF6692",
          "symbol": "circle"
         },
         "mode": "markers",
         "name": "Mr. Boogedy",
         "orientation": "v",
         "showlegend": true,
         "type": "scatter",
         "x": [
          21
         ],
         "xaxis": "x",
         "y": [
          7.3
         ],
         "yaxis": "y"
        },
        {
         "hovertemplate": "<b>%{hovertext}</b><br><br>Title=Double Teamed<br>Runtime=%{x}<br>IMDb=%{y}<extra></extra>",
         "hovertext": [
          "Double Teamed"
         ],
         "legendgroup": "Double Teamed",
         "marker": {
          "color": "#B6E880",
          "symbol": "circle"
         },
         "mode": "markers",
         "name": "Double Teamed",
         "orientation": "v",
         "showlegend": true,
         "type": "scatter",
         "x": [
          120
         ],
         "xaxis": "x",
         "y": [
          6.1
         ],
         "yaxis": "y"
        },
        {
         "hovertemplate": "<b>%{hovertext}</b><br><br>Title=The Brave Little Toaster Goes to Mars<br>Runtime=%{x}<br>IMDb=%{y}<extra></extra>",
         "hovertext": [
          "The Brave Little Toaster Goes to Mars"
         ],
         "legendgroup": "The Brave Little Toaster Goes to Mars",
         "marker": {
          "color": "#FF97FF",
          "symbol": "circle"
         },
         "mode": "markers",
         "name": "The Brave Little Toaster Goes to Mars",
         "orientation": "v",
         "showlegend": true,
         "type": "scatter",
         "x": [
          73
         ],
         "xaxis": "x",
         "y": [
          5.7
         ],
         "yaxis": "y"
        },
        {
         "hovertemplate": "<b>%{hovertext}</b><br><br>Title=First Kid<br>Runtime=%{x}<br>IMDb=%{y}<extra></extra>",
         "hovertext": [
          "First Kid"
         ],
         "legendgroup": "First Kid",
         "marker": {
          "color": "#FECB52",
          "symbol": "circle"
         },
         "mode": "markers",
         "name": "First Kid",
         "orientation": "v",
         "showlegend": true,
         "type": "scatter",
         "x": [
          101
         ],
         "xaxis": "x",
         "y": [
          5.2
         ],
         "yaxis": "y"
        },
        {
         "hovertemplate": "<b>%{hovertext}</b><br><br>Title=The Adventures of Bullwhip Griffin<br>Runtime=%{x}<br>IMDb=%{y}<extra></extra>",
         "hovertext": [
          "The Adventures of Bullwhip Griffin"
         ],
         "legendgroup": "The Adventures of Bullwhip Griffin",
         "marker": {
          "color": "#636efa",
          "symbol": "circle"
         },
         "mode": "markers",
         "name": "The Adventures of Bullwhip Griffin",
         "orientation": "v",
         "showlegend": true,
         "type": "scatter",
         "x": [
          108
         ],
         "xaxis": "x",
         "y": [
          6.5
         ],
         "yaxis": "y"
        },
        {
         "hovertemplate": "<b>%{hovertext}</b><br><br>Title=The Proud Family Movie<br>Runtime=%{x}<br>IMDb=%{y}<extra></extra>",
         "hovertext": [
          "The Proud Family Movie"
         ],
         "legendgroup": "The Proud Family Movie",
         "marker": {
          "color": "#EF553B",
          "symbol": "circle"
         },
         "mode": "markers",
         "name": "The Proud Family Movie",
         "orientation": "v",
         "showlegend": true,
         "type": "scatter",
         "x": [
          90
         ],
         "xaxis": "x",
         "y": [
          5.4
         ],
         "yaxis": "y"
        },
        {
         "hovertemplate": "<b>%{hovertext}</b><br><br>Title=Phineas and Ferb: Mission Marvel<br>Runtime=%{x}<br>IMDb=%{y}<extra></extra>",
         "hovertext": [
          "Phineas and Ferb: Mission Marvel"
         ],
         "legendgroup": "Phineas and Ferb: Mission Marvel",
         "marker": {
          "color": "#00cc96",
          "symbol": "circle"
         },
         "mode": "markers",
         "name": "Phineas and Ferb: Mission Marvel",
         "orientation": "v",
         "showlegend": true,
         "type": "scatter",
         "x": [
          45
         ],
         "xaxis": "x",
         "y": [
          8.3
         ],
         "yaxis": "y"
        },
        {
         "hovertemplate": "<b>%{hovertext}</b><br><br>Title=Go Figure<br>Runtime=%{x}<br>IMDb=%{y}<extra></extra>",
         "hovertext": [
          "Go Figure"
         ],
         "legendgroup": "Go Figure",
         "marker": {
          "color": "#ab63fa",
          "symbol": "circle"
         },
         "mode": "markers",
         "name": "Go Figure",
         "orientation": "v",
         "showlegend": true,
         "type": "scatter",
         "x": [
          88
         ],
         "xaxis": "x",
         "y": [
          5.7
         ],
         "yaxis": "y"
        },
        {
         "hovertemplate": "<b>%{hovertext}</b><br><br>Title=Stuck in the Suburbs<br>Runtime=%{x}<br>IMDb=%{y}<extra></extra>",
         "hovertext": [
          "Stuck in the Suburbs"
         ],
         "legendgroup": "Stuck in the Suburbs",
         "marker": {
          "color": "#FFA15A",
          "symbol": "circle"
         },
         "mode": "markers",
         "name": "Stuck in the Suburbs",
         "orientation": "v",
         "showlegend": true,
         "type": "scatter",
         "x": [
          76
         ],
         "xaxis": "x",
         "y": [
          5.6
         ],
         "yaxis": "y"
        },
        {
         "hovertemplate": "<b>%{hovertext}</b><br><br>Title=Ice Age: The Great Egg-Scapade<br>Runtime=%{x}<br>IMDb=%{y}<extra></extra>",
         "hovertext": [
          "Ice Age: The Great Egg-Scapade"
         ],
         "legendgroup": "Ice Age: The Great Egg-Scapade",
         "marker": {
          "color": "#19d3f3",
          "symbol": "circle"
         },
         "mode": "markers",
         "name": "Ice Age: The Great Egg-Scapade",
         "orientation": "v",
         "showlegend": true,
         "type": "scatter",
         "x": [
          25
         ],
         "xaxis": "x",
         "y": [
          5.9
         ],
         "yaxis": "y"
        },
        {
         "hovertemplate": "<b>%{hovertext}</b><br><br>Title=College Road Trip<br>Runtime=%{x}<br>IMDb=%{y}<extra></extra>",
         "hovertext": [
          "College Road Trip"
         ],
         "legendgroup": "College Road Trip",
         "marker": {
          "color": "#FF6692",
          "symbol": "circle"
         },
         "mode": "markers",
         "name": "College Road Trip",
         "orientation": "v",
         "showlegend": true,
         "type": "scatter",
         "x": [
          83
         ],
         "xaxis": "x",
         "y": [
          4.3
         ],
         "yaxis": "y"
        },
        {
         "hovertemplate": "<b>%{hovertext}</b><br><br>Title=Girl vs. Monster<br>Runtime=%{x}<br>IMDb=%{y}<extra></extra>",
         "hovertext": [
          "Girl vs. Monster"
         ],
         "legendgroup": "Girl vs. Monster",
         "marker": {
          "color": "#B6E880",
          "symbol": "circle"
         },
         "mode": "markers",
         "name": "Girl vs. Monster",
         "orientation": "v",
         "showlegend": true,
         "type": "scatter",
         "x": [
          89
         ],
         "xaxis": "x",
         "y": [
          5.5
         ],
         "yaxis": "y"
        },
        {
         "hovertemplate": "<b>%{hovertext}</b><br><br>Title=Going to the Mat<br>Runtime=%{x}<br>IMDb=%{y}<extra></extra>",
         "hovertext": [
          "Going to the Mat"
         ],
         "legendgroup": "Going to the Mat",
         "marker": {
          "color": "#FF97FF",
          "symbol": "circle"
         },
         "mode": "markers",
         "name": "Going to the Mat",
         "orientation": "v",
         "showlegend": true,
         "type": "scatter",
         "x": [
          120
         ],
         "xaxis": "x",
         "y": [
          6.8
         ],
         "yaxis": "y"
        },
        {
         "hovertemplate": "<b>%{hovertext}</b><br><br>Title=Right on Track<br>Runtime=%{x}<br>IMDb=%{y}<extra></extra>",
         "hovertext": [
          "Right on Track"
         ],
         "legendgroup": "Right on Track",
         "marker": {
          "color": "#FECB52",
          "symbol": "circle"
         },
         "mode": "markers",
         "name": "Right on Track",
         "orientation": "v",
         "showlegend": true,
         "type": "scatter",
         "x": [
          89
         ],
         "xaxis": "x",
         "y": [
          6.2
         ],
         "yaxis": "y"
        },
        {
         "hovertemplate": "<b>%{hovertext}</b><br><br>Title=Life with Mikey<br>Runtime=%{x}<br>IMDb=%{y}<extra></extra>",
         "hovertext": [
          "Life with Mikey"
         ],
         "legendgroup": "Life with Mikey",
         "marker": {
          "color": "#636efa",
          "symbol": "circle"
         },
         "mode": "markers",
         "name": "Life with Mikey",
         "orientation": "v",
         "showlegend": true,
         "type": "scatter",
         "x": [
          91
         ],
         "xaxis": "x",
         "y": [
          5.6
         ],
         "yaxis": "y"
        },
        {
         "hovertemplate": "<b>%{hovertext}</b><br><br>Title=Wendy Wu: Homecoming Warrior<br>Runtime=%{x}<br>IMDb=%{y}<extra></extra>",
         "hovertext": [
          "Wendy Wu: Homecoming Warrior"
         ],
         "legendgroup": "Wendy Wu: Homecoming Warrior",
         "marker": {
          "color": "#EF553B",
          "symbol": "circle"
         },
         "mode": "markers",
         "name": "Wendy Wu: Homecoming Warrior",
         "orientation": "v",
         "showlegend": true,
         "type": "scatter",
         "x": [
          91
         ],
         "xaxis": "x",
         "y": [
          5.4
         ],
         "yaxis": "y"
        },
        {
         "hovertemplate": "<b>%{hovertext}</b><br><br>Title=Marvel: 75 Years, From Pulp to Pop!<br>Runtime=%{x}<br>IMDb=%{y}<extra></extra>",
         "hovertext": [
          "Marvel: 75 Years, From Pulp to Pop!"
         ],
         "legendgroup": "Marvel: 75 Years, From Pulp to Pop!",
         "marker": {
          "color": "#00cc96",
          "symbol": "circle"
         },
         "mode": "markers",
         "name": "Marvel: 75 Years, From Pulp to Pop!",
         "orientation": "v",
         "showlegend": true,
         "type": "scatter",
         "x": [
          42
         ],
         "xaxis": "x",
         "y": [
          7.3
         ],
         "yaxis": "y"
        },
        {
         "hovertemplate": "<b>%{hovertext}</b><br><br>Title=The Small One<br>Runtime=%{x}<br>IMDb=%{y}<extra></extra>",
         "hovertext": [
          "The Small One"
         ],
         "legendgroup": "The Small One",
         "marker": {
          "color": "#ab63fa",
          "symbol": "circle"
         },
         "mode": "markers",
         "name": "The Small One",
         "orientation": "v",
         "showlegend": true,
         "type": "scatter",
         "x": [
          26
         ],
         "xaxis": "x",
         "y": [
          7.8
         ],
         "yaxis": "y"
        },
        {
         "hovertemplate": "<b>%{hovertext}</b><br><br>Title=Phantom of the Megaplex<br>Runtime=%{x}<br>IMDb=%{y}<extra></extra>",
         "hovertext": [
          "Phantom of the Megaplex"
         ],
         "legendgroup": "Phantom of the Megaplex",
         "marker": {
          "color": "#FFA15A",
          "symbol": "circle"
         },
         "mode": "markers",
         "name": "Phantom of the Megaplex",
         "orientation": "v",
         "showlegend": true,
         "type": "scatter",
         "x": [
          89
         ],
         "xaxis": "x",
         "y": [
          6.5
         ],
         "yaxis": "y"
        },
        {
         "hovertemplate": "<b>%{hovertext}</b><br><br>Title=The Apple Dumpling Gang Rides Again<br>Runtime=%{x}<br>IMDb=%{y}<extra></extra>",
         "hovertext": [
          "The Apple Dumpling Gang Rides Again"
         ],
         "legendgroup": "The Apple Dumpling Gang Rides Again",
         "marker": {
          "color": "#19d3f3",
          "symbol": "circle"
         },
         "mode": "markers",
         "name": "The Apple Dumpling Gang Rides Again",
         "orientation": "v",
         "showlegend": true,
         "type": "scatter",
         "x": [
          88
         ],
         "xaxis": "x",
         "y": [
          6.2
         ],
         "yaxis": "y"
        },
        {
         "hovertemplate": "<b>%{hovertext}</b><br><br>Title=Mom's Got a Date with a Vampire<br>Runtime=%{x}<br>IMDb=%{y}<extra></extra>",
         "hovertext": [
          "Mom's Got a Date with a Vampire"
         ],
         "legendgroup": "Mom's Got a Date with a Vampire",
         "marker": {
          "color": "#FF6692",
          "symbol": "circle"
         },
         "mode": "markers",
         "name": "Mom's Got a Date with a Vampire",
         "orientation": "v",
         "showlegend": true,
         "type": "scatter",
         "x": [
          85
         ],
         "xaxis": "x",
         "y": [
          5.9
         ],
         "yaxis": "y"
        },
        {
         "hovertemplate": "<b>%{hovertext}</b><br><br>Title=Atlantis: Milo's Return<br>Runtime=%{x}<br>IMDb=%{y}<extra></extra>",
         "hovertext": [
          "Atlantis: Milo's Return"
         ],
         "legendgroup": "Atlantis: Milo's Return",
         "marker": {
          "color": "#B6E880",
          "symbol": "circle"
         },
         "mode": "markers",
         "name": "Atlantis: Milo's Return",
         "orientation": "v",
         "showlegend": true,
         "type": "scatter",
         "x": [
          70
         ],
         "xaxis": "x",
         "y": [
          5.1
         ],
         "yaxis": "y"
        },
        {
         "hovertemplate": "<b>%{hovertext}</b><br><br>Title=Snowball Express<br>Runtime=%{x}<br>IMDb=%{y}<extra></extra>",
         "hovertext": [
          "Snowball Express"
         ],
         "legendgroup": "Snowball Express",
         "marker": {
          "color": "#FF97FF",
          "symbol": "circle"
         },
         "mode": "markers",
         "name": "Snowball Express",
         "orientation": "v",
         "showlegend": true,
         "type": "scatter",
         "x": [
          93
         ],
         "xaxis": "x",
         "y": [
          6.5
         ],
         "yaxis": "y"
        },
        {
         "hovertemplate": "<b>%{hovertext}</b><br><br>Title=Sacred Planet<br>Runtime=%{x}<br>IMDb=%{y}<extra></extra>",
         "hovertext": [
          "Sacred Planet"
         ],
         "legendgroup": "Sacred Planet",
         "marker": {
          "color": "#FECB52",
          "symbol": "circle"
         },
         "mode": "markers",
         "name": "Sacred Planet",
         "orientation": "v",
         "showlegend": true,
         "type": "scatter",
         "x": [
          40
         ],
         "xaxis": "x",
         "y": [
          6.1
         ],
         "yaxis": "y"
        },
        {
         "hovertemplate": "<b>%{hovertext}</b><br><br>Title=The Hunchback of Notre Dame II<br>Runtime=%{x}<br>IMDb=%{y}<extra></extra>",
         "hovertext": [
          "The Hunchback of Notre Dame II"
         ],
         "legendgroup": "The Hunchback of Notre Dame II",
         "marker": {
          "color": "#636efa",
          "symbol": "circle"
         },
         "mode": "markers",
         "name": "The Hunchback of Notre Dame II",
         "orientation": "v",
         "showlegend": true,
         "type": "scatter",
         "x": [
          68
         ],
         "xaxis": "x",
         "y": [
          4.7
         ],
         "yaxis": "y"
        },
        {
         "hovertemplate": "<b>%{hovertext}</b><br><br>Title=Rip Girls<br>Runtime=%{x}<br>IMDb=%{y}<extra></extra>",
         "hovertext": [
          "Rip Girls"
         ],
         "legendgroup": "Rip Girls",
         "marker": {
          "color": "#EF553B",
          "symbol": "circle"
         },
         "mode": "markers",
         "name": "Rip Girls",
         "orientation": "v",
         "showlegend": true,
         "type": "scatter",
         "x": [
          87
         ],
         "xaxis": "x",
         "y": [
          6.2
         ],
         "yaxis": "y"
        },
        {
         "hovertemplate": "<b>%{hovertext}</b><br><br>Title=MARS: Inside SpaceX<br>Runtime=%{x}<br>IMDb=%{y}<extra></extra>",
         "hovertext": [
          "MARS: Inside SpaceX"
         ],
         "legendgroup": "MARS: Inside SpaceX",
         "marker": {
          "color": "#00cc96",
          "symbol": "circle"
         },
         "mode": "markers",
         "name": "MARS: Inside SpaceX",
         "orientation": "v",
         "showlegend": true,
         "type": "scatter",
         "x": [
          46
         ],
         "xaxis": "x",
         "y": [
          7.4
         ],
         "yaxis": "y"
        },
        {
         "hovertemplate": "<b>%{hovertext}</b><br><br>Title=Zenon: The Zequel<br>Runtime=%{x}<br>IMDb=%{y}<extra></extra>",
         "hovertext": [
          "Zenon: The Zequel"
         ],
         "legendgroup": "Zenon: The Zequel",
         "marker": {
          "color": "#ab63fa",
          "symbol": "circle"
         },
         "mode": "markers",
         "name": "Zenon: The Zequel",
         "orientation": "v",
         "showlegend": true,
         "type": "scatter",
         "x": [
          100
         ],
         "xaxis": "x",
         "y": [
          5.9
         ],
         "yaxis": "y"
        },
        {
         "hovertemplate": "<b>%{hovertext}</b><br><br>Title=Wings of Life<br>Runtime=%{x}<br>IMDb=%{y}<extra></extra>",
         "hovertext": [
          "Wings of Life"
         ],
         "legendgroup": "Wings of Life",
         "marker": {
          "color": "#FFA15A",
          "symbol": "circle"
         },
         "mode": "markers",
         "name": "Wings of Life",
         "orientation": "v",
         "showlegend": true,
         "type": "scatter",
         "x": [
          81
         ],
         "xaxis": "x",
         "y": [
          7.4
         ],
         "yaxis": "y"
        },
        {
         "hovertemplate": "<b>%{hovertext}</b><br><br>Title=Get a Clue<br>Runtime=%{x}<br>IMDb=%{y}<extra></extra>",
         "hovertext": [
          "Get a Clue"
         ],
         "legendgroup": "Get a Clue",
         "marker": {
          "color": "#19d3f3",
          "symbol": "circle"
         },
         "mode": "markers",
         "name": "Get a Clue",
         "orientation": "v",
         "showlegend": true,
         "type": "scatter",
         "x": [
          83
         ],
         "xaxis": "x",
         "y": [
          5.1
         ],
         "yaxis": "y"
        },
        {
         "hovertemplate": "<b>%{hovertext}</b><br><br>Title=Hatching Pete<br>Runtime=%{x}<br>IMDb=%{y}<extra></extra>",
         "hovertext": [
          "Hatching Pete"
         ],
         "legendgroup": "Hatching Pete",
         "marker": {
          "color": "#FF6692",
          "symbol": "circle"
         },
         "mode": "markers",
         "name": "Hatching Pete",
         "orientation": "v",
         "showlegend": true,
         "type": "scatter",
         "x": [
          90
         ],
         "xaxis": "x",
         "y": [
          5.4
         ],
         "yaxis": "y"
        },
        {
         "hovertemplate": "<b>%{hovertext}</b><br><br>Title=Apollo: Missions to the Moon<br>Runtime=%{x}<br>IMDb=%{y}<extra></extra>",
         "hovertext": [
          "Apollo: Missions to the Moon"
         ],
         "legendgroup": "Apollo: Missions to the Moon",
         "marker": {
          "color": "#B6E880",
          "symbol": "circle"
         },
         "mode": "markers",
         "name": "Apollo: Missions to the Moon",
         "orientation": "v",
         "showlegend": true,
         "type": "scatter",
         "x": [
          94
         ],
         "xaxis": "x",
         "y": [
          7.7
         ],
         "yaxis": "y"
        },
        {
         "hovertemplate": "<b>%{hovertext}</b><br><br>Title=Pixel Perfect<br>Runtime=%{x}<br>IMDb=%{y}<extra></extra>",
         "hovertext": [
          "Pixel Perfect"
         ],
         "legendgroup": "Pixel Perfect",
         "marker": {
          "color": "#FF97FF",
          "symbol": "circle"
         },
         "mode": "markers",
         "name": "Pixel Perfect",
         "orientation": "v",
         "showlegend": true,
         "type": "scatter",
         "x": [
          85
         ],
         "xaxis": "x",
         "y": [
          5.7
         ],
         "yaxis": "y"
        },
        {
         "hovertemplate": "<b>%{hovertext}</b><br><br>Title=The Vanishing Prairie<br>Runtime=%{x}<br>IMDb=%{y}<extra></extra>",
         "hovertext": [
          "The Vanishing Prairie"
         ],
         "legendgroup": "The Vanishing Prairie",
         "marker": {
          "color": "#FECB52",
          "symbol": "circle"
         },
         "mode": "markers",
         "name": "The Vanishing Prairie",
         "orientation": "v",
         "showlegend": true,
         "type": "scatter",
         "x": [
          71
         ],
         "xaxis": "x",
         "y": [
          7.5
         ],
         "yaxis": "y"
        },
        {
         "hovertemplate": "<b>%{hovertext}</b><br><br>Title=Alley Cats Strike<br>Runtime=%{x}<br>IMDb=%{y}<extra></extra>",
         "hovertext": [
          "Alley Cats Strike"
         ],
         "legendgroup": "Alley Cats Strike",
         "marker": {
          "color": "#636efa",
          "symbol": "circle"
         },
         "mode": "markers",
         "name": "Alley Cats Strike",
         "orientation": "v",
         "showlegend": true,
         "type": "scatter",
         "x": [
          103
         ],
         "xaxis": "x",
         "y": [
          6.1
         ],
         "yaxis": "y"
        },
        {
         "hovertemplate": "<b>%{hovertext}</b><br><br>Title=Life-Size 2<br>Runtime=%{x}<br>IMDb=%{y}<extra></extra>",
         "hovertext": [
          "Life-Size 2"
         ],
         "legendgroup": "Life-Size 2",
         "marker": {
          "color": "#EF553B",
          "symbol": "circle"
         },
         "mode": "markers",
         "name": "Life-Size 2",
         "orientation": "v",
         "showlegend": true,
         "type": "scatter",
         "x": [
          81
         ],
         "xaxis": "x",
         "y": [
          4.8
         ],
         "yaxis": "y"
        },
        {
         "hovertemplate": "<b>%{hovertext}</b><br><br>Title=Johnny Kapahala - Back on Board<br>Runtime=%{x}<br>IMDb=%{y}<extra></extra>",
         "hovertext": [
          "Johnny Kapahala - Back on Board"
         ],
         "legendgroup": "Johnny Kapahala - Back on Board",
         "marker": {
          "color": "#00cc96",
          "symbol": "circle"
         },
         "mode": "markers",
         "name": "Johnny Kapahala - Back on Board",
         "orientation": "v",
         "showlegend": true,
         "type": "scatter",
         "x": [
          90
         ],
         "xaxis": "x",
         "y": [
          5.5
         ],
         "yaxis": "y"
        },
        {
         "hovertemplate": "<b>%{hovertext}</b><br><br>Title=Jumping Ship<br>Runtime=%{x}<br>IMDb=%{y}<extra></extra>",
         "hovertext": [
          "Jumping Ship"
         ],
         "legendgroup": "Jumping Ship",
         "marker": {
          "color": "#ab63fa",
          "symbol": "circle"
         },
         "mode": "markers",
         "name": "Jumping Ship",
         "orientation": "v",
         "showlegend": true,
         "type": "scatter",
         "x": [
          93
         ],
         "xaxis": "x",
         "y": [
          6.2
         ],
         "yaxis": "y"
        },
        {
         "hovertemplate": "<b>%{hovertext}</b><br><br>Title=The Million Dollar Duck<br>Runtime=%{x}<br>IMDb=%{y}<extra></extra>",
         "hovertext": [
          "The Million Dollar Duck"
         ],
         "legendgroup": "The Million Dollar Duck",
         "marker": {
          "color": "#FFA15A",
          "symbol": "circle"
         },
         "mode": "markers",
         "name": "The Million Dollar Duck",
         "orientation": "v",
         "showlegend": true,
         "type": "scatter",
         "x": [
          89
         ],
         "xaxis": "x",
         "y": [
          5.9
         ],
         "yaxis": "y"
        },
        {
         "hovertemplate": "<b>%{hovertext}</b><br><br>Title=Frenemies<br>Runtime=%{x}<br>IMDb=%{y}<extra></extra>",
         "hovertext": [
          "Frenemies"
         ],
         "legendgroup": "Frenemies",
         "marker": {
          "color": "#19d3f3",
          "symbol": "circle"
         },
         "mode": "markers",
         "name": "Frenemies",
         "orientation": "v",
         "showlegend": true,
         "type": "scatter",
         "x": [
          87
         ],
         "xaxis": "x",
         "y": [
          5
         ],
         "yaxis": "y"
        },
        {
         "hovertemplate": "<b>%{hovertext}</b><br><br>Title=Eddie's Million Dollar Cook Off<br>Runtime=%{x}<br>IMDb=%{y}<extra></extra>",
         "hovertext": [
          "Eddie's Million Dollar Cook Off"
         ],
         "legendgroup": "Eddie's Million Dollar Cook Off",
         "marker": {
          "color": "#FF6692",
          "symbol": "circle"
         },
         "mode": "markers",
         "name": "Eddie's Million Dollar Cook Off",
         "orientation": "v",
         "showlegend": true,
         "type": "scatter",
         "x": [
          110
         ],
         "xaxis": "x",
         "y": [
          6
         ],
         "yaxis": "y"
        },
        {
         "hovertemplate": "<b>%{hovertext}</b><br><br>Title=Babes in the Woods<br>Runtime=%{x}<br>IMDb=%{y}<extra></extra>",
         "hovertext": [
          "Babes in the Woods"
         ],
         "legendgroup": "Babes in the Woods",
         "marker": {
          "color": "#B6E880",
          "symbol": "circle"
         },
         "mode": "markers",
         "name": "Babes in the Woods",
         "orientation": "v",
         "showlegend": true,
         "type": "scatter",
         "x": [
          8
         ],
         "xaxis": "x",
         "y": [
          6.8
         ],
         "yaxis": "y"
        },
        {
         "hovertemplate": "<b>%{hovertext}</b><br><br>Title=America's Heart and Soul<br>Runtime=%{x}<br>IMDb=%{y}<extra></extra>",
         "hovertext": [
          "America's Heart and Soul"
         ],
         "legendgroup": "America's Heart and Soul",
         "marker": {
          "color": "#FF97FF",
          "symbol": "circle"
         },
         "mode": "markers",
         "name": "America's Heart and Soul",
         "orientation": "v",
         "showlegend": true,
         "type": "scatter",
         "x": [
          84
         ],
         "xaxis": "x",
         "y": [
          5.1
         ],
         "yaxis": "y"
        },
        {
         "hovertemplate": "<b>%{hovertext}</b><br><br>Title=The Mistle-Tones<br>Runtime=%{x}<br>IMDb=%{y}<extra></extra>",
         "hovertext": [
          "The Mistle-Tones"
         ],
         "legendgroup": "The Mistle-Tones",
         "marker": {
          "color": "#FECB52",
          "symbol": "circle"
         },
         "mode": "markers",
         "name": "The Mistle-Tones",
         "orientation": "v",
         "showlegend": true,
         "type": "scatter",
         "x": [
          90
         ],
         "xaxis": "x",
         "y": [
          6.7
         ],
         "yaxis": "y"
        },
        {
         "hovertemplate": "<b>%{hovertext}</b><br><br>Title=A Ring of Endless Light<br>Runtime=%{x}<br>IMDb=%{y}<extra></extra>",
         "hovertext": [
          "A Ring of Endless Light"
         ],
         "legendgroup": "A Ring of Endless Light",
         "marker": {
          "color": "#636efa",
          "symbol": "circle"
         },
         "mode": "markers",
         "name": "A Ring of Endless Light",
         "orientation": "v",
         "showlegend": true,
         "type": "scatter",
         "x": [
          88
         ],
         "xaxis": "x",
         "y": [
          6.1
         ],
         "yaxis": "y"
        },
        {
         "hovertemplate": "<b>%{hovertext}</b><br><br>Title=The Other Me<br>Runtime=%{x}<br>IMDb=%{y}<extra></extra>",
         "hovertext": [
          "The Other Me"
         ],
         "legendgroup": "The Other Me",
         "marker": {
          "color": "#EF553B",
          "symbol": "circle"
         },
         "mode": "markers",
         "name": "The Other Me",
         "orientation": "v",
         "showlegend": true,
         "type": "scatter",
         "x": [
          101
         ],
         "xaxis": "x",
         "y": [
          6.1
         ],
         "yaxis": "y"
        },
        {
         "hovertemplate": "<b>%{hovertext}</b><br><br>Title=Up, Up, and Away<br>Runtime=%{x}<br>IMDb=%{y}<extra></extra>",
         "hovertext": [
          "Up, Up, and Away"
         ],
         "legendgroup": "Up, Up, and Away",
         "marker": {
          "color": "#00cc96",
          "symbol": "circle"
         },
         "mode": "markers",
         "name": "Up, Up, and Away",
         "orientation": "v",
         "showlegend": true,
         "type": "scatter",
         "x": [
          80
         ],
         "xaxis": "x",
         "y": [
          5.6
         ],
         "yaxis": "y"
        },
        {
         "hovertemplate": "<b>%{hovertext}</b><br><br>Title=Dolphin Reef<br>Runtime=%{x}<br>IMDb=%{y}<extra></extra>",
         "hovertext": [
          "Dolphin Reef"
         ],
         "legendgroup": "Dolphin Reef",
         "marker": {
          "color": "#ab63fa",
          "symbol": "circle"
         },
         "mode": "markers",
         "name": "Dolphin Reef",
         "orientation": "v",
         "showlegend": true,
         "type": "scatter",
         "x": [
          77
         ],
         "xaxis": "x",
         "y": [
          6.8
         ],
         "yaxis": "y"
        },
        {
         "hovertemplate": "<b>%{hovertext}</b><br><br>Title=Gus<br>Runtime=%{x}<br>IMDb=%{y}<extra></extra>",
         "hovertext": [
          "Gus"
         ],
         "legendgroup": "Gus",
         "marker": {
          "color": "#FFA15A",
          "symbol": "circle"
         },
         "mode": "markers",
         "name": "Gus",
         "orientation": "v",
         "showlegend": true,
         "type": "scatter",
         "x": [
          96
         ],
         "xaxis": "x",
         "y": [
          5.9
         ],
         "yaxis": "y"
        },
        {
         "hovertemplate": "<b>%{hovertext}</b><br><br>Title=Almost Angels<br>Runtime=%{x}<br>IMDb=%{y}<extra></extra>",
         "hovertext": [
          "Almost Angels"
         ],
         "legendgroup": "Almost Angels",
         "marker": {
          "color": "#19d3f3",
          "symbol": "circle"
         },
         "mode": "markers",
         "name": "Almost Angels",
         "orientation": "v",
         "showlegend": true,
         "type": "scatter",
         "x": [
          93
         ],
         "xaxis": "x",
         "y": [
          6.7
         ],
         "yaxis": "y"
        },
        {
         "hovertemplate": "<b>%{hovertext}</b><br><br>Title=Gotta Kick It Up!<br>Runtime=%{x}<br>IMDb=%{y}<extra></extra>",
         "hovertext": [
          "Gotta Kick It Up!"
         ],
         "legendgroup": "Gotta Kick It Up!",
         "marker": {
          "color": "#FF6692",
          "symbol": "circle"
         },
         "mode": "markers",
         "name": "Gotta Kick It Up!",
         "orientation": "v",
         "showlegend": true,
         "type": "scatter",
         "x": [
          78
         ],
         "xaxis": "x",
         "y": [
          5.8
         ],
         "yaxis": "y"
        },
        {
         "hovertemplate": "<b>%{hovertext}</b><br><br>Title=The African Lion<br>Runtime=%{x}<br>IMDb=%{y}<extra></extra>",
         "hovertext": [
          "The African Lion"
         ],
         "legendgroup": "The African Lion",
         "marker": {
          "color": "#B6E880",
          "symbol": "circle"
         },
         "mode": "markers",
         "name": "The African Lion",
         "orientation": "v",
         "showlegend": true,
         "type": "scatter",
         "x": [
          75
         ],
         "xaxis": "x",
         "y": [
          7.2
         ],
         "yaxis": "y"
        },
        {
         "hovertemplate": "<b>%{hovertext}</b><br><br>Title=Horse Sense<br>Runtime=%{x}<br>IMDb=%{y}<extra></extra>",
         "hovertext": [
          "Horse Sense"
         ],
         "legendgroup": "Horse Sense",
         "marker": {
          "color": "#FF97FF",
          "symbol": "circle"
         },
         "mode": "markers",
         "name": "Horse Sense",
         "orientation": "v",
         "showlegend": true,
         "type": "scatter",
         "x": [
          92
         ],
         "xaxis": "x",
         "y": [
          6.2
         ],
         "yaxis": "y"
        },
        {
         "hovertemplate": "<b>%{hovertext}</b><br><br>Title=Snowglobe<br>Runtime=%{x}<br>IMDb=%{y}<extra></extra>",
         "hovertext": [
          "Snowglobe"
         ],
         "legendgroup": "Snowglobe",
         "marker": {
          "color": "#FECB52",
          "symbol": "circle"
         },
         "mode": "markers",
         "name": "Snowglobe",
         "orientation": "v",
         "showlegend": true,
         "type": "scatter",
         "x": [
          86
         ],
         "xaxis": "x",
         "y": [
          6
         ],
         "yaxis": "y"
        },
        {
         "hovertemplate": "<b>%{hovertext}</b><br><br>Title=Once Upon A Mattress<br>Runtime=%{x}<br>IMDb=%{y}<extra></extra>",
         "hovertext": [
          "Once Upon A Mattress"
         ],
         "legendgroup": "Once Upon A Mattress",
         "marker": {
          "color": "#636efa",
          "symbol": "circle"
         },
         "mode": "markers",
         "name": "Once Upon A Mattress",
         "orientation": "v",
         "showlegend": true,
         "type": "scatter",
         "x": [
          90
         ],
         "xaxis": "x",
         "y": [
          6.3
         ],
         "yaxis": "y"
        },
        {
         "hovertemplate": "<b>%{hovertext}</b><br><br>Title=Jonas Brothers: The Concert Experience<br>Runtime=%{x}<br>IMDb=%{y}<extra></extra>",
         "hovertext": [
          "Jonas Brothers: The Concert Experience"
         ],
         "legendgroup": "Jonas Brothers: The Concert Experience",
         "marker": {
          "color": "#EF553B",
          "symbol": "circle"
         },
         "mode": "markers",
         "name": "Jonas Brothers: The Concert Experience",
         "orientation": "v",
         "showlegend": true,
         "type": "scatter",
         "x": [
          76
         ],
         "xaxis": "x",
         "y": [
          1.6
         ],
         "yaxis": "y"
        },
        {
         "hovertemplate": "<b>%{hovertext}</b><br><br>Title=You Wish!<br>Runtime=%{x}<br>IMDb=%{y}<extra></extra>",
         "hovertext": [
          "You Wish!"
         ],
         "legendgroup": "You Wish!",
         "marker": {
          "color": "#00cc96",
          "symbol": "circle"
         },
         "mode": "markers",
         "name": "You Wish!",
         "orientation": "v",
         "showlegend": true,
         "type": "scatter",
         "x": [
          84
         ],
         "xaxis": "x",
         "y": [
          6.1
         ],
         "yaxis": "y"
        },
        {
         "hovertemplate": "<b>%{hovertext}</b><br><br>Title=The Country Bears<br>Runtime=%{x}<br>IMDb=%{y}<extra></extra>",
         "hovertext": [
          "The Country Bears"
         ],
         "legendgroup": "The Country Bears",
         "marker": {
          "color": "#ab63fa",
          "symbol": "circle"
         },
         "mode": "markers",
         "name": "The Country Bears",
         "orientation": "v",
         "showlegend": true,
         "type": "scatter",
         "x": [
          88
         ],
         "xaxis": "x",
         "y": [
          4.1
         ],
         "yaxis": "y"
        },
        {
         "hovertemplate": "<b>%{hovertext}</b><br><br>Title=A Celebration of the Music from Coco<br>Runtime=%{x}<br>IMDb=%{y}<extra></extra>",
         "hovertext": [
          "A Celebration of the Music from Coco"
         ],
         "legendgroup": "A Celebration of the Music from Coco",
         "marker": {
          "color": "#FFA15A",
          "symbol": "circle"
         },
         "mode": "markers",
         "name": "A Celebration of the Music from Coco",
         "orientation": "v",
         "showlegend": true,
         "type": "scatter",
         "x": [
          null
         ],
         "xaxis": "x",
         "y": [
          7.4
         ],
         "yaxis": "y"
        },
        {
         "hovertemplate": "<b>%{hovertext}</b><br><br>Title=In the Footsteps of Elephant<br>Runtime=%{x}<br>IMDb=%{y}<extra></extra>",
         "hovertext": [
          "In the Footsteps of Elephant"
         ],
         "legendgroup": "In the Footsteps of Elephant",
         "marker": {
          "color": "#19d3f3",
          "symbol": "circle"
         },
         "mode": "markers",
         "name": "In the Footsteps of Elephant",
         "orientation": "v",
         "showlegend": true,
         "type": "scatter",
         "x": [
          85
         ],
         "xaxis": "x",
         "y": [
          7.8
         ],
         "yaxis": "y"
        },
        {
         "hovertemplate": "<b>%{hovertext}</b><br><br>Title=Out of Scale<br>Runtime=%{x}<br>IMDb=%{y}<extra></extra>",
         "hovertext": [
          "Out of Scale"
         ],
         "legendgroup": "Out of Scale",
         "marker": {
          "color": "#FF6692",
          "symbol": "circle"
         },
         "mode": "markers",
         "name": "Out of Scale",
         "orientation": "v",
         "showlegend": true,
         "type": "scatter",
         "x": [
          7
         ],
         "xaxis": "x",
         "y": [
          7.5
         ],
         "yaxis": "y"
        },
        {
         "hovertemplate": "<b>%{hovertext}</b><br><br>Title=Inspector Gadget 2<br>Runtime=%{x}<br>IMDb=%{y}<extra></extra>",
         "hovertext": [
          "Inspector Gadget 2"
         ],
         "legendgroup": "Inspector Gadget 2",
         "marker": {
          "color": "#B6E880",
          "symbol": "circle"
         },
         "mode": "markers",
         "name": "Inspector Gadget 2",
         "orientation": "v",
         "showlegend": true,
         "type": "scatter",
         "x": [
          89
         ],
         "xaxis": "x",
         "y": [
          3.4
         ],
         "yaxis": "y"
        },
        {
         "hovertemplate": "<b>%{hovertext}</b><br><br>Title=Zenon: Z3<br>Runtime=%{x}<br>IMDb=%{y}<extra></extra>",
         "hovertext": [
          "Zenon: Z3"
         ],
         "legendgroup": "Zenon: Z3",
         "marker": {
          "color": "#FF97FF",
          "symbol": "circle"
         },
         "mode": "markers",
         "name": "Zenon: Z3",
         "orientation": "v",
         "showlegend": true,
         "type": "scatter",
         "x": [
          81
         ],
         "xaxis": "x",
         "y": [
          5.5
         ],
         "yaxis": "y"
        },
        {
         "hovertemplate": "<b>%{hovertext}</b><br><br>Title=Den Brother<br>Runtime=%{x}<br>IMDb=%{y}<extra></extra>",
         "hovertext": [
          "Den Brother"
         ],
         "legendgroup": "Den Brother",
         "marker": {
          "color": "#FECB52",
          "symbol": "circle"
         },
         "mode": "markers",
         "name": "Den Brother",
         "orientation": "v",
         "showlegend": true,
         "type": "scatter",
         "x": [
          89
         ],
         "xaxis": "x",
         "y": [
          5.4
         ],
         "yaxis": "y"
        },
        {
         "hovertemplate": "<b>%{hovertext}</b><br><br>Title=Miracle In Lane 2<br>Runtime=%{x}<br>IMDb=%{y}<extra></extra>",
         "hovertext": [
          "Miracle In Lane 2"
         ],
         "legendgroup": "Miracle In Lane 2",
         "marker": {
          "color": "#636efa",
          "symbol": "circle"
         },
         "mode": "markers",
         "name": "Miracle In Lane 2",
         "orientation": "v",
         "showlegend": true,
         "type": "scatter",
         "x": [
          120
         ],
         "xaxis": "x",
         "y": [
          6
         ],
         "yaxis": "y"
        },
        {
         "hovertemplate": "<b>%{hovertext}</b><br><br>Title=Three Days<br>Runtime=%{x}<br>IMDb=%{y}<extra></extra>",
         "hovertext": [
          "Three Days"
         ],
         "legendgroup": "Three Days",
         "marker": {
          "color": "#EF553B",
          "symbol": "circle"
         },
         "mode": "markers",
         "name": "Three Days",
         "orientation": "v",
         "showlegend": true,
         "type": "scatter",
         "x": [
          133
         ],
         "xaxis": "x",
         "y": [
          7.2
         ],
         "yaxis": "y"
        },
        {
         "hovertemplate": "<b>%{hovertext}</b><br><br>Title=Atlantis Rising<br>Runtime=%{x}<br>IMDb=%{y}<extra></extra>",
         "hovertext": [
          "Atlantis Rising"
         ],
         "legendgroup": "Atlantis Rising",
         "marker": {
          "color": "#00cc96",
          "symbol": "circle"
         },
         "mode": "markers",
         "name": "Atlantis Rising",
         "orientation": "v",
         "showlegend": true,
         "type": "scatter",
         "x": [
          93
         ],
         "xaxis": "x",
         "y": [
          6.6
         ],
         "yaxis": "y"
        },
        {
         "hovertemplate": "<b>%{hovertext}</b><br><br>Title=Doug's 1st Movie<br>Runtime=%{x}<br>IMDb=%{y}<extra></extra>",
         "hovertext": [
          "Doug's 1st Movie"
         ],
         "legendgroup": "Doug's 1st Movie",
         "marker": {
          "color": "#ab63fa",
          "symbol": "circle"
         },
         "mode": "markers",
         "name": "Doug's 1st Movie",
         "orientation": "v",
         "showlegend": true,
         "type": "scatter",
         "x": [
          77
         ],
         "xaxis": "x",
         "y": [
          5
         ],
         "yaxis": "y"
        },
        {
         "hovertemplate": "<b>%{hovertext}</b><br><br>Title=The Strongest Man in the World<br>Runtime=%{x}<br>IMDb=%{y}<extra></extra>",
         "hovertext": [
          "The Strongest Man in the World"
         ],
         "legendgroup": "The Strongest Man in the World",
         "marker": {
          "color": "#FFA15A",
          "symbol": "circle"
         },
         "mode": "markers",
         "name": "The Strongest Man in the World",
         "orientation": "v",
         "showlegend": true,
         "type": "scatter",
         "x": [
          92
         ],
         "xaxis": "x",
         "y": [
          6.1
         ],
         "yaxis": "y"
        },
        {
         "hovertemplate": "<b>%{hovertext}</b><br><br>Title=Titanic: 20 Years Later with James Cameron<br>Runtime=%{x}<br>IMDb=%{y}<extra></extra>",
         "hovertext": [
          "Titanic: 20 Years Later with James Cameron"
         ],
         "legendgroup": "Titanic: 20 Years Later with James Cameron",
         "marker": {
          "color": "#19d3f3",
          "symbol": "circle"
         },
         "mode": "markers",
         "name": "Titanic: 20 Years Later with James Cameron",
         "orientation": "v",
         "showlegend": true,
         "type": "scatter",
         "x": [
          46
         ],
         "xaxis": "x",
         "y": [
          7.2
         ],
         "yaxis": "y"
        },
        {
         "hovertemplate": "<b>%{hovertext}</b><br><br>Title=Quints<br>Runtime=%{x}<br>IMDb=%{y}<extra></extra>",
         "hovertext": [
          "Quints"
         ],
         "legendgroup": "Quints",
         "marker": {
          "color": "#FF6692",
          "symbol": "circle"
         },
         "mode": "markers",
         "name": "Quints",
         "orientation": "v",
         "showlegend": true,
         "type": "scatter",
         "x": [
          83
         ],
         "xaxis": "x",
         "y": [
          5.7
         ],
         "yaxis": "y"
        },
        {
         "hovertemplate": "<b>%{hovertext}</b><br><br>Title=Breaking2<br>Runtime=%{x}<br>IMDb=%{y}<extra></extra>",
         "hovertext": [
          "Breaking2"
         ],
         "legendgroup": "Breaking2",
         "marker": {
          "color": "#B6E880",
          "symbol": "circle"
         },
         "mode": "markers",
         "name": "Breaking2",
         "orientation": "v",
         "showlegend": true,
         "type": "scatter",
         "x": [
          55
         ],
         "xaxis": "x",
         "y": [
          7.4
         ],
         "yaxis": "y"
        },
        {
         "hovertemplate": "<b>%{hovertext}</b><br><br>Title=Life Is Ruff<br>Runtime=%{x}<br>IMDb=%{y}<extra></extra>",
         "hovertext": [
          "Life Is Ruff"
         ],
         "legendgroup": "Life Is Ruff",
         "marker": {
          "color": "#FF97FF",
          "symbol": "circle"
         },
         "mode": "markers",
         "name": "Life Is Ruff",
         "orientation": "v",
         "showlegend": true,
         "type": "scatter",
         "x": [
          84
         ],
         "xaxis": "x",
         "y": [
          4.9
         ],
         "yaxis": "y"
        },
        {
         "hovertemplate": "<b>%{hovertext}</b><br><br>Title=Jungle Cat<br>Runtime=%{x}<br>IMDb=%{y}<extra></extra>",
         "hovertext": [
          "Jungle Cat"
         ],
         "legendgroup": "Jungle Cat",
         "marker": {
          "color": "#FECB52",
          "symbol": "circle"
         },
         "mode": "markers",
         "name": "Jungle Cat",
         "orientation": "v",
         "showlegend": true,
         "type": "scatter",
         "x": [
          69
         ],
         "xaxis": "x",
         "y": [
          7.5
         ],
         "yaxis": "y"
        },
        {
         "hovertemplate": "<b>%{hovertext}</b><br><br>Title=Under the Sea: A Descendants Story<br>Runtime=%{x}<br>IMDb=%{y}<extra></extra>",
         "hovertext": [
          "Under the Sea: A Descendants Story"
         ],
         "legendgroup": "Under the Sea: A Descendants Story",
         "marker": {
          "color": "#636efa",
          "symbol": "circle"
         },
         "mode": "markers",
         "name": "Under the Sea: A Descendants Story",
         "orientation": "v",
         "showlegend": true,
         "type": "scatter",
         "x": [
          10
         ],
         "xaxis": "x",
         "y": [
          6
         ],
         "yaxis": "y"
        },
        {
         "hovertemplate": "<b>%{hovertext}</b><br><br>Title=Santa Paws 2: The Santa Pups<br>Runtime=%{x}<br>IMDb=%{y}<extra></extra>",
         "hovertext": [
          "Santa Paws 2: The Santa Pups"
         ],
         "legendgroup": "Santa Paws 2: The Santa Pups",
         "marker": {
          "color": "#EF553B",
          "symbol": "circle"
         },
         "mode": "markers",
         "name": "Santa Paws 2: The Santa Pups",
         "orientation": "v",
         "showlegend": true,
         "type": "scatter",
         "x": [
          88
         ],
         "xaxis": "x",
         "y": [
          4.9
         ],
         "yaxis": "y"
        },
        {
         "hovertemplate": "<b>%{hovertext}</b><br><br>Title=Dadnapped<br>Runtime=%{x}<br>IMDb=%{y}<extra></extra>",
         "hovertext": [
          "Dadnapped"
         ],
         "legendgroup": "Dadnapped",
         "marker": {
          "color": "#00cc96",
          "symbol": "circle"
         },
         "mode": "markers",
         "name": "Dadnapped",
         "orientation": "v",
         "showlegend": true,
         "type": "scatter",
         "x": [
          84
         ],
         "xaxis": "x",
         "y": [
          4.9
         ],
         "yaxis": "y"
        },
        {
         "hovertemplate": "<b>%{hovertext}</b><br><br>Title=Bride of Boogedy<br>Runtime=%{x}<br>IMDb=%{y}<extra></extra>",
         "hovertext": [
          "Bride of Boogedy"
         ],
         "legendgroup": "Bride of Boogedy",
         "marker": {
          "color": "#ab63fa",
          "symbol": "circle"
         },
         "mode": "markers",
         "name": "Bride of Boogedy",
         "orientation": "v",
         "showlegend": true,
         "type": "scatter",
         "x": [
          93
         ],
         "xaxis": "x",
         "y": [
          7.5
         ],
         "yaxis": "y"
        },
        {
         "hovertemplate": "<b>%{hovertext}</b><br><br>Title=Into the Grand Canyon<br>Runtime=%{x}<br>IMDb=%{y}<extra></extra>",
         "hovertext": [
          "Into the Grand Canyon"
         ],
         "legendgroup": "Into the Grand Canyon",
         "marker": {
          "color": "#FFA15A",
          "symbol": "circle"
         },
         "mode": "markers",
         "name": "Into the Grand Canyon",
         "orientation": "v",
         "showlegend": true,
         "type": "scatter",
         "x": [
          84
         ],
         "xaxis": "x",
         "y": [
          7.5
         ],
         "yaxis": "y"
        },
        {
         "hovertemplate": "<b>%{hovertext}</b><br><br>Title=The Ultimate Christmas Present<br>Runtime=%{x}<br>IMDb=%{y}<extra></extra>",
         "hovertext": [
          "The Ultimate Christmas Present"
         ],
         "legendgroup": "The Ultimate Christmas Present",
         "marker": {
          "color": "#19d3f3",
          "symbol": "circle"
         },
         "mode": "markers",
         "name": "The Ultimate Christmas Present",
         "orientation": "v",
         "showlegend": true,
         "type": "scatter",
         "x": [
          85
         ],
         "xaxis": "x",
         "y": [
          5.9
         ],
         "yaxis": "y"
        },
        {
         "hovertemplate": "<b>%{hovertext}</b><br><br>Title=Diving with Dolphins<br>Runtime=%{x}<br>IMDb=%{y}<extra></extra>",
         "hovertext": [
          "Diving with Dolphins"
         ],
         "legendgroup": "Diving with Dolphins",
         "marker": {
          "color": "#FF6692",
          "symbol": "circle"
         },
         "mode": "markers",
         "name": "Diving with Dolphins",
         "orientation": "v",
         "showlegend": true,
         "type": "scatter",
         "x": [
          79
         ],
         "xaxis": "x",
         "y": [
          7.5
         ],
         "yaxis": "y"
        },
        {
         "hovertemplate": "<b>%{hovertext}</b><br><br>Title=A Kid in King Arthur's Court<br>Runtime=%{x}<br>IMDb=%{y}<extra></extra>",
         "hovertext": [
          "A Kid in King Arthur's Court"
         ],
         "legendgroup": "A Kid in King Arthur's Court",
         "marker": {
          "color": "#B6E880",
          "symbol": "circle"
         },
         "mode": "markers",
         "name": "A Kid in King Arthur's Court",
         "orientation": "v",
         "showlegend": true,
         "type": "scatter",
         "x": [
          89
         ],
         "xaxis": "x",
         "y": [
          4.7
         ],
         "yaxis": "y"
        },
        {
         "hovertemplate": "<b>%{hovertext}</b><br><br>Title=Marvel Rising: Chasing Ghosts<br>Runtime=%{x}<br>IMDb=%{y}<extra></extra>",
         "hovertext": [
          "Marvel Rising: Chasing Ghosts"
         ],
         "legendgroup": "Marvel Rising: Chasing Ghosts",
         "marker": {
          "color": "#FF97FF",
          "symbol": "circle"
         },
         "mode": "markers",
         "name": "Marvel Rising: Chasing Ghosts",
         "orientation": "v",
         "showlegend": true,
         "type": "scatter",
         "x": [
          22
         ],
         "xaxis": "x",
         "y": [
          4.6
         ],
         "yaxis": "y"
        },
        {
         "hovertemplate": "<b>%{hovertext}</b><br><br>Title=Super Buddies<br>Runtime=%{x}<br>IMDb=%{y}<extra></extra>",
         "hovertext": [
          "Super Buddies"
         ],
         "legendgroup": "Super Buddies",
         "marker": {
          "color": "#FECB52",
          "symbol": "circle"
         },
         "mode": "markers",
         "name": "Super Buddies",
         "orientation": "v",
         "showlegend": true,
         "type": "scatter",
         "x": [
          81
         ],
         "xaxis": "x",
         "y": [
          4.2
         ],
         "yaxis": "y"
        },
        {
         "hovertemplate": "<b>%{hovertext}</b><br><br>Title=The Sandlot: Heading Home<br>Runtime=%{x}<br>IMDb=%{y}<extra></extra>",
         "hovertext": [
          "The Sandlot: Heading Home"
         ],
         "legendgroup": "The Sandlot: Heading Home",
         "marker": {
          "color": "#636efa",
          "symbol": "circle"
         },
         "mode": "markers",
         "name": "The Sandlot: Heading Home",
         "orientation": "v",
         "showlegend": true,
         "type": "scatter",
         "x": [
          96
         ],
         "xaxis": "x",
         "y": [
          5
         ],
         "yaxis": "y"
        },
        {
         "hovertemplate": "<b>%{hovertext}</b><br><br>Title=Marvel Rising: Heart of Iron<br>Runtime=%{x}<br>IMDb=%{y}<extra></extra>",
         "hovertext": [
          "Marvel Rising: Heart of Iron"
         ],
         "legendgroup": "Marvel Rising: Heart of Iron",
         "marker": {
          "color": "#EF553B",
          "symbol": "circle"
         },
         "mode": "markers",
         "name": "Marvel Rising: Heart of Iron",
         "orientation": "v",
         "showlegend": true,
         "type": "scatter",
         "x": [
          44
         ],
         "xaxis": "x",
         "y": [
          4
         ],
         "yaxis": "y"
        },
        {
         "hovertemplate": "<b>%{hovertext}</b><br><br>Title=The Secret of the Magic Gourd<br>Runtime=%{x}<br>IMDb=%{y}<extra></extra>",
         "hovertext": [
          "The Secret of the Magic Gourd"
         ],
         "legendgroup": "The Secret of the Magic Gourd",
         "marker": {
          "color": "#00cc96",
          "symbol": "circle"
         },
         "mode": "markers",
         "name": "The Secret of the Magic Gourd",
         "orientation": "v",
         "showlegend": true,
         "type": "scatter",
         "x": [
          84
         ],
         "xaxis": "x",
         "y": [
          5.1
         ],
         "yaxis": "y"
        },
        {
         "hovertemplate": "<b>%{hovertext}</b><br><br>Title=Recess: All Growed Down<br>Runtime=%{x}<br>IMDb=%{y}<extra></extra>",
         "hovertext": [
          "Recess: All Growed Down"
         ],
         "legendgroup": "Recess: All Growed Down",
         "marker": {
          "color": "#ab63fa",
          "symbol": "circle"
         },
         "mode": "markers",
         "name": "Recess: All Growed Down",
         "orientation": "v",
         "showlegend": true,
         "type": "scatter",
         "x": [
          61
         ],
         "xaxis": "x",
         "y": [
          6.7
         ],
         "yaxis": "y"
        },
        {
         "hovertemplate": "<b>%{hovertext}</b><br><br>Title=The Scream Team<br>Runtime=%{x}<br>IMDb=%{y}<extra></extra>",
         "hovertext": [
          "The Scream Team"
         ],
         "legendgroup": "The Scream Team",
         "marker": {
          "color": "#FFA15A",
          "symbol": "circle"
         },
         "mode": "markers",
         "name": "The Scream Team",
         "orientation": "v",
         "showlegend": true,
         "type": "scatter",
         "x": [
          100
         ],
         "xaxis": "x",
         "y": [
          6.7
         ],
         "yaxis": "y"
        },
        {
         "hovertemplate": "<b>%{hovertext}</b><br><br>Title=Perri<br>Runtime=%{x}<br>IMDb=%{y}<extra></extra>",
         "hovertext": [
          "Perri"
         ],
         "legendgroup": "Perri",
         "marker": {
          "color": "#19d3f3",
          "symbol": "circle"
         },
         "mode": "markers",
         "name": "Perri",
         "orientation": "v",
         "showlegend": true,
         "type": "scatter",
         "x": [
          75
         ],
         "xaxis": "x",
         "y": [
          6.7
         ],
         "yaxis": "y"
        },
        {
         "hovertemplate": "<b>%{hovertext}</b><br><br>Title=Penguins: Life on the Edge<br>Runtime=%{x}<br>IMDb=%{y}<extra></extra>",
         "hovertext": [
          "Penguins: Life on the Edge"
         ],
         "legendgroup": "Penguins: Life on the Edge",
         "marker": {
          "color": "#FF6692",
          "symbol": "circle"
         },
         "mode": "markers",
         "name": "Penguins: Life on the Edge",
         "orientation": "v",
         "showlegend": true,
         "type": "scatter",
         "x": [
          78
         ],
         "xaxis": "x",
         "y": [
          6.9
         ],
         "yaxis": "y"
        },
        {
         "hovertemplate": "<b>%{hovertext}</b><br><br>Title=High School Musical: The Musical: The Series: The Special<br>Runtime=%{x}<br>IMDb=%{y}<extra></extra>",
         "hovertext": [
          "High School Musical: The Musical: The Series: The Special"
         ],
         "legendgroup": "High School Musical: The Musical: The Series: The Special",
         "marker": {
          "color": "#B6E880",
          "symbol": "circle"
         },
         "mode": "markers",
         "name": "High School Musical: The Musical: The Series: The Special",
         "orientation": "v",
         "showlegend": true,
         "type": "scatter",
         "x": [
          23
         ],
         "xaxis": "x",
         "y": [
          7.5
         ],
         "yaxis": "y"
        },
        {
         "hovertemplate": "<b>%{hovertext}</b><br><br>Title=Buffalo Dreams<br>Runtime=%{x}<br>IMDb=%{y}<extra></extra>",
         "hovertext": [
          "Buffalo Dreams"
         ],
         "legendgroup": "Buffalo Dreams",
         "marker": {
          "color": "#FF97FF",
          "symbol": "circle"
         },
         "mode": "markers",
         "name": "Buffalo Dreams",
         "orientation": "v",
         "showlegend": true,
         "type": "scatter",
         "x": [
          89
         ],
         "xaxis": "x",
         "y": [
          5.8
         ],
         "yaxis": "y"
        },
        {
         "hovertemplate": "<b>%{hovertext}</b><br><br>Title=Full-Court Miracle<br>Runtime=%{x}<br>IMDb=%{y}<extra></extra>",
         "hovertext": [
          "Full-Court Miracle"
         ],
         "legendgroup": "Full-Court Miracle",
         "marker": {
          "color": "#FECB52",
          "symbol": "circle"
         },
         "mode": "markers",
         "name": "Full-Court Miracle",
         "orientation": "v",
         "showlegend": true,
         "type": "scatter",
         "x": [
          90
         ],
         "xaxis": "x",
         "y": [
          5.8
         ],
         "yaxis": "y"
        },
        {
         "hovertemplate": "<b>%{hovertext}</b><br><br>Title=Twas the Night<br>Runtime=%{x}<br>IMDb=%{y}<extra></extra>",
         "hovertext": [
          "Twas the Night"
         ],
         "legendgroup": "Twas the Night",
         "marker": {
          "color": "#636efa",
          "symbol": "circle"
         },
         "mode": "markers",
         "name": "Twas the Night",
         "orientation": "v",
         "showlegend": true,
         "type": "scatter",
         "x": [
          84
         ],
         "xaxis": "x",
         "y": [
          5.4
         ],
         "yaxis": "y"
        },
        {
         "hovertemplate": "<b>%{hovertext}</b><br><br>Title=George of the Jungle 2<br>Runtime=%{x}<br>IMDb=%{y}<extra></extra>",
         "hovertext": [
          "George of the Jungle 2"
         ],
         "legendgroup": "George of the Jungle 2",
         "marker": {
          "color": "#EF553B",
          "symbol": "circle"
         },
         "mode": "markers",
         "name": "George of the Jungle 2",
         "orientation": "v",
         "showlegend": true,
         "type": "scatter",
         "x": [
          87
         ],
         "xaxis": "x",
         "y": [
          3.3
         ],
         "yaxis": "y"
        },
        {
         "hovertemplate": "<b>%{hovertext}</b><br><br>Title=The Plausible Impossible<br>Runtime=%{x}<br>IMDb=%{y}<extra></extra>",
         "hovertext": [
          "The Plausible Impossible"
         ],
         "legendgroup": "The Plausible Impossible",
         "marker": {
          "color": "#00cc96",
          "symbol": "circle"
         },
         "mode": "markers",
         "name": "The Plausible Impossible",
         "orientation": "v",
         "showlegend": true,
         "type": "scatter",
         "x": [
          50
         ],
         "xaxis": "x",
         "y": [
          7.7
         ],
         "yaxis": "y"
        },
        {
         "hovertemplate": "<b>%{hovertext}</b><br><br>Title=Miracle at Midnight<br>Runtime=%{x}<br>IMDb=%{y}<extra></extra>",
         "hovertext": [
          "Miracle at Midnight"
         ],
         "legendgroup": "Miracle at Midnight",
         "marker": {
          "color": "#ab63fa",
          "symbol": "circle"
         },
         "mode": "markers",
         "name": "Miracle at Midnight",
         "orientation": "v",
         "showlegend": true,
         "type": "scatter",
         "x": [
          90
         ],
         "xaxis": "x",
         "y": [
          7.1
         ],
         "yaxis": "y"
        },
        {
         "hovertemplate": "<b>%{hovertext}</b><br><br>Title=Iron Man & Hulk: Heroes United<br>Runtime=%{x}<br>IMDb=%{y}<extra></extra>",
         "hovertext": [
          "Iron Man & Hulk: Heroes United"
         ],
         "legendgroup": "Iron Man & Hulk: Heroes United",
         "marker": {
          "color": "#FFA15A",
          "symbol": "circle"
         },
         "mode": "markers",
         "name": "Iron Man & Hulk: Heroes United",
         "orientation": "v",
         "showlegend": true,
         "type": "scatter",
         "x": [
          71
         ],
         "xaxis": "x",
         "y": [
          4.7
         ],
         "yaxis": "y"
        },
        {
         "hovertemplate": "<b>%{hovertext}</b><br><br>Title=Stepsister from Planet Weird<br>Runtime=%{x}<br>IMDb=%{y}<extra></extra>",
         "hovertext": [
          "Stepsister from Planet Weird"
         ],
         "legendgroup": "Stepsister from Planet Weird",
         "marker": {
          "color": "#19d3f3",
          "symbol": "circle"
         },
         "mode": "markers",
         "name": "Stepsister from Planet Weird",
         "orientation": "v",
         "showlegend": true,
         "type": "scatter",
         "x": [
          85
         ],
         "xaxis": "x",
         "y": [
          5.9
         ],
         "yaxis": "y"
        },
        {
         "hovertemplate": "<b>%{hovertext}</b><br><br>Title=Expedition Mars<br>Runtime=%{x}<br>IMDb=%{y}<extra></extra>",
         "hovertext": [
          "Expedition Mars"
         ],
         "legendgroup": "Expedition Mars",
         "marker": {
          "color": "#FF6692",
          "symbol": "circle"
         },
         "mode": "markers",
         "name": "Expedition Mars",
         "orientation": "v",
         "showlegend": true,
         "type": "scatter",
         "x": [
          88
         ],
         "xaxis": "x",
         "y": [
          8
         ],
         "yaxis": "y"
        },
        {
         "hovertemplate": "<b>%{hovertext}</b><br><br>Title=That Darn Cat<br>Runtime=%{x}<br>IMDb=%{y}<extra></extra>",
         "hovertext": [
          "That Darn Cat"
         ],
         "legendgroup": "That Darn Cat",
         "marker": {
          "color": "#B6E880",
          "symbol": "circle"
         },
         "mode": "markers",
         "name": "That Darn Cat",
         "orientation": "v",
         "showlegend": true,
         "type": "scatter",
         "x": [
          116
         ],
         "xaxis": "x",
         "y": [
          4.7
         ],
         "yaxis": "y"
        },
        {
         "hovertemplate": "<b>%{hovertext}</b><br><br>Title=Those Calloways<br>Runtime=%{x}<br>IMDb=%{y}<extra></extra>",
         "hovertext": [
          "Those Calloways"
         ],
         "legendgroup": "Those Calloways",
         "marker": {
          "color": "#FF97FF",
          "symbol": "circle"
         },
         "mode": "markers",
         "name": "Those Calloways",
         "orientation": "v",
         "showlegend": true,
         "type": "scatter",
         "x": [
          131
         ],
         "xaxis": "x",
         "y": [
          6.7
         ],
         "yaxis": "y"
        },
        {
         "hovertemplate": "<b>%{hovertext}</b><br><br>Title=The Sign of Zorro<br>Runtime=%{x}<br>IMDb=%{y}<extra></extra>",
         "hovertext": [
          "The Sign of Zorro"
         ],
         "legendgroup": "The Sign of Zorro",
         "marker": {
          "color": "#FECB52",
          "symbol": "circle"
         },
         "mode": "markers",
         "name": "The Sign of Zorro",
         "orientation": "v",
         "showlegend": true,
         "type": "scatter",
         "x": [
          91
         ],
         "xaxis": "x",
         "y": [
          7.1
         ],
         "yaxis": "y"
        },
        {
         "hovertemplate": "<b>%{hovertext}</b><br><br>Title=Decorating Disney: Holiday Magic<br>Runtime=%{x}<br>IMDb=%{y}<extra></extra>",
         "hovertext": [
          "Decorating Disney: Holiday Magic"
         ],
         "legendgroup": "Decorating Disney: Holiday Magic",
         "marker": {
          "color": "#636efa",
          "symbol": "circle"
         },
         "mode": "markers",
         "name": "Decorating Disney: Holiday Magic",
         "orientation": "v",
         "showlegend": true,
         "type": "scatter",
         "x": [
          42
         ],
         "xaxis": "x",
         "y": [
          6.9
         ],
         "yaxis": "y"
        },
        {
         "hovertemplate": "<b>%{hovertext}</b><br><br>Title=Treasure of Matecumbe<br>Runtime=%{x}<br>IMDb=%{y}<extra></extra>",
         "hovertext": [
          "Treasure of Matecumbe"
         ],
         "legendgroup": "Treasure of Matecumbe",
         "marker": {
          "color": "#EF553B",
          "symbol": "circle"
         },
         "mode": "markers",
         "name": "Treasure of Matecumbe",
         "orientation": "v",
         "showlegend": true,
         "type": "scatter",
         "x": [
          117
         ],
         "xaxis": "x",
         "y": [
          6.2
         ],
         "yaxis": "y"
        },
        {
         "hovertemplate": "<b>%{hovertext}</b><br><br>Title=The Christmas Star<br>Runtime=%{x}<br>IMDb=%{y}<extra></extra>",
         "hovertext": [
          "The Christmas Star"
         ],
         "legendgroup": "The Christmas Star",
         "marker": {
          "color": "#00cc96",
          "symbol": "circle"
         },
         "mode": "markers",
         "name": "The Christmas Star",
         "orientation": "v",
         "showlegend": true,
         "type": "scatter",
         "x": [
          94
         ],
         "xaxis": "x",
         "y": [
          6.4
         ],
         "yaxis": "y"
        },
        {
         "hovertemplate": "<b>%{hovertext}</b><br><br>Title=Stonehenge: Decoded<br>Runtime=%{x}<br>IMDb=%{y}<extra></extra>",
         "hovertext": [
          "Stonehenge: Decoded"
         ],
         "legendgroup": "Stonehenge: Decoded",
         "marker": {
          "color": "#ab63fa",
          "symbol": "circle"
         },
         "mode": "markers",
         "name": "Stonehenge: Decoded",
         "orientation": "v",
         "showlegend": true,
         "type": "scatter",
         "x": [
          92
         ],
         "xaxis": "x",
         "y": [
          6.5
         ],
         "yaxis": "y"
        },
        {
         "hovertemplate": "<b>%{hovertext}</b><br><br>Title=Marvel Rising: Operation Shuri<br>Runtime=%{x}<br>IMDb=%{y}<extra></extra>",
         "hovertext": [
          "Marvel Rising: Operation Shuri"
         ],
         "legendgroup": "Marvel Rising: Operation Shuri",
         "marker": {
          "color": "#FFA15A",
          "symbol": "circle"
         },
         "mode": "markers",
         "name": "Marvel Rising: Operation Shuri",
         "orientation": "v",
         "showlegend": true,
         "type": "scatter",
         "x": [
          21
         ],
         "xaxis": "x",
         "y": [
          5.2
         ],
         "yaxis": "y"
        },
        {
         "hovertemplate": "<b>%{hovertext}</b><br><br>Title=Emil and the Detectives<br>Runtime=%{x}<br>IMDb=%{y}<extra></extra>",
         "hovertext": [
          "Emil and the Detectives"
         ],
         "legendgroup": "Emil and the Detectives",
         "marker": {
          "color": "#19d3f3",
          "symbol": "circle"
         },
         "mode": "markers",
         "name": "Emil and the Detectives",
         "orientation": "v",
         "showlegend": true,
         "type": "scatter",
         "x": [
          99
         ],
         "xaxis": "x",
         "y": [
          6.2
         ],
         "yaxis": "y"
        },
        {
         "hovertemplate": "<b>%{hovertext}</b><br><br>Title=Marvel Rising: Battle of the Bands<br>Runtime=%{x}<br>IMDb=%{y}<extra></extra>",
         "hovertext": [
          "Marvel Rising: Battle of the Bands"
         ],
         "legendgroup": "Marvel Rising: Battle of the Bands",
         "marker": {
          "color": "#FF6692",
          "symbol": "circle"
         },
         "mode": "markers",
         "name": "Marvel Rising: Battle of the Bands",
         "orientation": "v",
         "showlegend": true,
         "type": "scatter",
         "x": [
          22
         ],
         "xaxis": "x",
         "y": [
          5
         ],
         "yaxis": "y"
        },
        {
         "hovertemplate": "<b>%{hovertext}</b><br><br>Title=Kazaam<br>Runtime=%{x}<br>IMDb=%{y}<extra></extra>",
         "hovertext": [
          "Kazaam"
         ],
         "legendgroup": "Kazaam",
         "marker": {
          "color": "#B6E880",
          "symbol": "circle"
         },
         "mode": "markers",
         "name": "Kazaam",
         "orientation": "v",
         "showlegend": true,
         "type": "scatter",
         "x": [
          93
         ],
         "xaxis": "x",
         "y": [
          3
         ],
         "yaxis": "y"
        },
        {
         "hovertemplate": "<b>%{hovertext}</b><br><br>Title=Marvel Rising: Playing with Fire<br>Runtime=%{x}<br>IMDb=%{y}<extra></extra>",
         "hovertext": [
          "Marvel Rising: Playing with Fire"
         ],
         "legendgroup": "Marvel Rising: Playing with Fire",
         "marker": {
          "color": "#FF97FF",
          "symbol": "circle"
         },
         "mode": "markers",
         "name": "Marvel Rising: Playing with Fire",
         "orientation": "v",
         "showlegend": true,
         "type": "scatter",
         "x": [
          44
         ],
         "xaxis": "x",
         "y": [
          5.3
         ],
         "yaxis": "y"
        },
        {
         "hovertemplate": "<b>%{hovertext}</b><br><br>Title=Nature's Half Acre<br>Runtime=%{x}<br>IMDb=%{y}<extra></extra>",
         "hovertext": [
          "Nature's Half Acre"
         ],
         "legendgroup": "Nature's Half Acre",
         "marker": {
          "color": "#FECB52",
          "symbol": "circle"
         },
         "mode": "markers",
         "name": "Nature's Half Acre",
         "orientation": "v",
         "showlegend": true,
         "type": "scatter",
         "x": [
          33
         ],
         "xaxis": "x",
         "y": [
          7.2
         ],
         "yaxis": "y"
        },
        {
         "hovertemplate": "<b>%{hovertext}</b><br><br>Title=Ready to Run<br>Runtime=%{x}<br>IMDb=%{y}<extra></extra>",
         "hovertext": [
          "Ready to Run"
         ],
         "legendgroup": "Ready to Run",
         "marker": {
          "color": "#636efa",
          "symbol": "circle"
         },
         "mode": "markers",
         "name": "Ready to Run",
         "orientation": "v",
         "showlegend": true,
         "type": "scatter",
         "x": [
          96
         ],
         "xaxis": "x",
         "y": [
          5.3
         ],
         "yaxis": "y"
        },
        {
         "hovertemplate": "<b>%{hovertext}</b><br><br>Title=You Lucky Dog<br>Runtime=%{x}<br>IMDb=%{y}<extra></extra>",
         "hovertext": [
          "You Lucky Dog"
         ],
         "legendgroup": "You Lucky Dog",
         "marker": {
          "color": "#EF553B",
          "symbol": "circle"
         },
         "mode": "markers",
         "name": "You Lucky Dog",
         "orientation": "v",
         "showlegend": true,
         "type": "scatter",
         "x": [
          89
         ],
         "xaxis": "x",
         "y": [
          4.7
         ],
         "yaxis": "y"
        },
        {
         "hovertemplate": "<b>%{hovertext}</b><br><br>Title=Water Birds<br>Runtime=%{x}<br>IMDb=%{y}<extra></extra>",
         "hovertext": [
          "Water Birds"
         ],
         "legendgroup": "Water Birds",
         "marker": {
          "color": "#00cc96",
          "symbol": "circle"
         },
         "mode": "markers",
         "name": "Water Birds",
         "orientation": "v",
         "showlegend": true,
         "type": "scatter",
         "x": [
          30
         ],
         "xaxis": "x",
         "y": [
          6.7
         ],
         "yaxis": "y"
        },
        {
         "hovertemplate": "<b>%{hovertext}</b><br><br>Title=The Flood<br>Runtime=%{x}<br>IMDb=%{y}<extra></extra>",
         "hovertext": [
          "The Flood"
         ],
         "legendgroup": "The Flood",
         "marker": {
          "color": "#ab63fa",
          "symbol": "circle"
         },
         "mode": "markers",
         "name": "The Flood",
         "orientation": "v",
         "showlegend": true,
         "type": "scatter",
         "x": [
          99
         ],
         "xaxis": "x",
         "y": [
          8.1
         ],
         "yaxis": "y"
        },
        {
         "hovertemplate": "<b>%{hovertext}</b><br><br>Title=Skyrunners<br>Runtime=%{x}<br>IMDb=%{y}<extra></extra>",
         "hovertext": [
          "Skyrunners"
         ],
         "legendgroup": "Skyrunners",
         "marker": {
          "color": "#FFA15A",
          "symbol": "circle"
         },
         "mode": "markers",
         "name": "Skyrunners",
         "orientation": "v",
         "showlegend": true,
         "type": "scatter",
         "x": [
          92
         ],
         "xaxis": "x",
         "y": [
          5
         ],
         "yaxis": "y"
        },
        {
         "hovertemplate": "<b>%{hovertext}</b><br><br>Title=The Lost Tomb of Alexander the Great<br>Runtime=%{x}<br>IMDb=%{y}<extra></extra>",
         "hovertext": [
          "The Lost Tomb of Alexander the Great"
         ],
         "legendgroup": "The Lost Tomb of Alexander the Great",
         "marker": {
          "color": "#19d3f3",
          "symbol": "circle"
         },
         "mode": "markers",
         "name": "The Lost Tomb of Alexander the Great",
         "orientation": "v",
         "showlegend": true,
         "type": "scatter",
         "x": [
          null
         ],
         "xaxis": "x",
         "y": [
          6.6
         ],
         "yaxis": "y"
        },
        {
         "hovertemplate": "<b>%{hovertext}</b><br><br>Title=Drain the Great Lakes<br>Runtime=%{x}<br>IMDb=%{y}<extra></extra>",
         "hovertext": [
          "Drain the Great Lakes"
         ],
         "legendgroup": "Drain the Great Lakes",
         "marker": {
          "color": "#FF6692",
          "symbol": "circle"
         },
         "mode": "markers",
         "name": "Drain the Great Lakes",
         "orientation": "v",
         "showlegend": true,
         "type": "scatter",
         "x": [
          47
         ],
         "xaxis": "x",
         "y": [
          6.9
         ],
         "yaxis": "y"
        },
        {
         "hovertemplate": "<b>%{hovertext}</b><br><br>Title=Disney's Fairy Tale Weddings<br>Runtime=%{x}<br>IMDb=%{y}<extra></extra>",
         "hovertext": [
          "Disney's Fairy Tale Weddings"
         ],
         "legendgroup": "Disney's Fairy Tale Weddings",
         "marker": {
          "color": "#B6E880",
          "symbol": "circle"
         },
         "mode": "markers",
         "name": "Disney's Fairy Tale Weddings",
         "orientation": "v",
         "showlegend": true,
         "type": "scatter",
         "x": [
          63
         ],
         "xaxis": "x",
         "y": [
          6.8
         ],
         "yaxis": "y"
        },
        {
         "hovertemplate": "<b>%{hovertext}</b><br><br>Title=Paris to Pittsburgh<br>Runtime=%{x}<br>IMDb=%{y}<extra></extra>",
         "hovertext": [
          "Paris to Pittsburgh"
         ],
         "legendgroup": "Paris to Pittsburgh",
         "marker": {
          "color": "#FF97FF",
          "symbol": "circle"
         },
         "mode": "markers",
         "name": "Paris to Pittsburgh",
         "orientation": "v",
         "showlegend": true,
         "type": "scatter",
         "x": [
          77
         ],
         "xaxis": "x",
         "y": [
          6.9
         ],
         "yaxis": "y"
        },
        {
         "hovertemplate": "<b>%{hovertext}</b><br><br>Title=A Tale of Two Critters<br>Runtime=%{x}<br>IMDb=%{y}<extra></extra>",
         "hovertext": [
          "A Tale of Two Critters"
         ],
         "legendgroup": "A Tale of Two Critters",
         "marker": {
          "color": "#FECB52",
          "symbol": "circle"
         },
         "mode": "markers",
         "name": "A Tale of Two Critters",
         "orientation": "v",
         "showlegend": true,
         "type": "scatter",
         "x": [
          48
         ],
         "xaxis": "x",
         "y": [
          6.5
         ],
         "yaxis": "y"
        },
        {
         "hovertemplate": "<b>%{hovertext}</b><br><br>Title=Drain the Titanic<br>Runtime=%{x}<br>IMDb=%{y}<extra></extra>",
         "hovertext": [
          "Drain the Titanic"
         ],
         "legendgroup": "Drain the Titanic",
         "marker": {
          "color": "#636efa",
          "symbol": "circle"
         },
         "mode": "markers",
         "name": "Drain the Titanic",
         "orientation": "v",
         "showlegend": true,
         "type": "scatter",
         "x": [
          46
         ],
         "xaxis": "x",
         "y": [
          6.4
         ],
         "yaxis": "y"
        },
        {
         "hovertemplate": "<b>%{hovertext}</b><br><br>Title=Fuzzbucket<br>Runtime=%{x}<br>IMDb=%{y}<extra></extra>",
         "hovertext": [
          "Fuzzbucket"
         ],
         "legendgroup": "Fuzzbucket",
         "marker": {
          "color": "#EF553B",
          "symbol": "circle"
         },
         "mode": "markers",
         "name": "Fuzzbucket",
         "orientation": "v",
         "showlegend": true,
         "type": "scatter",
         "x": [
          46
         ],
         "xaxis": "x",
         "y": [
          6.2
         ],
         "yaxis": "y"
        },
        {
         "hovertemplate": "<b>%{hovertext}</b><br><br>Title=Trail of the Panda<br>Runtime=%{x}<br>IMDb=%{y}<extra></extra>",
         "hovertext": [
          "Trail of the Panda"
         ],
         "legendgroup": "Trail of the Panda",
         "marker": {
          "color": "#00cc96",
          "symbol": "circle"
         },
         "mode": "markers",
         "name": "Trail of the Panda",
         "orientation": "v",
         "showlegend": true,
         "type": "scatter",
         "x": [
          87
         ],
         "xaxis": "x",
         "y": [
          6.5
         ],
         "yaxis": "y"
        },
        {
         "hovertemplate": "<b>%{hovertext}</b><br><br>Title=Secrets of Christ's Tomb: Explorer Special<br>Runtime=%{x}<br>IMDb=%{y}<extra></extra>",
         "hovertext": [
          "Secrets of Christ's Tomb: Explorer Special"
         ],
         "legendgroup": "Secrets of Christ's Tomb: Explorer Special",
         "marker": {
          "color": "#ab63fa",
          "symbol": "circle"
         },
         "mode": "markers",
         "name": "Secrets of Christ's Tomb: Explorer Special",
         "orientation": "v",
         "showlegend": true,
         "type": "scatter",
         "x": [
          46
         ],
         "xaxis": "x",
         "y": [
          6.4
         ],
         "yaxis": "y"
        },
        {
         "hovertemplate": "<b>%{hovertext}</b><br><br>Title=Sammy, the Way-Out Seal<br>Runtime=%{x}<br>IMDb=%{y}<extra></extra>",
         "hovertext": [
          "Sammy, the Way-Out Seal"
         ],
         "legendgroup": "Sammy, the Way-Out Seal",
         "marker": {
          "color": "#FFA15A",
          "symbol": "circle"
         },
         "mode": "markers",
         "name": "Sammy, the Way-Out Seal",
         "orientation": "v",
         "showlegend": true,
         "type": "scatter",
         "x": [
          89
         ],
         "xaxis": "x",
         "y": [
          6.7
         ],
         "yaxis": "y"
        },
        {
         "hovertemplate": "<b>%{hovertext}</b><br><br>Title=Meet the Deedles<br>Runtime=%{x}<br>IMDb=%{y}<extra></extra>",
         "hovertext": [
          "Meet the Deedles"
         ],
         "legendgroup": "Meet the Deedles",
         "marker": {
          "color": "#19d3f3",
          "symbol": "circle"
         },
         "mode": "markers",
         "name": "Meet the Deedles",
         "orientation": "v",
         "showlegend": true,
         "type": "scatter",
         "x": [
          93
         ],
         "xaxis": "x",
         "y": [
          4.1
         ],
         "yaxis": "y"
        },
        {
         "hovertemplate": "<b>%{hovertext}</b><br><br>Title=Justin Morgan Had a Horse<br>Runtime=%{x}<br>IMDb=%{y}<extra></extra>",
         "hovertext": [
          "Justin Morgan Had a Horse"
         ],
         "legendgroup": "Justin Morgan Had a Horse",
         "marker": {
          "color": "#FF6692",
          "symbol": "circle"
         },
         "mode": "markers",
         "name": "Justin Morgan Had a Horse",
         "orientation": "v",
         "showlegend": true,
         "type": "scatter",
         "x": [
          91
         ],
         "xaxis": "x",
         "y": [
          6.5
         ],
         "yaxis": "y"
        },
        {
         "hovertemplate": "<b>%{hovertext}</b><br><br>Title=The Biscuit Eater<br>Runtime=%{x}<br>IMDb=%{y}<extra></extra>",
         "hovertext": [
          "The Biscuit Eater"
         ],
         "legendgroup": "The Biscuit Eater",
         "marker": {
          "color": "#B6E880",
          "symbol": "circle"
         },
         "mode": "markers",
         "name": "The Biscuit Eater",
         "orientation": "v",
         "showlegend": true,
         "type": "scatter",
         "x": [
          90
         ],
         "xaxis": "x",
         "y": [
          5.7
         ],
         "yaxis": "y"
        },
        {
         "hovertemplate": "<b>%{hovertext}</b><br><br>Title=Miracle Landing on the Hudson<br>Runtime=%{x}<br>IMDb=%{y}<extra></extra>",
         "hovertext": [
          "Miracle Landing on the Hudson"
         ],
         "legendgroup": "Miracle Landing on the Hudson",
         "marker": {
          "color": "#FF97FF",
          "symbol": "circle"
         },
         "mode": "markers",
         "name": "Miracle Landing on the Hudson",
         "orientation": "v",
         "showlegend": true,
         "type": "scatter",
         "x": [
          90
         ],
         "xaxis": "x",
         "y": [
          6.7
         ],
         "yaxis": "y"
        },
        {
         "hovertemplate": "<b>%{hovertext}</b><br><br>Title=Prowlers of the Everglades<br>Runtime=%{x}<br>IMDb=%{y}<extra></extra>",
         "hovertext": [
          "Prowlers of the Everglades"
         ],
         "legendgroup": "Prowlers of the Everglades",
         "marker": {
          "color": "#FECB52",
          "symbol": "circle"
         },
         "mode": "markers",
         "name": "Prowlers of the Everglades",
         "orientation": "v",
         "showlegend": true,
         "type": "scatter",
         "x": [
          32
         ],
         "xaxis": "x",
         "y": [
          8
         ],
         "yaxis": "y"
        },
        {
         "hovertemplate": "<b>%{hovertext}</b><br><br>Title=The Castaway Cowboy<br>Runtime=%{x}<br>IMDb=%{y}<extra></extra>",
         "hovertext": [
          "The Castaway Cowboy"
         ],
         "legendgroup": "The Castaway Cowboy",
         "marker": {
          "color": "#636efa",
          "symbol": "circle"
         },
         "mode": "markers",
         "name": "The Castaway Cowboy",
         "orientation": "v",
         "showlegend": true,
         "type": "scatter",
         "x": [
          91
         ],
         "xaxis": "x",
         "y": [
          5.9
         ],
         "yaxis": "y"
        },
        {
         "hovertemplate": "<b>%{hovertext}</b><br><br>Title=Casebusters<br>Runtime=%{x}<br>IMDb=%{y}<extra></extra>",
         "hovertext": [
          "Casebusters"
         ],
         "legendgroup": "Casebusters",
         "marker": {
          "color": "#EF553B",
          "symbol": "circle"
         },
         "mode": "markers",
         "name": "Casebusters",
         "orientation": "v",
         "showlegend": true,
         "type": "scatter",
         "x": [
          45
         ],
         "xaxis": "x",
         "y": [
          5.8
         ],
         "yaxis": "y"
        },
        {
         "hovertemplate": "<b>%{hovertext}</b><br><br>Title=Mission to the Sun<br>Runtime=%{x}<br>IMDb=%{y}<extra></extra>",
         "hovertext": [
          "Mission to the Sun"
         ],
         "legendgroup": "Mission to the Sun",
         "marker": {
          "color": "#00cc96",
          "symbol": "circle"
         },
         "mode": "markers",
         "name": "Mission to the Sun",
         "orientation": "v",
         "showlegend": true,
         "type": "scatter",
         "x": [
          60
         ],
         "xaxis": "x",
         "y": [
          6.9
         ],
         "yaxis": "y"
        },
        {
         "hovertemplate": "<b>%{hovertext}</b><br><br>Title=Drain the Bermuda Triangle<br>Runtime=%{x}<br>IMDb=%{y}<extra></extra>",
         "hovertext": [
          "Drain the Bermuda Triangle"
         ],
         "legendgroup": "Drain the Bermuda Triangle",
         "marker": {
          "color": "#ab63fa",
          "symbol": "circle"
         },
         "mode": "markers",
         "name": "Drain the Bermuda Triangle",
         "orientation": "v",
         "showlegend": true,
         "type": "scatter",
         "x": [
          44
         ],
         "xaxis": "x",
         "y": [
          6.4
         ],
         "yaxis": "y"
        },
        {
         "hovertemplate": "<b>%{hovertext}</b><br><br>Title=Drain The Ocean: WWII<br>Runtime=%{x}<br>IMDb=%{y}<extra></extra>",
         "hovertext": [
          "Drain The Ocean: WWII"
         ],
         "legendgroup": "Drain The Ocean: WWII",
         "marker": {
          "color": "#FFA15A",
          "symbol": "circle"
         },
         "mode": "markers",
         "name": "Drain The Ocean: WWII",
         "orientation": "v",
         "showlegend": true,
         "type": "scatter",
         "x": [
          44
         ],
         "xaxis": "x",
         "y": [
          7
         ],
         "yaxis": "y"
        },
        {
         "hovertemplate": "<b>%{hovertext}</b><br><br>Title=Hounded<br>Runtime=%{x}<br>IMDb=%{y}<extra></extra>",
         "hovertext": [
          "Hounded"
         ],
         "legendgroup": "Hounded",
         "marker": {
          "color": "#19d3f3",
          "symbol": "circle"
         },
         "mode": "markers",
         "name": "Hounded",
         "orientation": "v",
         "showlegend": true,
         "type": "scatter",
         "x": [
          91
         ],
         "xaxis": "x",
         "y": [
          5.1
         ],
         "yaxis": "y"
        },
        {
         "hovertemplate": "<b>%{hovertext}</b><br><br>Title=Yellowstone Cubs<br>Runtime=%{x}<br>IMDb=%{y}<extra></extra>",
         "hovertext": [
          "Yellowstone Cubs"
         ],
         "legendgroup": "Yellowstone Cubs",
         "marker": {
          "color": "#FF6692",
          "symbol": "circle"
         },
         "mode": "markers",
         "name": "Yellowstone Cubs",
         "orientation": "v",
         "showlegend": true,
         "type": "scatter",
         "x": [
          48
         ],
         "xaxis": "x",
         "y": [
          6.9
         ],
         "yaxis": "y"
        },
        {
         "hovertemplate": "<b>%{hovertext}</b><br><br>Title=Kingdom of the Blue Whale<br>Runtime=%{x}<br>IMDb=%{y}<extra></extra>",
         "hovertext": [
          "Kingdom of the Blue Whale"
         ],
         "legendgroup": "Kingdom of the Blue Whale",
         "marker": {
          "color": "#B6E880",
          "symbol": "circle"
         },
         "mode": "markers",
         "name": "Kingdom of the Blue Whale",
         "orientation": "v",
         "showlegend": true,
         "type": "scatter",
         "x": [
          94
         ],
         "xaxis": "x",
         "y": [
          7.3
         ],
         "yaxis": "y"
        },
        {
         "hovertemplate": "<b>%{hovertext}</b><br><br>Title=Viking Warrior Women<br>Runtime=%{x}<br>IMDb=%{y}<extra></extra>",
         "hovertext": [
          "Viking Warrior Women"
         ],
         "legendgroup": "Viking Warrior Women",
         "marker": {
          "color": "#FF97FF",
          "symbol": "circle"
         },
         "mode": "markers",
         "name": "Viking Warrior Women",
         "orientation": "v",
         "showlegend": true,
         "type": "scatter",
         "x": [
          51
         ],
         "xaxis": "x",
         "y": [
          6.6
         ],
         "yaxis": "y"
        },
        {
         "hovertemplate": "<b>%{hovertext}</b><br><br>Title=Pocahontas<br>Runtime=%{x}<br>IMDb=%{y}<extra></extra>",
         "hovertext": [
          "Pocahontas"
         ],
         "legendgroup": "Pocahontas",
         "marker": {
          "color": "#FECB52",
          "symbol": "circle"
         },
         "mode": "markers",
         "name": "Pocahontas",
         "orientation": "v",
         "showlegend": true,
         "type": "scatter",
         "x": [
          81
         ],
         "xaxis": "x",
         "y": [
          5.3
         ],
         "yaxis": "y"
        },
        {
         "hovertemplate": "<b>%{hovertext}</b><br><br>Title=Drain Alcatraz<br>Runtime=%{x}<br>IMDb=%{y}<extra></extra>",
         "hovertext": [
          "Drain Alcatraz"
         ],
         "legendgroup": "Drain Alcatraz",
         "marker": {
          "color": "#636efa",
          "symbol": "circle"
         },
         "mode": "markers",
         "name": "Drain Alcatraz",
         "orientation": "v",
         "showlegend": true,
         "type": "scatter",
         "x": [
          47
         ],
         "xaxis": "x",
         "y": [
          5.9
         ],
         "yaxis": "y"
        },
        {
         "hovertemplate": "<b>%{hovertext}</b><br><br>Title=The Spaceman and King Arthur<br>Runtime=%{x}<br>IMDb=%{y}<extra></extra>",
         "hovertext": [
          "The Spaceman and King Arthur"
         ],
         "legendgroup": "The Spaceman and King Arthur",
         "marker": {
          "color": "#EF553B",
          "symbol": "circle"
         },
         "mode": "markers",
         "name": "The Spaceman and King Arthur",
         "orientation": "v",
         "showlegend": true,
         "type": "scatter",
         "x": [
          93
         ],
         "xaxis": "x",
         "y": [
          5.3
         ],
         "yaxis": "y"
        },
        {
         "hovertemplate": "<b>%{hovertext}</b><br><br>Title=Secrets of Life<br>Runtime=%{x}<br>IMDb=%{y}<extra></extra>",
         "hovertext": [
          "Secrets of Life"
         ],
         "legendgroup": "Secrets of Life",
         "marker": {
          "color": "#00cc96",
          "symbol": "circle"
         },
         "mode": "markers",
         "name": "Secrets of Life",
         "orientation": "v",
         "showlegend": true,
         "type": "scatter",
         "x": [
          70
         ],
         "xaxis": "x",
         "y": [
          7.2
         ],
         "yaxis": "y"
        },
        {
         "hovertemplate": "<b>%{hovertext}</b><br><br>Title=Hacksaw<br>Runtime=%{x}<br>IMDb=%{y}<extra></extra>",
         "hovertext": [
          "Hacksaw"
         ],
         "legendgroup": "Hacksaw",
         "marker": {
          "color": "#ab63fa",
          "symbol": "circle"
         },
         "mode": "markers",
         "name": "Hacksaw",
         "orientation": "v",
         "showlegend": true,
         "type": "scatter",
         "x": [
          89
         ],
         "xaxis": "x",
         "y": [
          6.3
         ],
         "yaxis": "y"
        },
        {
         "hovertemplate": "<b>%{hovertext}</b><br><br>Title=Can of Worms<br>Runtime=%{x}<br>IMDb=%{y}<extra></extra>",
         "hovertext": [
          "Can of Worms"
         ],
         "legendgroup": "Can of Worms",
         "marker": {
          "color": "#FFA15A",
          "symbol": "circle"
         },
         "mode": "markers",
         "name": "Can of Worms",
         "orientation": "v",
         "showlegend": true,
         "type": "scatter",
         "x": [
          90
         ],
         "xaxis": "x",
         "y": [
          5
         ],
         "yaxis": "y"
        },
        {
         "hovertemplate": "<b>%{hovertext}</b><br><br>Title=My Dog the Thief<br>Runtime=%{x}<br>IMDb=%{y}<extra></extra>",
         "hovertext": [
          "My Dog the Thief"
         ],
         "legendgroup": "My Dog the Thief",
         "marker": {
          "color": "#19d3f3",
          "symbol": "circle"
         },
         "mode": "markers",
         "name": "My Dog the Thief",
         "orientation": "v",
         "showlegend": true,
         "type": "scatter",
         "x": [
          88
         ],
         "xaxis": "x",
         "y": [
          6.1
         ],
         "yaxis": "y"
        },
        {
         "hovertemplate": "<b>%{hovertext}</b><br><br>Title=Richie Rich's Christmas Wish<br>Runtime=%{x}<br>IMDb=%{y}<extra></extra>",
         "hovertext": [
          "Richie Rich's Christmas Wish"
         ],
         "legendgroup": "Richie Rich's Christmas Wish",
         "marker": {
          "color": "#FF6692",
          "symbol": "circle"
         },
         "mode": "markers",
         "name": "Richie Rich's Christmas Wish",
         "orientation": "v",
         "showlegend": true,
         "type": "scatter",
         "x": [
          84
         ],
         "xaxis": "x",
         "y": [
          4.1
         ],
         "yaxis": "y"
        },
        {
         "hovertemplate": "<b>%{hovertext}</b><br><br>Title=The Jungle Book: Mowgli's Story<br>Runtime=%{x}<br>IMDb=%{y}<extra></extra>",
         "hovertext": [
          "The Jungle Book: Mowgli's Story"
         ],
         "legendgroup": "The Jungle Book: Mowgli's Story",
         "marker": {
          "color": "#B6E880",
          "symbol": "circle"
         },
         "mode": "markers",
         "name": "The Jungle Book: Mowgli's Story",
         "orientation": "v",
         "showlegend": true,
         "type": "scatter",
         "x": [
          77
         ],
         "xaxis": "x",
         "y": [
          4.2
         ],
         "yaxis": "y"
        },
        {
         "hovertemplate": "<b>%{hovertext}</b><br><br>Title=How Dogs Got Their Shapes<br>Runtime=%{x}<br>IMDb=%{y}<extra></extra>",
         "hovertext": [
          "How Dogs Got Their Shapes"
         ],
         "legendgroup": "How Dogs Got Their Shapes",
         "marker": {
          "color": "#FF97FF",
          "symbol": "circle"
         },
         "mode": "markers",
         "name": "How Dogs Got Their Shapes",
         "orientation": "v",
         "showlegend": true,
         "type": "scatter",
         "x": [
          null
         ],
         "xaxis": "x",
         "y": [
          6.7
         ],
         "yaxis": "y"
        },
        {
         "hovertemplate": "<b>%{hovertext}</b><br><br>Title=Drain The Sunken Pirate City<br>Runtime=%{x}<br>IMDb=%{y}<extra></extra>",
         "hovertext": [
          "Drain The Sunken Pirate City"
         ],
         "legendgroup": "Drain The Sunken Pirate City",
         "marker": {
          "color": "#FECB52",
          "symbol": "circle"
         },
         "mode": "markers",
         "name": "Drain The Sunken Pirate City",
         "orientation": "v",
         "showlegend": true,
         "type": "scatter",
         "x": [
          47
         ],
         "xaxis": "x",
         "y": [
          6.6
         ],
         "yaxis": "y"
        },
        {
         "hovertemplate": "<b>%{hovertext}</b><br><br>Title=Bizarre Dinosaurs<br>Runtime=%{x}<br>IMDb=%{y}<extra></extra>",
         "hovertext": [
          "Bizarre Dinosaurs"
         ],
         "legendgroup": "Bizarre Dinosaurs",
         "marker": {
          "color": "#636efa",
          "symbol": "circle"
         },
         "mode": "markers",
         "name": "Bizarre Dinosaurs",
         "orientation": "v",
         "showlegend": true,
         "type": "scatter",
         "x": [
          48
         ],
         "xaxis": "x",
         "y": [
          6.8
         ],
         "yaxis": "y"
        },
        {
         "hovertemplate": "<b>%{hovertext}</b><br><br>Title=Earth Live<br>Runtime=%{x}<br>IMDb=%{y}<extra></extra>",
         "hovertext": [
          "Earth Live"
         ],
         "legendgroup": "Earth Live",
         "marker": {
          "color": "#EF553B",
          "symbol": "circle"
         },
         "mode": "markers",
         "name": "Earth Live",
         "orientation": "v",
         "showlegend": true,
         "type": "scatter",
         "x": [
          null
         ],
         "xaxis": "x",
         "y": [
          5.5
         ],
         "yaxis": "y"
        },
        {
         "hovertemplate": "<b>%{hovertext}</b><br><br>Title=The Boy Who Talked to Badgers<br>Runtime=%{x}<br>IMDb=%{y}<extra></extra>",
         "hovertext": [
          "The Boy Who Talked to Badgers"
         ],
         "legendgroup": "The Boy Who Talked to Badgers",
         "marker": {
          "color": "#00cc96",
          "symbol": "circle"
         },
         "mode": "markers",
         "name": "The Boy Who Talked to Badgers",
         "orientation": "v",
         "showlegend": true,
         "type": "scatter",
         "x": [
          89
         ],
         "xaxis": "x",
         "y": [
          6.2
         ],
         "yaxis": "y"
        },
        {
         "hovertemplate": "<b>%{hovertext}</b><br><br>Title=Sea of Hope: America's Underwater Treasures<br>Runtime=%{x}<br>IMDb=%{y}<extra></extra>",
         "hovertext": [
          "Sea of Hope: America's Underwater Treasures"
         ],
         "legendgroup": "Sea of Hope: America's Underwater Treasures",
         "marker": {
          "color": "#ab63fa",
          "symbol": "circle"
         },
         "mode": "markers",
         "name": "Sea of Hope: America's Underwater Treasures",
         "orientation": "v",
         "showlegend": true,
         "type": "scatter",
         "x": [
          48
         ],
         "xaxis": "x",
         "y": [
          7.3
         ],
         "yaxis": "y"
        },
        {
         "hovertemplate": "<b>%{hovertext}</b><br><br>Title=Sultan And The Rock Star<br>Runtime=%{x}<br>IMDb=%{y}<extra></extra>",
         "hovertext": [
          "Sultan And The Rock Star"
         ],
         "legendgroup": "Sultan And The Rock Star",
         "marker": {
          "color": "#FFA15A",
          "symbol": "circle"
         },
         "mode": "markers",
         "name": "Sultan And The Rock Star",
         "orientation": "v",
         "showlegend": true,
         "type": "scatter",
         "x": [
          60
         ],
         "xaxis": "x",
         "y": [
          5.9
         ],
         "yaxis": "y"
        },
        {
         "hovertemplate": "<b>%{hovertext}</b><br><br>Title=Secrets of the King Cobra<br>Runtime=%{x}<br>IMDb=%{y}<extra></extra>",
         "hovertext": [
          "Secrets of the King Cobra"
         ],
         "legendgroup": "Secrets of the King Cobra",
         "marker": {
          "color": "#19d3f3",
          "symbol": "circle"
         },
         "mode": "markers",
         "name": "Secrets of the King Cobra",
         "orientation": "v",
         "showlegend": true,
         "type": "scatter",
         "x": [
          null
         ],
         "xaxis": "x",
         "y": [
          6.4
         ],
         "yaxis": "y"
        },
        {
         "hovertemplate": "<b>%{hovertext}</b><br><br>Title=Winged Seduction: Birds of Paradise<br>Runtime=%{x}<br>IMDb=%{y}<extra></extra>",
         "hovertext": [
          "Winged Seduction: Birds of Paradise"
         ],
         "legendgroup": "Winged Seduction: Birds of Paradise",
         "marker": {
          "color": "#FF6692",
          "symbol": "circle"
         },
         "mode": "markers",
         "name": "Winged Seduction: Birds of Paradise",
         "orientation": "v",
         "showlegend": true,
         "type": "scatter",
         "x": [
          null
         ],
         "xaxis": "x",
         "y": [
          6.5
         ],
         "yaxis": "y"
        },
        {
         "hovertemplate": "<b>%{hovertext}</b><br><br>Title=The Bears and I<br>Runtime=%{x}<br>IMDb=%{y}<extra></extra>",
         "hovertext": [
          "The Bears and I"
         ],
         "legendgroup": "The Bears and I",
         "marker": {
          "color": "#B6E880",
          "symbol": "circle"
         },
         "mode": "markers",
         "name": "The Bears and I",
         "orientation": "v",
         "showlegend": true,
         "type": "scatter",
         "x": [
          89
         ],
         "xaxis": "x",
         "y": [
          6.2
         ],
         "yaxis": "y"
        },
        {
         "hovertemplate": "<b>%{hovertext}</b><br><br>Title=Whispers: An Elephant's Tale<br>Runtime=%{x}<br>IMDb=%{y}<extra></extra>",
         "hovertext": [
          "Whispers: An Elephant's Tale"
         ],
         "legendgroup": "Whispers: An Elephant's Tale",
         "marker": {
          "color": "#FF97FF",
          "symbol": "circle"
         },
         "mode": "markers",
         "name": "Whispers: An Elephant's Tale",
         "orientation": "v",
         "showlegend": true,
         "type": "scatter",
         "x": [
          72
         ],
         "xaxis": "x",
         "y": [
          5
         ],
         "yaxis": "y"
        },
        {
         "hovertemplate": "<b>%{hovertext}</b><br><br>Title=The Ghosts of Buxley Hall<br>Runtime=%{x}<br>IMDb=%{y}<extra></extra>",
         "hovertext": [
          "The Ghosts of Buxley Hall"
         ],
         "legendgroup": "The Ghosts of Buxley Hall",
         "marker": {
          "color": "#FECB52",
          "symbol": "circle"
         },
         "mode": "markers",
         "name": "The Ghosts of Buxley Hall",
         "orientation": "v",
         "showlegend": true,
         "type": "scatter",
         "x": [
          120
         ],
         "xaxis": "x",
         "y": [
          6.2
         ],
         "yaxis": "y"
        },
        {
         "hovertemplate": "<b>%{hovertext}</b><br><br>Title=The Poof Point<br>Runtime=%{x}<br>IMDb=%{y}<extra></extra>",
         "hovertext": [
          "The Poof Point"
         ],
         "legendgroup": "The Poof Point",
         "marker": {
          "color": "#636efa",
          "symbol": "circle"
         },
         "mode": "markers",
         "name": "The Poof Point",
         "orientation": "v",
         "showlegend": true,
         "type": "scatter",
         "x": [
          90
         ],
         "xaxis": "x",
         "y": [
          4.7
         ],
         "yaxis": "y"
        },
        {
         "hovertemplate": "<b>%{hovertext}</b><br><br>Title=Sharks of Lost Island<br>Runtime=%{x}<br>IMDb=%{y}<extra></extra>",
         "hovertext": [
          "Sharks of Lost Island"
         ],
         "legendgroup": "Sharks of Lost Island",
         "marker": {
          "color": "#EF553B",
          "symbol": "circle"
         },
         "mode": "markers",
         "name": "Sharks of Lost Island",
         "orientation": "v",
         "showlegend": true,
         "type": "scatter",
         "x": [
          null
         ],
         "xaxis": "x",
         "y": [
          5.7
         ],
         "yaxis": "y"
        },
        {
         "hovertemplate": "<b>%{hovertext}</b><br><br>Title=Man Among Cheetahs<br>Runtime=%{x}<br>IMDb=%{y}<extra></extra>",
         "hovertext": [
          "Man Among Cheetahs"
         ],
         "legendgroup": "Man Among Cheetahs",
         "marker": {
          "color": "#00cc96",
          "symbol": "circle"
         },
         "mode": "markers",
         "name": "Man Among Cheetahs",
         "orientation": "v",
         "showlegend": true,
         "type": "scatter",
         "x": [
          null
         ],
         "xaxis": "x",
         "y": [
          6.6
         ],
         "yaxis": "y"
        },
        {
         "hovertemplate": "<b>%{hovertext}</b><br><br>Title=In Beaver Valley<br>Runtime=%{x}<br>IMDb=%{y}<extra></extra>",
         "hovertext": [
          "In Beaver Valley"
         ],
         "legendgroup": "In Beaver Valley",
         "marker": {
          "color": "#ab63fa",
          "symbol": "circle"
         },
         "mode": "markers",
         "name": "In Beaver Valley",
         "orientation": "v",
         "showlegend": true,
         "type": "scatter",
         "x": [
          32
         ],
         "xaxis": "x",
         "y": [
          null
         ],
         "yaxis": "y"
        }
       ],
       "layout": {
        "legend": {
         "title": {
          "text": "Title"
         },
         "tracegroupgap": 0
        },
        "margin": {
         "t": 60
        },
        "template": {
         "data": {
          "bar": [
           {
            "error_x": {
             "color": "#2a3f5f"
            },
            "error_y": {
             "color": "#2a3f5f"
            },
            "marker": {
             "line": {
              "color": "#E5ECF6",
              "width": 0.5
             }
            },
            "type": "bar"
           }
          ],
          "barpolar": [
           {
            "marker": {
             "line": {
              "color": "#E5ECF6",
              "width": 0.5
             }
            },
            "type": "barpolar"
           }
          ],
          "carpet": [
           {
            "aaxis": {
             "endlinecolor": "#2a3f5f",
             "gridcolor": "white",
             "linecolor": "white",
             "minorgridcolor": "white",
             "startlinecolor": "#2a3f5f"
            },
            "baxis": {
             "endlinecolor": "#2a3f5f",
             "gridcolor": "white",
             "linecolor": "white",
             "minorgridcolor": "white",
             "startlinecolor": "#2a3f5f"
            },
            "type": "carpet"
           }
          ],
          "choropleth": [
           {
            "colorbar": {
             "outlinewidth": 0,
             "ticks": ""
            },
            "type": "choropleth"
           }
          ],
          "contour": [
           {
            "colorbar": {
             "outlinewidth": 0,
             "ticks": ""
            },
            "colorscale": [
             [
              0,
              "#0d0887"
             ],
             [
              0.1111111111111111,
              "#46039f"
             ],
             [
              0.2222222222222222,
              "#7201a8"
             ],
             [
              0.3333333333333333,
              "#9c179e"
             ],
             [
              0.4444444444444444,
              "#bd3786"
             ],
             [
              0.5555555555555556,
              "#d8576b"
             ],
             [
              0.6666666666666666,
              "#ed7953"
             ],
             [
              0.7777777777777778,
              "#fb9f3a"
             ],
             [
              0.8888888888888888,
              "#fdca26"
             ],
             [
              1,
              "#f0f921"
             ]
            ],
            "type": "contour"
           }
          ],
          "contourcarpet": [
           {
            "colorbar": {
             "outlinewidth": 0,
             "ticks": ""
            },
            "type": "contourcarpet"
           }
          ],
          "heatmap": [
           {
            "colorbar": {
             "outlinewidth": 0,
             "ticks": ""
            },
            "colorscale": [
             [
              0,
              "#0d0887"
             ],
             [
              0.1111111111111111,
              "#46039f"
             ],
             [
              0.2222222222222222,
              "#7201a8"
             ],
             [
              0.3333333333333333,
              "#9c179e"
             ],
             [
              0.4444444444444444,
              "#bd3786"
             ],
             [
              0.5555555555555556,
              "#d8576b"
             ],
             [
              0.6666666666666666,
              "#ed7953"
             ],
             [
              0.7777777777777778,
              "#fb9f3a"
             ],
             [
              0.8888888888888888,
              "#fdca26"
             ],
             [
              1,
              "#f0f921"
             ]
            ],
            "type": "heatmap"
           }
          ],
          "heatmapgl": [
           {
            "colorbar": {
             "outlinewidth": 0,
             "ticks": ""
            },
            "colorscale": [
             [
              0,
              "#0d0887"
             ],
             [
              0.1111111111111111,
              "#46039f"
             ],
             [
              0.2222222222222222,
              "#7201a8"
             ],
             [
              0.3333333333333333,
              "#9c179e"
             ],
             [
              0.4444444444444444,
              "#bd3786"
             ],
             [
              0.5555555555555556,
              "#d8576b"
             ],
             [
              0.6666666666666666,
              "#ed7953"
             ],
             [
              0.7777777777777778,
              "#fb9f3a"
             ],
             [
              0.8888888888888888,
              "#fdca26"
             ],
             [
              1,
              "#f0f921"
             ]
            ],
            "type": "heatmapgl"
           }
          ],
          "histogram": [
           {
            "marker": {
             "colorbar": {
              "outlinewidth": 0,
              "ticks": ""
             }
            },
            "type": "histogram"
           }
          ],
          "histogram2d": [
           {
            "colorbar": {
             "outlinewidth": 0,
             "ticks": ""
            },
            "colorscale": [
             [
              0,
              "#0d0887"
             ],
             [
              0.1111111111111111,
              "#46039f"
             ],
             [
              0.2222222222222222,
              "#7201a8"
             ],
             [
              0.3333333333333333,
              "#9c179e"
             ],
             [
              0.4444444444444444,
              "#bd3786"
             ],
             [
              0.5555555555555556,
              "#d8576b"
             ],
             [
              0.6666666666666666,
              "#ed7953"
             ],
             [
              0.7777777777777778,
              "#fb9f3a"
             ],
             [
              0.8888888888888888,
              "#fdca26"
             ],
             [
              1,
              "#f0f921"
             ]
            ],
            "type": "histogram2d"
           }
          ],
          "histogram2dcontour": [
           {
            "colorbar": {
             "outlinewidth": 0,
             "ticks": ""
            },
            "colorscale": [
             [
              0,
              "#0d0887"
             ],
             [
              0.1111111111111111,
              "#46039f"
             ],
             [
              0.2222222222222222,
              "#7201a8"
             ],
             [
              0.3333333333333333,
              "#9c179e"
             ],
             [
              0.4444444444444444,
              "#bd3786"
             ],
             [
              0.5555555555555556,
              "#d8576b"
             ],
             [
              0.6666666666666666,
              "#ed7953"
             ],
             [
              0.7777777777777778,
              "#fb9f3a"
             ],
             [
              0.8888888888888888,
              "#fdca26"
             ],
             [
              1,
              "#f0f921"
             ]
            ],
            "type": "histogram2dcontour"
           }
          ],
          "mesh3d": [
           {
            "colorbar": {
             "outlinewidth": 0,
             "ticks": ""
            },
            "type": "mesh3d"
           }
          ],
          "parcoords": [
           {
            "line": {
             "colorbar": {
              "outlinewidth": 0,
              "ticks": ""
             }
            },
            "type": "parcoords"
           }
          ],
          "pie": [
           {
            "automargin": true,
            "type": "pie"
           }
          ],
          "scatter": [
           {
            "marker": {
             "colorbar": {
              "outlinewidth": 0,
              "ticks": ""
             }
            },
            "type": "scatter"
           }
          ],
          "scatter3d": [
           {
            "line": {
             "colorbar": {
              "outlinewidth": 0,
              "ticks": ""
             }
            },
            "marker": {
             "colorbar": {
              "outlinewidth": 0,
              "ticks": ""
             }
            },
            "type": "scatter3d"
           }
          ],
          "scattercarpet": [
           {
            "marker": {
             "colorbar": {
              "outlinewidth": 0,
              "ticks": ""
             }
            },
            "type": "scattercarpet"
           }
          ],
          "scattergeo": [
           {
            "marker": {
             "colorbar": {
              "outlinewidth": 0,
              "ticks": ""
             }
            },
            "type": "scattergeo"
           }
          ],
          "scattergl": [
           {
            "marker": {
             "colorbar": {
              "outlinewidth": 0,
              "ticks": ""
             }
            },
            "type": "scattergl"
           }
          ],
          "scattermapbox": [
           {
            "marker": {
             "colorbar": {
              "outlinewidth": 0,
              "ticks": ""
             }
            },
            "type": "scattermapbox"
           }
          ],
          "scatterpolar": [
           {
            "marker": {
             "colorbar": {
              "outlinewidth": 0,
              "ticks": ""
             }
            },
            "type": "scatterpolar"
           }
          ],
          "scatterpolargl": [
           {
            "marker": {
             "colorbar": {
              "outlinewidth": 0,
              "ticks": ""
             }
            },
            "type": "scatterpolargl"
           }
          ],
          "scatterternary": [
           {
            "marker": {
             "colorbar": {
              "outlinewidth": 0,
              "ticks": ""
             }
            },
            "type": "scatterternary"
           }
          ],
          "surface": [
           {
            "colorbar": {
             "outlinewidth": 0,
             "ticks": ""
            },
            "colorscale": [
             [
              0,
              "#0d0887"
             ],
             [
              0.1111111111111111,
              "#46039f"
             ],
             [
              0.2222222222222222,
              "#7201a8"
             ],
             [
              0.3333333333333333,
              "#9c179e"
             ],
             [
              0.4444444444444444,
              "#bd3786"
             ],
             [
              0.5555555555555556,
              "#d8576b"
             ],
             [
              0.6666666666666666,
              "#ed7953"
             ],
             [
              0.7777777777777778,
              "#fb9f3a"
             ],
             [
              0.8888888888888888,
              "#fdca26"
             ],
             [
              1,
              "#f0f921"
             ]
            ],
            "type": "surface"
           }
          ],
          "table": [
           {
            "cells": {
             "fill": {
              "color": "#EBF0F8"
             },
             "line": {
              "color": "white"
             }
            },
            "header": {
             "fill": {
              "color": "#C8D4E3"
             },
             "line": {
              "color": "white"
             }
            },
            "type": "table"
           }
          ]
         },
         "layout": {
          "annotationdefaults": {
           "arrowcolor": "#2a3f5f",
           "arrowhead": 0,
           "arrowwidth": 1
          },
          "autotypenumbers": "strict",
          "coloraxis": {
           "colorbar": {
            "outlinewidth": 0,
            "ticks": ""
           }
          },
          "colorscale": {
           "diverging": [
            [
             0,
             "#8e0152"
            ],
            [
             0.1,
             "#c51b7d"
            ],
            [
             0.2,
             "#de77ae"
            ],
            [
             0.3,
             "#f1b6da"
            ],
            [
             0.4,
             "#fde0ef"
            ],
            [
             0.5,
             "#f7f7f7"
            ],
            [
             0.6,
             "#e6f5d0"
            ],
            [
             0.7,
             "#b8e186"
            ],
            [
             0.8,
             "#7fbc41"
            ],
            [
             0.9,
             "#4d9221"
            ],
            [
             1,
             "#276419"
            ]
           ],
           "sequential": [
            [
             0,
             "#0d0887"
            ],
            [
             0.1111111111111111,
             "#46039f"
            ],
            [
             0.2222222222222222,
             "#7201a8"
            ],
            [
             0.3333333333333333,
             "#9c179e"
            ],
            [
             0.4444444444444444,
             "#bd3786"
            ],
            [
             0.5555555555555556,
             "#d8576b"
            ],
            [
             0.6666666666666666,
             "#ed7953"
            ],
            [
             0.7777777777777778,
             "#fb9f3a"
            ],
            [
             0.8888888888888888,
             "#fdca26"
            ],
            [
             1,
             "#f0f921"
            ]
           ],
           "sequentialminus": [
            [
             0,
             "#0d0887"
            ],
            [
             0.1111111111111111,
             "#46039f"
            ],
            [
             0.2222222222222222,
             "#7201a8"
            ],
            [
             0.3333333333333333,
             "#9c179e"
            ],
            [
             0.4444444444444444,
             "#bd3786"
            ],
            [
             0.5555555555555556,
             "#d8576b"
            ],
            [
             0.6666666666666666,
             "#ed7953"
            ],
            [
             0.7777777777777778,
             "#fb9f3a"
            ],
            [
             0.8888888888888888,
             "#fdca26"
            ],
            [
             1,
             "#f0f921"
            ]
           ]
          },
          "colorway": [
           "#636efa",
           "#EF553B",
           "#00cc96",
           "#ab63fa",
           "#FFA15A",
           "#19d3f3",
           "#FF6692",
           "#B6E880",
           "#FF97FF",
           "#FECB52"
          ],
          "font": {
           "color": "#2a3f5f"
          },
          "geo": {
           "bgcolor": "white",
           "lakecolor": "white",
           "landcolor": "#E5ECF6",
           "showlakes": true,
           "showland": true,
           "subunitcolor": "white"
          },
          "hoverlabel": {
           "align": "left"
          },
          "hovermode": "closest",
          "mapbox": {
           "style": "light"
          },
          "paper_bgcolor": "white",
          "plot_bgcolor": "#E5ECF6",
          "polar": {
           "angularaxis": {
            "gridcolor": "white",
            "linecolor": "white",
            "ticks": ""
           },
           "bgcolor": "#E5ECF6",
           "radialaxis": {
            "gridcolor": "white",
            "linecolor": "white",
            "ticks": ""
           }
          },
          "scene": {
           "xaxis": {
            "backgroundcolor": "#E5ECF6",
            "gridcolor": "white",
            "gridwidth": 2,
            "linecolor": "white",
            "showbackground": true,
            "ticks": "",
            "zerolinecolor": "white"
           },
           "yaxis": {
            "backgroundcolor": "#E5ECF6",
            "gridcolor": "white",
            "gridwidth": 2,
            "linecolor": "white",
            "showbackground": true,
            "ticks": "",
            "zerolinecolor": "white"
           },
           "zaxis": {
            "backgroundcolor": "#E5ECF6",
            "gridcolor": "white",
            "gridwidth": 2,
            "linecolor": "white",
            "showbackground": true,
            "ticks": "",
            "zerolinecolor": "white"
           }
          },
          "shapedefaults": {
           "line": {
            "color": "#2a3f5f"
           }
          },
          "ternary": {
           "aaxis": {
            "gridcolor": "white",
            "linecolor": "white",
            "ticks": ""
           },
           "baxis": {
            "gridcolor": "white",
            "linecolor": "white",
            "ticks": ""
           },
           "bgcolor": "#E5ECF6",
           "caxis": {
            "gridcolor": "white",
            "linecolor": "white",
            "ticks": ""
           }
          },
          "title": {
           "x": 0.05
          },
          "xaxis": {
           "automargin": true,
           "gridcolor": "white",
           "linecolor": "white",
           "ticks": "",
           "title": {
            "standoff": 15
           },
           "zerolinecolor": "white",
           "zerolinewidth": 2
          },
          "yaxis": {
           "automargin": true,
           "gridcolor": "white",
           "linecolor": "white",
           "ticks": "",
           "title": {
            "standoff": 15
           },
           "zerolinecolor": "white",
           "zerolinewidth": 2
          }
         }
        },
        "xaxis": {
         "anchor": "y",
         "domain": [
          0,
          1
         ],
         "title": {
          "text": "Runtime"
         }
        },
        "yaxis": {
         "anchor": "x",
         "domain": [
          0,
          1
         ],
         "title": {
          "text": "IMDb"
         }
        }
       }
      },
      "text/html": [
       "<div>                            <div id=\"67c5f39a-53cc-44fb-b92d-31a91b6876e4\" class=\"plotly-graph-div\" style=\"height:525px; width:100%;\"></div>            <script type=\"text/javascript\">                require([\"plotly\"], function(Plotly) {                    window.PLOTLYENV=window.PLOTLYENV || {};                                    if (document.getElementById(\"67c5f39a-53cc-44fb-b92d-31a91b6876e4\")) {                    Plotly.newPlot(                        \"67c5f39a-53cc-44fb-b92d-31a91b6876e4\",                        [{\"hovertemplate\": \"<b>%{hovertext}</b><br><br>Title=Saving Mr. Banks<br>Runtime=%{x}<br>IMDb=%{y}<extra></extra>\", \"hovertext\": [\"Saving Mr. Banks\"], \"legendgroup\": \"Saving Mr. Banks\", \"marker\": {\"color\": \"#636efa\", \"symbol\": \"circle\"}, \"mode\": \"markers\", \"name\": \"Saving Mr. Banks\", \"orientation\": \"v\", \"showlegend\": true, \"type\": \"scatter\", \"x\": [125.0], \"xaxis\": \"x\", \"y\": [7.5], \"yaxis\": \"y\"}, {\"hovertemplate\": \"<b>%{hovertext}</b><br><br>Title=Amy<br>Runtime=%{x}<br>IMDb=%{y}<extra></extra>\", \"hovertext\": [\"Amy\"], \"legendgroup\": \"Amy\", \"marker\": {\"color\": \"#EF553B\", \"symbol\": \"circle\"}, \"mode\": \"markers\", \"name\": \"Amy\", \"orientation\": \"v\", \"showlegend\": true, \"type\": \"scatter\", \"x\": [60.0], \"xaxis\": \"x\", \"y\": [7.8], \"yaxis\": \"y\"}, {\"hovertemplate\": \"<b>%{hovertext}</b><br><br>Title=Bolt<br>Runtime=%{x}<br>IMDb=%{y}<extra></extra>\", \"hovertext\": [\"Bolt\"], \"legendgroup\": \"Bolt\", \"marker\": {\"color\": \"#00cc96\", \"symbol\": \"circle\"}, \"mode\": \"markers\", \"name\": \"Bolt\", \"orientation\": \"v\", \"showlegend\": true, \"type\": \"scatter\", \"x\": [96.0], \"xaxis\": \"x\", \"y\": [6.8], \"yaxis\": \"y\"}, {\"hovertemplate\": \"<b>%{hovertext}</b><br><br>Title=The Princess and the Frog<br>Runtime=%{x}<br>IMDb=%{y}<extra></extra>\", \"hovertext\": [\"The Princess and the Frog\"], \"legendgroup\": \"The Princess and the Frog\", \"marker\": {\"color\": \"#ab63fa\", \"symbol\": \"circle\"}, \"mode\": \"markers\", \"name\": \"The Princess and the Frog\", \"orientation\": \"v\", \"showlegend\": true, \"type\": \"scatter\", \"x\": [97.0], \"xaxis\": \"x\", \"y\": [7.1], \"yaxis\": \"y\"}, {\"hovertemplate\": \"<b>%{hovertext}</b><br><br>Title=Miracle<br>Runtime=%{x}<br>IMDb=%{y}<extra></extra>\", \"hovertext\": [\"Miracle\"], \"legendgroup\": \"Miracle\", \"marker\": {\"color\": \"#FFA15A\", \"symbol\": \"circle\"}, \"mode\": \"markers\", \"name\": \"Miracle\", \"orientation\": \"v\", \"showlegend\": true, \"type\": \"scatter\", \"x\": [135.0], \"xaxis\": \"x\", \"y\": [7.5], \"yaxis\": \"y\"}, {\"hovertemplate\": \"<b>%{hovertext}</b><br><br>Title=White Fang<br>Runtime=%{x}<br>IMDb=%{y}<extra></extra>\", \"hovertext\": [\"White Fang\"], \"legendgroup\": \"White Fang\", \"marker\": {\"color\": \"#19d3f3\", \"symbol\": \"circle\"}, \"mode\": \"markers\", \"name\": \"White Fang\", \"orientation\": \"v\", \"showlegend\": true, \"type\": \"scatter\", \"x\": [107.0], \"xaxis\": \"x\", \"y\": [6.9], \"yaxis\": \"y\"}, {\"hovertemplate\": \"<b>%{hovertext}</b><br><br>Title=Chicken Little<br>Runtime=%{x}<br>IMDb=%{y}<extra></extra>\", \"hovertext\": [\"Chicken Little\"], \"legendgroup\": \"Chicken Little\", \"marker\": {\"color\": \"#FF6692\", \"symbol\": \"circle\"}, \"mode\": \"markers\", \"name\": \"Chicken Little\", \"orientation\": \"v\", \"showlegend\": true, \"type\": \"scatter\", \"x\": [81.0], \"xaxis\": \"x\", \"y\": [5.7], \"yaxis\": \"y\"}, {\"hovertemplate\": \"<b>%{hovertext}</b><br><br>Title=Diana: In Her Own Words<br>Runtime=%{x}<br>IMDb=%{y}<extra></extra>\", \"hovertext\": [\"Diana: In Her Own Words\"], \"legendgroup\": \"Diana: In Her Own Words\", \"marker\": {\"color\": \"#B6E880\", \"symbol\": \"circle\"}, \"mode\": \"markers\", \"name\": \"Diana: In Her Own Words\", \"orientation\": \"v\", \"showlegend\": true, \"type\": \"scatter\", \"x\": [112.0], \"xaxis\": \"x\", \"y\": [7.9], \"yaxis\": \"y\"}, {\"hovertemplate\": \"<b>%{hovertext}</b><br><br>Title=The Little Mermaid<br>Runtime=%{x}<br>IMDb=%{y}<extra></extra>\", \"hovertext\": [\"The Little Mermaid\"], \"legendgroup\": \"The Little Mermaid\", \"marker\": {\"color\": \"#FF97FF\", \"symbol\": \"circle\"}, \"mode\": \"markers\", \"name\": \"The Little Mermaid\", \"orientation\": \"v\", \"showlegend\": true, \"type\": \"scatter\", \"x\": [83.0], \"xaxis\": \"x\", \"y\": [4.2], \"yaxis\": \"y\"}, {\"hovertemplate\": \"<b>%{hovertext}</b><br><br>Title=Zapped<br>Runtime=%{x}<br>IMDb=%{y}<extra></extra>\", \"hovertext\": [\"Zapped\"], \"legendgroup\": \"Zapped\", \"marker\": {\"color\": \"#FECB52\", \"symbol\": \"circle\"}, \"mode\": \"markers\", \"name\": \"Zapped\", \"orientation\": \"v\", \"showlegend\": true, \"type\": \"scatter\", \"x\": [102.0], \"xaxis\": \"x\", \"y\": [5.1], \"yaxis\": \"y\"}, {\"hovertemplate\": \"<b>%{hovertext}</b><br><br>Title=Free Solo<br>Runtime=%{x}<br>IMDb=%{y}<extra></extra>\", \"hovertext\": [\"Free Solo\"], \"legendgroup\": \"Free Solo\", \"marker\": {\"color\": \"#636efa\", \"symbol\": \"circle\"}, \"mode\": \"markers\", \"name\": \"Free Solo\", \"orientation\": \"v\", \"showlegend\": true, \"type\": \"scatter\", \"x\": [100.0], \"xaxis\": \"x\", \"y\": [8.2], \"yaxis\": \"y\"}, {\"hovertemplate\": \"<b>%{hovertext}</b><br><br>Title=Jane<br>Runtime=%{x}<br>IMDb=%{y}<extra></extra>\", \"hovertext\": [\"Jane\"], \"legendgroup\": \"Jane\", \"marker\": {\"color\": \"#EF553B\", \"symbol\": \"circle\"}, \"mode\": \"markers\", \"name\": \"Jane\", \"orientation\": \"v\", \"showlegend\": true, \"type\": \"scatter\", \"x\": [120.0], \"xaxis\": \"x\", \"y\": [7.8], \"yaxis\": \"y\"}, {\"hovertemplate\": \"<b>%{hovertext}</b><br><br>Title=The Hunchback of Notre Dame<br>Runtime=%{x}<br>IMDb=%{y}<extra></extra>\", \"hovertext\": [\"The Hunchback of Notre Dame\"], \"legendgroup\": \"The Hunchback of Notre Dame\", \"marker\": {\"color\": \"#00cc96\", \"symbol\": \"circle\"}, \"mode\": \"markers\", \"name\": \"The Hunchback of Notre Dame\", \"orientation\": \"v\", \"showlegend\": true, \"type\": \"scatter\", \"x\": [91.0], \"xaxis\": \"x\", \"y\": [7.3], \"yaxis\": \"y\"}, {\"hovertemplate\": \"<b>%{hovertext}</b><br><br>Title=Teen Spirit<br>Runtime=%{x}<br>IMDb=%{y}<extra></extra>\", \"hovertext\": [\"Teen Spirit\"], \"legendgroup\": \"Teen Spirit\", \"marker\": {\"color\": \"#ab63fa\", \"symbol\": \"circle\"}, \"mode\": \"markers\", \"name\": \"Teen Spirit\", \"orientation\": \"v\", \"showlegend\": true, \"type\": \"scatter\", \"x\": [93.0], \"xaxis\": \"x\", \"y\": [6.1], \"yaxis\": \"y\"}, {\"hovertemplate\": \"<b>%{hovertext}</b><br><br>Title=The Kid<br>Runtime=%{x}<br>IMDb=%{y}<extra></extra>\", \"hovertext\": [\"The Kid\"], \"legendgroup\": \"The Kid\", \"marker\": {\"color\": \"#FFA15A\", \"symbol\": \"circle\"}, \"mode\": \"markers\", \"name\": \"The Kid\", \"orientation\": \"v\", \"showlegend\": true, \"type\": \"scatter\", \"x\": [100.0], \"xaxis\": \"x\", \"y\": [5.9], \"yaxis\": \"y\"}, {\"hovertemplate\": \"<b>%{hovertext}</b><br><br>Title=Inside Out<br>Runtime=%{x}<br>IMDb=%{y}<extra></extra>\", \"hovertext\": [\"Inside Out\"], \"legendgroup\": \"Inside Out\", \"marker\": {\"color\": \"#19d3f3\", \"symbol\": \"circle\"}, \"mode\": \"markers\", \"name\": \"Inside Out\", \"orientation\": \"v\", \"showlegend\": true, \"type\": \"scatter\", \"x\": [95.0], \"xaxis\": \"x\", \"y\": [4.5], \"yaxis\": \"y\"}, {\"hovertemplate\": \"<b>%{hovertext}</b><br><br>Title=The Avengers<br>Runtime=%{x}<br>IMDb=%{y}<extra></extra>\", \"hovertext\": [\"The Avengers\"], \"legendgroup\": \"The Avengers\", \"marker\": {\"color\": \"#FF6692\", \"symbol\": \"circle\"}, \"mode\": \"markers\", \"name\": \"The Avengers\", \"orientation\": \"v\", \"showlegend\": true, \"type\": \"scatter\", \"x\": [143.0], \"xaxis\": \"x\", \"y\": [8.0], \"yaxis\": \"y\"}, {\"hovertemplate\": \"<b>%{hovertext}</b><br><br>Title=Thor<br>Runtime=%{x}<br>IMDb=%{y}<extra></extra>\", \"hovertext\": [\"Thor\"], \"legendgroup\": \"Thor\", \"marker\": {\"color\": \"#B6E880\", \"symbol\": \"circle\"}, \"mode\": \"markers\", \"name\": \"Thor\", \"orientation\": \"v\", \"showlegend\": true, \"type\": \"scatter\", \"x\": [115.0], \"xaxis\": \"x\", \"y\": [7.0], \"yaxis\": \"y\"}, {\"hovertemplate\": \"<b>%{hovertext}</b><br><br>Title=Captain America: The First Avenger<br>Runtime=%{x}<br>IMDb=%{y}<extra></extra>\", \"hovertext\": [\"Captain America: The First Avenger\"], \"legendgroup\": \"Captain America: The First Avenger\", \"marker\": {\"color\": \"#FF97FF\", \"symbol\": \"circle\"}, \"mode\": \"markers\", \"name\": \"Captain America: The First Avenger\", \"orientation\": \"v\", \"showlegend\": true, \"type\": \"scatter\", \"x\": [124.0], \"xaxis\": \"x\", \"y\": [6.9], \"yaxis\": \"y\"}, {\"hovertemplate\": \"<b>%{hovertext}</b><br><br>Title=Iron Man 2<br>Runtime=%{x}<br>IMDb=%{y}<extra></extra>\", \"hovertext\": [\"Iron Man 2\"], \"legendgroup\": \"Iron Man 2\", \"marker\": {\"color\": \"#FECB52\", \"symbol\": \"circle\"}, \"mode\": \"markers\", \"name\": \"Iron Man 2\", \"orientation\": \"v\", \"showlegend\": true, \"type\": \"scatter\", \"x\": [124.0], \"xaxis\": \"x\", \"y\": [7.0], \"yaxis\": \"y\"}, {\"hovertemplate\": \"<b>%{hovertext}</b><br><br>Title=Robin Hood<br>Runtime=%{x}<br>IMDb=%{y}<extra></extra>\", \"hovertext\": [\"Robin Hood\"], \"legendgroup\": \"Robin Hood\", \"marker\": {\"color\": \"#636efa\", \"symbol\": \"circle\"}, \"mode\": \"markers\", \"name\": \"Robin Hood\", \"orientation\": \"v\", \"showlegend\": true, \"type\": \"scatter\", \"x\": [140.0], \"xaxis\": \"x\", \"y\": [7.2], \"yaxis\": \"y\"}, {\"hovertemplate\": \"<b>%{hovertext}</b><br><br>Title=The Three Musketeers<br>Runtime=%{x}<br>IMDb=%{y}<extra></extra>\", \"hovertext\": [\"The Three Musketeers\"], \"legendgroup\": \"The Three Musketeers\", \"marker\": {\"color\": \"#EF553B\", \"symbol\": \"circle\"}, \"mode\": \"markers\", \"name\": \"The Three Musketeers\", \"orientation\": \"v\", \"showlegend\": true, \"type\": \"scatter\", \"x\": [110.0], \"xaxis\": \"x\", \"y\": [7.0], \"yaxis\": \"y\"}, {\"hovertemplate\": \"<b>%{hovertext}</b><br><br>Title=Empire of Dreams: The Story of the Star Wars Trilogy<br>Runtime=%{x}<br>IMDb=%{y}<extra></extra>\", \"hovertext\": [\"Empire of Dreams: The Story of the Star Wars Trilogy\"], \"legendgroup\": \"Empire of Dreams: The Story of the Star Wars Trilogy\", \"marker\": {\"color\": \"#00cc96\", \"symbol\": \"circle\"}, \"mode\": \"markers\", \"name\": \"Empire of Dreams: The Story of the Star Wars Trilogy\", \"orientation\": \"v\", \"showlegend\": true, \"type\": \"scatter\", \"x\": [151.0], \"xaxis\": \"x\", \"y\": [8.3], \"yaxis\": \"y\"}, {\"hovertemplate\": \"<b>%{hovertext}</b><br><br>Title=Cinderella<br>Runtime=%{x}<br>IMDb=%{y}<extra></extra>\", \"hovertext\": [\"Cinderella\"], \"legendgroup\": \"Cinderella\", \"marker\": {\"color\": \"#ab63fa\", \"symbol\": \"circle\"}, \"mode\": \"markers\", \"name\": \"Cinderella\", \"orientation\": \"v\", \"showlegend\": true, \"type\": \"scatter\", \"x\": [105.0], \"xaxis\": \"x\", \"y\": [7.8], \"yaxis\": \"y\"}, {\"hovertemplate\": \"<b>%{hovertext}</b><br><br>Title=Starstruck<br>Runtime=%{x}<br>IMDb=%{y}<extra></extra>\", \"hovertext\": [\"Starstruck\"], \"legendgroup\": \"Starstruck\", \"marker\": {\"color\": \"#FFA15A\", \"symbol\": \"circle\"}, \"mode\": \"markers\", \"name\": \"Starstruck\", \"orientation\": \"v\", \"showlegend\": true, \"type\": \"scatter\", \"x\": [90.0], \"xaxis\": \"x\", \"y\": [7.0], \"yaxis\": \"y\"}, {\"hovertemplate\": \"<b>%{hovertext}</b><br><br>Title=Elephant<br>Runtime=%{x}<br>IMDb=%{y}<extra></extra>\", \"hovertext\": [\"Elephant\"], \"legendgroup\": \"Elephant\", \"marker\": {\"color\": \"#19d3f3\", \"symbol\": \"circle\"}, \"mode\": \"markers\", \"name\": \"Elephant\", \"orientation\": \"v\", \"showlegend\": true, \"type\": \"scatter\", \"x\": [81.0], \"xaxis\": \"x\", \"y\": [7.1], \"yaxis\": \"y\"}, {\"hovertemplate\": \"<b>%{hovertext}</b><br><br>Title=Noelle<br>Runtime=%{x}<br>IMDb=%{y}<extra></extra>\", \"hovertext\": [\"Noelle\"], \"legendgroup\": \"Noelle\", \"marker\": {\"color\": \"#FF6692\", \"symbol\": \"circle\"}, \"mode\": \"markers\", \"name\": \"Noelle\", \"orientation\": \"v\", \"showlegend\": true, \"type\": \"scatter\", \"x\": [100.0], \"xaxis\": \"x\", \"y\": [5.9], \"yaxis\": \"y\"}, {\"hovertemplate\": \"<b>%{hovertext}</b><br><br>Title=The Prince and the Pauper<br>Runtime=%{x}<br>IMDb=%{y}<extra></extra>\", \"hovertext\": [\"The Prince and the Pauper\"], \"legendgroup\": \"The Prince and the Pauper\", \"marker\": {\"color\": \"#B6E880\", \"symbol\": \"circle\"}, \"mode\": \"markers\", \"name\": \"The Prince and the Pauper\", \"orientation\": \"v\", \"showlegend\": true, \"type\": \"scatter\", \"x\": [93.0], \"xaxis\": \"x\", \"y\": [6.5], \"yaxis\": \"y\"}, {\"hovertemplate\": \"<b>%{hovertext}</b><br><br>Title=20,000 Leagues Under the Sea<br>Runtime=%{x}<br>IMDb=%{y}<extra></extra>\", \"hovertext\": [\"20,000 Leagues Under the Sea\"], \"legendgroup\": \"20,000 Leagues Under the Sea\", \"marker\": {\"color\": \"#FF97FF\", \"symbol\": \"circle\"}, \"mode\": \"markers\", \"name\": \"20,000 Leagues Under the Sea\", \"orientation\": \"v\", \"showlegend\": true, \"type\": \"scatter\", \"x\": [127.0], \"xaxis\": \"x\", \"y\": [5.0], \"yaxis\": \"y\"}, {\"hovertemplate\": \"<b>%{hovertext}</b><br><br>Title=Bears<br>Runtime=%{x}<br>IMDb=%{y}<extra></extra>\", \"hovertext\": [\"Bears\"], \"legendgroup\": \"Bears\", \"marker\": {\"color\": \"#FECB52\", \"symbol\": \"circle\"}, \"mode\": \"markers\", \"name\": \"Bears\", \"orientation\": \"v\", \"showlegend\": true, \"type\": \"scatter\", \"x\": [85.0], \"xaxis\": \"x\", \"y\": [7.3], \"yaxis\": \"y\"}, {\"hovertemplate\": \"<b>%{hovertext}</b><br><br>Title=The Swap<br>Runtime=%{x}<br>IMDb=%{y}<extra></extra>\", \"hovertext\": [\"The Swap\"], \"legendgroup\": \"The Swap\", \"marker\": {\"color\": \"#636efa\", \"symbol\": \"circle\"}, \"mode\": \"markers\", \"name\": \"The Swap\", \"orientation\": \"v\", \"showlegend\": true, \"type\": \"scatter\", \"x\": [100.0], \"xaxis\": \"x\", \"y\": [3.4], \"yaxis\": \"y\"}, {\"hovertemplate\": \"<b>%{hovertext}</b><br><br>Title=Sleeping Beauty<br>Runtime=%{x}<br>IMDb=%{y}<extra></extra>\", \"hovertext\": [\"Sleeping Beauty\"], \"legendgroup\": \"Sleeping Beauty\", \"marker\": {\"color\": \"#EF553B\", \"symbol\": \"circle\"}, \"mode\": \"markers\", \"name\": \"Sleeping Beauty\", \"orientation\": \"v\", \"showlegend\": true, \"type\": \"scatter\", \"x\": [101.0], \"xaxis\": \"x\", \"y\": [2.7], \"yaxis\": \"y\"}, {\"hovertemplate\": \"<b>%{hovertext}</b><br><br>Title=Star Wars: A New Hope<br>Runtime=%{x}<br>IMDb=%{y}<extra></extra>\", \"hovertext\": [\"Star Wars: A New Hope\"], \"legendgroup\": \"Star Wars: A New Hope\", \"marker\": {\"color\": \"#00cc96\", \"symbol\": \"circle\"}, \"mode\": \"markers\", \"name\": \"Star Wars: A New Hope\", \"orientation\": \"v\", \"showlegend\": true, \"type\": \"scatter\", \"x\": [121.0], \"xaxis\": \"x\", \"y\": [8.6], \"yaxis\": \"y\"}, {\"hovertemplate\": \"<b>%{hovertext}</b><br><br>Title=Star Wars: The Empire Strikes Back<br>Runtime=%{x}<br>IMDb=%{y}<extra></extra>\", \"hovertext\": [\"Star Wars: The Empire Strikes Back\"], \"legendgroup\": \"Star Wars: The Empire Strikes Back\", \"marker\": {\"color\": \"#ab63fa\", \"symbol\": \"circle\"}, \"mode\": \"markers\", \"name\": \"Star Wars: The Empire Strikes Back\", \"orientation\": \"v\", \"showlegend\": true, \"type\": \"scatter\", \"x\": [124.0], \"xaxis\": \"x\", \"y\": [8.7], \"yaxis\": \"y\"}, {\"hovertemplate\": \"<b>%{hovertext}</b><br><br>Title=The Lion King<br>Runtime=%{x}<br>IMDb=%{y}<extra></extra>\", \"hovertext\": [\"The Lion King\"], \"legendgroup\": \"The Lion King\", \"marker\": {\"color\": \"#FFA15A\", \"symbol\": \"circle\"}, \"mode\": \"markers\", \"name\": \"The Lion King\", \"orientation\": \"v\", \"showlegend\": true, \"type\": \"scatter\", \"x\": [118.0], \"xaxis\": \"x\", \"y\": [8.5], \"yaxis\": \"y\"}, {\"hovertemplate\": \"<b>%{hovertext}</b><br><br>Title=Toy Story<br>Runtime=%{x}<br>IMDb=%{y}<extra></extra>\", \"hovertext\": [\"Toy Story\"], \"legendgroup\": \"Toy Story\", \"marker\": {\"color\": \"#19d3f3\", \"symbol\": \"circle\"}, \"mode\": \"markers\", \"name\": \"Toy Story\", \"orientation\": \"v\", \"showlegend\": true, \"type\": \"scatter\", \"x\": [81.0], \"xaxis\": \"x\", \"y\": [8.3], \"yaxis\": \"y\"}, {\"hovertemplate\": \"<b>%{hovertext}</b><br><br>Title=Avengers: Endgame<br>Runtime=%{x}<br>IMDb=%{y}<extra></extra>\", \"hovertext\": [\"Avengers: Endgame\"], \"legendgroup\": \"Avengers: Endgame\", \"marker\": {\"color\": \"#FF6692\", \"symbol\": \"circle\"}, \"mode\": \"markers\", \"name\": \"Avengers: Endgame\", \"orientation\": \"v\", \"showlegend\": true, \"type\": \"scatter\", \"x\": [181.0], \"xaxis\": \"x\", \"y\": [8.4], \"yaxis\": \"y\"}, {\"hovertemplate\": \"<b>%{hovertext}</b><br><br>Title=WALL\\u00b7E<br>Runtime=%{x}<br>IMDb=%{y}<extra></extra>\", \"hovertext\": [\"WALL\\u00b7E\"], \"legendgroup\": \"WALL\\u00b7E\", \"marker\": {\"color\": \"#B6E880\", \"symbol\": \"circle\"}, \"mode\": \"markers\", \"name\": \"WALL\\u00b7E\", \"orientation\": \"v\", \"showlegend\": true, \"type\": \"scatter\", \"x\": [98.0], \"xaxis\": \"x\", \"y\": [8.4], \"yaxis\": \"y\"}, {\"hovertemplate\": \"<b>%{hovertext}</b><br><br>Title=Up<br>Runtime=%{x}<br>IMDb=%{y}<extra></extra>\", \"hovertext\": [\"Up\"], \"legendgroup\": \"Up\", \"marker\": {\"color\": \"#FF97FF\", \"symbol\": \"circle\"}, \"mode\": \"markers\", \"name\": \"Up\", \"orientation\": \"v\", \"showlegend\": true, \"type\": \"scatter\", \"x\": [96.0], \"xaxis\": \"x\", \"y\": [8.2], \"yaxis\": \"y\"}, {\"hovertemplate\": \"<b>%{hovertext}</b><br><br>Title=Guardians of the Galaxy<br>Runtime=%{x}<br>IMDb=%{y}<extra></extra>\", \"hovertext\": [\"Guardians of the Galaxy\"], \"legendgroup\": \"Guardians of the Galaxy\", \"marker\": {\"color\": \"#FECB52\", \"symbol\": \"circle\"}, \"mode\": \"markers\", \"name\": \"Guardians of the Galaxy\", \"orientation\": \"v\", \"showlegend\": true, \"type\": \"scatter\", \"x\": [121.0], \"xaxis\": \"x\", \"y\": [8.0], \"yaxis\": \"y\"}, {\"hovertemplate\": \"<b>%{hovertext}</b><br><br>Title=Finding Nemo<br>Runtime=%{x}<br>IMDb=%{y}<extra></extra>\", \"hovertext\": [\"Finding Nemo\"], \"legendgroup\": \"Finding Nemo\", \"marker\": {\"color\": \"#636efa\", \"symbol\": \"circle\"}, \"mode\": \"markers\", \"name\": \"Finding Nemo\", \"orientation\": \"v\", \"showlegend\": true, \"type\": \"scatter\", \"x\": [100.0], \"xaxis\": \"x\", \"y\": [8.1], \"yaxis\": \"y\"}, {\"hovertemplate\": \"<b>%{hovertext}</b><br><br>Title=Coco<br>Runtime=%{x}<br>IMDb=%{y}<extra></extra>\", \"hovertext\": [\"Coco\"], \"legendgroup\": \"Coco\", \"marker\": {\"color\": \"#EF553B\", \"symbol\": \"circle\"}, \"mode\": \"markers\", \"name\": \"Coco\", \"orientation\": \"v\", \"showlegend\": true, \"type\": \"scatter\", \"x\": [105.0], \"xaxis\": \"x\", \"y\": [8.4], \"yaxis\": \"y\"}, {\"hovertemplate\": \"<b>%{hovertext}</b><br><br>Title=Toy Story 3<br>Runtime=%{x}<br>IMDb=%{y}<extra></extra>\", \"hovertext\": [\"Toy Story 3\"], \"legendgroup\": \"Toy Story 3\", \"marker\": {\"color\": \"#00cc96\", \"symbol\": \"circle\"}, \"mode\": \"markers\", \"name\": \"Toy Story 3\", \"orientation\": \"v\", \"showlegend\": true, \"type\": \"scatter\", \"x\": [103.0], \"xaxis\": \"x\", \"y\": [8.3], \"yaxis\": \"y\"}, {\"hovertemplate\": \"<b>%{hovertext}</b><br><br>Title=Monsters, Inc.<br>Runtime=%{x}<br>IMDb=%{y}<extra></extra>\", \"hovertext\": [\"Monsters, Inc.\"], \"legendgroup\": \"Monsters, Inc.\", \"marker\": {\"color\": \"#ab63fa\", \"symbol\": \"circle\"}, \"mode\": \"markers\", \"name\": \"Monsters, Inc.\", \"orientation\": \"v\", \"showlegend\": true, \"type\": \"scatter\", \"x\": [92.0], \"xaxis\": \"x\", \"y\": [8.0], \"yaxis\": \"y\"}, {\"hovertemplate\": \"<b>%{hovertext}</b><br><br>Title=Star Wars: Return of the Jedi<br>Runtime=%{x}<br>IMDb=%{y}<extra></extra>\", \"hovertext\": [\"Star Wars: Return of the Jedi\"], \"legendgroup\": \"Star Wars: Return of the Jedi\", \"marker\": {\"color\": \"#FFA15A\", \"symbol\": \"circle\"}, \"mode\": \"markers\", \"name\": \"Star Wars: Return of the Jedi\", \"orientation\": \"v\", \"showlegend\": true, \"type\": \"scatter\", \"x\": [131.0], \"xaxis\": \"x\", \"y\": [8.3], \"yaxis\": \"y\"}, {\"hovertemplate\": \"<b>%{hovertext}</b><br><br>Title=Zootopia<br>Runtime=%{x}<br>IMDb=%{y}<extra></extra>\", \"hovertext\": [\"Zootopia\"], \"legendgroup\": \"Zootopia\", \"marker\": {\"color\": \"#19d3f3\", \"symbol\": \"circle\"}, \"mode\": \"markers\", \"name\": \"Zootopia\", \"orientation\": \"v\", \"showlegend\": true, \"type\": \"scatter\", \"x\": [108.0], \"xaxis\": \"x\", \"y\": [8.0], \"yaxis\": \"y\"}, {\"hovertemplate\": \"<b>%{hovertext}</b><br><br>Title=Star Wars: The Force Awakens<br>Runtime=%{x}<br>IMDb=%{y}<extra></extra>\", \"hovertext\": [\"Star Wars: The Force Awakens\"], \"legendgroup\": \"Star Wars: The Force Awakens\", \"marker\": {\"color\": \"#FF6692\", \"symbol\": \"circle\"}, \"mode\": \"markers\", \"name\": \"Star Wars: The Force Awakens\", \"orientation\": \"v\", \"showlegend\": true, \"type\": \"scatter\", \"x\": [138.0], \"xaxis\": \"x\", \"y\": [7.9], \"yaxis\": \"y\"}, {\"hovertemplate\": \"<b>%{hovertext}</b><br><br>Title=Captain America: Civil War<br>Runtime=%{x}<br>IMDb=%{y}<extra></extra>\", \"hovertext\": [\"Captain America: Civil War\"], \"legendgroup\": \"Captain America: Civil War\", \"marker\": {\"color\": \"#B6E880\", \"symbol\": \"circle\"}, \"mode\": \"markers\", \"name\": \"Captain America: Civil War\", \"orientation\": \"v\", \"showlegend\": true, \"type\": \"scatter\", \"x\": [147.0], \"xaxis\": \"x\", \"y\": [7.8], \"yaxis\": \"y\"}, {\"hovertemplate\": \"<b>%{hovertext}</b><br><br>Title=Thor: Ragnarok<br>Runtime=%{x}<br>IMDb=%{y}<extra></extra>\", \"hovertext\": [\"Thor: Ragnarok\"], \"legendgroup\": \"Thor: Ragnarok\", \"marker\": {\"color\": \"#FF97FF\", \"symbol\": \"circle\"}, \"mode\": \"markers\", \"name\": \"Thor: Ragnarok\", \"orientation\": \"v\", \"showlegend\": true, \"type\": \"scatter\", \"x\": [130.0], \"xaxis\": \"x\", \"y\": [7.9], \"yaxis\": \"y\"}, {\"hovertemplate\": \"<b>%{hovertext}</b><br><br>Title=The Princess Bride<br>Runtime=%{x}<br>IMDb=%{y}<extra></extra>\", \"hovertext\": [\"The Princess Bride\"], \"legendgroup\": \"The Princess Bride\", \"marker\": {\"color\": \"#FECB52\", \"symbol\": \"circle\"}, \"mode\": \"markers\", \"name\": \"The Princess Bride\", \"orientation\": \"v\", \"showlegend\": true, \"type\": \"scatter\", \"x\": [98.0], \"xaxis\": \"x\", \"y\": [8.1], \"yaxis\": \"y\"}, {\"hovertemplate\": \"<b>%{hovertext}</b><br><br>Title=Ratatouille<br>Runtime=%{x}<br>IMDb=%{y}<extra></extra>\", \"hovertext\": [\"Ratatouille\"], \"legendgroup\": \"Ratatouille\", \"marker\": {\"color\": \"#636efa\", \"symbol\": \"circle\"}, \"mode\": \"markers\", \"name\": \"Ratatouille\", \"orientation\": \"v\", \"showlegend\": true, \"type\": \"scatter\", \"x\": [111.0], \"xaxis\": \"x\", \"y\": [8.0], \"yaxis\": \"y\"}, {\"hovertemplate\": \"<b>%{hovertext}</b><br><br>Title=Captain America: The Winter Soldier<br>Runtime=%{x}<br>IMDb=%{y}<extra></extra>\", \"hovertext\": [\"Captain America: The Winter Soldier\"], \"legendgroup\": \"Captain America: The Winter Soldier\", \"marker\": {\"color\": \"#EF553B\", \"symbol\": \"circle\"}, \"mode\": \"markers\", \"name\": \"Captain America: The Winter Soldier\", \"orientation\": \"v\", \"showlegend\": true, \"type\": \"scatter\", \"x\": [136.0], \"xaxis\": \"x\", \"y\": [7.7], \"yaxis\": \"y\"}, {\"hovertemplate\": \"<b>%{hovertext}</b><br><br>Title=Aladdin<br>Runtime=%{x}<br>IMDb=%{y}<extra></extra>\", \"hovertext\": [\"Aladdin\"], \"legendgroup\": \"Aladdin\", \"marker\": {\"color\": \"#00cc96\", \"symbol\": \"circle\"}, \"mode\": \"markers\", \"name\": \"Aladdin\", \"orientation\": \"v\", \"showlegend\": true, \"type\": \"scatter\", \"x\": [128.0], \"xaxis\": \"x\", \"y\": [8.0], \"yaxis\": \"y\"}, {\"hovertemplate\": \"<b>%{hovertext}</b><br><br>Title=Toy Story 2<br>Runtime=%{x}<br>IMDb=%{y}<extra></extra>\", \"hovertext\": [\"Toy Story 2\"], \"legendgroup\": \"Toy Story 2\", \"marker\": {\"color\": \"#ab63fa\", \"symbol\": \"circle\"}, \"mode\": \"markers\", \"name\": \"Toy Story 2\", \"orientation\": \"v\", \"showlegend\": true, \"type\": \"scatter\", \"x\": [92.0], \"xaxis\": \"x\", \"y\": [7.9], \"yaxis\": \"y\"}, {\"hovertemplate\": \"<b>%{hovertext}</b><br><br>Title=The Incredibles<br>Runtime=%{x}<br>IMDb=%{y}<extra></extra>\", \"hovertext\": [\"The Incredibles\"], \"legendgroup\": \"The Incredibles\", \"marker\": {\"color\": \"#FFA15A\", \"symbol\": \"circle\"}, \"mode\": \"markers\", \"name\": \"The Incredibles\", \"orientation\": \"v\", \"showlegend\": true, \"type\": \"scatter\", \"x\": [115.0], \"xaxis\": \"x\", \"y\": [8.0], \"yaxis\": \"y\"}, {\"hovertemplate\": \"<b>%{hovertext}</b><br><br>Title=Pirates of the Caribbean: The Curse of the Black Pearl<br>Runtime=%{x}<br>IMDb=%{y}<extra></extra>\", \"hovertext\": [\"Pirates of the Caribbean: The Curse of the Black Pearl\"], \"legendgroup\": \"Pirates of the Caribbean: The Curse of the Black Pearl\", \"marker\": {\"color\": \"#19d3f3\", \"symbol\": \"circle\"}, \"mode\": \"markers\", \"name\": \"Pirates of the Caribbean: The Curse of the Black Pearl\", \"orientation\": \"v\", \"showlegend\": true, \"type\": \"scatter\", \"x\": [143.0], \"xaxis\": \"x\", \"y\": [8.0], \"yaxis\": \"y\"}, {\"hovertemplate\": \"<b>%{hovertext}</b><br><br>Title=Avatar<br>Runtime=%{x}<br>IMDb=%{y}<extra></extra>\", \"hovertext\": [\"Avatar\"], \"legendgroup\": \"Avatar\", \"marker\": {\"color\": \"#FF6692\", \"symbol\": \"circle\"}, \"mode\": \"markers\", \"name\": \"Avatar\", \"orientation\": \"v\", \"showlegend\": true, \"type\": \"scatter\", \"x\": [23.0], \"xaxis\": \"x\", \"y\": [7.8], \"yaxis\": \"y\"}, {\"hovertemplate\": \"<b>%{hovertext}</b><br><br>Title=Big Hero 6<br>Runtime=%{x}<br>IMDb=%{y}<extra></extra>\", \"hovertext\": [\"Big Hero 6\"], \"legendgroup\": \"Big Hero 6\", \"marker\": {\"color\": \"#B6E880\", \"symbol\": \"circle\"}, \"mode\": \"markers\", \"name\": \"Big Hero 6\", \"orientation\": \"v\", \"showlegend\": true, \"type\": \"scatter\", \"x\": [102.0], \"xaxis\": \"x\", \"y\": [7.8], \"yaxis\": \"y\"}, {\"hovertemplate\": \"<b>%{hovertext}</b><br><br>Title=Doctor Strange<br>Runtime=%{x}<br>IMDb=%{y}<extra></extra>\", \"hovertext\": [\"Doctor Strange\"], \"legendgroup\": \"Doctor Strange\", \"marker\": {\"color\": \"#FF97FF\", \"symbol\": \"circle\"}, \"mode\": \"markers\", \"name\": \"Doctor Strange\", \"orientation\": \"v\", \"showlegend\": true, \"type\": \"scatter\", \"x\": [115.0], \"xaxis\": \"x\", \"y\": [7.5], \"yaxis\": \"y\"}, {\"hovertemplate\": \"<b>%{hovertext}</b><br><br>Title=Guardians of the Galaxy Vol. 2<br>Runtime=%{x}<br>IMDb=%{y}<extra></extra>\", \"hovertext\": [\"Guardians of the Galaxy Vol. 2\"], \"legendgroup\": \"Guardians of the Galaxy Vol. 2\", \"marker\": {\"color\": \"#FECB52\", \"symbol\": \"circle\"}, \"mode\": \"markers\", \"name\": \"Guardians of the Galaxy Vol. 2\", \"orientation\": \"v\", \"showlegend\": true, \"type\": \"scatter\", \"x\": [136.0], \"xaxis\": \"x\", \"y\": [7.6], \"yaxis\": \"y\"}, {\"hovertemplate\": \"<b>%{hovertext}</b><br><br>Title=Rogue One: A Star Wars Story<br>Runtime=%{x}<br>IMDb=%{y}<extra></extra>\", \"hovertext\": [\"Rogue One: A Star Wars Story\"], \"legendgroup\": \"Rogue One: A Star Wars Story\", \"marker\": {\"color\": \"#636efa\", \"symbol\": \"circle\"}, \"mode\": \"markers\", \"name\": \"Rogue One: A Star Wars Story\", \"orientation\": \"v\", \"showlegend\": true, \"type\": \"scatter\", \"x\": [133.0], \"xaxis\": \"x\", \"y\": [7.8], \"yaxis\": \"y\"}, {\"hovertemplate\": \"<b>%{hovertext}</b><br><br>Title=Toy Story 4<br>Runtime=%{x}<br>IMDb=%{y}<extra></extra>\", \"hovertext\": [\"Toy Story 4\"], \"legendgroup\": \"Toy Story 4\", \"marker\": {\"color\": \"#EF553B\", \"symbol\": \"circle\"}, \"mode\": \"markers\", \"name\": \"Toy Story 4\", \"orientation\": \"v\", \"showlegend\": true, \"type\": \"scatter\", \"x\": [100.0], \"xaxis\": \"x\", \"y\": [7.8], \"yaxis\": \"y\"}, {\"hovertemplate\": \"<b>%{hovertext}</b><br><br>Title=Moana<br>Runtime=%{x}<br>IMDb=%{y}<extra></extra>\", \"hovertext\": [\"Moana\"], \"legendgroup\": \"Moana\", \"marker\": {\"color\": \"#00cc96\", \"symbol\": \"circle\"}, \"mode\": \"markers\", \"name\": \"Moana\", \"orientation\": \"v\", \"showlegend\": true, \"type\": \"scatter\", \"x\": [107.0], \"xaxis\": \"x\", \"y\": [7.6], \"yaxis\": \"y\"}, {\"hovertemplate\": \"<b>%{hovertext}</b><br><br>Title=Frozen<br>Runtime=%{x}<br>IMDb=%{y}<extra></extra>\", \"hovertext\": [\"Frozen\"], \"legendgroup\": \"Frozen\", \"marker\": {\"color\": \"#ab63fa\", \"symbol\": \"circle\"}, \"mode\": \"markers\", \"name\": \"Frozen\", \"orientation\": \"v\", \"showlegend\": true, \"type\": \"scatter\", \"x\": [102.0], \"xaxis\": \"x\", \"y\": [7.4], \"yaxis\": \"y\"}, {\"hovertemplate\": \"<b>%{hovertext}</b><br><br>Title=The Nightmare Before Christmas<br>Runtime=%{x}<br>IMDb=%{y}<extra></extra>\", \"hovertext\": [\"The Nightmare Before Christmas\"], \"legendgroup\": \"The Nightmare Before Christmas\", \"marker\": {\"color\": \"#FFA15A\", \"symbol\": \"circle\"}, \"mode\": \"markers\", \"name\": \"The Nightmare Before Christmas\", \"orientation\": \"v\", \"showlegend\": true, \"type\": \"scatter\", \"x\": [76.0], \"xaxis\": \"x\", \"y\": [8.0], \"yaxis\": \"y\"}, {\"hovertemplate\": \"<b>%{hovertext}</b><br><br>Title=Black Panther<br>Runtime=%{x}<br>IMDb=%{y}<extra></extra>\", \"hovertext\": [\"Black Panther\"], \"legendgroup\": \"Black Panther\", \"marker\": {\"color\": \"#19d3f3\", \"symbol\": \"circle\"}, \"mode\": \"markers\", \"name\": \"Black Panther\", \"orientation\": \"v\", \"showlegend\": true, \"type\": \"scatter\", \"x\": [134.0], \"xaxis\": \"x\", \"y\": [7.3], \"yaxis\": \"y\"}, {\"hovertemplate\": \"<b>%{hovertext}</b><br><br>Title=Tangled<br>Runtime=%{x}<br>IMDb=%{y}<extra></extra>\", \"hovertext\": [\"Tangled\"], \"legendgroup\": \"Tangled\", \"marker\": {\"color\": \"#FF6692\", \"symbol\": \"circle\"}, \"mode\": \"markers\", \"name\": \"Tangled\", \"orientation\": \"v\", \"showlegend\": true, \"type\": \"scatter\", \"x\": [100.0], \"xaxis\": \"x\", \"y\": [7.7], \"yaxis\": \"y\"}, {\"hovertemplate\": \"<b>%{hovertext}</b><br><br>Title=Wreck-It Ralph<br>Runtime=%{x}<br>IMDb=%{y}<extra></extra>\", \"hovertext\": [\"Wreck-It Ralph\"], \"legendgroup\": \"Wreck-It Ralph\", \"marker\": {\"color\": \"#B6E880\", \"symbol\": \"circle\"}, \"mode\": \"markers\", \"name\": \"Wreck-It Ralph\", \"orientation\": \"v\", \"showlegend\": true, \"type\": \"scatter\", \"x\": [101.0], \"xaxis\": \"x\", \"y\": [7.7], \"yaxis\": \"y\"}, {\"hovertemplate\": \"<b>%{hovertext}</b><br><br>Title=Ant-Man<br>Runtime=%{x}<br>IMDb=%{y}<extra></extra>\", \"hovertext\": [\"Ant-Man\"], \"legendgroup\": \"Ant-Man\", \"marker\": {\"color\": \"#FF97FF\", \"symbol\": \"circle\"}, \"mode\": \"markers\", \"name\": \"Ant-Man\", \"orientation\": \"v\", \"showlegend\": true, \"type\": \"scatter\", \"x\": [117.0], \"xaxis\": \"x\", \"y\": [7.3], \"yaxis\": \"y\"}, {\"hovertemplate\": \"<b>%{hovertext}</b><br><br>Title=Onward<br>Runtime=%{x}<br>IMDb=%{y}<extra></extra>\", \"hovertext\": [\"Onward\"], \"legendgroup\": \"Onward\", \"marker\": {\"color\": \"#FECB52\", \"symbol\": \"circle\"}, \"mode\": \"markers\", \"name\": \"Onward\", \"orientation\": \"v\", \"showlegend\": true, \"type\": \"scatter\", \"x\": [102.0], \"xaxis\": \"x\", \"y\": [7.5], \"yaxis\": \"y\"}, {\"hovertemplate\": \"<b>%{hovertext}</b><br><br>Title=Avengers: Age of Ultron<br>Runtime=%{x}<br>IMDb=%{y}<extra></extra>\", \"hovertext\": [\"Avengers: Age of Ultron\"], \"legendgroup\": \"Avengers: Age of Ultron\", \"marker\": {\"color\": \"#636efa\", \"symbol\": \"circle\"}, \"mode\": \"markers\", \"name\": \"Avengers: Age of Ultron\", \"orientation\": \"v\", \"showlegend\": true, \"type\": \"scatter\", \"x\": [141.0], \"xaxis\": \"x\", \"y\": [7.3], \"yaxis\": \"y\"}, {\"hovertemplate\": \"<b>%{hovertext}</b><br><br>Title=Mary Poppins<br>Runtime=%{x}<br>IMDb=%{y}<extra></extra>\", \"hovertext\": [\"Mary Poppins\"], \"legendgroup\": \"Mary Poppins\", \"marker\": {\"color\": \"#EF553B\", \"symbol\": \"circle\"}, \"mode\": \"markers\", \"name\": \"Mary Poppins\", \"orientation\": \"v\", \"showlegend\": true, \"type\": \"scatter\", \"x\": [139.0], \"xaxis\": \"x\", \"y\": [7.8], \"yaxis\": \"y\"}, {\"hovertemplate\": \"<b>%{hovertext}</b><br><br>Title=Finding Dory<br>Runtime=%{x}<br>IMDb=%{y}<extra></extra>\", \"hovertext\": [\"Finding Dory\"], \"legendgroup\": \"Finding Dory\", \"marker\": {\"color\": \"#00cc96\", \"symbol\": \"circle\"}, \"mode\": \"markers\", \"name\": \"Finding Dory\", \"orientation\": \"v\", \"showlegend\": true, \"type\": \"scatter\", \"x\": [97.0], \"xaxis\": \"x\", \"y\": [7.3], \"yaxis\": \"y\"}, {\"hovertemplate\": \"<b>%{hovertext}</b><br><br>Title=Who Framed Roger Rabbit<br>Runtime=%{x}<br>IMDb=%{y}<extra></extra>\", \"hovertext\": [\"Who Framed Roger Rabbit\"], \"legendgroup\": \"Who Framed Roger Rabbit\", \"marker\": {\"color\": \"#ab63fa\", \"symbol\": \"circle\"}, \"mode\": \"markers\", \"name\": \"Who Framed Roger Rabbit\", \"orientation\": \"v\", \"showlegend\": true, \"type\": \"scatter\", \"x\": [104.0], \"xaxis\": \"x\", \"y\": [7.7], \"yaxis\": \"y\"}, {\"hovertemplate\": \"<b>%{hovertext}</b><br><br>Title=Mulan<br>Runtime=%{x}<br>IMDb=%{y}<extra></extra>\", \"hovertext\": [\"Mulan\"], \"legendgroup\": \"Mulan\", \"marker\": {\"color\": \"#FFA15A\", \"symbol\": \"circle\"}, \"mode\": \"markers\", \"name\": \"Mulan\", \"orientation\": \"v\", \"showlegend\": true, \"type\": \"scatter\", \"x\": [115.0], \"xaxis\": \"x\", \"y\": [7.6], \"yaxis\": \"y\"}, {\"hovertemplate\": \"<b>%{hovertext}</b><br><br>Title=Iron Man 3<br>Runtime=%{x}<br>IMDb=%{y}<extra></extra>\", \"hovertext\": [\"Iron Man 3\"], \"legendgroup\": \"Iron Man 3\", \"marker\": {\"color\": \"#19d3f3\", \"symbol\": \"circle\"}, \"mode\": \"markers\", \"name\": \"Iron Man 3\", \"orientation\": \"v\", \"showlegend\": true, \"type\": \"scatter\", \"x\": [130.0], \"xaxis\": \"x\", \"y\": [7.2], \"yaxis\": \"y\"}, {\"hovertemplate\": \"<b>%{hovertext}</b><br><br>Title=The Sound of Music<br>Runtime=%{x}<br>IMDb=%{y}<extra></extra>\", \"hovertext\": [\"The Sound of Music\"], \"legendgroup\": \"The Sound of Music\", \"marker\": {\"color\": \"#FF6692\", \"symbol\": \"circle\"}, \"mode\": \"markers\", \"name\": \"The Sound of Music\", \"orientation\": \"v\", \"showlegend\": true, \"type\": \"scatter\", \"x\": [172.0], \"xaxis\": \"x\", \"y\": [8.0], \"yaxis\": \"y\"}, {\"hovertemplate\": \"<b>%{hovertext}</b><br><br>Title=Ice Age<br>Runtime=%{x}<br>IMDb=%{y}<extra></extra>\", \"hovertext\": [\"Ice Age\"], \"legendgroup\": \"Ice Age\", \"marker\": {\"color\": \"#B6E880\", \"symbol\": \"circle\"}, \"mode\": \"markers\", \"name\": \"Ice Age\", \"orientation\": \"v\", \"showlegend\": true, \"type\": \"scatter\", \"x\": [81.0], \"xaxis\": \"x\", \"y\": [7.5], \"yaxis\": \"y\"}, {\"hovertemplate\": \"<b>%{hovertext}</b><br><br>Title=Cars<br>Runtime=%{x}<br>IMDb=%{y}<extra></extra>\", \"hovertext\": [\"Cars\"], \"legendgroup\": \"Cars\", \"marker\": {\"color\": \"#FF97FF\", \"symbol\": \"circle\"}, \"mode\": \"markers\", \"name\": \"Cars\", \"orientation\": \"v\", \"showlegend\": true, \"type\": \"scatter\", \"x\": [117.0], \"xaxis\": \"x\", \"y\": [7.1], \"yaxis\": \"y\"}, {\"hovertemplate\": \"<b>%{hovertext}</b><br><br>Title=Snow White and the Seven Dwarfs<br>Runtime=%{x}<br>IMDb=%{y}<extra></extra>\", \"hovertext\": [\"Snow White and the Seven Dwarfs\"], \"legendgroup\": \"Snow White and the Seven Dwarfs\", \"marker\": {\"color\": \"#FECB52\", \"symbol\": \"circle\"}, \"mode\": \"markers\", \"name\": \"Snow White and the Seven Dwarfs\", \"orientation\": \"v\", \"showlegend\": true, \"type\": \"scatter\", \"x\": [83.0], \"xaxis\": \"x\", \"y\": [7.6], \"yaxis\": \"y\"}, {\"hovertemplate\": \"<b>%{hovertext}</b><br><br>Title=Monsters University<br>Runtime=%{x}<br>IMDb=%{y}<extra></extra>\", \"hovertext\": [\"Monsters University\"], \"legendgroup\": \"Monsters University\", \"marker\": {\"color\": \"#636efa\", \"symbol\": \"circle\"}, \"mode\": \"markers\", \"name\": \"Monsters University\", \"orientation\": \"v\", \"showlegend\": true, \"type\": \"scatter\", \"x\": [104.0], \"xaxis\": \"x\", \"y\": [7.3], \"yaxis\": \"y\"}, {\"hovertemplate\": \"<b>%{hovertext}</b><br><br>Title=Frozen II<br>Runtime=%{x}<br>IMDb=%{y}<extra></extra>\", \"hovertext\": [\"Frozen II\"], \"legendgroup\": \"Frozen II\", \"marker\": {\"color\": \"#EF553B\", \"symbol\": \"circle\"}, \"mode\": \"markers\", \"name\": \"Frozen II\", \"orientation\": \"v\", \"showlegend\": true, \"type\": \"scatter\", \"x\": [103.0], \"xaxis\": \"x\", \"y\": [6.9], \"yaxis\": \"y\"}, {\"hovertemplate\": \"<b>%{hovertext}</b><br><br>Title=Togo<br>Runtime=%{x}<br>IMDb=%{y}<extra></extra>\", \"hovertext\": [\"Togo\"], \"legendgroup\": \"Togo\", \"marker\": {\"color\": \"#00cc96\", \"symbol\": \"circle\"}, \"mode\": \"markers\", \"name\": \"Togo\", \"orientation\": \"v\", \"showlegend\": true, \"type\": \"scatter\", \"x\": [113.0], \"xaxis\": \"x\", \"y\": [8.1], \"yaxis\": \"y\"}, {\"hovertemplate\": \"<b>%{hovertext}</b><br><br>Title=A Bug's Life<br>Runtime=%{x}<br>IMDb=%{y}<extra></extra>\", \"hovertext\": [\"A Bug's Life\"], \"legendgroup\": \"A Bug's Life\", \"marker\": {\"color\": \"#ab63fa\", \"symbol\": \"circle\"}, \"mode\": \"markers\", \"name\": \"A Bug's Life\", \"orientation\": \"v\", \"showlegend\": true, \"type\": \"scatter\", \"x\": [95.0], \"xaxis\": \"x\", \"y\": [7.2], \"yaxis\": \"y\"}, {\"hovertemplate\": \"<b>%{hovertext}</b><br><br>Title=The Jungle Book<br>Runtime=%{x}<br>IMDb=%{y}<extra></extra>\", \"hovertext\": [\"The Jungle Book\"], \"legendgroup\": \"The Jungle Book\", \"marker\": {\"color\": \"#FFA15A\", \"symbol\": \"circle\"}, \"mode\": \"markers\", \"name\": \"The Jungle Book\", \"orientation\": \"v\", \"showlegend\": true, \"type\": \"scatter\", \"x\": [106.0], \"xaxis\": \"x\", \"y\": [7.6], \"yaxis\": \"y\"}, {\"hovertemplate\": \"<b>%{hovertext}</b><br><br>Title=Remember the Titans<br>Runtime=%{x}<br>IMDb=%{y}<extra></extra>\", \"hovertext\": [\"Remember the Titans\"], \"legendgroup\": \"Remember the Titans\", \"marker\": {\"color\": \"#19d3f3\", \"symbol\": \"circle\"}, \"mode\": \"markers\", \"name\": \"Remember the Titans\", \"orientation\": \"v\", \"showlegend\": true, \"type\": \"scatter\", \"x\": [113.0], \"xaxis\": \"x\", \"y\": [7.8], \"yaxis\": \"y\"}, {\"hovertemplate\": \"<b>%{hovertext}</b><br><br>Title=Brave<br>Runtime=%{x}<br>IMDb=%{y}<extra></extra>\", \"hovertext\": [\"Brave\"], \"legendgroup\": \"Brave\", \"marker\": {\"color\": \"#FF6692\", \"symbol\": \"circle\"}, \"mode\": \"markers\", \"name\": \"Brave\", \"orientation\": \"v\", \"showlegend\": true, \"type\": \"scatter\", \"x\": [93.0], \"xaxis\": \"x\", \"y\": [7.1], \"yaxis\": \"y\"}, {\"hovertemplate\": \"<b>%{hovertext}</b><br><br>Title=The Simpsons Movie<br>Runtime=%{x}<br>IMDb=%{y}<extra></extra>\", \"hovertext\": [\"The Simpsons Movie\"], \"legendgroup\": \"The Simpsons Movie\", \"marker\": {\"color\": \"#B6E880\", \"symbol\": \"circle\"}, \"mode\": \"markers\", \"name\": \"The Simpsons Movie\", \"orientation\": \"v\", \"showlegend\": true, \"type\": \"scatter\", \"x\": [87.0], \"xaxis\": \"x\", \"y\": [7.3], \"yaxis\": \"y\"}, {\"hovertemplate\": \"<b>%{hovertext}</b><br><br>Title=Fantasia<br>Runtime=%{x}<br>IMDb=%{y}<extra></extra>\", \"hovertext\": [\"Fantasia\"], \"legendgroup\": \"Fantasia\", \"marker\": {\"color\": \"#FF97FF\", \"symbol\": \"circle\"}, \"mode\": \"markers\", \"name\": \"Fantasia\", \"orientation\": \"v\", \"showlegend\": true, \"type\": \"scatter\", \"x\": [125.0], \"xaxis\": \"x\", \"y\": [7.8], \"yaxis\": \"y\"}, {\"hovertemplate\": \"<b>%{hovertext}</b><br><br>Title=The Emperor's New Groove<br>Runtime=%{x}<br>IMDb=%{y}<extra></extra>\", \"hovertext\": [\"The Emperor's New Groove\"], \"legendgroup\": \"The Emperor's New Groove\", \"marker\": {\"color\": \"#FECB52\", \"symbol\": \"circle\"}, \"mode\": \"markers\", \"name\": \"The Emperor's New Groove\", \"orientation\": \"v\", \"showlegend\": true, \"type\": \"scatter\", \"x\": [78.0], \"xaxis\": \"x\", \"y\": [7.3], \"yaxis\": \"y\"}, {\"hovertemplate\": \"<b>%{hovertext}</b><br><br>Title=The Straight Story<br>Runtime=%{x}<br>IMDb=%{y}<extra></extra>\", \"hovertext\": [\"The Straight Story\"], \"legendgroup\": \"The Straight Story\", \"marker\": {\"color\": \"#636efa\", \"symbol\": \"circle\"}, \"mode\": \"markers\", \"name\": \"The Straight Story\", \"orientation\": \"v\", \"showlegend\": true, \"type\": \"scatter\", \"x\": [112.0], \"xaxis\": \"x\", \"y\": [8.0], \"yaxis\": \"y\"}, {\"hovertemplate\": \"<b>%{hovertext}</b><br><br>Title=One Hundred and One Dalmatians<br>Runtime=%{x}<br>IMDb=%{y}<extra></extra>\", \"hovertext\": [\"One Hundred and One Dalmatians\"], \"legendgroup\": \"One Hundred and One Dalmatians\", \"marker\": {\"color\": \"#EF553B\", \"symbol\": \"circle\"}, \"mode\": \"markers\", \"name\": \"One Hundred and One Dalmatians\", \"orientation\": \"v\", \"showlegend\": true, \"type\": \"scatter\", \"x\": [79.0], \"xaxis\": \"x\", \"y\": [7.2], \"yaxis\": \"y\"}, {\"hovertemplate\": \"<b>%{hovertext}</b><br><br>Title=Lady and the Tramp<br>Runtime=%{x}<br>IMDb=%{y}<extra></extra>\", \"hovertext\": [\"Lady and the Tramp\"], \"legendgroup\": \"Lady and the Tramp\", \"marker\": {\"color\": \"#00cc96\", \"symbol\": \"circle\"}, \"mode\": \"markers\", \"name\": \"Lady and the Tramp\", \"orientation\": \"v\", \"showlegend\": true, \"type\": \"scatter\", \"x\": [103.0], \"xaxis\": \"x\", \"y\": [7.3], \"yaxis\": \"y\"}, {\"hovertemplate\": \"<b>%{hovertext}</b><br><br>Title=Pinocchio<br>Runtime=%{x}<br>IMDb=%{y}<extra></extra>\", \"hovertext\": [\"Pinocchio\"], \"legendgroup\": \"Pinocchio\", \"marker\": {\"color\": \"#ab63fa\", \"symbol\": \"circle\"}, \"mode\": \"markers\", \"name\": \"Pinocchio\", \"orientation\": \"v\", \"showlegend\": true, \"type\": \"scatter\", \"x\": [120.0], \"xaxis\": \"x\", \"y\": [7.4], \"yaxis\": \"y\"}, {\"hovertemplate\": \"<b>%{hovertext}</b><br><br>Title=Thor: The Dark World<br>Runtime=%{x}<br>IMDb=%{y}<extra></extra>\", \"hovertext\": [\"Thor: The Dark World\"], \"legendgroup\": \"Thor: The Dark World\", \"marker\": {\"color\": \"#FFA15A\", \"symbol\": \"circle\"}, \"mode\": \"markers\", \"name\": \"Thor: The Dark World\", \"orientation\": \"v\", \"showlegend\": true, \"type\": \"scatter\", \"x\": [112.0], \"xaxis\": \"x\", \"y\": [6.9], \"yaxis\": \"y\"}, {\"hovertemplate\": \"<b>%{hovertext}</b><br><br>Title=Star Wars: The Last Jedi<br>Runtime=%{x}<br>IMDb=%{y}<extra></extra>\", \"hovertext\": [\"Star Wars: The Last Jedi\"], \"legendgroup\": \"Star Wars: The Last Jedi\", \"marker\": {\"color\": \"#19d3f3\", \"symbol\": \"circle\"}, \"mode\": \"markers\", \"name\": \"Star Wars: The Last Jedi\", \"orientation\": \"v\", \"showlegend\": true, \"type\": \"scatter\", \"x\": [152.0], \"xaxis\": \"x\", \"y\": [7.0], \"yaxis\": \"y\"}, {\"hovertemplate\": \"<b>%{hovertext}</b><br><br>Title=Lilo & Stitch<br>Runtime=%{x}<br>IMDb=%{y}<extra></extra>\", \"hovertext\": [\"Lilo & Stitch\"], \"legendgroup\": \"Lilo & Stitch\", \"marker\": {\"color\": \"#FF6692\", \"symbol\": \"circle\"}, \"mode\": \"markers\", \"name\": \"Lilo & Stitch\", \"orientation\": \"v\", \"showlegend\": true, \"type\": \"scatter\", \"x\": [85.0], \"xaxis\": \"x\", \"y\": [7.2], \"yaxis\": \"y\"}, {\"hovertemplate\": \"<b>%{hovertext}</b><br><br>Title=Star Wars: The Rise of Skywalker<br>Runtime=%{x}<br>IMDb=%{y}<extra></extra>\", \"hovertext\": [\"Star Wars: The Rise of Skywalker\"], \"legendgroup\": \"Star Wars: The Rise of Skywalker\", \"marker\": {\"color\": \"#B6E880\", \"symbol\": \"circle\"}, \"mode\": \"markers\", \"name\": \"Star Wars: The Rise of Skywalker\", \"orientation\": \"v\", \"showlegend\": true, \"type\": \"scatter\", \"x\": [142.0], \"xaxis\": \"x\", \"y\": [6.7], \"yaxis\": \"y\"}, {\"hovertemplate\": \"<b>%{hovertext}</b><br><br>Title=Pirates of the Caribbean: Dead Man's Chest<br>Runtime=%{x}<br>IMDb=%{y}<extra></extra>\", \"hovertext\": [\"Pirates of the Caribbean: Dead Man's Chest\"], \"legendgroup\": \"Pirates of the Caribbean: Dead Man's Chest\", \"marker\": {\"color\": \"#FF97FF\", \"symbol\": \"circle\"}, \"mode\": \"markers\", \"name\": \"Pirates of the Caribbean: Dead Man's Chest\", \"orientation\": \"v\", \"showlegend\": true, \"type\": \"scatter\", \"x\": [151.0], \"xaxis\": \"x\", \"y\": [7.3], \"yaxis\": \"y\"}, {\"hovertemplate\": \"<b>%{hovertext}</b><br><br>Title=Bambi<br>Runtime=%{x}<br>IMDb=%{y}<extra></extra>\", \"hovertext\": [\"Bambi\"], \"legendgroup\": \"Bambi\", \"marker\": {\"color\": \"#FECB52\", \"symbol\": \"circle\"}, \"mode\": \"markers\", \"name\": \"Bambi\", \"orientation\": \"v\", \"showlegend\": true, \"type\": \"scatter\", \"x\": [70.0], \"xaxis\": \"x\", \"y\": [7.3], \"yaxis\": \"y\"}, {\"hovertemplate\": \"<b>%{hovertext}</b><br><br>Title=Captain Marvel<br>Runtime=%{x}<br>IMDb=%{y}<extra></extra>\", \"hovertext\": [\"Captain Marvel\"], \"legendgroup\": \"Captain Marvel\", \"marker\": {\"color\": \"#636efa\", \"symbol\": \"circle\"}, \"mode\": \"markers\", \"name\": \"Captain Marvel\", \"orientation\": \"v\", \"showlegend\": true, \"type\": \"scatter\", \"x\": [123.0], \"xaxis\": \"x\", \"y\": [6.9], \"yaxis\": \"y\"}, {\"hovertemplate\": \"<b>%{hovertext}</b><br><br>Title=Alice in Wonderland<br>Runtime=%{x}<br>IMDb=%{y}<extra></extra>\", \"hovertext\": [\"Alice in Wonderland\"], \"legendgroup\": \"Alice in Wonderland\", \"marker\": {\"color\": \"#EF553B\", \"symbol\": \"circle\"}, \"mode\": \"markers\", \"name\": \"Alice in Wonderland\", \"orientation\": \"v\", \"showlegend\": true, \"type\": \"scatter\", \"x\": [108.0], \"xaxis\": \"x\", \"y\": [7.4], \"yaxis\": \"y\"}, {\"hovertemplate\": \"<b>%{hovertext}</b><br><br>Title=Peter Pan<br>Runtime=%{x}<br>IMDb=%{y}<extra></extra>\", \"hovertext\": [\"Peter Pan\"], \"legendgroup\": \"Peter Pan\", \"marker\": {\"color\": \"#00cc96\", \"symbol\": \"circle\"}, \"mode\": \"markers\", \"name\": \"Peter Pan\", \"orientation\": \"v\", \"showlegend\": true, \"type\": \"scatter\", \"x\": [113.0], \"xaxis\": \"x\", \"y\": [7.3], \"yaxis\": \"y\"}, {\"hovertemplate\": \"<b>%{hovertext}</b><br><br>Title=The Chronicles of Narnia: The Lion, the Witch and the Wardrobe<br>Runtime=%{x}<br>IMDb=%{y}<extra></extra>\", \"hovertext\": [\"The Chronicles of Narnia: The Lion, the Witch and the Wardrobe\"], \"legendgroup\": \"The Chronicles of Narnia: The Lion, the Witch and the Wardrobe\", \"marker\": {\"color\": \"#ab63fa\", \"symbol\": \"circle\"}, \"mode\": \"markers\", \"name\": \"The Chronicles of Narnia: The Lion, the Witch and the Wardrobe\", \"orientation\": \"v\", \"showlegend\": true, \"type\": \"scatter\", \"x\": [143.0], \"xaxis\": \"x\", \"y\": [6.9], \"yaxis\": \"y\"}, {\"hovertemplate\": \"<b>%{hovertext}</b><br><br>Title=Miracle on 34th Street<br>Runtime=%{x}<br>IMDb=%{y}<extra></extra>\", \"hovertext\": [\"Miracle on 34th Street\"], \"legendgroup\": \"Miracle on 34th Street\", \"marker\": {\"color\": \"#FFA15A\", \"symbol\": \"circle\"}, \"mode\": \"markers\", \"name\": \"Miracle on 34th Street\", \"orientation\": \"v\", \"showlegend\": true, \"type\": \"scatter\", \"x\": [96.0], \"xaxis\": \"x\", \"y\": [7.9], \"yaxis\": \"y\"}, {\"hovertemplate\": \"<b>%{hovertext}</b><br><br>Title=Pirates of the Caribbean: At World's End<br>Runtime=%{x}<br>IMDb=%{y}<extra></extra>\", \"hovertext\": [\"Pirates of the Caribbean: At World's End\"], \"legendgroup\": \"Pirates of the Caribbean: At World's End\", \"marker\": {\"color\": \"#19d3f3\", \"symbol\": \"circle\"}, \"mode\": \"markers\", \"name\": \"Pirates of the Caribbean: At World's End\", \"orientation\": \"v\", \"showlegend\": true, \"type\": \"scatter\", \"x\": [169.0], \"xaxis\": \"x\", \"y\": [7.1], \"yaxis\": \"y\"}, {\"hovertemplate\": \"<b>%{hovertext}</b><br><br>Title=The Many Adventures of Winnie the Pooh<br>Runtime=%{x}<br>IMDb=%{y}<extra></extra>\", \"hovertext\": [\"The Many Adventures of Winnie the Pooh\"], \"legendgroup\": \"The Many Adventures of Winnie the Pooh\", \"marker\": {\"color\": \"#FF6692\", \"symbol\": \"circle\"}, \"mode\": \"markers\", \"name\": \"The Many Adventures of Winnie the Pooh\", \"orientation\": \"v\", \"showlegend\": true, \"type\": \"scatter\", \"x\": [74.0], \"xaxis\": \"x\", \"y\": [7.6], \"yaxis\": \"y\"}, {\"hovertemplate\": \"<b>%{hovertext}</b><br><br>Title=Star Wars: Episode II - Attack of the Clones<br>Runtime=%{x}<br>IMDb=%{y}<extra></extra>\", \"hovertext\": [\"Star Wars: Episode II - Attack of the Clones\"], \"legendgroup\": \"Star Wars: Episode II - Attack of the Clones\", \"marker\": {\"color\": \"#B6E880\", \"symbol\": \"circle\"}, \"mode\": \"markers\", \"name\": \"Star Wars: Episode II - Attack of the Clones\", \"orientation\": \"v\", \"showlegend\": true, \"type\": \"scatter\", \"x\": [142.0], \"xaxis\": \"x\", \"y\": [6.5], \"yaxis\": \"y\"}, {\"hovertemplate\": \"<b>%{hovertext}</b><br><br>Title=The Muppet Movie<br>Runtime=%{x}<br>IMDb=%{y}<extra></extra>\", \"hovertext\": [\"The Muppet Movie\"], \"legendgroup\": \"The Muppet Movie\", \"marker\": {\"color\": \"#FF97FF\", \"symbol\": \"circle\"}, \"mode\": \"markers\", \"name\": \"The Muppet Movie\", \"orientation\": \"v\", \"showlegend\": true, \"type\": \"scatter\", \"x\": [95.0], \"xaxis\": \"x\", \"y\": [7.6], \"yaxis\": \"y\"}, {\"hovertemplate\": \"<b>%{hovertext}</b><br><br>Title=Mickey's Christmas Carol<br>Runtime=%{x}<br>IMDb=%{y}<extra></extra>\", \"hovertext\": [\"Mickey's Christmas Carol\"], \"legendgroup\": \"Mickey's Christmas Carol\", \"marker\": {\"color\": \"#FECB52\", \"symbol\": \"circle\"}, \"mode\": \"markers\", \"name\": \"Mickey's Christmas Carol\", \"orientation\": \"v\", \"showlegend\": true, \"type\": \"scatter\", \"x\": [26.0], \"xaxis\": \"x\", \"y\": [8.0], \"yaxis\": \"y\"}, {\"hovertemplate\": \"<b>%{hovertext}</b><br><br>Title=Star Wars: Episode I - The Phantom Menace<br>Runtime=%{x}<br>IMDb=%{y}<extra></extra>\", \"hovertext\": [\"Star Wars: Episode I - The Phantom Menace\"], \"legendgroup\": \"Star Wars: Episode I - The Phantom Menace\", \"marker\": {\"color\": \"#636efa\", \"symbol\": \"circle\"}, \"mode\": \"markers\", \"name\": \"Star Wars: Episode I - The Phantom Menace\", \"orientation\": \"v\", \"showlegend\": true, \"type\": \"scatter\", \"x\": [136.0], \"xaxis\": \"x\", \"y\": [6.5], \"yaxis\": \"y\"}, {\"hovertemplate\": \"<b>%{hovertext}</b><br><br>Title=Cool Runnings<br>Runtime=%{x}<br>IMDb=%{y}<extra></extra>\", \"hovertext\": [\"Cool Runnings\"], \"legendgroup\": \"Cool Runnings\", \"marker\": {\"color\": \"#EF553B\", \"symbol\": \"circle\"}, \"mode\": \"markers\", \"name\": \"Cool Runnings\", \"orientation\": \"v\", \"showlegend\": true, \"type\": \"scatter\", \"x\": [98.0], \"xaxis\": \"x\", \"y\": [7.0], \"yaxis\": \"y\"}, {\"hovertemplate\": \"<b>%{hovertext}</b><br><br>Title=The Parent Trap<br>Runtime=%{x}<br>IMDb=%{y}<extra></extra>\", \"hovertext\": [\"The Parent Trap\"], \"legendgroup\": \"The Parent Trap\", \"marker\": {\"color\": \"#00cc96\", \"symbol\": \"circle\"}, \"mode\": \"markers\", \"name\": \"The Parent Trap\", \"orientation\": \"v\", \"showlegend\": true, \"type\": \"scatter\", \"x\": [128.0], \"xaxis\": \"x\", \"y\": [6.5], \"yaxis\": \"y\"}, {\"hovertemplate\": \"<b>%{hovertext}</b><br><br>Title=The Muppet Christmas Carol<br>Runtime=%{x}<br>IMDb=%{y}<extra></extra>\", \"hovertext\": [\"The Muppet Christmas Carol\"], \"legendgroup\": \"The Muppet Christmas Carol\", \"marker\": {\"color\": \"#ab63fa\", \"symbol\": \"circle\"}, \"mode\": \"markers\", \"name\": \"The Muppet Christmas Carol\", \"orientation\": \"v\", \"showlegend\": true, \"type\": \"scatter\", \"x\": [85.0], \"xaxis\": \"x\", \"y\": [7.7], \"yaxis\": \"y\"}, {\"hovertemplate\": \"<b>%{hovertext}</b><br><br>Title=Treasure Planet<br>Runtime=%{x}<br>IMDb=%{y}<extra></extra>\", \"hovertext\": [\"Treasure Planet\"], \"legendgroup\": \"Treasure Planet\", \"marker\": {\"color\": \"#FFA15A\", \"symbol\": \"circle\"}, \"mode\": \"markers\", \"name\": \"Treasure Planet\", \"orientation\": \"v\", \"showlegend\": true, \"type\": \"scatter\", \"x\": [95.0], \"xaxis\": \"x\", \"y\": [7.2], \"yaxis\": \"y\"}, {\"hovertemplate\": \"<b>%{hovertext}</b><br><br>Title=The Fox and the Hound<br>Runtime=%{x}<br>IMDb=%{y}<extra></extra>\", \"hovertext\": [\"The Fox and the Hound\"], \"legendgroup\": \"The Fox and the Hound\", \"marker\": {\"color\": \"#19d3f3\", \"symbol\": \"circle\"}, \"mode\": \"markers\", \"name\": \"The Fox and the Hound\", \"orientation\": \"v\", \"showlegend\": true, \"type\": \"scatter\", \"x\": [83.0], \"xaxis\": \"x\", \"y\": [7.3], \"yaxis\": \"y\"}, {\"hovertemplate\": \"<b>%{hovertext}</b><br><br>Title=Holes<br>Runtime=%{x}<br>IMDb=%{y}<extra></extra>\", \"hovertext\": [\"Holes\"], \"legendgroup\": \"Holes\", \"marker\": {\"color\": \"#FF6692\", \"symbol\": \"circle\"}, \"mode\": \"markers\", \"name\": \"Holes\", \"orientation\": \"v\", \"showlegend\": true, \"type\": \"scatter\", \"x\": [117.0], \"xaxis\": \"x\", \"y\": [7.0], \"yaxis\": \"y\"}, {\"hovertemplate\": \"<b>%{hovertext}</b><br><br>Title=Pete's Dragon<br>Runtime=%{x}<br>IMDb=%{y}<extra></extra>\", \"hovertext\": [\"Pete's Dragon\"], \"legendgroup\": \"Pete's Dragon\", \"marker\": {\"color\": \"#B6E880\", \"symbol\": \"circle\"}, \"mode\": \"markers\", \"name\": \"Pete's Dragon\", \"orientation\": \"v\", \"showlegend\": true, \"type\": \"scatter\", \"x\": [102.0], \"xaxis\": \"x\", \"y\": [6.7], \"yaxis\": \"y\"}, {\"hovertemplate\": \"<b>%{hovertext}</b><br><br>Title=The Good Dinosaur<br>Runtime=%{x}<br>IMDb=%{y}<extra></extra>\", \"hovertext\": [\"The Good Dinosaur\"], \"legendgroup\": \"The Good Dinosaur\", \"marker\": {\"color\": \"#FF97FF\", \"symbol\": \"circle\"}, \"mode\": \"markers\", \"name\": \"The Good Dinosaur\", \"orientation\": \"v\", \"showlegend\": true, \"type\": \"scatter\", \"x\": [93.0], \"xaxis\": \"x\", \"y\": [6.7], \"yaxis\": \"y\"}, {\"hovertemplate\": \"<b>%{hovertext}</b><br><br>Title=Frankenweenie<br>Runtime=%{x}<br>IMDb=%{y}<extra></extra>\", \"hovertext\": [\"Frankenweenie\"], \"legendgroup\": \"Frankenweenie\", \"marker\": {\"color\": \"#FECB52\", \"symbol\": \"circle\"}, \"mode\": \"markers\", \"name\": \"Frankenweenie\", \"orientation\": \"v\", \"showlegend\": true, \"type\": \"scatter\", \"x\": [87.0], \"xaxis\": \"x\", \"y\": [6.9], \"yaxis\": \"y\"}, {\"hovertemplate\": \"<b>%{hovertext}</b><br><br>Title=Tron<br>Runtime=%{x}<br>IMDb=%{y}<extra></extra>\", \"hovertext\": [\"Tron\"], \"legendgroup\": \"Tron\", \"marker\": {\"color\": \"#636efa\", \"symbol\": \"circle\"}, \"mode\": \"markers\", \"name\": \"Tron\", \"orientation\": \"v\", \"showlegend\": true, \"type\": \"scatter\", \"x\": [125.0], \"xaxis\": \"x\", \"y\": [6.8], \"yaxis\": \"y\"}, {\"hovertemplate\": \"<b>%{hovertext}</b><br><br>Title=Winnie the Pooh<br>Runtime=%{x}<br>IMDb=%{y}<extra></extra>\", \"hovertext\": [\"Winnie the Pooh\"], \"legendgroup\": \"Winnie the Pooh\", \"marker\": {\"color\": \"#EF553B\", \"symbol\": \"circle\"}, \"mode\": \"markers\", \"name\": \"Winnie the Pooh\", \"orientation\": \"v\", \"showlegend\": true, \"type\": \"scatter\", \"x\": [104.0], \"xaxis\": \"x\", \"y\": [7.2], \"yaxis\": \"y\"}, {\"hovertemplate\": \"<b>%{hovertext}</b><br><br>Title=TRON: Legacy<br>Runtime=%{x}<br>IMDb=%{y}<extra></extra>\", \"hovertext\": [\"TRON: Legacy\"], \"legendgroup\": \"TRON: Legacy\", \"marker\": {\"color\": \"#00cc96\", \"symbol\": \"circle\"}, \"mode\": \"markers\", \"name\": \"TRON: Legacy\", \"orientation\": \"v\", \"showlegend\": true, \"type\": \"scatter\", \"x\": [125.0], \"xaxis\": \"x\", \"y\": [6.8], \"yaxis\": \"y\"}, {\"hovertemplate\": \"<b>%{hovertext}</b><br><br>Title=The Sword in the Stone<br>Runtime=%{x}<br>IMDb=%{y}<extra></extra>\", \"hovertext\": [\"The Sword in the Stone\"], \"legendgroup\": \"The Sword in the Stone\", \"marker\": {\"color\": \"#ab63fa\", \"symbol\": \"circle\"}, \"mode\": \"markers\", \"name\": \"The Sword in the Stone\", \"orientation\": \"v\", \"showlegend\": true, \"type\": \"scatter\", \"x\": [79.0], \"xaxis\": \"x\", \"y\": [7.2], \"yaxis\": \"y\"}, {\"hovertemplate\": \"<b>%{hovertext}</b><br><br>Title=The Aristocats<br>Runtime=%{x}<br>IMDb=%{y}<extra></extra>\", \"hovertext\": [\"The Aristocats\"], \"legendgroup\": \"The Aristocats\", \"marker\": {\"color\": \"#FFA15A\", \"symbol\": \"circle\"}, \"mode\": \"markers\", \"name\": \"The Aristocats\", \"orientation\": \"v\", \"showlegend\": true, \"type\": \"scatter\", \"x\": [78.0], \"xaxis\": \"x\", \"y\": [7.1], \"yaxis\": \"y\"}, {\"hovertemplate\": \"<b>%{hovertext}</b><br><br>Title=Cars 3<br>Runtime=%{x}<br>IMDb=%{y}<extra></extra>\", \"hovertext\": [\"Cars 3\"], \"legendgroup\": \"Cars 3\", \"marker\": {\"color\": \"#19d3f3\", \"symbol\": \"circle\"}, \"mode\": \"markers\", \"name\": \"Cars 3\", \"orientation\": \"v\", \"showlegend\": true, \"type\": \"scatter\", \"x\": [102.0], \"xaxis\": \"x\", \"y\": [6.7], \"yaxis\": \"y\"}, {\"hovertemplate\": \"<b>%{hovertext}</b><br><br>Title=Queen of Katwe<br>Runtime=%{x}<br>IMDb=%{y}<extra></extra>\", \"hovertext\": [\"Queen of Katwe\"], \"legendgroup\": \"Queen of Katwe\", \"marker\": {\"color\": \"#FF6692\", \"symbol\": \"circle\"}, \"mode\": \"markers\", \"name\": \"Queen of Katwe\", \"orientation\": \"v\", \"showlegend\": true, \"type\": \"scatter\", \"x\": [124.0], \"xaxis\": \"x\", \"y\": [7.4], \"yaxis\": \"y\"}, {\"hovertemplate\": \"<b>%{hovertext}</b><br><br>Title=Homeward Bound: The Incredible Journey<br>Runtime=%{x}<br>IMDb=%{y}<extra></extra>\", \"hovertext\": [\"Homeward Bound: The Incredible Journey\"], \"legendgroup\": \"Homeward Bound: The Incredible Journey\", \"marker\": {\"color\": \"#B6E880\", \"symbol\": \"circle\"}, \"mode\": \"markers\", \"name\": \"Homeward Bound: The Incredible Journey\", \"orientation\": \"v\", \"showlegend\": true, \"type\": \"scatter\", \"x\": [84.0], \"xaxis\": \"x\", \"y\": [6.9], \"yaxis\": \"y\"}, {\"hovertemplate\": \"<b>%{hovertext}</b><br><br>Title=Maleficent: Mistress of Evil<br>Runtime=%{x}<br>IMDb=%{y}<extra></extra>\", \"hovertext\": [\"Maleficent: Mistress of Evil\"], \"legendgroup\": \"Maleficent: Mistress of Evil\", \"marker\": {\"color\": \"#FF97FF\", \"symbol\": \"circle\"}, \"mode\": \"markers\", \"name\": \"Maleficent: Mistress of Evil\", \"orientation\": \"v\", \"showlegend\": true, \"type\": \"scatter\", \"x\": [119.0], \"xaxis\": \"x\", \"y\": [6.6], \"yaxis\": \"y\"}, {\"hovertemplate\": \"<b>%{hovertext}</b><br><br>Title=Before the Flood<br>Runtime=%{x}<br>IMDb=%{y}<extra></extra>\", \"hovertext\": [\"Before the Flood\"], \"legendgroup\": \"Before the Flood\", \"marker\": {\"color\": \"#FECB52\", \"symbol\": \"circle\"}, \"mode\": \"markers\", \"name\": \"Before the Flood\", \"orientation\": \"v\", \"showlegend\": true, \"type\": \"scatter\", \"x\": [96.0], \"xaxis\": \"x\", \"y\": [8.3], \"yaxis\": \"y\"}, {\"hovertemplate\": \"<b>%{hovertext}</b><br><br>Title=The Chronicles of Narnia: Prince Caspian<br>Runtime=%{x}<br>IMDb=%{y}<extra></extra>\", \"hovertext\": [\"The Chronicles of Narnia: Prince Caspian\"], \"legendgroup\": \"The Chronicles of Narnia: Prince Caspian\", \"marker\": {\"color\": \"#636efa\", \"symbol\": \"circle\"}, \"mode\": \"markers\", \"name\": \"The Chronicles of Narnia: Prince Caspian\", \"orientation\": \"v\", \"showlegend\": true, \"type\": \"scatter\", \"x\": [150.0], \"xaxis\": \"x\", \"y\": [6.5], \"yaxis\": \"y\"}, {\"hovertemplate\": \"<b>%{hovertext}</b><br><br>Title=The Great Mouse Detective<br>Runtime=%{x}<br>IMDb=%{y}<extra></extra>\", \"hovertext\": [\"The Great Mouse Detective\"], \"legendgroup\": \"The Great Mouse Detective\", \"marker\": {\"color\": \"#EF553B\", \"symbol\": \"circle\"}, \"mode\": \"markers\", \"name\": \"The Great Mouse Detective\", \"orientation\": \"v\", \"showlegend\": true, \"type\": \"scatter\", \"x\": [74.0], \"xaxis\": \"x\", \"y\": [7.2], \"yaxis\": \"y\"}, {\"hovertemplate\": \"<b>%{hovertext}</b><br><br>Title=Flight of the Navigator<br>Runtime=%{x}<br>IMDb=%{y}<extra></extra>\", \"hovertext\": [\"Flight of the Navigator\"], \"legendgroup\": \"Flight of the Navigator\", \"marker\": {\"color\": \"#00cc96\", \"symbol\": \"circle\"}, \"mode\": \"markers\", \"name\": \"Flight of the Navigator\", \"orientation\": \"v\", \"showlegend\": true, \"type\": \"scatter\", \"x\": [90.0], \"xaxis\": \"x\", \"y\": [6.9], \"yaxis\": \"y\"}, {\"hovertemplate\": \"<b>%{hovertext}</b><br><br>Title=James and the Giant Peach<br>Runtime=%{x}<br>IMDb=%{y}<extra></extra>\", \"hovertext\": [\"James and the Giant Peach\"], \"legendgroup\": \"James and the Giant Peach\", \"marker\": {\"color\": \"#ab63fa\", \"symbol\": \"circle\"}, \"mode\": \"markers\", \"name\": \"James and the Giant Peach\", \"orientation\": \"v\", \"showlegend\": true, \"type\": \"scatter\", \"x\": [79.0], \"xaxis\": \"x\", \"y\": [6.7], \"yaxis\": \"y\"}, {\"hovertemplate\": \"<b>%{hovertext}</b><br><br>Title=Willow<br>Runtime=%{x}<br>IMDb=%{y}<extra></extra>\", \"hovertext\": [\"Willow\"], \"legendgroup\": \"Willow\", \"marker\": {\"color\": \"#FFA15A\", \"symbol\": \"circle\"}, \"mode\": \"markers\", \"name\": \"Willow\", \"orientation\": \"v\", \"showlegend\": true, \"type\": \"scatter\", \"x\": [126.0], \"xaxis\": \"x\", \"y\": [7.3], \"yaxis\": \"y\"}, {\"hovertemplate\": \"<b>%{hovertext}</b><br><br>Title=Meet the Robinsons<br>Runtime=%{x}<br>IMDb=%{y}<extra></extra>\", \"hovertext\": [\"Meet the Robinsons\"], \"legendgroup\": \"Meet the Robinsons\", \"marker\": {\"color\": \"#19d3f3\", \"symbol\": \"circle\"}, \"mode\": \"markers\", \"name\": \"Meet the Robinsons\", \"orientation\": \"v\", \"showlegend\": true, \"type\": \"scatter\", \"x\": [95.0], \"xaxis\": \"x\", \"y\": [6.8], \"yaxis\": \"y\"}, {\"hovertemplate\": \"<b>%{hovertext}</b><br><br>Title=Star Wars: Episode III - Revenge of the Sith<br>Runtime=%{x}<br>IMDb=%{y}<extra></extra>\", \"hovertext\": [\"Star Wars: Episode III - Revenge of the Sith\"], \"legendgroup\": \"Star Wars: Episode III - Revenge of the Sith\", \"marker\": {\"color\": \"#FF6692\", \"symbol\": \"circle\"}, \"mode\": \"markers\", \"name\": \"Star Wars: Episode III - Revenge of the Sith\", \"orientation\": \"v\", \"showlegend\": true, \"type\": \"scatter\", \"x\": [140.0], \"xaxis\": \"x\", \"y\": [7.5], \"yaxis\": \"y\"}, {\"hovertemplate\": \"<b>%{hovertext}</b><br><br>Title=Fantasia 2000<br>Runtime=%{x}<br>IMDb=%{y}<extra></extra>\", \"hovertext\": [\"Fantasia 2000\"], \"legendgroup\": \"Fantasia 2000\", \"marker\": {\"color\": \"#B6E880\", \"symbol\": \"circle\"}, \"mode\": \"markers\", \"name\": \"Fantasia 2000\", \"orientation\": \"v\", \"showlegend\": true, \"type\": \"scatter\", \"x\": [75.0], \"xaxis\": \"x\", \"y\": [7.2], \"yaxis\": \"y\"}, {\"hovertemplate\": \"<b>%{hovertext}</b><br><br>Title=Tinker Bell<br>Runtime=%{x}<br>IMDb=%{y}<extra></extra>\", \"hovertext\": [\"Tinker Bell\"], \"legendgroup\": \"Tinker Bell\", \"marker\": {\"color\": \"#FF97FF\", \"symbol\": \"circle\"}, \"mode\": \"markers\", \"name\": \"Tinker Bell\", \"orientation\": \"v\", \"showlegend\": true, \"type\": \"scatter\", \"x\": [78.0], \"xaxis\": \"x\", \"y\": [6.8], \"yaxis\": \"y\"}, {\"hovertemplate\": \"<b>%{hovertext}</b><br><br>Title=The Rescuers<br>Runtime=%{x}<br>IMDb=%{y}<extra></extra>\", \"hovertext\": [\"The Rescuers\"], \"legendgroup\": \"The Rescuers\", \"marker\": {\"color\": \"#FECB52\", \"symbol\": \"circle\"}, \"mode\": \"markers\", \"name\": \"The Rescuers\", \"orientation\": \"v\", \"showlegend\": true, \"type\": \"scatter\", \"x\": [78.0], \"xaxis\": \"x\", \"y\": [6.9], \"yaxis\": \"y\"}, {\"hovertemplate\": \"<b>%{hovertext}</b><br><br>Title=Eight Below<br>Runtime=%{x}<br>IMDb=%{y}<extra></extra>\", \"hovertext\": [\"Eight Below\"], \"legendgroup\": \"Eight Below\", \"marker\": {\"color\": \"#636efa\", \"symbol\": \"circle\"}, \"mode\": \"markers\", \"name\": \"Eight Below\", \"orientation\": \"v\", \"showlegend\": true, \"type\": \"scatter\", \"x\": [120.0], \"xaxis\": \"x\", \"y\": [7.3], \"yaxis\": \"y\"}, {\"hovertemplate\": \"<b>%{hovertext}</b><br><br>Title=Invincible<br>Runtime=%{x}<br>IMDb=%{y}<extra></extra>\", \"hovertext\": [\"Invincible\"], \"legendgroup\": \"Invincible\", \"marker\": {\"color\": \"#EF553B\", \"symbol\": \"circle\"}, \"mode\": \"markers\", \"name\": \"Invincible\", \"orientation\": \"v\", \"showlegend\": true, \"type\": \"scatter\", \"x\": [137.0], \"xaxis\": \"x\", \"y\": [7.1], \"yaxis\": \"y\"}, {\"hovertemplate\": \"<b>%{hovertext}</b><br><br>Title=Sister Act<br>Runtime=%{x}<br>IMDb=%{y}<extra></extra>\", \"hovertext\": [\"Sister Act\"], \"legendgroup\": \"Sister Act\", \"marker\": {\"color\": \"#00cc96\", \"symbol\": \"circle\"}, \"mode\": \"markers\", \"name\": \"Sister Act\", \"orientation\": \"v\", \"showlegend\": true, \"type\": \"scatter\", \"x\": [100.0], \"xaxis\": \"x\", \"y\": [6.4], \"yaxis\": \"y\"}, {\"hovertemplate\": \"<b>%{hovertext}</b><br><br>Title=John Carter<br>Runtime=%{x}<br>IMDb=%{y}<extra></extra>\", \"hovertext\": [\"John Carter\"], \"legendgroup\": \"John Carter\", \"marker\": {\"color\": \"#ab63fa\", \"symbol\": \"circle\"}, \"mode\": \"markers\", \"name\": \"John Carter\", \"orientation\": \"v\", \"showlegend\": true, \"type\": \"scatter\", \"x\": [132.0], \"xaxis\": \"x\", \"y\": [6.6], \"yaxis\": \"y\"}, {\"hovertemplate\": \"<b>%{hovertext}</b><br><br>Title=Freaky Friday<br>Runtime=%{x}<br>IMDb=%{y}<extra></extra>\", \"hovertext\": [\"Freaky Friday\"], \"legendgroup\": \"Freaky Friday\", \"marker\": {\"color\": \"#FFA15A\", \"symbol\": \"circle\"}, \"mode\": \"markers\", \"name\": \"Freaky Friday\", \"orientation\": \"v\", \"showlegend\": true, \"type\": \"scatter\", \"x\": [97.0], \"xaxis\": \"x\", \"y\": [6.1], \"yaxis\": \"y\"}, {\"hovertemplate\": \"<b>%{hovertext}</b><br><br>Title=The Santa Clause<br>Runtime=%{x}<br>IMDb=%{y}<extra></extra>\", \"hovertext\": [\"The Santa Clause\"], \"legendgroup\": \"The Santa Clause\", \"marker\": {\"color\": \"#19d3f3\", \"symbol\": \"circle\"}, \"mode\": \"markers\", \"name\": \"The Santa Clause\", \"orientation\": \"v\", \"showlegend\": true, \"type\": \"scatter\", \"x\": [97.0], \"xaxis\": \"x\", \"y\": [6.5], \"yaxis\": \"y\"}, {\"hovertemplate\": \"<b>%{hovertext}</b><br><br>Title=Descendants<br>Runtime=%{x}<br>IMDb=%{y}<extra></extra>\", \"hovertext\": [\"Descendants\"], \"legendgroup\": \"Descendants\", \"marker\": {\"color\": \"#FF6692\", \"symbol\": \"circle\"}, \"mode\": \"markers\", \"name\": \"Descendants\", \"orientation\": \"v\", \"showlegend\": true, \"type\": \"scatter\", \"x\": [112.0], \"xaxis\": \"x\", \"y\": [6.4], \"yaxis\": \"y\"}, {\"hovertemplate\": \"<b>%{hovertext}</b><br><br>Title=Old Yeller<br>Runtime=%{x}<br>IMDb=%{y}<extra></extra>\", \"hovertext\": [\"Old Yeller\"], \"legendgroup\": \"Old Yeller\", \"marker\": {\"color\": \"#B6E880\", \"symbol\": \"circle\"}, \"mode\": \"markers\", \"name\": \"Old Yeller\", \"orientation\": \"v\", \"showlegend\": true, \"type\": \"scatter\", \"x\": [83.0], \"xaxis\": \"x\", \"y\": [7.3], \"yaxis\": \"y\"}, {\"hovertemplate\": \"<b>%{hovertext}</b><br><br>Title=Honey, I Shrunk the Kids<br>Runtime=%{x}<br>IMDb=%{y}<extra></extra>\", \"hovertext\": [\"Honey, I Shrunk the Kids\"], \"legendgroup\": \"Honey, I Shrunk the Kids\", \"marker\": {\"color\": \"#FF97FF\", \"symbol\": \"circle\"}, \"mode\": \"markers\", \"name\": \"Honey, I Shrunk the Kids\", \"orientation\": \"v\", \"showlegend\": true, \"type\": \"scatter\", \"x\": [93.0], \"xaxis\": \"x\", \"y\": [6.3], \"yaxis\": \"y\"}, {\"hovertemplate\": \"<b>%{hovertext}</b><br><br>Title=Phineas and Ferb the Movie: Across the 2nd Dimension<br>Runtime=%{x}<br>IMDb=%{y}<extra></extra>\", \"hovertext\": [\"Phineas and Ferb the Movie: Across the 2nd Dimension\"], \"legendgroup\": \"Phineas and Ferb the Movie: Across the 2nd Dimension\", \"marker\": {\"color\": \"#FECB52\", \"symbol\": \"circle\"}, \"mode\": \"markers\", \"name\": \"Phineas and Ferb the Movie: Across the 2nd Dimension\", \"orientation\": \"v\", \"showlegend\": true, \"type\": \"scatter\", \"x\": [78.0], \"xaxis\": \"x\", \"y\": [7.4], \"yaxis\": \"y\"}, {\"hovertemplate\": \"<b>%{hovertext}</b><br><br>Title=Pirates of the Caribbean: On Stranger Tides<br>Runtime=%{x}<br>IMDb=%{y}<extra></extra>\", \"hovertext\": [\"Pirates of the Caribbean: On Stranger Tides\"], \"legendgroup\": \"Pirates of the Caribbean: On Stranger Tides\", \"marker\": {\"color\": \"#636efa\", \"symbol\": \"circle\"}, \"mode\": \"markers\", \"name\": \"Pirates of the Caribbean: On Stranger Tides\", \"orientation\": \"v\", \"showlegend\": true, \"type\": \"scatter\", \"x\": [137.0], \"xaxis\": \"x\", \"y\": [6.6], \"yaxis\": \"y\"}, {\"hovertemplate\": \"<b>%{hovertext}</b><br><br>Title=The BFG<br>Runtime=%{x}<br>IMDb=%{y}<extra></extra>\", \"hovertext\": [\"The BFG\"], \"legendgroup\": \"The BFG\", \"marker\": {\"color\": \"#EF553B\", \"symbol\": \"circle\"}, \"mode\": \"markers\", \"name\": \"The BFG\", \"orientation\": \"v\", \"showlegend\": true, \"type\": \"scatter\", \"x\": [117.0], \"xaxis\": \"x\", \"y\": [6.4], \"yaxis\": \"y\"}, {\"hovertemplate\": \"<b>%{hovertext}</b><br><br>Title=The Princess Diaries<br>Runtime=%{x}<br>IMDb=%{y}<extra></extra>\", \"hovertext\": [\"The Princess Diaries\"], \"legendgroup\": \"The Princess Diaries\", \"marker\": {\"color\": \"#00cc96\", \"symbol\": \"circle\"}, \"mode\": \"markers\", \"name\": \"The Princess Diaries\", \"orientation\": \"v\", \"showlegend\": true, \"type\": \"scatter\", \"x\": [111.0], \"xaxis\": \"x\", \"y\": [6.3], \"yaxis\": \"y\"}, {\"hovertemplate\": \"<b>%{hovertext}</b><br><br>Title=National Treasure: Book of Secrets<br>Runtime=%{x}<br>IMDb=%{y}<extra></extra>\", \"hovertext\": [\"National Treasure: Book of Secrets\"], \"legendgroup\": \"National Treasure: Book of Secrets\", \"marker\": {\"color\": \"#ab63fa\", \"symbol\": \"circle\"}, \"mode\": \"markers\", \"name\": \"National Treasure: Book of Secrets\", \"orientation\": \"v\", \"showlegend\": true, \"type\": \"scatter\", \"x\": [124.0], \"xaxis\": \"x\", \"y\": [6.5], \"yaxis\": \"y\"}, {\"hovertemplate\": \"<b>%{hovertext}</b><br><br>Title=The Finest Hours<br>Runtime=%{x}<br>IMDb=%{y}<extra></extra>\", \"hovertext\": [\"The Finest Hours\"], \"legendgroup\": \"The Finest Hours\", \"marker\": {\"color\": \"#FFA15A\", \"symbol\": \"circle\"}, \"mode\": \"markers\", \"name\": \"The Finest Hours\", \"orientation\": \"v\", \"showlegend\": true, \"type\": \"scatter\", \"x\": [117.0], \"xaxis\": \"x\", \"y\": [6.8], \"yaxis\": \"y\"}, {\"hovertemplate\": \"<b>%{hovertext}</b><br><br>Title=DuckTales: The Movie - Treasure of the Lost Lamp<br>Runtime=%{x}<br>IMDb=%{y}<extra></extra>\", \"hovertext\": [\"DuckTales: The Movie - Treasure of the Lost Lamp\"], \"legendgroup\": \"DuckTales: The Movie - Treasure of the Lost Lamp\", \"marker\": {\"color\": \"#19d3f3\", \"symbol\": \"circle\"}, \"mode\": \"markers\", \"name\": \"DuckTales: The Movie - Treasure of the Lost Lamp\", \"orientation\": \"v\", \"showlegend\": true, \"type\": \"scatter\", \"x\": [74.0], \"xaxis\": \"x\", \"y\": [6.9], \"yaxis\": \"y\"}, {\"hovertemplate\": \"<b>%{hovertext}</b><br><br>Title=A Goofy Movie<br>Runtime=%{x}<br>IMDb=%{y}<extra></extra>\", \"hovertext\": [\"A Goofy Movie\"], \"legendgroup\": \"A Goofy Movie\", \"marker\": {\"color\": \"#FF6692\", \"symbol\": \"circle\"}, \"mode\": \"markers\", \"name\": \"A Goofy Movie\", \"orientation\": \"v\", \"showlegend\": true, \"type\": \"scatter\", \"x\": [78.0], \"xaxis\": \"x\", \"y\": [6.8], \"yaxis\": \"y\"}, {\"hovertemplate\": \"<b>%{hovertext}</b><br><br>Title=The Greatest Game Ever Played<br>Runtime=%{x}<br>IMDb=%{y}<extra></extra>\", \"hovertext\": [\"The Greatest Game Ever Played\"], \"legendgroup\": \"The Greatest Game Ever Played\", \"marker\": {\"color\": \"#B6E880\", \"symbol\": \"circle\"}, \"mode\": \"markers\", \"name\": \"The Greatest Game Ever Played\", \"orientation\": \"v\", \"showlegend\": true, \"type\": \"scatter\", \"x\": [120.0], \"xaxis\": \"x\", \"y\": [7.4], \"yaxis\": \"y\"}, {\"hovertemplate\": \"<b>%{hovertext}</b><br><br>Title=The Lion King 1\\u00bd<br>Runtime=%{x}<br>IMDb=%{y}<extra></extra>\", \"hovertext\": [\"The Lion King 1\\u00bd\"], \"legendgroup\": \"The Lion King 1\\u00bd\", \"marker\": {\"color\": \"#FF97FF\", \"symbol\": \"circle\"}, \"mode\": \"markers\", \"name\": \"The Lion King 1\\u00bd\", \"orientation\": \"v\", \"showlegend\": true, \"type\": \"scatter\", \"x\": [77.0], \"xaxis\": \"x\", \"y\": [6.5], \"yaxis\": \"y\"}, {\"hovertemplate\": \"<b>%{hovertext}</b><br><br>Title=The Lion King II: Simba's Pride<br>Runtime=%{x}<br>IMDb=%{y}<extra></extra>\", \"hovertext\": [\"The Lion King II: Simba's Pride\"], \"legendgroup\": \"The Lion King II: Simba's Pride\", \"marker\": {\"color\": \"#FECB52\", \"symbol\": \"circle\"}, \"mode\": \"markers\", \"name\": \"The Lion King II: Simba's Pride\", \"orientation\": \"v\", \"showlegend\": true, \"type\": \"scatter\", \"x\": [81.0], \"xaxis\": \"x\", \"y\": [6.5], \"yaxis\": \"y\"}, {\"hovertemplate\": \"<b>%{hovertext}</b><br><br>Title=The Adventures of Ichabod and Mr. Toad<br>Runtime=%{x}<br>IMDb=%{y}<extra></extra>\", \"hovertext\": [\"The Adventures of Ichabod and Mr. Toad\"], \"legendgroup\": \"The Adventures of Ichabod and Mr. Toad\", \"marker\": {\"color\": \"#636efa\", \"symbol\": \"circle\"}, \"mode\": \"markers\", \"name\": \"The Adventures of Ichabod and Mr. Toad\", \"orientation\": \"v\", \"showlegend\": true, \"type\": \"scatter\", \"x\": [68.0], \"xaxis\": \"x\", \"y\": [7.0], \"yaxis\": \"y\"}, {\"hovertemplate\": \"<b>%{hovertext}</b><br><br>Title=Tinker Bell and the Lost Treasure<br>Runtime=%{x}<br>IMDb=%{y}<extra></extra>\", \"hovertext\": [\"Tinker Bell and the Lost Treasure\"], \"legendgroup\": \"Tinker Bell and the Lost Treasure\", \"marker\": {\"color\": \"#EF553B\", \"symbol\": \"circle\"}, \"mode\": \"markers\", \"name\": \"Tinker Bell and the Lost Treasure\", \"orientation\": \"v\", \"showlegend\": true, \"type\": \"scatter\", \"x\": [81.0], \"xaxis\": \"x\", \"y\": [6.7], \"yaxis\": \"y\"}, {\"hovertemplate\": \"<b>%{hovertext}</b><br><br>Title=Bedknobs and Broomsticks<br>Runtime=%{x}<br>IMDb=%{y}<extra></extra>\", \"hovertext\": [\"Bedknobs and Broomsticks\"], \"legendgroup\": \"Bedknobs and Broomsticks\", \"marker\": {\"color\": \"#00cc96\", \"symbol\": \"circle\"}, \"mode\": \"markers\", \"name\": \"Bedknobs and Broomsticks\", \"orientation\": \"v\", \"showlegend\": true, \"type\": \"scatter\", \"x\": [117.0], \"xaxis\": \"x\", \"y\": [7.1], \"yaxis\": \"y\"}, {\"hovertemplate\": \"<b>%{hovertext}</b><br><br>Title=Hocus Pocus<br>Runtime=%{x}<br>IMDb=%{y}<extra></extra>\", \"hovertext\": [\"Hocus Pocus\"], \"legendgroup\": \"Hocus Pocus\", \"marker\": {\"color\": \"#ab63fa\", \"symbol\": \"circle\"}, \"mode\": \"markers\", \"name\": \"Hocus Pocus\", \"orientation\": \"v\", \"showlegend\": true, \"type\": \"scatter\", \"x\": [96.0], \"xaxis\": \"x\", \"y\": [6.9], \"yaxis\": \"y\"}, {\"hovertemplate\": \"<b>%{hovertext}</b><br><br>Title=Secretariat<br>Runtime=%{x}<br>IMDb=%{y}<extra></extra>\", \"hovertext\": [\"Secretariat\"], \"legendgroup\": \"Secretariat\", \"marker\": {\"color\": \"#FFA15A\", \"symbol\": \"circle\"}, \"mode\": \"markers\", \"name\": \"Secretariat\", \"orientation\": \"v\", \"showlegend\": true, \"type\": \"scatter\", \"x\": [123.0], \"xaxis\": \"x\", \"y\": [7.2], \"yaxis\": \"y\"}, {\"hovertemplate\": \"<b>%{hovertext}</b><br><br>Title=Darby O'Gill and the Little People<br>Runtime=%{x}<br>IMDb=%{y}<extra></extra>\", \"hovertext\": [\"Darby O'Gill and the Little People\"], \"legendgroup\": \"Darby O'Gill and the Little People\", \"marker\": {\"color\": \"#19d3f3\", \"symbol\": \"circle\"}, \"mode\": \"markers\", \"name\": \"Darby O'Gill and the Little People\", \"orientation\": \"v\", \"showlegend\": true, \"type\": \"scatter\", \"x\": [93.0], \"xaxis\": \"x\", \"y\": [7.2], \"yaxis\": \"y\"}, {\"hovertemplate\": \"<b>%{hovertext}</b><br><br>Title=Muppet Treasure Island<br>Runtime=%{x}<br>IMDb=%{y}<extra></extra>\", \"hovertext\": [\"Muppet Treasure Island\"], \"legendgroup\": \"Muppet Treasure Island\", \"marker\": {\"color\": \"#FF6692\", \"symbol\": \"circle\"}, \"mode\": \"markers\", \"name\": \"Muppet Treasure Island\", \"orientation\": \"v\", \"showlegend\": true, \"type\": \"scatter\", \"x\": [99.0], \"xaxis\": \"x\", \"y\": [7.0], \"yaxis\": \"y\"}, {\"hovertemplate\": \"<b>%{hovertext}</b><br><br>Title=The Rescuers Down Under<br>Runtime=%{x}<br>IMDb=%{y}<extra></extra>\", \"hovertext\": [\"The Rescuers Down Under\"], \"legendgroup\": \"The Rescuers Down Under\", \"marker\": {\"color\": \"#B6E880\", \"symbol\": \"circle\"}, \"mode\": \"markers\", \"name\": \"The Rescuers Down Under\", \"orientation\": \"v\", \"showlegend\": true, \"type\": \"scatter\", \"x\": [77.0], \"xaxis\": \"x\", \"y\": [6.9], \"yaxis\": \"y\"}, {\"hovertemplate\": \"<b>%{hovertext}</b><br><br>Title=The Rocketeer<br>Runtime=%{x}<br>IMDb=%{y}<extra></extra>\", \"hovertext\": [\"The Rocketeer\"], \"legendgroup\": \"The Rocketeer\", \"marker\": {\"color\": \"#FF97FF\", \"symbol\": \"circle\"}, \"mode\": \"markers\", \"name\": \"The Rocketeer\", \"orientation\": \"v\", \"showlegend\": true, \"type\": \"scatter\", \"x\": [108.0], \"xaxis\": \"x\", \"y\": [6.5], \"yaxis\": \"y\"}, {\"hovertemplate\": \"<b>%{hovertext}</b><br><br>Title=High School Musical<br>Runtime=%{x}<br>IMDb=%{y}<extra></extra>\", \"hovertext\": [\"High School Musical\"], \"legendgroup\": \"High School Musical\", \"marker\": {\"color\": \"#FECB52\", \"symbol\": \"circle\"}, \"mode\": \"markers\", \"name\": \"High School Musical\", \"orientation\": \"v\", \"showlegend\": true, \"type\": \"scatter\", \"x\": [98.0], \"xaxis\": \"x\", \"y\": [5.4], \"yaxis\": \"y\"}, {\"hovertemplate\": \"<b>%{hovertext}</b><br><br>Title=Atlantis: The Lost Empire<br>Runtime=%{x}<br>IMDb=%{y}<extra></extra>\", \"hovertext\": [\"Atlantis: The Lost Empire\"], \"legendgroup\": \"Atlantis: The Lost Empire\", \"marker\": {\"color\": \"#636efa\", \"symbol\": \"circle\"}, \"mode\": \"markers\", \"name\": \"Atlantis: The Lost Empire\", \"orientation\": \"v\", \"showlegend\": true, \"type\": \"scatter\", \"x\": [95.0], \"xaxis\": \"x\", \"y\": [6.9], \"yaxis\": \"y\"}, {\"hovertemplate\": \"<b>%{hovertext}</b><br><br>Title=The Great Muppet Caper<br>Runtime=%{x}<br>IMDb=%{y}<extra></extra>\", \"hovertext\": [\"The Great Muppet Caper\"], \"legendgroup\": \"The Great Muppet Caper\", \"marker\": {\"color\": \"#EF553B\", \"symbol\": \"circle\"}, \"mode\": \"markers\", \"name\": \"The Great Muppet Caper\", \"orientation\": \"v\", \"showlegend\": true, \"type\": \"scatter\", \"x\": [97.0], \"xaxis\": \"x\", \"y\": [7.2], \"yaxis\": \"y\"}, {\"hovertemplate\": \"<b>%{hovertext}</b><br><br>Title=Teen Beach Movie<br>Runtime=%{x}<br>IMDb=%{y}<extra></extra>\", \"hovertext\": [\"Teen Beach Movie\"], \"legendgroup\": \"Teen Beach Movie\", \"marker\": {\"color\": \"#00cc96\", \"symbol\": \"circle\"}, \"mode\": \"markers\", \"name\": \"Teen Beach Movie\", \"orientation\": \"v\", \"showlegend\": true, \"type\": \"scatter\", \"x\": [110.0], \"xaxis\": \"x\", \"y\": [5.9], \"yaxis\": \"y\"}, {\"hovertemplate\": \"<b>%{hovertext}</b><br><br>Title=Journey to the Center of the Earth<br>Runtime=%{x}<br>IMDb=%{y}<extra></extra>\", \"hovertext\": [\"Journey to the Center of the Earth\"], \"legendgroup\": \"Journey to the Center of the Earth\", \"marker\": {\"color\": \"#ab63fa\", \"symbol\": \"circle\"}, \"mode\": \"markers\", \"name\": \"Journey to the Center of the Earth\", \"orientation\": \"v\", \"showlegend\": true, \"type\": \"scatter\", \"x\": [93.0], \"xaxis\": \"x\", \"y\": [7.0], \"yaxis\": \"y\"}, {\"hovertemplate\": \"<b>%{hovertext}</b><br><br>Title=Pollyanna<br>Runtime=%{x}<br>IMDb=%{y}<extra></extra>\", \"hovertext\": [\"Pollyanna\"], \"legendgroup\": \"Pollyanna\", \"marker\": {\"color\": \"#FFA15A\", \"symbol\": \"circle\"}, \"mode\": \"markers\", \"name\": \"Pollyanna\", \"orientation\": \"v\", \"showlegend\": true, \"type\": \"scatter\", \"x\": [134.0], \"xaxis\": \"x\", \"y\": [7.4], \"yaxis\": \"y\"}, {\"hovertemplate\": \"<b>%{hovertext}</b><br><br>Title=High School Musical 2<br>Runtime=%{x}<br>IMDb=%{y}<extra></extra>\", \"hovertext\": [\"High School Musical 2\"], \"legendgroup\": \"High School Musical 2\", \"marker\": {\"color\": \"#19d3f3\", \"symbol\": \"circle\"}, \"mode\": \"markers\", \"name\": \"High School Musical 2\", \"orientation\": \"v\", \"showlegend\": true, \"type\": \"scatter\", \"x\": [104.0], \"xaxis\": \"x\", \"y\": [5.0], \"yaxis\": \"y\"}, {\"hovertemplate\": \"<b>%{hovertext}</b><br><br>Title=Halloweentown<br>Runtime=%{x}<br>IMDb=%{y}<extra></extra>\", \"hovertext\": [\"Halloweentown\"], \"legendgroup\": \"Halloweentown\", \"marker\": {\"color\": \"#FF6692\", \"symbol\": \"circle\"}, \"mode\": \"markers\", \"name\": \"Halloweentown\", \"orientation\": \"v\", \"showlegend\": true, \"type\": \"scatter\", \"x\": [84.0], \"xaxis\": \"x\", \"y\": [6.8], \"yaxis\": \"y\"}, {\"hovertemplate\": \"<b>%{hovertext}</b><br><br>Title=Brother Bear<br>Runtime=%{x}<br>IMDb=%{y}<extra></extra>\", \"hovertext\": [\"Brother Bear\"], \"legendgroup\": \"Brother Bear\", \"marker\": {\"color\": \"#B6E880\", \"symbol\": \"circle\"}, \"mode\": \"markers\", \"name\": \"Brother Bear\", \"orientation\": \"v\", \"showlegend\": true, \"type\": \"scatter\", \"x\": [85.0], \"xaxis\": \"x\", \"y\": [6.8], \"yaxis\": \"y\"}, {\"hovertemplate\": \"<b>%{hovertext}</b><br><br>Title=Millions<br>Runtime=%{x}<br>IMDb=%{y}<extra></extra>\", \"hovertext\": [\"Millions\"], \"legendgroup\": \"Millions\", \"marker\": {\"color\": \"#FF97FF\", \"symbol\": \"circle\"}, \"mode\": \"markers\", \"name\": \"Millions\", \"orientation\": \"v\", \"showlegend\": true, \"type\": \"scatter\", \"x\": [98.0], \"xaxis\": \"x\", \"y\": [6.9], \"yaxis\": \"y\"}, {\"hovertemplate\": \"<b>%{hovertext}</b><br><br>Title=Muppets Most Wanted<br>Runtime=%{x}<br>IMDb=%{y}<extra></extra>\", \"hovertext\": [\"Muppets Most Wanted\"], \"legendgroup\": \"Muppets Most Wanted\", \"marker\": {\"color\": \"#FECB52\", \"symbol\": \"circle\"}, \"mode\": \"markers\", \"name\": \"Muppets Most Wanted\", \"orientation\": \"v\", \"showlegend\": true, \"type\": \"scatter\", \"x\": [107.0], \"xaxis\": \"x\", \"y\": [6.4], \"yaxis\": \"y\"}, {\"hovertemplate\": \"<b>%{hovertext}</b><br><br>Title=The Journey of Natty Gann<br>Runtime=%{x}<br>IMDb=%{y}<extra></extra>\", \"hovertext\": [\"The Journey of Natty Gann\"], \"legendgroup\": \"The Journey of Natty Gann\", \"marker\": {\"color\": \"#636efa\", \"symbol\": \"circle\"}, \"mode\": \"markers\", \"name\": \"The Journey of Natty Gann\", \"orientation\": \"v\", \"showlegend\": true, \"type\": \"scatter\", \"x\": [101.0], \"xaxis\": \"x\", \"y\": [7.1], \"yaxis\": \"y\"}, {\"hovertemplate\": \"<b>%{hovertext}</b><br><br>Title=Secret of the Wings<br>Runtime=%{x}<br>IMDb=%{y}<extra></extra>\", \"hovertext\": [\"Secret of the Wings\"], \"legendgroup\": \"Secret of the Wings\", \"marker\": {\"color\": \"#EF553B\", \"symbol\": \"circle\"}, \"mode\": \"markers\", \"name\": \"Secret of the Wings\", \"orientation\": \"v\", \"showlegend\": true, \"type\": \"scatter\", \"x\": [75.0], \"xaxis\": \"x\", \"y\": [7.1], \"yaxis\": \"y\"}, {\"hovertemplate\": \"<b>%{hovertext}</b><br><br>Title=Cars 2<br>Runtime=%{x}<br>IMDb=%{y}<extra></extra>\", \"hovertext\": [\"Cars 2\"], \"legendgroup\": \"Cars 2\", \"marker\": {\"color\": \"#00cc96\", \"symbol\": \"circle\"}, \"mode\": \"markers\", \"name\": \"Cars 2\", \"orientation\": \"v\", \"showlegend\": true, \"type\": \"scatter\", \"x\": [106.0], \"xaxis\": \"x\", \"y\": [6.1], \"yaxis\": \"y\"}, {\"hovertemplate\": \"<b>%{hovertext}</b><br><br>Title=Tinker Bell and the Great Fairy Rescue<br>Runtime=%{x}<br>IMDb=%{y}<extra></extra>\", \"hovertext\": [\"Tinker Bell and the Great Fairy Rescue\"], \"legendgroup\": \"Tinker Bell and the Great Fairy Rescue\", \"marker\": {\"color\": \"#ab63fa\", \"symbol\": \"circle\"}, \"mode\": \"markers\", \"name\": \"Tinker Bell and the Great Fairy Rescue\", \"orientation\": \"v\", \"showlegend\": true, \"type\": \"scatter\", \"x\": [76.0], \"xaxis\": \"x\", \"y\": [6.9], \"yaxis\": \"y\"}, {\"hovertemplate\": \"<b>%{hovertext}</b><br><br>Title=Descendants 2<br>Runtime=%{x}<br>IMDb=%{y}<extra></extra>\", \"hovertext\": [\"Descendants 2\"], \"legendgroup\": \"Descendants 2\", \"marker\": {\"color\": \"#FFA15A\", \"symbol\": \"circle\"}, \"mode\": \"markers\", \"name\": \"Descendants 2\", \"orientation\": \"v\", \"showlegend\": true, \"type\": \"scatter\", \"x\": [111.0], \"xaxis\": \"x\", \"y\": [6.5], \"yaxis\": \"y\"}, {\"hovertemplate\": \"<b>%{hovertext}</b><br><br>Title=Adventures in Babysitting<br>Runtime=%{x}<br>IMDb=%{y}<extra></extra>\", \"hovertext\": [\"Adventures in Babysitting\"], \"legendgroup\": \"Adventures in Babysitting\", \"marker\": {\"color\": \"#19d3f3\", \"symbol\": \"circle\"}, \"mode\": \"markers\", \"name\": \"Adventures in Babysitting\", \"orientation\": \"v\", \"showlegend\": true, \"type\": \"scatter\", \"x\": [102.0], \"xaxis\": \"x\", \"y\": [6.0], \"yaxis\": \"y\"}, {\"hovertemplate\": \"<b>%{hovertext}</b><br><br>Title=Dinosaur<br>Runtime=%{x}<br>IMDb=%{y}<extra></extra>\", \"hovertext\": [\"Dinosaur\"], \"legendgroup\": \"Dinosaur\", \"marker\": {\"color\": \"#FF6692\", \"symbol\": \"circle\"}, \"mode\": \"markers\", \"name\": \"Dinosaur\", \"orientation\": \"v\", \"showlegend\": true, \"type\": \"scatter\", \"x\": [82.0], \"xaxis\": \"x\", \"y\": [6.5], \"yaxis\": \"y\"}, {\"hovertemplate\": \"<b>%{hovertext}</b><br><br>Title=Dumbo<br>Runtime=%{x}<br>IMDb=%{y}<extra></extra>\", \"hovertext\": [\"Dumbo\"], \"legendgroup\": \"Dumbo\", \"marker\": {\"color\": \"#B6E880\", \"symbol\": \"circle\"}, \"mode\": \"markers\", \"name\": \"Dumbo\", \"orientation\": \"v\", \"showlegend\": true, \"type\": \"scatter\", \"x\": [112.0], \"xaxis\": \"x\", \"y\": [6.3], \"yaxis\": \"y\"}, {\"hovertemplate\": \"<b>%{hovertext}</b><br><br>Title=The Color of Friendship<br>Runtime=%{x}<br>IMDb=%{y}<extra></extra>\", \"hovertext\": [\"The Color of Friendship\"], \"legendgroup\": \"The Color of Friendship\", \"marker\": {\"color\": \"#FF97FF\", \"symbol\": \"circle\"}, \"mode\": \"markers\", \"name\": \"The Color of Friendship\", \"orientation\": \"v\", \"showlegend\": true, \"type\": \"scatter\", \"x\": [87.0], \"xaxis\": \"x\", \"y\": [7.2], \"yaxis\": \"y\"}, {\"hovertemplate\": \"<b>%{hovertext}</b><br><br>Title=Oliver & Company<br>Runtime=%{x}<br>IMDb=%{y}<extra></extra>\", \"hovertext\": [\"Oliver & Company\"], \"legendgroup\": \"Oliver & Company\", \"marker\": {\"color\": \"#FECB52\", \"symbol\": \"circle\"}, \"mode\": \"markers\", \"name\": \"Oliver & Company\", \"orientation\": \"v\", \"showlegend\": true, \"type\": \"scatter\", \"x\": [74.0], \"xaxis\": \"x\", \"y\": [6.7], \"yaxis\": \"y\"}, {\"hovertemplate\": \"<b>%{hovertext}</b><br><br>Title=Monkey Kingdom<br>Runtime=%{x}<br>IMDb=%{y}<extra></extra>\", \"hovertext\": [\"Monkey Kingdom\"], \"legendgroup\": \"Monkey Kingdom\", \"marker\": {\"color\": \"#636efa\", \"symbol\": \"circle\"}, \"mode\": \"markers\", \"name\": \"Monkey Kingdom\", \"orientation\": \"v\", \"showlegend\": true, \"type\": \"scatter\", \"x\": [81.0], \"xaxis\": \"x\", \"y\": [7.3], \"yaxis\": \"y\"}, {\"hovertemplate\": \"<b>%{hovertext}</b><br><br>Title=Davy Crockett, King of the Wild Frontier<br>Runtime=%{x}<br>IMDb=%{y}<extra></extra>\", \"hovertext\": [\"Davy Crockett, King of the Wild Frontier\"], \"legendgroup\": \"Davy Crockett, King of the Wild Frontier\", \"marker\": {\"color\": \"#EF553B\", \"symbol\": \"circle\"}, \"mode\": \"markers\", \"name\": \"Davy Crockett, King of the Wild Frontier\", \"orientation\": \"v\", \"showlegend\": true, \"type\": \"scatter\", \"x\": [93.0], \"xaxis\": \"x\", \"y\": [7.0], \"yaxis\": \"y\"}, {\"hovertemplate\": \"<b>%{hovertext}</b><br><br>Title=The Three Caballeros<br>Runtime=%{x}<br>IMDb=%{y}<extra></extra>\", \"hovertext\": [\"The Three Caballeros\"], \"legendgroup\": \"The Three Caballeros\", \"marker\": {\"color\": \"#00cc96\", \"symbol\": \"circle\"}, \"mode\": \"markers\", \"name\": \"The Three Caballeros\", \"orientation\": \"v\", \"showlegend\": true, \"type\": \"scatter\", \"x\": [104.0], \"xaxis\": \"x\", \"y\": [6.5], \"yaxis\": \"y\"}, {\"hovertemplate\": \"<b>%{hovertext}</b><br><br>Title=That Darn Cat!<br>Runtime=%{x}<br>IMDb=%{y}<extra></extra>\", \"hovertext\": [\"That Darn Cat!\"], \"legendgroup\": \"That Darn Cat!\", \"marker\": {\"color\": \"#ab63fa\", \"symbol\": \"circle\"}, \"mode\": \"markers\", \"name\": \"That Darn Cat!\", \"orientation\": \"v\", \"showlegend\": true, \"type\": \"scatter\", \"x\": [116.0], \"xaxis\": \"x\", \"y\": [6.8], \"yaxis\": \"y\"}, {\"hovertemplate\": \"<b>%{hovertext}</b><br><br>Title=African Cats<br>Runtime=%{x}<br>IMDb=%{y}<extra></extra>\", \"hovertext\": [\"African Cats\"], \"legendgroup\": \"African Cats\", \"marker\": {\"color\": \"#FFA15A\", \"symbol\": \"circle\"}, \"mode\": \"markers\", \"name\": \"African Cats\", \"orientation\": \"v\", \"showlegend\": true, \"type\": \"scatter\", \"x\": [89.0], \"xaxis\": \"x\", \"y\": [7.6], \"yaxis\": \"y\"}, {\"hovertemplate\": \"<b>%{hovertext}</b><br><br>Title=Newsies<br>Runtime=%{x}<br>IMDb=%{y}<extra></extra>\", \"hovertext\": [\"Newsies\"], \"legendgroup\": \"Newsies\", \"marker\": {\"color\": \"#19d3f3\", \"symbol\": \"circle\"}, \"mode\": \"markers\", \"name\": \"Newsies\", \"orientation\": \"v\", \"showlegend\": true, \"type\": \"scatter\", \"x\": [121.0], \"xaxis\": \"x\", \"y\": [7.0], \"yaxis\": \"y\"}, {\"hovertemplate\": \"<b>%{hovertext}</b><br><br>Title=3 Men and a Baby<br>Runtime=%{x}<br>IMDb=%{y}<extra></extra>\", \"hovertext\": [\"3 Men and a Baby\"], \"legendgroup\": \"3 Men and a Baby\", \"marker\": {\"color\": \"#FF6692\", \"symbol\": \"circle\"}, \"mode\": \"markers\", \"name\": \"3 Men and a Baby\", \"orientation\": \"v\", \"showlegend\": true, \"type\": \"scatter\", \"x\": [102.0], \"xaxis\": \"x\", \"y\": [6.0], \"yaxis\": \"y\"}, {\"hovertemplate\": \"<b>%{hovertext}</b><br><br>Title=Tuck Everlasting<br>Runtime=%{x}<br>IMDb=%{y}<extra></extra>\", \"hovertext\": [\"Tuck Everlasting\"], \"legendgroup\": \"Tuck Everlasting\", \"marker\": {\"color\": \"#B6E880\", \"symbol\": \"circle\"}, \"mode\": \"markers\", \"name\": \"Tuck Everlasting\", \"orientation\": \"v\", \"showlegend\": true, \"type\": \"scatter\", \"x\": [90.0], \"xaxis\": \"x\", \"y\": [6.6], \"yaxis\": \"y\"}, {\"hovertemplate\": \"<b>%{hovertext}</b><br><br>Title=The Incredible Journey<br>Runtime=%{x}<br>IMDb=%{y}<extra></extra>\", \"hovertext\": [\"The Incredible Journey\"], \"legendgroup\": \"The Incredible Journey\", \"marker\": {\"color\": \"#FF97FF\", \"symbol\": \"circle\"}, \"mode\": \"markers\", \"name\": \"The Incredible Journey\", \"orientation\": \"v\", \"showlegend\": true, \"type\": \"scatter\", \"x\": [80.0], \"xaxis\": \"x\", \"y\": [7.1], \"yaxis\": \"y\"}, {\"hovertemplate\": \"<b>%{hovertext}</b><br><br>Title=The Love Bug<br>Runtime=%{x}<br>IMDb=%{y}<extra></extra>\", \"hovertext\": [\"The Love Bug\"], \"legendgroup\": \"The Love Bug\", \"marker\": {\"color\": \"#FECB52\", \"symbol\": \"circle\"}, \"mode\": \"markers\", \"name\": \"The Love Bug\", \"orientation\": \"v\", \"showlegend\": true, \"type\": \"scatter\", \"x\": [108.0], \"xaxis\": \"x\", \"y\": [6.5], \"yaxis\": \"y\"}, {\"hovertemplate\": \"<b>%{hovertext}</b><br><br>Title=High School Musical 3: Senior Year<br>Runtime=%{x}<br>IMDb=%{y}<extra></extra>\", \"hovertext\": [\"High School Musical 3: Senior Year\"], \"legendgroup\": \"High School Musical 3: Senior Year\", \"marker\": {\"color\": \"#636efa\", \"symbol\": \"circle\"}, \"mode\": \"markers\", \"name\": \"High School Musical 3: Senior Year\", \"orientation\": \"v\", \"showlegend\": true, \"type\": \"scatter\", \"x\": [112.0], \"xaxis\": \"x\", \"y\": [4.8], \"yaxis\": \"y\"}, {\"hovertemplate\": \"<b>%{hovertext}</b><br><br>Title=Return to Oz<br>Runtime=%{x}<br>IMDb=%{y}<extra></extra>\", \"hovertext\": [\"Return to Oz\"], \"legendgroup\": \"Return to Oz\", \"marker\": {\"color\": \"#EF553B\", \"symbol\": \"circle\"}, \"mode\": \"markers\", \"name\": \"Return to Oz\", \"orientation\": \"v\", \"showlegend\": true, \"type\": \"scatter\", \"x\": [113.0], \"xaxis\": \"x\", \"y\": [6.7], \"yaxis\": \"y\"}, {\"hovertemplate\": \"<b>%{hovertext}</b><br><br>Title=Blackbeard's Ghost<br>Runtime=%{x}<br>IMDb=%{y}<extra></extra>\", \"hovertext\": [\"Blackbeard's Ghost\"], \"legendgroup\": \"Blackbeard's Ghost\", \"marker\": {\"color\": \"#00cc96\", \"symbol\": \"circle\"}, \"mode\": \"markers\", \"name\": \"Blackbeard's Ghost\", \"orientation\": \"v\", \"showlegend\": true, \"type\": \"scatter\", \"x\": [106.0], \"xaxis\": \"x\", \"y\": [6.9], \"yaxis\": \"y\"}, {\"hovertemplate\": \"<b>%{hovertext}</b><br><br>Title=Chimpanzee<br>Runtime=%{x}<br>IMDb=%{y}<extra></extra>\", \"hovertext\": [\"Chimpanzee\"], \"legendgroup\": \"Chimpanzee\", \"marker\": {\"color\": \"#ab63fa\", \"symbol\": \"circle\"}, \"mode\": \"markers\", \"name\": \"Chimpanzee\", \"orientation\": \"v\", \"showlegend\": true, \"type\": \"scatter\", \"x\": [78.0], \"xaxis\": \"x\", \"y\": [7.2], \"yaxis\": \"y\"}, {\"hovertemplate\": \"<b>%{hovertext}</b><br><br>Title=The Absent-Minded Professor<br>Runtime=%{x}<br>IMDb=%{y}<extra></extra>\", \"hovertext\": [\"The Absent-Minded Professor\"], \"legendgroup\": \"The Absent-Minded Professor\", \"marker\": {\"color\": \"#FFA15A\", \"symbol\": \"circle\"}, \"mode\": \"markers\", \"name\": \"The Absent-Minded Professor\", \"orientation\": \"v\", \"showlegend\": true, \"type\": \"scatter\", \"x\": [92.0], \"xaxis\": \"x\", \"y\": [6.8], \"yaxis\": \"y\"}, {\"hovertemplate\": \"<b>%{hovertext}</b><br><br>Title=Camp Rock<br>Runtime=%{x}<br>IMDb=%{y}<extra></extra>\", \"hovertext\": [\"Camp Rock\"], \"legendgroup\": \"Camp Rock\", \"marker\": {\"color\": \"#19d3f3\", \"symbol\": \"circle\"}, \"mode\": \"markers\", \"name\": \"Camp Rock\", \"orientation\": \"v\", \"showlegend\": true, \"type\": \"scatter\", \"x\": [94.0], \"xaxis\": \"x\", \"y\": [5.2], \"yaxis\": \"y\"}, {\"hovertemplate\": \"<b>%{hovertext}</b><br><br>Title=Penguins<br>Runtime=%{x}<br>IMDb=%{y}<extra></extra>\", \"hovertext\": [\"Penguins\"], \"legendgroup\": \"Penguins\", \"marker\": {\"color\": \"#FF6692\", \"symbol\": \"circle\"}, \"mode\": \"markers\", \"name\": \"Penguins\", \"orientation\": \"v\", \"showlegend\": true, \"type\": \"scatter\", \"x\": [76.0], \"xaxis\": \"x\", \"y\": [7.0], \"yaxis\": \"y\"}, {\"hovertemplate\": \"<b>%{hovertext}</b><br><br>Title=Pooh's Heffalump Movie<br>Runtime=%{x}<br>IMDb=%{y}<extra></extra>\", \"hovertext\": [\"Pooh's Heffalump Movie\"], \"legendgroup\": \"Pooh's Heffalump Movie\", \"marker\": {\"color\": \"#B6E880\", \"symbol\": \"circle\"}, \"mode\": \"markers\", \"name\": \"Pooh's Heffalump Movie\", \"orientation\": \"v\", \"showlegend\": true, \"type\": \"scatter\", \"x\": [68.0], \"xaxis\": \"x\", \"y\": [6.4], \"yaxis\": \"y\"}, {\"hovertemplate\": \"<b>%{hovertext}</b><br><br>Title=Turner & Hooch<br>Runtime=%{x}<br>IMDb=%{y}<extra></extra>\", \"hovertext\": [\"Turner & Hooch\"], \"legendgroup\": \"Turner & Hooch\", \"marker\": {\"color\": \"#FF97FF\", \"symbol\": \"circle\"}, \"mode\": \"markers\", \"name\": \"Turner & Hooch\", \"orientation\": \"v\", \"showlegend\": true, \"type\": \"scatter\", \"x\": [97.0], \"xaxis\": \"x\", \"y\": [6.2], \"yaxis\": \"y\"}, {\"hovertemplate\": \"<b>%{hovertext}</b><br><br>Title=Glory Road<br>Runtime=%{x}<br>IMDb=%{y}<extra></extra>\", \"hovertext\": [\"Glory Road\"], \"legendgroup\": \"Glory Road\", \"marker\": {\"color\": \"#FECB52\", \"symbol\": \"circle\"}, \"mode\": \"markers\", \"name\": \"Glory Road\", \"orientation\": \"v\", \"showlegend\": true, \"type\": \"scatter\", \"x\": [118.0], \"xaxis\": \"x\", \"y\": [7.2], \"yaxis\": \"y\"}, {\"hovertemplate\": \"<b>%{hovertext}</b><br><br>Title=Princess Protection Program<br>Runtime=%{x}<br>IMDb=%{y}<extra></extra>\", \"hovertext\": [\"Princess Protection Program\"], \"legendgroup\": \"Princess Protection Program\", \"marker\": {\"color\": \"#636efa\", \"symbol\": \"circle\"}, \"mode\": \"markers\", \"name\": \"Princess Protection Program\", \"orientation\": \"v\", \"showlegend\": true, \"type\": \"scatter\", \"x\": [90.0], \"xaxis\": \"x\", \"y\": [5.6], \"yaxis\": \"y\"}, {\"hovertemplate\": \"<b>%{hovertext}</b><br><br>Title=Science Fair<br>Runtime=%{x}<br>IMDb=%{y}<extra></extra>\", \"hovertext\": [\"Science Fair\"], \"legendgroup\": \"Science Fair\", \"marker\": {\"color\": \"#EF553B\", \"symbol\": \"circle\"}, \"mode\": \"markers\", \"name\": \"Science Fair\", \"orientation\": \"v\", \"showlegend\": true, \"type\": \"scatter\", \"x\": [90.0], \"xaxis\": \"x\", \"y\": [7.4], \"yaxis\": \"y\"}, {\"hovertemplate\": \"<b>%{hovertext}</b><br><br>Title=Greyfriars Bobby: The True Story of a Dog<br>Runtime=%{x}<br>IMDb=%{y}<extra></extra>\", \"hovertext\": [\"Greyfriars Bobby: The True Story of a Dog\"], \"legendgroup\": \"Greyfriars Bobby: The True Story of a Dog\", \"marker\": {\"color\": \"#00cc96\", \"symbol\": \"circle\"}, \"mode\": \"markers\", \"name\": \"Greyfriars Bobby: The True Story of a Dog\", \"orientation\": \"v\", \"showlegend\": true, \"type\": \"scatter\", \"x\": [87.0], \"xaxis\": \"x\", \"y\": [7.3], \"yaxis\": \"y\"}, {\"hovertemplate\": \"<b>%{hovertext}</b><br><br>Title=Diary of a Wimpy Kid<br>Runtime=%{x}<br>IMDb=%{y}<extra></extra>\", \"hovertext\": [\"Diary of a Wimpy Kid\"], \"legendgroup\": \"Diary of a Wimpy Kid\", \"marker\": {\"color\": \"#ab63fa\", \"symbol\": \"circle\"}, \"mode\": \"markers\", \"name\": \"Diary of a Wimpy Kid\", \"orientation\": \"v\", \"showlegend\": true, \"type\": \"scatter\", \"x\": [120.0], \"xaxis\": \"x\", \"y\": [6.2], \"yaxis\": \"y\"}, {\"hovertemplate\": \"<b>%{hovertext}</b><br><br>Title=The Odd Life of Timothy Green<br>Runtime=%{x}<br>IMDb=%{y}<extra></extra>\", \"hovertext\": [\"The Odd Life of Timothy Green\"], \"legendgroup\": \"The Odd Life of Timothy Green\", \"marker\": {\"color\": \"#FFA15A\", \"symbol\": \"circle\"}, \"mode\": \"markers\", \"name\": \"The Odd Life of Timothy Green\", \"orientation\": \"v\", \"showlegend\": true, \"type\": \"scatter\", \"x\": [105.0], \"xaxis\": \"x\", \"y\": [6.6], \"yaxis\": \"y\"}, {\"hovertemplate\": \"<b>%{hovertext}</b><br><br>Title=Splash<br>Runtime=%{x}<br>IMDb=%{y}<extra></extra>\", \"hovertext\": [\"Splash\"], \"legendgroup\": \"Splash\", \"marker\": {\"color\": \"#19d3f3\", \"symbol\": \"circle\"}, \"mode\": \"markers\", \"name\": \"Splash\", \"orientation\": \"v\", \"showlegend\": true, \"type\": \"scatter\", \"x\": [111.0], \"xaxis\": \"x\", \"y\": [6.2], \"yaxis\": \"y\"}, {\"hovertemplate\": \"<b>%{hovertext}</b><br><br>Title=The Princess Diaries 2: Royal Engagement<br>Runtime=%{x}<br>IMDb=%{y}<extra></extra>\", \"hovertext\": [\"The Princess Diaries 2: Royal Engagement\"], \"legendgroup\": \"The Princess Diaries 2: Royal Engagement\", \"marker\": {\"color\": \"#FF6692\", \"symbol\": \"circle\"}, \"mode\": \"markers\", \"name\": \"The Princess Diaries 2: Royal Engagement\", \"orientation\": \"v\", \"showlegend\": true, \"type\": \"scatter\", \"x\": [113.0], \"xaxis\": \"x\", \"y\": [5.8], \"yaxis\": \"y\"}, {\"hovertemplate\": \"<b>%{hovertext}</b><br><br>Title=The Black Cauldron<br>Runtime=%{x}<br>IMDb=%{y}<extra></extra>\", \"hovertext\": [\"The Black Cauldron\"], \"legendgroup\": \"The Black Cauldron\", \"marker\": {\"color\": \"#B6E880\", \"symbol\": \"circle\"}, \"mode\": \"markers\", \"name\": \"The Black Cauldron\", \"orientation\": \"v\", \"showlegend\": true, \"type\": \"scatter\", \"x\": [80.0], \"xaxis\": \"x\", \"y\": [6.4], \"yaxis\": \"y\"}, {\"hovertemplate\": \"<b>%{hovertext}</b><br><br>Title=The Game Plan<br>Runtime=%{x}<br>IMDb=%{y}<extra></extra>\", \"hovertext\": [\"The Game Plan\"], \"legendgroup\": \"The Game Plan\", \"marker\": {\"color\": \"#FF97FF\", \"symbol\": \"circle\"}, \"mode\": \"markers\", \"name\": \"The Game Plan\", \"orientation\": \"v\", \"showlegend\": true, \"type\": \"scatter\", \"x\": [110.0], \"xaxis\": \"x\", \"y\": [6.1], \"yaxis\": \"y\"}, {\"hovertemplate\": \"<b>%{hovertext}</b><br><br>Title=Cinderella III: A Twist in Time<br>Runtime=%{x}<br>IMDb=%{y}<extra></extra>\", \"hovertext\": [\"Cinderella III: A Twist in Time\"], \"legendgroup\": \"Cinderella III: A Twist in Time\", \"marker\": {\"color\": \"#FECB52\", \"symbol\": \"circle\"}, \"mode\": \"markers\", \"name\": \"Cinderella III: A Twist in Time\", \"orientation\": \"v\", \"showlegend\": true, \"type\": \"scatter\", \"x\": [74.0], \"xaxis\": \"x\", \"y\": [5.9], \"yaxis\": \"y\"}, {\"hovertemplate\": \"<b>%{hovertext}</b><br><br>Title=Waking Sleeping Beauty<br>Runtime=%{x}<br>IMDb=%{y}<extra></extra>\", \"hovertext\": [\"Waking Sleeping Beauty\"], \"legendgroup\": \"Waking Sleeping Beauty\", \"marker\": {\"color\": \"#636efa\", \"symbol\": \"circle\"}, \"mode\": \"markers\", \"name\": \"Waking Sleeping Beauty\", \"orientation\": \"v\", \"showlegend\": true, \"type\": \"scatter\", \"x\": [86.0], \"xaxis\": \"x\", \"y\": [7.6], \"yaxis\": \"y\"}, {\"hovertemplate\": \"<b>%{hovertext}</b><br><br>Title=The Tigger Movie<br>Runtime=%{x}<br>IMDb=%{y}<extra></extra>\", \"hovertext\": [\"The Tigger Movie\"], \"legendgroup\": \"The Tigger Movie\", \"marker\": {\"color\": \"#EF553B\", \"symbol\": \"circle\"}, \"mode\": \"markers\", \"name\": \"The Tigger Movie\", \"orientation\": \"v\", \"showlegend\": true, \"type\": \"scatter\", \"x\": [77.0], \"xaxis\": \"x\", \"y\": [6.3], \"yaxis\": \"y\"}, {\"hovertemplate\": \"<b>%{hovertext}</b><br><br>Title=Escape to Witch Mountain<br>Runtime=%{x}<br>IMDb=%{y}<extra></extra>\", \"hovertext\": [\"Escape to Witch Mountain\"], \"legendgroup\": \"Escape to Witch Mountain\", \"marker\": {\"color\": \"#00cc96\", \"symbol\": \"circle\"}, \"mode\": \"markers\", \"name\": \"Escape to Witch Mountain\", \"orientation\": \"v\", \"showlegend\": true, \"type\": \"scatter\", \"x\": [97.0], \"xaxis\": \"x\", \"y\": [6.4], \"yaxis\": \"y\"}, {\"hovertemplate\": \"<b>%{hovertext}</b><br><br>Title=Timmy Failure: Mistakes Were Made<br>Runtime=%{x}<br>IMDb=%{y}<extra></extra>\", \"hovertext\": [\"Timmy Failure: Mistakes Were Made\"], \"legendgroup\": \"Timmy Failure: Mistakes Were Made\", \"marker\": {\"color\": \"#ab63fa\", \"symbol\": \"circle\"}, \"mode\": \"markers\", \"name\": \"Timmy Failure: Mistakes Were Made\", \"orientation\": \"v\", \"showlegend\": true, \"type\": \"scatter\", \"x\": [99.0], \"xaxis\": \"x\", \"y\": [6.1], \"yaxis\": \"y\"}, {\"hovertemplate\": \"<b>%{hovertext}</b><br><br>Title=101 Dalmatians<br>Runtime=%{x}<br>IMDb=%{y}<extra></extra>\", \"hovertext\": [\"101 Dalmatians\"], \"legendgroup\": \"101 Dalmatians\", \"marker\": {\"color\": \"#FFA15A\", \"symbol\": \"circle\"}, \"mode\": \"markers\", \"name\": \"101 Dalmatians\", \"orientation\": \"v\", \"showlegend\": true, \"type\": \"scatter\", \"x\": [103.0], \"xaxis\": \"x\", \"y\": [5.7], \"yaxis\": \"y\"}, {\"hovertemplate\": \"<b>%{hovertext}</b><br><br>Title=The Last Song<br>Runtime=%{x}<br>IMDb=%{y}<extra></extra>\", \"hovertext\": [\"The Last Song\"], \"legendgroup\": \"The Last Song\", \"marker\": {\"color\": \"#19d3f3\", \"symbol\": \"circle\"}, \"mode\": \"markers\", \"name\": \"The Last Song\", \"orientation\": \"v\", \"showlegend\": true, \"type\": \"scatter\", \"x\": [107.0], \"xaxis\": \"x\", \"y\": [6.0], \"yaxis\": \"y\"}, {\"hovertemplate\": \"<b>%{hovertext}</b><br><br>Title=George of the Jungle<br>Runtime=%{x}<br>IMDb=%{y}<extra></extra>\", \"hovertext\": [\"George of the Jungle\"], \"legendgroup\": \"George of the Jungle\", \"marker\": {\"color\": \"#FF6692\", \"symbol\": \"circle\"}, \"mode\": \"markers\", \"name\": \"George of the Jungle\", \"orientation\": \"v\", \"showlegend\": true, \"type\": \"scatter\", \"x\": [92.0], \"xaxis\": \"x\", \"y\": [5.5], \"yaxis\": \"y\"}, {\"hovertemplate\": \"<b>%{hovertext}</b><br><br>Title=Frank and Ollie<br>Runtime=%{x}<br>IMDb=%{y}<extra></extra>\", \"hovertext\": [\"Frank and Ollie\"], \"legendgroup\": \"Frank and Ollie\", \"marker\": {\"color\": \"#B6E880\", \"symbol\": \"circle\"}, \"mode\": \"markers\", \"name\": \"Frank and Ollie\", \"orientation\": \"v\", \"showlegend\": true, \"type\": \"scatter\", \"x\": [89.0], \"xaxis\": \"x\", \"y\": [7.8], \"yaxis\": \"y\"}, {\"hovertemplate\": \"<b>%{hovertext}</b><br><br>Title=The Santa Clause 2<br>Runtime=%{x}<br>IMDb=%{y}<extra></extra>\", \"hovertext\": [\"The Santa Clause 2\"], \"legendgroup\": \"The Santa Clause 2\", \"marker\": {\"color\": \"#FF97FF\", \"symbol\": \"circle\"}, \"mode\": \"markers\", \"name\": \"The Santa Clause 2\", \"orientation\": \"v\", \"showlegend\": true, \"type\": \"scatter\", \"x\": [104.0], \"xaxis\": \"x\", \"y\": [5.6], \"yaxis\": \"y\"}, {\"hovertemplate\": \"<b>%{hovertext}</b><br><br>Title=Heavyweights<br>Runtime=%{x}<br>IMDb=%{y}<extra></extra>\", \"hovertext\": [\"Heavyweights\"], \"legendgroup\": \"Heavyweights\", \"marker\": {\"color\": \"#FECB52\", \"symbol\": \"circle\"}, \"mode\": \"markers\", \"name\": \"Heavyweights\", \"orientation\": \"v\", \"showlegend\": true, \"type\": \"scatter\", \"x\": [100.0], \"xaxis\": \"x\", \"y\": [6.6], \"yaxis\": \"y\"}, {\"hovertemplate\": \"<b>%{hovertext}</b><br><br>Title=Ice Princess<br>Runtime=%{x}<br>IMDb=%{y}<extra></extra>\", \"hovertext\": [\"Ice Princess\"], \"legendgroup\": \"Ice Princess\", \"marker\": {\"color\": \"#636efa\", \"symbol\": \"circle\"}, \"mode\": \"markers\", \"name\": \"Ice Princess\", \"orientation\": \"v\", \"showlegend\": true, \"type\": \"scatter\", \"x\": [98.0], \"xaxis\": \"x\", \"y\": [6.0], \"yaxis\": \"y\"}, {\"hovertemplate\": \"<b>%{hovertext}</b><br><br>Title=Bedtime Stories<br>Runtime=%{x}<br>IMDb=%{y}<extra></extra>\", \"hovertext\": [\"Bedtime Stories\"], \"legendgroup\": \"Bedtime Stories\", \"marker\": {\"color\": \"#EF553B\", \"symbol\": \"circle\"}, \"mode\": \"markers\", \"name\": \"Bedtime Stories\", \"orientation\": \"v\", \"showlegend\": true, \"type\": \"scatter\", \"x\": [99.0], \"xaxis\": \"x\", \"y\": [6.0], \"yaxis\": \"y\"}, {\"hovertemplate\": \"<b>%{hovertext}</b><br><br>Title=Cheaper by the Dozen<br>Runtime=%{x}<br>IMDb=%{y}<extra></extra>\", \"hovertext\": [\"Cheaper by the Dozen\"], \"legendgroup\": \"Cheaper by the Dozen\", \"marker\": {\"color\": \"#00cc96\", \"symbol\": \"circle\"}, \"mode\": \"markers\", \"name\": \"Cheaper by the Dozen\", \"orientation\": \"v\", \"showlegend\": true, \"type\": \"scatter\", \"x\": [98.0], \"xaxis\": \"x\", \"y\": [5.9], \"yaxis\": \"y\"}, {\"hovertemplate\": \"<b>%{hovertext}</b><br><br>Title=An Extremely Goofy Movie<br>Runtime=%{x}<br>IMDb=%{y}<extra></extra>\", \"hovertext\": [\"An Extremely Goofy Movie\"], \"legendgroup\": \"An Extremely Goofy Movie\", \"marker\": {\"color\": \"#ab63fa\", \"symbol\": \"circle\"}, \"mode\": \"markers\", \"name\": \"An Extremely Goofy Movie\", \"orientation\": \"v\", \"showlegend\": true, \"type\": \"scatter\", \"x\": [79.0], \"xaxis\": \"x\", \"y\": [6.4], \"yaxis\": \"y\"}, {\"hovertemplate\": \"<b>%{hovertext}</b><br><br>Title=Twitches<br>Runtime=%{x}<br>IMDb=%{y}<extra></extra>\", \"hovertext\": [\"Twitches\"], \"legendgroup\": \"Twitches\", \"marker\": {\"color\": \"#FFA15A\", \"symbol\": \"circle\"}, \"mode\": \"markers\", \"name\": \"Twitches\", \"orientation\": \"v\", \"showlegend\": true, \"type\": \"scatter\", \"x\": [86.0], \"xaxis\": \"x\", \"y\": [5.7], \"yaxis\": \"y\"}, {\"hovertemplate\": \"<b>%{hovertext}</b><br><br>Title=Iron Will<br>Runtime=%{x}<br>IMDb=%{y}<extra></extra>\", \"hovertext\": [\"Iron Will\"], \"legendgroup\": \"Iron Will\", \"marker\": {\"color\": \"#19d3f3\", \"symbol\": \"circle\"}, \"mode\": \"markers\", \"name\": \"Iron Will\", \"orientation\": \"v\", \"showlegend\": true, \"type\": \"scatter\", \"x\": [108.0], \"xaxis\": \"x\", \"y\": [6.6], \"yaxis\": \"y\"}, {\"hovertemplate\": \"<b>%{hovertext}</b><br><br>Title=Aladdin and the King of Thieves<br>Runtime=%{x}<br>IMDb=%{y}<extra></extra>\", \"hovertext\": [\"Aladdin and the King of Thieves\"], \"legendgroup\": \"Aladdin and the King of Thieves\", \"marker\": {\"color\": \"#FF6692\", \"symbol\": \"circle\"}, \"mode\": \"markers\", \"name\": \"Aladdin and the King of Thieves\", \"orientation\": \"v\", \"showlegend\": true, \"type\": \"scatter\", \"x\": [81.0], \"xaxis\": \"x\", \"y\": [6.4], \"yaxis\": \"y\"}, {\"hovertemplate\": \"<b>%{hovertext}</b><br><br>Title=Piglet's Big Movie<br>Runtime=%{x}<br>IMDb=%{y}<extra></extra>\", \"hovertext\": [\"Piglet's Big Movie\"], \"legendgroup\": \"Piglet's Big Movie\", \"marker\": {\"color\": \"#B6E880\", \"symbol\": \"circle\"}, \"mode\": \"markers\", \"name\": \"Piglet's Big Movie\", \"orientation\": \"v\", \"showlegend\": true, \"type\": \"scatter\", \"x\": [75.0], \"xaxis\": \"x\", \"y\": [6.1], \"yaxis\": \"y\"}, {\"hovertemplate\": \"<b>%{hovertext}</b><br><br>Title=Because of Winn-Dixie<br>Runtime=%{x}<br>IMDb=%{y}<extra></extra>\", \"hovertext\": [\"Because of Winn-Dixie\"], \"legendgroup\": \"Because of Winn-Dixie\", \"marker\": {\"color\": \"#FF97FF\", \"symbol\": \"circle\"}, \"mode\": \"markers\", \"name\": \"Because of Winn-Dixie\", \"orientation\": \"v\", \"showlegend\": true, \"type\": \"scatter\", \"x\": [106.0], \"xaxis\": \"x\", \"y\": [6.3], \"yaxis\": \"y\"}, {\"hovertemplate\": \"<b>%{hovertext}</b><br><br>Title=Fun and Fancy Free<br>Runtime=%{x}<br>IMDb=%{y}<extra></extra>\", \"hovertext\": [\"Fun and Fancy Free\"], \"legendgroup\": \"Fun and Fancy Free\", \"marker\": {\"color\": \"#FECB52\", \"symbol\": \"circle\"}, \"mode\": \"markers\", \"name\": \"Fun and Fancy Free\", \"orientation\": \"v\", \"showlegend\": true, \"type\": \"scatter\", \"x\": [73.0], \"xaxis\": \"x\", \"y\": [6.6], \"yaxis\": \"y\"}, {\"hovertemplate\": \"<b>%{hovertext}</b><br><br>Title=Mickey's Once Upon a Christmas<br>Runtime=%{x}<br>IMDb=%{y}<extra></extra>\", \"hovertext\": [\"Mickey's Once Upon a Christmas\"], \"legendgroup\": \"Mickey's Once Upon a Christmas\", \"marker\": {\"color\": \"#636efa\", \"symbol\": \"circle\"}, \"mode\": \"markers\", \"name\": \"Mickey's Once Upon a Christmas\", \"orientation\": \"v\", \"showlegend\": true, \"type\": \"scatter\", \"x\": [66.0], \"xaxis\": \"x\", \"y\": [7.2], \"yaxis\": \"y\"}, {\"hovertemplate\": \"<b>%{hovertext}</b><br><br>Title=Deep Blue<br>Runtime=%{x}<br>IMDb=%{y}<extra></extra>\", \"hovertext\": [\"Deep Blue\"], \"legendgroup\": \"Deep Blue\", \"marker\": {\"color\": \"#EF553B\", \"symbol\": \"circle\"}, \"mode\": \"markers\", \"name\": \"Deep Blue\", \"orientation\": \"v\", \"showlegend\": true, \"type\": \"scatter\", \"x\": [105.0], \"xaxis\": \"x\", \"y\": [7.4], \"yaxis\": \"y\"}, {\"hovertemplate\": \"<b>%{hovertext}</b><br><br>Title=Red Tails<br>Runtime=%{x}<br>IMDb=%{y}<extra></extra>\", \"hovertext\": [\"Red Tails\"], \"legendgroup\": \"Red Tails\", \"marker\": {\"color\": \"#00cc96\", \"symbol\": \"circle\"}, \"mode\": \"markers\", \"name\": \"Red Tails\", \"orientation\": \"v\", \"showlegend\": true, \"type\": \"scatter\", \"x\": [125.0], \"xaxis\": \"x\", \"y\": [5.9], \"yaxis\": \"y\"}, {\"hovertemplate\": \"<b>%{hovertext}</b><br><br>Title=Lilo & Stitch 2: Stitch Has a Glitch<br>Runtime=%{x}<br>IMDb=%{y}<extra></extra>\", \"hovertext\": [\"Lilo & Stitch 2: Stitch Has a Glitch\"], \"legendgroup\": \"Lilo & Stitch 2: Stitch Has a Glitch\", \"marker\": {\"color\": \"#ab63fa\", \"symbol\": \"circle\"}, \"mode\": \"markers\", \"name\": \"Lilo & Stitch 2: Stitch Has a Glitch\", \"orientation\": \"v\", \"showlegend\": true, \"type\": \"scatter\", \"x\": [68.0], \"xaxis\": \"x\", \"y\": [6.3], \"yaxis\": \"y\"}, {\"hovertemplate\": \"<b>%{hovertext}</b><br><br>Title=Ruby Bridges<br>Runtime=%{x}<br>IMDb=%{y}<extra></extra>\", \"hovertext\": [\"Ruby Bridges\"], \"legendgroup\": \"Ruby Bridges\", \"marker\": {\"color\": \"#FFA15A\", \"symbol\": \"circle\"}, \"mode\": \"markers\", \"name\": \"Ruby Bridges\", \"orientation\": \"v\", \"showlegend\": true, \"type\": \"scatter\", \"x\": [96.0], \"xaxis\": \"x\", \"y\": [7.2], \"yaxis\": \"y\"}, {\"hovertemplate\": \"<b>%{hovertext}</b><br><br>Title=Doctor Dolittle<br>Runtime=%{x}<br>IMDb=%{y}<extra></extra>\", \"hovertext\": [\"Doctor Dolittle\"], \"legendgroup\": \"Doctor Dolittle\", \"marker\": {\"color\": \"#19d3f3\", \"symbol\": \"circle\"}, \"mode\": \"markers\", \"name\": \"Doctor Dolittle\", \"orientation\": \"v\", \"showlegend\": true, \"type\": \"scatter\", \"x\": [85.0], \"xaxis\": \"x\", \"y\": [5.4], \"yaxis\": \"y\"}, {\"hovertemplate\": \"<b>%{hovertext}</b><br><br>Title=Brother Bear 2<br>Runtime=%{x}<br>IMDb=%{y}<extra></extra>\", \"hovertext\": [\"Brother Bear 2\"], \"legendgroup\": \"Brother Bear 2\", \"marker\": {\"color\": \"#FF6692\", \"symbol\": \"circle\"}, \"mode\": \"markers\", \"name\": \"Brother Bear 2\", \"orientation\": \"v\", \"showlegend\": true, \"type\": \"scatter\", \"x\": [74.0], \"xaxis\": \"x\", \"y\": [6.2], \"yaxis\": \"y\"}, {\"hovertemplate\": \"<b>%{hovertext}</b><br><br>Title=Camp Rock 2: The Final Jam<br>Runtime=%{x}<br>IMDb=%{y}<extra></extra>\", \"hovertext\": [\"Camp Rock 2: The Final Jam\"], \"legendgroup\": \"Camp Rock 2: The Final Jam\", \"marker\": {\"color\": \"#B6E880\", \"symbol\": \"circle\"}, \"mode\": \"markers\", \"name\": \"Camp Rock 2: The Final Jam\", \"orientation\": \"v\", \"showlegend\": true, \"type\": \"scatter\", \"x\": [97.0], \"xaxis\": \"x\", \"y\": [5.2], \"yaxis\": \"y\"}, {\"hovertemplate\": \"<b>%{hovertext}</b><br><br>Title=Recess: School's Out<br>Runtime=%{x}<br>IMDb=%{y}<extra></extra>\", \"hovertext\": [\"Recess: School's Out\"], \"legendgroup\": \"Recess: School's Out\", \"marker\": {\"color\": \"#FF97FF\", \"symbol\": \"circle\"}, \"mode\": \"markers\", \"name\": \"Recess: School's Out\", \"orientation\": \"v\", \"showlegend\": true, \"type\": \"scatter\", \"x\": [82.0], \"xaxis\": \"x\", \"y\": [6.6], \"yaxis\": \"y\"}, {\"hovertemplate\": \"<b>%{hovertext}</b><br><br>Title=The Adventures of Huck Finn<br>Runtime=%{x}<br>IMDb=%{y}<extra></extra>\", \"hovertext\": [\"The Adventures of Huck Finn\"], \"legendgroup\": \"The Adventures of Huck Finn\", \"marker\": {\"color\": \"#FECB52\", \"symbol\": \"circle\"}, \"mode\": \"markers\", \"name\": \"The Adventures of Huck Finn\", \"orientation\": \"v\", \"showlegend\": true, \"type\": \"scatter\", \"x\": [108.0], \"xaxis\": \"x\", \"y\": [6.2], \"yaxis\": \"y\"}, {\"hovertemplate\": \"<b>%{hovertext}</b><br><br>Title=Lemonade Mouth<br>Runtime=%{x}<br>IMDb=%{y}<extra></extra>\", \"hovertext\": [\"Lemonade Mouth\"], \"legendgroup\": \"Lemonade Mouth\", \"marker\": {\"color\": \"#636efa\", \"symbol\": \"circle\"}, \"mode\": \"markers\", \"name\": \"Lemonade Mouth\", \"orientation\": \"v\", \"showlegend\": true, \"type\": \"scatter\", \"x\": [103.0], \"xaxis\": \"x\", \"y\": [6.9], \"yaxis\": \"y\"}, {\"hovertemplate\": \"<b>%{hovertext}</b><br><br>Title=The Crimson Wing: Mystery of the Flamingos<br>Runtime=%{x}<br>IMDb=%{y}<extra></extra>\", \"hovertext\": [\"The Crimson Wing: Mystery of the Flamingos\"], \"legendgroup\": \"The Crimson Wing: Mystery of the Flamingos\", \"marker\": {\"color\": \"#EF553B\", \"symbol\": \"circle\"}, \"mode\": \"markers\", \"name\": \"The Crimson Wing: Mystery of the Flamingos\", \"orientation\": \"v\", \"showlegend\": true, \"type\": \"scatter\", \"x\": [78.0], \"xaxis\": \"x\", \"y\": [7.3], \"yaxis\": \"y\"}, {\"hovertemplate\": \"<b>%{hovertext}</b><br><br>Title=Big Business<br>Runtime=%{x}<br>IMDb=%{y}<extra></extra>\", \"hovertext\": [\"Big Business\"], \"legendgroup\": \"Big Business\", \"marker\": {\"color\": \"#00cc96\", \"symbol\": \"circle\"}, \"mode\": \"markers\", \"name\": \"Big Business\", \"orientation\": \"v\", \"showlegend\": true, \"type\": \"scatter\", \"x\": [97.0], \"xaxis\": \"x\", \"y\": [6.4], \"yaxis\": \"y\"}, {\"hovertemplate\": \"<b>%{hovertext}</b><br><br>Title=Melody Time<br>Runtime=%{x}<br>IMDb=%{y}<extra></extra>\", \"hovertext\": [\"Melody Time\"], \"legendgroup\": \"Melody Time\", \"marker\": {\"color\": \"#ab63fa\", \"symbol\": \"circle\"}, \"mode\": \"markers\", \"name\": \"Melody Time\", \"orientation\": \"v\", \"showlegend\": true, \"type\": \"scatter\", \"x\": [75.0], \"xaxis\": \"x\", \"y\": [6.4], \"yaxis\": \"y\"}, {\"hovertemplate\": \"<b>%{hovertext}</b><br><br>Title=Bambi II<br>Runtime=%{x}<br>IMDb=%{y}<extra></extra>\", \"hovertext\": [\"Bambi II\"], \"legendgroup\": \"Bambi II\", \"marker\": {\"color\": \"#FFA15A\", \"symbol\": \"circle\"}, \"mode\": \"markers\", \"name\": \"Bambi II\", \"orientation\": \"v\", \"showlegend\": true, \"type\": \"scatter\", \"x\": [75.0], \"xaxis\": \"x\", \"y\": [6.1], \"yaxis\": \"y\"}, {\"hovertemplate\": \"<b>%{hovertext}</b><br><br>Title=The Cheetah Girls<br>Runtime=%{x}<br>IMDb=%{y}<extra></extra>\", \"hovertext\": [\"The Cheetah Girls\"], \"legendgroup\": \"The Cheetah Girls\", \"marker\": {\"color\": \"#19d3f3\", \"symbol\": \"circle\"}, \"mode\": \"markers\", \"name\": \"The Cheetah Girls\", \"orientation\": \"v\", \"showlegend\": true, \"type\": \"scatter\", \"x\": [100.0], \"xaxis\": \"x\", \"y\": [4.8], \"yaxis\": \"y\"}, {\"hovertemplate\": \"<b>%{hovertext}</b><br><br>Title=Hannah Montana: The Movie<br>Runtime=%{x}<br>IMDb=%{y}<extra></extra>\", \"hovertext\": [\"Hannah Montana: The Movie\"], \"legendgroup\": \"Hannah Montana: The Movie\", \"marker\": {\"color\": \"#FF6692\", \"symbol\": \"circle\"}, \"mode\": \"markers\", \"name\": \"Hannah Montana: The Movie\", \"orientation\": \"v\", \"showlegend\": true, \"type\": \"scatter\", \"x\": [102.0], \"xaxis\": \"x\", \"y\": [4.5], \"yaxis\": \"y\"}, {\"hovertemplate\": \"<b>%{hovertext}</b><br><br>Title=Herbie Rides Again<br>Runtime=%{x}<br>IMDb=%{y}<extra></extra>\", \"hovertext\": [\"Herbie Rides Again\"], \"legendgroup\": \"Herbie Rides Again\", \"marker\": {\"color\": \"#B6E880\", \"symbol\": \"circle\"}, \"mode\": \"markers\", \"name\": \"Herbie Rides Again\", \"orientation\": \"v\", \"showlegend\": true, \"type\": \"scatter\", \"x\": [88.0], \"xaxis\": \"x\", \"y\": [5.7], \"yaxis\": \"y\"}, {\"hovertemplate\": \"<b>%{hovertext}</b><br><br>Title=Descendants 3<br>Runtime=%{x}<br>IMDb=%{y}<extra></extra>\", \"hovertext\": [\"Descendants 3\"], \"legendgroup\": \"Descendants 3\", \"marker\": {\"color\": \"#FF97FF\", \"symbol\": \"circle\"}, \"mode\": \"markers\", \"name\": \"Descendants 3\", \"orientation\": \"v\", \"showlegend\": true, \"type\": \"scatter\", \"x\": [106.0], \"xaxis\": \"x\", \"y\": [6.7], \"yaxis\": \"y\"}, {\"hovertemplate\": \"<b>%{hovertext}</b><br><br>Title=Olaf's Frozen Adventure<br>Runtime=%{x}<br>IMDb=%{y}<extra></extra>\", \"hovertext\": [\"Olaf's Frozen Adventure\"], \"legendgroup\": \"Olaf's Frozen Adventure\", \"marker\": {\"color\": \"#FECB52\", \"symbol\": \"circle\"}, \"mode\": \"markers\", \"name\": \"Olaf's Frozen Adventure\", \"orientation\": \"v\", \"showlegend\": true, \"type\": \"scatter\", \"x\": [22.0], \"xaxis\": \"x\", \"y\": [5.5], \"yaxis\": \"y\"}, {\"hovertemplate\": \"<b>%{hovertext}</b><br><br>Title=The Apple Dumpling Gang<br>Runtime=%{x}<br>IMDb=%{y}<extra></extra>\", \"hovertext\": [\"The Apple Dumpling Gang\"], \"legendgroup\": \"The Apple Dumpling Gang\", \"marker\": {\"color\": \"#636efa\", \"symbol\": \"circle\"}, \"mode\": \"markers\", \"name\": \"The Apple Dumpling Gang\", \"orientation\": \"v\", \"showlegend\": true, \"type\": \"scatter\", \"x\": [100.0], \"xaxis\": \"x\", \"y\": [6.5], \"yaxis\": \"y\"}, {\"hovertemplate\": \"<b>%{hovertext}</b><br><br>Title=Newsies: The Broadway Musical<br>Runtime=%{x}<br>IMDb=%{y}<extra></extra>\", \"hovertext\": [\"Newsies: The Broadway Musical\"], \"legendgroup\": \"Newsies: The Broadway Musical\", \"marker\": {\"color\": \"#EF553B\", \"symbol\": \"circle\"}, \"mode\": \"markers\", \"name\": \"Newsies: The Broadway Musical\", \"orientation\": \"v\", \"showlegend\": true, \"type\": \"scatter\", \"x\": [149.0], \"xaxis\": \"x\", \"y\": [8.5], \"yaxis\": \"y\"}, {\"hovertemplate\": \"<b>%{hovertext}</b><br><br>Title=101 Dalmatians II: Patch's London Adventure<br>Runtime=%{x}<br>IMDb=%{y}<extra></extra>\", \"hovertext\": [\"101 Dalmatians II: Patch's London Adventure\"], \"legendgroup\": \"101 Dalmatians II: Patch's London Adventure\", \"marker\": {\"color\": \"#00cc96\", \"symbol\": \"circle\"}, \"mode\": \"markers\", \"name\": \"101 Dalmatians II: Patch's London Adventure\", \"orientation\": \"v\", \"showlegend\": true, \"type\": \"scatter\", \"x\": [74.0], \"xaxis\": \"x\", \"y\": [5.8], \"yaxis\": \"y\"}, {\"hovertemplate\": \"<b>%{hovertext}</b><br><br>Title=Saludos Amigos<br>Runtime=%{x}<br>IMDb=%{y}<extra></extra>\", \"hovertext\": [\"Saludos Amigos\"], \"legendgroup\": \"Saludos Amigos\", \"marker\": {\"color\": \"#ab63fa\", \"symbol\": \"circle\"}, \"mode\": \"markers\", \"name\": \"Saludos Amigos\", \"orientation\": \"v\", \"showlegend\": true, \"type\": \"scatter\", \"x\": [42.0], \"xaxis\": \"x\", \"y\": [6.2], \"yaxis\": \"y\"}, {\"hovertemplate\": \"<b>%{hovertext}</b><br><br>Title=Mighty Joe Young<br>Runtime=%{x}<br>IMDb=%{y}<extra></extra>\", \"hovertext\": [\"Mighty Joe Young\"], \"legendgroup\": \"Mighty Joe Young\", \"marker\": {\"color\": \"#FFA15A\", \"symbol\": \"circle\"}, \"mode\": \"markers\", \"name\": \"Mighty Joe Young\", \"orientation\": \"v\", \"showlegend\": true, \"type\": \"scatter\", \"x\": [114.0], \"xaxis\": \"x\", \"y\": [5.6], \"yaxis\": \"y\"}, {\"hovertemplate\": \"<b>%{hovertext}</b><br><br>Title=Thumbelina<br>Runtime=%{x}<br>IMDb=%{y}<extra></extra>\", \"hovertext\": [\"Thumbelina\"], \"legendgroup\": \"Thumbelina\", \"marker\": {\"color\": \"#19d3f3\", \"symbol\": \"circle\"}, \"mode\": \"markers\", \"name\": \"Thumbelina\", \"orientation\": \"v\", \"showlegend\": true, \"type\": \"scatter\", \"x\": [86.0], \"xaxis\": \"x\", \"y\": [6.3], \"yaxis\": \"y\"}, {\"hovertemplate\": \"<b>%{hovertext}</b><br><br>Title=The Lizzie McGuire Movie<br>Runtime=%{x}<br>IMDb=%{y}<extra></extra>\", \"hovertext\": [\"The Lizzie McGuire Movie\"], \"legendgroup\": \"The Lizzie McGuire Movie\", \"marker\": {\"color\": \"#FF6692\", \"symbol\": \"circle\"}, \"mode\": \"markers\", \"name\": \"The Lizzie McGuire Movie\", \"orientation\": \"v\", \"showlegend\": true, \"type\": \"scatter\", \"x\": [94.0], \"xaxis\": \"x\", \"y\": [5.5], \"yaxis\": \"y\"}, {\"hovertemplate\": \"<b>%{hovertext}</b><br><br>Title=The Cat from Outer Space<br>Runtime=%{x}<br>IMDb=%{y}<extra></extra>\", \"hovertext\": [\"The Cat from Outer Space\"], \"legendgroup\": \"The Cat from Outer Space\", \"marker\": {\"color\": \"#B6E880\", \"symbol\": \"circle\"}, \"mode\": \"markers\", \"name\": \"The Cat from Outer Space\", \"orientation\": \"v\", \"showlegend\": true, \"type\": \"scatter\", \"x\": [104.0], \"xaxis\": \"x\", \"y\": [6.1], \"yaxis\": \"y\"}, {\"hovertemplate\": \"<b>%{hovertext}</b><br><br>Title=Rookie of the Year<br>Runtime=%{x}<br>IMDb=%{y}<extra></extra>\", \"hovertext\": [\"Rookie of the Year\"], \"legendgroup\": \"Rookie of the Year\", \"marker\": {\"color\": \"#FF97FF\", \"symbol\": \"circle\"}, \"mode\": \"markers\", \"name\": \"Rookie of the Year\", \"orientation\": \"v\", \"showlegend\": true, \"type\": \"scatter\", \"x\": [103.0], \"xaxis\": \"x\", \"y\": [6.0], \"yaxis\": \"y\"}, {\"hovertemplate\": \"<b>%{hovertext}</b><br><br>Title=Sister Act 2: Back in the Habit<br>Runtime=%{x}<br>IMDb=%{y}<extra></extra>\", \"hovertext\": [\"Sister Act 2: Back in the Habit\"], \"legendgroup\": \"Sister Act 2: Back in the Habit\", \"marker\": {\"color\": \"#FECB52\", \"symbol\": \"circle\"}, \"mode\": \"markers\", \"name\": \"Sister Act 2: Back in the Habit\", \"orientation\": \"v\", \"showlegend\": true, \"type\": \"scatter\", \"x\": [107.0], \"xaxis\": \"x\", \"y\": [5.6], \"yaxis\": \"y\"}, {\"hovertemplate\": \"<b>%{hovertext}</b><br><br>Title=Homeward Bound II: Lost in San Francisco<br>Runtime=%{x}<br>IMDb=%{y}<extra></extra>\", \"hovertext\": [\"Homeward Bound II: Lost in San Francisco\"], \"legendgroup\": \"Homeward Bound II: Lost in San Francisco\", \"marker\": {\"color\": \"#636efa\", \"symbol\": \"circle\"}, \"mode\": \"markers\", \"name\": \"Homeward Bound II: Lost in San Francisco\", \"orientation\": \"v\", \"showlegend\": true, \"type\": \"scatter\", \"x\": [88.0], \"xaxis\": \"x\", \"y\": [5.9], \"yaxis\": \"y\"}, {\"hovertemplate\": \"<b>%{hovertext}</b><br><br>Title=Jump In!<br>Runtime=%{x}<br>IMDb=%{y}<extra></extra>\", \"hovertext\": [\"Jump In!\"], \"legendgroup\": \"Jump In!\", \"marker\": {\"color\": \"#EF553B\", \"symbol\": \"circle\"}, \"mode\": \"markers\", \"name\": \"Jump In!\", \"orientation\": \"v\", \"showlegend\": true, \"type\": \"scatter\", \"x\": [85.0], \"xaxis\": \"x\", \"y\": [5.3], \"yaxis\": \"y\"}, {\"hovertemplate\": \"<b>%{hovertext}</b><br><br>Title=Roving Mars<br>Runtime=%{x}<br>IMDb=%{y}<extra></extra>\", \"hovertext\": [\"Roving Mars\"], \"legendgroup\": \"Roving Mars\", \"marker\": {\"color\": \"#00cc96\", \"symbol\": \"circle\"}, \"mode\": \"markers\", \"name\": \"Roving Mars\", \"orientation\": \"v\", \"showlegend\": true, \"type\": \"scatter\", \"x\": [40.0], \"xaxis\": \"x\", \"y\": [7.2], \"yaxis\": \"y\"}, {\"hovertemplate\": \"<b>%{hovertext}</b><br><br>Title=The Black Hole<br>Runtime=%{x}<br>IMDb=%{y}<extra></extra>\", \"hovertext\": [\"The Black Hole\"], \"legendgroup\": \"The Black Hole\", \"marker\": {\"color\": \"#ab63fa\", \"symbol\": \"circle\"}, \"mode\": \"markers\", \"name\": \"The Black Hole\", \"orientation\": \"v\", \"showlegend\": true, \"type\": \"scatter\", \"x\": [98.0], \"xaxis\": \"x\", \"y\": [6.0], \"yaxis\": \"y\"}, {\"hovertemplate\": \"<b>%{hovertext}</b><br><br>Title=Lady and the Tramp II: Scamp's Adventure<br>Runtime=%{x}<br>IMDb=%{y}<extra></extra>\", \"hovertext\": [\"Lady and the Tramp II: Scamp's Adventure\"], \"legendgroup\": \"Lady and the Tramp II: Scamp's Adventure\", \"marker\": {\"color\": \"#FFA15A\", \"symbol\": \"circle\"}, \"mode\": \"markers\", \"name\": \"Lady and the Tramp II: Scamp's Adventure\", \"orientation\": \"v\", \"showlegend\": true, \"type\": \"scatter\", \"x\": [69.0], \"xaxis\": \"x\", \"y\": [5.9], \"yaxis\": \"y\"}, {\"hovertemplate\": \"<b>%{hovertext}</b><br><br>Title=Around the World in 80 Days<br>Runtime=%{x}<br>IMDb=%{y}<extra></extra>\", \"hovertext\": [\"Around the World in 80 Days\"], \"legendgroup\": \"Around the World in 80 Days\", \"marker\": {\"color\": \"#19d3f3\", \"symbol\": \"circle\"}, \"mode\": \"markers\", \"name\": \"Around the World in 80 Days\", \"orientation\": \"v\", \"showlegend\": true, \"type\": \"scatter\", \"x\": [120.0], \"xaxis\": \"x\", \"y\": [5.9], \"yaxis\": \"y\"}, {\"hovertemplate\": \"<b>%{hovertext}</b><br><br>Title=Luxo Jr.<br>Runtime=%{x}<br>IMDb=%{y}<extra></extra>\", \"hovertext\": [\"Luxo Jr.\"], \"legendgroup\": \"Luxo Jr.\", \"marker\": {\"color\": \"#FF6692\", \"symbol\": \"circle\"}, \"mode\": \"markers\", \"name\": \"Luxo Jr.\", \"orientation\": \"v\", \"showlegend\": true, \"type\": \"scatter\", \"x\": [2.0], \"xaxis\": \"x\", \"y\": [7.3], \"yaxis\": \"y\"}, {\"hovertemplate\": \"<b>%{hovertext}</b><br><br>Title=Flubber<br>Runtime=%{x}<br>IMDb=%{y}<extra></extra>\", \"hovertext\": [\"Flubber\"], \"legendgroup\": \"Flubber\", \"marker\": {\"color\": \"#B6E880\", \"symbol\": \"circle\"}, \"mode\": \"markers\", \"name\": \"Flubber\", \"orientation\": \"v\", \"showlegend\": true, \"type\": \"scatter\", \"x\": [93.0], \"xaxis\": \"x\", \"y\": [5.3], \"yaxis\": \"y\"}, {\"hovertemplate\": \"<b>%{hovertext}</b><br><br>Title=The Return of Jafar<br>Runtime=%{x}<br>IMDb=%{y}<extra></extra>\", \"hovertext\": [\"The Return of Jafar\"], \"legendgroup\": \"The Return of Jafar\", \"marker\": {\"color\": \"#FF97FF\", \"symbol\": \"circle\"}, \"mode\": \"markers\", \"name\": \"The Return of Jafar\", \"orientation\": \"v\", \"showlegend\": true, \"type\": \"scatter\", \"x\": [69.0], \"xaxis\": \"x\", \"y\": [5.9], \"yaxis\": \"y\"}, {\"hovertemplate\": \"<b>%{hovertext}</b><br><br>Title=Aliens of the Deep<br>Runtime=%{x}<br>IMDb=%{y}<extra></extra>\", \"hovertext\": [\"Aliens of the Deep\"], \"legendgroup\": \"Aliens of the Deep\", \"marker\": {\"color\": \"#FECB52\", \"symbol\": \"circle\"}, \"mode\": \"markers\", \"name\": \"Aliens of the Deep\", \"orientation\": \"v\", \"showlegend\": true, \"type\": \"scatter\", \"x\": [100.0], \"xaxis\": \"x\", \"y\": [6.4], \"yaxis\": \"y\"}, {\"hovertemplate\": \"<b>%{hovertext}</b><br><br>Title=Mickey, Donald, Goofy: The Three Musketeers<br>Runtime=%{x}<br>IMDb=%{y}<extra></extra>\", \"hovertext\": [\"Mickey, Donald, Goofy: The Three Musketeers\"], \"legendgroup\": \"Mickey, Donald, Goofy: The Three Musketeers\", \"marker\": {\"color\": \"#636efa\", \"symbol\": \"circle\"}, \"mode\": \"markers\", \"name\": \"Mickey, Donald, Goofy: The Three Musketeers\", \"orientation\": \"v\", \"showlegend\": true, \"type\": \"scatter\", \"x\": [68.0], \"xaxis\": \"x\", \"y\": [6.4], \"yaxis\": \"y\"}, {\"hovertemplate\": \"<b>%{hovertext}</b><br><br>Title=The Little Mermaid: Ariel's Beginning<br>Runtime=%{x}<br>IMDb=%{y}<extra></extra>\", \"hovertext\": [\"The Little Mermaid: Ariel's Beginning\"], \"legendgroup\": \"The Little Mermaid: Ariel's Beginning\", \"marker\": {\"color\": \"#EF553B\", \"symbol\": \"circle\"}, \"mode\": \"markers\", \"name\": \"The Little Mermaid: Ariel's Beginning\", \"orientation\": \"v\", \"showlegend\": true, \"type\": \"scatter\", \"x\": [77.0], \"xaxis\": \"x\", \"y\": [6.3], \"yaxis\": \"y\"}, {\"hovertemplate\": \"<b>%{hovertext}</b><br><br>Title=The Cheetah Girls 2: When in Spain<br>Runtime=%{x}<br>IMDb=%{y}<extra></extra>\", \"hovertext\": [\"The Cheetah Girls 2: When in Spain\"], \"legendgroup\": \"The Cheetah Girls 2: When in Spain\", \"marker\": {\"color\": \"#00cc96\", \"symbol\": \"circle\"}, \"mode\": \"markers\", \"name\": \"The Cheetah Girls 2: When in Spain\", \"orientation\": \"v\", \"showlegend\": true, \"type\": \"scatter\", \"x\": [96.0], \"xaxis\": \"x\", \"y\": [5.0], \"yaxis\": \"y\"}, {\"hovertemplate\": \"<b>%{hovertext}</b><br><br>Title=Pooh's Grand Adventure: The Search for Christopher Robin<br>Runtime=%{x}<br>IMDb=%{y}<extra></extra>\", \"hovertext\": [\"Pooh's Grand Adventure: The Search for Christopher Robin\"], \"legendgroup\": \"Pooh's Grand Adventure: The Search for Christopher Robin\", \"marker\": {\"color\": \"#ab63fa\", \"symbol\": \"circle\"}, \"mode\": \"markers\", \"name\": \"Pooh's Grand Adventure: The Search for Christopher Robin\", \"orientation\": \"v\", \"showlegend\": true, \"type\": \"scatter\", \"x\": [76.0], \"xaxis\": \"x\", \"y\": [7.1], \"yaxis\": \"y\"}, {\"hovertemplate\": \"<b>%{hovertext}</b><br><br>Title=Jack<br>Runtime=%{x}<br>IMDb=%{y}<extra></extra>\", \"hovertext\": [\"Jack\"], \"legendgroup\": \"Jack\", \"marker\": {\"color\": \"#FFA15A\", \"symbol\": \"circle\"}, \"mode\": \"markers\", \"name\": \"Jack\", \"orientation\": \"v\", \"showlegend\": true, \"type\": \"scatter\", \"x\": [122.0], \"xaxis\": \"x\", \"y\": [5.8], \"yaxis\": \"y\"}, {\"hovertemplate\": \"<b>%{hovertext}</b><br><br>Title=Stargirl<br>Runtime=%{x}<br>IMDb=%{y}<extra></extra>\", \"hovertext\": [\"Stargirl\"], \"legendgroup\": \"Stargirl\", \"marker\": {\"color\": \"#19d3f3\", \"symbol\": \"circle\"}, \"mode\": \"markers\", \"name\": \"Stargirl\", \"orientation\": \"v\", \"showlegend\": true, \"type\": \"scatter\", \"x\": [45.0], \"xaxis\": \"x\", \"y\": [6.2], \"yaxis\": \"y\"}, {\"hovertemplate\": \"<b>%{hovertext}</b><br><br>Title=Return to Never Land<br>Runtime=%{x}<br>IMDb=%{y}<extra></extra>\", \"hovertext\": [\"Return to Never Land\"], \"legendgroup\": \"Return to Never Land\", \"marker\": {\"color\": \"#FF6692\", \"symbol\": \"circle\"}, \"mode\": \"markers\", \"name\": \"Return to Never Land\", \"orientation\": \"v\", \"showlegend\": true, \"type\": \"scatter\", \"x\": [72.0], \"xaxis\": \"x\", \"y\": [5.8], \"yaxis\": \"y\"}, {\"hovertemplate\": \"<b>%{hovertext}</b><br><br>Title=The Shaggy Dog<br>Runtime=%{x}<br>IMDb=%{y}<extra></extra>\", \"hovertext\": [\"The Shaggy Dog\"], \"legendgroup\": \"The Shaggy Dog\", \"marker\": {\"color\": \"#B6E880\", \"symbol\": \"circle\"}, \"mode\": \"markers\", \"name\": \"The Shaggy Dog\", \"orientation\": \"v\", \"showlegend\": true, \"type\": \"scatter\", \"x\": [104.0], \"xaxis\": \"x\", \"y\": [6.5], \"yaxis\": \"y\"}, {\"hovertemplate\": \"<b>%{hovertext}</b><br><br>Title=Herbie Goes to Monte Carlo<br>Runtime=%{x}<br>IMDb=%{y}<extra></extra>\", \"hovertext\": [\"Herbie Goes to Monte Carlo\"], \"legendgroup\": \"Herbie Goes to Monte Carlo\", \"marker\": {\"color\": \"#FF97FF\", \"symbol\": \"circle\"}, \"mode\": \"markers\", \"name\": \"Herbie Goes to Monte Carlo\", \"orientation\": \"v\", \"showlegend\": true, \"type\": \"scatter\", \"x\": [105.0], \"xaxis\": \"x\", \"y\": [5.7], \"yaxis\": \"y\"}, {\"hovertemplate\": \"<b>%{hovertext}</b><br><br>Title=Home on the Range<br>Runtime=%{x}<br>IMDb=%{y}<extra></extra>\", \"hovertext\": [\"Home on the Range\"], \"legendgroup\": \"Home on the Range\", \"marker\": {\"color\": \"#FECB52\", \"symbol\": \"circle\"}, \"mode\": \"markers\", \"name\": \"Home on the Range\", \"orientation\": \"v\", \"showlegend\": true, \"type\": \"scatter\", \"x\": [76.0], \"xaxis\": \"x\", \"y\": [5.3], \"yaxis\": \"y\"}, {\"hovertemplate\": \"<b>%{hovertext}</b><br><br>Title=The Little Mermaid II: Return to the Sea<br>Runtime=%{x}<br>IMDb=%{y}<extra></extra>\", \"hovertext\": [\"The Little Mermaid II: Return to the Sea\"], \"legendgroup\": \"The Little Mermaid II: Return to the Sea\", \"marker\": {\"color\": \"#636efa\", \"symbol\": \"circle\"}, \"mode\": \"markers\", \"name\": \"The Little Mermaid II: Return to the Sea\", \"orientation\": \"v\", \"showlegend\": true, \"type\": \"scatter\", \"x\": [75.0], \"xaxis\": \"x\", \"y\": [5.6], \"yaxis\": \"y\"}, {\"hovertemplate\": \"<b>%{hovertext}</b><br><br>Title=The Cheetah Girls: One World<br>Runtime=%{x}<br>IMDb=%{y}<extra></extra>\", \"hovertext\": [\"The Cheetah Girls: One World\"], \"legendgroup\": \"The Cheetah Girls: One World\", \"marker\": {\"color\": \"#EF553B\", \"symbol\": \"circle\"}, \"mode\": \"markers\", \"name\": \"The Cheetah Girls: One World\", \"orientation\": \"v\", \"showlegend\": true, \"type\": \"scatter\", \"x\": [90.0], \"xaxis\": \"x\", \"y\": [4.7], \"yaxis\": \"y\"}, {\"hovertemplate\": \"<b>%{hovertext}</b><br><br>Title=Leroy & Stitch<br>Runtime=%{x}<br>IMDb=%{y}<extra></extra>\", \"hovertext\": [\"Leroy & Stitch\"], \"legendgroup\": \"Leroy & Stitch\", \"marker\": {\"color\": \"#00cc96\", \"symbol\": \"circle\"}, \"mode\": \"markers\", \"name\": \"Leroy & Stitch\", \"orientation\": \"v\", \"showlegend\": true, \"type\": \"scatter\", \"x\": [73.0], \"xaxis\": \"x\", \"y\": [6.2], \"yaxis\": \"y\"}, {\"hovertemplate\": \"<b>%{hovertext}</b><br><br>Title=Herbie Fully Loaded<br>Runtime=%{x}<br>IMDb=%{y}<extra></extra>\", \"hovertext\": [\"Herbie Fully Loaded\"], \"legendgroup\": \"Herbie Fully Loaded\", \"marker\": {\"color\": \"#ab63fa\", \"symbol\": \"circle\"}, \"mode\": \"markers\", \"name\": \"Herbie Fully Loaded\", \"orientation\": \"v\", \"showlegend\": true, \"type\": \"scatter\", \"x\": [101.0], \"xaxis\": \"x\", \"y\": [4.8], \"yaxis\": \"y\"}, {\"hovertemplate\": \"<b>%{hovertext}</b><br><br>Title=Let It Shine<br>Runtime=%{x}<br>IMDb=%{y}<extra></extra>\", \"hovertext\": [\"Let It Shine\"], \"legendgroup\": \"Let It Shine\", \"marker\": {\"color\": \"#FFA15A\", \"symbol\": \"circle\"}, \"mode\": \"markers\", \"name\": \"Let It Shine\", \"orientation\": \"v\", \"showlegend\": true, \"type\": \"scatter\", \"x\": [104.0], \"xaxis\": \"x\", \"y\": [6.4], \"yaxis\": \"y\"}, {\"hovertemplate\": \"<b>%{hovertext}</b><br><br>Title=Wizards of Waverly Place: The Movie<br>Runtime=%{x}<br>IMDb=%{y}<extra></extra>\", \"hovertext\": [\"Wizards of Waverly Place: The Movie\"], \"legendgroup\": \"Wizards of Waverly Place: The Movie\", \"marker\": {\"color\": \"#19d3f3\", \"symbol\": \"circle\"}, \"mode\": \"markers\", \"name\": \"Wizards of Waverly Place: The Movie\", \"orientation\": \"v\", \"showlegend\": true, \"type\": \"scatter\", \"x\": [94.0], \"xaxis\": \"x\", \"y\": [6.2], \"yaxis\": \"y\"}, {\"hovertemplate\": \"<b>%{hovertext}</b><br><br>Title=A Wrinkle in Time<br>Runtime=%{x}<br>IMDb=%{y}<extra></extra>\", \"hovertext\": [\"A Wrinkle in Time\"], \"legendgroup\": \"A Wrinkle in Time\", \"marker\": {\"color\": \"#FF6692\", \"symbol\": \"circle\"}, \"mode\": \"markers\", \"name\": \"A Wrinkle in Time\", \"orientation\": \"v\", \"showlegend\": true, \"type\": \"scatter\", \"x\": [109.0], \"xaxis\": \"x\", \"y\": [4.2], \"yaxis\": \"y\"}, {\"hovertemplate\": \"<b>%{hovertext}</b><br><br>Title=Benji the Hunted<br>Runtime=%{x}<br>IMDb=%{y}<extra></extra>\", \"hovertext\": [\"Benji the Hunted\"], \"legendgroup\": \"Benji the Hunted\", \"marker\": {\"color\": \"#B6E880\", \"symbol\": \"circle\"}, \"mode\": \"markers\", \"name\": \"Benji the Hunted\", \"orientation\": \"v\", \"showlegend\": true, \"type\": \"scatter\", \"x\": [88.0], \"xaxis\": \"x\", \"y\": [6.3], \"yaxis\": \"y\"}, {\"hovertemplate\": \"<b>%{hovertext}</b><br><br>Title=Recess: Taking the Fifth Grade<br>Runtime=%{x}<br>IMDb=%{y}<extra></extra>\", \"hovertext\": [\"Recess: Taking the Fifth Grade\"], \"legendgroup\": \"Recess: Taking the Fifth Grade\", \"marker\": {\"color\": \"#FF97FF\", \"symbol\": \"circle\"}, \"mode\": \"markers\", \"name\": \"Recess: Taking the Fifth Grade\", \"orientation\": \"v\", \"showlegend\": true, \"type\": \"scatter\", \"x\": [62.0], \"xaxis\": \"x\", \"y\": [6.8], \"yaxis\": \"y\"}, {\"hovertemplate\": \"<b>%{hovertext}</b><br><br>Title=The Even Stevens Movie<br>Runtime=%{x}<br>IMDb=%{y}<extra></extra>\", \"hovertext\": [\"The Even Stevens Movie\"], \"legendgroup\": \"The Even Stevens Movie\", \"marker\": {\"color\": \"#FECB52\", \"symbol\": \"circle\"}, \"mode\": \"markers\", \"name\": \"The Even Stevens Movie\", \"orientation\": \"v\", \"showlegend\": true, \"type\": \"scatter\", \"x\": [93.0], \"xaxis\": \"x\", \"y\": [6.2], \"yaxis\": \"y\"}, {\"hovertemplate\": \"<b>%{hovertext}</b><br><br>Title=Marvel Rising: Secret Warriors<br>Runtime=%{x}<br>IMDb=%{y}<extra></extra>\", \"hovertext\": [\"Marvel Rising: Secret Warriors\"], \"legendgroup\": \"Marvel Rising: Secret Warriors\", \"marker\": {\"color\": \"#636efa\", \"symbol\": \"circle\"}, \"mode\": \"markers\", \"name\": \"Marvel Rising: Secret Warriors\", \"orientation\": \"v\", \"showlegend\": true, \"type\": \"scatter\", \"x\": [80.0], \"xaxis\": \"x\", \"y\": [5.2], \"yaxis\": \"y\"}, {\"hovertemplate\": \"<b>%{hovertext}</b><br><br>Title=Mars Needs Moms<br>Runtime=%{x}<br>IMDb=%{y}<extra></extra>\", \"hovertext\": [\"Mars Needs Moms\"], \"legendgroup\": \"Mars Needs Moms\", \"marker\": {\"color\": \"#EF553B\", \"symbol\": \"circle\"}, \"mode\": \"markers\", \"name\": \"Mars Needs Moms\", \"orientation\": \"v\", \"showlegend\": true, \"type\": \"scatter\", \"x\": [88.0], \"xaxis\": \"x\", \"y\": [5.4], \"yaxis\": \"y\"}, {\"hovertemplate\": \"<b>%{hovertext}</b><br><br>Title=Sharpay's Fabulous Adventure<br>Runtime=%{x}<br>IMDb=%{y}<extra></extra>\", \"hovertext\": [\"Sharpay's Fabulous Adventure\"], \"legendgroup\": \"Sharpay's Fabulous Adventure\", \"marker\": {\"color\": \"#00cc96\", \"symbol\": \"circle\"}, \"mode\": \"markers\", \"name\": \"Sharpay's Fabulous Adventure\", \"orientation\": \"v\", \"showlegend\": true, \"type\": \"scatter\", \"x\": [90.0], \"xaxis\": \"x\", \"y\": [4.7], \"yaxis\": \"y\"}, {\"hovertemplate\": \"<b>%{hovertext}</b><br><br>Title=The Wizards Return: Alex vs. Alex<br>Runtime=%{x}<br>IMDb=%{y}<extra></extra>\", \"hovertext\": [\"The Wizards Return: Alex vs. Alex\"], \"legendgroup\": \"The Wizards Return: Alex vs. Alex\", \"marker\": {\"color\": \"#ab63fa\", \"symbol\": \"circle\"}, \"mode\": \"markers\", \"name\": \"The Wizards Return: Alex vs. Alex\", \"orientation\": \"v\", \"showlegend\": true, \"type\": \"scatter\", \"x\": [60.0], \"xaxis\": \"x\", \"y\": [6.4], \"yaxis\": \"y\"}, {\"hovertemplate\": \"<b>%{hovertext}</b><br><br>Title=Home Alone 3<br>Runtime=%{x}<br>IMDb=%{y}<extra></extra>\", \"hovertext\": [\"Home Alone 3\"], \"legendgroup\": \"Home Alone 3\", \"marker\": {\"color\": \"#FFA15A\", \"symbol\": \"circle\"}, \"mode\": \"markers\", \"name\": \"Home Alone 3\", \"orientation\": \"v\", \"showlegend\": true, \"type\": \"scatter\", \"x\": [102.0], \"xaxis\": \"x\", \"y\": [4.5], \"yaxis\": \"y\"}, {\"hovertemplate\": \"<b>%{hovertext}</b><br><br>Title=3 Men and a Little Lady<br>Runtime=%{x}<br>IMDb=%{y}<extra></extra>\", \"hovertext\": [\"3 Men and a Little Lady\"], \"legendgroup\": \"3 Men and a Little Lady\", \"marker\": {\"color\": \"#19d3f3\", \"symbol\": \"circle\"}, \"mode\": \"markers\", \"name\": \"3 Men and a Little Lady\", \"orientation\": \"v\", \"showlegend\": true, \"type\": \"scatter\", \"x\": [104.0], \"xaxis\": \"x\", \"y\": [5.4], \"yaxis\": \"y\"}, {\"hovertemplate\": \"<b>%{hovertext}</b><br><br>Title=Beauty and the Beast: The Enchanted Christmas<br>Runtime=%{x}<br>IMDb=%{y}<extra></extra>\", \"hovertext\": [\"Beauty and the Beast: The Enchanted Christmas\"], \"legendgroup\": \"Beauty and the Beast: The Enchanted Christmas\", \"marker\": {\"color\": \"#FF6692\", \"symbol\": \"circle\"}, \"mode\": \"markers\", \"name\": \"Beauty and the Beast: The Enchanted Christmas\", \"orientation\": \"v\", \"showlegend\": true, \"type\": \"scatter\", \"x\": [72.0], \"xaxis\": \"x\", \"y\": [6.1], \"yaxis\": \"y\"}, {\"hovertemplate\": \"<b>%{hovertext}</b><br><br>Title=Annie<br>Runtime=%{x}<br>IMDb=%{y}<extra></extra>\", \"hovertext\": [\"Annie\"], \"legendgroup\": \"Annie\", \"marker\": {\"color\": \"#B6E880\", \"symbol\": \"circle\"}, \"mode\": \"markers\", \"name\": \"Annie\", \"orientation\": \"v\", \"showlegend\": true, \"type\": \"scatter\", \"x\": [126.0], \"xaxis\": \"x\", \"y\": [6.7], \"yaxis\": \"y\"}, {\"hovertemplate\": \"<b>%{hovertext}</b><br><br>Title=Tiger Cruise<br>Runtime=%{x}<br>IMDb=%{y}<extra></extra>\", \"hovertext\": [\"Tiger Cruise\"], \"legendgroup\": \"Tiger Cruise\", \"marker\": {\"color\": \"#FF97FF\", \"symbol\": \"circle\"}, \"mode\": \"markers\", \"name\": \"Tiger Cruise\", \"orientation\": \"v\", \"showlegend\": true, \"type\": \"scatter\", \"x\": [88.0], \"xaxis\": \"x\", \"y\": [6.2], \"yaxis\": \"y\"}, {\"hovertemplate\": \"<b>%{hovertext}</b><br><br>Title=Stitch! The Movie<br>Runtime=%{x}<br>IMDb=%{y}<extra></extra>\", \"hovertext\": [\"Stitch! The Movie\"], \"legendgroup\": \"Stitch! The Movie\", \"marker\": {\"color\": \"#FECB52\", \"symbol\": \"circle\"}, \"mode\": \"markers\", \"name\": \"Stitch! The Movie\", \"orientation\": \"v\", \"showlegend\": true, \"type\": \"scatter\", \"x\": [60.0], \"xaxis\": \"x\", \"y\": [6.2], \"yaxis\": \"y\"}, {\"hovertemplate\": \"<b>%{hovertext}</b><br><br>Title=Babes in Toyland<br>Runtime=%{x}<br>IMDb=%{y}<extra></extra>\", \"hovertext\": [\"Babes in Toyland\"], \"legendgroup\": \"Babes in Toyland\", \"marker\": {\"color\": \"#636efa\", \"symbol\": \"circle\"}, \"mode\": \"markers\", \"name\": \"Babes in Toyland\", \"orientation\": \"v\", \"showlegend\": true, \"type\": \"scatter\", \"x\": [106.0], \"xaxis\": \"x\", \"y\": [6.3], \"yaxis\": \"y\"}, {\"hovertemplate\": \"<b>%{hovertext}</b><br><br>Title=Brink!<br>Runtime=%{x}<br>IMDb=%{y}<extra></extra>\", \"hovertext\": [\"Brink!\"], \"legendgroup\": \"Brink!\", \"marker\": {\"color\": \"#EF553B\", \"symbol\": \"circle\"}, \"mode\": \"markers\", \"name\": \"Brink!\", \"orientation\": \"v\", \"showlegend\": true, \"type\": \"scatter\", \"x\": [99.0], \"xaxis\": \"x\", \"y\": [7.1], \"yaxis\": \"y\"}, {\"hovertemplate\": \"<b>%{hovertext}</b><br><br>Title=Tall Tale<br>Runtime=%{x}<br>IMDb=%{y}<extra></extra>\", \"hovertext\": [\"Tall Tale\"], \"legendgroup\": \"Tall Tale\", \"marker\": {\"color\": \"#00cc96\", \"symbol\": \"circle\"}, \"mode\": \"markers\", \"name\": \"Tall Tale\", \"orientation\": \"v\", \"showlegend\": true, \"type\": \"scatter\", \"x\": [96.0], \"xaxis\": \"x\", \"y\": [5.9], \"yaxis\": \"y\"}, {\"hovertemplate\": \"<b>%{hovertext}</b><br><br>Title=Good Luck Charlie, It's Christmas!<br>Runtime=%{x}<br>IMDb=%{y}<extra></extra>\", \"hovertext\": [\"Good Luck Charlie, It's Christmas!\"], \"legendgroup\": \"Good Luck Charlie, It's Christmas!\", \"marker\": {\"color\": \"#ab63fa\", \"symbol\": \"circle\"}, \"mode\": \"markers\", \"name\": \"Good Luck Charlie, It's Christmas!\", \"orientation\": \"v\", \"showlegend\": true, \"type\": \"scatter\", \"x\": [90.0], \"xaxis\": \"x\", \"y\": [6.4], \"yaxis\": \"y\"}, {\"hovertemplate\": \"<b>%{hovertext}</b><br><br>Title=G-Force<br>Runtime=%{x}<br>IMDb=%{y}<extra></extra>\", \"hovertext\": [\"G-Force\"], \"legendgroup\": \"G-Force\", \"marker\": {\"color\": \"#FFA15A\", \"symbol\": \"circle\"}, \"mode\": \"markers\", \"name\": \"G-Force\", \"orientation\": \"v\", \"showlegend\": true, \"type\": \"scatter\", \"x\": [88.0], \"xaxis\": \"x\", \"y\": [5.1], \"yaxis\": \"y\"}, {\"hovertemplate\": \"<b>%{hovertext}</b><br><br>Title=Cloud 9<br>Runtime=%{x}<br>IMDb=%{y}<extra></extra>\", \"hovertext\": [\"Cloud 9\"], \"legendgroup\": \"Cloud 9\", \"marker\": {\"color\": \"#19d3f3\", \"symbol\": \"circle\"}, \"mode\": \"markers\", \"name\": \"Cloud 9\", \"orientation\": \"v\", \"showlegend\": true, \"type\": \"scatter\", \"x\": [85.0], \"xaxis\": \"x\", \"y\": [6.6], \"yaxis\": \"y\"}, {\"hovertemplate\": \"<b>%{hovertext}</b><br><br>Title=Geek Charming<br>Runtime=%{x}<br>IMDb=%{y}<extra></extra>\", \"hovertext\": [\"Geek Charming\"], \"legendgroup\": \"Geek Charming\", \"marker\": {\"color\": \"#FF6692\", \"symbol\": \"circle\"}, \"mode\": \"markers\", \"name\": \"Geek Charming\", \"orientation\": \"v\", \"showlegend\": true, \"type\": \"scatter\", \"x\": [94.0], \"xaxis\": \"x\", \"y\": [6.4], \"yaxis\": \"y\"}, {\"hovertemplate\": \"<b>%{hovertext}</b><br><br>Title=Snow Dogs<br>Runtime=%{x}<br>IMDb=%{y}<extra></extra>\", \"hovertext\": [\"Snow Dogs\"], \"legendgroup\": \"Snow Dogs\", \"marker\": {\"color\": \"#B6E880\", \"symbol\": \"circle\"}, \"mode\": \"markers\", \"name\": \"Snow Dogs\", \"orientation\": \"v\", \"showlegend\": true, \"type\": \"scatter\", \"x\": [99.0], \"xaxis\": \"x\", \"y\": [5.2], \"yaxis\": \"y\"}, {\"hovertemplate\": \"<b>%{hovertext}</b><br><br>Title=Mulan II<br>Runtime=%{x}<br>IMDb=%{y}<extra></extra>\", \"hovertext\": [\"Mulan II\"], \"legendgroup\": \"Mulan II\", \"marker\": {\"color\": \"#FF97FF\", \"symbol\": \"circle\"}, \"mode\": \"markers\", \"name\": \"Mulan II\", \"orientation\": \"v\", \"showlegend\": true, \"type\": \"scatter\", \"x\": [79.0], \"xaxis\": \"x\", \"y\": [5.7], \"yaxis\": \"y\"}, {\"hovertemplate\": \"<b>%{hovertext}</b><br><br>Title=Dr. Dolittle 2<br>Runtime=%{x}<br>IMDb=%{y}<extra></extra>\", \"hovertext\": [\"Dr. Dolittle 2\"], \"legendgroup\": \"Dr. Dolittle 2\", \"marker\": {\"color\": \"#FECB52\", \"symbol\": \"circle\"}, \"mode\": \"markers\", \"name\": \"Dr. Dolittle 2\", \"orientation\": \"v\", \"showlegend\": true, \"type\": \"scatter\", \"x\": [87.0], \"xaxis\": \"x\", \"y\": [4.7], \"yaxis\": \"y\"}, {\"hovertemplate\": \"<b>%{hovertext}</b><br><br>Title=Kim Possible Movie: So the Drama<br>Runtime=%{x}<br>IMDb=%{y}<extra></extra>\", \"hovertext\": [\"Kim Possible Movie: So the Drama\"], \"legendgroup\": \"Kim Possible Movie: So the Drama\", \"marker\": {\"color\": \"#636efa\", \"symbol\": \"circle\"}, \"mode\": \"markers\", \"name\": \"Kim Possible Movie: So the Drama\", \"orientation\": \"v\", \"showlegend\": true, \"type\": \"scatter\", \"x\": [71.0], \"xaxis\": \"x\", \"y\": [7.1], \"yaxis\": \"y\"}, {\"hovertemplate\": \"<b>%{hovertext}</b><br><br>Title=Camp Nowhere<br>Runtime=%{x}<br>IMDb=%{y}<extra></extra>\", \"hovertext\": [\"Camp Nowhere\"], \"legendgroup\": \"Camp Nowhere\", \"marker\": {\"color\": \"#EF553B\", \"symbol\": \"circle\"}, \"mode\": \"markers\", \"name\": \"Camp Nowhere\", \"orientation\": \"v\", \"showlegend\": true, \"type\": \"scatter\", \"x\": [96.0], \"xaxis\": \"x\", \"y\": [6.1], \"yaxis\": \"y\"}, {\"hovertemplate\": \"<b>%{hovertext}</b><br><br>Title=Honey I Blew Up the Kid<br>Runtime=%{x}<br>IMDb=%{y}<extra></extra>\", \"hovertext\": [\"Honey I Blew Up the Kid\"], \"legendgroup\": \"Honey I Blew Up the Kid\", \"marker\": {\"color\": \"#00cc96\", \"symbol\": \"circle\"}, \"mode\": \"markers\", \"name\": \"Honey I Blew Up the Kid\", \"orientation\": \"v\", \"showlegend\": true, \"type\": \"scatter\", \"x\": [89.0], \"xaxis\": \"x\", \"y\": [4.8], \"yaxis\": \"y\"}, {\"hovertemplate\": \"<b>%{hovertext}</b><br><br>Title=Steamboat Willie<br>Runtime=%{x}<br>IMDb=%{y}<extra></extra>\", \"hovertext\": [\"Steamboat Willie\"], \"legendgroup\": \"Steamboat Willie\", \"marker\": {\"color\": \"#ab63fa\", \"symbol\": \"circle\"}, \"mode\": \"markers\", \"name\": \"Steamboat Willie\", \"orientation\": \"v\", \"showlegend\": true, \"type\": \"scatter\", \"x\": [8.0], \"xaxis\": \"x\", \"y\": [7.6], \"yaxis\": \"y\"}, {\"hovertemplate\": \"<b>%{hovertext}</b><br><br>Title=Motocrossed<br>Runtime=%{x}<br>IMDb=%{y}<extra></extra>\", \"hovertext\": [\"Motocrossed\"], \"legendgroup\": \"Motocrossed\", \"marker\": {\"color\": \"#FFA15A\", \"symbol\": \"circle\"}, \"mode\": \"markers\", \"name\": \"Motocrossed\", \"orientation\": \"v\", \"showlegend\": true, \"type\": \"scatter\", \"x\": [110.0], \"xaxis\": \"x\", \"y\": [6.6], \"yaxis\": \"y\"}, {\"hovertemplate\": \"<b>%{hovertext}</b><br><br>Title=One Magic Christmas<br>Runtime=%{x}<br>IMDb=%{y}<extra></extra>\", \"hovertext\": [\"One Magic Christmas\"], \"legendgroup\": \"One Magic Christmas\", \"marker\": {\"color\": \"#19d3f3\", \"symbol\": \"circle\"}, \"mode\": \"markers\", \"name\": \"One Magic Christmas\", \"orientation\": \"v\", \"showlegend\": true, \"type\": \"scatter\", \"x\": [89.0], \"xaxis\": \"x\", \"y\": [6.5], \"yaxis\": \"y\"}, {\"hovertemplate\": \"<b>%{hovertext}</b><br><br>Title=The Computer Wore Tennis Shoes<br>Runtime=%{x}<br>IMDb=%{y}<extra></extra>\", \"hovertext\": [\"The Computer Wore Tennis Shoes\"], \"legendgroup\": \"The Computer Wore Tennis Shoes\", \"marker\": {\"color\": \"#FF6692\", \"symbol\": \"circle\"}, \"mode\": \"markers\", \"name\": \"The Computer Wore Tennis Shoes\", \"orientation\": \"v\", \"showlegend\": true, \"type\": \"scatter\", \"x\": [91.0], \"xaxis\": \"x\", \"y\": [6.1], \"yaxis\": \"y\"}, {\"hovertemplate\": \"<b>%{hovertext}</b><br><br>Title=Halloweentown II: Kalabar's Revenge<br>Runtime=%{x}<br>IMDb=%{y}<extra></extra>\", \"hovertext\": [\"Halloweentown II: Kalabar's Revenge\"], \"legendgroup\": \"Halloweentown II: Kalabar's Revenge\", \"marker\": {\"color\": \"#B6E880\", \"symbol\": \"circle\"}, \"mode\": \"markers\", \"name\": \"Halloweentown II: Kalabar's Revenge\", \"orientation\": \"v\", \"showlegend\": true, \"type\": \"scatter\", \"x\": [81.0], \"xaxis\": \"x\", \"y\": [6.5], \"yaxis\": \"y\"}, {\"hovertemplate\": \"<b>%{hovertext}</b><br><br>Title=102 Dalmatians<br>Runtime=%{x}<br>IMDb=%{y}<extra></extra>\", \"hovertext\": [\"102 Dalmatians\"], \"legendgroup\": \"102 Dalmatians\", \"marker\": {\"color\": \"#FF97FF\", \"symbol\": \"circle\"}, \"mode\": \"markers\", \"name\": \"102 Dalmatians\", \"orientation\": \"v\", \"showlegend\": true, \"type\": \"scatter\", \"x\": [100.0], \"xaxis\": \"x\", \"y\": [4.9], \"yaxis\": \"y\"}, {\"hovertemplate\": \"<b>%{hovertext}</b><br><br>Title=The Santa Clause 3: The Escape Clause<br>Runtime=%{x}<br>IMDb=%{y}<extra></extra>\", \"hovertext\": [\"The Santa Clause 3: The Escape Clause\"], \"legendgroup\": \"The Santa Clause 3: The Escape Clause\", \"marker\": {\"color\": \"#FECB52\", \"symbol\": \"circle\"}, \"mode\": \"markers\", \"name\": \"The Santa Clause 3: The Escape Clause\", \"orientation\": \"v\", \"showlegend\": true, \"type\": \"scatter\", \"x\": [97.0], \"xaxis\": \"x\", \"y\": [4.7], \"yaxis\": \"y\"}, {\"hovertemplate\": \"<b>%{hovertext}</b><br><br>Title=Teen Beach 2<br>Runtime=%{x}<br>IMDb=%{y}<extra></extra>\", \"hovertext\": [\"Teen Beach 2\"], \"legendgroup\": \"Teen Beach 2\", \"marker\": {\"color\": \"#636efa\", \"symbol\": \"circle\"}, \"mode\": \"markers\", \"name\": \"Teen Beach 2\", \"orientation\": \"v\", \"showlegend\": true, \"type\": \"scatter\", \"x\": [104.0], \"xaxis\": \"x\", \"y\": [6.1], \"yaxis\": \"y\"}, {\"hovertemplate\": \"<b>%{hovertext}</b><br><br>Title=Return from Witch Mountain<br>Runtime=%{x}<br>IMDb=%{y}<extra></extra>\", \"hovertext\": [\"Return from Witch Mountain\"], \"legendgroup\": \"Return from Witch Mountain\", \"marker\": {\"color\": \"#EF553B\", \"symbol\": \"circle\"}, \"mode\": \"markers\", \"name\": \"Return from Witch Mountain\", \"orientation\": \"v\", \"showlegend\": true, \"type\": \"scatter\", \"x\": [95.0], \"xaxis\": \"x\", \"y\": [5.9], \"yaxis\": \"y\"}, {\"hovertemplate\": \"<b>%{hovertext}</b><br><br>Title=Kitbull<br>Runtime=%{x}<br>IMDb=%{y}<extra></extra>\", \"hovertext\": [\"Kitbull\"], \"legendgroup\": \"Kitbull\", \"marker\": {\"color\": \"#00cc96\", \"symbol\": \"circle\"}, \"mode\": \"markers\", \"name\": \"Kitbull\", \"orientation\": \"v\", \"showlegend\": true, \"type\": \"scatter\", \"x\": [9.0], \"xaxis\": \"x\", \"y\": [8.0], \"yaxis\": \"y\"}, {\"hovertemplate\": \"<b>%{hovertext}</b><br><br>Title=Tru Confessions<br>Runtime=%{x}<br>IMDb=%{y}<extra></extra>\", \"hovertext\": [\"Tru Confessions\"], \"legendgroup\": \"Tru Confessions\", \"marker\": {\"color\": \"#ab63fa\", \"symbol\": \"circle\"}, \"mode\": \"markers\", \"name\": \"Tru Confessions\", \"orientation\": \"v\", \"showlegend\": true, \"type\": \"scatter\", \"x\": [112.0], \"xaxis\": \"x\", \"y\": [7.5], \"yaxis\": \"y\"}, {\"hovertemplate\": \"<b>%{hovertext}</b><br><br>Title=Treasure Island<br>Runtime=%{x}<br>IMDb=%{y}<extra></extra>\", \"hovertext\": [\"Treasure Island\"], \"legendgroup\": \"Treasure Island\", \"marker\": {\"color\": \"#FFA15A\", \"symbol\": \"circle\"}, \"mode\": \"markers\", \"name\": \"Treasure Island\", \"orientation\": \"v\", \"showlegend\": true, \"type\": \"scatter\", \"x\": [96.0], \"xaxis\": \"x\", \"y\": [6.9], \"yaxis\": \"y\"}, {\"hovertemplate\": \"<b>%{hovertext}</b><br><br>Title=Prom<br>Runtime=%{x}<br>IMDb=%{y}<extra></extra>\", \"hovertext\": [\"Prom\"], \"legendgroup\": \"Prom\", \"marker\": {\"color\": \"#19d3f3\", \"symbol\": \"circle\"}, \"mode\": \"markers\", \"name\": \"Prom\", \"orientation\": \"v\", \"showlegend\": true, \"type\": \"scatter\", \"x\": [104.0], \"xaxis\": \"x\", \"y\": [5.4], \"yaxis\": \"y\"}, {\"hovertemplate\": \"<b>%{hovertext}</b><br><br>Title=Mickey's Twice Upon a Christmas<br>Runtime=%{x}<br>IMDb=%{y}<extra></extra>\", \"hovertext\": [\"Mickey's Twice Upon a Christmas\"], \"legendgroup\": \"Mickey's Twice Upon a Christmas\", \"marker\": {\"color\": \"#FF6692\", \"symbol\": \"circle\"}, \"mode\": \"markers\", \"name\": \"Mickey's Twice Upon a Christmas\", \"orientation\": \"v\", \"showlegend\": true, \"type\": \"scatter\", \"x\": [68.0], \"xaxis\": \"x\", \"y\": [6.5], \"yaxis\": \"y\"}, {\"hovertemplate\": \"<b>%{hovertext}</b><br><br>Title=Zenon: Girl of the 21st Century<br>Runtime=%{x}<br>IMDb=%{y}<extra></extra>\", \"hovertext\": [\"Zenon: Girl of the 21st Century\"], \"legendgroup\": \"Zenon: Girl of the 21st Century\", \"marker\": {\"color\": \"#B6E880\", \"symbol\": \"circle\"}, \"mode\": \"markers\", \"name\": \"Zenon: Girl of the 21st Century\", \"orientation\": \"v\", \"showlegend\": true, \"type\": \"scatter\", \"x\": [97.0], \"xaxis\": \"x\", \"y\": [6.4], \"yaxis\": \"y\"}, {\"hovertemplate\": \"<b>%{hovertext}</b><br><br>Title=The Wild<br>Runtime=%{x}<br>IMDb=%{y}<extra></extra>\", \"hovertext\": [\"The Wild\"], \"legendgroup\": \"The Wild\", \"marker\": {\"color\": \"#FF97FF\", \"symbol\": \"circle\"}, \"mode\": \"markers\", \"name\": \"The Wild\", \"orientation\": \"v\", \"showlegend\": true, \"type\": \"scatter\", \"x\": [117.0], \"xaxis\": \"x\", \"y\": [5.3], \"yaxis\": \"y\"}, {\"hovertemplate\": \"<b>%{hovertext}</b><br><br>Title=Halloweentown High<br>Runtime=%{x}<br>IMDb=%{y}<extra></extra>\", \"hovertext\": [\"Halloweentown High\"], \"legendgroup\": \"Halloweentown High\", \"marker\": {\"color\": \"#FECB52\", \"symbol\": \"circle\"}, \"mode\": \"markers\", \"name\": \"Halloweentown High\", \"orientation\": \"v\", \"showlegend\": true, \"type\": \"scatter\", \"x\": [82.0], \"xaxis\": \"x\", \"y\": [6.2], \"yaxis\": \"y\"}, {\"hovertemplate\": \"<b>%{hovertext}</b><br><br>Title=Valiant<br>Runtime=%{x}<br>IMDb=%{y}<extra></extra>\", \"hovertext\": [\"Valiant\"], \"legendgroup\": \"Valiant\", \"marker\": {\"color\": \"#636efa\", \"symbol\": \"circle\"}, \"mode\": \"markers\", \"name\": \"Valiant\", \"orientation\": \"v\", \"showlegend\": true, \"type\": \"scatter\", \"x\": [76.0], \"xaxis\": \"x\", \"y\": [5.5], \"yaxis\": \"y\"}, {\"hovertemplate\": \"<b>%{hovertext}</b><br><br>Title=Candleshoe<br>Runtime=%{x}<br>IMDb=%{y}<extra></extra>\", \"hovertext\": [\"Candleshoe\"], \"legendgroup\": \"Candleshoe\", \"marker\": {\"color\": \"#EF553B\", \"symbol\": \"circle\"}, \"mode\": \"markers\", \"name\": \"Candleshoe\", \"orientation\": \"v\", \"showlegend\": true, \"type\": \"scatter\", \"x\": [101.0], \"xaxis\": \"x\", \"y\": [6.8], \"yaxis\": \"y\"}, {\"hovertemplate\": \"<b>%{hovertext}</b><br><br>Title=The Haunted Mansion<br>Runtime=%{x}<br>IMDb=%{y}<extra></extra>\", \"hovertext\": [\"The Haunted Mansion\"], \"legendgroup\": \"The Haunted Mansion\", \"marker\": {\"color\": \"#00cc96\", \"symbol\": \"circle\"}, \"mode\": \"markers\", \"name\": \"The Haunted Mansion\", \"orientation\": \"v\", \"showlegend\": true, \"type\": \"scatter\", \"x\": [99.0], \"xaxis\": \"x\", \"y\": [5.0], \"yaxis\": \"y\"}, {\"hovertemplate\": \"<b>%{hovertext}</b><br><br>Title=Twitches Too<br>Runtime=%{x}<br>IMDb=%{y}<extra></extra>\", \"hovertext\": [\"Twitches Too\"], \"legendgroup\": \"Twitches Too\", \"marker\": {\"color\": \"#ab63fa\", \"symbol\": \"circle\"}, \"mode\": \"markers\", \"name\": \"Twitches Too\", \"orientation\": \"v\", \"showlegend\": true, \"type\": \"scatter\", \"x\": [83.0], \"xaxis\": \"x\", \"y\": [5.8], \"yaxis\": \"y\"}, {\"hovertemplate\": \"<b>%{hovertext}</b><br><br>Title=Jungle 2 Jungle<br>Runtime=%{x}<br>IMDb=%{y}<extra></extra>\", \"hovertext\": [\"Jungle 2 Jungle\"], \"legendgroup\": \"Jungle 2 Jungle\", \"marker\": {\"color\": \"#FFA15A\", \"symbol\": \"circle\"}, \"mode\": \"markers\", \"name\": \"Jungle 2 Jungle\", \"orientation\": \"v\", \"showlegend\": true, \"type\": \"scatter\", \"x\": [105.0], \"xaxis\": \"x\", \"y\": [5.2], \"yaxis\": \"y\"}, {\"hovertemplate\": \"<b>%{hovertext}</b><br><br>Title=Hannah Montana & Miley Cyrus: Best of Both Worlds Concert<br>Runtime=%{x}<br>IMDb=%{y}<extra></extra>\", \"hovertext\": [\"Hannah Montana & Miley Cyrus: Best of Both Worlds Concert\"], \"legendgroup\": \"Hannah Montana & Miley Cyrus: Best of Both Worlds Concert\", \"marker\": {\"color\": \"#19d3f3\", \"symbol\": \"circle\"}, \"mode\": \"markers\", \"name\": \"Hannah Montana & Miley Cyrus: Best of Both Worlds Concert\", \"orientation\": \"v\", \"showlegend\": true, \"type\": \"scatter\", \"x\": [74.0], \"xaxis\": \"x\", \"y\": [2.4], \"yaxis\": \"y\"}, {\"hovertemplate\": \"<b>%{hovertext}</b><br><br>Title=The Ugly Dachshund<br>Runtime=%{x}<br>IMDb=%{y}<extra></extra>\", \"hovertext\": [\"The Ugly Dachshund\"], \"legendgroup\": \"The Ugly Dachshund\", \"marker\": {\"color\": \"#FF6692\", \"symbol\": \"circle\"}, \"mode\": \"markers\", \"name\": \"The Ugly Dachshund\", \"orientation\": \"v\", \"showlegend\": true, \"type\": \"scatter\", \"x\": [93.0], \"xaxis\": \"x\", \"y\": [6.7], \"yaxis\": \"y\"}, {\"hovertemplate\": \"<b>%{hovertext}</b><br><br>Title=Kronk's New Groove<br>Runtime=%{x}<br>IMDb=%{y}<extra></extra>\", \"hovertext\": [\"Kronk's New Groove\"], \"legendgroup\": \"Kronk's New Groove\", \"marker\": {\"color\": \"#B6E880\", \"symbol\": \"circle\"}, \"mode\": \"markers\", \"name\": \"Kronk's New Groove\", \"orientation\": \"v\", \"showlegend\": true, \"type\": \"scatter\", \"x\": [75.0], \"xaxis\": \"x\", \"y\": [5.8], \"yaxis\": \"y\"}, {\"hovertemplate\": \"<b>%{hovertext}</b><br><br>Title=Marvel Studios: Assembling a Universe<br>Runtime=%{x}<br>IMDb=%{y}<extra></extra>\", \"hovertext\": [\"Marvel Studios: Assembling a Universe\"], \"legendgroup\": \"Marvel Studios: Assembling a Universe\", \"marker\": {\"color\": \"#FF97FF\", \"symbol\": \"circle\"}, \"mode\": \"markers\", \"name\": \"Marvel Studios: Assembling a Universe\", \"orientation\": \"v\", \"showlegend\": true, \"type\": \"scatter\", \"x\": [43.0], \"xaxis\": \"x\", \"y\": [7.6], \"yaxis\": \"y\"}, {\"hovertemplate\": \"<b>%{hovertext}</b><br><br>Title=Smart House<br>Runtime=%{x}<br>IMDb=%{y}<extra></extra>\", \"hovertext\": [\"Smart House\"], \"legendgroup\": \"Smart House\", \"marker\": {\"color\": \"#FECB52\", \"symbol\": \"circle\"}, \"mode\": \"markers\", \"name\": \"Smart House\", \"orientation\": \"v\", \"showlegend\": true, \"type\": \"scatter\", \"x\": [82.0], \"xaxis\": \"x\", \"y\": [6.3], \"yaxis\": \"y\"}, {\"hovertemplate\": \"<b>%{hovertext}</b><br><br>Title=Cadet Kelly<br>Runtime=%{x}<br>IMDb=%{y}<extra></extra>\", \"hovertext\": [\"Cadet Kelly\"], \"legendgroup\": \"Cadet Kelly\", \"marker\": {\"color\": \"#636efa\", \"symbol\": \"circle\"}, \"mode\": \"markers\", \"name\": \"Cadet Kelly\", \"orientation\": \"v\", \"showlegend\": true, \"type\": \"scatter\", \"x\": [101.0], \"xaxis\": \"x\", \"y\": [5.5], \"yaxis\": \"y\"}, {\"hovertemplate\": \"<b>%{hovertext}</b><br><br>Title=Z-O-M-B-I-E-S<br>Runtime=%{x}<br>IMDb=%{y}<extra></extra>\", \"hovertext\": [\"Z-O-M-B-I-E-S\"], \"legendgroup\": \"Z-O-M-B-I-E-S\", \"marker\": {\"color\": \"#EF553B\", \"symbol\": \"circle\"}, \"mode\": \"markers\", \"name\": \"Z-O-M-B-I-E-S\", \"orientation\": \"v\", \"showlegend\": true, \"type\": \"scatter\", \"x\": [94.0], \"xaxis\": \"x\", \"y\": [6.3], \"yaxis\": \"y\"}, {\"hovertemplate\": \"<b>%{hovertext}</b><br><br>Title=Tom and Huck<br>Runtime=%{x}<br>IMDb=%{y}<extra></extra>\", \"hovertext\": [\"Tom and Huck\"], \"legendgroup\": \"Tom and Huck\", \"marker\": {\"color\": \"#00cc96\", \"symbol\": \"circle\"}, \"mode\": \"markers\", \"name\": \"Tom and Huck\", \"orientation\": \"v\", \"showlegend\": true, \"type\": \"scatter\", \"x\": [97.0], \"xaxis\": \"x\", \"y\": [5.5], \"yaxis\": \"y\"}, {\"hovertemplate\": \"<b>%{hovertext}</b><br><br>Title=Young Black Stallion<br>Runtime=%{x}<br>IMDb=%{y}<extra></extra>\", \"hovertext\": [\"Young Black Stallion\"], \"legendgroup\": \"Young Black Stallion\", \"marker\": {\"color\": \"#ab63fa\", \"symbol\": \"circle\"}, \"mode\": \"markers\", \"name\": \"Young Black Stallion\", \"orientation\": \"v\", \"showlegend\": true, \"type\": \"scatter\", \"x\": [50.0], \"xaxis\": \"x\", \"y\": [5.6], \"yaxis\": \"y\"}, {\"hovertemplate\": \"<b>%{hovertext}</b><br><br>Title=Tangled: Before Ever After<br>Runtime=%{x}<br>IMDb=%{y}<extra></extra>\", \"hovertext\": [\"Tangled: Before Ever After\"], \"legendgroup\": \"Tangled: Before Ever After\", \"marker\": {\"color\": \"#FFA15A\", \"symbol\": \"circle\"}, \"mode\": \"markers\", \"name\": \"Tangled: Before Ever After\", \"orientation\": \"v\", \"showlegend\": true, \"type\": \"scatter\", \"x\": [21.0], \"xaxis\": \"x\", \"y\": [6.6], \"yaxis\": \"y\"}, {\"hovertemplate\": \"<b>%{hovertext}</b><br><br>Title=The Reluctant Dragon<br>Runtime=%{x}<br>IMDb=%{y}<extra></extra>\", \"hovertext\": [\"The Reluctant Dragon\"], \"legendgroup\": \"The Reluctant Dragon\", \"marker\": {\"color\": \"#19d3f3\", \"symbol\": \"circle\"}, \"mode\": \"markers\", \"name\": \"The Reluctant Dragon\", \"orientation\": \"v\", \"showlegend\": true, \"type\": \"scatter\", \"x\": [74.0], \"xaxis\": \"x\", \"y\": [6.9], \"yaxis\": \"y\"}, {\"hovertemplate\": \"<b>%{hovertext}</b><br><br>Title=Pocahontas II: Journey to a New World<br>Runtime=%{x}<br>IMDb=%{y}<extra></extra>\", \"hovertext\": [\"Pocahontas II: Journey to a New World\"], \"legendgroup\": \"Pocahontas II: Journey to a New World\", \"marker\": {\"color\": \"#FF6692\", \"symbol\": \"circle\"}, \"mode\": \"markers\", \"name\": \"Pocahontas II: Journey to a New World\", \"orientation\": \"v\", \"showlegend\": true, \"type\": \"scatter\", \"x\": [72.0], \"xaxis\": \"x\", \"y\": [4.9], \"yaxis\": \"y\"}, {\"hovertemplate\": \"<b>%{hovertext}</b><br><br>Title=Cheetah<br>Runtime=%{x}<br>IMDb=%{y}<extra></extra>\", \"hovertext\": [\"Cheetah\"], \"legendgroup\": \"Cheetah\", \"marker\": {\"color\": \"#B6E880\", \"symbol\": \"circle\"}, \"mode\": \"markers\", \"name\": \"Cheetah\", \"orientation\": \"v\", \"showlegend\": true, \"type\": \"scatter\", \"x\": [83.0], \"xaxis\": \"x\", \"y\": [6.0], \"yaxis\": \"y\"}, {\"hovertemplate\": \"<b>%{hovertext}</b><br><br>Title=Avalon High<br>Runtime=%{x}<br>IMDb=%{y}<extra></extra>\", \"hovertext\": [\"Avalon High\"], \"legendgroup\": \"Avalon High\", \"marker\": {\"color\": \"#FF97FF\", \"symbol\": \"circle\"}, \"mode\": \"markers\", \"name\": \"Avalon High\", \"orientation\": \"v\", \"showlegend\": true, \"type\": \"scatter\", \"x\": [90.0], \"xaxis\": \"x\", \"y\": [5.7], \"yaxis\": \"y\"}, {\"hovertemplate\": \"<b>%{hovertext}</b><br><br>Title=The Fox and the Hound 2<br>Runtime=%{x}<br>IMDb=%{y}<extra></extra>\", \"hovertext\": [\"The Fox and the Hound 2\"], \"legendgroup\": \"The Fox and the Hound 2\", \"marker\": {\"color\": \"#FECB52\", \"symbol\": \"circle\"}, \"mode\": \"markers\", \"name\": \"The Fox and the Hound 2\", \"orientation\": \"v\", \"showlegend\": true, \"type\": \"scatter\", \"x\": [69.0], \"xaxis\": \"x\", \"y\": [5.3], \"yaxis\": \"y\"}, {\"hovertemplate\": \"<b>%{hovertext}</b><br><br>Title=Honey, We Shrunk Ourselves<br>Runtime=%{x}<br>IMDb=%{y}<extra></extra>\", \"hovertext\": [\"Honey, We Shrunk Ourselves\"], \"legendgroup\": \"Honey, We Shrunk Ourselves\", \"marker\": {\"color\": \"#636efa\", \"symbol\": \"circle\"}, \"mode\": \"markers\", \"name\": \"Honey, We Shrunk Ourselves\", \"orientation\": \"v\", \"showlegend\": true, \"type\": \"scatter\", \"x\": [74.0], \"xaxis\": \"x\", \"y\": [5.0], \"yaxis\": \"y\"}, {\"hovertemplate\": \"<b>%{hovertext}</b><br><br>Title=How to Build a Better Boy<br>Runtime=%{x}<br>IMDb=%{y}<extra></extra>\", \"hovertext\": [\"How to Build a Better Boy\"], \"legendgroup\": \"How to Build a Better Boy\", \"marker\": {\"color\": \"#EF553B\", \"symbol\": \"circle\"}, \"mode\": \"markers\", \"name\": \"How to Build a Better Boy\", \"orientation\": \"v\", \"showlegend\": true, \"type\": \"scatter\", \"x\": [90.0], \"xaxis\": \"x\", \"y\": [5.5], \"yaxis\": \"y\"}, {\"hovertemplate\": \"<b>%{hovertext}</b><br><br>Title=The Jungle Book 2<br>Runtime=%{x}<br>IMDb=%{y}<extra></extra>\", \"hovertext\": [\"The Jungle Book 2\"], \"legendgroup\": \"The Jungle Book 2\", \"marker\": {\"color\": \"#00cc96\", \"symbol\": \"circle\"}, \"mode\": \"markers\", \"name\": \"The Jungle Book 2\", \"orientation\": \"v\", \"showlegend\": true, \"type\": \"scatter\", \"x\": [72.0], \"xaxis\": \"x\", \"y\": [5.4], \"yaxis\": \"y\"}, {\"hovertemplate\": \"<b>%{hovertext}</b><br><br>Title=The Luck of the Irish<br>Runtime=%{x}<br>IMDb=%{y}<extra></extra>\", \"hovertext\": [\"The Luck of the Irish\"], \"legendgroup\": \"The Luck of the Irish\", \"marker\": {\"color\": \"#ab63fa\", \"symbol\": \"circle\"}, \"mode\": \"markers\", \"name\": \"The Luck of the Irish\", \"orientation\": \"v\", \"showlegend\": true, \"type\": \"scatter\", \"x\": [86.0], \"xaxis\": \"x\", \"y\": [6.2], \"yaxis\": \"y\"}, {\"hovertemplate\": \"<b>%{hovertext}</b><br><br>Title=Tin Toy<br>Runtime=%{x}<br>IMDb=%{y}<extra></extra>\", \"hovertext\": [\"Tin Toy\"], \"legendgroup\": \"Tin Toy\", \"marker\": {\"color\": \"#FFA15A\", \"symbol\": \"circle\"}, \"mode\": \"markers\", \"name\": \"Tin Toy\", \"orientation\": \"v\", \"showlegend\": true, \"type\": \"scatter\", \"x\": [5.0], \"xaxis\": \"x\", \"y\": [6.5], \"yaxis\": \"y\"}, {\"hovertemplate\": \"<b>%{hovertext}</b><br><br>Title=Return to Halloweentown<br>Runtime=%{x}<br>IMDb=%{y}<extra></extra>\", \"hovertext\": [\"Return to Halloweentown\"], \"legendgroup\": \"Return to Halloweentown\", \"marker\": {\"color\": \"#19d3f3\", \"symbol\": \"circle\"}, \"mode\": \"markers\", \"name\": \"Return to Halloweentown\", \"orientation\": \"v\", \"showlegend\": true, \"type\": \"scatter\", \"x\": [88.0], \"xaxis\": \"x\", \"y\": [5.6], \"yaxis\": \"y\"}, {\"hovertemplate\": \"<b>%{hovertext}</b><br><br>Title=Winnie the Pooh: A Very Merry Pooh Year<br>Runtime=%{x}<br>IMDb=%{y}<extra></extra>\", \"hovertext\": [\"Winnie the Pooh: A Very Merry Pooh Year\"], \"legendgroup\": \"Winnie the Pooh: A Very Merry Pooh Year\", \"marker\": {\"color\": \"#FF6692\", \"symbol\": \"circle\"}, \"mode\": \"markers\", \"name\": \"Winnie the Pooh: A Very Merry Pooh Year\", \"orientation\": \"v\", \"showlegend\": true, \"type\": \"scatter\", \"x\": [65.0], \"xaxis\": \"x\", \"y\": [6.8], \"yaxis\": \"y\"}, {\"hovertemplate\": \"<b>%{hovertext}</b><br><br>Title=Johnny Tsunami<br>Runtime=%{x}<br>IMDb=%{y}<extra></extra>\", \"hovertext\": [\"Johnny Tsunami\"], \"legendgroup\": \"Johnny Tsunami\", \"marker\": {\"color\": \"#B6E880\", \"symbol\": \"circle\"}, \"mode\": \"markers\", \"name\": \"Johnny Tsunami\", \"orientation\": \"v\", \"showlegend\": true, \"type\": \"scatter\", \"x\": [88.0], \"xaxis\": \"x\", \"y\": [6.3], \"yaxis\": \"y\"}, {\"hovertemplate\": \"<b>%{hovertext}</b><br><br>Title=The Disney Family Singalong<br>Runtime=%{x}<br>IMDb=%{y}<extra></extra>\", \"hovertext\": [\"The Disney Family Singalong\"], \"legendgroup\": \"The Disney Family Singalong\", \"marker\": {\"color\": \"#FF97FF\", \"symbol\": \"circle\"}, \"mode\": \"markers\", \"name\": \"The Disney Family Singalong\", \"orientation\": \"v\", \"showlegend\": true, \"type\": \"scatter\", \"x\": [null], \"xaxis\": \"x\", \"y\": [8.1], \"yaxis\": \"y\"}, {\"hovertemplate\": \"<b>%{hovertext}</b><br><br>Title=Don't Look Under the Bed<br>Runtime=%{x}<br>IMDb=%{y}<extra></extra>\", \"hovertext\": [\"Don't Look Under the Bed\"], \"legendgroup\": \"Don't Look Under the Bed\", \"marker\": {\"color\": \"#FECB52\", \"symbol\": \"circle\"}, \"mode\": \"markers\", \"name\": \"Don't Look Under the Bed\", \"orientation\": \"v\", \"showlegend\": true, \"type\": \"scatter\", \"x\": [100.0], \"xaxis\": \"x\", \"y\": [6.9], \"yaxis\": \"y\"}, {\"hovertemplate\": \"<b>%{hovertext}</b><br><br>Title=I'll Be Home for Christmas<br>Runtime=%{x}<br>IMDb=%{y}<extra></extra>\", \"hovertext\": [\"I'll Be Home for Christmas\"], \"legendgroup\": \"I'll Be Home for Christmas\", \"marker\": {\"color\": \"#636efa\", \"symbol\": \"circle\"}, \"mode\": \"markers\", \"name\": \"I'll Be Home for Christmas\", \"orientation\": \"v\", \"showlegend\": true, \"type\": \"scatter\", \"x\": [86.0], \"xaxis\": \"x\", \"y\": [5.5], \"yaxis\": \"y\"}, {\"hovertemplate\": \"<b>%{hovertext}</b><br><br>Title=Invisible Sister<br>Runtime=%{x}<br>IMDb=%{y}<extra></extra>\", \"hovertext\": [\"Invisible Sister\"], \"legendgroup\": \"Invisible Sister\", \"marker\": {\"color\": \"#EF553B\", \"symbol\": \"circle\"}, \"mode\": \"markers\", \"name\": \"Invisible Sister\", \"orientation\": \"v\", \"showlegend\": true, \"type\": \"scatter\", \"x\": [80.0], \"xaxis\": \"x\", \"y\": [6.1], \"yaxis\": \"y\"}, {\"hovertemplate\": \"<b>%{hovertext}</b><br><br>Title=Confessions of a Teenage Drama Queen<br>Runtime=%{x}<br>IMDb=%{y}<extra></extra>\", \"hovertext\": [\"Confessions of a Teenage Drama Queen\"], \"legendgroup\": \"Confessions of a Teenage Drama Queen\", \"marker\": {\"color\": \"#00cc96\", \"symbol\": \"circle\"}, \"mode\": \"markers\", \"name\": \"Confessions of a Teenage Drama Queen\", \"orientation\": \"v\", \"showlegend\": true, \"type\": \"scatter\", \"x\": [89.0], \"xaxis\": \"x\", \"y\": [4.6], \"yaxis\": \"y\"}, {\"hovertemplate\": \"<b>%{hovertext}</b><br><br>Title=The Shaggy D.A.<br>Runtime=%{x}<br>IMDb=%{y}<extra></extra>\", \"hovertext\": [\"The Shaggy D.A.\"], \"legendgroup\": \"The Shaggy D.A.\", \"marker\": {\"color\": \"#ab63fa\", \"symbol\": \"circle\"}, \"mode\": \"markers\", \"name\": \"The Shaggy D.A.\", \"orientation\": \"v\", \"showlegend\": true, \"type\": \"scatter\", \"x\": [91.0], \"xaxis\": \"x\", \"y\": [5.9], \"yaxis\": \"y\"}, {\"hovertemplate\": \"<b>%{hovertext}</b><br><br>Title=Minutemen<br>Runtime=%{x}<br>IMDb=%{y}<extra></extra>\", \"hovertext\": [\"Minutemen\"], \"legendgroup\": \"Minutemen\", \"marker\": {\"color\": \"#FFA15A\", \"symbol\": \"circle\"}, \"mode\": \"markers\", \"name\": \"Minutemen\", \"orientation\": \"v\", \"showlegend\": true, \"type\": \"scatter\", \"x\": [98.0], \"xaxis\": \"x\", \"y\": [5.8], \"yaxis\": \"y\"}, {\"hovertemplate\": \"<b>%{hovertext}</b><br><br>Title=Shipwrecked<br>Runtime=%{x}<br>IMDb=%{y}<extra></extra>\", \"hovertext\": [\"Shipwrecked\"], \"legendgroup\": \"Shipwrecked\", \"marker\": {\"color\": \"#19d3f3\", \"symbol\": \"circle\"}, \"mode\": \"markers\", \"name\": \"Shipwrecked\", \"orientation\": \"v\", \"showlegend\": true, \"type\": \"scatter\", \"x\": [92.0], \"xaxis\": \"x\", \"y\": [6.7], \"yaxis\": \"y\"}, {\"hovertemplate\": \"<b>%{hovertext}</b><br><br>Title=Into the Okavango<br>Runtime=%{x}<br>IMDb=%{y}<extra></extra>\", \"hovertext\": [\"Into the Okavango\"], \"legendgroup\": \"Into the Okavango\", \"marker\": {\"color\": \"#FF6692\", \"symbol\": \"circle\"}, \"mode\": \"markers\", \"name\": \"Into the Okavango\", \"orientation\": \"v\", \"showlegend\": true, \"type\": \"scatter\", \"x\": [88.0], \"xaxis\": \"x\", \"y\": [7.7], \"yaxis\": \"y\"}, {\"hovertemplate\": \"<b>%{hovertext}</b><br><br>Title=Winnie the Pooh: Springtime with Roo<br>Runtime=%{x}<br>IMDb=%{y}<extra></extra>\", \"hovertext\": [\"Winnie the Pooh: Springtime with Roo\"], \"legendgroup\": \"Winnie the Pooh: Springtime with Roo\", \"marker\": {\"color\": \"#B6E880\", \"symbol\": \"circle\"}, \"mode\": \"markers\", \"name\": \"Winnie the Pooh: Springtime with Roo\", \"orientation\": \"v\", \"showlegend\": true, \"type\": \"scatter\", \"x\": [65.0], \"xaxis\": \"x\", \"y\": [6.5], \"yaxis\": \"y\"}, {\"hovertemplate\": \"<b>%{hovertext}</b><br><br>Title=12 Dates of Christmas<br>Runtime=%{x}<br>IMDb=%{y}<extra></extra>\", \"hovertext\": [\"12 Dates of Christmas\"], \"legendgroup\": \"12 Dates of Christmas\", \"marker\": {\"color\": \"#FF97FF\", \"symbol\": \"circle\"}, \"mode\": \"markers\", \"name\": \"12 Dates of Christmas\", \"orientation\": \"v\", \"showlegend\": true, \"type\": \"scatter\", \"x\": [90.0], \"xaxis\": \"x\", \"y\": [6.3], \"yaxis\": \"y\"}, {\"hovertemplate\": \"<b>%{hovertext}</b><br><br>Title=Cow Belles<br>Runtime=%{x}<br>IMDb=%{y}<extra></extra>\", \"hovertext\": [\"Cow Belles\"], \"legendgroup\": \"Cow Belles\", \"marker\": {\"color\": \"#FECB52\", \"symbol\": \"circle\"}, \"mode\": \"markers\", \"name\": \"Cow Belles\", \"orientation\": \"v\", \"showlegend\": true, \"type\": \"scatter\", \"x\": [90.0], \"xaxis\": \"x\", \"y\": [5.2], \"yaxis\": \"y\"}, {\"hovertemplate\": \"<b>%{hovertext}</b><br><br>Title=The Brave Little Toaster to the Rescue<br>Runtime=%{x}<br>IMDb=%{y}<extra></extra>\", \"hovertext\": [\"The Brave Little Toaster to the Rescue\"], \"legendgroup\": \"The Brave Little Toaster to the Rescue\", \"marker\": {\"color\": \"#636efa\", \"symbol\": \"circle\"}, \"mode\": \"markers\", \"name\": \"The Brave Little Toaster to the Rescue\", \"orientation\": \"v\", \"showlegend\": true, \"type\": \"scatter\", \"x\": [74.0], \"xaxis\": \"x\", \"y\": [6.3], \"yaxis\": \"y\"}, {\"hovertemplate\": \"<b>%{hovertext}</b><br><br>Title=Blank Check<br>Runtime=%{x}<br>IMDb=%{y}<extra></extra>\", \"hovertext\": [\"Blank Check\"], \"legendgroup\": \"Blank Check\", \"marker\": {\"color\": \"#EF553B\", \"symbol\": \"circle\"}, \"mode\": \"markers\", \"name\": \"Blank Check\", \"orientation\": \"v\", \"showlegend\": true, \"type\": \"scatter\", \"x\": [93.0], \"xaxis\": \"x\", \"y\": [5.3], \"yaxis\": \"y\"}, {\"hovertemplate\": \"<b>%{hovertext}</b><br><br>Title=Cinderella II: Dreams Come True<br>Runtime=%{x}<br>IMDb=%{y}<extra></extra>\", \"hovertext\": [\"Cinderella II: Dreams Come True\"], \"legendgroup\": \"Cinderella II: Dreams Come True\", \"marker\": {\"color\": \"#00cc96\", \"symbol\": \"circle\"}, \"mode\": \"markers\", \"name\": \"Cinderella II: Dreams Come True\", \"orientation\": \"v\", \"showlegend\": true, \"type\": \"scatter\", \"x\": [73.0], \"xaxis\": \"x\", \"y\": [5.0], \"yaxis\": \"y\"}, {\"hovertemplate\": \"<b>%{hovertext}</b><br><br>Title=The Thirteenth Year<br>Runtime=%{x}<br>IMDb=%{y}<extra></extra>\", \"hovertext\": [\"The Thirteenth Year\"], \"legendgroup\": \"The Thirteenth Year\", \"marker\": {\"color\": \"#ab63fa\", \"symbol\": \"circle\"}, \"mode\": \"markers\", \"name\": \"The Thirteenth Year\", \"orientation\": \"v\", \"showlegend\": true, \"type\": \"scatter\", \"x\": [95.0], \"xaxis\": \"x\", \"y\": [6.0], \"yaxis\": \"y\"}, {\"hovertemplate\": \"<b>%{hovertext}</b><br><br>Title=Phineas and Ferb: Star Wars<br>Runtime=%{x}<br>IMDb=%{y}<extra></extra>\", \"hovertext\": [\"Phineas and Ferb: Star Wars\"], \"legendgroup\": \"Phineas and Ferb: Star Wars\", \"marker\": {\"color\": \"#FFA15A\", \"symbol\": \"circle\"}, \"mode\": \"markers\", \"name\": \"Phineas and Ferb: Star Wars\", \"orientation\": \"v\", \"showlegend\": true, \"type\": \"scatter\", \"x\": [51.0], \"xaxis\": \"x\", \"y\": [8.2], \"yaxis\": \"y\"}, {\"hovertemplate\": \"<b>%{hovertext}</b><br><br>Title=Belle's Magical World<br>Runtime=%{x}<br>IMDb=%{y}<extra></extra>\", \"hovertext\": [\"Belle's Magical World\"], \"legendgroup\": \"Belle's Magical World\", \"marker\": {\"color\": \"#19d3f3\", \"symbol\": \"circle\"}, \"mode\": \"markers\", \"name\": \"Belle's Magical World\", \"orientation\": \"v\", \"showlegend\": true, \"type\": \"scatter\", \"x\": [92.0], \"xaxis\": \"x\", \"y\": [5.4], \"yaxis\": \"y\"}, {\"hovertemplate\": \"<b>%{hovertext}</b><br><br>Title=Davy Crockett and the River Pirates<br>Runtime=%{x}<br>IMDb=%{y}<extra></extra>\", \"hovertext\": [\"Davy Crockett and the River Pirates\"], \"legendgroup\": \"Davy Crockett and the River Pirates\", \"marker\": {\"color\": \"#FF6692\", \"symbol\": \"circle\"}, \"mode\": \"markers\", \"name\": \"Davy Crockett and the River Pirates\", \"orientation\": \"v\", \"showlegend\": true, \"type\": \"scatter\", \"x\": [81.0], \"xaxis\": \"x\", \"y\": [6.8], \"yaxis\": \"y\"}, {\"hovertemplate\": \"<b>%{hovertext}</b><br><br>Title=The Suite Life Movie<br>Runtime=%{x}<br>IMDb=%{y}<extra></extra>\", \"hovertext\": [\"The Suite Life Movie\"], \"legendgroup\": \"The Suite Life Movie\", \"marker\": {\"color\": \"#B6E880\", \"symbol\": \"circle\"}, \"mode\": \"markers\", \"name\": \"The Suite Life Movie\", \"orientation\": \"v\", \"showlegend\": true, \"type\": \"scatter\", \"x\": [79.0], \"xaxis\": \"x\", \"y\": [5.3], \"yaxis\": \"y\"}, {\"hovertemplate\": \"<b>%{hovertext}</b><br><br>Title=Lamp Life<br>Runtime=%{x}<br>IMDb=%{y}<extra></extra>\", \"hovertext\": [\"Lamp Life\"], \"legendgroup\": \"Lamp Life\", \"marker\": {\"color\": \"#FF97FF\", \"symbol\": \"circle\"}, \"mode\": \"markers\", \"name\": \"Lamp Life\", \"orientation\": \"v\", \"showlegend\": true, \"type\": \"scatter\", \"x\": [7.0], \"xaxis\": \"x\", \"y\": [6.7], \"yaxis\": \"y\"}, {\"hovertemplate\": \"<b>%{hovertext}</b><br><br>Title=Tarzan & Jane<br>Runtime=%{x}<br>IMDb=%{y}<extra></extra>\", \"hovertext\": [\"Tarzan & Jane\"], \"legendgroup\": \"Tarzan & Jane\", \"marker\": {\"color\": \"#FECB52\", \"symbol\": \"circle\"}, \"mode\": \"markers\", \"name\": \"Tarzan & Jane\", \"orientation\": \"v\", \"showlegend\": true, \"type\": \"scatter\", \"x\": [75.0], \"xaxis\": \"x\", \"y\": [5.4], \"yaxis\": \"y\"}, {\"hovertemplate\": \"<b>%{hovertext}</b><br><br>Title=Bad Hair Day<br>Runtime=%{x}<br>IMDb=%{y}<extra></extra>\", \"hovertext\": [\"Bad Hair Day\"], \"legendgroup\": \"Bad Hair Day\", \"marker\": {\"color\": \"#636efa\", \"symbol\": \"circle\"}, \"mode\": \"markers\", \"name\": \"Bad Hair Day\", \"orientation\": \"v\", \"showlegend\": true, \"type\": \"scatter\", \"x\": [87.0], \"xaxis\": \"x\", \"y\": [6.0], \"yaxis\": \"y\"}, {\"hovertemplate\": \"<b>%{hovertext}</b><br><br>Title=Operation Dumbo Drop<br>Runtime=%{x}<br>IMDb=%{y}<extra></extra>\", \"hovertext\": [\"Operation Dumbo Drop\"], \"legendgroup\": \"Operation Dumbo Drop\", \"marker\": {\"color\": \"#EF553B\", \"symbol\": \"circle\"}, \"mode\": \"markers\", \"name\": \"Operation Dumbo Drop\", \"orientation\": \"v\", \"showlegend\": true, \"type\": \"scatter\", \"x\": [107.0], \"xaxis\": \"x\", \"y\": [5.1], \"yaxis\": \"y\"}, {\"hovertemplate\": \"<b>%{hovertext}</b><br><br>Title=The Story of Robin Hood and His Merrie Men<br>Runtime=%{x}<br>IMDb=%{y}<extra></extra>\", \"hovertext\": [\"The Story of Robin Hood and His Merrie Men\"], \"legendgroup\": \"The Story of Robin Hood and His Merrie Men\", \"marker\": {\"color\": \"#00cc96\", \"symbol\": \"circle\"}, \"mode\": \"markers\", \"name\": \"The Story of Robin Hood and His Merrie Men\", \"orientation\": \"v\", \"showlegend\": true, \"type\": \"scatter\", \"x\": [84.0], \"xaxis\": \"x\", \"y\": [6.7], \"yaxis\": \"y\"}, {\"hovertemplate\": \"<b>%{hovertext}</b><br><br>Title=Read It and Weep<br>Runtime=%{x}<br>IMDb=%{y}<extra></extra>\", \"hovertext\": [\"Read It and Weep\"], \"legendgroup\": \"Read It and Weep\", \"marker\": {\"color\": \"#ab63fa\", \"symbol\": \"circle\"}, \"mode\": \"markers\", \"name\": \"Read It and Weep\", \"orientation\": \"v\", \"showlegend\": true, \"type\": \"scatter\", \"x\": [84.0], \"xaxis\": \"x\", \"y\": [5.5], \"yaxis\": \"y\"}, {\"hovertemplate\": \"<b>%{hovertext}</b><br><br>Title=The Living Desert<br>Runtime=%{x}<br>IMDb=%{y}<extra></extra>\", \"hovertext\": [\"The Living Desert\"], \"legendgroup\": \"The Living Desert\", \"marker\": {\"color\": \"#FFA15A\", \"symbol\": \"circle\"}, \"mode\": \"markers\", \"name\": \"The Living Desert\", \"orientation\": \"v\", \"showlegend\": true, \"type\": \"scatter\", \"x\": [69.0], \"xaxis\": \"x\", \"y\": [7.5], \"yaxis\": \"y\"}, {\"hovertemplate\": \"<b>%{hovertext}</b><br><br>Title=Herbie Goes Bananas<br>Runtime=%{x}<br>IMDb=%{y}<extra></extra>\", \"hovertext\": [\"Herbie Goes Bananas\"], \"legendgroup\": \"Herbie Goes Bananas\", \"marker\": {\"color\": \"#19d3f3\", \"symbol\": \"circle\"}, \"mode\": \"markers\", \"name\": \"Herbie Goes Bananas\", \"orientation\": \"v\", \"showlegend\": true, \"type\": \"scatter\", \"x\": [100.0], \"xaxis\": \"x\", \"y\": [5.0], \"yaxis\": \"y\"}, {\"hovertemplate\": \"<b>%{hovertext}</b><br><br>Title=Mr. Boogedy<br>Runtime=%{x}<br>IMDb=%{y}<extra></extra>\", \"hovertext\": [\"Mr. Boogedy\"], \"legendgroup\": \"Mr. Boogedy\", \"marker\": {\"color\": \"#FF6692\", \"symbol\": \"circle\"}, \"mode\": \"markers\", \"name\": \"Mr. Boogedy\", \"orientation\": \"v\", \"showlegend\": true, \"type\": \"scatter\", \"x\": [21.0], \"xaxis\": \"x\", \"y\": [7.3], \"yaxis\": \"y\"}, {\"hovertemplate\": \"<b>%{hovertext}</b><br><br>Title=Double Teamed<br>Runtime=%{x}<br>IMDb=%{y}<extra></extra>\", \"hovertext\": [\"Double Teamed\"], \"legendgroup\": \"Double Teamed\", \"marker\": {\"color\": \"#B6E880\", \"symbol\": \"circle\"}, \"mode\": \"markers\", \"name\": \"Double Teamed\", \"orientation\": \"v\", \"showlegend\": true, \"type\": \"scatter\", \"x\": [120.0], \"xaxis\": \"x\", \"y\": [6.1], \"yaxis\": \"y\"}, {\"hovertemplate\": \"<b>%{hovertext}</b><br><br>Title=The Brave Little Toaster Goes to Mars<br>Runtime=%{x}<br>IMDb=%{y}<extra></extra>\", \"hovertext\": [\"The Brave Little Toaster Goes to Mars\"], \"legendgroup\": \"The Brave Little Toaster Goes to Mars\", \"marker\": {\"color\": \"#FF97FF\", \"symbol\": \"circle\"}, \"mode\": \"markers\", \"name\": \"The Brave Little Toaster Goes to Mars\", \"orientation\": \"v\", \"showlegend\": true, \"type\": \"scatter\", \"x\": [73.0], \"xaxis\": \"x\", \"y\": [5.7], \"yaxis\": \"y\"}, {\"hovertemplate\": \"<b>%{hovertext}</b><br><br>Title=First Kid<br>Runtime=%{x}<br>IMDb=%{y}<extra></extra>\", \"hovertext\": [\"First Kid\"], \"legendgroup\": \"First Kid\", \"marker\": {\"color\": \"#FECB52\", \"symbol\": \"circle\"}, \"mode\": \"markers\", \"name\": \"First Kid\", \"orientation\": \"v\", \"showlegend\": true, \"type\": \"scatter\", \"x\": [101.0], \"xaxis\": \"x\", \"y\": [5.2], \"yaxis\": \"y\"}, {\"hovertemplate\": \"<b>%{hovertext}</b><br><br>Title=The Adventures of Bullwhip Griffin<br>Runtime=%{x}<br>IMDb=%{y}<extra></extra>\", \"hovertext\": [\"The Adventures of Bullwhip Griffin\"], \"legendgroup\": \"The Adventures of Bullwhip Griffin\", \"marker\": {\"color\": \"#636efa\", \"symbol\": \"circle\"}, \"mode\": \"markers\", \"name\": \"The Adventures of Bullwhip Griffin\", \"orientation\": \"v\", \"showlegend\": true, \"type\": \"scatter\", \"x\": [108.0], \"xaxis\": \"x\", \"y\": [6.5], \"yaxis\": \"y\"}, {\"hovertemplate\": \"<b>%{hovertext}</b><br><br>Title=The Proud Family Movie<br>Runtime=%{x}<br>IMDb=%{y}<extra></extra>\", \"hovertext\": [\"The Proud Family Movie\"], \"legendgroup\": \"The Proud Family Movie\", \"marker\": {\"color\": \"#EF553B\", \"symbol\": \"circle\"}, \"mode\": \"markers\", \"name\": \"The Proud Family Movie\", \"orientation\": \"v\", \"showlegend\": true, \"type\": \"scatter\", \"x\": [90.0], \"xaxis\": \"x\", \"y\": [5.4], \"yaxis\": \"y\"}, {\"hovertemplate\": \"<b>%{hovertext}</b><br><br>Title=Phineas and Ferb: Mission Marvel<br>Runtime=%{x}<br>IMDb=%{y}<extra></extra>\", \"hovertext\": [\"Phineas and Ferb: Mission Marvel\"], \"legendgroup\": \"Phineas and Ferb: Mission Marvel\", \"marker\": {\"color\": \"#00cc96\", \"symbol\": \"circle\"}, \"mode\": \"markers\", \"name\": \"Phineas and Ferb: Mission Marvel\", \"orientation\": \"v\", \"showlegend\": true, \"type\": \"scatter\", \"x\": [45.0], \"xaxis\": \"x\", \"y\": [8.3], \"yaxis\": \"y\"}, {\"hovertemplate\": \"<b>%{hovertext}</b><br><br>Title=Go Figure<br>Runtime=%{x}<br>IMDb=%{y}<extra></extra>\", \"hovertext\": [\"Go Figure\"], \"legendgroup\": \"Go Figure\", \"marker\": {\"color\": \"#ab63fa\", \"symbol\": \"circle\"}, \"mode\": \"markers\", \"name\": \"Go Figure\", \"orientation\": \"v\", \"showlegend\": true, \"type\": \"scatter\", \"x\": [88.0], \"xaxis\": \"x\", \"y\": [5.7], \"yaxis\": \"y\"}, {\"hovertemplate\": \"<b>%{hovertext}</b><br><br>Title=Stuck in the Suburbs<br>Runtime=%{x}<br>IMDb=%{y}<extra></extra>\", \"hovertext\": [\"Stuck in the Suburbs\"], \"legendgroup\": \"Stuck in the Suburbs\", \"marker\": {\"color\": \"#FFA15A\", \"symbol\": \"circle\"}, \"mode\": \"markers\", \"name\": \"Stuck in the Suburbs\", \"orientation\": \"v\", \"showlegend\": true, \"type\": \"scatter\", \"x\": [76.0], \"xaxis\": \"x\", \"y\": [5.6], \"yaxis\": \"y\"}, {\"hovertemplate\": \"<b>%{hovertext}</b><br><br>Title=Ice Age: The Great Egg-Scapade<br>Runtime=%{x}<br>IMDb=%{y}<extra></extra>\", \"hovertext\": [\"Ice Age: The Great Egg-Scapade\"], \"legendgroup\": \"Ice Age: The Great Egg-Scapade\", \"marker\": {\"color\": \"#19d3f3\", \"symbol\": \"circle\"}, \"mode\": \"markers\", \"name\": \"Ice Age: The Great Egg-Scapade\", \"orientation\": \"v\", \"showlegend\": true, \"type\": \"scatter\", \"x\": [25.0], \"xaxis\": \"x\", \"y\": [5.9], \"yaxis\": \"y\"}, {\"hovertemplate\": \"<b>%{hovertext}</b><br><br>Title=College Road Trip<br>Runtime=%{x}<br>IMDb=%{y}<extra></extra>\", \"hovertext\": [\"College Road Trip\"], \"legendgroup\": \"College Road Trip\", \"marker\": {\"color\": \"#FF6692\", \"symbol\": \"circle\"}, \"mode\": \"markers\", \"name\": \"College Road Trip\", \"orientation\": \"v\", \"showlegend\": true, \"type\": \"scatter\", \"x\": [83.0], \"xaxis\": \"x\", \"y\": [4.3], \"yaxis\": \"y\"}, {\"hovertemplate\": \"<b>%{hovertext}</b><br><br>Title=Girl vs. Monster<br>Runtime=%{x}<br>IMDb=%{y}<extra></extra>\", \"hovertext\": [\"Girl vs. Monster\"], \"legendgroup\": \"Girl vs. Monster\", \"marker\": {\"color\": \"#B6E880\", \"symbol\": \"circle\"}, \"mode\": \"markers\", \"name\": \"Girl vs. Monster\", \"orientation\": \"v\", \"showlegend\": true, \"type\": \"scatter\", \"x\": [89.0], \"xaxis\": \"x\", \"y\": [5.5], \"yaxis\": \"y\"}, {\"hovertemplate\": \"<b>%{hovertext}</b><br><br>Title=Going to the Mat<br>Runtime=%{x}<br>IMDb=%{y}<extra></extra>\", \"hovertext\": [\"Going to the Mat\"], \"legendgroup\": \"Going to the Mat\", \"marker\": {\"color\": \"#FF97FF\", \"symbol\": \"circle\"}, \"mode\": \"markers\", \"name\": \"Going to the Mat\", \"orientation\": \"v\", \"showlegend\": true, \"type\": \"scatter\", \"x\": [120.0], \"xaxis\": \"x\", \"y\": [6.8], \"yaxis\": \"y\"}, {\"hovertemplate\": \"<b>%{hovertext}</b><br><br>Title=Right on Track<br>Runtime=%{x}<br>IMDb=%{y}<extra></extra>\", \"hovertext\": [\"Right on Track\"], \"legendgroup\": \"Right on Track\", \"marker\": {\"color\": \"#FECB52\", \"symbol\": \"circle\"}, \"mode\": \"markers\", \"name\": \"Right on Track\", \"orientation\": \"v\", \"showlegend\": true, \"type\": \"scatter\", \"x\": [89.0], \"xaxis\": \"x\", \"y\": [6.2], \"yaxis\": \"y\"}, {\"hovertemplate\": \"<b>%{hovertext}</b><br><br>Title=Life with Mikey<br>Runtime=%{x}<br>IMDb=%{y}<extra></extra>\", \"hovertext\": [\"Life with Mikey\"], \"legendgroup\": \"Life with Mikey\", \"marker\": {\"color\": \"#636efa\", \"symbol\": \"circle\"}, \"mode\": \"markers\", \"name\": \"Life with Mikey\", \"orientation\": \"v\", \"showlegend\": true, \"type\": \"scatter\", \"x\": [91.0], \"xaxis\": \"x\", \"y\": [5.6], \"yaxis\": \"y\"}, {\"hovertemplate\": \"<b>%{hovertext}</b><br><br>Title=Wendy Wu: Homecoming Warrior<br>Runtime=%{x}<br>IMDb=%{y}<extra></extra>\", \"hovertext\": [\"Wendy Wu: Homecoming Warrior\"], \"legendgroup\": \"Wendy Wu: Homecoming Warrior\", \"marker\": {\"color\": \"#EF553B\", \"symbol\": \"circle\"}, \"mode\": \"markers\", \"name\": \"Wendy Wu: Homecoming Warrior\", \"orientation\": \"v\", \"showlegend\": true, \"type\": \"scatter\", \"x\": [91.0], \"xaxis\": \"x\", \"y\": [5.4], \"yaxis\": \"y\"}, {\"hovertemplate\": \"<b>%{hovertext}</b><br><br>Title=Marvel: 75 Years, From Pulp to Pop!<br>Runtime=%{x}<br>IMDb=%{y}<extra></extra>\", \"hovertext\": [\"Marvel: 75 Years, From Pulp to Pop!\"], \"legendgroup\": \"Marvel: 75 Years, From Pulp to Pop!\", \"marker\": {\"color\": \"#00cc96\", \"symbol\": \"circle\"}, \"mode\": \"markers\", \"name\": \"Marvel: 75 Years, From Pulp to Pop!\", \"orientation\": \"v\", \"showlegend\": true, \"type\": \"scatter\", \"x\": [42.0], \"xaxis\": \"x\", \"y\": [7.3], \"yaxis\": \"y\"}, {\"hovertemplate\": \"<b>%{hovertext}</b><br><br>Title=The Small One<br>Runtime=%{x}<br>IMDb=%{y}<extra></extra>\", \"hovertext\": [\"The Small One\"], \"legendgroup\": \"The Small One\", \"marker\": {\"color\": \"#ab63fa\", \"symbol\": \"circle\"}, \"mode\": \"markers\", \"name\": \"The Small One\", \"orientation\": \"v\", \"showlegend\": true, \"type\": \"scatter\", \"x\": [26.0], \"xaxis\": \"x\", \"y\": [7.8], \"yaxis\": \"y\"}, {\"hovertemplate\": \"<b>%{hovertext}</b><br><br>Title=Phantom of the Megaplex<br>Runtime=%{x}<br>IMDb=%{y}<extra></extra>\", \"hovertext\": [\"Phantom of the Megaplex\"], \"legendgroup\": \"Phantom of the Megaplex\", \"marker\": {\"color\": \"#FFA15A\", \"symbol\": \"circle\"}, \"mode\": \"markers\", \"name\": \"Phantom of the Megaplex\", \"orientation\": \"v\", \"showlegend\": true, \"type\": \"scatter\", \"x\": [89.0], \"xaxis\": \"x\", \"y\": [6.5], \"yaxis\": \"y\"}, {\"hovertemplate\": \"<b>%{hovertext}</b><br><br>Title=The Apple Dumpling Gang Rides Again<br>Runtime=%{x}<br>IMDb=%{y}<extra></extra>\", \"hovertext\": [\"The Apple Dumpling Gang Rides Again\"], \"legendgroup\": \"The Apple Dumpling Gang Rides Again\", \"marker\": {\"color\": \"#19d3f3\", \"symbol\": \"circle\"}, \"mode\": \"markers\", \"name\": \"The Apple Dumpling Gang Rides Again\", \"orientation\": \"v\", \"showlegend\": true, \"type\": \"scatter\", \"x\": [88.0], \"xaxis\": \"x\", \"y\": [6.2], \"yaxis\": \"y\"}, {\"hovertemplate\": \"<b>%{hovertext}</b><br><br>Title=Mom's Got a Date with a Vampire<br>Runtime=%{x}<br>IMDb=%{y}<extra></extra>\", \"hovertext\": [\"Mom's Got a Date with a Vampire\"], \"legendgroup\": \"Mom's Got a Date with a Vampire\", \"marker\": {\"color\": \"#FF6692\", \"symbol\": \"circle\"}, \"mode\": \"markers\", \"name\": \"Mom's Got a Date with a Vampire\", \"orientation\": \"v\", \"showlegend\": true, \"type\": \"scatter\", \"x\": [85.0], \"xaxis\": \"x\", \"y\": [5.9], \"yaxis\": \"y\"}, {\"hovertemplate\": \"<b>%{hovertext}</b><br><br>Title=Atlantis: Milo's Return<br>Runtime=%{x}<br>IMDb=%{y}<extra></extra>\", \"hovertext\": [\"Atlantis: Milo's Return\"], \"legendgroup\": \"Atlantis: Milo's Return\", \"marker\": {\"color\": \"#B6E880\", \"symbol\": \"circle\"}, \"mode\": \"markers\", \"name\": \"Atlantis: Milo's Return\", \"orientation\": \"v\", \"showlegend\": true, \"type\": \"scatter\", \"x\": [70.0], \"xaxis\": \"x\", \"y\": [5.1], \"yaxis\": \"y\"}, {\"hovertemplate\": \"<b>%{hovertext}</b><br><br>Title=Snowball Express<br>Runtime=%{x}<br>IMDb=%{y}<extra></extra>\", \"hovertext\": [\"Snowball Express\"], \"legendgroup\": \"Snowball Express\", \"marker\": {\"color\": \"#FF97FF\", \"symbol\": \"circle\"}, \"mode\": \"markers\", \"name\": \"Snowball Express\", \"orientation\": \"v\", \"showlegend\": true, \"type\": \"scatter\", \"x\": [93.0], \"xaxis\": \"x\", \"y\": [6.5], \"yaxis\": \"y\"}, {\"hovertemplate\": \"<b>%{hovertext}</b><br><br>Title=Sacred Planet<br>Runtime=%{x}<br>IMDb=%{y}<extra></extra>\", \"hovertext\": [\"Sacred Planet\"], \"legendgroup\": \"Sacred Planet\", \"marker\": {\"color\": \"#FECB52\", \"symbol\": \"circle\"}, \"mode\": \"markers\", \"name\": \"Sacred Planet\", \"orientation\": \"v\", \"showlegend\": true, \"type\": \"scatter\", \"x\": [40.0], \"xaxis\": \"x\", \"y\": [6.1], \"yaxis\": \"y\"}, {\"hovertemplate\": \"<b>%{hovertext}</b><br><br>Title=The Hunchback of Notre Dame II<br>Runtime=%{x}<br>IMDb=%{y}<extra></extra>\", \"hovertext\": [\"The Hunchback of Notre Dame II\"], \"legendgroup\": \"The Hunchback of Notre Dame II\", \"marker\": {\"color\": \"#636efa\", \"symbol\": \"circle\"}, \"mode\": \"markers\", \"name\": \"The Hunchback of Notre Dame II\", \"orientation\": \"v\", \"showlegend\": true, \"type\": \"scatter\", \"x\": [68.0], \"xaxis\": \"x\", \"y\": [4.7], \"yaxis\": \"y\"}, {\"hovertemplate\": \"<b>%{hovertext}</b><br><br>Title=Rip Girls<br>Runtime=%{x}<br>IMDb=%{y}<extra></extra>\", \"hovertext\": [\"Rip Girls\"], \"legendgroup\": \"Rip Girls\", \"marker\": {\"color\": \"#EF553B\", \"symbol\": \"circle\"}, \"mode\": \"markers\", \"name\": \"Rip Girls\", \"orientation\": \"v\", \"showlegend\": true, \"type\": \"scatter\", \"x\": [87.0], \"xaxis\": \"x\", \"y\": [6.2], \"yaxis\": \"y\"}, {\"hovertemplate\": \"<b>%{hovertext}</b><br><br>Title=MARS: Inside SpaceX<br>Runtime=%{x}<br>IMDb=%{y}<extra></extra>\", \"hovertext\": [\"MARS: Inside SpaceX\"], \"legendgroup\": \"MARS: Inside SpaceX\", \"marker\": {\"color\": \"#00cc96\", \"symbol\": \"circle\"}, \"mode\": \"markers\", \"name\": \"MARS: Inside SpaceX\", \"orientation\": \"v\", \"showlegend\": true, \"type\": \"scatter\", \"x\": [46.0], \"xaxis\": \"x\", \"y\": [7.4], \"yaxis\": \"y\"}, {\"hovertemplate\": \"<b>%{hovertext}</b><br><br>Title=Zenon: The Zequel<br>Runtime=%{x}<br>IMDb=%{y}<extra></extra>\", \"hovertext\": [\"Zenon: The Zequel\"], \"legendgroup\": \"Zenon: The Zequel\", \"marker\": {\"color\": \"#ab63fa\", \"symbol\": \"circle\"}, \"mode\": \"markers\", \"name\": \"Zenon: The Zequel\", \"orientation\": \"v\", \"showlegend\": true, \"type\": \"scatter\", \"x\": [100.0], \"xaxis\": \"x\", \"y\": [5.9], \"yaxis\": \"y\"}, {\"hovertemplate\": \"<b>%{hovertext}</b><br><br>Title=Wings of Life<br>Runtime=%{x}<br>IMDb=%{y}<extra></extra>\", \"hovertext\": [\"Wings of Life\"], \"legendgroup\": \"Wings of Life\", \"marker\": {\"color\": \"#FFA15A\", \"symbol\": \"circle\"}, \"mode\": \"markers\", \"name\": \"Wings of Life\", \"orientation\": \"v\", \"showlegend\": true, \"type\": \"scatter\", \"x\": [81.0], \"xaxis\": \"x\", \"y\": [7.4], \"yaxis\": \"y\"}, {\"hovertemplate\": \"<b>%{hovertext}</b><br><br>Title=Get a Clue<br>Runtime=%{x}<br>IMDb=%{y}<extra></extra>\", \"hovertext\": [\"Get a Clue\"], \"legendgroup\": \"Get a Clue\", \"marker\": {\"color\": \"#19d3f3\", \"symbol\": \"circle\"}, \"mode\": \"markers\", \"name\": \"Get a Clue\", \"orientation\": \"v\", \"showlegend\": true, \"type\": \"scatter\", \"x\": [83.0], \"xaxis\": \"x\", \"y\": [5.1], \"yaxis\": \"y\"}, {\"hovertemplate\": \"<b>%{hovertext}</b><br><br>Title=Hatching Pete<br>Runtime=%{x}<br>IMDb=%{y}<extra></extra>\", \"hovertext\": [\"Hatching Pete\"], \"legendgroup\": \"Hatching Pete\", \"marker\": {\"color\": \"#FF6692\", \"symbol\": \"circle\"}, \"mode\": \"markers\", \"name\": \"Hatching Pete\", \"orientation\": \"v\", \"showlegend\": true, \"type\": \"scatter\", \"x\": [90.0], \"xaxis\": \"x\", \"y\": [5.4], \"yaxis\": \"y\"}, {\"hovertemplate\": \"<b>%{hovertext}</b><br><br>Title=Apollo: Missions to the Moon<br>Runtime=%{x}<br>IMDb=%{y}<extra></extra>\", \"hovertext\": [\"Apollo: Missions to the Moon\"], \"legendgroup\": \"Apollo: Missions to the Moon\", \"marker\": {\"color\": \"#B6E880\", \"symbol\": \"circle\"}, \"mode\": \"markers\", \"name\": \"Apollo: Missions to the Moon\", \"orientation\": \"v\", \"showlegend\": true, \"type\": \"scatter\", \"x\": [94.0], \"xaxis\": \"x\", \"y\": [7.7], \"yaxis\": \"y\"}, {\"hovertemplate\": \"<b>%{hovertext}</b><br><br>Title=Pixel Perfect<br>Runtime=%{x}<br>IMDb=%{y}<extra></extra>\", \"hovertext\": [\"Pixel Perfect\"], \"legendgroup\": \"Pixel Perfect\", \"marker\": {\"color\": \"#FF97FF\", \"symbol\": \"circle\"}, \"mode\": \"markers\", \"name\": \"Pixel Perfect\", \"orientation\": \"v\", \"showlegend\": true, \"type\": \"scatter\", \"x\": [85.0], \"xaxis\": \"x\", \"y\": [5.7], \"yaxis\": \"y\"}, {\"hovertemplate\": \"<b>%{hovertext}</b><br><br>Title=The Vanishing Prairie<br>Runtime=%{x}<br>IMDb=%{y}<extra></extra>\", \"hovertext\": [\"The Vanishing Prairie\"], \"legendgroup\": \"The Vanishing Prairie\", \"marker\": {\"color\": \"#FECB52\", \"symbol\": \"circle\"}, \"mode\": \"markers\", \"name\": \"The Vanishing Prairie\", \"orientation\": \"v\", \"showlegend\": true, \"type\": \"scatter\", \"x\": [71.0], \"xaxis\": \"x\", \"y\": [7.5], \"yaxis\": \"y\"}, {\"hovertemplate\": \"<b>%{hovertext}</b><br><br>Title=Alley Cats Strike<br>Runtime=%{x}<br>IMDb=%{y}<extra></extra>\", \"hovertext\": [\"Alley Cats Strike\"], \"legendgroup\": \"Alley Cats Strike\", \"marker\": {\"color\": \"#636efa\", \"symbol\": \"circle\"}, \"mode\": \"markers\", \"name\": \"Alley Cats Strike\", \"orientation\": \"v\", \"showlegend\": true, \"type\": \"scatter\", \"x\": [103.0], \"xaxis\": \"x\", \"y\": [6.1], \"yaxis\": \"y\"}, {\"hovertemplate\": \"<b>%{hovertext}</b><br><br>Title=Life-Size 2<br>Runtime=%{x}<br>IMDb=%{y}<extra></extra>\", \"hovertext\": [\"Life-Size 2\"], \"legendgroup\": \"Life-Size 2\", \"marker\": {\"color\": \"#EF553B\", \"symbol\": \"circle\"}, \"mode\": \"markers\", \"name\": \"Life-Size 2\", \"orientation\": \"v\", \"showlegend\": true, \"type\": \"scatter\", \"x\": [81.0], \"xaxis\": \"x\", \"y\": [4.8], \"yaxis\": \"y\"}, {\"hovertemplate\": \"<b>%{hovertext}</b><br><br>Title=Johnny Kapahala - Back on Board<br>Runtime=%{x}<br>IMDb=%{y}<extra></extra>\", \"hovertext\": [\"Johnny Kapahala - Back on Board\"], \"legendgroup\": \"Johnny Kapahala - Back on Board\", \"marker\": {\"color\": \"#00cc96\", \"symbol\": \"circle\"}, \"mode\": \"markers\", \"name\": \"Johnny Kapahala - Back on Board\", \"orientation\": \"v\", \"showlegend\": true, \"type\": \"scatter\", \"x\": [90.0], \"xaxis\": \"x\", \"y\": [5.5], \"yaxis\": \"y\"}, {\"hovertemplate\": \"<b>%{hovertext}</b><br><br>Title=Jumping Ship<br>Runtime=%{x}<br>IMDb=%{y}<extra></extra>\", \"hovertext\": [\"Jumping Ship\"], \"legendgroup\": \"Jumping Ship\", \"marker\": {\"color\": \"#ab63fa\", \"symbol\": \"circle\"}, \"mode\": \"markers\", \"name\": \"Jumping Ship\", \"orientation\": \"v\", \"showlegend\": true, \"type\": \"scatter\", \"x\": [93.0], \"xaxis\": \"x\", \"y\": [6.2], \"yaxis\": \"y\"}, {\"hovertemplate\": \"<b>%{hovertext}</b><br><br>Title=The Million Dollar Duck<br>Runtime=%{x}<br>IMDb=%{y}<extra></extra>\", \"hovertext\": [\"The Million Dollar Duck\"], \"legendgroup\": \"The Million Dollar Duck\", \"marker\": {\"color\": \"#FFA15A\", \"symbol\": \"circle\"}, \"mode\": \"markers\", \"name\": \"The Million Dollar Duck\", \"orientation\": \"v\", \"showlegend\": true, \"type\": \"scatter\", \"x\": [89.0], \"xaxis\": \"x\", \"y\": [5.9], \"yaxis\": \"y\"}, {\"hovertemplate\": \"<b>%{hovertext}</b><br><br>Title=Frenemies<br>Runtime=%{x}<br>IMDb=%{y}<extra></extra>\", \"hovertext\": [\"Frenemies\"], \"legendgroup\": \"Frenemies\", \"marker\": {\"color\": \"#19d3f3\", \"symbol\": \"circle\"}, \"mode\": \"markers\", \"name\": \"Frenemies\", \"orientation\": \"v\", \"showlegend\": true, \"type\": \"scatter\", \"x\": [87.0], \"xaxis\": \"x\", \"y\": [5.0], \"yaxis\": \"y\"}, {\"hovertemplate\": \"<b>%{hovertext}</b><br><br>Title=Eddie's Million Dollar Cook Off<br>Runtime=%{x}<br>IMDb=%{y}<extra></extra>\", \"hovertext\": [\"Eddie's Million Dollar Cook Off\"], \"legendgroup\": \"Eddie's Million Dollar Cook Off\", \"marker\": {\"color\": \"#FF6692\", \"symbol\": \"circle\"}, \"mode\": \"markers\", \"name\": \"Eddie's Million Dollar Cook Off\", \"orientation\": \"v\", \"showlegend\": true, \"type\": \"scatter\", \"x\": [110.0], \"xaxis\": \"x\", \"y\": [6.0], \"yaxis\": \"y\"}, {\"hovertemplate\": \"<b>%{hovertext}</b><br><br>Title=Babes in the Woods<br>Runtime=%{x}<br>IMDb=%{y}<extra></extra>\", \"hovertext\": [\"Babes in the Woods\"], \"legendgroup\": \"Babes in the Woods\", \"marker\": {\"color\": \"#B6E880\", \"symbol\": \"circle\"}, \"mode\": \"markers\", \"name\": \"Babes in the Woods\", \"orientation\": \"v\", \"showlegend\": true, \"type\": \"scatter\", \"x\": [8.0], \"xaxis\": \"x\", \"y\": [6.8], \"yaxis\": \"y\"}, {\"hovertemplate\": \"<b>%{hovertext}</b><br><br>Title=America's Heart and Soul<br>Runtime=%{x}<br>IMDb=%{y}<extra></extra>\", \"hovertext\": [\"America's Heart and Soul\"], \"legendgroup\": \"America's Heart and Soul\", \"marker\": {\"color\": \"#FF97FF\", \"symbol\": \"circle\"}, \"mode\": \"markers\", \"name\": \"America's Heart and Soul\", \"orientation\": \"v\", \"showlegend\": true, \"type\": \"scatter\", \"x\": [84.0], \"xaxis\": \"x\", \"y\": [5.1], \"yaxis\": \"y\"}, {\"hovertemplate\": \"<b>%{hovertext}</b><br><br>Title=The Mistle-Tones<br>Runtime=%{x}<br>IMDb=%{y}<extra></extra>\", \"hovertext\": [\"The Mistle-Tones\"], \"legendgroup\": \"The Mistle-Tones\", \"marker\": {\"color\": \"#FECB52\", \"symbol\": \"circle\"}, \"mode\": \"markers\", \"name\": \"The Mistle-Tones\", \"orientation\": \"v\", \"showlegend\": true, \"type\": \"scatter\", \"x\": [90.0], \"xaxis\": \"x\", \"y\": [6.7], \"yaxis\": \"y\"}, {\"hovertemplate\": \"<b>%{hovertext}</b><br><br>Title=A Ring of Endless Light<br>Runtime=%{x}<br>IMDb=%{y}<extra></extra>\", \"hovertext\": [\"A Ring of Endless Light\"], \"legendgroup\": \"A Ring of Endless Light\", \"marker\": {\"color\": \"#636efa\", \"symbol\": \"circle\"}, \"mode\": \"markers\", \"name\": \"A Ring of Endless Light\", \"orientation\": \"v\", \"showlegend\": true, \"type\": \"scatter\", \"x\": [88.0], \"xaxis\": \"x\", \"y\": [6.1], \"yaxis\": \"y\"}, {\"hovertemplate\": \"<b>%{hovertext}</b><br><br>Title=The Other Me<br>Runtime=%{x}<br>IMDb=%{y}<extra></extra>\", \"hovertext\": [\"The Other Me\"], \"legendgroup\": \"The Other Me\", \"marker\": {\"color\": \"#EF553B\", \"symbol\": \"circle\"}, \"mode\": \"markers\", \"name\": \"The Other Me\", \"orientation\": \"v\", \"showlegend\": true, \"type\": \"scatter\", \"x\": [101.0], \"xaxis\": \"x\", \"y\": [6.1], \"yaxis\": \"y\"}, {\"hovertemplate\": \"<b>%{hovertext}</b><br><br>Title=Up, Up, and Away<br>Runtime=%{x}<br>IMDb=%{y}<extra></extra>\", \"hovertext\": [\"Up, Up, and Away\"], \"legendgroup\": \"Up, Up, and Away\", \"marker\": {\"color\": \"#00cc96\", \"symbol\": \"circle\"}, \"mode\": \"markers\", \"name\": \"Up, Up, and Away\", \"orientation\": \"v\", \"showlegend\": true, \"type\": \"scatter\", \"x\": [80.0], \"xaxis\": \"x\", \"y\": [5.6], \"yaxis\": \"y\"}, {\"hovertemplate\": \"<b>%{hovertext}</b><br><br>Title=Dolphin Reef<br>Runtime=%{x}<br>IMDb=%{y}<extra></extra>\", \"hovertext\": [\"Dolphin Reef\"], \"legendgroup\": \"Dolphin Reef\", \"marker\": {\"color\": \"#ab63fa\", \"symbol\": \"circle\"}, \"mode\": \"markers\", \"name\": \"Dolphin Reef\", \"orientation\": \"v\", \"showlegend\": true, \"type\": \"scatter\", \"x\": [77.0], \"xaxis\": \"x\", \"y\": [6.8], \"yaxis\": \"y\"}, {\"hovertemplate\": \"<b>%{hovertext}</b><br><br>Title=Gus<br>Runtime=%{x}<br>IMDb=%{y}<extra></extra>\", \"hovertext\": [\"Gus\"], \"legendgroup\": \"Gus\", \"marker\": {\"color\": \"#FFA15A\", \"symbol\": \"circle\"}, \"mode\": \"markers\", \"name\": \"Gus\", \"orientation\": \"v\", \"showlegend\": true, \"type\": \"scatter\", \"x\": [96.0], \"xaxis\": \"x\", \"y\": [5.9], \"yaxis\": \"y\"}, {\"hovertemplate\": \"<b>%{hovertext}</b><br><br>Title=Almost Angels<br>Runtime=%{x}<br>IMDb=%{y}<extra></extra>\", \"hovertext\": [\"Almost Angels\"], \"legendgroup\": \"Almost Angels\", \"marker\": {\"color\": \"#19d3f3\", \"symbol\": \"circle\"}, \"mode\": \"markers\", \"name\": \"Almost Angels\", \"orientation\": \"v\", \"showlegend\": true, \"type\": \"scatter\", \"x\": [93.0], \"xaxis\": \"x\", \"y\": [6.7], \"yaxis\": \"y\"}, {\"hovertemplate\": \"<b>%{hovertext}</b><br><br>Title=Gotta Kick It Up!<br>Runtime=%{x}<br>IMDb=%{y}<extra></extra>\", \"hovertext\": [\"Gotta Kick It Up!\"], \"legendgroup\": \"Gotta Kick It Up!\", \"marker\": {\"color\": \"#FF6692\", \"symbol\": \"circle\"}, \"mode\": \"markers\", \"name\": \"Gotta Kick It Up!\", \"orientation\": \"v\", \"showlegend\": true, \"type\": \"scatter\", \"x\": [78.0], \"xaxis\": \"x\", \"y\": [5.8], \"yaxis\": \"y\"}, {\"hovertemplate\": \"<b>%{hovertext}</b><br><br>Title=The African Lion<br>Runtime=%{x}<br>IMDb=%{y}<extra></extra>\", \"hovertext\": [\"The African Lion\"], \"legendgroup\": \"The African Lion\", \"marker\": {\"color\": \"#B6E880\", \"symbol\": \"circle\"}, \"mode\": \"markers\", \"name\": \"The African Lion\", \"orientation\": \"v\", \"showlegend\": true, \"type\": \"scatter\", \"x\": [75.0], \"xaxis\": \"x\", \"y\": [7.2], \"yaxis\": \"y\"}, {\"hovertemplate\": \"<b>%{hovertext}</b><br><br>Title=Horse Sense<br>Runtime=%{x}<br>IMDb=%{y}<extra></extra>\", \"hovertext\": [\"Horse Sense\"], \"legendgroup\": \"Horse Sense\", \"marker\": {\"color\": \"#FF97FF\", \"symbol\": \"circle\"}, \"mode\": \"markers\", \"name\": \"Horse Sense\", \"orientation\": \"v\", \"showlegend\": true, \"type\": \"scatter\", \"x\": [92.0], \"xaxis\": \"x\", \"y\": [6.2], \"yaxis\": \"y\"}, {\"hovertemplate\": \"<b>%{hovertext}</b><br><br>Title=Snowglobe<br>Runtime=%{x}<br>IMDb=%{y}<extra></extra>\", \"hovertext\": [\"Snowglobe\"], \"legendgroup\": \"Snowglobe\", \"marker\": {\"color\": \"#FECB52\", \"symbol\": \"circle\"}, \"mode\": \"markers\", \"name\": \"Snowglobe\", \"orientation\": \"v\", \"showlegend\": true, \"type\": \"scatter\", \"x\": [86.0], \"xaxis\": \"x\", \"y\": [6.0], \"yaxis\": \"y\"}, {\"hovertemplate\": \"<b>%{hovertext}</b><br><br>Title=Once Upon A Mattress<br>Runtime=%{x}<br>IMDb=%{y}<extra></extra>\", \"hovertext\": [\"Once Upon A Mattress\"], \"legendgroup\": \"Once Upon A Mattress\", \"marker\": {\"color\": \"#636efa\", \"symbol\": \"circle\"}, \"mode\": \"markers\", \"name\": \"Once Upon A Mattress\", \"orientation\": \"v\", \"showlegend\": true, \"type\": \"scatter\", \"x\": [90.0], \"xaxis\": \"x\", \"y\": [6.3], \"yaxis\": \"y\"}, {\"hovertemplate\": \"<b>%{hovertext}</b><br><br>Title=Jonas Brothers: The Concert Experience<br>Runtime=%{x}<br>IMDb=%{y}<extra></extra>\", \"hovertext\": [\"Jonas Brothers: The Concert Experience\"], \"legendgroup\": \"Jonas Brothers: The Concert Experience\", \"marker\": {\"color\": \"#EF553B\", \"symbol\": \"circle\"}, \"mode\": \"markers\", \"name\": \"Jonas Brothers: The Concert Experience\", \"orientation\": \"v\", \"showlegend\": true, \"type\": \"scatter\", \"x\": [76.0], \"xaxis\": \"x\", \"y\": [1.6], \"yaxis\": \"y\"}, {\"hovertemplate\": \"<b>%{hovertext}</b><br><br>Title=You Wish!<br>Runtime=%{x}<br>IMDb=%{y}<extra></extra>\", \"hovertext\": [\"You Wish!\"], \"legendgroup\": \"You Wish!\", \"marker\": {\"color\": \"#00cc96\", \"symbol\": \"circle\"}, \"mode\": \"markers\", \"name\": \"You Wish!\", \"orientation\": \"v\", \"showlegend\": true, \"type\": \"scatter\", \"x\": [84.0], \"xaxis\": \"x\", \"y\": [6.1], \"yaxis\": \"y\"}, {\"hovertemplate\": \"<b>%{hovertext}</b><br><br>Title=The Country Bears<br>Runtime=%{x}<br>IMDb=%{y}<extra></extra>\", \"hovertext\": [\"The Country Bears\"], \"legendgroup\": \"The Country Bears\", \"marker\": {\"color\": \"#ab63fa\", \"symbol\": \"circle\"}, \"mode\": \"markers\", \"name\": \"The Country Bears\", \"orientation\": \"v\", \"showlegend\": true, \"type\": \"scatter\", \"x\": [88.0], \"xaxis\": \"x\", \"y\": [4.1], \"yaxis\": \"y\"}, {\"hovertemplate\": \"<b>%{hovertext}</b><br><br>Title=A Celebration of the Music from Coco<br>Runtime=%{x}<br>IMDb=%{y}<extra></extra>\", \"hovertext\": [\"A Celebration of the Music from Coco\"], \"legendgroup\": \"A Celebration of the Music from Coco\", \"marker\": {\"color\": \"#FFA15A\", \"symbol\": \"circle\"}, \"mode\": \"markers\", \"name\": \"A Celebration of the Music from Coco\", \"orientation\": \"v\", \"showlegend\": true, \"type\": \"scatter\", \"x\": [null], \"xaxis\": \"x\", \"y\": [7.4], \"yaxis\": \"y\"}, {\"hovertemplate\": \"<b>%{hovertext}</b><br><br>Title=In the Footsteps of Elephant<br>Runtime=%{x}<br>IMDb=%{y}<extra></extra>\", \"hovertext\": [\"In the Footsteps of Elephant\"], \"legendgroup\": \"In the Footsteps of Elephant\", \"marker\": {\"color\": \"#19d3f3\", \"symbol\": \"circle\"}, \"mode\": \"markers\", \"name\": \"In the Footsteps of Elephant\", \"orientation\": \"v\", \"showlegend\": true, \"type\": \"scatter\", \"x\": [85.0], \"xaxis\": \"x\", \"y\": [7.8], \"yaxis\": \"y\"}, {\"hovertemplate\": \"<b>%{hovertext}</b><br><br>Title=Out of Scale<br>Runtime=%{x}<br>IMDb=%{y}<extra></extra>\", \"hovertext\": [\"Out of Scale\"], \"legendgroup\": \"Out of Scale\", \"marker\": {\"color\": \"#FF6692\", \"symbol\": \"circle\"}, \"mode\": \"markers\", \"name\": \"Out of Scale\", \"orientation\": \"v\", \"showlegend\": true, \"type\": \"scatter\", \"x\": [7.0], \"xaxis\": \"x\", \"y\": [7.5], \"yaxis\": \"y\"}, {\"hovertemplate\": \"<b>%{hovertext}</b><br><br>Title=Inspector Gadget 2<br>Runtime=%{x}<br>IMDb=%{y}<extra></extra>\", \"hovertext\": [\"Inspector Gadget 2\"], \"legendgroup\": \"Inspector Gadget 2\", \"marker\": {\"color\": \"#B6E880\", \"symbol\": \"circle\"}, \"mode\": \"markers\", \"name\": \"Inspector Gadget 2\", \"orientation\": \"v\", \"showlegend\": true, \"type\": \"scatter\", \"x\": [89.0], \"xaxis\": \"x\", \"y\": [3.4], \"yaxis\": \"y\"}, {\"hovertemplate\": \"<b>%{hovertext}</b><br><br>Title=Zenon: Z3<br>Runtime=%{x}<br>IMDb=%{y}<extra></extra>\", \"hovertext\": [\"Zenon: Z3\"], \"legendgroup\": \"Zenon: Z3\", \"marker\": {\"color\": \"#FF97FF\", \"symbol\": \"circle\"}, \"mode\": \"markers\", \"name\": \"Zenon: Z3\", \"orientation\": \"v\", \"showlegend\": true, \"type\": \"scatter\", \"x\": [81.0], \"xaxis\": \"x\", \"y\": [5.5], \"yaxis\": \"y\"}, {\"hovertemplate\": \"<b>%{hovertext}</b><br><br>Title=Den Brother<br>Runtime=%{x}<br>IMDb=%{y}<extra></extra>\", \"hovertext\": [\"Den Brother\"], \"legendgroup\": \"Den Brother\", \"marker\": {\"color\": \"#FECB52\", \"symbol\": \"circle\"}, \"mode\": \"markers\", \"name\": \"Den Brother\", \"orientation\": \"v\", \"showlegend\": true, \"type\": \"scatter\", \"x\": [89.0], \"xaxis\": \"x\", \"y\": [5.4], \"yaxis\": \"y\"}, {\"hovertemplate\": \"<b>%{hovertext}</b><br><br>Title=Miracle In Lane 2<br>Runtime=%{x}<br>IMDb=%{y}<extra></extra>\", \"hovertext\": [\"Miracle In Lane 2\"], \"legendgroup\": \"Miracle In Lane 2\", \"marker\": {\"color\": \"#636efa\", \"symbol\": \"circle\"}, \"mode\": \"markers\", \"name\": \"Miracle In Lane 2\", \"orientation\": \"v\", \"showlegend\": true, \"type\": \"scatter\", \"x\": [120.0], \"xaxis\": \"x\", \"y\": [6.0], \"yaxis\": \"y\"}, {\"hovertemplate\": \"<b>%{hovertext}</b><br><br>Title=Three Days<br>Runtime=%{x}<br>IMDb=%{y}<extra></extra>\", \"hovertext\": [\"Three Days\"], \"legendgroup\": \"Three Days\", \"marker\": {\"color\": \"#EF553B\", \"symbol\": \"circle\"}, \"mode\": \"markers\", \"name\": \"Three Days\", \"orientation\": \"v\", \"showlegend\": true, \"type\": \"scatter\", \"x\": [133.0], \"xaxis\": \"x\", \"y\": [7.2], \"yaxis\": \"y\"}, {\"hovertemplate\": \"<b>%{hovertext}</b><br><br>Title=Atlantis Rising<br>Runtime=%{x}<br>IMDb=%{y}<extra></extra>\", \"hovertext\": [\"Atlantis Rising\"], \"legendgroup\": \"Atlantis Rising\", \"marker\": {\"color\": \"#00cc96\", \"symbol\": \"circle\"}, \"mode\": \"markers\", \"name\": \"Atlantis Rising\", \"orientation\": \"v\", \"showlegend\": true, \"type\": \"scatter\", \"x\": [93.0], \"xaxis\": \"x\", \"y\": [6.6], \"yaxis\": \"y\"}, {\"hovertemplate\": \"<b>%{hovertext}</b><br><br>Title=Doug's 1st Movie<br>Runtime=%{x}<br>IMDb=%{y}<extra></extra>\", \"hovertext\": [\"Doug's 1st Movie\"], \"legendgroup\": \"Doug's 1st Movie\", \"marker\": {\"color\": \"#ab63fa\", \"symbol\": \"circle\"}, \"mode\": \"markers\", \"name\": \"Doug's 1st Movie\", \"orientation\": \"v\", \"showlegend\": true, \"type\": \"scatter\", \"x\": [77.0], \"xaxis\": \"x\", \"y\": [5.0], \"yaxis\": \"y\"}, {\"hovertemplate\": \"<b>%{hovertext}</b><br><br>Title=The Strongest Man in the World<br>Runtime=%{x}<br>IMDb=%{y}<extra></extra>\", \"hovertext\": [\"The Strongest Man in the World\"], \"legendgroup\": \"The Strongest Man in the World\", \"marker\": {\"color\": \"#FFA15A\", \"symbol\": \"circle\"}, \"mode\": \"markers\", \"name\": \"The Strongest Man in the World\", \"orientation\": \"v\", \"showlegend\": true, \"type\": \"scatter\", \"x\": [92.0], \"xaxis\": \"x\", \"y\": [6.1], \"yaxis\": \"y\"}, {\"hovertemplate\": \"<b>%{hovertext}</b><br><br>Title=Titanic: 20 Years Later with James Cameron<br>Runtime=%{x}<br>IMDb=%{y}<extra></extra>\", \"hovertext\": [\"Titanic: 20 Years Later with James Cameron\"], \"legendgroup\": \"Titanic: 20 Years Later with James Cameron\", \"marker\": {\"color\": \"#19d3f3\", \"symbol\": \"circle\"}, \"mode\": \"markers\", \"name\": \"Titanic: 20 Years Later with James Cameron\", \"orientation\": \"v\", \"showlegend\": true, \"type\": \"scatter\", \"x\": [46.0], \"xaxis\": \"x\", \"y\": [7.2], \"yaxis\": \"y\"}, {\"hovertemplate\": \"<b>%{hovertext}</b><br><br>Title=Quints<br>Runtime=%{x}<br>IMDb=%{y}<extra></extra>\", \"hovertext\": [\"Quints\"], \"legendgroup\": \"Quints\", \"marker\": {\"color\": \"#FF6692\", \"symbol\": \"circle\"}, \"mode\": \"markers\", \"name\": \"Quints\", \"orientation\": \"v\", \"showlegend\": true, \"type\": \"scatter\", \"x\": [83.0], \"xaxis\": \"x\", \"y\": [5.7], \"yaxis\": \"y\"}, {\"hovertemplate\": \"<b>%{hovertext}</b><br><br>Title=Breaking2<br>Runtime=%{x}<br>IMDb=%{y}<extra></extra>\", \"hovertext\": [\"Breaking2\"], \"legendgroup\": \"Breaking2\", \"marker\": {\"color\": \"#B6E880\", \"symbol\": \"circle\"}, \"mode\": \"markers\", \"name\": \"Breaking2\", \"orientation\": \"v\", \"showlegend\": true, \"type\": \"scatter\", \"x\": [55.0], \"xaxis\": \"x\", \"y\": [7.4], \"yaxis\": \"y\"}, {\"hovertemplate\": \"<b>%{hovertext}</b><br><br>Title=Life Is Ruff<br>Runtime=%{x}<br>IMDb=%{y}<extra></extra>\", \"hovertext\": [\"Life Is Ruff\"], \"legendgroup\": \"Life Is Ruff\", \"marker\": {\"color\": \"#FF97FF\", \"symbol\": \"circle\"}, \"mode\": \"markers\", \"name\": \"Life Is Ruff\", \"orientation\": \"v\", \"showlegend\": true, \"type\": \"scatter\", \"x\": [84.0], \"xaxis\": \"x\", \"y\": [4.9], \"yaxis\": \"y\"}, {\"hovertemplate\": \"<b>%{hovertext}</b><br><br>Title=Jungle Cat<br>Runtime=%{x}<br>IMDb=%{y}<extra></extra>\", \"hovertext\": [\"Jungle Cat\"], \"legendgroup\": \"Jungle Cat\", \"marker\": {\"color\": \"#FECB52\", \"symbol\": \"circle\"}, \"mode\": \"markers\", \"name\": \"Jungle Cat\", \"orientation\": \"v\", \"showlegend\": true, \"type\": \"scatter\", \"x\": [69.0], \"xaxis\": \"x\", \"y\": [7.5], \"yaxis\": \"y\"}, {\"hovertemplate\": \"<b>%{hovertext}</b><br><br>Title=Under the Sea: A Descendants Story<br>Runtime=%{x}<br>IMDb=%{y}<extra></extra>\", \"hovertext\": [\"Under the Sea: A Descendants Story\"], \"legendgroup\": \"Under the Sea: A Descendants Story\", \"marker\": {\"color\": \"#636efa\", \"symbol\": \"circle\"}, \"mode\": \"markers\", \"name\": \"Under the Sea: A Descendants Story\", \"orientation\": \"v\", \"showlegend\": true, \"type\": \"scatter\", \"x\": [10.0], \"xaxis\": \"x\", \"y\": [6.0], \"yaxis\": \"y\"}, {\"hovertemplate\": \"<b>%{hovertext}</b><br><br>Title=Santa Paws 2: The Santa Pups<br>Runtime=%{x}<br>IMDb=%{y}<extra></extra>\", \"hovertext\": [\"Santa Paws 2: The Santa Pups\"], \"legendgroup\": \"Santa Paws 2: The Santa Pups\", \"marker\": {\"color\": \"#EF553B\", \"symbol\": \"circle\"}, \"mode\": \"markers\", \"name\": \"Santa Paws 2: The Santa Pups\", \"orientation\": \"v\", \"showlegend\": true, \"type\": \"scatter\", \"x\": [88.0], \"xaxis\": \"x\", \"y\": [4.9], \"yaxis\": \"y\"}, {\"hovertemplate\": \"<b>%{hovertext}</b><br><br>Title=Dadnapped<br>Runtime=%{x}<br>IMDb=%{y}<extra></extra>\", \"hovertext\": [\"Dadnapped\"], \"legendgroup\": \"Dadnapped\", \"marker\": {\"color\": \"#00cc96\", \"symbol\": \"circle\"}, \"mode\": \"markers\", \"name\": \"Dadnapped\", \"orientation\": \"v\", \"showlegend\": true, \"type\": \"scatter\", \"x\": [84.0], \"xaxis\": \"x\", \"y\": [4.9], \"yaxis\": \"y\"}, {\"hovertemplate\": \"<b>%{hovertext}</b><br><br>Title=Bride of Boogedy<br>Runtime=%{x}<br>IMDb=%{y}<extra></extra>\", \"hovertext\": [\"Bride of Boogedy\"], \"legendgroup\": \"Bride of Boogedy\", \"marker\": {\"color\": \"#ab63fa\", \"symbol\": \"circle\"}, \"mode\": \"markers\", \"name\": \"Bride of Boogedy\", \"orientation\": \"v\", \"showlegend\": true, \"type\": \"scatter\", \"x\": [93.0], \"xaxis\": \"x\", \"y\": [7.5], \"yaxis\": \"y\"}, {\"hovertemplate\": \"<b>%{hovertext}</b><br><br>Title=Into the Grand Canyon<br>Runtime=%{x}<br>IMDb=%{y}<extra></extra>\", \"hovertext\": [\"Into the Grand Canyon\"], \"legendgroup\": \"Into the Grand Canyon\", \"marker\": {\"color\": \"#FFA15A\", \"symbol\": \"circle\"}, \"mode\": \"markers\", \"name\": \"Into the Grand Canyon\", \"orientation\": \"v\", \"showlegend\": true, \"type\": \"scatter\", \"x\": [84.0], \"xaxis\": \"x\", \"y\": [7.5], \"yaxis\": \"y\"}, {\"hovertemplate\": \"<b>%{hovertext}</b><br><br>Title=The Ultimate Christmas Present<br>Runtime=%{x}<br>IMDb=%{y}<extra></extra>\", \"hovertext\": [\"The Ultimate Christmas Present\"], \"legendgroup\": \"The Ultimate Christmas Present\", \"marker\": {\"color\": \"#19d3f3\", \"symbol\": \"circle\"}, \"mode\": \"markers\", \"name\": \"The Ultimate Christmas Present\", \"orientation\": \"v\", \"showlegend\": true, \"type\": \"scatter\", \"x\": [85.0], \"xaxis\": \"x\", \"y\": [5.9], \"yaxis\": \"y\"}, {\"hovertemplate\": \"<b>%{hovertext}</b><br><br>Title=Diving with Dolphins<br>Runtime=%{x}<br>IMDb=%{y}<extra></extra>\", \"hovertext\": [\"Diving with Dolphins\"], \"legendgroup\": \"Diving with Dolphins\", \"marker\": {\"color\": \"#FF6692\", \"symbol\": \"circle\"}, \"mode\": \"markers\", \"name\": \"Diving with Dolphins\", \"orientation\": \"v\", \"showlegend\": true, \"type\": \"scatter\", \"x\": [79.0], \"xaxis\": \"x\", \"y\": [7.5], \"yaxis\": \"y\"}, {\"hovertemplate\": \"<b>%{hovertext}</b><br><br>Title=A Kid in King Arthur's Court<br>Runtime=%{x}<br>IMDb=%{y}<extra></extra>\", \"hovertext\": [\"A Kid in King Arthur's Court\"], \"legendgroup\": \"A Kid in King Arthur's Court\", \"marker\": {\"color\": \"#B6E880\", \"symbol\": \"circle\"}, \"mode\": \"markers\", \"name\": \"A Kid in King Arthur's Court\", \"orientation\": \"v\", \"showlegend\": true, \"type\": \"scatter\", \"x\": [89.0], \"xaxis\": \"x\", \"y\": [4.7], \"yaxis\": \"y\"}, {\"hovertemplate\": \"<b>%{hovertext}</b><br><br>Title=Marvel Rising: Chasing Ghosts<br>Runtime=%{x}<br>IMDb=%{y}<extra></extra>\", \"hovertext\": [\"Marvel Rising: Chasing Ghosts\"], \"legendgroup\": \"Marvel Rising: Chasing Ghosts\", \"marker\": {\"color\": \"#FF97FF\", \"symbol\": \"circle\"}, \"mode\": \"markers\", \"name\": \"Marvel Rising: Chasing Ghosts\", \"orientation\": \"v\", \"showlegend\": true, \"type\": \"scatter\", \"x\": [22.0], \"xaxis\": \"x\", \"y\": [4.6], \"yaxis\": \"y\"}, {\"hovertemplate\": \"<b>%{hovertext}</b><br><br>Title=Super Buddies<br>Runtime=%{x}<br>IMDb=%{y}<extra></extra>\", \"hovertext\": [\"Super Buddies\"], \"legendgroup\": \"Super Buddies\", \"marker\": {\"color\": \"#FECB52\", \"symbol\": \"circle\"}, \"mode\": \"markers\", \"name\": \"Super Buddies\", \"orientation\": \"v\", \"showlegend\": true, \"type\": \"scatter\", \"x\": [81.0], \"xaxis\": \"x\", \"y\": [4.2], \"yaxis\": \"y\"}, {\"hovertemplate\": \"<b>%{hovertext}</b><br><br>Title=The Sandlot: Heading Home<br>Runtime=%{x}<br>IMDb=%{y}<extra></extra>\", \"hovertext\": [\"The Sandlot: Heading Home\"], \"legendgroup\": \"The Sandlot: Heading Home\", \"marker\": {\"color\": \"#636efa\", \"symbol\": \"circle\"}, \"mode\": \"markers\", \"name\": \"The Sandlot: Heading Home\", \"orientation\": \"v\", \"showlegend\": true, \"type\": \"scatter\", \"x\": [96.0], \"xaxis\": \"x\", \"y\": [5.0], \"yaxis\": \"y\"}, {\"hovertemplate\": \"<b>%{hovertext}</b><br><br>Title=Marvel Rising: Heart of Iron<br>Runtime=%{x}<br>IMDb=%{y}<extra></extra>\", \"hovertext\": [\"Marvel Rising: Heart of Iron\"], \"legendgroup\": \"Marvel Rising: Heart of Iron\", \"marker\": {\"color\": \"#EF553B\", \"symbol\": \"circle\"}, \"mode\": \"markers\", \"name\": \"Marvel Rising: Heart of Iron\", \"orientation\": \"v\", \"showlegend\": true, \"type\": \"scatter\", \"x\": [44.0], \"xaxis\": \"x\", \"y\": [4.0], \"yaxis\": \"y\"}, {\"hovertemplate\": \"<b>%{hovertext}</b><br><br>Title=The Secret of the Magic Gourd<br>Runtime=%{x}<br>IMDb=%{y}<extra></extra>\", \"hovertext\": [\"The Secret of the Magic Gourd\"], \"legendgroup\": \"The Secret of the Magic Gourd\", \"marker\": {\"color\": \"#00cc96\", \"symbol\": \"circle\"}, \"mode\": \"markers\", \"name\": \"The Secret of the Magic Gourd\", \"orientation\": \"v\", \"showlegend\": true, \"type\": \"scatter\", \"x\": [84.0], \"xaxis\": \"x\", \"y\": [5.1], \"yaxis\": \"y\"}, {\"hovertemplate\": \"<b>%{hovertext}</b><br><br>Title=Recess: All Growed Down<br>Runtime=%{x}<br>IMDb=%{y}<extra></extra>\", \"hovertext\": [\"Recess: All Growed Down\"], \"legendgroup\": \"Recess: All Growed Down\", \"marker\": {\"color\": \"#ab63fa\", \"symbol\": \"circle\"}, \"mode\": \"markers\", \"name\": \"Recess: All Growed Down\", \"orientation\": \"v\", \"showlegend\": true, \"type\": \"scatter\", \"x\": [61.0], \"xaxis\": \"x\", \"y\": [6.7], \"yaxis\": \"y\"}, {\"hovertemplate\": \"<b>%{hovertext}</b><br><br>Title=The Scream Team<br>Runtime=%{x}<br>IMDb=%{y}<extra></extra>\", \"hovertext\": [\"The Scream Team\"], \"legendgroup\": \"The Scream Team\", \"marker\": {\"color\": \"#FFA15A\", \"symbol\": \"circle\"}, \"mode\": \"markers\", \"name\": \"The Scream Team\", \"orientation\": \"v\", \"showlegend\": true, \"type\": \"scatter\", \"x\": [100.0], \"xaxis\": \"x\", \"y\": [6.7], \"yaxis\": \"y\"}, {\"hovertemplate\": \"<b>%{hovertext}</b><br><br>Title=Perri<br>Runtime=%{x}<br>IMDb=%{y}<extra></extra>\", \"hovertext\": [\"Perri\"], \"legendgroup\": \"Perri\", \"marker\": {\"color\": \"#19d3f3\", \"symbol\": \"circle\"}, \"mode\": \"markers\", \"name\": \"Perri\", \"orientation\": \"v\", \"showlegend\": true, \"type\": \"scatter\", \"x\": [75.0], \"xaxis\": \"x\", \"y\": [6.7], \"yaxis\": \"y\"}, {\"hovertemplate\": \"<b>%{hovertext}</b><br><br>Title=Penguins: Life on the Edge<br>Runtime=%{x}<br>IMDb=%{y}<extra></extra>\", \"hovertext\": [\"Penguins: Life on the Edge\"], \"legendgroup\": \"Penguins: Life on the Edge\", \"marker\": {\"color\": \"#FF6692\", \"symbol\": \"circle\"}, \"mode\": \"markers\", \"name\": \"Penguins: Life on the Edge\", \"orientation\": \"v\", \"showlegend\": true, \"type\": \"scatter\", \"x\": [78.0], \"xaxis\": \"x\", \"y\": [6.9], \"yaxis\": \"y\"}, {\"hovertemplate\": \"<b>%{hovertext}</b><br><br>Title=High School Musical: The Musical: The Series: The Special<br>Runtime=%{x}<br>IMDb=%{y}<extra></extra>\", \"hovertext\": [\"High School Musical: The Musical: The Series: The Special\"], \"legendgroup\": \"High School Musical: The Musical: The Series: The Special\", \"marker\": {\"color\": \"#B6E880\", \"symbol\": \"circle\"}, \"mode\": \"markers\", \"name\": \"High School Musical: The Musical: The Series: The Special\", \"orientation\": \"v\", \"showlegend\": true, \"type\": \"scatter\", \"x\": [23.0], \"xaxis\": \"x\", \"y\": [7.5], \"yaxis\": \"y\"}, {\"hovertemplate\": \"<b>%{hovertext}</b><br><br>Title=Buffalo Dreams<br>Runtime=%{x}<br>IMDb=%{y}<extra></extra>\", \"hovertext\": [\"Buffalo Dreams\"], \"legendgroup\": \"Buffalo Dreams\", \"marker\": {\"color\": \"#FF97FF\", \"symbol\": \"circle\"}, \"mode\": \"markers\", \"name\": \"Buffalo Dreams\", \"orientation\": \"v\", \"showlegend\": true, \"type\": \"scatter\", \"x\": [89.0], \"xaxis\": \"x\", \"y\": [5.8], \"yaxis\": \"y\"}, {\"hovertemplate\": \"<b>%{hovertext}</b><br><br>Title=Full-Court Miracle<br>Runtime=%{x}<br>IMDb=%{y}<extra></extra>\", \"hovertext\": [\"Full-Court Miracle\"], \"legendgroup\": \"Full-Court Miracle\", \"marker\": {\"color\": \"#FECB52\", \"symbol\": \"circle\"}, \"mode\": \"markers\", \"name\": \"Full-Court Miracle\", \"orientation\": \"v\", \"showlegend\": true, \"type\": \"scatter\", \"x\": [90.0], \"xaxis\": \"x\", \"y\": [5.8], \"yaxis\": \"y\"}, {\"hovertemplate\": \"<b>%{hovertext}</b><br><br>Title=Twas the Night<br>Runtime=%{x}<br>IMDb=%{y}<extra></extra>\", \"hovertext\": [\"Twas the Night\"], \"legendgroup\": \"Twas the Night\", \"marker\": {\"color\": \"#636efa\", \"symbol\": \"circle\"}, \"mode\": \"markers\", \"name\": \"Twas the Night\", \"orientation\": \"v\", \"showlegend\": true, \"type\": \"scatter\", \"x\": [84.0], \"xaxis\": \"x\", \"y\": [5.4], \"yaxis\": \"y\"}, {\"hovertemplate\": \"<b>%{hovertext}</b><br><br>Title=George of the Jungle 2<br>Runtime=%{x}<br>IMDb=%{y}<extra></extra>\", \"hovertext\": [\"George of the Jungle 2\"], \"legendgroup\": \"George of the Jungle 2\", \"marker\": {\"color\": \"#EF553B\", \"symbol\": \"circle\"}, \"mode\": \"markers\", \"name\": \"George of the Jungle 2\", \"orientation\": \"v\", \"showlegend\": true, \"type\": \"scatter\", \"x\": [87.0], \"xaxis\": \"x\", \"y\": [3.3], \"yaxis\": \"y\"}, {\"hovertemplate\": \"<b>%{hovertext}</b><br><br>Title=The Plausible Impossible<br>Runtime=%{x}<br>IMDb=%{y}<extra></extra>\", \"hovertext\": [\"The Plausible Impossible\"], \"legendgroup\": \"The Plausible Impossible\", \"marker\": {\"color\": \"#00cc96\", \"symbol\": \"circle\"}, \"mode\": \"markers\", \"name\": \"The Plausible Impossible\", \"orientation\": \"v\", \"showlegend\": true, \"type\": \"scatter\", \"x\": [50.0], \"xaxis\": \"x\", \"y\": [7.7], \"yaxis\": \"y\"}, {\"hovertemplate\": \"<b>%{hovertext}</b><br><br>Title=Miracle at Midnight<br>Runtime=%{x}<br>IMDb=%{y}<extra></extra>\", \"hovertext\": [\"Miracle at Midnight\"], \"legendgroup\": \"Miracle at Midnight\", \"marker\": {\"color\": \"#ab63fa\", \"symbol\": \"circle\"}, \"mode\": \"markers\", \"name\": \"Miracle at Midnight\", \"orientation\": \"v\", \"showlegend\": true, \"type\": \"scatter\", \"x\": [90.0], \"xaxis\": \"x\", \"y\": [7.1], \"yaxis\": \"y\"}, {\"hovertemplate\": \"<b>%{hovertext}</b><br><br>Title=Iron Man & Hulk: Heroes United<br>Runtime=%{x}<br>IMDb=%{y}<extra></extra>\", \"hovertext\": [\"Iron Man & Hulk: Heroes United\"], \"legendgroup\": \"Iron Man & Hulk: Heroes United\", \"marker\": {\"color\": \"#FFA15A\", \"symbol\": \"circle\"}, \"mode\": \"markers\", \"name\": \"Iron Man & Hulk: Heroes United\", \"orientation\": \"v\", \"showlegend\": true, \"type\": \"scatter\", \"x\": [71.0], \"xaxis\": \"x\", \"y\": [4.7], \"yaxis\": \"y\"}, {\"hovertemplate\": \"<b>%{hovertext}</b><br><br>Title=Stepsister from Planet Weird<br>Runtime=%{x}<br>IMDb=%{y}<extra></extra>\", \"hovertext\": [\"Stepsister from Planet Weird\"], \"legendgroup\": \"Stepsister from Planet Weird\", \"marker\": {\"color\": \"#19d3f3\", \"symbol\": \"circle\"}, \"mode\": \"markers\", \"name\": \"Stepsister from Planet Weird\", \"orientation\": \"v\", \"showlegend\": true, \"type\": \"scatter\", \"x\": [85.0], \"xaxis\": \"x\", \"y\": [5.9], \"yaxis\": \"y\"}, {\"hovertemplate\": \"<b>%{hovertext}</b><br><br>Title=Expedition Mars<br>Runtime=%{x}<br>IMDb=%{y}<extra></extra>\", \"hovertext\": [\"Expedition Mars\"], \"legendgroup\": \"Expedition Mars\", \"marker\": {\"color\": \"#FF6692\", \"symbol\": \"circle\"}, \"mode\": \"markers\", \"name\": \"Expedition Mars\", \"orientation\": \"v\", \"showlegend\": true, \"type\": \"scatter\", \"x\": [88.0], \"xaxis\": \"x\", \"y\": [8.0], \"yaxis\": \"y\"}, {\"hovertemplate\": \"<b>%{hovertext}</b><br><br>Title=That Darn Cat<br>Runtime=%{x}<br>IMDb=%{y}<extra></extra>\", \"hovertext\": [\"That Darn Cat\"], \"legendgroup\": \"That Darn Cat\", \"marker\": {\"color\": \"#B6E880\", \"symbol\": \"circle\"}, \"mode\": \"markers\", \"name\": \"That Darn Cat\", \"orientation\": \"v\", \"showlegend\": true, \"type\": \"scatter\", \"x\": [116.0], \"xaxis\": \"x\", \"y\": [4.7], \"yaxis\": \"y\"}, {\"hovertemplate\": \"<b>%{hovertext}</b><br><br>Title=Those Calloways<br>Runtime=%{x}<br>IMDb=%{y}<extra></extra>\", \"hovertext\": [\"Those Calloways\"], \"legendgroup\": \"Those Calloways\", \"marker\": {\"color\": \"#FF97FF\", \"symbol\": \"circle\"}, \"mode\": \"markers\", \"name\": \"Those Calloways\", \"orientation\": \"v\", \"showlegend\": true, \"type\": \"scatter\", \"x\": [131.0], \"xaxis\": \"x\", \"y\": [6.7], \"yaxis\": \"y\"}, {\"hovertemplate\": \"<b>%{hovertext}</b><br><br>Title=The Sign of Zorro<br>Runtime=%{x}<br>IMDb=%{y}<extra></extra>\", \"hovertext\": [\"The Sign of Zorro\"], \"legendgroup\": \"The Sign of Zorro\", \"marker\": {\"color\": \"#FECB52\", \"symbol\": \"circle\"}, \"mode\": \"markers\", \"name\": \"The Sign of Zorro\", \"orientation\": \"v\", \"showlegend\": true, \"type\": \"scatter\", \"x\": [91.0], \"xaxis\": \"x\", \"y\": [7.1], \"yaxis\": \"y\"}, {\"hovertemplate\": \"<b>%{hovertext}</b><br><br>Title=Decorating Disney: Holiday Magic<br>Runtime=%{x}<br>IMDb=%{y}<extra></extra>\", \"hovertext\": [\"Decorating Disney: Holiday Magic\"], \"legendgroup\": \"Decorating Disney: Holiday Magic\", \"marker\": {\"color\": \"#636efa\", \"symbol\": \"circle\"}, \"mode\": \"markers\", \"name\": \"Decorating Disney: Holiday Magic\", \"orientation\": \"v\", \"showlegend\": true, \"type\": \"scatter\", \"x\": [42.0], \"xaxis\": \"x\", \"y\": [6.9], \"yaxis\": \"y\"}, {\"hovertemplate\": \"<b>%{hovertext}</b><br><br>Title=Treasure of Matecumbe<br>Runtime=%{x}<br>IMDb=%{y}<extra></extra>\", \"hovertext\": [\"Treasure of Matecumbe\"], \"legendgroup\": \"Treasure of Matecumbe\", \"marker\": {\"color\": \"#EF553B\", \"symbol\": \"circle\"}, \"mode\": \"markers\", \"name\": \"Treasure of Matecumbe\", \"orientation\": \"v\", \"showlegend\": true, \"type\": \"scatter\", \"x\": [117.0], \"xaxis\": \"x\", \"y\": [6.2], \"yaxis\": \"y\"}, {\"hovertemplate\": \"<b>%{hovertext}</b><br><br>Title=The Christmas Star<br>Runtime=%{x}<br>IMDb=%{y}<extra></extra>\", \"hovertext\": [\"The Christmas Star\"], \"legendgroup\": \"The Christmas Star\", \"marker\": {\"color\": \"#00cc96\", \"symbol\": \"circle\"}, \"mode\": \"markers\", \"name\": \"The Christmas Star\", \"orientation\": \"v\", \"showlegend\": true, \"type\": \"scatter\", \"x\": [94.0], \"xaxis\": \"x\", \"y\": [6.4], \"yaxis\": \"y\"}, {\"hovertemplate\": \"<b>%{hovertext}</b><br><br>Title=Stonehenge: Decoded<br>Runtime=%{x}<br>IMDb=%{y}<extra></extra>\", \"hovertext\": [\"Stonehenge: Decoded\"], \"legendgroup\": \"Stonehenge: Decoded\", \"marker\": {\"color\": \"#ab63fa\", \"symbol\": \"circle\"}, \"mode\": \"markers\", \"name\": \"Stonehenge: Decoded\", \"orientation\": \"v\", \"showlegend\": true, \"type\": \"scatter\", \"x\": [92.0], \"xaxis\": \"x\", \"y\": [6.5], \"yaxis\": \"y\"}, {\"hovertemplate\": \"<b>%{hovertext}</b><br><br>Title=Marvel Rising: Operation Shuri<br>Runtime=%{x}<br>IMDb=%{y}<extra></extra>\", \"hovertext\": [\"Marvel Rising: Operation Shuri\"], \"legendgroup\": \"Marvel Rising: Operation Shuri\", \"marker\": {\"color\": \"#FFA15A\", \"symbol\": \"circle\"}, \"mode\": \"markers\", \"name\": \"Marvel Rising: Operation Shuri\", \"orientation\": \"v\", \"showlegend\": true, \"type\": \"scatter\", \"x\": [21.0], \"xaxis\": \"x\", \"y\": [5.2], \"yaxis\": \"y\"}, {\"hovertemplate\": \"<b>%{hovertext}</b><br><br>Title=Emil and the Detectives<br>Runtime=%{x}<br>IMDb=%{y}<extra></extra>\", \"hovertext\": [\"Emil and the Detectives\"], \"legendgroup\": \"Emil and the Detectives\", \"marker\": {\"color\": \"#19d3f3\", \"symbol\": \"circle\"}, \"mode\": \"markers\", \"name\": \"Emil and the Detectives\", \"orientation\": \"v\", \"showlegend\": true, \"type\": \"scatter\", \"x\": [99.0], \"xaxis\": \"x\", \"y\": [6.2], \"yaxis\": \"y\"}, {\"hovertemplate\": \"<b>%{hovertext}</b><br><br>Title=Marvel Rising: Battle of the Bands<br>Runtime=%{x}<br>IMDb=%{y}<extra></extra>\", \"hovertext\": [\"Marvel Rising: Battle of the Bands\"], \"legendgroup\": \"Marvel Rising: Battle of the Bands\", \"marker\": {\"color\": \"#FF6692\", \"symbol\": \"circle\"}, \"mode\": \"markers\", \"name\": \"Marvel Rising: Battle of the Bands\", \"orientation\": \"v\", \"showlegend\": true, \"type\": \"scatter\", \"x\": [22.0], \"xaxis\": \"x\", \"y\": [5.0], \"yaxis\": \"y\"}, {\"hovertemplate\": \"<b>%{hovertext}</b><br><br>Title=Kazaam<br>Runtime=%{x}<br>IMDb=%{y}<extra></extra>\", \"hovertext\": [\"Kazaam\"], \"legendgroup\": \"Kazaam\", \"marker\": {\"color\": \"#B6E880\", \"symbol\": \"circle\"}, \"mode\": \"markers\", \"name\": \"Kazaam\", \"orientation\": \"v\", \"showlegend\": true, \"type\": \"scatter\", \"x\": [93.0], \"xaxis\": \"x\", \"y\": [3.0], \"yaxis\": \"y\"}, {\"hovertemplate\": \"<b>%{hovertext}</b><br><br>Title=Marvel Rising: Playing with Fire<br>Runtime=%{x}<br>IMDb=%{y}<extra></extra>\", \"hovertext\": [\"Marvel Rising: Playing with Fire\"], \"legendgroup\": \"Marvel Rising: Playing with Fire\", \"marker\": {\"color\": \"#FF97FF\", \"symbol\": \"circle\"}, \"mode\": \"markers\", \"name\": \"Marvel Rising: Playing with Fire\", \"orientation\": \"v\", \"showlegend\": true, \"type\": \"scatter\", \"x\": [44.0], \"xaxis\": \"x\", \"y\": [5.3], \"yaxis\": \"y\"}, {\"hovertemplate\": \"<b>%{hovertext}</b><br><br>Title=Nature's Half Acre<br>Runtime=%{x}<br>IMDb=%{y}<extra></extra>\", \"hovertext\": [\"Nature's Half Acre\"], \"legendgroup\": \"Nature's Half Acre\", \"marker\": {\"color\": \"#FECB52\", \"symbol\": \"circle\"}, \"mode\": \"markers\", \"name\": \"Nature's Half Acre\", \"orientation\": \"v\", \"showlegend\": true, \"type\": \"scatter\", \"x\": [33.0], \"xaxis\": \"x\", \"y\": [7.2], \"yaxis\": \"y\"}, {\"hovertemplate\": \"<b>%{hovertext}</b><br><br>Title=Ready to Run<br>Runtime=%{x}<br>IMDb=%{y}<extra></extra>\", \"hovertext\": [\"Ready to Run\"], \"legendgroup\": \"Ready to Run\", \"marker\": {\"color\": \"#636efa\", \"symbol\": \"circle\"}, \"mode\": \"markers\", \"name\": \"Ready to Run\", \"orientation\": \"v\", \"showlegend\": true, \"type\": \"scatter\", \"x\": [96.0], \"xaxis\": \"x\", \"y\": [5.3], \"yaxis\": \"y\"}, {\"hovertemplate\": \"<b>%{hovertext}</b><br><br>Title=You Lucky Dog<br>Runtime=%{x}<br>IMDb=%{y}<extra></extra>\", \"hovertext\": [\"You Lucky Dog\"], \"legendgroup\": \"You Lucky Dog\", \"marker\": {\"color\": \"#EF553B\", \"symbol\": \"circle\"}, \"mode\": \"markers\", \"name\": \"You Lucky Dog\", \"orientation\": \"v\", \"showlegend\": true, \"type\": \"scatter\", \"x\": [89.0], \"xaxis\": \"x\", \"y\": [4.7], \"yaxis\": \"y\"}, {\"hovertemplate\": \"<b>%{hovertext}</b><br><br>Title=Water Birds<br>Runtime=%{x}<br>IMDb=%{y}<extra></extra>\", \"hovertext\": [\"Water Birds\"], \"legendgroup\": \"Water Birds\", \"marker\": {\"color\": \"#00cc96\", \"symbol\": \"circle\"}, \"mode\": \"markers\", \"name\": \"Water Birds\", \"orientation\": \"v\", \"showlegend\": true, \"type\": \"scatter\", \"x\": [30.0], \"xaxis\": \"x\", \"y\": [6.7], \"yaxis\": \"y\"}, {\"hovertemplate\": \"<b>%{hovertext}</b><br><br>Title=The Flood<br>Runtime=%{x}<br>IMDb=%{y}<extra></extra>\", \"hovertext\": [\"The Flood\"], \"legendgroup\": \"The Flood\", \"marker\": {\"color\": \"#ab63fa\", \"symbol\": \"circle\"}, \"mode\": \"markers\", \"name\": \"The Flood\", \"orientation\": \"v\", \"showlegend\": true, \"type\": \"scatter\", \"x\": [99.0], \"xaxis\": \"x\", \"y\": [8.1], \"yaxis\": \"y\"}, {\"hovertemplate\": \"<b>%{hovertext}</b><br><br>Title=Skyrunners<br>Runtime=%{x}<br>IMDb=%{y}<extra></extra>\", \"hovertext\": [\"Skyrunners\"], \"legendgroup\": \"Skyrunners\", \"marker\": {\"color\": \"#FFA15A\", \"symbol\": \"circle\"}, \"mode\": \"markers\", \"name\": \"Skyrunners\", \"orientation\": \"v\", \"showlegend\": true, \"type\": \"scatter\", \"x\": [92.0], \"xaxis\": \"x\", \"y\": [5.0], \"yaxis\": \"y\"}, {\"hovertemplate\": \"<b>%{hovertext}</b><br><br>Title=The Lost Tomb of Alexander the Great<br>Runtime=%{x}<br>IMDb=%{y}<extra></extra>\", \"hovertext\": [\"The Lost Tomb of Alexander the Great\"], \"legendgroup\": \"The Lost Tomb of Alexander the Great\", \"marker\": {\"color\": \"#19d3f3\", \"symbol\": \"circle\"}, \"mode\": \"markers\", \"name\": \"The Lost Tomb of Alexander the Great\", \"orientation\": \"v\", \"showlegend\": true, \"type\": \"scatter\", \"x\": [null], \"xaxis\": \"x\", \"y\": [6.6], \"yaxis\": \"y\"}, {\"hovertemplate\": \"<b>%{hovertext}</b><br><br>Title=Drain the Great Lakes<br>Runtime=%{x}<br>IMDb=%{y}<extra></extra>\", \"hovertext\": [\"Drain the Great Lakes\"], \"legendgroup\": \"Drain the Great Lakes\", \"marker\": {\"color\": \"#FF6692\", \"symbol\": \"circle\"}, \"mode\": \"markers\", \"name\": \"Drain the Great Lakes\", \"orientation\": \"v\", \"showlegend\": true, \"type\": \"scatter\", \"x\": [47.0], \"xaxis\": \"x\", \"y\": [6.9], \"yaxis\": \"y\"}, {\"hovertemplate\": \"<b>%{hovertext}</b><br><br>Title=Disney's Fairy Tale Weddings<br>Runtime=%{x}<br>IMDb=%{y}<extra></extra>\", \"hovertext\": [\"Disney's Fairy Tale Weddings\"], \"legendgroup\": \"Disney's Fairy Tale Weddings\", \"marker\": {\"color\": \"#B6E880\", \"symbol\": \"circle\"}, \"mode\": \"markers\", \"name\": \"Disney's Fairy Tale Weddings\", \"orientation\": \"v\", \"showlegend\": true, \"type\": \"scatter\", \"x\": [63.0], \"xaxis\": \"x\", \"y\": [6.8], \"yaxis\": \"y\"}, {\"hovertemplate\": \"<b>%{hovertext}</b><br><br>Title=Paris to Pittsburgh<br>Runtime=%{x}<br>IMDb=%{y}<extra></extra>\", \"hovertext\": [\"Paris to Pittsburgh\"], \"legendgroup\": \"Paris to Pittsburgh\", \"marker\": {\"color\": \"#FF97FF\", \"symbol\": \"circle\"}, \"mode\": \"markers\", \"name\": \"Paris to Pittsburgh\", \"orientation\": \"v\", \"showlegend\": true, \"type\": \"scatter\", \"x\": [77.0], \"xaxis\": \"x\", \"y\": [6.9], \"yaxis\": \"y\"}, {\"hovertemplate\": \"<b>%{hovertext}</b><br><br>Title=A Tale of Two Critters<br>Runtime=%{x}<br>IMDb=%{y}<extra></extra>\", \"hovertext\": [\"A Tale of Two Critters\"], \"legendgroup\": \"A Tale of Two Critters\", \"marker\": {\"color\": \"#FECB52\", \"symbol\": \"circle\"}, \"mode\": \"markers\", \"name\": \"A Tale of Two Critters\", \"orientation\": \"v\", \"showlegend\": true, \"type\": \"scatter\", \"x\": [48.0], \"xaxis\": \"x\", \"y\": [6.5], \"yaxis\": \"y\"}, {\"hovertemplate\": \"<b>%{hovertext}</b><br><br>Title=Drain the Titanic<br>Runtime=%{x}<br>IMDb=%{y}<extra></extra>\", \"hovertext\": [\"Drain the Titanic\"], \"legendgroup\": \"Drain the Titanic\", \"marker\": {\"color\": \"#636efa\", \"symbol\": \"circle\"}, \"mode\": \"markers\", \"name\": \"Drain the Titanic\", \"orientation\": \"v\", \"showlegend\": true, \"type\": \"scatter\", \"x\": [46.0], \"xaxis\": \"x\", \"y\": [6.4], \"yaxis\": \"y\"}, {\"hovertemplate\": \"<b>%{hovertext}</b><br><br>Title=Fuzzbucket<br>Runtime=%{x}<br>IMDb=%{y}<extra></extra>\", \"hovertext\": [\"Fuzzbucket\"], \"legendgroup\": \"Fuzzbucket\", \"marker\": {\"color\": \"#EF553B\", \"symbol\": \"circle\"}, \"mode\": \"markers\", \"name\": \"Fuzzbucket\", \"orientation\": \"v\", \"showlegend\": true, \"type\": \"scatter\", \"x\": [46.0], \"xaxis\": \"x\", \"y\": [6.2], \"yaxis\": \"y\"}, {\"hovertemplate\": \"<b>%{hovertext}</b><br><br>Title=Trail of the Panda<br>Runtime=%{x}<br>IMDb=%{y}<extra></extra>\", \"hovertext\": [\"Trail of the Panda\"], \"legendgroup\": \"Trail of the Panda\", \"marker\": {\"color\": \"#00cc96\", \"symbol\": \"circle\"}, \"mode\": \"markers\", \"name\": \"Trail of the Panda\", \"orientation\": \"v\", \"showlegend\": true, \"type\": \"scatter\", \"x\": [87.0], \"xaxis\": \"x\", \"y\": [6.5], \"yaxis\": \"y\"}, {\"hovertemplate\": \"<b>%{hovertext}</b><br><br>Title=Secrets of Christ's Tomb: Explorer Special<br>Runtime=%{x}<br>IMDb=%{y}<extra></extra>\", \"hovertext\": [\"Secrets of Christ's Tomb: Explorer Special\"], \"legendgroup\": \"Secrets of Christ's Tomb: Explorer Special\", \"marker\": {\"color\": \"#ab63fa\", \"symbol\": \"circle\"}, \"mode\": \"markers\", \"name\": \"Secrets of Christ's Tomb: Explorer Special\", \"orientation\": \"v\", \"showlegend\": true, \"type\": \"scatter\", \"x\": [46.0], \"xaxis\": \"x\", \"y\": [6.4], \"yaxis\": \"y\"}, {\"hovertemplate\": \"<b>%{hovertext}</b><br><br>Title=Sammy, the Way-Out Seal<br>Runtime=%{x}<br>IMDb=%{y}<extra></extra>\", \"hovertext\": [\"Sammy, the Way-Out Seal\"], \"legendgroup\": \"Sammy, the Way-Out Seal\", \"marker\": {\"color\": \"#FFA15A\", \"symbol\": \"circle\"}, \"mode\": \"markers\", \"name\": \"Sammy, the Way-Out Seal\", \"orientation\": \"v\", \"showlegend\": true, \"type\": \"scatter\", \"x\": [89.0], \"xaxis\": \"x\", \"y\": [6.7], \"yaxis\": \"y\"}, {\"hovertemplate\": \"<b>%{hovertext}</b><br><br>Title=Meet the Deedles<br>Runtime=%{x}<br>IMDb=%{y}<extra></extra>\", \"hovertext\": [\"Meet the Deedles\"], \"legendgroup\": \"Meet the Deedles\", \"marker\": {\"color\": \"#19d3f3\", \"symbol\": \"circle\"}, \"mode\": \"markers\", \"name\": \"Meet the Deedles\", \"orientation\": \"v\", \"showlegend\": true, \"type\": \"scatter\", \"x\": [93.0], \"xaxis\": \"x\", \"y\": [4.1], \"yaxis\": \"y\"}, {\"hovertemplate\": \"<b>%{hovertext}</b><br><br>Title=Justin Morgan Had a Horse<br>Runtime=%{x}<br>IMDb=%{y}<extra></extra>\", \"hovertext\": [\"Justin Morgan Had a Horse\"], \"legendgroup\": \"Justin Morgan Had a Horse\", \"marker\": {\"color\": \"#FF6692\", \"symbol\": \"circle\"}, \"mode\": \"markers\", \"name\": \"Justin Morgan Had a Horse\", \"orientation\": \"v\", \"showlegend\": true, \"type\": \"scatter\", \"x\": [91.0], \"xaxis\": \"x\", \"y\": [6.5], \"yaxis\": \"y\"}, {\"hovertemplate\": \"<b>%{hovertext}</b><br><br>Title=The Biscuit Eater<br>Runtime=%{x}<br>IMDb=%{y}<extra></extra>\", \"hovertext\": [\"The Biscuit Eater\"], \"legendgroup\": \"The Biscuit Eater\", \"marker\": {\"color\": \"#B6E880\", \"symbol\": \"circle\"}, \"mode\": \"markers\", \"name\": \"The Biscuit Eater\", \"orientation\": \"v\", \"showlegend\": true, \"type\": \"scatter\", \"x\": [90.0], \"xaxis\": \"x\", \"y\": [5.7], \"yaxis\": \"y\"}, {\"hovertemplate\": \"<b>%{hovertext}</b><br><br>Title=Miracle Landing on the Hudson<br>Runtime=%{x}<br>IMDb=%{y}<extra></extra>\", \"hovertext\": [\"Miracle Landing on the Hudson\"], \"legendgroup\": \"Miracle Landing on the Hudson\", \"marker\": {\"color\": \"#FF97FF\", \"symbol\": \"circle\"}, \"mode\": \"markers\", \"name\": \"Miracle Landing on the Hudson\", \"orientation\": \"v\", \"showlegend\": true, \"type\": \"scatter\", \"x\": [90.0], \"xaxis\": \"x\", \"y\": [6.7], \"yaxis\": \"y\"}, {\"hovertemplate\": \"<b>%{hovertext}</b><br><br>Title=Prowlers of the Everglades<br>Runtime=%{x}<br>IMDb=%{y}<extra></extra>\", \"hovertext\": [\"Prowlers of the Everglades\"], \"legendgroup\": \"Prowlers of the Everglades\", \"marker\": {\"color\": \"#FECB52\", \"symbol\": \"circle\"}, \"mode\": \"markers\", \"name\": \"Prowlers of the Everglades\", \"orientation\": \"v\", \"showlegend\": true, \"type\": \"scatter\", \"x\": [32.0], \"xaxis\": \"x\", \"y\": [8.0], \"yaxis\": \"y\"}, {\"hovertemplate\": \"<b>%{hovertext}</b><br><br>Title=The Castaway Cowboy<br>Runtime=%{x}<br>IMDb=%{y}<extra></extra>\", \"hovertext\": [\"The Castaway Cowboy\"], \"legendgroup\": \"The Castaway Cowboy\", \"marker\": {\"color\": \"#636efa\", \"symbol\": \"circle\"}, \"mode\": \"markers\", \"name\": \"The Castaway Cowboy\", \"orientation\": \"v\", \"showlegend\": true, \"type\": \"scatter\", \"x\": [91.0], \"xaxis\": \"x\", \"y\": [5.9], \"yaxis\": \"y\"}, {\"hovertemplate\": \"<b>%{hovertext}</b><br><br>Title=Casebusters<br>Runtime=%{x}<br>IMDb=%{y}<extra></extra>\", \"hovertext\": [\"Casebusters\"], \"legendgroup\": \"Casebusters\", \"marker\": {\"color\": \"#EF553B\", \"symbol\": \"circle\"}, \"mode\": \"markers\", \"name\": \"Casebusters\", \"orientation\": \"v\", \"showlegend\": true, \"type\": \"scatter\", \"x\": [45.0], \"xaxis\": \"x\", \"y\": [5.8], \"yaxis\": \"y\"}, {\"hovertemplate\": \"<b>%{hovertext}</b><br><br>Title=Mission to the Sun<br>Runtime=%{x}<br>IMDb=%{y}<extra></extra>\", \"hovertext\": [\"Mission to the Sun\"], \"legendgroup\": \"Mission to the Sun\", \"marker\": {\"color\": \"#00cc96\", \"symbol\": \"circle\"}, \"mode\": \"markers\", \"name\": \"Mission to the Sun\", \"orientation\": \"v\", \"showlegend\": true, \"type\": \"scatter\", \"x\": [60.0], \"xaxis\": \"x\", \"y\": [6.9], \"yaxis\": \"y\"}, {\"hovertemplate\": \"<b>%{hovertext}</b><br><br>Title=Drain the Bermuda Triangle<br>Runtime=%{x}<br>IMDb=%{y}<extra></extra>\", \"hovertext\": [\"Drain the Bermuda Triangle\"], \"legendgroup\": \"Drain the Bermuda Triangle\", \"marker\": {\"color\": \"#ab63fa\", \"symbol\": \"circle\"}, \"mode\": \"markers\", \"name\": \"Drain the Bermuda Triangle\", \"orientation\": \"v\", \"showlegend\": true, \"type\": \"scatter\", \"x\": [44.0], \"xaxis\": \"x\", \"y\": [6.4], \"yaxis\": \"y\"}, {\"hovertemplate\": \"<b>%{hovertext}</b><br><br>Title=Drain The Ocean: WWII<br>Runtime=%{x}<br>IMDb=%{y}<extra></extra>\", \"hovertext\": [\"Drain The Ocean: WWII\"], \"legendgroup\": \"Drain The Ocean: WWII\", \"marker\": {\"color\": \"#FFA15A\", \"symbol\": \"circle\"}, \"mode\": \"markers\", \"name\": \"Drain The Ocean: WWII\", \"orientation\": \"v\", \"showlegend\": true, \"type\": \"scatter\", \"x\": [44.0], \"xaxis\": \"x\", \"y\": [7.0], \"yaxis\": \"y\"}, {\"hovertemplate\": \"<b>%{hovertext}</b><br><br>Title=Hounded<br>Runtime=%{x}<br>IMDb=%{y}<extra></extra>\", \"hovertext\": [\"Hounded\"], \"legendgroup\": \"Hounded\", \"marker\": {\"color\": \"#19d3f3\", \"symbol\": \"circle\"}, \"mode\": \"markers\", \"name\": \"Hounded\", \"orientation\": \"v\", \"showlegend\": true, \"type\": \"scatter\", \"x\": [91.0], \"xaxis\": \"x\", \"y\": [5.1], \"yaxis\": \"y\"}, {\"hovertemplate\": \"<b>%{hovertext}</b><br><br>Title=Yellowstone Cubs<br>Runtime=%{x}<br>IMDb=%{y}<extra></extra>\", \"hovertext\": [\"Yellowstone Cubs\"], \"legendgroup\": \"Yellowstone Cubs\", \"marker\": {\"color\": \"#FF6692\", \"symbol\": \"circle\"}, \"mode\": \"markers\", \"name\": \"Yellowstone Cubs\", \"orientation\": \"v\", \"showlegend\": true, \"type\": \"scatter\", \"x\": [48.0], \"xaxis\": \"x\", \"y\": [6.9], \"yaxis\": \"y\"}, {\"hovertemplate\": \"<b>%{hovertext}</b><br><br>Title=Kingdom of the Blue Whale<br>Runtime=%{x}<br>IMDb=%{y}<extra></extra>\", \"hovertext\": [\"Kingdom of the Blue Whale\"], \"legendgroup\": \"Kingdom of the Blue Whale\", \"marker\": {\"color\": \"#B6E880\", \"symbol\": \"circle\"}, \"mode\": \"markers\", \"name\": \"Kingdom of the Blue Whale\", \"orientation\": \"v\", \"showlegend\": true, \"type\": \"scatter\", \"x\": [94.0], \"xaxis\": \"x\", \"y\": [7.3], \"yaxis\": \"y\"}, {\"hovertemplate\": \"<b>%{hovertext}</b><br><br>Title=Viking Warrior Women<br>Runtime=%{x}<br>IMDb=%{y}<extra></extra>\", \"hovertext\": [\"Viking Warrior Women\"], \"legendgroup\": \"Viking Warrior Women\", \"marker\": {\"color\": \"#FF97FF\", \"symbol\": \"circle\"}, \"mode\": \"markers\", \"name\": \"Viking Warrior Women\", \"orientation\": \"v\", \"showlegend\": true, \"type\": \"scatter\", \"x\": [51.0], \"xaxis\": \"x\", \"y\": [6.6], \"yaxis\": \"y\"}, {\"hovertemplate\": \"<b>%{hovertext}</b><br><br>Title=Pocahontas<br>Runtime=%{x}<br>IMDb=%{y}<extra></extra>\", \"hovertext\": [\"Pocahontas\"], \"legendgroup\": \"Pocahontas\", \"marker\": {\"color\": \"#FECB52\", \"symbol\": \"circle\"}, \"mode\": \"markers\", \"name\": \"Pocahontas\", \"orientation\": \"v\", \"showlegend\": true, \"type\": \"scatter\", \"x\": [81.0], \"xaxis\": \"x\", \"y\": [5.3], \"yaxis\": \"y\"}, {\"hovertemplate\": \"<b>%{hovertext}</b><br><br>Title=Drain Alcatraz<br>Runtime=%{x}<br>IMDb=%{y}<extra></extra>\", \"hovertext\": [\"Drain Alcatraz\"], \"legendgroup\": \"Drain Alcatraz\", \"marker\": {\"color\": \"#636efa\", \"symbol\": \"circle\"}, \"mode\": \"markers\", \"name\": \"Drain Alcatraz\", \"orientation\": \"v\", \"showlegend\": true, \"type\": \"scatter\", \"x\": [47.0], \"xaxis\": \"x\", \"y\": [5.9], \"yaxis\": \"y\"}, {\"hovertemplate\": \"<b>%{hovertext}</b><br><br>Title=The Spaceman and King Arthur<br>Runtime=%{x}<br>IMDb=%{y}<extra></extra>\", \"hovertext\": [\"The Spaceman and King Arthur\"], \"legendgroup\": \"The Spaceman and King Arthur\", \"marker\": {\"color\": \"#EF553B\", \"symbol\": \"circle\"}, \"mode\": \"markers\", \"name\": \"The Spaceman and King Arthur\", \"orientation\": \"v\", \"showlegend\": true, \"type\": \"scatter\", \"x\": [93.0], \"xaxis\": \"x\", \"y\": [5.3], \"yaxis\": \"y\"}, {\"hovertemplate\": \"<b>%{hovertext}</b><br><br>Title=Secrets of Life<br>Runtime=%{x}<br>IMDb=%{y}<extra></extra>\", \"hovertext\": [\"Secrets of Life\"], \"legendgroup\": \"Secrets of Life\", \"marker\": {\"color\": \"#00cc96\", \"symbol\": \"circle\"}, \"mode\": \"markers\", \"name\": \"Secrets of Life\", \"orientation\": \"v\", \"showlegend\": true, \"type\": \"scatter\", \"x\": [70.0], \"xaxis\": \"x\", \"y\": [7.2], \"yaxis\": \"y\"}, {\"hovertemplate\": \"<b>%{hovertext}</b><br><br>Title=Hacksaw<br>Runtime=%{x}<br>IMDb=%{y}<extra></extra>\", \"hovertext\": [\"Hacksaw\"], \"legendgroup\": \"Hacksaw\", \"marker\": {\"color\": \"#ab63fa\", \"symbol\": \"circle\"}, \"mode\": \"markers\", \"name\": \"Hacksaw\", \"orientation\": \"v\", \"showlegend\": true, \"type\": \"scatter\", \"x\": [89.0], \"xaxis\": \"x\", \"y\": [6.3], \"yaxis\": \"y\"}, {\"hovertemplate\": \"<b>%{hovertext}</b><br><br>Title=Can of Worms<br>Runtime=%{x}<br>IMDb=%{y}<extra></extra>\", \"hovertext\": [\"Can of Worms\"], \"legendgroup\": \"Can of Worms\", \"marker\": {\"color\": \"#FFA15A\", \"symbol\": \"circle\"}, \"mode\": \"markers\", \"name\": \"Can of Worms\", \"orientation\": \"v\", \"showlegend\": true, \"type\": \"scatter\", \"x\": [90.0], \"xaxis\": \"x\", \"y\": [5.0], \"yaxis\": \"y\"}, {\"hovertemplate\": \"<b>%{hovertext}</b><br><br>Title=My Dog the Thief<br>Runtime=%{x}<br>IMDb=%{y}<extra></extra>\", \"hovertext\": [\"My Dog the Thief\"], \"legendgroup\": \"My Dog the Thief\", \"marker\": {\"color\": \"#19d3f3\", \"symbol\": \"circle\"}, \"mode\": \"markers\", \"name\": \"My Dog the Thief\", \"orientation\": \"v\", \"showlegend\": true, \"type\": \"scatter\", \"x\": [88.0], \"xaxis\": \"x\", \"y\": [6.1], \"yaxis\": \"y\"}, {\"hovertemplate\": \"<b>%{hovertext}</b><br><br>Title=Richie Rich's Christmas Wish<br>Runtime=%{x}<br>IMDb=%{y}<extra></extra>\", \"hovertext\": [\"Richie Rich's Christmas Wish\"], \"legendgroup\": \"Richie Rich's Christmas Wish\", \"marker\": {\"color\": \"#FF6692\", \"symbol\": \"circle\"}, \"mode\": \"markers\", \"name\": \"Richie Rich's Christmas Wish\", \"orientation\": \"v\", \"showlegend\": true, \"type\": \"scatter\", \"x\": [84.0], \"xaxis\": \"x\", \"y\": [4.1], \"yaxis\": \"y\"}, {\"hovertemplate\": \"<b>%{hovertext}</b><br><br>Title=The Jungle Book: Mowgli's Story<br>Runtime=%{x}<br>IMDb=%{y}<extra></extra>\", \"hovertext\": [\"The Jungle Book: Mowgli's Story\"], \"legendgroup\": \"The Jungle Book: Mowgli's Story\", \"marker\": {\"color\": \"#B6E880\", \"symbol\": \"circle\"}, \"mode\": \"markers\", \"name\": \"The Jungle Book: Mowgli's Story\", \"orientation\": \"v\", \"showlegend\": true, \"type\": \"scatter\", \"x\": [77.0], \"xaxis\": \"x\", \"y\": [4.2], \"yaxis\": \"y\"}, {\"hovertemplate\": \"<b>%{hovertext}</b><br><br>Title=How Dogs Got Their Shapes<br>Runtime=%{x}<br>IMDb=%{y}<extra></extra>\", \"hovertext\": [\"How Dogs Got Their Shapes\"], \"legendgroup\": \"How Dogs Got Their Shapes\", \"marker\": {\"color\": \"#FF97FF\", \"symbol\": \"circle\"}, \"mode\": \"markers\", \"name\": \"How Dogs Got Their Shapes\", \"orientation\": \"v\", \"showlegend\": true, \"type\": \"scatter\", \"x\": [null], \"xaxis\": \"x\", \"y\": [6.7], \"yaxis\": \"y\"}, {\"hovertemplate\": \"<b>%{hovertext}</b><br><br>Title=Drain The Sunken Pirate City<br>Runtime=%{x}<br>IMDb=%{y}<extra></extra>\", \"hovertext\": [\"Drain The Sunken Pirate City\"], \"legendgroup\": \"Drain The Sunken Pirate City\", \"marker\": {\"color\": \"#FECB52\", \"symbol\": \"circle\"}, \"mode\": \"markers\", \"name\": \"Drain The Sunken Pirate City\", \"orientation\": \"v\", \"showlegend\": true, \"type\": \"scatter\", \"x\": [47.0], \"xaxis\": \"x\", \"y\": [6.6], \"yaxis\": \"y\"}, {\"hovertemplate\": \"<b>%{hovertext}</b><br><br>Title=Bizarre Dinosaurs<br>Runtime=%{x}<br>IMDb=%{y}<extra></extra>\", \"hovertext\": [\"Bizarre Dinosaurs\"], \"legendgroup\": \"Bizarre Dinosaurs\", \"marker\": {\"color\": \"#636efa\", \"symbol\": \"circle\"}, \"mode\": \"markers\", \"name\": \"Bizarre Dinosaurs\", \"orientation\": \"v\", \"showlegend\": true, \"type\": \"scatter\", \"x\": [48.0], \"xaxis\": \"x\", \"y\": [6.8], \"yaxis\": \"y\"}, {\"hovertemplate\": \"<b>%{hovertext}</b><br><br>Title=Earth Live<br>Runtime=%{x}<br>IMDb=%{y}<extra></extra>\", \"hovertext\": [\"Earth Live\"], \"legendgroup\": \"Earth Live\", \"marker\": {\"color\": \"#EF553B\", \"symbol\": \"circle\"}, \"mode\": \"markers\", \"name\": \"Earth Live\", \"orientation\": \"v\", \"showlegend\": true, \"type\": \"scatter\", \"x\": [null], \"xaxis\": \"x\", \"y\": [5.5], \"yaxis\": \"y\"}, {\"hovertemplate\": \"<b>%{hovertext}</b><br><br>Title=The Boy Who Talked to Badgers<br>Runtime=%{x}<br>IMDb=%{y}<extra></extra>\", \"hovertext\": [\"The Boy Who Talked to Badgers\"], \"legendgroup\": \"The Boy Who Talked to Badgers\", \"marker\": {\"color\": \"#00cc96\", \"symbol\": \"circle\"}, \"mode\": \"markers\", \"name\": \"The Boy Who Talked to Badgers\", \"orientation\": \"v\", \"showlegend\": true, \"type\": \"scatter\", \"x\": [89.0], \"xaxis\": \"x\", \"y\": [6.2], \"yaxis\": \"y\"}, {\"hovertemplate\": \"<b>%{hovertext}</b><br><br>Title=Sea of Hope: America's Underwater Treasures<br>Runtime=%{x}<br>IMDb=%{y}<extra></extra>\", \"hovertext\": [\"Sea of Hope: America's Underwater Treasures\"], \"legendgroup\": \"Sea of Hope: America's Underwater Treasures\", \"marker\": {\"color\": \"#ab63fa\", \"symbol\": \"circle\"}, \"mode\": \"markers\", \"name\": \"Sea of Hope: America's Underwater Treasures\", \"orientation\": \"v\", \"showlegend\": true, \"type\": \"scatter\", \"x\": [48.0], \"xaxis\": \"x\", \"y\": [7.3], \"yaxis\": \"y\"}, {\"hovertemplate\": \"<b>%{hovertext}</b><br><br>Title=Sultan And The Rock Star<br>Runtime=%{x}<br>IMDb=%{y}<extra></extra>\", \"hovertext\": [\"Sultan And The Rock Star\"], \"legendgroup\": \"Sultan And The Rock Star\", \"marker\": {\"color\": \"#FFA15A\", \"symbol\": \"circle\"}, \"mode\": \"markers\", \"name\": \"Sultan And The Rock Star\", \"orientation\": \"v\", \"showlegend\": true, \"type\": \"scatter\", \"x\": [60.0], \"xaxis\": \"x\", \"y\": [5.9], \"yaxis\": \"y\"}, {\"hovertemplate\": \"<b>%{hovertext}</b><br><br>Title=Secrets of the King Cobra<br>Runtime=%{x}<br>IMDb=%{y}<extra></extra>\", \"hovertext\": [\"Secrets of the King Cobra\"], \"legendgroup\": \"Secrets of the King Cobra\", \"marker\": {\"color\": \"#19d3f3\", \"symbol\": \"circle\"}, \"mode\": \"markers\", \"name\": \"Secrets of the King Cobra\", \"orientation\": \"v\", \"showlegend\": true, \"type\": \"scatter\", \"x\": [null], \"xaxis\": \"x\", \"y\": [6.4], \"yaxis\": \"y\"}, {\"hovertemplate\": \"<b>%{hovertext}</b><br><br>Title=Winged Seduction: Birds of Paradise<br>Runtime=%{x}<br>IMDb=%{y}<extra></extra>\", \"hovertext\": [\"Winged Seduction: Birds of Paradise\"], \"legendgroup\": \"Winged Seduction: Birds of Paradise\", \"marker\": {\"color\": \"#FF6692\", \"symbol\": \"circle\"}, \"mode\": \"markers\", \"name\": \"Winged Seduction: Birds of Paradise\", \"orientation\": \"v\", \"showlegend\": true, \"type\": \"scatter\", \"x\": [null], \"xaxis\": \"x\", \"y\": [6.5], \"yaxis\": \"y\"}, {\"hovertemplate\": \"<b>%{hovertext}</b><br><br>Title=The Bears and I<br>Runtime=%{x}<br>IMDb=%{y}<extra></extra>\", \"hovertext\": [\"The Bears and I\"], \"legendgroup\": \"The Bears and I\", \"marker\": {\"color\": \"#B6E880\", \"symbol\": \"circle\"}, \"mode\": \"markers\", \"name\": \"The Bears and I\", \"orientation\": \"v\", \"showlegend\": true, \"type\": \"scatter\", \"x\": [89.0], \"xaxis\": \"x\", \"y\": [6.2], \"yaxis\": \"y\"}, {\"hovertemplate\": \"<b>%{hovertext}</b><br><br>Title=Whispers: An Elephant's Tale<br>Runtime=%{x}<br>IMDb=%{y}<extra></extra>\", \"hovertext\": [\"Whispers: An Elephant's Tale\"], \"legendgroup\": \"Whispers: An Elephant's Tale\", \"marker\": {\"color\": \"#FF97FF\", \"symbol\": \"circle\"}, \"mode\": \"markers\", \"name\": \"Whispers: An Elephant's Tale\", \"orientation\": \"v\", \"showlegend\": true, \"type\": \"scatter\", \"x\": [72.0], \"xaxis\": \"x\", \"y\": [5.0], \"yaxis\": \"y\"}, {\"hovertemplate\": \"<b>%{hovertext}</b><br><br>Title=The Ghosts of Buxley Hall<br>Runtime=%{x}<br>IMDb=%{y}<extra></extra>\", \"hovertext\": [\"The Ghosts of Buxley Hall\"], \"legendgroup\": \"The Ghosts of Buxley Hall\", \"marker\": {\"color\": \"#FECB52\", \"symbol\": \"circle\"}, \"mode\": \"markers\", \"name\": \"The Ghosts of Buxley Hall\", \"orientation\": \"v\", \"showlegend\": true, \"type\": \"scatter\", \"x\": [120.0], \"xaxis\": \"x\", \"y\": [6.2], \"yaxis\": \"y\"}, {\"hovertemplate\": \"<b>%{hovertext}</b><br><br>Title=The Poof Point<br>Runtime=%{x}<br>IMDb=%{y}<extra></extra>\", \"hovertext\": [\"The Poof Point\"], \"legendgroup\": \"The Poof Point\", \"marker\": {\"color\": \"#636efa\", \"symbol\": \"circle\"}, \"mode\": \"markers\", \"name\": \"The Poof Point\", \"orientation\": \"v\", \"showlegend\": true, \"type\": \"scatter\", \"x\": [90.0], \"xaxis\": \"x\", \"y\": [4.7], \"yaxis\": \"y\"}, {\"hovertemplate\": \"<b>%{hovertext}</b><br><br>Title=Sharks of Lost Island<br>Runtime=%{x}<br>IMDb=%{y}<extra></extra>\", \"hovertext\": [\"Sharks of Lost Island\"], \"legendgroup\": \"Sharks of Lost Island\", \"marker\": {\"color\": \"#EF553B\", \"symbol\": \"circle\"}, \"mode\": \"markers\", \"name\": \"Sharks of Lost Island\", \"orientation\": \"v\", \"showlegend\": true, \"type\": \"scatter\", \"x\": [null], \"xaxis\": \"x\", \"y\": [5.7], \"yaxis\": \"y\"}, {\"hovertemplate\": \"<b>%{hovertext}</b><br><br>Title=Man Among Cheetahs<br>Runtime=%{x}<br>IMDb=%{y}<extra></extra>\", \"hovertext\": [\"Man Among Cheetahs\"], \"legendgroup\": \"Man Among Cheetahs\", \"marker\": {\"color\": \"#00cc96\", \"symbol\": \"circle\"}, \"mode\": \"markers\", \"name\": \"Man Among Cheetahs\", \"orientation\": \"v\", \"showlegend\": true, \"type\": \"scatter\", \"x\": [null], \"xaxis\": \"x\", \"y\": [6.6], \"yaxis\": \"y\"}, {\"hovertemplate\": \"<b>%{hovertext}</b><br><br>Title=In Beaver Valley<br>Runtime=%{x}<br>IMDb=%{y}<extra></extra>\", \"hovertext\": [\"In Beaver Valley\"], \"legendgroup\": \"In Beaver Valley\", \"marker\": {\"color\": \"#ab63fa\", \"symbol\": \"circle\"}, \"mode\": \"markers\", \"name\": \"In Beaver Valley\", \"orientation\": \"v\", \"showlegend\": true, \"type\": \"scatter\", \"x\": [32.0], \"xaxis\": \"x\", \"y\": [null], \"yaxis\": \"y\"}],                        {\"legend\": {\"title\": {\"text\": \"Title\"}, \"tracegroupgap\": 0}, \"margin\": {\"t\": 60}, \"template\": {\"data\": {\"bar\": [{\"error_x\": {\"color\": \"#2a3f5f\"}, \"error_y\": {\"color\": \"#2a3f5f\"}, \"marker\": {\"line\": {\"color\": \"#E5ECF6\", \"width\": 0.5}}, \"type\": \"bar\"}], \"barpolar\": [{\"marker\": {\"line\": {\"color\": \"#E5ECF6\", \"width\": 0.5}}, \"type\": \"barpolar\"}], \"carpet\": [{\"aaxis\": {\"endlinecolor\": \"#2a3f5f\", \"gridcolor\": \"white\", \"linecolor\": \"white\", \"minorgridcolor\": \"white\", \"startlinecolor\": \"#2a3f5f\"}, \"baxis\": {\"endlinecolor\": \"#2a3f5f\", \"gridcolor\": \"white\", \"linecolor\": \"white\", \"minorgridcolor\": \"white\", \"startlinecolor\": \"#2a3f5f\"}, \"type\": \"carpet\"}], \"choropleth\": [{\"colorbar\": {\"outlinewidth\": 0, \"ticks\": \"\"}, \"type\": \"choropleth\"}], \"contour\": [{\"colorbar\": {\"outlinewidth\": 0, \"ticks\": \"\"}, \"colorscale\": [[0.0, \"#0d0887\"], [0.1111111111111111, \"#46039f\"], [0.2222222222222222, \"#7201a8\"], [0.3333333333333333, \"#9c179e\"], [0.4444444444444444, \"#bd3786\"], [0.5555555555555556, \"#d8576b\"], [0.6666666666666666, \"#ed7953\"], [0.7777777777777778, \"#fb9f3a\"], [0.8888888888888888, \"#fdca26\"], [1.0, \"#f0f921\"]], \"type\": \"contour\"}], \"contourcarpet\": [{\"colorbar\": {\"outlinewidth\": 0, \"ticks\": \"\"}, \"type\": \"contourcarpet\"}], \"heatmap\": [{\"colorbar\": {\"outlinewidth\": 0, \"ticks\": \"\"}, \"colorscale\": [[0.0, \"#0d0887\"], [0.1111111111111111, \"#46039f\"], [0.2222222222222222, \"#7201a8\"], [0.3333333333333333, \"#9c179e\"], [0.4444444444444444, \"#bd3786\"], [0.5555555555555556, \"#d8576b\"], [0.6666666666666666, \"#ed7953\"], [0.7777777777777778, \"#fb9f3a\"], [0.8888888888888888, \"#fdca26\"], [1.0, \"#f0f921\"]], \"type\": \"heatmap\"}], \"heatmapgl\": [{\"colorbar\": {\"outlinewidth\": 0, \"ticks\": \"\"}, \"colorscale\": [[0.0, \"#0d0887\"], [0.1111111111111111, \"#46039f\"], [0.2222222222222222, \"#7201a8\"], [0.3333333333333333, \"#9c179e\"], [0.4444444444444444, \"#bd3786\"], [0.5555555555555556, \"#d8576b\"], [0.6666666666666666, \"#ed7953\"], [0.7777777777777778, \"#fb9f3a\"], [0.8888888888888888, \"#fdca26\"], [1.0, \"#f0f921\"]], \"type\": \"heatmapgl\"}], \"histogram\": [{\"marker\": {\"colorbar\": {\"outlinewidth\": 0, \"ticks\": \"\"}}, \"type\": \"histogram\"}], \"histogram2d\": [{\"colorbar\": {\"outlinewidth\": 0, \"ticks\": \"\"}, \"colorscale\": [[0.0, \"#0d0887\"], [0.1111111111111111, \"#46039f\"], [0.2222222222222222, \"#7201a8\"], [0.3333333333333333, \"#9c179e\"], [0.4444444444444444, \"#bd3786\"], [0.5555555555555556, \"#d8576b\"], [0.6666666666666666, \"#ed7953\"], [0.7777777777777778, \"#fb9f3a\"], [0.8888888888888888, \"#fdca26\"], [1.0, \"#f0f921\"]], \"type\": \"histogram2d\"}], \"histogram2dcontour\": [{\"colorbar\": {\"outlinewidth\": 0, \"ticks\": \"\"}, \"colorscale\": [[0.0, \"#0d0887\"], [0.1111111111111111, \"#46039f\"], [0.2222222222222222, \"#7201a8\"], [0.3333333333333333, \"#9c179e\"], [0.4444444444444444, \"#bd3786\"], [0.5555555555555556, \"#d8576b\"], [0.6666666666666666, \"#ed7953\"], [0.7777777777777778, \"#fb9f3a\"], [0.8888888888888888, \"#fdca26\"], [1.0, \"#f0f921\"]], \"type\": \"histogram2dcontour\"}], \"mesh3d\": [{\"colorbar\": {\"outlinewidth\": 0, \"ticks\": \"\"}, \"type\": \"mesh3d\"}], \"parcoords\": [{\"line\": {\"colorbar\": {\"outlinewidth\": 0, \"ticks\": \"\"}}, \"type\": \"parcoords\"}], \"pie\": [{\"automargin\": true, \"type\": \"pie\"}], \"scatter\": [{\"marker\": {\"colorbar\": {\"outlinewidth\": 0, \"ticks\": \"\"}}, \"type\": \"scatter\"}], \"scatter3d\": [{\"line\": {\"colorbar\": {\"outlinewidth\": 0, \"ticks\": \"\"}}, \"marker\": {\"colorbar\": {\"outlinewidth\": 0, \"ticks\": \"\"}}, \"type\": \"scatter3d\"}], \"scattercarpet\": [{\"marker\": {\"colorbar\": {\"outlinewidth\": 0, \"ticks\": \"\"}}, \"type\": \"scattercarpet\"}], \"scattergeo\": [{\"marker\": {\"colorbar\": {\"outlinewidth\": 0, \"ticks\": \"\"}}, \"type\": \"scattergeo\"}], \"scattergl\": [{\"marker\": {\"colorbar\": {\"outlinewidth\": 0, \"ticks\": \"\"}}, \"type\": \"scattergl\"}], \"scattermapbox\": [{\"marker\": {\"colorbar\": {\"outlinewidth\": 0, \"ticks\": \"\"}}, \"type\": \"scattermapbox\"}], \"scatterpolar\": [{\"marker\": {\"colorbar\": {\"outlinewidth\": 0, \"ticks\": \"\"}}, \"type\": \"scatterpolar\"}], \"scatterpolargl\": [{\"marker\": {\"colorbar\": {\"outlinewidth\": 0, \"ticks\": \"\"}}, \"type\": \"scatterpolargl\"}], \"scatterternary\": [{\"marker\": {\"colorbar\": {\"outlinewidth\": 0, \"ticks\": \"\"}}, \"type\": \"scatterternary\"}], \"surface\": [{\"colorbar\": {\"outlinewidth\": 0, \"ticks\": \"\"}, \"colorscale\": [[0.0, \"#0d0887\"], [0.1111111111111111, \"#46039f\"], [0.2222222222222222, \"#7201a8\"], [0.3333333333333333, \"#9c179e\"], [0.4444444444444444, \"#bd3786\"], [0.5555555555555556, \"#d8576b\"], [0.6666666666666666, \"#ed7953\"], [0.7777777777777778, \"#fb9f3a\"], [0.8888888888888888, \"#fdca26\"], [1.0, \"#f0f921\"]], \"type\": \"surface\"}], \"table\": [{\"cells\": {\"fill\": {\"color\": \"#EBF0F8\"}, \"line\": {\"color\": \"white\"}}, \"header\": {\"fill\": {\"color\": \"#C8D4E3\"}, \"line\": {\"color\": \"white\"}}, \"type\": \"table\"}]}, \"layout\": {\"annotationdefaults\": {\"arrowcolor\": \"#2a3f5f\", \"arrowhead\": 0, \"arrowwidth\": 1}, \"autotypenumbers\": \"strict\", \"coloraxis\": {\"colorbar\": {\"outlinewidth\": 0, \"ticks\": \"\"}}, \"colorscale\": {\"diverging\": [[0, \"#8e0152\"], [0.1, \"#c51b7d\"], [0.2, \"#de77ae\"], [0.3, \"#f1b6da\"], [0.4, \"#fde0ef\"], [0.5, \"#f7f7f7\"], [0.6, \"#e6f5d0\"], [0.7, \"#b8e186\"], [0.8, \"#7fbc41\"], [0.9, \"#4d9221\"], [1, \"#276419\"]], \"sequential\": [[0.0, \"#0d0887\"], [0.1111111111111111, \"#46039f\"], [0.2222222222222222, \"#7201a8\"], [0.3333333333333333, \"#9c179e\"], [0.4444444444444444, \"#bd3786\"], [0.5555555555555556, \"#d8576b\"], [0.6666666666666666, \"#ed7953\"], [0.7777777777777778, \"#fb9f3a\"], [0.8888888888888888, \"#fdca26\"], [1.0, \"#f0f921\"]], \"sequentialminus\": [[0.0, \"#0d0887\"], [0.1111111111111111, \"#46039f\"], [0.2222222222222222, \"#7201a8\"], [0.3333333333333333, \"#9c179e\"], [0.4444444444444444, \"#bd3786\"], [0.5555555555555556, \"#d8576b\"], [0.6666666666666666, \"#ed7953\"], [0.7777777777777778, \"#fb9f3a\"], [0.8888888888888888, \"#fdca26\"], [1.0, \"#f0f921\"]]}, \"colorway\": [\"#636efa\", \"#EF553B\", \"#00cc96\", \"#ab63fa\", \"#FFA15A\", \"#19d3f3\", \"#FF6692\", \"#B6E880\", \"#FF97FF\", \"#FECB52\"], \"font\": {\"color\": \"#2a3f5f\"}, \"geo\": {\"bgcolor\": \"white\", \"lakecolor\": \"white\", \"landcolor\": \"#E5ECF6\", \"showlakes\": true, \"showland\": true, \"subunitcolor\": \"white\"}, \"hoverlabel\": {\"align\": \"left\"}, \"hovermode\": \"closest\", \"mapbox\": {\"style\": \"light\"}, \"paper_bgcolor\": \"white\", \"plot_bgcolor\": \"#E5ECF6\", \"polar\": {\"angularaxis\": {\"gridcolor\": \"white\", \"linecolor\": \"white\", \"ticks\": \"\"}, \"bgcolor\": \"#E5ECF6\", \"radialaxis\": {\"gridcolor\": \"white\", \"linecolor\": \"white\", \"ticks\": \"\"}}, \"scene\": {\"xaxis\": {\"backgroundcolor\": \"#E5ECF6\", \"gridcolor\": \"white\", \"gridwidth\": 2, \"linecolor\": \"white\", \"showbackground\": true, \"ticks\": \"\", \"zerolinecolor\": \"white\"}, \"yaxis\": {\"backgroundcolor\": \"#E5ECF6\", \"gridcolor\": \"white\", \"gridwidth\": 2, \"linecolor\": \"white\", \"showbackground\": true, \"ticks\": \"\", \"zerolinecolor\": \"white\"}, \"zaxis\": {\"backgroundcolor\": \"#E5ECF6\", \"gridcolor\": \"white\", \"gridwidth\": 2, \"linecolor\": \"white\", \"showbackground\": true, \"ticks\": \"\", \"zerolinecolor\": \"white\"}}, \"shapedefaults\": {\"line\": {\"color\": \"#2a3f5f\"}}, \"ternary\": {\"aaxis\": {\"gridcolor\": \"white\", \"linecolor\": \"white\", \"ticks\": \"\"}, \"baxis\": {\"gridcolor\": \"white\", \"linecolor\": \"white\", \"ticks\": \"\"}, \"bgcolor\": \"#E5ECF6\", \"caxis\": {\"gridcolor\": \"white\", \"linecolor\": \"white\", \"ticks\": \"\"}}, \"title\": {\"x\": 0.05}, \"xaxis\": {\"automargin\": true, \"gridcolor\": \"white\", \"linecolor\": \"white\", \"ticks\": \"\", \"title\": {\"standoff\": 15}, \"zerolinecolor\": \"white\", \"zerolinewidth\": 2}, \"yaxis\": {\"automargin\": true, \"gridcolor\": \"white\", \"linecolor\": \"white\", \"ticks\": \"\", \"title\": {\"standoff\": 15}, \"zerolinecolor\": \"white\", \"zerolinewidth\": 2}}}, \"xaxis\": {\"anchor\": \"y\", \"domain\": [0.0, 1.0], \"title\": {\"text\": \"Runtime\"}}, \"yaxis\": {\"anchor\": \"x\", \"domain\": [0.0, 1.0], \"title\": {\"text\": \"IMDb\"}}},                        {\"responsive\": true}                    ).then(function(){\n",
       "                            \n",
       "var gd = document.getElementById('67c5f39a-53cc-44fb-b92d-31a91b6876e4');\n",
       "var x = new MutationObserver(function (mutations, observer) {{\n",
       "        var display = window.getComputedStyle(gd).display;\n",
       "        if (!display || display === 'none') {{\n",
       "            console.log([gd, 'removed!']);\n",
       "            Plotly.purge(gd);\n",
       "            observer.disconnect();\n",
       "        }}\n",
       "}});\n",
       "\n",
       "// Listen for the removal of the full notebook cells\n",
       "var notebookContainer = gd.closest('#notebook-container');\n",
       "if (notebookContainer) {{\n",
       "    x.observe(notebookContainer, {childList: true});\n",
       "}}\n",
       "\n",
       "// Listen for the clearing of the current output cell\n",
       "var outputEl = gd.closest('.output');\n",
       "if (outputEl) {{\n",
       "    x.observe(outputEl, {childList: true});\n",
       "}}\n",
       "\n",
       "                        })                };                });            </script>        </div>"
      ]
     },
     "metadata": {},
     "output_type": "display_data"
    }
   ],
   "source": [
    "fig = px.scatter(data_df.query(\"Disney==1\"), x=\"Runtime\", y=\"IMDb\", color=\"Title\",\n",
    "                 hover_name=\"Title\", log_x=False, size_max=60)\n",
    "fig.show()"
   ]
  },
  {
   "cell_type": "markdown",
   "metadata": {},
   "source": [
    "if i drop NAN in IMDB, i can use for size"
   ]
  },
  {
   "cell_type": "code",
   "execution_count": null,
   "metadata": {},
   "outputs": [],
   "source": []
  }
 ],
 "metadata": {
  "kernelspec": {
   "display_name": "Python 3",
   "language": "python",
   "name": "python3"
  },
  "language_info": {
   "codemirror_mode": {
    "name": "ipython",
    "version": 3
   },
   "file_extension": ".py",
   "mimetype": "text/x-python",
   "name": "python",
   "nbconvert_exporter": "python",
   "pygments_lexer": "ipython3",
   "version": "3.8.5"
  }
 },
 "nbformat": 4,
 "nbformat_minor": 4
}
